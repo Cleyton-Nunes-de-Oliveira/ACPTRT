{
 "cells": [
  {
   "cell_type": "code",
   "execution_count": 28,
   "id": "84279770",
   "metadata": {},
   "outputs": [],
   "source": [
    "from transformers import AutoTokenizer\n",
    "from transformers import AutoModelForTokenClassification\n",
    "from transformers import AutoModelForQuestionAnswering\n",
    "from transformers import pipeline\n",
    "#import transformers\n",
    "import datasets\n",
    "\n",
    "from nltk.probability import FreqDist\n"
   ]
  },
  {
   "cell_type": "code",
   "execution_count": 2,
   "id": "b4231496",
   "metadata": {},
   "outputs": [
    {
     "data": {
      "text/plain": [
       "Dataset({\n",
       "    features: ['text', 'disp', 'label'],\n",
       "    num_rows: 5900\n",
       "})"
      ]
     },
     "execution_count": 2,
     "metadata": {},
     "output_type": "execute_result"
    }
   ],
   "source": [
    "# Carregamento do Dataset criado\n",
    "FOLDER_BASE = \"/home/info/MyNotebooks/Datasets/SentencasTRT1/\"\n",
    "#DS_FOLDER   = FOLDER_BASE + \"DS/\"\n",
    "\n",
    "DsClassAnot = datasets.load_from_disk(FOLDER_BASE+\"DsClassAnot/\")\n",
    "DsClassAnot"
   ]
  },
  {
   "cell_type": "code",
   "execution_count": 15,
   "id": "d7c2ecfb",
   "metadata": {},
   "outputs": [
    {
     "data": {
      "text/plain": [
       "'PODER JUDICIÁRIO JUSTIÇA DO TRABALHO TRIBUNAL REGIONAL DO TRABALHO DA 1 REGIÃO 65 Vara do Trabalho do Rio de Janeiro ATSum 01010424420205010065 RECLAMANTE: JAQUELINE MIRANDA DA SILVA RECLAMADO: J A B GOZ SERVICOS MEDICOS     SENTENÇA PJe  RELATÓRIO  fica dispensado o relatório a teor do art 852I da CLT   Tratandose de reclamação trabalhista submetida ao rito sumaríssimo  FUNDAMENTAÇÃO  INCOMPETÊNCIA MATERIAL DA JUSTIÇA DO TRABALHO  Nos termos da Súmula Vinculante 53 do STF e do art 485 IV do CPC cc  art  769  da  CLT  extingo  o  pedido  sem  resolução  do  mérito  quanto    execução  das contribuições previdenciárias sobre os valores já pagos durante a contratualidade  CONFISSÃO FICTA  A ré apesar de regularmente notificada não compareceu  audiência de instrução  motivo  por  que  a  declaro  confessa  confissão  ficta  quanto  aos  fatos  contra  ela alegados Súmula 74 I do TST  TÉRMINO DO CONTRATO DE EMPREGO  recepcionista tendo sido dispensada sem justa causa em 12112020  Alega  ter  sido  admitida  na  ré  em  01032017  na  função  de  Aduz  que  o  empregador  veio  a  óbito  em  21102019  conforme documento que segue Após o falecimento do empregador a reclamante continuou a prestar serviços de forma física até junho de 2020 quando então foram devolvidas as chaves do imóvel permanecendo o vínculo até 12112020 e recebendo os respectivos salários até então através de depósitos efetuados pelo Senhor Bruno Maia Goz Em 12112020 o Senhor Bruno Maia Goz informou que não haveria mais condições de arcar com o pagamento dos salários a tempo e modo dispensando assim a reclamante na data de 12112020 como comprova a conversa via WhatsApp que segue  A ré afirma que a empresa cessou suas atividades em definitivo no dia 21022020 quando a Sra Jaqueline a partir de então não prestou mais serviços  clínica que desenvolvia atividades de serviços de medicina do trabalho Do período de outubro2019 quando o sócio faleceu até  referida data 21022020 um amigo médico finalizou os trabalhos já agendados com clientes mas depois a clínica cessou as atividades como se comprova através de  emails  que  colacionamos  em  anexo  prova  documental  que  demonstram  algumas mensagens enviadas aos clientes e que Independentemente da natureza da relação havida entre a citada empresa e a autora é fato que a rescisão do contrato se operou com a morte do empregador por se tratar de empresa individual o que motivou o fechamento das portas da clínica e a quebra na continuidade da prestação dos serviços 51 Não é verdade que após o   falecimento do proprietário da clínica tenha a reclamante continuado a prestar serviços até junho de 2020 porque neste referido mês as chaves do imóvel foram devolvidas mas a clínica já não atendia mais a clientela desde 22022020 emails anexos 52 Não há de se falar em relação entre as partes seja por qualquer natureza até 12112020 pois a reclamante permaneceu em sua residência e não dedicou qualquer força de trabalho  clínica com a qual pretende se vincular por relação de emprego desde 22022020 O filho do falecido sócio  Sr Bruno Maia Goz  apenas combinou com a autora que para indenizála pelo período da prestação R 150000 por 10 dez meses totalizando R 1500000 53 Por equívoco o Sr Bruno Maia Goz  que não tem intimidade com os termos jurídicos próprios a uma relação de prestação de serviços ou de emprego  na mensagem trocada com a autora usou o termo salário simplesmente porque de boafé havia combinado pagar pela negociação de parcelas mensais em valores equivalentes  remuneração  que  a  autora  recebia  quando  seu  pai  faleceu  Porém  tal  fato  não  induz  a prorrogação do contrato até 12112020  Não há controvérsia com relação ao fato de que a autora permaneceu trabalhando após a morte do empregador residindo a controvérsia apenas com relação  data de término do contrato Ademais o vínculo se deu com a pessoa jurídica e não com o empregador pessoa física  Além  da  confissão  ficta  da  ré  não  há  nos  autos  TRCT  ou  qualquer documento  que  comprove  as  alegações  defensivas  da  ré  pelo  que  presumo  que  a  autora permaneceu trabalhando até 12112020 vide documento de id 1520c00  Pág 2  seguintes obrigações observados os limites da exordial:  Julgo procedentes os pedidos para condenar a ré ao cumprimento das  De pagar:   aviso prévio proporcional indenizado 39 dias  salário de outubro2020   saldo de salário de novembro2020 12 dias   férias em dobro do período 20182019 simples do período 20192020 e proporcional do período 20202021 1012 já considerada a projeção do aviso prévio todas com 13  e já considerada a projeção do aviso prévio   gratificação natalina proporcional de 2020 0912 nos limites do pedido  adicional  de  insalubridade  dos  meses  de  novembro  a  junho2020 conforme recibos de id 019e4b1 a ré efetuava o pagamento do referido adicional não havendo nos autos comprovação de que tenha havido alteração no local de trabalho   multas dos arts 477 não há controvérsia quanto  existência e quanto ao inadimplemento das verbas resilitórias e 467 a incidir sobre as verbas resilitórias em sentido estrito que são aquelas devidas exclusivamente por conta do término contratual: saldo de salário do último mês trabalhado gratificação natalina proporcional do último ano trabalhado férias proporcionais do último período aquisitivo e indenização compensatória de 40 do FGTS da CLT  De fazer:    anotar a CTPS da autora para constar o término contratual em 1211 2020 nos limites do pedido em dia e horário a serem divulgados pela Secretaria desta Vara sob pena de multa de R 100000 No caso de inércia da ré a Secretaria procederá  anotação sem prejuízo da execução da multa    depositar  FGTS  de  todo  período  contratual    exceção  do  mês  de março2017 bem como indenização compensatória de 40 na conta vinculada da autora art 18  1 da Lei 803690 no prazo de 05 dias após intimada para tanto a ser comprovado nos autos no mesmo prazo sob pena de multa de R 100000 arts 536  1 e 537 do CPC cc art 769 da CLT Em caso de descumprimento procederseá  imediata execução dos valores devidos sem prejuízo do pagamento da multa   no mesmo prazo expedir a guia TRCTconectividade social para saque do FGTS sob pena de multa de R 100000 Em caso de descumprimento a Secretaria expedirá alvará para o respectivo saque sem prejuízo do pagamento da multa  no mesmo prazo expedir as guias CDSD para habilitação ao programa do SeguroDesemprego sob pena de pagamento de indenização substitutiva Súmula 389 II do TST  GRATUIDADE DE JUSTIÇA  Lei 134672017 uma vez que se trata de ação proposta após a vigência da referida lei  Aplico  hipótese as novas disposições acerca da matéria trazidas pela  O art 790  3 da CLT com a nova redação conferida pela Lei  134672017 estabelece que É facultado aos juízes órgãos julgadores e presidentes dos tribunais do trabalho de qualquer instância conceder a requerimento ou de ofício o benefício da justiça gratuita inclusive quanto a traslados e instrumentos queles que perceberem salário igual ou inferior a 40 quarenta por cento do limite máximo dos benefícios do Regime Geral de Previdência Social  Considerandose que a análise do requerimento está sendo feita por  ocasião da prolação da sentença deve ser levada em conta a situação econômica atual da autora  Ressaltese que o art 99  3 do CPC aplicável supletivamente ao  processo do trabalho art 15 do CPC estabelece que Presumese verdadeira a alegação de insuficiência deduzida exclusivamente por pessoa natural  E fato é que não há provas de que a autora receba salário atual superior a R 257342 correspondente a 40 do limite máximo do Regime Geral da Previdência Social  RGPS atualmente fixado em R 643357 nos termos da Portaria SEPRT4772021  suas turmas:   No mesmo sentido inclusive já decidiu o ETST por meio de uma de  AÇÃO TRABALHISTA AJUIZADA NA VIGÊNCIA DA LEI N  1346717 RECURSO DE REVISTA DO AUTOR  BENEFÍCIO DA JUSTIÇA GRATUITA COMPROVAÇÃO DE INSUFICIÊNCIA DE RECURSOS POR SIMPLES DECLARAÇÃO CUSTAS PROCESSUAIS E HONORÁRIOS ADVOCATÍCIOS SUCUMBENCIAIS TRANSCENDÊNCIA JURÍDICA RECONHECIDA Cingese a controvérsia a definir se a simples declaração de hipossuficiência econômica é suficiente para a comprovação do estado de pobreza   do reclamante para fins de deferimento dos benefícios da justiça gratuita em ação ajuizada após a vigência da Lei n 134672017 Segundo o artigo 790  3 e 4 da CLT com as alterações impostas pela Lei n 134672017 o benefício da gratuidade da Justiça será concedido queles que perceberem salário igual ou inferior a 40 do limite máximo dos benefícios do Regime Geral de Previdência Social ou queles que comprovarem insuficiência de recursos Já o artigo 5 LXXIV da Constituição Federal consagra o dever do Estado de prestar assistência jurídica integral e gratuita aos que comprovarem insuficiência de recursos e o artigo 99 3 do CPC de aplicação supletiva ao processo do trabalho consoante autorização expressa no artigo 15 do mesmo Diploma dispõe presumirse verdadeira a alegação de insuficiência deduzida por pessoa natural A partir da interpretação sistemática desses preceitos não é possível exigir dos trabalhadores que buscam seus direitos na Justiça do Trabalho  na sua maioria desempregados  a comprovação de estarem sem recursos para o pagamento das custas do processo Devese presumir verdadeira a declaração de pobreza firmada pelo autor na petição inicial ou feita por seu advogado com poderes específicos para tanto No tocante aos honorários advocatícios além dessa compreensão é certo que artigo 98 caput e  1 do CPC os inclui entre as despesas abarcadas pelo beneficiário da gratuidade da justiça Ainda que o  2 do mencionado preceito disponha que a concessão da gratuidade não afasta a responsabilidade do beneficiário pelos honorários advocatícios decorrentes de sua sucumbência o  3 determina que tal obrigação fique sob condição suspensiva pelo prazo de 5 anos e somente poderá ser exigida se o credor demonstrar que deixou de existir a situação de insuficiência de recursos justificadora da concessão da gratuidade de justiça extinguindose após o decurso do prazo mencionado Essa regra foi incorporada na sua quase totalidade  CLT por meio da introdução do artigo 791A especificamente no seu  4 muito embora o prazo da condição suspensiva seja fixado em dois anos e contenha esdrúxula previsão de possibilidade de cobrança se o devedor obtiver créditos em outro processo aptos a suportar as despesas Dizse esdrúxula pelo conteúdo genérico da autorização e por não especificar a natureza do crédito obtido que em regra no processo do trabalho resulta do descumprimento de obrigações comezinhas do contrato de trabalho primordialmente de natureza alimentar circunstância que o torna impenhorável na forma prevista no artigo 833 IV do CPC com a ressalva contida no seu  2 Nesse contexto o beneficiário da justiça gratuita somente suportará as despesas decorrentes dos honorários advocatícios caso o credor demonstre a existência de créditos cujo montante promova indiscutível e substancial alteração de sua condição socioeconômica e para tanto não se pode considerar de modo genérico o percebimento de quaisquer créditos em outros processos pois neste caso em última análise se autorizaria a constrição de verba de natureza alimentar Precedentes Por fim deve ser reduzido o percentual arbitrado para o mínimo previsto em lei considerandose que o autor desistiu da ação antes mesmo da habilitação dos advogados das rés e da realização da denominada audiência inaugural de modo a evitar o deslocamento das partes e consequente incremento das despesas processuais pleito homologado pelo juiz Em tal caso não houve maiores gastos pelas demandadas e o julgador não pode deixar de observar tais elementos fáticos ao definir o percentual a incidir a teor da regra contida no  2 do artigo 791A da CLT Recurso de revista conhecido e provido  RR  105209120185030062  7 Turma  Relator: Ministro Cláudio Mascarenhas Brandão  Acórdão publicado em 30062020   Em razão disso não infirmada a presunção legal estabelecida no art  790  3 da CLT concedo  parte autora os benefícios da justiça gratuita isentandoa do pagamento das custas do processo     HONORÁRIOS ADVOCATÍCIOS  advocatícios deve ser analisado sob a ótica da chamada reforma trabalhista  Tendo em vista a data da propositura da ação o tema dos honorários   134672017 estabelece que:  Nesse sentido o art 791A da CLT com redação conferida pela Lei  Art  791A   Ao  advogado  ainda  que  atue  em  causa  própria  serão devidos honorários de sucumbência fixados entre o mínimo de 5 cinco por cento e o máximo de 15 quinze por cento sobre o valor que resultar da liquidação da sentença do proveito econômico obtido ou não sendo possível mensurálo sobre o valor atualizado da causa  1o  Os honorários são devidos também nas ações contra a Fazenda Pública e nas ações em que a parte estiver assistida ou substituída pelo sindicato de sua categoria  2o  Ao fixar os honorários o juízo observará:                   I  o grau de zelo do profissional                        II  o lugar de prestação do serviço                      III  a natureza e a importância da causa                           serviço                         IV  o trabalho realizado pelo advogado e o tempo exigido para o seu  Condeno  a  ré  ao  pagamento  de  honorários  de  sucumbência  no percentual de 5 sobre o valor dos pedidos julgados procedentes a partir do que resultar da liquidação da sentença     DESCONTOS FISCAIS E PREVIDENCIÁRIOS  Liquidação por cálculos  Natureza jurídica das parcelas art 832  3 da CLT conforme o art 28  9 da Lei 821291 cabendo  ré efetuar e comprovar o recolhimento das contribuições previdenciárias autorizada a retenção da quotaparte da autora OJ 363 da SBDII do TST  Descontos fiscais pela autora nos termos do art 12A da Lei 771388 e da Súmula 368 do TST cabendo  ré efetuar e comprovar o respectivo recolhimento Observese o disposto na OJ 400 da SBDII do TST  JUROS DE MORA E CORREÇÃO MONETÁRIA  Por força do caráter vinculante da decisão art 102  2 da CRFB e art 927 I do CPC cc art 769 da CLT aplicável o decidido no voto conjunto de relatoria do Excelentíssimo Ministro Gilmar Mendes proferido nos autos das ADCs 58 e 59 e ADIs 5867 e 6021:  Ante o exposto julgo parcialmente procedentes as ações diretas de inconstitucionalidade e as ações declaratórias de constitucionalidade para conferir interpretação conforme  Constituição ao art 879 7 e a o art 899 4 da CLT na redação dada pela Lei 13467 de 2017 Nesse sentido há de se considerar que  atualização dos créditos decorrentes de condenação judicial e    correção  dos  depósitos  recursais  em  contas  judiciais  na  Justiça  do  Trabalho deverão ser aplicados até que sobrevenha solução legislativa os mesmos índices de correção monetária e de juros vigentes para as hipóteses de condenações cíveis em geral quais sejam a incidência do IPCAE na fase préjudicial e a partir da citação a incidência da taxa SELIC art 406 do Código Civil   Por meio da referida decisão e com base no art 406 do CC decidiuse pela aplicação da taxa SELIC a englobar em um único índice a atualização monetária e os juros de mora  Já quando do paradigmático julgamento nos autos da ADI 4930DF de relatoria do Excelentíssimo Ministro Moreira Alves firmouse a compreensão de que A taxa referencial TR não é indice de correção monetária pois refletindo as variações do custo primário da captação dos depósitos a prazo fixo não constitui índice que reflita a variação do poder aquisitivo da moeda  Tal entendimento ainda é o prevalecente no âmbito do ESTF conforme também explicitado nas decisões proferidas nos autos da ADI 4357 da ADI 4425 e do RE 870947 com repercussão geral reconhecida ao se abordar a inconstitucionalidade do  12 do art 100 da CRFB que determinava a atualização monetária dos precatórios pelo índice oficial de remuneração básica da caderneta de poupança atrelado  TR  Nesse sentido no julgamento da ADI 4357 constou que:   O que se conclui portanto é que o  12 do art 100 da Constituição  acabou  por artificializar  o  conceito  de  atualização  monetária Conceito que está ontologicamente associado  manutenção do valor real da moeda Valor real que só se mantém pela aplicação de índice que reflita a desvalorização dessa moeda em determinado período Ora se a correção monetária dos valores inscritos em precatório deixa de corresponder  perda do poder aquisitivo da moeda o direito reconhecido por sentença judicial transitada  em  julgado  será  satisfeito  de  forma  excessiva  ou  de  revés deficitária Em ambas as hipóteses com enriquecimento ilícito de uma das partes da relação jurídica  Basta ver que nos últimos quinze anos 1996 a 2010 enquanto a TR taxa de remuneração da poupança foi de 5577 a inflação foi de 9785 de acordo com o IPCA Não há como portanto deixar de reconhecer a  inconstitucionalidade  da  norma  atacada  na  medida  em  que  a  fixação  da remuneração básica da caderneta de poupança como índice de correção monetária dos valores inscritos em precatório implica indevida e intolerável constrição  eficácia da atividade jurisdicional uma afronta  garantia da coisa julgada e por reverberação ao protoprincípio da separação dos Poderes   Em igual direção trecho da ementa do quanto decidido na ADI 4425:    A  atualização  monetária  dos  débitos  fazendários inscritos em precatórios segundo o índice oficial de remuneração da caderneta de poupança viola o direito fundamental de propriedade CF art 5 XXII na medida em que é manifestamente incapaz de preservar o valor real do crédito de que é titular o cidadão A inflação fenômeno tipicamente econômicomonetário mostrase insuscetível de captação apriorística ex ante de modo que o meio escolhido  pelo  legislador  constituinte  remuneração  da  caderneta  de poupança é inidôneo a promover o fim a que se destina traduzir a inflação do período     Ambas  as  decisões  porque  proferidas  em  sede  de  controle  de constitucionalidade são igualmente vinculantes e portanto de observância obrigatória Ademais nos termos do art 926 caput do CPC cc art 769 da CLT a jurisprudência deve manterse estável íntegra e coerente  A partir de ambas as decisões do STF percebese facilmente que a inflação é o parâmetro central a aferir a aptidão do índice de correção monetária adotado para manter o valor real da moeda em determinado período resguardandose a um só tempo a isonomia art 5 caput da CRFB o direito de propriedade art 5 XXII da CRFB a proteção da coisa julgada art 5 XXXVI da CRFB e a efetividade do título executivo judicial mantendo se  o  equilíbrio  econômicofinanceiro  entre  os  sujeitos  da  relação  jurídica  sob  pena  de  se chancelar o enriquecimento ilícito do devedor  Diante de tal cenário o TST em sessão realizada no dia 04082015 na Arguição de Inconstitucionalidade 4796020115040231 declarou a inconstitucionalidade do art 39 da Lei 81771991 quanto  adoção da TR como índice de correção monetária dos débitos trabalhistas definindo o IPCAE como índice aplicável tendo em vista o decidido pelo STF nas ADIs 4357 4372 4440 e 4425 e na Ação Cautelar 3764 MCDF em 24032015 Quanto ao decidido pelo STF na mencionada Ação Cautelar 3764DF sob a relatoria do Excelentíssimo Ministro Luiz Fux extraise a adoção expressão do IPCAE:  DIREITO CONSTITUCIONAL REGIME DE EXECUÇÃO DA  FAZENDA  PÚBLICA  MEDIANTE  PRECATÓRIO  SUSPENSÃO  DO PAGAMENTO DE REQUISITÓRIOS FEDERAIS PARCELADOS NA FORMA DA EMENDA  CONSTITUCIONAL  N  302000  SUPOSTA  IRREGULARIDADE  NA INCIDÊNCIA DE JUROS LEGAIS SOBRE CADA PARCELA TESE FIXADA PELO SUPREMO  TRIBUNAL  FEDERAL  NO  RE  N  590751  PRINCÍPIOS CONSTITUCIONAIS  DA  SEGURANÇA  JURÍDICA  E  DA  PROTEÇÃO  DA EXPECTATIVA  LEGÍTIMA  SISTEMÁTICA  DE  JUROS  PREVISTA  NA LEGISLAÇÃO  ORÇAMENTÁRIA  FEDERAL  POR  MAIS  DE  UMA  DÉCADA IMPOSSIBILIDADE DE APLICAÇÃO RETROATIVA DO ENTENDIMENTO FIXADO PELO  STF   EMENDA  CONSTITUCIONAL  N  622009  PENDÊNCIA  DE MODULAÇÃO DOS EFEITOS DO JULGAMENTO DAS ADIS N 4357 E 4425 DISCUSSÃO QUANTO AO ÍNDICE DE ATUALIZAÇÃO MONETÁRIA APLICÁVEL AOS  REQUISITÓRIOS  DA  UNIÃO  ATÉ  A  DECISÃO  FINAL  DO  STF NECESSIDADE  DE  OBSERVÂNCIA  IMEDIATA  DA  LEI  DE  DIRETRIZES ORÇAMENTÁRIAS INCIDÊNCIA DO ÍNDICE DE PREÇOS AO CONSUMIDOR AMPLO ESPECIAL IPCAE AOS PRECATÓRIOS FEDERAIS MEDIDA LIMINAR CONCEDIDA  1 O princípio constitucional da segurança jurídica interdita condutas estatais que frustrem legítimas expectativas despertadas nos cidadãos exigindo  a  manutenção  dos  atos  administrativos  ou  legislativos  pretéritos  que serviram de base para o surgimento da confiança ainda que tais atos tenham sido posteriormente alterados ou invalidados   2  A  suspensão  do  pagamento  de  precatórios  federais parcelados na forma da EC n 302000 ameaça a segurança jurídica e a proteção da confiança legítima uma vez que a própria União entre os anos de 2002 e 2011 interpretando o comando do art 78 do ADCT instituiu o pagamento de juros legais em regime de capitalização simples sobre cada parcela devida a partir da segunda consoante  registrado  nas  leis  de  diretrizes  orçamentárias  vigentes  em  cada exercício financeiro   3  A  paralisação  no  cumprimento  de  obrigações constitucionais como o são as dívidas judiciais da União enseja consequências graves sobre o direito dos credores do Poder Público sobretudo porque se trata de precatórios já sujeitos a regime de parcelamento   4 O art 100 12 da CRFB incluído pela EC n 622009 foi declarado inconstitucional pelo Supremo Tribunal Federal na parte em que fixou a taxa  referencial  TR  como  índice  de  correção  monetária  dos  precatórios  e requisições de pequeno valor devidos pela Fazenda Pública cf ADIs n 4357 e 4425  rel  Min  Ayres  Britto  rel  p  acórdão  Min  Luiz  Fux  julgamento  em 14032013 Dje188 de 25092014   5 O Plenário do STF em momento nenhum determinou a manutenção da eficácia do art 100 12 da CRFB  União e s suas entidades sendo certo que a decisão monocrática de 11042013 referendada em 24102013 não abrange a União seja pelos seus fundamentos vinculados  paralisação do pagamento de precatórios por Estados e Municípios sujeitos ao regime especial criado pela EC n 622009 seja pelos seus termos expressos que somente aludem aos Tribunais de Justiça sem mencionar os Tribunais Regionais Federais   6 A União por intermédio da Presidência da República ratificou  a  viabilidade  orçamentária  da  aplicação  do  IPCAE  para  fins  de atualização  dos  débitos  judiciais  da  Fazenda  Pública  federal  conforme dispõem as LDOs de 2014 art 27 e de 2015 art 27 Nesse cenário aplicar a TR aos requisitórios da União configuraria evidente retrocesso patrocinado pelo Poder Judiciário uma vez que restabeleceria índice inidôneo a capturar a inflação e em flagrante contrariedade  vontade da União e do Poder Legislativo federal   7  Inexiste  fundamento  jurídicomaterial  que  justifique  a aplicação da TR como índice de correção monetária dos precatóriosRPVs devidos pela  Fazenda  Pública  federal  uma  vez  que  a  União  e  suas  entidades  estão atualmente em dia com suas obrigações de sorte que aplicar um índice de correção já declarado inconstitucional pelo STF terá o único condão de criar um passivo de precatórios e RPVs que hoje não existe na esfera federal alimentando o ciclo de litigância judicial e todos os seus desdobramentos perniciosos para a sociedade brasileira e suas instituições   8 Beneficiar a União com a ultratividade da TR representa nítida manobra de fraude  lei uma vez que permitiria  União atualizar seus débitos com índice manifestamente inferior  inflação e já repudiado pelo STF apostando que em eventual modulação de efeitos pela Corte o período em que vigorou a TR seria validado o que consubstancia evidente uso especulativo do Poder Judiciário em tudo incompatível com o interesse público primário confiado ao Poder Público   9 Medida liminar deferida   Ademais vale ressaltar que em 05122017 a 2 Turma do STF julgou improcedente a Reclamação RCL 22012 ajuizada pela Federação Nacional dos Bancos Fenaban contra decisão do Tribunal Superior do Trabalho TST que determinou a adoção do Índice de Preços ao Consumidor Amplo Especial IPCAE no lugar da Taxa Referencial Diária TRD para a atualização de débitos trabalhistas Prevaleceu o entendimento de que a decisão não configura desrespeito ao julgamento do STF nas Ações Diretas de Inconstitucionalidade ADI  4357  e  4425  que  analisaram  a  emenda  constitucional  sobre  precatórios   http:wwwstfjusbrportalcmsverNoticiaDetalheaspidConteudo363914 HYPERLINK http:wwwstfjusbrportalcmsverNoticiaDetalheaspidConteudo363914caixaBuscaN HY P K http:wwwstfjusbrportalcmsverNoticiaDetalheaspidConteudo363914caixaBuscaNcaixa BuscaN Visualizado em 28012021 Conforme ainda mencionado na ementa do referido julgado o decisum ora impugnado está em consonância com a ratio decidendi da orientação jurisprudencial desta Suprema Corte  R  N  E  L  I  Consoante referido pelo Excelentíssimo Ministro Luiz Fux quando do julgamento  do  RE  870947    SE  em  que  se  confirmou  a  utilização  do  IPCAE  para  fins  de atualização  monetária  Esse  estreito  nexo  entre  correção  monetária  e  inflação  exige  por imperativo de adequação lógica que os instrumentos destinados a realizar a primeira sejam capazes de capturar a segunda Em outras palavras índices de correção monetária devem ser ao menos em tese aptos a refletir a variação de preços de caracteriza o fenômeno inflacionário o que somente será possível se consubstanciarem autênticos índices de preços  Feitos esses esclarecimentos no tocante  jurisprudência do STF acerca da matéria passase  análise dos impactos do decidido nas ADCs 58 e 59 e ADIs 5867 e 6021 sobre os créditos trabalhistas  Conforme já mencionado decidiuse que a partir da citação aplicável exclusivamente a SELIC com base no art 406 do CC a englobar correção monetária e juros de mora  Considerandose  que  a  SELIC  em  2020  mantevese  em  2 https:economiauolcombrnoticiasredacao20201209bccopomselic9dezembrohtm Visualizado em 28012021 e que a inflação no mesmo período segundo o IPCA fechou em 452  https:agenciadenoticiasibgegovbragencianoticias2012agenciade noticiasnoticias29871inflacaoaceleraemdezembroechegaa452em2020amaioralta desde2016 Visualizado em 28012021 rapidamente se percebe que a aplicação da SELIC que repitase pretende conglobar a atualização monetária e os juros de mora sequer é capaz de recompor o valor decorrente da perda inflacionária circunstância que nos termos do já decidido em diversas ocasiões pelo STF implica flagrante ofensa ao direito de propriedade  coisa julgada  eficácia judicial do título executivo e  isonomia  Neste  ponto  ainda  vale  trazer  a  redação  do  art  39    1  da  Lei 81771991 segundo o qual Aos débitos trabalhistas constantes de condenação pela Justiça do Trabalho ou decorrentes dos acordos feitos em reclamatória trabalhista quando não cumpridos nas condições homologadas ou constantes do termo de conciliação serão acrescidos nos juros de mora previstos no caput juros de um por cento ao mês contados do ajuizamento da reclamatória e aplicados pro rata die ainda que não explicitados na sentença ou no termo de conciliação  Embora  reconhecida  a  inconstitucionalidade  da  TR  como  índice  de correção monetária sublinhese que não houve qualquer declaração de inconstitucionalidade acerca do disposto no  1 da Lei 81771991 ou seja quanto  incidência de juros de mora de 1 ao mês para débitos trabalhistas  De igual modo plenamente vigente o art 883 da CLT segundo o qual Não pagando o executado nem garantindo a execução seguirseá penhora dos bens tantos quantos bastem ao pagamento da importância da condenação acrescida de custas e juros de mora  sendo  estes  em  qualquer  caso  devidos a  partir  da  data  em  que  for  ajuizada  a reclamação inicial   Assim ao se decidir pela imposição da SELIC atualização monetária  juros de mora aplicouse índice que além de não corresponder quele tido como adequado pelo mesmo STF aos precatórios em geral IPCAE não é capaz de sequer recompor a perda inflacionária  tendo  gerado  perda  ainda  maior  quando  comparado  com  a  sistemática tradicionalmente aplicada na Justiça do Trabalho por força de lei específica e não declarada inconstitucional de juros de mora de 1 ao mês  Somese  a  isso  o  fato  de  o  crédito  trabalhista  por  sua  natureza eminentemente  alimentar  destinado  a  resguardar  a  sobrevivência  minimamente  digna  do trabalhador e de sua família possuir caráter privilegiado art 100  1 da CRFB prevalecendo inclusive sobre o crédito tributário art 83 I da Lei 111012005 conforme também referendado pelo STF na ADI 3934  Ocorre que além de sequer preservar o valor da moeda a aplicação da SELIC ao débito trabalhista incluindo seu componente a título de juros de mora a funcionar em tese como mecanismo persuasivo de cumprimento da obrigação e consequentemente de proteção efetiva  parcela devida gera tratamento inferior porque menos rigoroso em relação aos precatórios em geral e inclusive quanto s contribuições sindicais s quais por força de lei art 600 da CLT aplicamse juros de mora de 1  um por cento ao mês e correção monetária  Tal situação inusitada por certo não atende  integridade sistêmica do plexo normativo infraconstitucional conforme expressão utilizada no julgamento das ADCs 58 e 59 e ADIs 5867 e 6021 uma vez que ao crédito trabalhista de caráter privilegiado por força da CRFB1988 conferirseá tratamento juridicamente inferior no tocante  atualização monetária e aos juros de mora mesmo em relação a créditos quirografários  Por fim cumpre observar que ao se decidir pela aplicação do IPCAE na fase préjudicial e da SELIC a partir da citação gerase na prática o inusitado efeito de a propositura da ação trabalhista ocasionar uma desvalorização do crédito trabalhista tendo em vista o desnível verificado entre ambos os índices somado ao afastamento dos juros de mora de 1 ao mês Ou seja o processo judicial em vez de instrumento a proporcionar a entrega efetiva e adequada do bem da vida pretendido implicará redução do valor real do direto judicialmente reconhecido  Partindose de uma racionalidade puramente econômica em que se aborda o trabalho humano como mero fator de produção e portanto como despesa a aplicação da SELIC na fase judicial tem o potencial de desestimular ainda mais o cumprimento espontâneo da legislação trabalhista na medida em que o investimento de tal valor mesmo em aplicações financeiras  conservadoras  geraria  rendimento  mais  vantajoso  ao  devedor  Tal  raciocínio ademais tem o condão de favorecer a litigiosidade enfraquecendo o direito do trabalho no seu propósito de viabilizar uma melhor distribuição de riquezas e de combater a concorrência desleal  Para se autorizar a aplicação da SELIC fezse referência na julgamento das ADCs 58 e 59 e ADIs 5867 e 6021 ao art 406 do CC o qual dispõe que Quando os juros moratórios não forem convencionados ou o forem sem taxa estipulada ou quando provierem de determinação  da  lei serão  fixados  segundo  a  taxa  que  estiver  em  vigor  para  a  mora  do pagamento de impostos devidos  Fazenda Nacional Nesse sentido o art 161  1 do CTN estabelece que Se a lei não dispuser de modo diverso os juros de mora são calculados  taxa de um por cento ao mês  autos do RE 870947SE:  Conforme também mencionado pelo Excelentíssimo Ministro Luiz Fux nos   O cerne da controvérsia era saber se o aludido patamar de juros violava o princípio constitucional da isonomia CRFB art 5 caput na medida em que o Código Civil ao remeter  legislação tributária fixa como regra geral o percentual de doze por cento ao ano para fins de compensação da mora ex vi do seu art 406 cc art 161 1 do Código Tributário Nacional   promovida pelo Conselho da Justiça Federal:  Na mesma direção o Enunciado 20 aprovado na I Jornada de Direito Civil  Art 406: a taxa de juros moratórios a que se refere o art 406 é a do art 161  1 do Código Tributário Nacional ou seja um por cento ao mês A utilização da taxa SELIC como índice de apuração dos juros legais não é juridicamente segura porque impede o prévio conhecimento dos juros não é operacional porque seu uso será inviável sempre que se calcularem somente juros ou somente correção monetária é incompatível com a regra do art 591 do novo Código Civil que permite apenas a capitalização anual dos juros e pode ser incompatível com o art 192  3 da Constituição Federal se resultarem juros reais superiores a doze por cento ao ano  No âmbito do ESTJ também se lançam fortes dúvidas quanto  aplicação da  SELIC  na  hipótese  prevista  pelo  art  406  do  CC  Conforme  recentemente  noticiado  o Excelentíssimo Ministro Luís Felipe Salomão propôs em sessão realizada no dia 17112020 o afastamento da aplicação da taxa Selic para condenações por dívida civis tendo em vista não ser a mais adequada no âmbito do Direito Privado pois não atualiza adequadamente os valores e seu cálculo inclui simultaneamente juros moratórios e correção monetária uma vez que essas consequências fluem a partir de momentos diferentes o que inviabiliza a utilização da Selic Como bem ressaltado pelo mesmo Ministro Além disso a taxa Selic não é um espelho do mercado mas o principal instrumento de política monetária atualizada pelo Banco Central no combate  inflação Tem forte componente político e é fixada com objetivo de interferir na inflação para o futuro e não de refletir a inflação apurada no passado sendo  que  Sua  adoção  na  atualização  de  dívidas  judiciais  conduz  a  uma  oscilação anárquica dos juros efetivamente pagos pela mora com grandes distorções em relação ao mercado e injustiça gritante destacou o ministro Salomão Para ele o uso da taxa fazendária abre hipótese de enriquecimento sem causa Arrematando o Ministro adverte que o STJ não pode postergar a análise dessa situação de distinguishing com a jurisprudência já formada em torno da aplicação do artigo 406 do Código Civil A questão é inclusive de política judiciária de modo a evitar que se use o Judiciário para ganhos indevidos O uso da Selic segundo o relator incentiva a recalcitrância recursal e desmotiva o uso de meios alternativos de resolução de demandas como conciliação e mediação Isso porque o devedor litiga ciente de que sua dívida não causará grande prejuízo Por isso a aplicação dos critérios do artigo 161 do CTN destaques pelo juízo https:wwwconjurcombr2020nov17salomaopropoe afastamentoseliccasosdividacivil Visualizado em 29012021  A aproximação do crédito tributário com o tratamento a ser dado ao crédito trabalhista inclusive é reforçada pela CLT que em seu art 889 da CLT determina que Aos  trâmites  e  incidentes  do  processo  da  execução  são  aplicáveis  naquilo  em  que  não contravierem ao presente Título os preceitos que regem o processo dos executivos fiscais para a cobrança judicial da dívida ativa da Fazenda Pública Federal  Percebase  ainda  que  mesmo  o  Código  Civil  legislação infraconstitucional mencionada pelo STF a fim de justificar a aplicação da SELIC em outros dispositivos todavia prevê a incidência de juros de mora de 1 ao mês a exemplo do caso de dívidas  condominiais  art  1336    1  Outro  caso  é  o  da  hipótese  prevista  no  art  1187   parágrafo único II Ou seja descumprir uma obrigação condominial acarretaria maiores prejuízos moratórios ao devedor do que desobedecer  legislação trabalhista em flagrante distorção ao tratamento constitucional do art 100  1 da CRFB e ao art 83 I da Lei 111012005  Em acréscimo observese que para lojas do comércio varejista a partir dos limites impostos nos arts 406 e 591 do CC facilmente se aceita a estipulação de juros de mora de 1 ao mês https:wwwstjjusbrsitesportalpPaginasComunicacaoNoticiasLojas varejistasnaopodemcobrarnocrediariojurosacimade12aoanoaspx Visualizado em 2901 2021  Luiz Fux nos autos da ADI 4357:  Vale transcrever ainda trecho da decisão do Excelentíssimo Ministro  Destaco  que  nesse  juízo  não  levo  em  conta  qualquer consideração técnicoeconômica que implique usurpação pelo Supremo Tribunal Federal de competência própria de órgãos especializados Não se trata de definição judicial de índice de correção Essa circunstância já rechaçada pela jurisprudência da Casa evidentemente transcenderia as capacidades institucionais do Poder Judiciário Não obstante a hipótese aqui é outra Diz respeito  idoneidade lógica do índice fixado pelo constituinte reformador para capturar a inflação e não do valor específico que deve assumir o índice para determinado período Reitero:  não  se  pode  quantificar  em  definitivo  um  fenômeno  essencialmente empírico  antes  mesmo  da  sua  ocorrência  A  inadequação  do  índice  aqui  é autoevidente  Conforme já dito a aplicação da SELIC sequer consegue recompor a inflação IPCAE Somese a isso o fato de que o art 39  1 da Lei 81771991 não teve sua inconstitucionalidade declarada sendo que esse artigo ao fixar juros de mora de 1 ao mês repete o também legalmente determinado para o inadimplemento de dívidas condominiais art 1336  1 do CC e de contribuições sindicais art 600 da CLT  Tal estado de coisas a partir do já decidido pelo STF viola o direito constitucional de propriedade art 5 XXII da CRFB a proteção da coisa julgada art 5 XXXVI da CRFB e a isonomia art 5 caput da CRFB dispositivos que amparam os credores em geral e com maior razão o credor trabalhista cujo crédito por força da própria Constituição é de natureza privilegiada  comum será fonte subsidiária do direito do trabalho  Nos termos do legalmente autorizado pelo art 8  1 da CLT O direito  Nesse sentido o Código Civil em diversos de seus artigos dispõe que:   Art 389: Não cumprida a obrigação responde o devedor por perdas e danos mais juros e atualização monetária segundo índices oficiais regularmente estabelecidos e honorários de advogado    Art  404:  As  perdas  e  danos  nas  obrigações  de pagamento em dinheiro serão pagas com atualização monetária segundo índices oficiais regularmente estabelecidos abrangendo juros custas e honorários de advogado sem prejuízo da pena convencional Parágrafo único Provado que os juros da mora não cobrem o prejuízo e não havendo pena convencional pode o juiz conceder ao credor indenização suplementar    Art 186: Aquele que por ação ou omissão voluntária negligência ou imprudência violar direito e causar dano a outrem ainda que exclusivamente moral comete ato ilícito   Art  187:  Também  comete  ato  ilícito o  titular  de  um direito que ao exercêlo excede manifestamente os limites impostos pelo seu fim econômico ou social pela boafé ou pelos bons costumes  187 causar dano a outrem fica obrigado a reparálo   Art 927 caput: Aquele que por ato ilícito arts 186 e  do dano   Art 944 caput: A indenização medese pela extensão  Assim diante do ilícito patronal ao se descumprir a legislação trabalhista arts 181 e 187 do CC considerandose o princípio da restituição integral arts 927 e 944 do CC devido o pagamento de indenização suplementar arts 389 e 404 parágrafo único do CC  Tendose  por  base  uma  interpretação  sistemática  do  ordenamento jurídico  luz dos critérios já definidos pelo STF quando da análise das ADIs4357 e 4425 e do RE 870947 bem como diante do caráter privilegiado do crédito trabalhista art 100  1 da CRFB e art 83 I da Lei 111012005 e da necessidade de se proteger o direito de propriedade art 5 XXII da CRFB a coisa julgada art 5 XXXVI da CRFB e a isonomia art 5 caput da  CRFB  impõese  o  pagamento  de  indenização  suplementar  de  modo  a  se  repararem integralmente as perdas e danos sofridos pelo credor trabalhista consistentes na inadequação da SELIC frente  inflação da moeda e aos juros previstos legalmente no âmbito trabalhista e também legalmente praticados a outros créditos civis quirografários  Tal indenização nos termos já delineados é verificada objetivamente a partir da desvalorização do crédito trabalhista frente aos índices de inflaçãoatualização monetária e de juros de mora matérias essas que por força de lei podem ser conhecidas de ofício arts 652 d e 883 da CLT art 39  1 da Lei 81771991 arts 322  1 e 491 caput do CPC cc art 769 da CLT Súmula 211 do TST Súmula 254 do STF  Consoante registrado outrora não se trata de descumprir o determinado nas ADCs 58 e 59 e ADIs 5867 e 6021 mas de compreender tal decisão no conjunto de outros julgamentos igualmente vinculantes e também proferidos no âmbito do STF ADIs4357 e 4425 e do  RE  870947    art  926  do  CPC  e  em  observância  a  dispositivos  constitucionais  e infraconstitucionais plenamente vigentes e por isso de observância obrigatória  Quanto ao termo inicial de aplicação da SELIC estabeleceuse pelo decidido nas ADCs 58 e 59 e ADIs 5867 e 6021 a incidência do IPCAE na fase préjudicial e a partir da citação a incidência da taxa SELIC art 406 do Código Civil Parece haver um consenso  semântico  no  sentido  de  que  a  partir  da  propositura  da  ação  perante  o  Poder Judiciário dáse início  chamada fase judicial Raciocínio diverso daria margem  insólita hipótese em que o trabalhador além de obrigado a propor ação judicial para fins de ver cumprido um direito seu e de com isso sofrer uma desvalorização do seu crédito por conta do desnível entre o IPCAE na fase préjudicial e a SELIC na fase judicial também amargar o interregno entre a data da propositura da ação e a citação do réu sem qualquer correção monetária e juros de mora  sobre  o  valor  judicialmente  reconhecido  malferindose  inevitavelmente  o  direito  de propriedade e a devida proteção da coisa julgada Assim com amparo também no art 883 da CLT no art 39  1 da Lei 81771991 e na interpretação analógica do art 240  1 do CPC cc art 769 da CLT é de se concluir que a incidência da SELIC retroage  data da propositura da   ação Nesse sentido inclusive a decisão em sede de embargos de declaração na ADC 58 no sentido de estabelecer a incidência do IPCAE na fase préjudicial e a partir do ajuizamento da ação a incidência da taxa SELIC art 406 do Código Civil  monetária e os juros de mora serão aplicados da seguinte forma:  Diante  de  todo  o  exposto  concluo  e  determino  que  a  atualização  incidência do IPCAE    até  o  dia  anterior  ao  da  propositura  da  ação  fase  préjudicial   a partir da data da propositura da ação inclusive incidência da SELIC acrescida de indenização suplementar esta também devida até a data do efetivo pagamento do crédito  e  correspondente    diferença  a  ser  verificada  entre  a  atualização  pela  SELIC  e  a incidência do IPCAE  juros de mora de 1 ao mês  477  6 da CLT bem como a Súmula 381 do TST  Quanto  atualização monetária observemse ainda os arts 459  1 e     PRAZO E CONDIÇÕES DE CUMPRIMENTO DA SENTENÇA  procedência do pedido determinará o prazo e as condições para o seu cumprimento  Nos termos do art 832  1 da CLT Quando a decisão concluir pela  O art 765 da CLT por sua vez menciona que Os Juízos e Tribunais do Trabalho terão ampla liberdade na direção do processo e velarão pelo andamento rápido das causas podendo determinar qualquer diligência necessária ao esclarecimento delas  Tais dispositivos da CLT além de consentâneos com o caráter alimentar e por isso privilegiado do crédito trabalhista art 100  1 da CRFB e art 83 I da Lei 111012005 também se harmonizam integralmente com o direito fundamental  duração razoável do processo art 5 LXXVIII da CRFB assegurados os meios que garantam a celeridade de sua tramitação  Com base nos arts 4 e 6 do CPC cc art 769 da CLT As partes têm o direito  de  obter  em  prazo  razoável  a  solução  integral  do  mérito  incluída  a  atividade satisfativa Nesse sentido Todos os sujeitos do processo devem cooperar entre si para que se obtenha em tempo razoável decisão de mérito justa e efetiva  Percebese portanto que a duração razoável do processo e a efetividade da jurisdição estão diretamente relacionadas  capacidade de o Poder Judiciário entregar no plano fático o bem da vida judicialmente reconhecido ao credor  Para  tanto  de  modo  a  se  desestimular  o  uso  do  processo  com  fins meramente procrastinatórios e com vistas a se assegurar finalmente o efetivo cumprimento de obrigações  que  já  deveriam  ter  sido  espontaneamente  observadas  quando  da  vigência  do contrato de emprego tornase imperativa a incidência do art 139 IV do CPC cc art 769 da CLT e art 3 III da Instrução Normativa 392016 do TST que assim dispõe:  O juiz dirigirá o processo conforme as disposições deste Código incumbindolhe:    IV   determinar todas  as  medidas  indutivas coercitivas  mandamentais  ou  subrogatórias necessárias para assegurar o   cumprimento  de  ordem  judicial inclusive nas  ações  que  tenham  por  objeto prestação pecuniária  Nessa direção inclusive já decidiu o TST:   R E C U R S O   D E   R E V I S T A   D A   3    R E C L A M A D A  EXECUÇÃO  DE  SENTENÇA  IMPOSIÇÃO  DE  MULTA  COMINATÓRIA  PELO DESCUMPRIMENTO  DE  PRAZO  Assinado  eletronicamente  por:  GERMANO SILVEIRA DE SIQUEIRA  Juntado em: 08012021 01:07:08  2934369 PARA PAGAMENTO DO DÉBITO RECONHECIDO EM JUÍZO OBRIGAÇÃO DE PAGAR FUNDAMENTO  NO  ART  832  1  DA  CLT  APLICABILIDADE  COM FUNDAMENTO  NO  ART  139  IV  DO  CPC15  No  caso  concreto  o  eg  TRT manteve a condenação da reclamada ao pagamento da multa de 10 em caso de não pagamento no prazo estabelecido em sentença com base no art 832  l da CLT A norma celetista sob referência apesar de não tratar de forma explícita da possibilidade  de  imposição  de  multa  cominatória  mas  apenas  determinar  que Quando a decisão concluir pela procedência do pedido determinará o prazo e as condições para o seu cumprimento pode ser interpretada como autorizadora da imposição da referida penalidade pois com o advento do novo Código de Processo Civil a partir de 16032016 especificamente do seu art 139 IV passou a ser expressamente  admitida  a  incidência  de  medidas  indutivas  coercitivas mandamentais ou subrogatórias necessárias para assegurar o cumprimento de ordem judicial também nas ações que tenham por objeto prestação pecuniária Dentre tais medidas certamente se encontra a multa cominatória Há julgado Recurso  de  revista  não  conhecido  ARR    11865420145080120    Relator Ministro: Aloysio Corrêa da Veiga Data de Julgamento: 21062017 6 Turma Data de Publicação: DEJT 23062017  Ante  o  exposto  determino  que  a  ré  deverá  pagar  o  valor  devido acrescido de juros de mora e de atualização monetária no prazo legal do art 880 da CLT sob pena de nos termos do art 139 IV do CPC cc art 769 da CLT pagar multa equivalente a 20 vinte por cento do respectivo valor              DISPOSITIVO  em face de J A B GOZ SERVICOS MEDICOS decido:  Ante o exposto na ação proposta por JAQUELINE MIRANDA DA SILVA  contribuições previdenciárias sobre os valores já pagos durante a contratualidade  extinguir o pedido sem resolução do mérito quanto  execução das  No  mérito  julgar procedentes os  pedidos  para  condenar  a  ré  nas  seguintes obrigações nos limites da inicial:  De pagar:    aviso prévio proporcional indenizado 39 dias  salário de outubro2020   saldo de salário de novembro2020 12 dias   férias em dobro do período 20182019 simples do período 20192029 e proporcional do período 20202021 1012 já considerada a projeção do aviso prévio todas com 13  e já considerada a projeção do aviso prévio   gratificação natalina proporcional de 2020 0912 nos limites do pedido  adicional  de  insalubridade  dos  meses  de  novembro  a  junho2020 conforme recibos de id 019e4b1 a ré efetuava o pagamento do referido adicional não havendo nos autos comprovação de que tenha havido alteração no local de trabalho   multas dos arts 477 e 467 da CLT  pedidos julgados procedentes a partir do que resultar da liquidação da sentença  honorários  de  sucumbência  no  percentual  de  5  sobre  o  valor  dos  De fazer:   anotar a CTPS da autora para constar o término contratual em 1211 2020 nos limites do pedido em dia e horário a serem divulgados pela Secretaria desta Vara sob pena de multa de R 100000 No caso de inércia da ré a Secretaria procederá  anotação sem prejuízo da execução da multa    depositar  FGTS  de  todo  período  contratual    exceção  do  mês  de março2017 bem como indenização compensatória de 40 na conta vinculada do autor art 18  1 da Lei 803690 no prazo de 05 dias após intimada para tanto a ser comprovado nos autos no mesmo prazo sob pena de multa de R 100000 arts 536  1 e 537 do CPC cc art 769 da CLT Em caso de descumprimento procederseá  imediata execução dos valores devidos sem prejuízo do pagamento da multa   no mesmo prazo expedir a guia TRCTconectividade social para saque do FGTS sob pena de multa de R 100000 Em caso de descumprimento a Secretaria expedirá alvará para o respectivo saque sem prejuízo do pagamento da multa  no mesmo prazo expedir as guias CDSD para habilitação ao programa do SeguroDesemprego sob pena de pagamento de indenização substitutiva Súmula 389 II do TST  Tudo na forma da fundamentação  fundamentação  Descontos  fiscais  e  previdenciários  conforme  item  específico  da  Juros  e  correção  monetária  nos  termos  do  item  específico  da fundamentação acrescidos de indenização suplementar esta também devida até a data do efetivo pagamento do crédito e correspondente  diferença a ser verificada entre a atualização pela SELIC e a incidência do IPCAE  juros de mora de 1 ao mês   A parte ré no prazo legal do art 880 da CLT quando notificada para tanto deverá pagar o valor devido acrescido de juros de mora e de atualização monetária sob pena de nos termos do art 139 IV do CPC cc art 769 da CLT pagar multa equivalente a 20 vinte por cento do respectivo valor  Concedo  parte autora o benefício da justiça gratuita  arbitrado em R 1500000  Custas pela ré de R 30000 calculadas sobre o valor da condenação  Intimemse as partes  Nada mais  RIO DE JANEIRORJ 12 de janeiro de 2022  THIAGO MAFRA DA SILVA Juiz do Trabalho Substituto   '"
      ]
     },
     "execution_count": 15,
     "metadata": {},
     "output_type": "execute_result"
    }
   ],
   "source": [
    "text = DsClassAnot['text'][0]\n",
    "text"
   ]
  },
  {
   "cell_type": "code",
   "execution_count": 56,
   "id": "f712ef9d",
   "metadata": {},
   "outputs": [
    {
     "name": "stdout",
     "output_type": "stream",
     "text": [
      "98\n"
     ]
    }
   ],
   "source": [
    "def calcula_n_tokens(text):\n",
    "    #nTokens = FreqDist(text).N()  # Não pegar do NLTK mas sim do Tokenizador que estamos usando nesse modelo!\n",
    "\n",
    "    \n",
    "    n = int(nTokens / 512)\n",
    "    if (int(nTokens / 512) != 0):\n",
    "        n = n + 1\n",
    "    \n",
    "    return(n)\n",
    "\n",
    "# 97*512 + 243 # int(nTokens / 512) # nTokens % 512"
   ]
  },
  {
   "cell_type": "code",
   "execution_count": null,
   "id": "170b2ef8",
   "metadata": {},
   "outputs": [],
   "source": [
    "def get_block_tokens(text):\n",
    "    # retorna uma lista onde cada elemento é um bloco de 500 tokens do n"
   ]
  },
  {
   "cell_type": "code",
   "execution_count": 59,
   "id": "3c7fe3ac",
   "metadata": {},
   "outputs": [
    {
     "name": "stdout",
     "output_type": "stream",
     "text": [
      "0\n",
      "1\n",
      "2\n",
      "3\n",
      "4\n",
      "5\n",
      "6\n",
      "7\n",
      "8\n",
      "9\n",
      "10\n",
      "11\n",
      "12\n",
      "13\n",
      "14\n",
      "15\n",
      "16\n",
      "17\n",
      "18\n",
      "19\n",
      "20\n",
      "21\n",
      "22\n",
      "23\n",
      "24\n",
      "25\n",
      "26\n",
      "27\n",
      "28\n",
      "29\n",
      "30\n",
      "31\n",
      "32\n",
      "33\n",
      "34\n",
      "35\n",
      "36\n",
      "37\n",
      "38\n",
      "39\n",
      "40\n",
      "41\n",
      "42\n",
      "43\n",
      "44\n",
      "45\n",
      "46\n",
      "47\n",
      "48\n",
      "49\n",
      "50\n",
      "51\n",
      "52\n",
      "53\n",
      "54\n",
      "55\n",
      "56\n",
      "57\n",
      "58\n",
      "59\n",
      "60\n",
      "61\n",
      "62\n",
      "63\n",
      "64\n",
      "65\n",
      "66\n",
      "67\n",
      "68\n",
      "69\n",
      "70\n",
      "71\n",
      "72\n",
      "73\n",
      "74\n",
      "75\n",
      "76\n",
      "77\n",
      "78\n",
      "79\n",
      "80\n",
      "81\n",
      "82\n",
      "83\n",
      "84\n",
      "85\n",
      "86\n",
      "87\n",
      "88\n",
      "89\n",
      "90\n",
      "91\n",
      "92\n",
      "93\n",
      "94\n",
      "95\n",
      "96\n",
      "97\n"
     ]
    }
   ],
   "source": [
    "sent = []\n",
    "\n",
    "for i in range(n):\n",
    "    sent[i] = \n",
    "    "
   ]
  },
  {
   "cell_type": "code",
   "execution_count": 67,
   "id": "198c3dfb",
   "metadata": {},
   "outputs": [
    {
     "data": {
      "text/plain": [
       "49907"
      ]
     },
     "execution_count": 67,
     "metadata": {},
     "output_type": "execute_result"
    }
   ],
   "source": [
    "nTokens = FreqDist(text).N()\n",
    "nTokens"
   ]
  },
  {
   "cell_type": "code",
   "execution_count": null,
   "id": "9cfd2786",
   "metadata": {},
   "outputs": [],
   "source": [
    "\n"
   ]
  },
  {
   "cell_type": "code",
   "execution_count": null,
   "id": "e3e2236b",
   "metadata": {},
   "outputs": [],
   "source": []
  },
  {
   "cell_type": "code",
   "execution_count": 18,
   "id": "28d729d3",
   "metadata": {},
   "outputs": [],
   "source": [
    "# Modelos pre-treinados por Pierre Guillou\n",
    "\n",
    "max_lenght = 512\n",
    "\n",
    "checkpoint_ner =  \"pierreguillou/ner-bert-base-cased-pt-lenerbr\"\n",
    "\n",
    "ner_tknz  = AutoTokenizer.from_pretrained(checkpoint_ner, use_fast=True, aggregation_strategy='max', truncation=True, padding=True, max_lenght=512) # simple\n",
    "ner_model = AutoModelForTokenClassification.from_pretrained(checkpoint_ner)\n",
    "\n",
    "ner = pipeline(task=\"ner\", model=ner_model, tokenizer=ner_tknz, aggregation_strategy='max')"
   ]
  },
  {
   "cell_type": "code",
   "execution_count": 19,
   "id": "c0efa210",
   "metadata": {},
   "outputs": [],
   "source": [
    "checkpoint_qa  = \"pierreguillou/bert-large-cased-squad-v1.1-portuguese\"\n",
    "\n",
    "qnda_tknz  = AutoTokenizer.from_pretrained(checkpoint_qa)\n",
    "qnda_model   = AutoModelForQuestionAnswering.from_pretrained(checkpoint_qa)\n",
    "\n",
    "qa  = pipeline(\"question-answering\", model=qnda_model, tokenizer=qnda_tknz)"
   ]
  },
  {
   "cell_type": "code",
   "execution_count": null,
   "id": "bcd990f3",
   "metadata": {},
   "outputs": [],
   "source": []
  },
  {
   "cell_type": "code",
   "execution_count": 20,
   "id": "f133dbc8",
   "metadata": {},
   "outputs": [
    {
     "name": "stderr",
     "output_type": "stream",
     "text": [
      "Asking to truncate to max_length but no maximum length is provided and the model has no predefined maximum length. Default to no truncation.\n"
     ]
    },
    {
     "ename": "RuntimeError",
     "evalue": "The size of tensor a (11555) must match the size of tensor b (512) at non-singleton dimension 1",
     "output_type": "error",
     "traceback": [
      "\u001b[0;31m---------------------------------------------------------------------------\u001b[0m",
      "\u001b[0;31mRuntimeError\u001b[0m                              Traceback (most recent call last)",
      "Input \u001b[0;32mIn [20]\u001b[0m, in \u001b[0;36m<cell line: 1>\u001b[0;34m()\u001b[0m\n\u001b[0;32m----> 1\u001b[0m Entidades \u001b[38;5;241m=\u001b[39m \u001b[43mner\u001b[49m\u001b[43m(\u001b[49m\u001b[43mtext\u001b[49m\u001b[43m)\u001b[49m\n",
      "File \u001b[0;32m~/.local/lib/python3.8/site-packages/transformers/pipelines/token_classification.py:189\u001b[0m, in \u001b[0;36mTokenClassificationPipeline.__call__\u001b[0;34m(self, inputs, **kwargs)\u001b[0m\n\u001b[1;32m    186\u001b[0m \u001b[38;5;28;01mif\u001b[39;00m offset_mapping:\n\u001b[1;32m    187\u001b[0m     kwargs[\u001b[38;5;124m\"\u001b[39m\u001b[38;5;124moffset_mapping\u001b[39m\u001b[38;5;124m\"\u001b[39m] \u001b[38;5;241m=\u001b[39m offset_mapping\n\u001b[0;32m--> 189\u001b[0m \u001b[38;5;28;01mreturn\u001b[39;00m \u001b[38;5;28;43msuper\u001b[39;49m\u001b[43m(\u001b[49m\u001b[43m)\u001b[49m\u001b[38;5;241;43m.\u001b[39;49m\u001b[38;5;21;43m__call__\u001b[39;49m\u001b[43m(\u001b[49m\u001b[43minputs\u001b[49m\u001b[43m,\u001b[49m\u001b[43m \u001b[49m\u001b[38;5;241;43m*\u001b[39;49m\u001b[38;5;241;43m*\u001b[39;49m\u001b[43mkwargs\u001b[49m\u001b[43m)\u001b[49m\n",
      "File \u001b[0;32m~/.local/lib/python3.8/site-packages/transformers/pipelines/base.py:1030\u001b[0m, in \u001b[0;36mPipeline.__call__\u001b[0;34m(self, inputs, num_workers, batch_size, *args, **kwargs)\u001b[0m\n\u001b[1;32m   1028\u001b[0m     \u001b[38;5;28;01mreturn\u001b[39;00m \u001b[38;5;28mself\u001b[39m\u001b[38;5;241m.\u001b[39miterate(inputs, preprocess_params, forward_params, postprocess_params)\n\u001b[1;32m   1029\u001b[0m \u001b[38;5;28;01melse\u001b[39;00m:\n\u001b[0;32m-> 1030\u001b[0m     \u001b[38;5;28;01mreturn\u001b[39;00m \u001b[38;5;28;43mself\u001b[39;49m\u001b[38;5;241;43m.\u001b[39;49m\u001b[43mrun_single\u001b[49m\u001b[43m(\u001b[49m\u001b[43minputs\u001b[49m\u001b[43m,\u001b[49m\u001b[43m \u001b[49m\u001b[43mpreprocess_params\u001b[49m\u001b[43m,\u001b[49m\u001b[43m \u001b[49m\u001b[43mforward_params\u001b[49m\u001b[43m,\u001b[49m\u001b[43m \u001b[49m\u001b[43mpostprocess_params\u001b[49m\u001b[43m)\u001b[49m\n",
      "File \u001b[0;32m~/.local/lib/python3.8/site-packages/transformers/pipelines/base.py:1037\u001b[0m, in \u001b[0;36mPipeline.run_single\u001b[0;34m(self, inputs, preprocess_params, forward_params, postprocess_params)\u001b[0m\n\u001b[1;32m   1035\u001b[0m \u001b[38;5;28;01mdef\u001b[39;00m \u001b[38;5;21mrun_single\u001b[39m(\u001b[38;5;28mself\u001b[39m, inputs, preprocess_params, forward_params, postprocess_params):\n\u001b[1;32m   1036\u001b[0m     model_inputs \u001b[38;5;241m=\u001b[39m \u001b[38;5;28mself\u001b[39m\u001b[38;5;241m.\u001b[39mpreprocess(inputs, \u001b[38;5;241m*\u001b[39m\u001b[38;5;241m*\u001b[39mpreprocess_params)\n\u001b[0;32m-> 1037\u001b[0m     model_outputs \u001b[38;5;241m=\u001b[39m \u001b[38;5;28;43mself\u001b[39;49m\u001b[38;5;241;43m.\u001b[39;49m\u001b[43mforward\u001b[49m\u001b[43m(\u001b[49m\u001b[43mmodel_inputs\u001b[49m\u001b[43m,\u001b[49m\u001b[43m \u001b[49m\u001b[38;5;241;43m*\u001b[39;49m\u001b[38;5;241;43m*\u001b[39;49m\u001b[43mforward_params\u001b[49m\u001b[43m)\u001b[49m\n\u001b[1;32m   1038\u001b[0m     outputs \u001b[38;5;241m=\u001b[39m \u001b[38;5;28mself\u001b[39m\u001b[38;5;241m.\u001b[39mpostprocess(model_outputs, \u001b[38;5;241m*\u001b[39m\u001b[38;5;241m*\u001b[39mpostprocess_params)\n\u001b[1;32m   1039\u001b[0m     \u001b[38;5;28;01mreturn\u001b[39;00m outputs\n",
      "File \u001b[0;32m~/.local/lib/python3.8/site-packages/transformers/pipelines/base.py:947\u001b[0m, in \u001b[0;36mPipeline.forward\u001b[0;34m(self, model_inputs, **forward_params)\u001b[0m\n\u001b[1;32m    945\u001b[0m     \u001b[38;5;28;01mwith\u001b[39;00m inference_context():\n\u001b[1;32m    946\u001b[0m         model_inputs \u001b[38;5;241m=\u001b[39m \u001b[38;5;28mself\u001b[39m\u001b[38;5;241m.\u001b[39m_ensure_tensor_on_device(model_inputs, device\u001b[38;5;241m=\u001b[39m\u001b[38;5;28mself\u001b[39m\u001b[38;5;241m.\u001b[39mdevice)\n\u001b[0;32m--> 947\u001b[0m         model_outputs \u001b[38;5;241m=\u001b[39m \u001b[38;5;28;43mself\u001b[39;49m\u001b[38;5;241;43m.\u001b[39;49m\u001b[43m_forward\u001b[49m\u001b[43m(\u001b[49m\u001b[43mmodel_inputs\u001b[49m\u001b[43m,\u001b[49m\u001b[43m \u001b[49m\u001b[38;5;241;43m*\u001b[39;49m\u001b[38;5;241;43m*\u001b[39;49m\u001b[43mforward_params\u001b[49m\u001b[43m)\u001b[49m\n\u001b[1;32m    948\u001b[0m         model_outputs \u001b[38;5;241m=\u001b[39m \u001b[38;5;28mself\u001b[39m\u001b[38;5;241m.\u001b[39m_ensure_tensor_on_device(model_outputs, device\u001b[38;5;241m=\u001b[39mtorch\u001b[38;5;241m.\u001b[39mdevice(\u001b[38;5;124m\"\u001b[39m\u001b[38;5;124mcpu\u001b[39m\u001b[38;5;124m\"\u001b[39m))\n\u001b[1;32m    949\u001b[0m \u001b[38;5;28;01melse\u001b[39;00m:\n",
      "File \u001b[0;32m~/.local/lib/python3.8/site-packages/transformers/pipelines/token_classification.py:216\u001b[0m, in \u001b[0;36mTokenClassificationPipeline._forward\u001b[0;34m(self, model_inputs)\u001b[0m\n\u001b[1;32m    214\u001b[0m     logits \u001b[38;5;241m=\u001b[39m \u001b[38;5;28mself\u001b[39m\u001b[38;5;241m.\u001b[39mmodel(model_inputs\u001b[38;5;241m.\u001b[39mdata)[\u001b[38;5;241m0\u001b[39m]\n\u001b[1;32m    215\u001b[0m \u001b[38;5;28;01melse\u001b[39;00m:\n\u001b[0;32m--> 216\u001b[0m     logits \u001b[38;5;241m=\u001b[39m \u001b[38;5;28;43mself\u001b[39;49m\u001b[38;5;241;43m.\u001b[39;49m\u001b[43mmodel\u001b[49m\u001b[43m(\u001b[49m\u001b[38;5;241;43m*\u001b[39;49m\u001b[38;5;241;43m*\u001b[39;49m\u001b[43mmodel_inputs\u001b[49m\u001b[43m)\u001b[49m[\u001b[38;5;241m0\u001b[39m]\n\u001b[1;32m    218\u001b[0m \u001b[38;5;28;01mreturn\u001b[39;00m {\n\u001b[1;32m    219\u001b[0m     \u001b[38;5;124m\"\u001b[39m\u001b[38;5;124mlogits\u001b[39m\u001b[38;5;124m\"\u001b[39m: logits,\n\u001b[1;32m    220\u001b[0m     \u001b[38;5;124m\"\u001b[39m\u001b[38;5;124mspecial_tokens_mask\u001b[39m\u001b[38;5;124m\"\u001b[39m: special_tokens_mask,\n\u001b[0;32m   (...)\u001b[0m\n\u001b[1;32m    223\u001b[0m     \u001b[38;5;241m*\u001b[39m\u001b[38;5;241m*\u001b[39mmodel_inputs,\n\u001b[1;32m    224\u001b[0m }\n",
      "File \u001b[0;32m~/.local/lib/python3.8/site-packages/torch/nn/modules/module.py:1130\u001b[0m, in \u001b[0;36mModule._call_impl\u001b[0;34m(self, *input, **kwargs)\u001b[0m\n\u001b[1;32m   1126\u001b[0m \u001b[38;5;66;03m# If we don't have any hooks, we want to skip the rest of the logic in\u001b[39;00m\n\u001b[1;32m   1127\u001b[0m \u001b[38;5;66;03m# this function, and just call forward.\u001b[39;00m\n\u001b[1;32m   1128\u001b[0m \u001b[38;5;28;01mif\u001b[39;00m \u001b[38;5;129;01mnot\u001b[39;00m (\u001b[38;5;28mself\u001b[39m\u001b[38;5;241m.\u001b[39m_backward_hooks \u001b[38;5;129;01mor\u001b[39;00m \u001b[38;5;28mself\u001b[39m\u001b[38;5;241m.\u001b[39m_forward_hooks \u001b[38;5;129;01mor\u001b[39;00m \u001b[38;5;28mself\u001b[39m\u001b[38;5;241m.\u001b[39m_forward_pre_hooks \u001b[38;5;129;01mor\u001b[39;00m _global_backward_hooks\n\u001b[1;32m   1129\u001b[0m         \u001b[38;5;129;01mor\u001b[39;00m _global_forward_hooks \u001b[38;5;129;01mor\u001b[39;00m _global_forward_pre_hooks):\n\u001b[0;32m-> 1130\u001b[0m     \u001b[38;5;28;01mreturn\u001b[39;00m \u001b[43mforward_call\u001b[49m\u001b[43m(\u001b[49m\u001b[38;5;241;43m*\u001b[39;49m\u001b[38;5;28;43minput\u001b[39;49m\u001b[43m,\u001b[49m\u001b[43m \u001b[49m\u001b[38;5;241;43m*\u001b[39;49m\u001b[38;5;241;43m*\u001b[39;49m\u001b[43mkwargs\u001b[49m\u001b[43m)\u001b[49m\n\u001b[1;32m   1131\u001b[0m \u001b[38;5;66;03m# Do not call functions when jit is used\u001b[39;00m\n\u001b[1;32m   1132\u001b[0m full_backward_hooks, non_full_backward_hooks \u001b[38;5;241m=\u001b[39m [], []\n",
      "File \u001b[0;32m~/.local/lib/python3.8/site-packages/transformers/models/bert/modeling_bert.py:1778\u001b[0m, in \u001b[0;36mBertForTokenClassification.forward\u001b[0;34m(self, input_ids, attention_mask, token_type_ids, position_ids, head_mask, inputs_embeds, labels, output_attentions, output_hidden_states, return_dict)\u001b[0m\n\u001b[1;32m   1772\u001b[0m \u001b[38;5;124mr\u001b[39m\u001b[38;5;124;03m\"\"\"\u001b[39;00m\n\u001b[1;32m   1773\u001b[0m \u001b[38;5;124;03mlabels (`torch.LongTensor` of shape `(batch_size, sequence_length)`, *optional*):\u001b[39;00m\n\u001b[1;32m   1774\u001b[0m \u001b[38;5;124;03m    Labels for computing the token classification loss. Indices should be in `[0, ..., config.num_labels - 1]`.\u001b[39;00m\n\u001b[1;32m   1775\u001b[0m \u001b[38;5;124;03m\"\"\"\u001b[39;00m\n\u001b[1;32m   1776\u001b[0m return_dict \u001b[38;5;241m=\u001b[39m return_dict \u001b[38;5;28;01mif\u001b[39;00m return_dict \u001b[38;5;129;01mis\u001b[39;00m \u001b[38;5;129;01mnot\u001b[39;00m \u001b[38;5;28;01mNone\u001b[39;00m \u001b[38;5;28;01melse\u001b[39;00m \u001b[38;5;28mself\u001b[39m\u001b[38;5;241m.\u001b[39mconfig\u001b[38;5;241m.\u001b[39muse_return_dict\n\u001b[0;32m-> 1778\u001b[0m outputs \u001b[38;5;241m=\u001b[39m \u001b[38;5;28;43mself\u001b[39;49m\u001b[38;5;241;43m.\u001b[39;49m\u001b[43mbert\u001b[49m\u001b[43m(\u001b[49m\n\u001b[1;32m   1779\u001b[0m \u001b[43m    \u001b[49m\u001b[43minput_ids\u001b[49m\u001b[43m,\u001b[49m\n\u001b[1;32m   1780\u001b[0m \u001b[43m    \u001b[49m\u001b[43mattention_mask\u001b[49m\u001b[38;5;241;43m=\u001b[39;49m\u001b[43mattention_mask\u001b[49m\u001b[43m,\u001b[49m\n\u001b[1;32m   1781\u001b[0m \u001b[43m    \u001b[49m\u001b[43mtoken_type_ids\u001b[49m\u001b[38;5;241;43m=\u001b[39;49m\u001b[43mtoken_type_ids\u001b[49m\u001b[43m,\u001b[49m\n\u001b[1;32m   1782\u001b[0m \u001b[43m    \u001b[49m\u001b[43mposition_ids\u001b[49m\u001b[38;5;241;43m=\u001b[39;49m\u001b[43mposition_ids\u001b[49m\u001b[43m,\u001b[49m\n\u001b[1;32m   1783\u001b[0m \u001b[43m    \u001b[49m\u001b[43mhead_mask\u001b[49m\u001b[38;5;241;43m=\u001b[39;49m\u001b[43mhead_mask\u001b[49m\u001b[43m,\u001b[49m\n\u001b[1;32m   1784\u001b[0m \u001b[43m    \u001b[49m\u001b[43minputs_embeds\u001b[49m\u001b[38;5;241;43m=\u001b[39;49m\u001b[43minputs_embeds\u001b[49m\u001b[43m,\u001b[49m\n\u001b[1;32m   1785\u001b[0m \u001b[43m    \u001b[49m\u001b[43moutput_attentions\u001b[49m\u001b[38;5;241;43m=\u001b[39;49m\u001b[43moutput_attentions\u001b[49m\u001b[43m,\u001b[49m\n\u001b[1;32m   1786\u001b[0m \u001b[43m    \u001b[49m\u001b[43moutput_hidden_states\u001b[49m\u001b[38;5;241;43m=\u001b[39;49m\u001b[43moutput_hidden_states\u001b[49m\u001b[43m,\u001b[49m\n\u001b[1;32m   1787\u001b[0m \u001b[43m    \u001b[49m\u001b[43mreturn_dict\u001b[49m\u001b[38;5;241;43m=\u001b[39;49m\u001b[43mreturn_dict\u001b[49m\u001b[43m,\u001b[49m\n\u001b[1;32m   1788\u001b[0m \u001b[43m\u001b[49m\u001b[43m)\u001b[49m\n\u001b[1;32m   1790\u001b[0m sequence_output \u001b[38;5;241m=\u001b[39m outputs[\u001b[38;5;241m0\u001b[39m]\n\u001b[1;32m   1792\u001b[0m sequence_output \u001b[38;5;241m=\u001b[39m \u001b[38;5;28mself\u001b[39m\u001b[38;5;241m.\u001b[39mdropout(sequence_output)\n",
      "File \u001b[0;32m~/.local/lib/python3.8/site-packages/torch/nn/modules/module.py:1130\u001b[0m, in \u001b[0;36mModule._call_impl\u001b[0;34m(self, *input, **kwargs)\u001b[0m\n\u001b[1;32m   1126\u001b[0m \u001b[38;5;66;03m# If we don't have any hooks, we want to skip the rest of the logic in\u001b[39;00m\n\u001b[1;32m   1127\u001b[0m \u001b[38;5;66;03m# this function, and just call forward.\u001b[39;00m\n\u001b[1;32m   1128\u001b[0m \u001b[38;5;28;01mif\u001b[39;00m \u001b[38;5;129;01mnot\u001b[39;00m (\u001b[38;5;28mself\u001b[39m\u001b[38;5;241m.\u001b[39m_backward_hooks \u001b[38;5;129;01mor\u001b[39;00m \u001b[38;5;28mself\u001b[39m\u001b[38;5;241m.\u001b[39m_forward_hooks \u001b[38;5;129;01mor\u001b[39;00m \u001b[38;5;28mself\u001b[39m\u001b[38;5;241m.\u001b[39m_forward_pre_hooks \u001b[38;5;129;01mor\u001b[39;00m _global_backward_hooks\n\u001b[1;32m   1129\u001b[0m         \u001b[38;5;129;01mor\u001b[39;00m _global_forward_hooks \u001b[38;5;129;01mor\u001b[39;00m _global_forward_pre_hooks):\n\u001b[0;32m-> 1130\u001b[0m     \u001b[38;5;28;01mreturn\u001b[39;00m \u001b[43mforward_call\u001b[49m\u001b[43m(\u001b[49m\u001b[38;5;241;43m*\u001b[39;49m\u001b[38;5;28;43minput\u001b[39;49m\u001b[43m,\u001b[49m\u001b[43m \u001b[49m\u001b[38;5;241;43m*\u001b[39;49m\u001b[38;5;241;43m*\u001b[39;49m\u001b[43mkwargs\u001b[49m\u001b[43m)\u001b[49m\n\u001b[1;32m   1131\u001b[0m \u001b[38;5;66;03m# Do not call functions when jit is used\u001b[39;00m\n\u001b[1;32m   1132\u001b[0m full_backward_hooks, non_full_backward_hooks \u001b[38;5;241m=\u001b[39m [], []\n",
      "File \u001b[0;32m~/.local/lib/python3.8/site-packages/transformers/adapters/context.py:103\u001b[0m, in \u001b[0;36mForwardContext.wrap.<locals>.wrapper_func\u001b[0;34m(self, *args, **kwargs)\u001b[0m\n\u001b[1;32m    101\u001b[0m \u001b[38;5;28;01mif\u001b[39;00m \u001b[38;5;28mself\u001b[39m\u001b[38;5;241m.\u001b[39mconfig\u001b[38;5;241m.\u001b[39madapters \u001b[38;5;129;01mis\u001b[39;00m \u001b[38;5;129;01mnot\u001b[39;00m \u001b[38;5;28;01mNone\u001b[39;00m:\n\u001b[1;32m    102\u001b[0m     \u001b[38;5;28;01mwith\u001b[39;00m \u001b[38;5;28mcls\u001b[39m(\u001b[38;5;28mself\u001b[39m, \u001b[38;5;241m*\u001b[39margs, \u001b[38;5;241m*\u001b[39m\u001b[38;5;241m*\u001b[39mkwargs):\n\u001b[0;32m--> 103\u001b[0m         results \u001b[38;5;241m=\u001b[39m \u001b[43mf\u001b[49m\u001b[43m(\u001b[49m\u001b[38;5;28;43mself\u001b[39;49m\u001b[43m,\u001b[49m\u001b[43m \u001b[49m\u001b[38;5;241;43m*\u001b[39;49m\u001b[43margs\u001b[49m\u001b[43m,\u001b[49m\u001b[43m \u001b[49m\u001b[38;5;241;43m*\u001b[39;49m\u001b[38;5;241;43m*\u001b[39;49m\u001b[43mkwargs\u001b[49m\u001b[43m)\u001b[49m\n\u001b[1;32m    104\u001b[0m     \u001b[38;5;28;01mreturn\u001b[39;00m results\n\u001b[1;32m    105\u001b[0m \u001b[38;5;28;01melse\u001b[39;00m:\n",
      "File \u001b[0;32m~/.local/lib/python3.8/site-packages/transformers/models/bert/modeling_bert.py:1013\u001b[0m, in \u001b[0;36mBertModel.forward\u001b[0;34m(self, input_ids, attention_mask, token_type_ids, position_ids, head_mask, inputs_embeds, encoder_hidden_states, encoder_attention_mask, past_key_values, use_cache, output_attentions, output_hidden_states, return_dict)\u001b[0m\n\u001b[1;32m   1006\u001b[0m \u001b[38;5;66;03m# Prepare head mask if needed\u001b[39;00m\n\u001b[1;32m   1007\u001b[0m \u001b[38;5;66;03m# 1.0 in head_mask indicate we keep the head\u001b[39;00m\n\u001b[1;32m   1008\u001b[0m \u001b[38;5;66;03m# attention_probs has shape bsz x n_heads x N x N\u001b[39;00m\n\u001b[1;32m   1009\u001b[0m \u001b[38;5;66;03m# input head_mask has shape [num_heads] or [num_hidden_layers x num_heads]\u001b[39;00m\n\u001b[1;32m   1010\u001b[0m \u001b[38;5;66;03m# and head_mask is converted to shape [num_hidden_layers x batch x num_heads x seq_length x seq_length]\u001b[39;00m\n\u001b[1;32m   1011\u001b[0m head_mask \u001b[38;5;241m=\u001b[39m \u001b[38;5;28mself\u001b[39m\u001b[38;5;241m.\u001b[39mget_head_mask(head_mask, \u001b[38;5;28mself\u001b[39m\u001b[38;5;241m.\u001b[39mconfig\u001b[38;5;241m.\u001b[39mnum_hidden_layers)\n\u001b[0;32m-> 1013\u001b[0m embedding_output \u001b[38;5;241m=\u001b[39m \u001b[38;5;28;43mself\u001b[39;49m\u001b[38;5;241;43m.\u001b[39;49m\u001b[43membeddings\u001b[49m\u001b[43m(\u001b[49m\n\u001b[1;32m   1014\u001b[0m \u001b[43m    \u001b[49m\u001b[43minput_ids\u001b[49m\u001b[38;5;241;43m=\u001b[39;49m\u001b[43minput_ids\u001b[49m\u001b[43m,\u001b[49m\n\u001b[1;32m   1015\u001b[0m \u001b[43m    \u001b[49m\u001b[43mposition_ids\u001b[49m\u001b[38;5;241;43m=\u001b[39;49m\u001b[43mposition_ids\u001b[49m\u001b[43m,\u001b[49m\n\u001b[1;32m   1016\u001b[0m \u001b[43m    \u001b[49m\u001b[43mtoken_type_ids\u001b[49m\u001b[38;5;241;43m=\u001b[39;49m\u001b[43mtoken_type_ids\u001b[49m\u001b[43m,\u001b[49m\n\u001b[1;32m   1017\u001b[0m \u001b[43m    \u001b[49m\u001b[43minputs_embeds\u001b[49m\u001b[38;5;241;43m=\u001b[39;49m\u001b[43minputs_embeds\u001b[49m\u001b[43m,\u001b[49m\n\u001b[1;32m   1018\u001b[0m \u001b[43m    \u001b[49m\u001b[43mpast_key_values_length\u001b[49m\u001b[38;5;241;43m=\u001b[39;49m\u001b[43mpast_key_values_length\u001b[49m\u001b[43m,\u001b[49m\n\u001b[1;32m   1019\u001b[0m \u001b[43m\u001b[49m\u001b[43m)\u001b[49m\n\u001b[1;32m   1020\u001b[0m embedding_output \u001b[38;5;241m=\u001b[39m \u001b[38;5;28mself\u001b[39m\u001b[38;5;241m.\u001b[39minvertible_adapters_forward(embedding_output)\n\u001b[1;32m   1022\u001b[0m encoder_outputs \u001b[38;5;241m=\u001b[39m \u001b[38;5;28mself\u001b[39m\u001b[38;5;241m.\u001b[39mencoder(\n\u001b[1;32m   1023\u001b[0m     embedding_output,\n\u001b[1;32m   1024\u001b[0m     attention_mask\u001b[38;5;241m=\u001b[39mextended_attention_mask,\n\u001b[0;32m   (...)\u001b[0m\n\u001b[1;32m   1032\u001b[0m     return_dict\u001b[38;5;241m=\u001b[39mreturn_dict,\n\u001b[1;32m   1033\u001b[0m )\n",
      "File \u001b[0;32m~/.local/lib/python3.8/site-packages/torch/nn/modules/module.py:1130\u001b[0m, in \u001b[0;36mModule._call_impl\u001b[0;34m(self, *input, **kwargs)\u001b[0m\n\u001b[1;32m   1126\u001b[0m \u001b[38;5;66;03m# If we don't have any hooks, we want to skip the rest of the logic in\u001b[39;00m\n\u001b[1;32m   1127\u001b[0m \u001b[38;5;66;03m# this function, and just call forward.\u001b[39;00m\n\u001b[1;32m   1128\u001b[0m \u001b[38;5;28;01mif\u001b[39;00m \u001b[38;5;129;01mnot\u001b[39;00m (\u001b[38;5;28mself\u001b[39m\u001b[38;5;241m.\u001b[39m_backward_hooks \u001b[38;5;129;01mor\u001b[39;00m \u001b[38;5;28mself\u001b[39m\u001b[38;5;241m.\u001b[39m_forward_hooks \u001b[38;5;129;01mor\u001b[39;00m \u001b[38;5;28mself\u001b[39m\u001b[38;5;241m.\u001b[39m_forward_pre_hooks \u001b[38;5;129;01mor\u001b[39;00m _global_backward_hooks\n\u001b[1;32m   1129\u001b[0m         \u001b[38;5;129;01mor\u001b[39;00m _global_forward_hooks \u001b[38;5;129;01mor\u001b[39;00m _global_forward_pre_hooks):\n\u001b[0;32m-> 1130\u001b[0m     \u001b[38;5;28;01mreturn\u001b[39;00m \u001b[43mforward_call\u001b[49m\u001b[43m(\u001b[49m\u001b[38;5;241;43m*\u001b[39;49m\u001b[38;5;28;43minput\u001b[39;49m\u001b[43m,\u001b[49m\u001b[43m \u001b[49m\u001b[38;5;241;43m*\u001b[39;49m\u001b[38;5;241;43m*\u001b[39;49m\u001b[43mkwargs\u001b[49m\u001b[43m)\u001b[49m\n\u001b[1;32m   1131\u001b[0m \u001b[38;5;66;03m# Do not call functions when jit is used\u001b[39;00m\n\u001b[1;32m   1132\u001b[0m full_backward_hooks, non_full_backward_hooks \u001b[38;5;241m=\u001b[39m [], []\n",
      "File \u001b[0;32m~/.local/lib/python3.8/site-packages/transformers/models/bert/modeling_bert.py:225\u001b[0m, in \u001b[0;36mBertEmbeddings.forward\u001b[0;34m(self, input_ids, token_type_ids, position_ids, inputs_embeds, past_key_values_length)\u001b[0m\n\u001b[1;32m    223\u001b[0m \u001b[38;5;28;01mif\u001b[39;00m \u001b[38;5;28mself\u001b[39m\u001b[38;5;241m.\u001b[39mposition_embedding_type \u001b[38;5;241m==\u001b[39m \u001b[38;5;124m\"\u001b[39m\u001b[38;5;124mabsolute\u001b[39m\u001b[38;5;124m\"\u001b[39m:\n\u001b[1;32m    224\u001b[0m     position_embeddings \u001b[38;5;241m=\u001b[39m \u001b[38;5;28mself\u001b[39m\u001b[38;5;241m.\u001b[39mposition_embeddings(position_ids)\n\u001b[0;32m--> 225\u001b[0m     embeddings \u001b[38;5;241m+\u001b[39m\u001b[38;5;241m=\u001b[39m position_embeddings\n\u001b[1;32m    226\u001b[0m embeddings \u001b[38;5;241m=\u001b[39m \u001b[38;5;28mself\u001b[39m\u001b[38;5;241m.\u001b[39mLayerNorm(embeddings)\n\u001b[1;32m    227\u001b[0m embeddings \u001b[38;5;241m=\u001b[39m \u001b[38;5;28mself\u001b[39m\u001b[38;5;241m.\u001b[39mdropout(embeddings)\n",
      "\u001b[0;31mRuntimeError\u001b[0m: The size of tensor a (11555) must match the size of tensor b (512) at non-singleton dimension 1"
     ]
    }
   ],
   "source": [
    "Entidades = ner(text)"
   ]
  },
  {
   "cell_type": "code",
   "execution_count": 60,
   "id": "7ddf7d02",
   "metadata": {},
   "outputs": [],
   "source": [
    "res = qnda_tknz(text)"
   ]
  },
  {
   "cell_type": "code",
   "execution_count": 65,
   "id": "97ec3815",
   "metadata": {},
   "outputs": [
    {
     "data": {
      "text/plain": [
       "11555"
      ]
     },
     "execution_count": 65,
     "metadata": {},
     "output_type": "execute_result"
    }
   ],
   "source": [
    "len(res['input_ids'])"
   ]
  },
  {
   "cell_type": "code",
   "execution_count": null,
   "id": "e87caf0a",
   "metadata": {},
   "outputs": [],
   "source": []
  },
  {
   "cell_type": "code",
   "execution_count": null,
   "id": "bb16db11",
   "metadata": {},
   "outputs": [],
   "source": []
  },
  {
   "cell_type": "code",
   "execution_count": null,
   "id": "05adcb5b",
   "metadata": {},
   "outputs": [],
   "source": []
  },
  {
   "cell_type": "code",
   "execution_count": null,
   "id": "c8c8cbc0",
   "metadata": {},
   "outputs": [],
   "source": []
  },
  {
   "cell_type": "code",
   "execution_count": null,
   "id": "c7029888",
   "metadata": {},
   "outputs": [],
   "source": []
  },
  {
   "cell_type": "code",
   "execution_count": null,
   "id": "c7cac67d",
   "metadata": {},
   "outputs": [],
   "source": []
  },
  {
   "cell_type": "code",
   "execution_count": null,
   "id": "0ff7bf1c",
   "metadata": {},
   "outputs": [],
   "source": []
  },
  {
   "cell_type": "code",
   "execution_count": null,
   "id": "78d03d18",
   "metadata": {},
   "outputs": [],
   "source": [
    "# Modelos pre-treinados com Adapters na tarefa NER"
   ]
  },
  {
   "cell_type": "code",
   "execution_count": null,
   "id": "68e3a8b9",
   "metadata": {},
   "outputs": [],
   "source": []
  },
  {
   "cell_type": "code",
   "execution_count": null,
   "id": "b6c5c6ee",
   "metadata": {},
   "outputs": [],
   "source": []
  },
  {
   "cell_type": "code",
   "execution_count": null,
   "id": "4594d975",
   "metadata": {},
   "outputs": [],
   "source": []
  },
  {
   "cell_type": "code",
   "execution_count": null,
   "id": "c007ad34",
   "metadata": {},
   "outputs": [],
   "source": []
  },
  {
   "cell_type": "code",
   "execution_count": null,
   "id": "e9a6633a",
   "metadata": {},
   "outputs": [],
   "source": []
  }
 ],
 "metadata": {
  "kernelspec": {
   "display_name": "Python 3 (ipykernel)",
   "language": "python",
   "name": "python3"
  },
  "language_info": {
   "codemirror_mode": {
    "name": "ipython",
    "version": 3
   },
   "file_extension": ".py",
   "mimetype": "text/x-python",
   "name": "python",
   "nbconvert_exporter": "python",
   "pygments_lexer": "ipython3",
   "version": "3.8.13"
  }
 },
 "nbformat": 4,
 "nbformat_minor": 5
}
