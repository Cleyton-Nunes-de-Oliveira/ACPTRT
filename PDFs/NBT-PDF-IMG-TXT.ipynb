{
 "cells": [
  {
   "cell_type": "code",
   "execution_count": null,
   "id": "7099445f",
   "metadata": {},
   "outputs": [],
   "source": []
  },
  {
   "cell_type": "code",
   "execution_count": 5,
   "id": "299b1ab3",
   "metadata": {},
   "outputs": [
    {
     "name": "stdout",
     "output_type": "stream",
     "text": [
      "[sudo] password for info: \n"
     ]
    }
   ],
   "source": [
    "# https://www.opcito.com/blogs/extracting-text-from-images-with-tesseract-ocr-opencv-and-python\n",
    "# https://www.geeksforgeeks.org/python-reading-contents-of-pdf-using-ocr-optical-character-recognition/\n",
    "# https://felipemeganha.medium.com/extra%C3%A7%C3%A3o-de-informa%C3%A7%C3%B5es-do-pdf-com-python-opencv-e-pytesseract-53bf8cbbd364\n",
    "# https://nanonets.com/blog/extract-data-from-pdf/\n",
    "# http://br-linux.org/linux/tesseract-ocr-agora-suporta-oficialmente-o-portugues-brasileiro\n",
    "\n",
    "\n",
    "#!pip install opencv-python\n",
    "#!pip install pytesseract\n",
    "#!pip install pdf2image\n",
    "#!pip install Pillow\n",
    "#sudo apt-get install poppler-utils"
   ]
  },
  {
   "cell_type": "code",
   "execution_count": null,
   "id": "5dc63800",
   "metadata": {},
   "outputs": [],
   "source": [
    "# https://www.geeksforgeeks.org/python-reading-contents-of-pdf-using-ocr-optical-character-recognition/\n",
    "# Requires Python 3.6 or higher due to f-strings"
   ]
  },
  {
   "cell_type": "code",
   "execution_count": 25,
   "id": "eaba7346",
   "metadata": {},
   "outputs": [],
   "source": [
    "# Import libraries\n",
    "import platform\n",
    "from tempfile import TemporaryDirectory\n",
    "from pathlib import Path\n",
    " \n",
    "import pytesseract\n",
    "from pdf2image import convert_from_path\n",
    "from PIL import Image\n",
    "import cv2"
   ]
  },
  {
   "cell_type": "code",
   "execution_count": 10,
   "id": "8a67e778",
   "metadata": {},
   "outputs": [],
   "source": [
    "if platform.system() == \"Windows\":\n",
    "    # We may need to do some additional downloading and setup...\n",
    "    # Windows needs a PyTesseract Download\n",
    "    # https://github.com/UB-Mannheim/tesseract/wiki/Downloading-Tesseract-OCR-Engine\n",
    " \n",
    "    pytesseract.pytesseract.tesseract_cmd = (\n",
    "        r\"C:\\Program Files\\Tesseract-OCR\\tesseract.exe\"\n",
    "    )\n",
    " \n",
    "    # Windows also needs poppler_exe\n",
    "    path_to_poppler_exe = Path(r\"C:\\.....\")\n",
    "     \n",
    "    # Put our output files in a sane place...\n",
    "    out_directory = Path(r\"~\\Desktop\").expanduser()\n",
    "else:\n",
    "    out_directory = Path(\"~\").expanduser() "
   ]
  },
  {
   "cell_type": "code",
   "execution_count": 12,
   "id": "a72fe443",
   "metadata": {},
   "outputs": [
    {
     "data": {
      "text/plain": [
       "'/home/info/MyNotebooks/Datasets/SentencasTRT1/IMGs'"
      ]
     },
     "execution_count": 12,
     "metadata": {},
     "output_type": "execute_result"
    }
   ],
   "source": [
    "out_directory = \"/home/info/MyNotebooks/Datasets/SentencasTRT1/IMGs\"\n",
    "out_directory"
   ]
  },
  {
   "cell_type": "code",
   "execution_count": 19,
   "id": "9b5eaa58",
   "metadata": {},
   "outputs": [],
   "source": [
    "file_path = \"/home/info/MyNotebooks/Datasets/SentencasTRT1/PDFs/\"\n",
    "#file_name = \"01007085520215010071-DEJT-30-05-2022.pdf\"\n",
    "file_name = \"0065500-14.2007.5.01.0002.pdf\""
   ]
  },
  {
   "cell_type": "code",
   "execution_count": 39,
   "id": "31679f7a",
   "metadata": {},
   "outputs": [
    {
     "name": "stdout",
     "output_type": "stream",
     "text": [
      "/home/info/MyNotebooks/Datasets/SentencasTRT1/PDFs/0065500-14.2007.5.01.0002.pdf\n"
     ]
    },
    {
     "ename": "TypeError",
     "evalue": "sequence item 0: expected str instance, list found",
     "output_type": "error",
     "traceback": [
      "\u001b[0;31m---------------------------------------------------------------------------\u001b[0m",
      "\u001b[0;31mTypeError\u001b[0m                                 Traceback (most recent call last)",
      "Input \u001b[0;32mIn [39]\u001b[0m, in \u001b[0;36m<cell line: 120>\u001b[0;34m()\u001b[0m\n\u001b[1;32m    113\u001b[0m             \u001b[38;5;66;03m# At the end of the with .. output_file block\u001b[39;00m\n\u001b[1;32m    114\u001b[0m             \u001b[38;5;66;03m# the file is closed after writing all the text.\u001b[39;00m\n\u001b[1;32m    115\u001b[0m         \u001b[38;5;66;03m# At the end of the with .. tempdir block, the\u001b[39;00m\n\u001b[1;32m    116\u001b[0m         \u001b[38;5;66;03m# TemporaryDirectory() we're using gets removed!       \u001b[39;00m\n\u001b[1;32m    117\u001b[0m     \u001b[38;5;66;03m# End of main function!\u001b[39;00m\n\u001b[1;32m    120\u001b[0m \u001b[38;5;28;01mif\u001b[39;00m \u001b[38;5;18m__name__\u001b[39m \u001b[38;5;241m==\u001b[39m \u001b[38;5;124m\"\u001b[39m\u001b[38;5;124m__main__\u001b[39m\u001b[38;5;124m\"\u001b[39m:\n\u001b[1;32m    121\u001b[0m       \u001b[38;5;66;03m# We only want to run this if it's directly executed!\u001b[39;00m\n\u001b[0;32m--> 122\u001b[0m     \u001b[43mmain\u001b[49m\u001b[43m(\u001b[49m\u001b[43m)\u001b[49m\n",
      "Input \u001b[0;32mIn [39]\u001b[0m, in \u001b[0;36mmain\u001b[0;34m()\u001b[0m\n\u001b[1;32m     91\u001b[0m         word_list \u001b[38;5;241m=\u001b[39m []\n\u001b[1;32m     93\u001b[0m \u001b[38;5;66;03m#text = ' '.join(parse_text)\u001b[39;00m\n\u001b[1;32m     94\u001b[0m \u001b[38;5;66;03m#text = ''.join(''.join(l) for l in parse_text)\u001b[39;00m\n\u001b[0;32m---> 95\u001b[0m text \u001b[38;5;241m=\u001b[39m \u001b[38;5;124;43m'\u001b[39;49m\u001b[38;5;124;43m \u001b[39;49m\u001b[38;5;124;43m'\u001b[39;49m\u001b[38;5;241;43m.\u001b[39;49m\u001b[43mjoin\u001b[49m\u001b[43m(\u001b[49m\u001b[43ml\u001b[49m\u001b[43m \u001b[49m\u001b[38;5;28;43;01mfor\u001b[39;49;00m\u001b[43m \u001b[49m\u001b[43ml\u001b[49m\u001b[43m \u001b[49m\u001b[38;5;129;43;01min\u001b[39;49;00m\u001b[43m \u001b[49m\u001b[43mparse_text\u001b[49m\u001b[43m)\u001b[49m\n\u001b[1;32m     97\u001b[0m \u001b[38;5;66;03m# END NEW\u001b[39;00m\n\u001b[1;32m     98\u001b[0m \n\u001b[1;32m     99\u001b[0m \u001b[38;5;66;03m# The recognized text is stored in variable text\u001b[39;00m\n\u001b[0;32m   (...)\u001b[0m\n\u001b[1;32m    106\u001b[0m \u001b[38;5;66;03m# orGeeks is half on first line, remaining on next.\u001b[39;00m\n\u001b[1;32m    107\u001b[0m \u001b[38;5;66;03m# To remove this, we replace every '-\\n' to ''.\u001b[39;00m\n\u001b[1;32m    108\u001b[0m text \u001b[38;5;241m=\u001b[39m text\u001b[38;5;241m.\u001b[39mreplace(\u001b[38;5;124m\"\u001b[39m\u001b[38;5;124m-\u001b[39m\u001b[38;5;130;01m\\n\u001b[39;00m\u001b[38;5;124m\"\u001b[39m, \u001b[38;5;124m\"\u001b[39m\u001b[38;5;124m\"\u001b[39m)\n",
      "\u001b[0;31mTypeError\u001b[0m: sequence item 0: expected str instance, list found"
     ]
    }
   ],
   "source": [
    "# Path of the Input pdf\n",
    "#PDF_file = Path(r\"d.pdf\")\n",
    "PDF_file = Path(file_path+file_name)\n",
    "print(PDF_file)\n",
    " \n",
    "# Store all the pages of the PDF in a variable\n",
    "image_file_list = []\n",
    " \n",
    "text_file = out_directory / Path(\"out_text.txt\")\n",
    " \n",
    "def main():\n",
    "    ''' Main execution point of the program'''\n",
    "    with TemporaryDirectory() as tempdir:\n",
    "        # Create a temporary directory to hold our temporary images.\n",
    " \n",
    "        \"\"\"\n",
    "        Part #1 : Converting PDF to images\n",
    "        \"\"\"\n",
    " \n",
    "        if platform.system() == \"Windows\":\n",
    "            pdf_pages = convert_from_path(PDF_file, 500, poppler_path=path_to_poppler_exe)\n",
    "        else:\n",
    "            pdf_pages = convert_from_path(PDF_file, 500)\n",
    "        # Read in the PDF file at 500 DPI\n",
    " \n",
    "        # Iterate through all the pages stored above\n",
    "        for page_enumeration, page in enumerate(pdf_pages, start=1):\n",
    "            # enumerate() \"counts\" the pages for us.\n",
    " \n",
    "            # Create a file name to store the image\n",
    "            filename = f\"{tempdir}\\page_{page_enumeration:03}.jpg\"\n",
    " \n",
    "            # Declaring filename for each page of PDF as JPG\n",
    "            # For each page, filename will be:\n",
    "            # PDF page 1 -> page_001.jpg\n",
    "            # PDF page 2 -> page_002.jpg\n",
    "            # PDF page 3 -> page_003.jpg\n",
    "            # ....\n",
    "            # PDF page n -> page_00n.jpg\n",
    " \n",
    "            # Save the image of the page in system\n",
    "            page.save(filename, \"JPEG\")\n",
    "            image_file_list.append(filename)\n",
    " \n",
    "\n",
    "        \"\"\"\n",
    "        Part #2 - Recognizing text from the images using OCR\n",
    "        \"\"\"\n",
    "        with open(text_file, \"a\") as output_file:\n",
    "            # Open the file in append mode so that\n",
    "            # All contents of all images are added to the same file\n",
    " \n",
    "            # Iterate from 1 to total number of pages\n",
    "            for image_file in image_file_list:\n",
    " \n",
    "                # Set filename to recognize text from\n",
    "                # Again, these files will be:\n",
    "                # page_1.jpg\n",
    "                # page_2.jpg\n",
    "                # ....\n",
    "                # page_n.jpg\n",
    " \n",
    "                # Recognize the text as string in image using pytesserct\n",
    "                #text = str(((pytesseract.image_to_string(Image.open(image_file)))))\n",
    "        \n",
    "                # NEW:\n",
    "        \n",
    "                image = cv2.imread(image_file)\n",
    "                #converting image into gray scale image\n",
    "                gray_image = cv2.cvtColor(image, cv2.COLOR_BGR2GRAY)\n",
    "\n",
    "                # converting it to binary image by Thresholding\n",
    "                # this step is require if you have colored image because if you skip this part\n",
    "                # then tesseract won't able to detect text correctly and this will give incorrect result\n",
    "                threshold_img = cv2.threshold(gray_image, 0, 255, cv2.THRESH_BINARY | cv2.THRESH_OTSU)[1]\n",
    "                custom_config = r'--oem 3 --psm 6'\n",
    "\n",
    "                details = pytesseract.image_to_data(threshold_img, config=custom_config, lang='por') # output_type=Output.DICT,\n",
    "                \n",
    "                parse_text = []\n",
    "                word_list = []\n",
    "                last_word = ''\n",
    "\n",
    "                #for word in details['text']:\n",
    "                for i, word in enumerate(details):\n",
    "                    if word != '':\n",
    "                        word_list.append(word)\n",
    "                        last_word = word\n",
    "                    if (last_word != '' and word == '') or (word == details[-1]):\n",
    "                        parse_text.append(word_list)\n",
    "                        word_list = []\n",
    "    \n",
    "                text = ' '.join(parse_text)\n",
    "                #text = ''.join(''.join(l) for l in parse_text)\n",
    "                #text = ' '.join(l for l in parse_text)\n",
    "                \n",
    "                # END NEW\n",
    "                \n",
    "                # The recognized text is stored in variable text\n",
    "                # Any string processing may be applied on text\n",
    "                # Here, basic formatting has been done:\n",
    "                # In many PDFs, at line ending, if a word can't\n",
    "                # be written fully, a 'hyphen' is added.\n",
    "                # The rest of the word is written in the next line\n",
    "                # Eg: This is a sample text this word here GeeksF-\n",
    "                # orGeeks is half on first line, remaining on next.\n",
    "                # To remove this, we replace every '-\\n' to ''.\n",
    "                text = text.replace(\"-\\n\", \"\")\n",
    " \n",
    "                # Finally, write the processed text to the file.\n",
    "                output_file.write(text)\n",
    " \n",
    "            # At the end of the with .. output_file block\n",
    "            # the file is closed after writing all the text.\n",
    "        # At the end of the with .. tempdir block, the\n",
    "        # TemporaryDirectory() we're using gets removed!       \n",
    "    # End of main function!\n",
    "     \n",
    "\n",
    "if __name__ == \"__main__\":\n",
    "      # We only want to run this if it's directly executed!\n",
    "    main()\n",
    "\n"
   ]
  },
  {
   "cell_type": "code",
   "execution_count": 32,
   "id": "04da30e8",
   "metadata": {},
   "outputs": [],
   "source": [
    "main()"
   ]
  },
  {
   "cell_type": "code",
   "execution_count": 22,
   "id": "e953460b",
   "metadata": {},
   "outputs": [
    {
     "name": "stdout",
     "output_type": "stream",
     "text": [
      "\r\n"
     ]
    }
   ],
   "source": [
    "!echo $TESSDATA_PREFIX"
   ]
  },
  {
   "cell_type": "code",
   "execution_count": null,
   "id": "75ca7eab",
   "metadata": {},
   "outputs": [],
   "source": []
  },
  {
   "cell_type": "code",
   "execution_count": null,
   "id": "4de34c31",
   "metadata": {},
   "outputs": [],
   "source": []
  }
 ],
 "metadata": {
  "kernelspec": {
   "display_name": "Python 3",
   "language": "python",
   "name": "python3"
  },
  "language_info": {
   "codemirror_mode": {
    "name": "ipython",
    "version": 3
   },
   "file_extension": ".py",
   "mimetype": "text/x-python",
   "name": "python",
   "nbconvert_exporter": "python",
   "pygments_lexer": "ipython3",
   "version": "3.8.8"
  }
 },
 "nbformat": 4,
 "nbformat_minor": 5
}
