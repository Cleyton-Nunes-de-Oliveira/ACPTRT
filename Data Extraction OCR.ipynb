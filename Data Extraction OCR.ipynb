{
 "cells": [
  {
   "cell_type": "code",
   "execution_count": 20,
   "id": "5869f8b6",
   "metadata": {},
   "outputs": [],
   "source": [
    "#REFERENCES:\n",
    "# https://towardsdatascience.com/extracting-text-from-scanned-pdf-using-pytesseract-open-cv-cd670ee38052\n",
    "# https://www.codegrepper.com/code-examples/python/pytesseract+pdf+to+text\n",
    "# https://www.google.com/search?q=python+pytesseract+pdf+to+text&oq=python+pdf+pytesse&aqs=edge.2.69i57j0i22i30l2.9015j0j1&sourceid=chrome&ie=UTF-8\n",
    "\n",
    "#https://stackoverflow.com/questions/67516273/remove-header-and-footer-from-pdftotext-module-in-python\n",
    "#https://www.anycodings.com/1questions/155089/remove-header-and-footer-from-pdftotext-module-in-python\n",
    "#https://pyimagesearch.com/2015/02/09/removing-contours-image-using-python-opencv/\n",
    "#https://pdf.wondershare.com.br/pdf-knowledge/pdf-to-png-python.html"
   ]
  },
  {
   "cell_type": "code",
   "execution_count": 21,
   "id": "e24d9269",
   "metadata": {},
   "outputs": [
    {
     "name": "stdout",
     "output_type": "stream",
     "text": [
      "Defaulting to user installation because normal site-packages is not writeable\n",
      "Requirement already satisfied: opencv-python in /home/info/.local/lib/python3.8/site-packages (4.6.0.66)\n",
      "Requirement already satisfied: numpy>=1.14.5 in /home/info/.local/lib/python3.8/site-packages (from opencv-python) (1.23.1)\n"
     ]
    }
   ],
   "source": [
    "# INSTALATIONS, if necessary:\n",
    "#!pip install opencv-python   # cv2\n",
    "#!pip install pytesseract\n",
    "#!pip install pdf2image\n",
    "#!pip install poppler-utils\n",
    "#!apt-get install poppler-utils\n",
    "#!apt-get update\n",
    "#!sudo apt-get install libleptonica-dev tesseract-ocr python3-pil tesseract-ocr-por tesseract-ocr-eng tesseract-ocr-script-latn"
   ]
  },
  {
   "cell_type": "code",
   "execution_count": 25,
   "id": "89db8584",
   "metadata": {},
   "outputs": [],
   "source": [
    "#import opencv-python"
   ]
  },
  {
   "cell_type": "markdown",
   "id": "1edf8d76",
   "metadata": {},
   "source": [
    "# IMPORTS:\n",
    "import cv2\n",
    "import pytesseract\n",
    "from PIL import Image\n",
    "from pdf2image import convert_from_path"
   ]
  },
  {
   "cell_type": "code",
   "execution_count": null,
   "id": "a3658008",
   "metadata": {},
   "outputs": [],
   "source": [
    "# VARIABLES:\n",
    "custom_config = r'--oem 3 --psm 11'\n",
    "file_path = \"/home/info/MyNotebooks/Datasets/SentencasTRT1/PDFs/\"   #file_path = \"/content/\"\n",
    "output_folder=\"/home/info/MyNotebooks/Datasets/SentencasTRT1/IMGs\"  #arq = file_path+\"00002067920105010076-29-03-2016.pdf\"\n",
    "arq = \"0080300-68.2008.5.01.0016.pdf\"\n",
    "path_arq = file_path+arq\n",
    "path_arq"
   ]
  },
  {
   "cell_type": "code",
   "execution_count": null,
   "id": "baa6c9e6",
   "metadata": {},
   "outputs": [],
   "source": [
    "# TESTS:"
   ]
  },
  {
   "cell_type": "code",
   "execution_count": null,
   "id": "2a4d0e8d",
   "metadata": {},
   "outputs": [],
   "source": [
    "pages = convert_from_path(arq, 500, output_folder=output_folder, first_page=1, last_page=1, fmt='jpg')\n",
    "\n",
    "images = []\n",
    "\n",
    "for i in range(len(pages)):\n",
    "    page_name = arq+\"_page_\"+str(i)+\".jpg\"\n",
    "    pages[i].save(page_name, \"JPEG\")\n",
    "    images.append(page_name)\n"
   ]
  },
  {
   "cell_type": "code",
   "execution_count": null,
   "id": "085e3367",
   "metadata": {},
   "outputs": [],
   "source": [
    "for i in range(len(images)):\n",
    "    text = pytesseract.image_to_string(images[i], lang='por')\n",
    "    print(text)"
   ]
  },
  {
   "cell_type": "code",
   "execution_count": null,
   "id": "794a386a",
   "metadata": {},
   "outputs": [],
   "source": [
    "for i in range(len(images)):\n",
    "    img = cv2.imread(images[i])\n",
    "    \n",
    "#gray = cv2.cvtColor(img, cv2.COLOR_BGR2GRAY)\n",
    "#blur = cv2.GaussianBlur(gray, (9,9), 0)\n",
    "#thresh = cv2.adaptiveThreshold(blur,255,cv2.ADAPTIVE_THRESH_GAUSSIAN_C, cv2.THRESH_BINARY_INV,11,30)\n",
    "#text = pytesseract.image_to_string(blur, lang=\"por\")\n",
    "#text.replace(\"\\t\",\"\")\n",
    "#text.replace(\"\\n\",\"\")\n",
    "#print(text)"
   ]
  },
  {
   "cell_type": "code",
   "execution_count": null,
   "id": "d4a24b80",
   "metadata": {},
   "outputs": [],
   "source": []
  },
  {
   "cell_type": "code",
   "execution_count": null,
   "id": "7319de98",
   "metadata": {},
   "outputs": [],
   "source": []
  },
  {
   "cell_type": "code",
   "execution_count": null,
   "id": "9eb02207",
   "metadata": {},
   "outputs": [],
   "source": []
  },
  {
   "cell_type": "code",
   "execution_count": null,
   "id": "d9577eac",
   "metadata": {},
   "outputs": [],
   "source": []
  },
  {
   "cell_type": "code",
   "execution_count": null,
   "id": "a49cd99d",
   "metadata": {},
   "outputs": [],
   "source": []
  },
  {
   "cell_type": "code",
   "execution_count": null,
   "id": "735903a3",
   "metadata": {},
   "outputs": [],
   "source": [
    "# WORKING:"
   ]
  },
  {
   "cell_type": "code",
   "execution_count": 44,
   "id": "df9afe1a",
   "metadata": {},
   "outputs": [
    {
     "name": "stdout",
     "output_type": "stream",
     "text": [
      "Overwriting HelperFunctions/DataWrangling/criaCorpusWithOCR.py\n"
     ]
    }
   ],
   "source": [
    "%%writefile HelperFunctions/DataWrangling/criaCorpusWithOCR.py\n",
    "\n",
    "# 1.Extração de texto dos pdf das sentenças baixas\n",
    "#\n",
    "# Cria Corpus (DatasetClassification.CSV) das Sentenças do TRT1\n",
    "# Le os arquivos .txt e armazena-os em uma lista e depois persiste-o em disco no formato .csv.\n",
    "#\n",
    "import io\n",
    "import pathlib\n",
    "import pandas as pd\n",
    "import datasets\n",
    "from datasets import load_dataset\n",
    "from datasets import Dataset\n",
    "import os\n",
    "import shutil\n",
    "from os import listdir\n",
    "from os.path import isfile, join\n",
    "import re\n",
    "import string\n",
    "# IMPORTS:\n",
    "import cv2\n",
    "import pytesseract\n",
    "from PIL import Image, ImageOps\n",
    "from pdf2image import convert_from_path\n",
    "import numpy\n",
    "\n",
    "    \n",
    "class Corpus():\n",
    "    \n",
    "    def __init__(self):\n",
    "        # Agrupar estas variaveis em um arquivo para carregar nas classes. VARIABLES:\n",
    "        self.custom_config = r'--oem 1 --psm 4'\n",
    "        self.pdfs_path = \"/home/info/MyNotebooks/Datasets/SentencasTRT1/PDFs/\"   #file_path = \"/content/\"\n",
    "        self.file_path = \"/home/info/MyNotebooks/Datasets/SentencasTRT1/PDFsProcessing/\"\n",
    "        self.output_folder=\"/home/info/MyNotebooks/Datasets/SentencasTRT1/IMGs/\"  #arq = file_path+\"00002067920105010076-29-03-2016.pdf\"\n",
    "        #self.arq = \"0080300-68.2008.5.01.0016.pdf\"\n",
    "        self.arq = \"\" #\"0012600-80.2005.5.01.0016.pdf\"\n",
    "        self.path_arq = \"\" #self.file_path+self.arq\n",
    "        self.imgNames = []\n",
    "        self.textos = []\n",
    "        self.pages = []\n",
    "        self.imgList = []\n",
    "        \n",
    "\n",
    "\n",
    "            \n",
    "    def remove_jpg(self):\n",
    "        jpgList = os.listdir(self.output_folder)      \n",
    "        for imgFile in jpgList:\n",
    "            if imgFile.endswith('.jpg'):\n",
    "                os.remove(self.output_folder+imgFile)\n",
    "                \n",
    "    def remove_sub_jpg(self):\n",
    "        img_sub_List = os.listdir(self.output_folder+\"imgs/\")  \n",
    "        for k in img_sub_List:\n",
    "            if k.endswith('.jpg'):\n",
    "                os.remove(self.output_folder+\"imgs/\"+k)\n",
    "      \n",
    "        \n",
    "\n",
    "    \n",
    "    def enhance_img(self):\n",
    "        print(\"Tam. imgList\", len(self.imgList))\n",
    "        for i, imgPage in enumerate(self.imgList):\n",
    "                        \n",
    "            # open method used to open different extension image file\n",
    "            # pil_image = Image.open(self.output_folder+self.arq+\"_page_\"+str(i)+\".jpg\") \n",
    "            #width, height = pil_image.size\n",
    "            # gray_img    = ImageOps.grayscale(pil_image)\n",
    "            # bk_wh_img   = gray_img.convert('1', dither=Image.NONE) # convert image to black and white\n",
    "            print(\"imgList: \", self.imgList[i])\n",
    "            \n",
    "            img = cv2.imread(imgPage, cv2.IMREAD_GRAYSCALE)\n",
    "            # You may need to convert the color.\n",
    "            #img = cv2.cvtColor(img, cv2.COLOR_BGR2GRAY)\n",
    "            (thresh, im_bw) = cv2.threshold(img, 128, 255, cv2.THRESH_BINARY | cv2.THRESH_OTSU)\n",
    "            #dst = cv2.detailEnhance(im_bw, sigma_s=10, sigma_r=0.15)\n",
    "            \n",
    "            '''\n",
    "            pil_image = Image.fromarray(im_bw)\n",
    "\n",
    "            frac   = 0.89\n",
    "            left   = pil_image.size[0]*((1-frac)/2)\n",
    "            upper  = pil_image.size[1] # pil_image.size[1]*((1-frac)/2)\n",
    "            right  = pil_image.size[0]-((1-frac)/2)*pil_image.size[0]\n",
    "            bottom = pil_image.size[1]-((1-frac)/2)*pil_image.size[1]\n",
    "        \n",
    "            cropped_img = pil_image.crop((left*1, upper*1, right, bottom*2.5))\n",
    "            #page_name = self.output_folder+self.arq+\"_page_\"+str(i)+\".jpg\"\n",
    "            cropped_img.save(imgPage,\"JPEG\")  # Ou .save(page_name, \"JPEG\")    \n",
    "            '''\n",
    "            \n",
    "            cv2.imwrite(imgPage, im_bw)\n",
    "        \n",
    "        \n",
    "    def pdftoimg(self):\n",
    "        \n",
    "        self.pages = convert_from_path(self.path_arq, 500, output_folder=self.output_folder+\"imgs/\", fmt='jpg') # first_page=1, last_page=1, \n",
    "\n",
    "        for i, page in enumerate(self.pages):\n",
    "            page_name = self.output_folder+self.arq+\"_page_\"+str(i)+\".jpg\"\n",
    "            page.save(page_name, \"JPEG\")\n",
    "            self.imgList.append(page_name)\n",
    "            print(\"Pagina: \", page_name)\n",
    "            \n",
    "        self.enhance_img()\n",
    "        self.remove_sub_jpg()\n",
    "        \n",
    "        # Lista com endereço dos arquivos jpg do pdf a serem processados pelo OCR.\n",
    "        #self.imgList = os.listdir(self.output_folder)\n",
    "        #self.imgList = [self.output_folder+t for t in self.imgList if t.endswith('.jpg')]\n",
    "        #self.imgList.sort(key=lambda fname: int(fname.split('.')[0]))  # Ordena\n",
    "        #for i in range(len(self.imgList)):\n",
    "        #    print(\"conteudo de imgList: \", self.imgList[i])\n",
    "                     \n",
    "    \n",
    "\n",
    "    def process_text(self, s_text):\n",
    "\n",
    "        #s_text.replace(\"\\n\", \" \")\n",
    "        #s_text.replace('-\\n', ' ')\n",
    "\n",
    "        s_text = s_text.replace(\" \",\"<==>\") # Como o filtro de caracteres imprimiveis estava removendo os espaços\n",
    "        \n",
    "        printable = set(string.printable)\n",
    "        printable.remove('\\x0b')\n",
    "        printable.remove('\\x0c')\n",
    "        #printable.remove('\\t')\n",
    "        #printable.remove('\\n')\n",
    "        spec_char = {'ã','ẽ','õ','á','é','í','ó','ú','â','ê','î','ô','û','Ã','Ẽ','Õ','Á','É','Í','Ó','Ú','Â','Ê','Î','Ô','Û','ü','Ü','ç','Ç','º','ª','§'}\n",
    "        printable = printable.union(spec_char)\n",
    "        \n",
    "        s_text = \"\".join(filter(lambda x: x in printable, s_text))  # ou s=re.sub(r'[\\W_]+', '', res) #  Filtra caracteres alfanumericos\n",
    "        s_text = s_text.replace(\"<==>\",\" \") # Restitui os espaços para a string.\n",
    "        #print(\"Na saída da funcao imgtotext: \",s_text) \n",
    "        \n",
    "        return s_text\n",
    "\n",
    "        \n",
    "        \n",
    "    \n",
    "    def imgtotext(self):\n",
    "        \n",
    "        self.textos = []\n",
    "        #imgList = os.listdir(self.output_folder)\n",
    "        \n",
    "        for imgFile in self.imgList:\n",
    "            if imgFile.endswith('.jpg'):\n",
    "                # Recognize the text as string in image using pytesserct \n",
    "                #pytesseract.pytesseract.tesseract_cmd = tesseract_path\n",
    "                #text = str(((pytesseract.image_to_string(Image.open(img))))) \n",
    "                text = str(((pytesseract.image_to_string(imgFile, lang='por', config=self.custom_config)))) \n",
    "                self.textos.append(text)\n",
    "                #print(\"DENTRO DO LOOP de extração dos textos das paginas\", text)\n",
    "        \n",
    "        \n",
    "        res = \" \".join(self.textos) # Transforma uma lista de strings (para cada pagina) em uma string longa.\n",
    "        #print(\"Apos concatenar a lista de paginas, antes do processamento de string: \", res)\n",
    "        \n",
    "        # Realiza manipulacoes de limpeza do texto\n",
    "        res = self.process_text(res)  \n",
    "        #print(\"Apos concatenar a lista de paginas, antes do processamento de string: \", res)\n",
    "        \n",
    "        # Remove temporary IMGs/*.jpg files for OCR:\n",
    "        self.remove_jpg()\n",
    "        self.imgList = []  #Ultima alteração\n",
    "        #print(len(self.images))  # imprime a quantidade de paginas.\n",
    "       \n",
    "        return res\n",
    "\n",
    "    \n",
    "    \n",
    "    def proccess_folder(self):\n",
    "        \n",
    "        txt_content = \"\"\n",
    "        #dataFile = {}\n",
    "        directoryList = os.listdir(self.file_path)\n",
    "        #self.remove_jpg()\n",
    "        \n",
    "        for pdfFile in directoryList:\n",
    "            \n",
    "            if pdfFile.endswith('.pdf'):\n",
    "                self.arq = pdfFile\n",
    "                self.path_arq = self.file_path+self.arq\n",
    "                #self.pages = []\n",
    "                self.pdftoimg()\n",
    "                txt_content = self.imgtotext()  #\n",
    "                #print(\"No loop de proccess_folder que chama imgtotext\",txt_content)   #\n",
    "                with open(self.file_path+self.arq+'.txt', 'w') as f:\n",
    "                    f.write(txt_content)\n",
    "                f.close()\n",
    "                \n",
    "            txt_content = \"\"\n",
    "\n",
    "                \n",
    "                \n",
    "    def reload_files(self):\n",
    "        \n",
    "        # \n",
    "        directoryList = os.listdir(self.pdfs_path)\n",
    "        batch_step = 100\n",
    "        for i in range(0,len(directoryList), batch_step):\n",
    "            \n",
    "            for j in range(i,i+batch_step):\n",
    "                print(i,j,\"moving for preparing proccess: \", directoryList[j])\n",
    "                if directoryList[j].endswith('.pdf'):\n",
    "                    shutil.move(self.pdfs_path+directoryList[j], self.file_path)\n",
    "                    \n",
    "            self.proccess_folder()\n",
    "            \n",
    "            for j in range(i,i+batch_step):\n",
    "                print(i,j,\"moving processed files: \", directoryList[j])\n",
    "                shutil.move(self.file_path+directoryList[j],self.pdfs_path+\"Processed/\")\n",
    "                shutil.move(self.file_path+directoryList[j]+\".txt\",self.file_path+\"txts/\")\n",
    "           \n",
    "            '''\n",
    "            self.imgList = os.listdir(self.output_folder)\n",
    "            for k in self.imgList:\n",
    "                if k.endswith('.jpg'):\n",
    "                    os.remove(self.output_folder+k)\n",
    "            '''\n",
    "            \n",
    "        print(\"PDF files processed in: \", self.pdfs_path+\"Processed/\")\n",
    "        print(\"TXT files generated in: \", self.file_path+\"txts/\")\n",
    "        print(\"Temporary images files used in: \", self.output_folder)\n",
    "        print(\"Eventually unprocessed/error files in: \", self.pdfs_path)\n",
    "\n",
    "            \n",
    "            "
   ]
  },
  {
   "cell_type": "code",
   "execution_count": null,
   "id": "a6efdedf",
   "metadata": {},
   "outputs": [],
   "source": []
  },
  {
   "cell_type": "code",
   "execution_count": 45,
   "id": "5b77d8f2",
   "metadata": {},
   "outputs": [],
   "source": [
    "# 2. Criação do objeto\n",
    "from HelperFunctions.DataWrangling.criaCorpusWithOCR import Corpus\n",
    "%run -i HelperFunctions/DataWrangling/criaCorpusWithOCR.py\n",
    "corpus = Corpus()"
   ]
  },
  {
   "cell_type": "code",
   "execution_count": 46,
   "id": "9e0e54bd",
   "metadata": {},
   "outputs": [
    {
     "name": "stdout",
     "output_type": "stream",
     "text": [
      "0 0 moving for preparing proccess:  01028309720175010421-DEJT-06-03-2018.pdf\n",
      "0 1 moving for preparing proccess:  01002131620175010050-DEJT-14-09-2017.pdf\n",
      "0 2 moving for preparing proccess:  01003933820175010048-DEJT-22-11-2017.pdf\n",
      "0 3 moving for preparing proccess:  01018231920175010244-DEJT-19-09-2018.pdf\n",
      "0 4 moving for preparing proccess:  01004818920165010055-DOERJ-29-11-2017.pdf\n",
      "Pagina:  /home/info/MyNotebooks/Datasets/SentencasTRT1/IMGs/01028309720175010421-DEJT-06-03-2018.pdf_page_0.jpg\n",
      "Pagina:  /home/info/MyNotebooks/Datasets/SentencasTRT1/IMGs/01028309720175010421-DEJT-06-03-2018.pdf_page_1.jpg\n",
      "Pagina:  /home/info/MyNotebooks/Datasets/SentencasTRT1/IMGs/01028309720175010421-DEJT-06-03-2018.pdf_page_2.jpg\n",
      "Tam. imgList 3\n",
      "imgList:  /home/info/MyNotebooks/Datasets/SentencasTRT1/IMGs/01028309720175010421-DEJT-06-03-2018.pdf_page_0.jpg\n",
      "imgList:  /home/info/MyNotebooks/Datasets/SentencasTRT1/IMGs/01028309720175010421-DEJT-06-03-2018.pdf_page_1.jpg\n",
      "imgList:  /home/info/MyNotebooks/Datasets/SentencasTRT1/IMGs/01028309720175010421-DEJT-06-03-2018.pdf_page_2.jpg\n",
      "Pagina:  /home/info/MyNotebooks/Datasets/SentencasTRT1/IMGs/01002131620175010050-DEJT-14-09-2017.pdf_page_0.jpg\n",
      "Pagina:  /home/info/MyNotebooks/Datasets/SentencasTRT1/IMGs/01002131620175010050-DEJT-14-09-2017.pdf_page_1.jpg\n",
      "Pagina:  /home/info/MyNotebooks/Datasets/SentencasTRT1/IMGs/01002131620175010050-DEJT-14-09-2017.pdf_page_2.jpg\n",
      "Pagina:  /home/info/MyNotebooks/Datasets/SentencasTRT1/IMGs/01002131620175010050-DEJT-14-09-2017.pdf_page_3.jpg\n",
      "Pagina:  /home/info/MyNotebooks/Datasets/SentencasTRT1/IMGs/01002131620175010050-DEJT-14-09-2017.pdf_page_4.jpg\n",
      "Pagina:  /home/info/MyNotebooks/Datasets/SentencasTRT1/IMGs/01002131620175010050-DEJT-14-09-2017.pdf_page_5.jpg\n",
      "Tam. imgList 6\n",
      "imgList:  /home/info/MyNotebooks/Datasets/SentencasTRT1/IMGs/01002131620175010050-DEJT-14-09-2017.pdf_page_0.jpg\n",
      "imgList:  /home/info/MyNotebooks/Datasets/SentencasTRT1/IMGs/01002131620175010050-DEJT-14-09-2017.pdf_page_1.jpg\n",
      "imgList:  /home/info/MyNotebooks/Datasets/SentencasTRT1/IMGs/01002131620175010050-DEJT-14-09-2017.pdf_page_2.jpg\n",
      "imgList:  /home/info/MyNotebooks/Datasets/SentencasTRT1/IMGs/01002131620175010050-DEJT-14-09-2017.pdf_page_3.jpg\n",
      "imgList:  /home/info/MyNotebooks/Datasets/SentencasTRT1/IMGs/01002131620175010050-DEJT-14-09-2017.pdf_page_4.jpg\n",
      "imgList:  /home/info/MyNotebooks/Datasets/SentencasTRT1/IMGs/01002131620175010050-DEJT-14-09-2017.pdf_page_5.jpg\n",
      "Pagina:  /home/info/MyNotebooks/Datasets/SentencasTRT1/IMGs/01003933820175010048-DEJT-22-11-2017.pdf_page_0.jpg\n",
      "Pagina:  /home/info/MyNotebooks/Datasets/SentencasTRT1/IMGs/01003933820175010048-DEJT-22-11-2017.pdf_page_1.jpg\n",
      "Pagina:  /home/info/MyNotebooks/Datasets/SentencasTRT1/IMGs/01003933820175010048-DEJT-22-11-2017.pdf_page_2.jpg\n",
      "Tam. imgList 3\n",
      "imgList:  /home/info/MyNotebooks/Datasets/SentencasTRT1/IMGs/01003933820175010048-DEJT-22-11-2017.pdf_page_0.jpg\n",
      "imgList:  /home/info/MyNotebooks/Datasets/SentencasTRT1/IMGs/01003933820175010048-DEJT-22-11-2017.pdf_page_1.jpg\n",
      "imgList:  /home/info/MyNotebooks/Datasets/SentencasTRT1/IMGs/01003933820175010048-DEJT-22-11-2017.pdf_page_2.jpg\n",
      "Pagina:  /home/info/MyNotebooks/Datasets/SentencasTRT1/IMGs/01018231920175010244-DEJT-19-09-2018.pdf_page_0.jpg\n",
      "Pagina:  /home/info/MyNotebooks/Datasets/SentencasTRT1/IMGs/01018231920175010244-DEJT-19-09-2018.pdf_page_1.jpg\n",
      "Pagina:  /home/info/MyNotebooks/Datasets/SentencasTRT1/IMGs/01018231920175010244-DEJT-19-09-2018.pdf_page_2.jpg\n",
      "Pagina:  /home/info/MyNotebooks/Datasets/SentencasTRT1/IMGs/01018231920175010244-DEJT-19-09-2018.pdf_page_3.jpg\n",
      "Pagina:  /home/info/MyNotebooks/Datasets/SentencasTRT1/IMGs/01018231920175010244-DEJT-19-09-2018.pdf_page_4.jpg\n",
      "Pagina:  /home/info/MyNotebooks/Datasets/SentencasTRT1/IMGs/01018231920175010244-DEJT-19-09-2018.pdf_page_5.jpg\n",
      "Pagina:  /home/info/MyNotebooks/Datasets/SentencasTRT1/IMGs/01018231920175010244-DEJT-19-09-2018.pdf_page_6.jpg\n",
      "Pagina:  /home/info/MyNotebooks/Datasets/SentencasTRT1/IMGs/01018231920175010244-DEJT-19-09-2018.pdf_page_7.jpg\n",
      "Pagina:  /home/info/MyNotebooks/Datasets/SentencasTRT1/IMGs/01018231920175010244-DEJT-19-09-2018.pdf_page_8.jpg\n",
      "Tam. imgList 9\n",
      "imgList:  /home/info/MyNotebooks/Datasets/SentencasTRT1/IMGs/01018231920175010244-DEJT-19-09-2018.pdf_page_0.jpg\n",
      "imgList:  /home/info/MyNotebooks/Datasets/SentencasTRT1/IMGs/01018231920175010244-DEJT-19-09-2018.pdf_page_1.jpg\n",
      "imgList:  /home/info/MyNotebooks/Datasets/SentencasTRT1/IMGs/01018231920175010244-DEJT-19-09-2018.pdf_page_2.jpg\n",
      "imgList:  /home/info/MyNotebooks/Datasets/SentencasTRT1/IMGs/01018231920175010244-DEJT-19-09-2018.pdf_page_3.jpg\n",
      "imgList:  /home/info/MyNotebooks/Datasets/SentencasTRT1/IMGs/01018231920175010244-DEJT-19-09-2018.pdf_page_4.jpg\n",
      "imgList:  /home/info/MyNotebooks/Datasets/SentencasTRT1/IMGs/01018231920175010244-DEJT-19-09-2018.pdf_page_5.jpg\n",
      "imgList:  /home/info/MyNotebooks/Datasets/SentencasTRT1/IMGs/01018231920175010244-DEJT-19-09-2018.pdf_page_6.jpg\n",
      "imgList:  /home/info/MyNotebooks/Datasets/SentencasTRT1/IMGs/01018231920175010244-DEJT-19-09-2018.pdf_page_7.jpg\n",
      "imgList:  /home/info/MyNotebooks/Datasets/SentencasTRT1/IMGs/01018231920175010244-DEJT-19-09-2018.pdf_page_8.jpg\n",
      "Pagina:  /home/info/MyNotebooks/Datasets/SentencasTRT1/IMGs/01004818920165010055-DOERJ-29-11-2017.pdf_page_0.jpg\n",
      "Pagina:  /home/info/MyNotebooks/Datasets/SentencasTRT1/IMGs/01004818920165010055-DOERJ-29-11-2017.pdf_page_1.jpg\n",
      "Pagina:  /home/info/MyNotebooks/Datasets/SentencasTRT1/IMGs/01004818920165010055-DOERJ-29-11-2017.pdf_page_2.jpg\n",
      "Pagina:  /home/info/MyNotebooks/Datasets/SentencasTRT1/IMGs/01004818920165010055-DOERJ-29-11-2017.pdf_page_3.jpg\n",
      "Pagina:  /home/info/MyNotebooks/Datasets/SentencasTRT1/IMGs/01004818920165010055-DOERJ-29-11-2017.pdf_page_4.jpg\n",
      "Pagina:  /home/info/MyNotebooks/Datasets/SentencasTRT1/IMGs/01004818920165010055-DOERJ-29-11-2017.pdf_page_5.jpg\n",
      "Pagina:  /home/info/MyNotebooks/Datasets/SentencasTRT1/IMGs/01004818920165010055-DOERJ-29-11-2017.pdf_page_6.jpg\n",
      "Tam. imgList 7\n",
      "imgList:  /home/info/MyNotebooks/Datasets/SentencasTRT1/IMGs/01004818920165010055-DOERJ-29-11-2017.pdf_page_0.jpg\n",
      "imgList:  /home/info/MyNotebooks/Datasets/SentencasTRT1/IMGs/01004818920165010055-DOERJ-29-11-2017.pdf_page_1.jpg\n",
      "imgList:  /home/info/MyNotebooks/Datasets/SentencasTRT1/IMGs/01004818920165010055-DOERJ-29-11-2017.pdf_page_2.jpg\n",
      "imgList:  /home/info/MyNotebooks/Datasets/SentencasTRT1/IMGs/01004818920165010055-DOERJ-29-11-2017.pdf_page_3.jpg\n",
      "imgList:  /home/info/MyNotebooks/Datasets/SentencasTRT1/IMGs/01004818920165010055-DOERJ-29-11-2017.pdf_page_4.jpg\n",
      "imgList:  /home/info/MyNotebooks/Datasets/SentencasTRT1/IMGs/01004818920165010055-DOERJ-29-11-2017.pdf_page_5.jpg\n",
      "imgList:  /home/info/MyNotebooks/Datasets/SentencasTRT1/IMGs/01004818920165010055-DOERJ-29-11-2017.pdf_page_6.jpg\n",
      "0 0 moving processed files:  01028309720175010421-DEJT-06-03-2018.pdf\n",
      "0 1 moving processed files:  01002131620175010050-DEJT-14-09-2017.pdf\n",
      "0 2 moving processed files:  01003933820175010048-DEJT-22-11-2017.pdf\n",
      "0 3 moving processed files:  01018231920175010244-DEJT-19-09-2018.pdf\n",
      "0 4 moving processed files:  01004818920165010055-DOERJ-29-11-2017.pdf\n",
      "5 5 moving for preparing proccess:  01017784720175010201-DEJT-19-07-2018.pdf\n",
      "5 6 moving for preparing proccess:  01011303320175010471-DEJT-01-09-2017.pdf\n",
      "5 7 moving for preparing proccess:  01014738520165010205-DEJT-17-02-2017.pdf\n",
      "5 8 moving for preparing proccess:  01012354420185010028-DEJT-06-11-2019.pdf\n",
      "5 9 moving for preparing proccess:  01009744720165010029-DOERJ-11-04-2017.pdf\n",
      "Pagina:  /home/info/MyNotebooks/Datasets/SentencasTRT1/IMGs/01017784720175010201-DEJT-19-07-2018.pdf_page_0.jpg\n",
      "Pagina:  /home/info/MyNotebooks/Datasets/SentencasTRT1/IMGs/01017784720175010201-DEJT-19-07-2018.pdf_page_1.jpg\n",
      "Pagina:  /home/info/MyNotebooks/Datasets/SentencasTRT1/IMGs/01017784720175010201-DEJT-19-07-2018.pdf_page_2.jpg\n",
      "Pagina:  /home/info/MyNotebooks/Datasets/SentencasTRT1/IMGs/01017784720175010201-DEJT-19-07-2018.pdf_page_3.jpg\n",
      "Pagina:  /home/info/MyNotebooks/Datasets/SentencasTRT1/IMGs/01017784720175010201-DEJT-19-07-2018.pdf_page_4.jpg\n",
      "Pagina:  /home/info/MyNotebooks/Datasets/SentencasTRT1/IMGs/01017784720175010201-DEJT-19-07-2018.pdf_page_5.jpg\n",
      "Pagina:  /home/info/MyNotebooks/Datasets/SentencasTRT1/IMGs/01017784720175010201-DEJT-19-07-2018.pdf_page_6.jpg\n",
      "Pagina:  /home/info/MyNotebooks/Datasets/SentencasTRT1/IMGs/01017784720175010201-DEJT-19-07-2018.pdf_page_7.jpg\n"
     ]
    },
    {
     "name": "stdout",
     "output_type": "stream",
     "text": [
      "Pagina:  /home/info/MyNotebooks/Datasets/SentencasTRT1/IMGs/01017784720175010201-DEJT-19-07-2018.pdf_page_8.jpg\n",
      "Pagina:  /home/info/MyNotebooks/Datasets/SentencasTRT1/IMGs/01017784720175010201-DEJT-19-07-2018.pdf_page_9.jpg\n",
      "Pagina:  /home/info/MyNotebooks/Datasets/SentencasTRT1/IMGs/01017784720175010201-DEJT-19-07-2018.pdf_page_10.jpg\n",
      "Pagina:  /home/info/MyNotebooks/Datasets/SentencasTRT1/IMGs/01017784720175010201-DEJT-19-07-2018.pdf_page_11.jpg\n",
      "Pagina:  /home/info/MyNotebooks/Datasets/SentencasTRT1/IMGs/01017784720175010201-DEJT-19-07-2018.pdf_page_12.jpg\n",
      "Pagina:  /home/info/MyNotebooks/Datasets/SentencasTRT1/IMGs/01017784720175010201-DEJT-19-07-2018.pdf_page_13.jpg\n",
      "Tam. imgList 14\n",
      "imgList:  /home/info/MyNotebooks/Datasets/SentencasTRT1/IMGs/01017784720175010201-DEJT-19-07-2018.pdf_page_0.jpg\n",
      "imgList:  /home/info/MyNotebooks/Datasets/SentencasTRT1/IMGs/01017784720175010201-DEJT-19-07-2018.pdf_page_1.jpg\n",
      "imgList:  /home/info/MyNotebooks/Datasets/SentencasTRT1/IMGs/01017784720175010201-DEJT-19-07-2018.pdf_page_2.jpg\n",
      "imgList:  /home/info/MyNotebooks/Datasets/SentencasTRT1/IMGs/01017784720175010201-DEJT-19-07-2018.pdf_page_3.jpg\n",
      "imgList:  /home/info/MyNotebooks/Datasets/SentencasTRT1/IMGs/01017784720175010201-DEJT-19-07-2018.pdf_page_4.jpg\n",
      "imgList:  /home/info/MyNotebooks/Datasets/SentencasTRT1/IMGs/01017784720175010201-DEJT-19-07-2018.pdf_page_5.jpg\n",
      "imgList:  /home/info/MyNotebooks/Datasets/SentencasTRT1/IMGs/01017784720175010201-DEJT-19-07-2018.pdf_page_6.jpg\n",
      "imgList:  /home/info/MyNotebooks/Datasets/SentencasTRT1/IMGs/01017784720175010201-DEJT-19-07-2018.pdf_page_7.jpg\n",
      "imgList:  /home/info/MyNotebooks/Datasets/SentencasTRT1/IMGs/01017784720175010201-DEJT-19-07-2018.pdf_page_8.jpg\n",
      "imgList:  /home/info/MyNotebooks/Datasets/SentencasTRT1/IMGs/01017784720175010201-DEJT-19-07-2018.pdf_page_9.jpg\n",
      "imgList:  /home/info/MyNotebooks/Datasets/SentencasTRT1/IMGs/01017784720175010201-DEJT-19-07-2018.pdf_page_10.jpg\n",
      "imgList:  /home/info/MyNotebooks/Datasets/SentencasTRT1/IMGs/01017784720175010201-DEJT-19-07-2018.pdf_page_11.jpg\n",
      "imgList:  /home/info/MyNotebooks/Datasets/SentencasTRT1/IMGs/01017784720175010201-DEJT-19-07-2018.pdf_page_12.jpg\n",
      "imgList:  /home/info/MyNotebooks/Datasets/SentencasTRT1/IMGs/01017784720175010201-DEJT-19-07-2018.pdf_page_13.jpg\n",
      "Pagina:  /home/info/MyNotebooks/Datasets/SentencasTRT1/IMGs/01011303320175010471-DEJT-01-09-2017.pdf_page_0.jpg\n",
      "Pagina:  /home/info/MyNotebooks/Datasets/SentencasTRT1/IMGs/01011303320175010471-DEJT-01-09-2017.pdf_page_1.jpg\n",
      "Pagina:  /home/info/MyNotebooks/Datasets/SentencasTRT1/IMGs/01011303320175010471-DEJT-01-09-2017.pdf_page_2.jpg\n",
      "Tam. imgList 3\n",
      "imgList:  /home/info/MyNotebooks/Datasets/SentencasTRT1/IMGs/01011303320175010471-DEJT-01-09-2017.pdf_page_0.jpg\n",
      "imgList:  /home/info/MyNotebooks/Datasets/SentencasTRT1/IMGs/01011303320175010471-DEJT-01-09-2017.pdf_page_1.jpg\n",
      "imgList:  /home/info/MyNotebooks/Datasets/SentencasTRT1/IMGs/01011303320175010471-DEJT-01-09-2017.pdf_page_2.jpg\n",
      "Pagina:  /home/info/MyNotebooks/Datasets/SentencasTRT1/IMGs/01014738520165010205-DEJT-17-02-2017.pdf_page_0.jpg\n",
      "Pagina:  /home/info/MyNotebooks/Datasets/SentencasTRT1/IMGs/01014738520165010205-DEJT-17-02-2017.pdf_page_1.jpg\n",
      "Pagina:  /home/info/MyNotebooks/Datasets/SentencasTRT1/IMGs/01014738520165010205-DEJT-17-02-2017.pdf_page_2.jpg\n",
      "Pagina:  /home/info/MyNotebooks/Datasets/SentencasTRT1/IMGs/01014738520165010205-DEJT-17-02-2017.pdf_page_3.jpg\n",
      "Pagina:  /home/info/MyNotebooks/Datasets/SentencasTRT1/IMGs/01014738520165010205-DEJT-17-02-2017.pdf_page_4.jpg\n",
      "Pagina:  /home/info/MyNotebooks/Datasets/SentencasTRT1/IMGs/01014738520165010205-DEJT-17-02-2017.pdf_page_5.jpg\n",
      "Tam. imgList 6\n",
      "imgList:  /home/info/MyNotebooks/Datasets/SentencasTRT1/IMGs/01014738520165010205-DEJT-17-02-2017.pdf_page_0.jpg\n",
      "imgList:  /home/info/MyNotebooks/Datasets/SentencasTRT1/IMGs/01014738520165010205-DEJT-17-02-2017.pdf_page_1.jpg\n",
      "imgList:  /home/info/MyNotebooks/Datasets/SentencasTRT1/IMGs/01014738520165010205-DEJT-17-02-2017.pdf_page_2.jpg\n",
      "imgList:  /home/info/MyNotebooks/Datasets/SentencasTRT1/IMGs/01014738520165010205-DEJT-17-02-2017.pdf_page_3.jpg\n",
      "imgList:  /home/info/MyNotebooks/Datasets/SentencasTRT1/IMGs/01014738520165010205-DEJT-17-02-2017.pdf_page_4.jpg\n",
      "imgList:  /home/info/MyNotebooks/Datasets/SentencasTRT1/IMGs/01014738520165010205-DEJT-17-02-2017.pdf_page_5.jpg\n",
      "Pagina:  /home/info/MyNotebooks/Datasets/SentencasTRT1/IMGs/01012354420185010028-DEJT-06-11-2019.pdf_page_0.jpg\n",
      "Pagina:  /home/info/MyNotebooks/Datasets/SentencasTRT1/IMGs/01012354420185010028-DEJT-06-11-2019.pdf_page_1.jpg\n",
      "Pagina:  /home/info/MyNotebooks/Datasets/SentencasTRT1/IMGs/01012354420185010028-DEJT-06-11-2019.pdf_page_2.jpg\n",
      "Pagina:  /home/info/MyNotebooks/Datasets/SentencasTRT1/IMGs/01012354420185010028-DEJT-06-11-2019.pdf_page_3.jpg\n",
      "Pagina:  /home/info/MyNotebooks/Datasets/SentencasTRT1/IMGs/01012354420185010028-DEJT-06-11-2019.pdf_page_4.jpg\n",
      "Pagina:  /home/info/MyNotebooks/Datasets/SentencasTRT1/IMGs/01012354420185010028-DEJT-06-11-2019.pdf_page_5.jpg\n",
      "Pagina:  /home/info/MyNotebooks/Datasets/SentencasTRT1/IMGs/01012354420185010028-DEJT-06-11-2019.pdf_page_6.jpg\n",
      "Pagina:  /home/info/MyNotebooks/Datasets/SentencasTRT1/IMGs/01012354420185010028-DEJT-06-11-2019.pdf_page_7.jpg\n",
      "Pagina:  /home/info/MyNotebooks/Datasets/SentencasTRT1/IMGs/01012354420185010028-DEJT-06-11-2019.pdf_page_8.jpg\n",
      "Pagina:  /home/info/MyNotebooks/Datasets/SentencasTRT1/IMGs/01012354420185010028-DEJT-06-11-2019.pdf_page_9.jpg\n",
      "Pagina:  /home/info/MyNotebooks/Datasets/SentencasTRT1/IMGs/01012354420185010028-DEJT-06-11-2019.pdf_page_10.jpg\n",
      "Pagina:  /home/info/MyNotebooks/Datasets/SentencasTRT1/IMGs/01012354420185010028-DEJT-06-11-2019.pdf_page_11.jpg\n",
      "Tam. imgList 12\n",
      "imgList:  /home/info/MyNotebooks/Datasets/SentencasTRT1/IMGs/01012354420185010028-DEJT-06-11-2019.pdf_page_0.jpg\n",
      "imgList:  /home/info/MyNotebooks/Datasets/SentencasTRT1/IMGs/01012354420185010028-DEJT-06-11-2019.pdf_page_1.jpg\n",
      "imgList:  /home/info/MyNotebooks/Datasets/SentencasTRT1/IMGs/01012354420185010028-DEJT-06-11-2019.pdf_page_2.jpg\n",
      "imgList:  /home/info/MyNotebooks/Datasets/SentencasTRT1/IMGs/01012354420185010028-DEJT-06-11-2019.pdf_page_3.jpg\n",
      "imgList:  /home/info/MyNotebooks/Datasets/SentencasTRT1/IMGs/01012354420185010028-DEJT-06-11-2019.pdf_page_4.jpg\n",
      "imgList:  /home/info/MyNotebooks/Datasets/SentencasTRT1/IMGs/01012354420185010028-DEJT-06-11-2019.pdf_page_5.jpg\n",
      "imgList:  /home/info/MyNotebooks/Datasets/SentencasTRT1/IMGs/01012354420185010028-DEJT-06-11-2019.pdf_page_6.jpg\n",
      "imgList:  /home/info/MyNotebooks/Datasets/SentencasTRT1/IMGs/01012354420185010028-DEJT-06-11-2019.pdf_page_7.jpg\n",
      "imgList:  /home/info/MyNotebooks/Datasets/SentencasTRT1/IMGs/01012354420185010028-DEJT-06-11-2019.pdf_page_8.jpg\n",
      "imgList:  /home/info/MyNotebooks/Datasets/SentencasTRT1/IMGs/01012354420185010028-DEJT-06-11-2019.pdf_page_9.jpg\n",
      "imgList:  /home/info/MyNotebooks/Datasets/SentencasTRT1/IMGs/01012354420185010028-DEJT-06-11-2019.pdf_page_10.jpg\n",
      "imgList:  /home/info/MyNotebooks/Datasets/SentencasTRT1/IMGs/01012354420185010028-DEJT-06-11-2019.pdf_page_11.jpg\n",
      "Pagina:  /home/info/MyNotebooks/Datasets/SentencasTRT1/IMGs/01009744720165010029-DOERJ-11-04-2017.pdf_page_0.jpg\n",
      "Pagina:  /home/info/MyNotebooks/Datasets/SentencasTRT1/IMGs/01009744720165010029-DOERJ-11-04-2017.pdf_page_1.jpg\n",
      "Pagina:  /home/info/MyNotebooks/Datasets/SentencasTRT1/IMGs/01009744720165010029-DOERJ-11-04-2017.pdf_page_2.jpg\n",
      "Pagina:  /home/info/MyNotebooks/Datasets/SentencasTRT1/IMGs/01009744720165010029-DOERJ-11-04-2017.pdf_page_3.jpg\n",
      "Pagina:  /home/info/MyNotebooks/Datasets/SentencasTRT1/IMGs/01009744720165010029-DOERJ-11-04-2017.pdf_page_4.jpg\n",
      "Tam. imgList 5\n",
      "imgList:  /home/info/MyNotebooks/Datasets/SentencasTRT1/IMGs/01009744720165010029-DOERJ-11-04-2017.pdf_page_0.jpg\n",
      "imgList:  /home/info/MyNotebooks/Datasets/SentencasTRT1/IMGs/01009744720165010029-DOERJ-11-04-2017.pdf_page_1.jpg\n",
      "imgList:  /home/info/MyNotebooks/Datasets/SentencasTRT1/IMGs/01009744720165010029-DOERJ-11-04-2017.pdf_page_2.jpg\n",
      "imgList:  /home/info/MyNotebooks/Datasets/SentencasTRT1/IMGs/01009744720165010029-DOERJ-11-04-2017.pdf_page_3.jpg\n",
      "imgList:  /home/info/MyNotebooks/Datasets/SentencasTRT1/IMGs/01009744720165010029-DOERJ-11-04-2017.pdf_page_4.jpg\n"
     ]
    },
    {
     "name": "stdout",
     "output_type": "stream",
     "text": [
      "5 5 moving processed files:  01017784720175010201-DEJT-19-07-2018.pdf\n",
      "5 6 moving processed files:  01011303320175010471-DEJT-01-09-2017.pdf\n",
      "5 7 moving processed files:  01014738520165010205-DEJT-17-02-2017.pdf\n",
      "5 8 moving processed files:  01012354420185010028-DEJT-06-11-2019.pdf\n",
      "5 9 moving processed files:  01009744720165010029-DOERJ-11-04-2017.pdf\n",
      "10 10 moving for preparing proccess:  01025861820175010471-DEJT-31-10-2018.pdf\n",
      "10 11 moving for preparing proccess:  00106987520155010070-DEJT-28-03-2017.pdf\n",
      "10 12 moving for preparing proccess:  01014996120175010201-DEJT-01-06-2018.pdf\n",
      "10 13 moving for preparing proccess:  01006945120175010511-DEJT-28-07-2017.pdf\n",
      "10 14 moving for preparing proccess:  01019795420175010002-DEJT-10-05-2019.pdf\n",
      "Pagina:  /home/info/MyNotebooks/Datasets/SentencasTRT1/IMGs/01025861820175010471-DEJT-31-10-2018.pdf_page_0.jpg\n",
      "Pagina:  /home/info/MyNotebooks/Datasets/SentencasTRT1/IMGs/01025861820175010471-DEJT-31-10-2018.pdf_page_1.jpg\n",
      "Pagina:  /home/info/MyNotebooks/Datasets/SentencasTRT1/IMGs/01025861820175010471-DEJT-31-10-2018.pdf_page_2.jpg\n",
      "Pagina:  /home/info/MyNotebooks/Datasets/SentencasTRT1/IMGs/01025861820175010471-DEJT-31-10-2018.pdf_page_3.jpg\n",
      "Pagina:  /home/info/MyNotebooks/Datasets/SentencasTRT1/IMGs/01025861820175010471-DEJT-31-10-2018.pdf_page_4.jpg\n",
      "Pagina:  /home/info/MyNotebooks/Datasets/SentencasTRT1/IMGs/01025861820175010471-DEJT-31-10-2018.pdf_page_5.jpg\n",
      "Pagina:  /home/info/MyNotebooks/Datasets/SentencasTRT1/IMGs/01025861820175010471-DEJT-31-10-2018.pdf_page_6.jpg\n",
      "Pagina:  /home/info/MyNotebooks/Datasets/SentencasTRT1/IMGs/01025861820175010471-DEJT-31-10-2018.pdf_page_7.jpg\n",
      "Pagina:  /home/info/MyNotebooks/Datasets/SentencasTRT1/IMGs/01025861820175010471-DEJT-31-10-2018.pdf_page_8.jpg\n",
      "Pagina:  /home/info/MyNotebooks/Datasets/SentencasTRT1/IMGs/01025861820175010471-DEJT-31-10-2018.pdf_page_9.jpg\n",
      "Tam. imgList 10\n",
      "imgList:  /home/info/MyNotebooks/Datasets/SentencasTRT1/IMGs/01025861820175010471-DEJT-31-10-2018.pdf_page_0.jpg\n",
      "imgList:  /home/info/MyNotebooks/Datasets/SentencasTRT1/IMGs/01025861820175010471-DEJT-31-10-2018.pdf_page_1.jpg\n",
      "imgList:  /home/info/MyNotebooks/Datasets/SentencasTRT1/IMGs/01025861820175010471-DEJT-31-10-2018.pdf_page_2.jpg\n",
      "imgList:  /home/info/MyNotebooks/Datasets/SentencasTRT1/IMGs/01025861820175010471-DEJT-31-10-2018.pdf_page_3.jpg\n",
      "imgList:  /home/info/MyNotebooks/Datasets/SentencasTRT1/IMGs/01025861820175010471-DEJT-31-10-2018.pdf_page_4.jpg\n",
      "imgList:  /home/info/MyNotebooks/Datasets/SentencasTRT1/IMGs/01025861820175010471-DEJT-31-10-2018.pdf_page_5.jpg\n",
      "imgList:  /home/info/MyNotebooks/Datasets/SentencasTRT1/IMGs/01025861820175010471-DEJT-31-10-2018.pdf_page_6.jpg\n",
      "imgList:  /home/info/MyNotebooks/Datasets/SentencasTRT1/IMGs/01025861820175010471-DEJT-31-10-2018.pdf_page_7.jpg\n",
      "imgList:  /home/info/MyNotebooks/Datasets/SentencasTRT1/IMGs/01025861820175010471-DEJT-31-10-2018.pdf_page_8.jpg\n",
      "imgList:  /home/info/MyNotebooks/Datasets/SentencasTRT1/IMGs/01025861820175010471-DEJT-31-10-2018.pdf_page_9.jpg\n"
     ]
    },
    {
     "ename": "KeyboardInterrupt",
     "evalue": "",
     "output_type": "error",
     "traceback": [
      "\u001b[0;31m---------------------------------------------------------------------------\u001b[0m",
      "\u001b[0;31mKeyboardInterrupt\u001b[0m                         Traceback (most recent call last)",
      "\u001b[0;32m~/MyNotebooks/HelperFunctions/DataWrangling/criaCorpusWithOCR.py\u001b[0m in \u001b[0;36m<module>\u001b[0;34m\u001b[0m\n",
      "\u001b[0;32m~/MyNotebooks/HelperFunctions/DataWrangling/criaCorpusWithOCR.py\u001b[0m in \u001b[0;36mreload_files\u001b[0;34m(self)\u001b[0m\n\u001b[1;32m    206\u001b[0m                     \u001b[0mshutil\u001b[0m\u001b[0;34m.\u001b[0m\u001b[0mmove\u001b[0m\u001b[0;34m(\u001b[0m\u001b[0mself\u001b[0m\u001b[0;34m.\u001b[0m\u001b[0mpdfs_path\u001b[0m\u001b[0;34m+\u001b[0m\u001b[0mdirectoryList\u001b[0m\u001b[0;34m[\u001b[0m\u001b[0mj\u001b[0m\u001b[0;34m]\u001b[0m\u001b[0;34m,\u001b[0m \u001b[0mself\u001b[0m\u001b[0;34m.\u001b[0m\u001b[0mfile_path\u001b[0m\u001b[0;34m)\u001b[0m\u001b[0;34m\u001b[0m\u001b[0;34m\u001b[0m\u001b[0m\n\u001b[1;32m    207\u001b[0m \u001b[0;34m\u001b[0m\u001b[0m\n\u001b[0;32m--> 208\u001b[0;31m             \u001b[0mself\u001b[0m\u001b[0;34m.\u001b[0m\u001b[0mproccess_folder\u001b[0m\u001b[0;34m(\u001b[0m\u001b[0;34m)\u001b[0m\u001b[0;34m\u001b[0m\u001b[0;34m\u001b[0m\u001b[0m\n\u001b[0m\u001b[1;32m    209\u001b[0m \u001b[0;34m\u001b[0m\u001b[0m\n\u001b[1;32m    210\u001b[0m             \u001b[0;32mfor\u001b[0m \u001b[0mj\u001b[0m \u001b[0;32min\u001b[0m \u001b[0mrange\u001b[0m\u001b[0;34m(\u001b[0m\u001b[0mi\u001b[0m\u001b[0;34m,\u001b[0m\u001b[0mi\u001b[0m\u001b[0;34m+\u001b[0m\u001b[0mbatch_step\u001b[0m\u001b[0;34m)\u001b[0m\u001b[0;34m:\u001b[0m\u001b[0;34m\u001b[0m\u001b[0;34m\u001b[0m\u001b[0m\n",
      "\u001b[0;32m~/MyNotebooks/HelperFunctions/DataWrangling/criaCorpusWithOCR.py\u001b[0m in \u001b[0;36mproccess_folder\u001b[0;34m(self)\u001b[0m\n\u001b[1;32m    184\u001b[0m                 \u001b[0;31m#self.pages = []\u001b[0m\u001b[0;34m\u001b[0m\u001b[0;34m\u001b[0m\u001b[0;34m\u001b[0m\u001b[0m\n\u001b[1;32m    185\u001b[0m                 \u001b[0mself\u001b[0m\u001b[0;34m.\u001b[0m\u001b[0mpdftoimg\u001b[0m\u001b[0;34m(\u001b[0m\u001b[0;34m)\u001b[0m\u001b[0;34m\u001b[0m\u001b[0;34m\u001b[0m\u001b[0m\n\u001b[0;32m--> 186\u001b[0;31m                 \u001b[0mtxt_content\u001b[0m \u001b[0;34m=\u001b[0m \u001b[0mself\u001b[0m\u001b[0;34m.\u001b[0m\u001b[0mimgtotext\u001b[0m\u001b[0;34m(\u001b[0m\u001b[0;34m)\u001b[0m  \u001b[0;31m#\u001b[0m\u001b[0;34m\u001b[0m\u001b[0;34m\u001b[0m\u001b[0m\n\u001b[0m\u001b[1;32m    187\u001b[0m                 \u001b[0;31m#print(\"No loop de proccess_folder que chama imgtotext\",txt_content)   #\u001b[0m\u001b[0;34m\u001b[0m\u001b[0;34m\u001b[0m\u001b[0;34m\u001b[0m\u001b[0m\n\u001b[1;32m    188\u001b[0m                 \u001b[0;32mwith\u001b[0m \u001b[0mopen\u001b[0m\u001b[0;34m(\u001b[0m\u001b[0mself\u001b[0m\u001b[0;34m.\u001b[0m\u001b[0mfile_path\u001b[0m\u001b[0;34m+\u001b[0m\u001b[0mself\u001b[0m\u001b[0;34m.\u001b[0m\u001b[0marq\u001b[0m\u001b[0;34m+\u001b[0m\u001b[0;34m'.txt'\u001b[0m\u001b[0;34m,\u001b[0m \u001b[0;34m'w'\u001b[0m\u001b[0;34m)\u001b[0m \u001b[0;32mas\u001b[0m \u001b[0mf\u001b[0m\u001b[0;34m:\u001b[0m\u001b[0;34m\u001b[0m\u001b[0;34m\u001b[0m\u001b[0m\n",
      "\u001b[0;32m~/MyNotebooks/HelperFunctions/DataWrangling/criaCorpusWithOCR.py\u001b[0m in \u001b[0;36mimgtotext\u001b[0;34m(self)\u001b[0m\n\u001b[1;32m    149\u001b[0m                 \u001b[0;31m#pytesseract.pytesseract.tesseract_cmd = tesseract_path\u001b[0m\u001b[0;34m\u001b[0m\u001b[0;34m\u001b[0m\u001b[0;34m\u001b[0m\u001b[0m\n\u001b[1;32m    150\u001b[0m                 \u001b[0;31m#text = str(((pytesseract.image_to_string(Image.open(img)))))\u001b[0m\u001b[0;34m\u001b[0m\u001b[0;34m\u001b[0m\u001b[0;34m\u001b[0m\u001b[0m\n\u001b[0;32m--> 151\u001b[0;31m                 \u001b[0mtext\u001b[0m \u001b[0;34m=\u001b[0m \u001b[0mstr\u001b[0m\u001b[0;34m(\u001b[0m\u001b[0;34m(\u001b[0m\u001b[0;34m(\u001b[0m\u001b[0mpytesseract\u001b[0m\u001b[0;34m.\u001b[0m\u001b[0mimage_to_string\u001b[0m\u001b[0;34m(\u001b[0m\u001b[0mimgFile\u001b[0m\u001b[0;34m,\u001b[0m \u001b[0mlang\u001b[0m\u001b[0;34m=\u001b[0m\u001b[0;34m'por'\u001b[0m\u001b[0;34m,\u001b[0m \u001b[0mconfig\u001b[0m\u001b[0;34m=\u001b[0m\u001b[0mself\u001b[0m\u001b[0;34m.\u001b[0m\u001b[0mcustom_config\u001b[0m\u001b[0;34m)\u001b[0m\u001b[0;34m)\u001b[0m\u001b[0;34m)\u001b[0m\u001b[0;34m)\u001b[0m\u001b[0;34m\u001b[0m\u001b[0;34m\u001b[0m\u001b[0m\n\u001b[0m\u001b[1;32m    152\u001b[0m                 \u001b[0mself\u001b[0m\u001b[0;34m.\u001b[0m\u001b[0mtextos\u001b[0m\u001b[0;34m.\u001b[0m\u001b[0mappend\u001b[0m\u001b[0;34m(\u001b[0m\u001b[0mtext\u001b[0m\u001b[0;34m)\u001b[0m\u001b[0;34m\u001b[0m\u001b[0;34m\u001b[0m\u001b[0m\n\u001b[1;32m    153\u001b[0m                 \u001b[0;31m#print(\"DENTRO DO LOOP de extração dos textos das paginas\", text)\u001b[0m\u001b[0;34m\u001b[0m\u001b[0;34m\u001b[0m\u001b[0;34m\u001b[0m\u001b[0m\n",
      "\u001b[0;32m~/.local/lib/python3.8/site-packages/pytesseract/pytesseract.py\u001b[0m in \u001b[0;36mimage_to_string\u001b[0;34m(image, lang, config, nice, output_type, timeout)\u001b[0m\n\u001b[1;32m    411\u001b[0m     \u001b[0margs\u001b[0m \u001b[0;34m=\u001b[0m \u001b[0;34m[\u001b[0m\u001b[0mimage\u001b[0m\u001b[0;34m,\u001b[0m \u001b[0;34m'txt'\u001b[0m\u001b[0;34m,\u001b[0m \u001b[0mlang\u001b[0m\u001b[0;34m,\u001b[0m \u001b[0mconfig\u001b[0m\u001b[0;34m,\u001b[0m \u001b[0mnice\u001b[0m\u001b[0;34m,\u001b[0m \u001b[0mtimeout\u001b[0m\u001b[0;34m]\u001b[0m\u001b[0;34m\u001b[0m\u001b[0;34m\u001b[0m\u001b[0m\n\u001b[1;32m    412\u001b[0m \u001b[0;34m\u001b[0m\u001b[0m\n\u001b[0;32m--> 413\u001b[0;31m     return {\n\u001b[0m\u001b[1;32m    414\u001b[0m         \u001b[0mOutput\u001b[0m\u001b[0;34m.\u001b[0m\u001b[0mBYTES\u001b[0m\u001b[0;34m:\u001b[0m \u001b[0;32mlambda\u001b[0m\u001b[0;34m:\u001b[0m \u001b[0mrun_and_get_output\u001b[0m\u001b[0;34m(\u001b[0m\u001b[0;34m*\u001b[0m\u001b[0;34m(\u001b[0m\u001b[0margs\u001b[0m \u001b[0;34m+\u001b[0m \u001b[0;34m[\u001b[0m\u001b[0;32mTrue\u001b[0m\u001b[0;34m]\u001b[0m\u001b[0;34m)\u001b[0m\u001b[0;34m)\u001b[0m\u001b[0;34m,\u001b[0m\u001b[0;34m\u001b[0m\u001b[0;34m\u001b[0m\u001b[0m\n\u001b[1;32m    415\u001b[0m         \u001b[0mOutput\u001b[0m\u001b[0;34m.\u001b[0m\u001b[0mDICT\u001b[0m\u001b[0;34m:\u001b[0m \u001b[0;32mlambda\u001b[0m\u001b[0;34m:\u001b[0m \u001b[0;34m{\u001b[0m\u001b[0;34m'text'\u001b[0m\u001b[0;34m:\u001b[0m \u001b[0mrun_and_get_output\u001b[0m\u001b[0;34m(\u001b[0m\u001b[0;34m*\u001b[0m\u001b[0margs\u001b[0m\u001b[0;34m)\u001b[0m\u001b[0;34m}\u001b[0m\u001b[0;34m,\u001b[0m\u001b[0;34m\u001b[0m\u001b[0;34m\u001b[0m\u001b[0m\n",
      "\u001b[0;32m~/.local/lib/python3.8/site-packages/pytesseract/pytesseract.py\u001b[0m in \u001b[0;36m<lambda>\u001b[0;34m()\u001b[0m\n\u001b[1;32m    414\u001b[0m         \u001b[0mOutput\u001b[0m\u001b[0;34m.\u001b[0m\u001b[0mBYTES\u001b[0m\u001b[0;34m:\u001b[0m \u001b[0;32mlambda\u001b[0m\u001b[0;34m:\u001b[0m \u001b[0mrun_and_get_output\u001b[0m\u001b[0;34m(\u001b[0m\u001b[0;34m*\u001b[0m\u001b[0;34m(\u001b[0m\u001b[0margs\u001b[0m \u001b[0;34m+\u001b[0m \u001b[0;34m[\u001b[0m\u001b[0;32mTrue\u001b[0m\u001b[0;34m]\u001b[0m\u001b[0;34m)\u001b[0m\u001b[0;34m)\u001b[0m\u001b[0;34m,\u001b[0m\u001b[0;34m\u001b[0m\u001b[0;34m\u001b[0m\u001b[0m\n\u001b[1;32m    415\u001b[0m         \u001b[0mOutput\u001b[0m\u001b[0;34m.\u001b[0m\u001b[0mDICT\u001b[0m\u001b[0;34m:\u001b[0m \u001b[0;32mlambda\u001b[0m\u001b[0;34m:\u001b[0m \u001b[0;34m{\u001b[0m\u001b[0;34m'text'\u001b[0m\u001b[0;34m:\u001b[0m \u001b[0mrun_and_get_output\u001b[0m\u001b[0;34m(\u001b[0m\u001b[0;34m*\u001b[0m\u001b[0margs\u001b[0m\u001b[0;34m)\u001b[0m\u001b[0;34m}\u001b[0m\u001b[0;34m,\u001b[0m\u001b[0;34m\u001b[0m\u001b[0;34m\u001b[0m\u001b[0m\n\u001b[0;32m--> 416\u001b[0;31m         \u001b[0mOutput\u001b[0m\u001b[0;34m.\u001b[0m\u001b[0mSTRING\u001b[0m\u001b[0;34m:\u001b[0m \u001b[0;32mlambda\u001b[0m\u001b[0;34m:\u001b[0m \u001b[0mrun_and_get_output\u001b[0m\u001b[0;34m(\u001b[0m\u001b[0;34m*\u001b[0m\u001b[0margs\u001b[0m\u001b[0;34m)\u001b[0m\u001b[0;34m,\u001b[0m\u001b[0;34m\u001b[0m\u001b[0;34m\u001b[0m\u001b[0m\n\u001b[0m\u001b[1;32m    417\u001b[0m     }[output_type]()\n\u001b[1;32m    418\u001b[0m \u001b[0;34m\u001b[0m\u001b[0m\n",
      "\u001b[0;32m~/.local/lib/python3.8/site-packages/pytesseract/pytesseract.py\u001b[0m in \u001b[0;36mrun_and_get_output\u001b[0;34m(image, extension, lang, config, nice, timeout, return_bytes)\u001b[0m\n\u001b[1;32m    282\u001b[0m         }\n\u001b[1;32m    283\u001b[0m \u001b[0;34m\u001b[0m\u001b[0m\n\u001b[0;32m--> 284\u001b[0;31m         \u001b[0mrun_tesseract\u001b[0m\u001b[0;34m(\u001b[0m\u001b[0;34m**\u001b[0m\u001b[0mkwargs\u001b[0m\u001b[0;34m)\u001b[0m\u001b[0;34m\u001b[0m\u001b[0;34m\u001b[0m\u001b[0m\n\u001b[0m\u001b[1;32m    285\u001b[0m         \u001b[0mfilename\u001b[0m \u001b[0;34m=\u001b[0m \u001b[0mkwargs\u001b[0m\u001b[0;34m[\u001b[0m\u001b[0;34m'output_filename_base'\u001b[0m\u001b[0;34m]\u001b[0m \u001b[0;34m+\u001b[0m \u001b[0mextsep\u001b[0m \u001b[0;34m+\u001b[0m \u001b[0mextension\u001b[0m\u001b[0;34m\u001b[0m\u001b[0;34m\u001b[0m\u001b[0m\n\u001b[1;32m    286\u001b[0m         \u001b[0;32mwith\u001b[0m \u001b[0mopen\u001b[0m\u001b[0;34m(\u001b[0m\u001b[0mfilename\u001b[0m\u001b[0;34m,\u001b[0m \u001b[0;34m'rb'\u001b[0m\u001b[0;34m)\u001b[0m \u001b[0;32mas\u001b[0m \u001b[0moutput_file\u001b[0m\u001b[0;34m:\u001b[0m\u001b[0;34m\u001b[0m\u001b[0;34m\u001b[0m\u001b[0m\n",
      "\u001b[0;32m~/.local/lib/python3.8/site-packages/pytesseract/pytesseract.py\u001b[0m in \u001b[0;36mrun_tesseract\u001b[0;34m(input_filename, output_filename_base, extension, lang, config, nice, timeout)\u001b[0m\n\u001b[1;32m    256\u001b[0m         \u001b[0;32mraise\u001b[0m \u001b[0mTesseractNotFoundError\u001b[0m\u001b[0;34m(\u001b[0m\u001b[0;34m)\u001b[0m\u001b[0;34m\u001b[0m\u001b[0;34m\u001b[0m\u001b[0m\n\u001b[1;32m    257\u001b[0m \u001b[0;34m\u001b[0m\u001b[0m\n\u001b[0;32m--> 258\u001b[0;31m     \u001b[0;32mwith\u001b[0m \u001b[0mtimeout_manager\u001b[0m\u001b[0;34m(\u001b[0m\u001b[0mproc\u001b[0m\u001b[0;34m,\u001b[0m \u001b[0mtimeout\u001b[0m\u001b[0;34m)\u001b[0m \u001b[0;32mas\u001b[0m \u001b[0merror_string\u001b[0m\u001b[0;34m:\u001b[0m\u001b[0;34m\u001b[0m\u001b[0;34m\u001b[0m\u001b[0m\n\u001b[0m\u001b[1;32m    259\u001b[0m         \u001b[0;32mif\u001b[0m \u001b[0mproc\u001b[0m\u001b[0;34m.\u001b[0m\u001b[0mreturncode\u001b[0m\u001b[0;34m:\u001b[0m\u001b[0;34m\u001b[0m\u001b[0;34m\u001b[0m\u001b[0m\n\u001b[1;32m    260\u001b[0m             \u001b[0;32mraise\u001b[0m \u001b[0mTesseractError\u001b[0m\u001b[0;34m(\u001b[0m\u001b[0mproc\u001b[0m\u001b[0;34m.\u001b[0m\u001b[0mreturncode\u001b[0m\u001b[0;34m,\u001b[0m \u001b[0mget_errors\u001b[0m\u001b[0;34m(\u001b[0m\u001b[0merror_string\u001b[0m\u001b[0;34m)\u001b[0m\u001b[0;34m)\u001b[0m\u001b[0;34m\u001b[0m\u001b[0;34m\u001b[0m\u001b[0m\n",
      "\u001b[0;32m~/anaconda3/lib/python3.8/contextlib.py\u001b[0m in \u001b[0;36m__enter__\u001b[0;34m(self)\u001b[0m\n\u001b[1;32m    111\u001b[0m         \u001b[0;32mdel\u001b[0m \u001b[0mself\u001b[0m\u001b[0;34m.\u001b[0m\u001b[0margs\u001b[0m\u001b[0;34m,\u001b[0m \u001b[0mself\u001b[0m\u001b[0;34m.\u001b[0m\u001b[0mkwds\u001b[0m\u001b[0;34m,\u001b[0m \u001b[0mself\u001b[0m\u001b[0;34m.\u001b[0m\u001b[0mfunc\u001b[0m\u001b[0;34m\u001b[0m\u001b[0;34m\u001b[0m\u001b[0m\n\u001b[1;32m    112\u001b[0m         \u001b[0;32mtry\u001b[0m\u001b[0;34m:\u001b[0m\u001b[0;34m\u001b[0m\u001b[0;34m\u001b[0m\u001b[0m\n\u001b[0;32m--> 113\u001b[0;31m             \u001b[0;32mreturn\u001b[0m \u001b[0mnext\u001b[0m\u001b[0;34m(\u001b[0m\u001b[0mself\u001b[0m\u001b[0;34m.\u001b[0m\u001b[0mgen\u001b[0m\u001b[0;34m)\u001b[0m\u001b[0;34m\u001b[0m\u001b[0;34m\u001b[0m\u001b[0m\n\u001b[0m\u001b[1;32m    114\u001b[0m         \u001b[0;32mexcept\u001b[0m \u001b[0mStopIteration\u001b[0m\u001b[0;34m:\u001b[0m\u001b[0;34m\u001b[0m\u001b[0;34m\u001b[0m\u001b[0m\n\u001b[1;32m    115\u001b[0m             \u001b[0;32mraise\u001b[0m \u001b[0mRuntimeError\u001b[0m\u001b[0;34m(\u001b[0m\u001b[0;34m\"generator didn't yield\"\u001b[0m\u001b[0;34m)\u001b[0m \u001b[0;32mfrom\u001b[0m \u001b[0;32mNone\u001b[0m\u001b[0;34m\u001b[0m\u001b[0;34m\u001b[0m\u001b[0m\n",
      "\u001b[0;32m~/.local/lib/python3.8/site-packages/pytesseract/pytesseract.py\u001b[0m in \u001b[0;36mtimeout_manager\u001b[0;34m(proc, seconds)\u001b[0m\n\u001b[1;32m    122\u001b[0m     \u001b[0;32mtry\u001b[0m\u001b[0;34m:\u001b[0m\u001b[0;34m\u001b[0m\u001b[0;34m\u001b[0m\u001b[0m\n\u001b[1;32m    123\u001b[0m         \u001b[0;32mif\u001b[0m \u001b[0;32mnot\u001b[0m \u001b[0mseconds\u001b[0m\u001b[0;34m:\u001b[0m\u001b[0;34m\u001b[0m\u001b[0;34m\u001b[0m\u001b[0m\n\u001b[0;32m--> 124\u001b[0;31m             \u001b[0;32myield\u001b[0m \u001b[0mproc\u001b[0m\u001b[0;34m.\u001b[0m\u001b[0mcommunicate\u001b[0m\u001b[0;34m(\u001b[0m\u001b[0;34m)\u001b[0m\u001b[0;34m[\u001b[0m\u001b[0;36m1\u001b[0m\u001b[0;34m]\u001b[0m\u001b[0;34m\u001b[0m\u001b[0;34m\u001b[0m\u001b[0m\n\u001b[0m\u001b[1;32m    125\u001b[0m             \u001b[0;32mreturn\u001b[0m\u001b[0;34m\u001b[0m\u001b[0;34m\u001b[0m\u001b[0m\n\u001b[1;32m    126\u001b[0m \u001b[0;34m\u001b[0m\u001b[0m\n",
      "\u001b[0;32m~/anaconda3/lib/python3.8/subprocess.py\u001b[0m in \u001b[0;36mcommunicate\u001b[0;34m(self, input, timeout)\u001b[0m\n\u001b[1;32m   1026\u001b[0m \u001b[0;34m\u001b[0m\u001b[0m\n\u001b[1;32m   1027\u001b[0m             \u001b[0;32mtry\u001b[0m\u001b[0;34m:\u001b[0m\u001b[0;34m\u001b[0m\u001b[0;34m\u001b[0m\u001b[0m\n\u001b[0;32m-> 1028\u001b[0;31m                 \u001b[0mstdout\u001b[0m\u001b[0;34m,\u001b[0m \u001b[0mstderr\u001b[0m \u001b[0;34m=\u001b[0m \u001b[0mself\u001b[0m\u001b[0;34m.\u001b[0m\u001b[0m_communicate\u001b[0m\u001b[0;34m(\u001b[0m\u001b[0minput\u001b[0m\u001b[0;34m,\u001b[0m \u001b[0mendtime\u001b[0m\u001b[0;34m,\u001b[0m \u001b[0mtimeout\u001b[0m\u001b[0;34m)\u001b[0m\u001b[0;34m\u001b[0m\u001b[0;34m\u001b[0m\u001b[0m\n\u001b[0m\u001b[1;32m   1029\u001b[0m             \u001b[0;32mexcept\u001b[0m \u001b[0mKeyboardInterrupt\u001b[0m\u001b[0;34m:\u001b[0m\u001b[0;34m\u001b[0m\u001b[0;34m\u001b[0m\u001b[0m\n\u001b[1;32m   1030\u001b[0m                 \u001b[0;31m# https://bugs.python.org/issue25942\u001b[0m\u001b[0;34m\u001b[0m\u001b[0;34m\u001b[0m\u001b[0;34m\u001b[0m\u001b[0m\n",
      "\u001b[0;32m~/anaconda3/lib/python3.8/subprocess.py\u001b[0m in \u001b[0;36m_communicate\u001b[0;34m(self, input, endtime, orig_timeout)\u001b[0m\n\u001b[1;32m   1868\u001b[0m                             'failed to raise TimeoutExpired.')\n\u001b[1;32m   1869\u001b[0m \u001b[0;34m\u001b[0m\u001b[0m\n\u001b[0;32m-> 1870\u001b[0;31m                     \u001b[0mready\u001b[0m \u001b[0;34m=\u001b[0m \u001b[0mselector\u001b[0m\u001b[0;34m.\u001b[0m\u001b[0mselect\u001b[0m\u001b[0;34m(\u001b[0m\u001b[0mtimeout\u001b[0m\u001b[0;34m)\u001b[0m\u001b[0;34m\u001b[0m\u001b[0;34m\u001b[0m\u001b[0m\n\u001b[0m\u001b[1;32m   1871\u001b[0m                     \u001b[0mself\u001b[0m\u001b[0;34m.\u001b[0m\u001b[0m_check_timeout\u001b[0m\u001b[0;34m(\u001b[0m\u001b[0mendtime\u001b[0m\u001b[0;34m,\u001b[0m \u001b[0morig_timeout\u001b[0m\u001b[0;34m,\u001b[0m \u001b[0mstdout\u001b[0m\u001b[0;34m,\u001b[0m \u001b[0mstderr\u001b[0m\u001b[0;34m)\u001b[0m\u001b[0;34m\u001b[0m\u001b[0;34m\u001b[0m\u001b[0m\n\u001b[1;32m   1872\u001b[0m \u001b[0;34m\u001b[0m\u001b[0m\n",
      "\u001b[0;32m~/anaconda3/lib/python3.8/selectors.py\u001b[0m in \u001b[0;36mselect\u001b[0;34m(self, timeout)\u001b[0m\n\u001b[1;32m    413\u001b[0m         \u001b[0mready\u001b[0m \u001b[0;34m=\u001b[0m \u001b[0;34m[\u001b[0m\u001b[0;34m]\u001b[0m\u001b[0;34m\u001b[0m\u001b[0;34m\u001b[0m\u001b[0m\n\u001b[1;32m    414\u001b[0m         \u001b[0;32mtry\u001b[0m\u001b[0;34m:\u001b[0m\u001b[0;34m\u001b[0m\u001b[0;34m\u001b[0m\u001b[0m\n\u001b[0;32m--> 415\u001b[0;31m             \u001b[0mfd_event_list\u001b[0m \u001b[0;34m=\u001b[0m \u001b[0mself\u001b[0m\u001b[0;34m.\u001b[0m\u001b[0m_selector\u001b[0m\u001b[0;34m.\u001b[0m\u001b[0mpoll\u001b[0m\u001b[0;34m(\u001b[0m\u001b[0mtimeout\u001b[0m\u001b[0;34m)\u001b[0m\u001b[0;34m\u001b[0m\u001b[0;34m\u001b[0m\u001b[0m\n\u001b[0m\u001b[1;32m    416\u001b[0m         \u001b[0;32mexcept\u001b[0m \u001b[0mInterruptedError\u001b[0m\u001b[0;34m:\u001b[0m\u001b[0;34m\u001b[0m\u001b[0;34m\u001b[0m\u001b[0m\n\u001b[1;32m    417\u001b[0m             \u001b[0;32mreturn\u001b[0m \u001b[0mready\u001b[0m\u001b[0;34m\u001b[0m\u001b[0;34m\u001b[0m\u001b[0m\n",
      "\u001b[0;31mKeyboardInterrupt\u001b[0m: "
     ]
    }
   ],
   "source": [
    "%%time\n",
    "corpus.reload_files()"
   ]
  },
  {
   "cell_type": "code",
   "execution_count": null,
   "id": "43d1f710",
   "metadata": {},
   "outputs": [],
   "source": []
  },
  {
   "cell_type": "code",
   "execution_count": null,
   "id": "36e36f7f",
   "metadata": {},
   "outputs": [],
   "source": []
  },
  {
   "cell_type": "code",
   "execution_count": null,
   "id": "a6fadeb8",
   "metadata": {},
   "outputs": [],
   "source": []
  },
  {
   "cell_type": "code",
   "execution_count": null,
   "id": "2662075a",
   "metadata": {},
   "outputs": [],
   "source": []
  },
  {
   "cell_type": "code",
   "execution_count": null,
   "id": "a4be2bcd",
   "metadata": {},
   "outputs": [],
   "source": []
  },
  {
   "cell_type": "code",
   "execution_count": null,
   "id": "8a31335d",
   "metadata": {},
   "outputs": [],
   "source": []
  },
  {
   "cell_type": "code",
   "execution_count": null,
   "id": "ff668e08",
   "metadata": {},
   "outputs": [],
   "source": []
  },
  {
   "cell_type": "code",
   "execution_count": null,
   "id": "e4ea99c4",
   "metadata": {},
   "outputs": [],
   "source": []
  },
  {
   "cell_type": "code",
   "execution_count": null,
   "id": "4dd011d3",
   "metadata": {},
   "outputs": [],
   "source": [
    "s = \"some\\x00string. with\\x15 funny characters\""
   ]
  },
  {
   "cell_type": "code",
   "execution_count": null,
   "id": "578e408b",
   "metadata": {},
   "outputs": [],
   "source": [
    "import string\n",
    "\n",
    "space_char = set(\" \")\n",
    "prtle = set(string.printable)\n",
    "printable = space_char.union(prtle)\n",
    "#filter(lambda x: x in printable, s)\n",
    "print(len(printable))"
   ]
  },
  {
   "cell_type": "code",
   "execution_count": null,
   "id": "39a92633",
   "metadata": {},
   "outputs": [],
   "source": [
    "print(space_char)"
   ]
  },
  {
   "cell_type": "code",
   "execution_count": null,
   "id": "91ef2bfe",
   "metadata": {},
   "outputs": [],
   "source": [
    "print(printable)"
   ]
  },
  {
   "cell_type": "code",
   "execution_count": null,
   "id": "f9e3877f",
   "metadata": {},
   "outputs": [],
   "source": [
    "# 0123456789abcdefghijklmnopqrstuvwxyzABCDEFGHIJKLMNOPQRSTUVWXYZ!\"#$%&'()*+,-./:;<=>?@[\\]^_`{|}~\n",
    "type(printable)"
   ]
  },
  {
   "cell_type": "code",
   "execution_count": null,
   "id": "093da30a",
   "metadata": {},
   "outputs": [],
   "source": [
    "set1 = set(string.printable)\n",
    "set2 = set(\" \")\n",
    "\n",
    "set3 = set1 | set2\n",
    " \n",
    "# union of two sets\n",
    "print(\"set1 U set2 : \", set3)"
   ]
  },
  {
   "cell_type": "code",
   "execution_count": null,
   "id": "7ad0b0d2",
   "metadata": {},
   "outputs": [],
   "source": [
    "print(len(set1), ' ', len(set3))"
   ]
  },
  {
   "cell_type": "code",
   "execution_count": null,
   "id": "dc11faeb",
   "metadata": {},
   "outputs": [],
   "source": [
    "spec_char = {'ã','ẽ','õ','á','é','í','ó','ú','â','ê','î','ô','û','Ã','Ẽ','Õ','Á','É','Í','Ó','Ú','Â','Ê','Î','Ô','Û','ü','Ü','ç','Ç','º','ª','§'}\n",
    "printable = printable.union(spec_char)\n",
    "print(len(printable))"
   ]
  },
  {
   "cell_type": "code",
   "execution_count": null,
   "id": "d4708d36",
   "metadata": {},
   "outputs": [],
   "source": [
    "type(printable)"
   ]
  },
  {
   "cell_type": "code",
   "execution_count": null,
   "id": "0395debb",
   "metadata": {},
   "outputs": [],
   "source": [
    "print(len(printable), ' ', len(set3))"
   ]
  },
  {
   "cell_type": "code",
   "execution_count": null,
   "id": "e0f92368",
   "metadata": {},
   "outputs": [],
   "source": [
    "print(\"ç\" in printable)"
   ]
  },
  {
   "cell_type": "code",
   "execution_count": null,
   "id": "3d12847f",
   "metadata": {},
   "outputs": [],
   "source": [
    "set1 = {2, 4, 5, 6}\n",
    "set2 = {4, 6, 7, 8}\n",
    "set3 = {7, 8, 9, 10}\n",
    " \n",
    "# union of two sets\n",
    "print(\"set1 U set2 : \", set1.union(set2))"
   ]
  },
  {
   "cell_type": "code",
   "execution_count": null,
   "id": "0f4b6b9b",
   "metadata": {},
   "outputs": [],
   "source": []
  },
  {
   "cell_type": "code",
   "execution_count": null,
   "id": "79e87c6d",
   "metadata": {},
   "outputs": [],
   "source": []
  },
  {
   "cell_type": "code",
   "execution_count": null,
   "id": "baff7cae",
   "metadata": {},
   "outputs": [],
   "source": [
    "printable.remove('\\x0b')"
   ]
  },
  {
   "cell_type": "code",
   "execution_count": null,
   "id": "094f2bdd",
   "metadata": {},
   "outputs": [],
   "source": [
    "print(printable)"
   ]
  },
  {
   "cell_type": "code",
   "execution_count": null,
   "id": "bf180a0c",
   "metadata": {},
   "outputs": [],
   "source": [
    "caract = ['\\x0b', '\\x0c', '\\t', '\\n']"
   ]
  },
  {
   "cell_type": "code",
   "execution_count": null,
   "id": "66fb1fd6",
   "metadata": {},
   "outputs": [],
   "source": [
    "print(lambda x: x in caract)"
   ]
  },
  {
   "cell_type": "code",
   "execution_count": null,
   "id": "b3186a62",
   "metadata": {},
   "outputs": [],
   "source": [
    "printable.remove(lambda x: x in caract)"
   ]
  },
  {
   "cell_type": "code",
   "execution_count": null,
   "id": "7eafd5e5",
   "metadata": {},
   "outputs": [],
   "source": []
  },
  {
   "cell_type": "code",
   "execution_count": null,
   "id": "a545f3c9",
   "metadata": {},
   "outputs": [],
   "source": []
  },
  {
   "cell_type": "code",
   "execution_count": null,
   "id": "9645cff3",
   "metadata": {},
   "outputs": [],
   "source": []
  },
  {
   "cell_type": "code",
   "execution_count": null,
   "id": "6803a096",
   "metadata": {},
   "outputs": [],
   "source": []
  },
  {
   "cell_type": "code",
   "execution_count": null,
   "id": "02f7097a",
   "metadata": {},
   "outputs": [],
   "source": [
    "%%time\n",
    "corpus.proccess_folder()"
   ]
  },
  {
   "cell_type": "code",
   "execution_count": null,
   "id": "15c1bacd",
   "metadata": {},
   "outputs": [],
   "source": []
  },
  {
   "cell_type": "code",
   "execution_count": null,
   "id": "27d58dea",
   "metadata": {},
   "outputs": [],
   "source": []
  },
  {
   "cell_type": "code",
   "execution_count": null,
   "id": "5264ef59",
   "metadata": {},
   "outputs": [],
   "source": []
  },
  {
   "cell_type": "code",
   "execution_count": null,
   "id": "d57a8918",
   "metadata": {},
   "outputs": [],
   "source": []
  },
  {
   "cell_type": "code",
   "execution_count": null,
   "id": "a7342fe1",
   "metadata": {},
   "outputs": [],
   "source": []
  },
  {
   "cell_type": "code",
   "execution_count": null,
   "id": "0d8b8e68",
   "metadata": {},
   "outputs": [],
   "source": []
  },
  {
   "cell_type": "code",
   "execution_count": null,
   "id": "a8ed5ba5",
   "metadata": {},
   "outputs": [],
   "source": []
  },
  {
   "cell_type": "code",
   "execution_count": null,
   "id": "4aaba45b",
   "metadata": {},
   "outputs": [],
   "source": []
  },
  {
   "cell_type": "code",
   "execution_count": null,
   "id": "a3db411a",
   "metadata": {},
   "outputs": [],
   "source": []
  },
  {
   "cell_type": "code",
   "execution_count": null,
   "id": "0dff337c",
   "metadata": {},
   "outputs": [],
   "source": []
  },
  {
   "cell_type": "code",
   "execution_count": null,
   "id": "cab2f814",
   "metadata": {},
   "outputs": [],
   "source": []
  },
  {
   "cell_type": "code",
   "execution_count": null,
   "id": "cc547bd7",
   "metadata": {},
   "outputs": [],
   "source": []
  },
  {
   "cell_type": "code",
   "execution_count": null,
   "id": "1519c6cf",
   "metadata": {},
   "outputs": [],
   "source": []
  },
  {
   "cell_type": "code",
   "execution_count": null,
   "id": "31cf582e",
   "metadata": {},
   "outputs": [],
   "source": [
    "%%time\n",
    "corpus.pdftoimg()"
   ]
  },
  {
   "cell_type": "code",
   "execution_count": null,
   "id": "07c34464",
   "metadata": {},
   "outputs": [],
   "source": [
    "%%time\n",
    "corpus.crop_img()"
   ]
  },
  {
   "cell_type": "code",
   "execution_count": null,
   "id": "8774488c",
   "metadata": {},
   "outputs": [],
   "source": [
    "%%time\n",
    "print(corpus.imgtotext())\n",
    "# psm 11"
   ]
  },
  {
   "cell_type": "code",
   "execution_count": null,
   "id": "a03db606",
   "metadata": {},
   "outputs": [],
   "source": [
    "%%time\n",
    "print(corpus.imgtotext())\n",
    "# psm 11"
   ]
  },
  {
   "cell_type": "code",
   "execution_count": null,
   "id": "b701b256",
   "metadata": {},
   "outputs": [],
   "source": [
    "%%time\n",
    "print(corpus.imgtotext())\n",
    "# psm 11"
   ]
  },
  {
   "cell_type": "code",
   "execution_count": null,
   "id": "d0f2d481",
   "metadata": {},
   "outputs": [],
   "source": [
    "%%time\n",
    "print(corpus.imgtotext())\n",
    "# psm 11"
   ]
  },
  {
   "cell_type": "code",
   "execution_count": null,
   "id": "18b2cee2",
   "metadata": {},
   "outputs": [],
   "source": [
    "%%time\n",
    "print(corpus.imgtotext())\n",
    "# psm 4"
   ]
  },
  {
   "cell_type": "code",
   "execution_count": null,
   "id": "a1f64bac",
   "metadata": {},
   "outputs": [],
   "source": [
    "%%time\n",
    "print(corpus.imgtotext())\n",
    "# --oem 1 --psm 4"
   ]
  },
  {
   "cell_type": "code",
   "execution_count": null,
   "id": "466d53c6",
   "metadata": {},
   "outputs": [],
   "source": [
    "%%time\n",
    "print(corpus.imgtotext())\n",
    "# psm\n"
   ]
  },
  {
   "cell_type": "code",
   "execution_count": null,
   "id": "68df128c",
   "metadata": {},
   "outputs": [],
   "source": [
    "%%time\n",
    "print(corpus.imgtotext())\n",
    "# psm"
   ]
  },
  {
   "cell_type": "code",
   "execution_count": null,
   "id": "e6632786",
   "metadata": {},
   "outputs": [],
   "source": []
  },
  {
   "cell_type": "code",
   "execution_count": null,
   "id": "54835968",
   "metadata": {},
   "outputs": [],
   "source": [
    "#!pip install ocrmypdf"
   ]
  },
  {
   "cell_type": "code",
   "execution_count": null,
   "id": "11b1d1b7",
   "metadata": {},
   "outputs": [],
   "source": [
    "import ocrmypdf\n",
    "file = \"/home/info/MyNotebooks/Datasets/SentencasTRT1/PDFs/0080300-68.2008.5.01.0016.pdf\"\n",
    "result = ocrmypdf.ocr(file, 'OCR_'+file, output_type='pdf', skip_text=True, deskew=True)"
   ]
  },
  {
   "cell_type": "code",
   "execution_count": null,
   "id": "4b56d544",
   "metadata": {},
   "outputs": [],
   "source": []
  },
  {
   "cell_type": "code",
   "execution_count": null,
   "id": "8de47d5d",
   "metadata": {},
   "outputs": [],
   "source": []
  },
  {
   "cell_type": "code",
   "execution_count": null,
   "id": "467784a6",
   "metadata": {},
   "outputs": [],
   "source": [
    "!pip install PyMuPDF"
   ]
  },
  {
   "cell_type": "code",
   "execution_count": null,
   "id": "9b7a37c9",
   "metadata": {},
   "outputs": [],
   "source": [
    "import fitz"
   ]
  },
  {
   "cell_type": "code",
   "execution_count": null,
   "id": "07b743b2",
   "metadata": {},
   "outputs": [],
   "source": [
    "file = \"/home/info/MyNotebooks/Datasets/SentencasTRT1/PDFs/0080300-68.2008.5.01.0016.pdf\"\n",
    "doc = fitz.open(file)\n",
    "\n",
    "for page_num in range(doc.pageCount):\n",
    "        page = doc.loadPage(page_num)\n",
    "        pages_df = pages_df.append({'text': page.getText('text')}, ignore_index=True)\n",
    "        \n",
    "        \n",
    "extraction_pdfs[file] = pages_df  "
   ]
  },
  {
   "cell_type": "code",
   "execution_count": null,
   "id": "f01425fc",
   "metadata": {},
   "outputs": [],
   "source": []
  },
  {
   "cell_type": "code",
   "execution_count": null,
   "id": "21ad8d61",
   "metadata": {},
   "outputs": [],
   "source": []
  },
  {
   "cell_type": "code",
   "execution_count": null,
   "id": "e42523b0",
   "metadata": {},
   "outputs": [],
   "source": []
  },
  {
   "cell_type": "code",
   "execution_count": null,
   "id": "2954017e",
   "metadata": {},
   "outputs": [],
   "source": []
  },
  {
   "cell_type": "code",
   "execution_count": null,
   "id": "5ed88b98",
   "metadata": {},
   "outputs": [],
   "source": []
  },
  {
   "cell_type": "code",
   "execution_count": null,
   "id": "427e7c64",
   "metadata": {},
   "outputs": [],
   "source": [
    "for file in file_list:\n",
    "    try:\n",
    "        result = ocrmypdf.ocr(file, 'OCR_'+file,output_type='pdf',skip_text=True,deskew=True)\n",
    "    except Exception as e:\n",
    "        if hasattr(e,'message'):\n",
    "            error_log[file] = e.message\n",
    "        else:\n",
    "            error_log[file] = e\n",
    "        continue\n",
    "        \n",
    "'''"
   ]
  },
  {
   "cell_type": "code",
   "execution_count": null,
   "id": "e3ff908d",
   "metadata": {},
   "outputs": [],
   "source": [
    "# https://www.anycodings.com/1questions/155089/remove-header-and-footer-from-pdftotext-module-in-python"
   ]
  },
  {
   "cell_type": "code",
   "execution_count": null,
   "id": "806b6ba8",
   "metadata": {},
   "outputs": [],
   "source": []
  }
 ],
 "metadata": {
  "kernelspec": {
   "display_name": "Python 3",
   "language": "python",
   "name": "python3"
  },
  "language_info": {
   "codemirror_mode": {
    "name": "ipython",
    "version": 3
   },
   "file_extension": ".py",
   "mimetype": "text/x-python",
   "name": "python",
   "nbconvert_exporter": "python",
   "pygments_lexer": "ipython3",
   "version": "3.8.8"
  }
 },
 "nbformat": 4,
 "nbformat_minor": 5
}
