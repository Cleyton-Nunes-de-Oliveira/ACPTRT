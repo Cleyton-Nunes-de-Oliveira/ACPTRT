{
 "cells": [
  {
   "cell_type": "markdown",
   "metadata": {
    "id": "rEJBSTyZIrIb"
   },
   "source": [
    "# Fine-tuning BERT (base or large) on a Token-Classification (NER) task by using the library adapter-transformers (notebook version)"
   ]
  },
  {
   "cell_type": "markdown",
   "metadata": {},
   "source": [
    "- **Credit**: [Hugging Face](https://huggingface.co/) and [adapter-transformers](https://github.com/Adapter-Hub/adapter-transformers)\n",
    "- **Author**: [Pierre GUILLOU](https://www.linkedin.com/in/pierreguillou/)\n",
    "- **Date**: 07/28/2021 (07/25/2021: version 1.2; 07/19/2021: version 1.1 and version 1.0)\n",
    "- **Blog post**: [NLP nas empresas | Como ajustar um modelo de linguagem natural como BERT para a tarefa de classificação de tokens (NER) com um Adapter?](https://medium.com/@pierre_guillou/nlp-nas-empresas-como-ajustar-um-modelo-de-linguagem-natural-como-bert-para-a-tarefa-de-9c6a704bf536)\n",
    "- **Link to the folder in github with this notebook and all necessary scripts**: [token-classification with adapters](https://github.com/piegu/language-models/tree/master/adapters/token-classification/)\n",
    "\n",
    "https://medium.com/@pierre_guillou/nlp-nas-empresas-como-ajustar-um-modelo-de-linguagem-natural-como-bert-para-a-tarefa-de-9c6a704bf536"
   ]
  },
  {
   "cell_type": "markdown",
   "metadata": {},
   "source": [
    "## 1. Context"
   ]
  },
  {
   "cell_type": "markdown",
   "metadata": {},
   "source": [
    "### Objective"
   ]
  },
  {
   "cell_type": "markdown",
   "metadata": {},
   "source": [
    "The objective here is to **fine-tune a Masked Language Model (MLM) like BERT (base or large) for a Token-Classification (NER) task by training adapters (library [adapter-transformers](https://github.com/Adapter-Hub/adapter-transformers)), not the embeddings and transformers layers of the MLM model**, and to compare results with BERT model fully fine-tune for the same task.\n",
    "\n",
    "The interest is obvious: if you need models for different NLP tasks, instead of fine-tuning and storing one model by NLP task, **you store only one MLM model and the trained tasks adapters which sizes are between 1% and 3% of the MLM model one** (it depends of the choosen adapter configuration). More, the loading of these adapters in production is very easy."
   ]
  },
  {
   "cell_type": "markdown",
   "metadata": {},
   "source": [
    "### Content"
   ]
  },
  {
   "cell_type": "markdown",
   "metadata": {},
   "source": [
    "In this notebook, we will see how to fine-tune one of the [🤗 Transformers](https://github.com/huggingface/transformers) model to a Token-Classification (NER) task, which is the task of predicting a label for each token. We will use the library [adapter-transformers](https://github.com/Adapter-Hub/adapter-transformers) and see how to easily load a dataset for these kinds of tasks and use the `Trainer` API to fine-tune a model on it.\n",
    "\n",
    "![Widget inference representing the QA task](images/token_classification_adapter.png)"
   ]
  },
  {
   "cell_type": "markdown",
   "metadata": {
    "id": "4RRkXuteIrIh"
   },
   "source": [
    "This notebook is built to run on any token classification task, with any model checkpoint from the [Model Hub](https://huggingface.co/models) as long as that model has a version with a token classification head and a fast tokenizer (check on [this table](https://huggingface.co/transformers/index.html#bigtable) if this is the case). It might just need some small adjustments if you decide to use a different dataset than the one used here. Depending on you model and the GPU you are using, you might need to adjust the batch size to avoid out-of-memory errors. Set those three parameters, then the rest of the notebook should run smoothly:"
   ]
  },
  {
   "cell_type": "markdown",
   "metadata": {},
   "source": [
    "### History and Credit"
   ]
  },
  {
   "cell_type": "markdown",
   "metadata": {},
   "source": [
    "This notebook is an adaptation of the following notebooks and scripts for **fine-tuning a (transformer) Masked Language Model (MLM) like BERT (base or large) on the Token-Classification (NER) task with any NER dataset** (we use here the [LeNER-br dataset](https://huggingface.co/datasets/lener_br):\n",
    "- **from [adapter-transformers](https://github.com/Adapter-Hub/adapter-transformers)** | notebook [07a_Adapter_train_NER_with_id2label.ipynb](https://github.com/Adapter-Hub/adapter-transformers/blob/master/notebooks/07a_Adapter_train_NER_with_id2label.ipynb) and script [run_ner.py](https://github.com/Adapter-Hub/adapter-transformers/blob/master/examples/token-classification/run_ner.py) (this script was adapted from the script [run_qa.py](https://github.com/huggingface/transformers/blob/master/examples/pytorch/token-classification/run_ner.py) of HF)\n",
    "- **from [transformers](https://github.com/huggingface/transformers) of Hugging Face** | notebook [token_classification.ipynb](https://github.com/huggingface/notebooks/blob/master/examples/token_classification.ipynb) and script [run_ner.py](https://github.com/huggingface/transformers/blob/master/examples/pytorch/token-classification/run_ner.py) \n",
    "\n",
    "In order to speed up the fine-tuning of the model on only one GPU, the library [DeepSpeed](https://www.deepspeed.ai/) could be used by applying the configuration provided by HF in the notebook [transformers + deepspeed CLI](https://github.com/stas00/porting/blob/master/transformers/deepspeed/DeepSpeed_on_colab_CLI.ipynb) but as the library adapter-transformers is not synchronized with the last version of the library transformers of HF, we keep that option for the future."
   ]
  },
  {
   "cell_type": "markdown",
   "metadata": {},
   "source": [
    "### Major changes from original notebooks and scripts"
   ]
  },
  {
   "cell_type": "markdown",
   "metadata": {},
   "source": [
    "The notebook [token_classification.ipynb](https://github.com/huggingface/notebooks/blob/master/examples/token_classification.ipynb) and the script [run_ner.py](https://github.com/Adapter-Hub/adapter-transformers/blob/master/examples/token-classification/run_ner.py) allow to evaluate the model performance against f1 metric at the end of each epoch, and not against validation loss.\n",
    "\n",
    "This is very important as we consider the metric when selecting a model, not the loss."
   ]
  },
  {
   "cell_type": "markdown",
   "metadata": {},
   "source": [
    "Therefore, we updated the notebook [token_classification.ipynb](https://github.com/huggingface/notebooks/blob/master/examples/token_classification.ipynb) to [token_classification_adapter.ipynb](https://github.com/piegu/language-models/blob/master/adapters/token_classification/token_classification_adapter.ipynb) with the following changes:\n",
    "- **Weighted loss**: as the distribution of entities (tokens to find) is very unbalanced, you can choose to train the model with a weighted loss.\n",
    "- **EarlyStopping** by selecting the model with the highest eval f1 (patience of 3 before ending the training)\n",
    "- **MAD-X 2.0** that allows not to train adapters in the last transformer layer (read page 6 of [UNKs Everywhere: Adapting Multilingual Language Models to New Scripts](https://arxiv.org/pdf/2012.15562.pdf))\n",
    "- **Stack method** for the lang and task adapters when a lang adapter is loaded ([doc](https://docs.adapterhub.ml/adapter_composition.html?highlight=stack#stack))\n",
    "- **Houlsby MHA last layer** that allows no to train adapter after the Feed Fordward but only after the MHA (Multi-Head Attention) in the last layer for the Houlsby configuration"
   ]
  },
  {
   "cell_type": "markdown",
   "metadata": {},
   "source": [
    "## 2. Installation"
   ]
  },
  {
   "cell_type": "code",
   "execution_count": 2,
   "metadata": {},
   "outputs": [
    {
     "data": {
      "text/plain": [
       "PosixPath('/home/info/MyNotebooks/BertAdapterNER')"
      ]
     },
     "execution_count": 2,
     "metadata": {},
     "output_type": "execute_result"
    }
   ],
   "source": [
    "import pathlib\n",
    "from pathlib import Path\n",
    "\n",
    "#root path\n",
    "# Incluí as linhas abaixo\n",
    "#root = Path.cwd(\"/home/info/MyNotebooks/BertAdapterNER\")\n",
    "root = Path(\"/home/info/MyNotebooks/BertAdapterNER\")\n",
    "\n",
    "# Incluí as linhas abaixo\n",
    "#root = str(root)+\"/neuralmind-bert-base-portuguese-cased-finetuned-squad-v1.1-pt\"\n",
    "\n",
    "root = Path(root)\n",
    "root"
   ]
  },
  {
   "cell_type": "code",
   "execution_count": 3,
   "metadata": {},
   "outputs": [],
   "source": [
    "import pickle\n",
    "import pandas as pd"
   ]
  },
  {
   "cell_type": "code",
   "execution_count": 4,
   "metadata": {},
   "outputs": [
    {
     "name": "stdout",
     "output_type": "stream",
     "text": [
      "python: 3.8.8 (default, Apr 13 2021, 19:58:26) \n",
      "[GCC 7.3.0]\n",
      "Pytorch: 1.10.2+cu102\n",
      "adapter-transformers: 4.17.0\n",
      "tokenizers: 0.12.1\n",
      "datasets: 1.11.0\n"
     ]
    }
   ],
   "source": [
    "import sys; print('python:',sys.version)\n",
    "\n",
    "import torch; print('Pytorch:',torch.__version__)\n",
    "\n",
    "import transformers; print('adapter-transformers:',transformers.__version__)\n",
    "import transformers; #print('HF transformers:',transformers.__hf_version__)\n",
    "import tokenizers; print('tokenizers:',tokenizers.__version__)\n",
    "import datasets; print('datasets:',datasets.__version__)\n",
    "from datasets import DatasetDict, Dataset, ClassLabel, Sequence\n",
    "\n",
    "# import deepspeed; print('deepspeed:',deepspeed.__version__)\n",
    "\n",
    "# Versions used in the virtuel environment of this notebook:\n",
    "\n",
    "# python: 3.8.10 (default, Jun  4 2021, 15:09:15) \n",
    "# [GCC 7.5.0]\n",
    "# Pytorch: 1.9.0\n",
    "# adapter-transformers: 2.1.1\n",
    "# transformers: 4.8.2\n",
    "# tokenizers: 0.10.3\n",
    "# datasets: 1.9.0"
   ]
  },
  {
   "cell_type": "markdown",
   "metadata": {},
   "source": [
    "## 3. Model & dataset"
   ]
  },
  {
   "cell_type": "code",
   "execution_count": 5,
   "metadata": {},
   "outputs": [
    {
     "data": {
      "text/plain": [
       "'/home/info/MyNotebooks/BertAdapterNER'"
      ]
     },
     "execution_count": 5,
     "metadata": {},
     "output_type": "execute_result"
    }
   ],
   "source": [
    "# Select a MLM BERT base or large in the dataset language\n",
    "model_checkpoint = \"neuralmind/bert-base-portuguese-cased\"\n",
    "#model_checkpoint = \"neuralmind/bert-large-portuguese-cased\"\n",
    "#model_output = \"\"\n",
    "# Inclui a linha abaixo:\n",
    "model_output = str(root)\n",
    "\n",
    "\n",
    "# LeNER-br in Portuguese\n",
    "dataset_name_hf = \"lener_br\" # name of the dataset in the Hugging Face dataset hub: https://huggingface.co/datasets\n",
    "dataset_name = dataset_name_hf.replace('_','') # name of the dataset for this notebook\n",
    "model_output"
   ]
  },
  {
   "cell_type": "code",
   "execution_count": 6,
   "metadata": {},
   "outputs": [],
   "source": [
    "# train BERT with 2 sentences consecutive\n",
    "next_sentence = True"
   ]
  },
  {
   "cell_type": "markdown",
   "metadata": {},
   "source": [
    "## 4. Main hyperparameters"
   ]
  },
  {
   "cell_type": "code",
   "execution_count": 7,
   "metadata": {},
   "outputs": [],
   "source": [
    "task = \"ner\""
   ]
  },
  {
   "cell_type": "code",
   "execution_count": 7,
   "metadata": {},
   "outputs": [],
   "source": [
    "# training arguments\n",
    "batch_size = 8\n",
    "gradient_accumulation_steps = 1\n",
    "\n",
    "learning_rate = 1e-4\n",
    "num_train_epochs = 5 # 20.\n",
    "early_stopping_patience = 5\n",
    "\n",
    "adam_epsilon = 1e-6\n",
    "\n",
    "fp16 = True\n",
    "ds = False # If True, we use DeepSpeed\n",
    "\n",
    "# best model\n",
    "load_best_model_at_end = True \n",
    "metric_for_best_model = \"f1\"\n",
    "greater_is_better = True\n",
    "\n",
    "# weighted loss\n",
    "weighted_loss = False\n",
    "if weighted_loss:\n",
    "    c = 0.3\n",
    "else:\n",
    "    c = 0.0"
   ]
  },
  {
   "cell_type": "code",
   "execution_count": 8,
   "metadata": {},
   "outputs": [],
   "source": [
    "# train adapter\n",
    "train_adapter = True # we want to train an adapter\n",
    "load_adapter = None # we do not upload an existing adapter \n",
    "\n",
    "# lang adapter\n",
    "with_adapters_mlm = False # True # if False, we do not upload an existing lang adapter\n",
    "\n",
    "if with_adapters_mlm:\n",
    "    # define values to upload a specific lang adapter\n",
    "    adapter_composition = \"stack\" # we will stack the lang and task adapters\n",
    "else:\n",
    "    adapter_composition = None\n",
    "\n",
    "# if True, do not put adapter in the last transformer layer (Pfeiffer configuration)\n",
    "madx2 = True\n",
    "\n",
    "# if True, do not put adapter in the last transformer layer after the FeedFordarw block (Houlsby configuration)\n",
    "houlsby_MHA_lastlayer = False"
   ]
  },
  {
   "cell_type": "markdown",
   "metadata": {},
   "source": [
    "## 5. Configuration"
   ]
  },
  {
   "cell_type": "markdown",
   "metadata": {},
   "source": [
    "### GPU"
   ]
  },
  {
   "cell_type": "code",
   "execution_count": null,
   "metadata": {},
   "outputs": [],
   "source": [
    "# gpu\n",
    "#n_gpu = 1 # train on just one GPU\n",
    "#gpu = 0 # select the GPU\n",
    "# Comentei as duas linhas acima.\n",
    "\n",
    "# Provavelmente vai dar erro abaixo relativo a esta seção\n",
    "# Como direcionar para a cpu?\n",
    "# Reiniciar o Kernel, comentar as duas linhas relativas a GPU e ir executando o codigo.\n"
   ]
  },
  {
   "cell_type": "code",
   "execution_count": null,
   "metadata": {},
   "outputs": [],
   "source": [
    "# Select GPU 0\n",
    "import os\n",
    "os.environ['MASTER_ADDR'] = 'localhost'\n",
    "if gpu == 0:\n",
    "    os.environ['MASTER_PORT'] = '9999' # modify if RuntimeError: Address already in use # GPU 0\n",
    "elif gpu == 1:\n",
    "    os.environ['MASTER_PORT'] = '9997'\n",
    "os.environ['RANK'] = \"0\"\n",
    "os.environ['LOCAL_RANK'] = str(gpu)\n",
    "os.environ['WORLD_SIZE'] = \"1\""
   ]
  },
  {
   "cell_type": "markdown",
   "metadata": {},
   "source": [
    "### Adapters config"
   ]
  },
  {
   "cell_type": "markdown",
   "metadata": {},
   "source": [
    "#### Task adapter"
   ]
  },
  {
   "cell_type": "code",
   "execution_count": 9,
   "metadata": {},
   "outputs": [
    {
     "data": {
      "text/plain": [
       "('pfeiffer', 'gelu', 16, 'pt')"
      ]
     },
     "execution_count": 9,
     "metadata": {},
     "output_type": "execute_result"
    }
   ],
   "source": [
    "# task adapter config\n",
    "adapter_config_name = \"pfeiffer\" # houlsby is possible, too\n",
    "if adapter_config_name == \"pfeiffer\":\n",
    "    adapter_non_linearity = 'gelu' # relu is possible, too\n",
    "elif adapter_config_name == \"houlsby\":\n",
    "    adapter_non_linearity = 'swish'\n",
    "adapter_reduction_factor = 16\n",
    "language = 'pt' # pt = Portuguese\n",
    "\n",
    "adapter_config_name, adapter_non_linearity, adapter_reduction_factor, language"
   ]
  },
  {
   "cell_type": "markdown",
   "metadata": {},
   "source": [
    "#### Lang adapter"
   ]
  },
  {
   "cell_type": "code",
   "execution_count": 17,
   "metadata": {},
   "outputs": [],
   "source": [
    "if with_adapters_mlm:\n",
    "    \n",
    "    # AQUI PODE ESTAR O PROBLEMA! Mas todos hiperparametros referem-se ao _mlm!\n",
    "    #\n",
    "    # hyperparameters used for fine-tuning the MLM with lang adapter\n",
    "    learning_rate_mlm = 1e-4\n",
    "    batch_size_mlm = 16\n",
    "    gradient_accumulation_steps_mlm = 1\n",
    "    adam_epsilon_mlm = 1e-6\n",
    "    num_train_epoch_mlm = 100.\n",
    "    early_stopping_patience_mlm = 10\n",
    "    madx2_mlm = madx2\n",
    "    houlsby_MHA_lastlayer_mlm = houlsby_MHA_lastlayer\n",
    "    ds_mlm = False\n",
    "    fp16_mlm = True\n",
    "    load_best_model_at_end_mlm = True\n",
    "    metric_for_best_model_mlm = \"loss\"\n",
    "    adapter_config_mlm = adapter_config_name+\"+inv\"\n",
    "    \n",
    "    # path to lang adapter\n",
    "    outputs_mlm = model_checkpoint.replace('/','-') + '_' + dataset_name + '/' + 'mlm' + '/' \\\n",
    "    + 'lr' + str(learning_rate_mlm) \\\n",
    "    + '_bs' + str(batch_size_mlm) \\\n",
    "    + '_GAS' + str(gradient_accumulation_steps_mlm) \\\n",
    "    + '_eps' + str(adam_epsilon_mlm) \\\n",
    "    + '_epochs' + str(num_train_epoch_mlm) \\\n",
    "    + '_patience' + str(early_stopping_patience_mlm) \\\n",
    "    + '_madx2' + str(madx2_mlm) \\\n",
    "    + '_houlsby_MHA_lastlayer' + str(houlsby_MHA_lastlayer_mlm) \\\n",
    "    + '_ds' + str(ds_mlm) \\\n",
    "    + '_fp16' + str(fp16_mlm) \\\n",
    "    + '_best' + str(load_best_model_at_end_mlm) \\\n",
    "    + '_metric' + str(metric_for_best_model_mlm) \\\n",
    "    + '_adapterconfig' + str(adapter_config_mlm)\n",
    "    \n",
    "    path_to_outputs_mlm = root/'outputs'/outputs_mlm\n",
    "    \n",
    "    # Config of the lang adapter\n",
    "    lang_adapter_path = path_to_outputs_mlm/'adapters-mlm/'\n",
    "    \n",
    "    load_lang_adapter = str(lang_adapter_path)\n",
    "    lang_adapter_config = str(lang_adapter_path) + \"/adapter_config.json\"\n",
    "    if adapter_config_mlm == \"pfeiffer+inv\":\n",
    "        lang_adapter_non_linearity = 'gelu' # relu is possible, too\n",
    "    elif adapter_config_mlm == \"houlsby+inv\":\n",
    "        lang_adapter_non_linearity = 'swish'\n",
    "    lang_adapter_reduction_factor = 2\n",
    "    language_mlm = language\n",
    "    "
   ]
  },
  {
   "cell_type": "code",
   "execution_count": null,
   "metadata": {},
   "outputs": [],
   "source": [
    "#lang_adapter_config"
   ]
  },
  {
   "cell_type": "code",
   "execution_count": null,
   "metadata": {},
   "outputs": [],
   "source": [
    "#adapter_config_mlm, lang_adapter_non_linearity, language_mlm"
   ]
  },
  {
   "cell_type": "code",
   "execution_count": null,
   "metadata": {},
   "outputs": [],
   "source": []
  },
  {
   "cell_type": "markdown",
   "metadata": {},
   "source": [
    "### Training arguments of the HF trainer"
   ]
  },
  {
   "cell_type": "code",
   "execution_count": 18,
   "metadata": {},
   "outputs": [],
   "source": [
    "# setup the training argument\n",
    "do_train = True \n",
    "do_eval = True \n",
    "\n",
    "# if you want to test the trainer, set up the following variables\n",
    "max_train_samples = 200 # None\n",
    "max_val_samples = 50 # None\n",
    "\n",
    "# epochs, bs, GA\n",
    "evaluation_strategy = \"epoch\" \n",
    "\n",
    "# fp16\n",
    "fp16_opt_level = 'O1'\n",
    "fp16_backend = \"auto\"\n",
    "fp16_full_eval = False\n",
    "\n",
    "# optimizer (AdamW)\n",
    "weight_decay = 0.01 # 0.0\n",
    "adam_beta1 = 0.9\n",
    "adam_beta2 = 0.999\n",
    "\n",
    "# scheduler\n",
    "lr_scheduler_type = 'linear'\n",
    "warmup_ratio = 0.0\n",
    "warmup_steps = 0\n",
    "\n",
    "# logs\n",
    "logging_strategy = \"steps\"\n",
    "logging_first_step = True # False\n",
    "logging_steps = 500     # if strategy = \"steps\"\n",
    "eval_steps = logging_steps # logging_steps\n",
    "\n",
    "# checkpoints\n",
    "save_strategy = \"epoch\" # steps\n",
    "save_steps = 500 # if save_strategy = \"steps\"\n",
    "save_total_limit = 1 # None\n",
    "\n",
    "# no cuda, seed\n",
    "no_cuda = False\n",
    "seed = 42\n",
    "\n",
    "# bar\n",
    "disable_tqdm = False # True\n",
    "remove_unused_columns = True"
   ]
  },
  {
   "cell_type": "code",
   "execution_count": 19,
   "metadata": {},
   "outputs": [
    {
     "data": {
      "text/plain": [
       "PosixPath('/home/info/MyNotebooks/BertAdapterNER/outputs/neuralmind-bert-base-portuguese-cased_lenerbr/ner/lr0.0001_bs8_epochs5_patience5_wamlmFalse_madx2True_houlsby_MHA_lastlayerFalse_dsFalse_fp16True_bestTrue_metricf1_weightedlossFalse_c0.0_nsTrue_adapterconfigpfeiffer')"
      ]
     },
     "execution_count": 19,
     "metadata": {},
     "output_type": "execute_result"
    }
   ],
   "source": [
    "# folder for training outputs\n",
    "\n",
    "#if model_checkpoint == \"neuralmind/bert-large-portuguese-cased\":\n",
    "if model_checkpoint == \"neuralmind/bert-base-portuguese-cased\":\n",
    "    outputs = model_checkpoint.replace('/','-') + '_' + dataset_name\n",
    "else:\n",
    "    outputs = model_output\n",
    "    \n",
    "if with_adapters_mlm:\n",
    "    outputs = outputs + '/' + 'mlm_' + str(task) + '_AdCompo' + str(adapter_composition) + '/'\n",
    "else:\n",
    "    outputs = outputs + '/' + str(task) + '/'\n",
    "\n",
    "outputs = outputs \\\n",
    "+ 'lr' + str(learning_rate) \\\n",
    "+ '_bs' + str(batch_size) \\\n",
    "+ '_epochs' + str(num_train_epochs) \\\n",
    "+ '_patience' + str(early_stopping_patience) \\\n",
    "+ '_wamlm' + str(with_adapters_mlm) \\\n",
    "+ '_madx2' + str(madx2) \\\n",
    "+ '_houlsby_MHA_lastlayer' + str(houlsby_MHA_lastlayer) \\\n",
    "+ '_ds' + str(ds) \\\n",
    "+ '_fp16' + str(fp16) \\\n",
    "+ '_best' + str(load_best_model_at_end) \\\n",
    "+ '_metric' + str(metric_for_best_model) \\\n",
    "+ '_weightedloss' + str(weighted_loss) \\\n",
    "+ '_c' + str(c) \\\n",
    "+ '_ns' + str(next_sentence) \\\n",
    "+ '_adapterconfig' + str(adapter_config_name)  \n",
    "\n",
    "# path to outputs\n",
    "#path_to_outputs = Path(path_to_outputs)\n",
    "path_to_outputs = root/'outputs'/outputs\n",
    "\n",
    "# subfolder for model outputs\n",
    "output_dir = path_to_outputs/'output_dir' \n",
    "overwrite_output_dir = True # False\n",
    "\n",
    "# logs\n",
    "logging_dir = path_to_outputs/'logging_dir'\n",
    "\n",
    "path_to_outputs\n",
    "#output_dir\n",
    "#logging_dir\n",
    "#root"
   ]
  },
  {
   "cell_type": "code",
   "execution_count": null,
   "metadata": {},
   "outputs": [],
   "source": [
    "#Deveria ser assim:\n",
    "#/home/info/MyNotebooks/neuralmind-bert-base-portuguese-cased-finetuned-squad-v1.1-pt/outputs/neuralmind-bert-large-portuguese-cased_lenerbr/mlm/                 lr0.0001_bs16_GAS1_eps1e-06_epochs100.0_patience10             _madx2True_houlsby_MHA_lastlayerFalse_dsFalse_fp16True_bestTrue_metricloss                            _adapterconfigpfeiffer+inv/adapters-mlm/adapter_config.json\n",
    "#/home/info/MyNotebooks/neuralmind-bert-base-portuguese-cased-finetuned-squad-v1.1-pt/outputs/neuralmind-bert-large-portuguese-cased_lenerbr/mlm_ner_AdCompostack/lr0.0001_bs8 _GAS1_eps1e-06_epochs 20.0_patience5   _wamlmTrue _madx2True_houlsby_MHA_lastlayerFalse_dsFalse_fp16True_bestTrue_metricf1_weightedlossFalse_c0.0_nsTrue_adapterconfigpfeiffer'"
   ]
  },
  {
   "cell_type": "code",
   "execution_count": null,
   "metadata": {},
   "outputs": [],
   "source": []
  },
  {
   "cell_type": "markdown",
   "metadata": {
    "id": "whPRbBNbIrIl"
   },
   "source": [
    "## 6. Loading the dataset"
   ]
  },
  {
   "cell_type": "markdown",
   "metadata": {
    "id": "W7QYTpxXIrIl"
   },
   "source": [
    "We will use the [🤗 Datasets](https://github.com/huggingface/datasets) library to download the data and get the metric we need to use for evaluation (to compare our model to the benchmark). This can be easily done with the functions `load_dataset` and `load_metric`.  "
   ]
  },
  {
   "cell_type": "code",
   "execution_count": 20,
   "metadata": {
    "id": "IreSlFmlIrIm"
   },
   "outputs": [],
   "source": [
    "from datasets import load_dataset, load_metric"
   ]
  },
  {
   "cell_type": "markdown",
   "metadata": {
    "id": "CKx2zKs5IrIq"
   },
   "source": [
    "For our example here, we'll use the [lener_br dataset](https://huggingface.co/datasets/lener_br). The notebook should work with any token classification dataset provided by the 🤗 Datasets library. If you're using your own dataset defined from a JSON or csv file (see the [Datasets documentation](https://huggingface.co/docs/datasets/loading_datasets.html#from-local-files) on how to load them), it might need some adjustments in the names of the columns used."
   ]
  },
  {
   "cell_type": "code",
   "execution_count": 21,
   "metadata": {},
   "outputs": [
    {
     "name": "stderr",
     "output_type": "stream",
     "text": [
      "Reusing dataset lener_br (/home/info/.cache/huggingface/datasets/lener_br/lener_br/1.0.0/4a8c97e6813b5c2d85a50faf0a3e6c24ea82f4a9044e6e9e8b24997d27399382)\n"
     ]
    }
   ],
   "source": [
    "datasets = load_dataset(dataset_name_hf)"
   ]
  },
  {
   "cell_type": "markdown",
   "metadata": {
    "id": "RzfPtOMoIrIu"
   },
   "source": [
    "The `datasets` object itself is [`DatasetDict`](https://huggingface.co/docs/datasets/package_reference/main_classes.html#datasetdict), which contains one key for the training, validation and test set."
   ]
  },
  {
   "cell_type": "code",
   "execution_count": 22,
   "metadata": {
    "id": "GWiVUF0jIrIv",
    "outputId": "35e3ea43-f397-4a54-c90c-f2cf8d36873e"
   },
   "outputs": [
    {
     "data": {
      "text/plain": [
       "DatasetDict({\n",
       "    train: Dataset({\n",
       "        features: ['id', 'tokens', 'ner_tags'],\n",
       "        num_rows: 7828\n",
       "    })\n",
       "    validation: Dataset({\n",
       "        features: ['id', 'tokens', 'ner_tags'],\n",
       "        num_rows: 1177\n",
       "    })\n",
       "    test: Dataset({\n",
       "        features: ['id', 'tokens', 'ner_tags'],\n",
       "        num_rows: 1390\n",
       "    })\n",
       "})"
      ]
     },
     "execution_count": 22,
     "metadata": {},
     "output_type": "execute_result"
    }
   ],
   "source": [
    "datasets"
   ]
  },
  {
   "cell_type": "markdown",
   "metadata": {},
   "source": [
    "We can see the training, validation and test sets all have a column for the tokens (the input texts split into words) and one column of labels for each kind of task we introduced before."
   ]
  },
  {
   "cell_type": "markdown",
   "metadata": {
    "id": "u3EtYfeHIrIz"
   },
   "source": [
    "To access an actual element, you need to select a split first, then give an index:"
   ]
  },
  {
   "cell_type": "code",
   "execution_count": 23,
   "metadata": {
    "id": "X6HrpprwIrIz",
    "outputId": "d7670bc0-42e4-4c09-8a6a-5c018ded7d95"
   },
   "outputs": [
    {
     "data": {
      "text/plain": [
       "{'id': '0',\n",
       " 'tokens': ['EMENTA',\n",
       "  ':',\n",
       "  'APELAÇÃO',\n",
       "  'CÍVEL',\n",
       "  '-',\n",
       "  'AÇÃO',\n",
       "  'DE',\n",
       "  'INDENIZAÇÃO',\n",
       "  'POR',\n",
       "  'DANOS',\n",
       "  'MORAIS',\n",
       "  '-',\n",
       "  'PRELIMINAR',\n",
       "  '-',\n",
       "  'ARGUIDA',\n",
       "  'PELO',\n",
       "  'MINISTÉRIO',\n",
       "  'PÚBLICO',\n",
       "  'EM',\n",
       "  'GRAU',\n",
       "  'RECURSAL',\n",
       "  '-',\n",
       "  'NULIDADE',\n",
       "  '-',\n",
       "  'AUSÊNCIA',\n",
       "  'DE',\n",
       "  'INTERVENÇÃO',\n",
       "  'DO',\n",
       "  'PARQUET',\n",
       "  'NA',\n",
       "  'INSTÂNCIA',\n",
       "  'A',\n",
       "  'QUO',\n",
       "  '-',\n",
       "  'PRESENÇA',\n",
       "  'DE',\n",
       "  'INCAPAZ',\n",
       "  '-',\n",
       "  'PREJUÍZO',\n",
       "  'EXISTENTE',\n",
       "  '-',\n",
       "  'PRELIMINAR',\n",
       "  'ACOLHIDA',\n",
       "  '-',\n",
       "  'NULIDADE',\n",
       "  'RECONHECIDA',\n",
       "  '.'],\n",
       " 'ner_tags': [0,\n",
       "  0,\n",
       "  0,\n",
       "  0,\n",
       "  0,\n",
       "  0,\n",
       "  0,\n",
       "  0,\n",
       "  0,\n",
       "  0,\n",
       "  0,\n",
       "  0,\n",
       "  0,\n",
       "  0,\n",
       "  0,\n",
       "  0,\n",
       "  1,\n",
       "  2,\n",
       "  0,\n",
       "  0,\n",
       "  0,\n",
       "  0,\n",
       "  0,\n",
       "  0,\n",
       "  0,\n",
       "  0,\n",
       "  0,\n",
       "  0,\n",
       "  0,\n",
       "  0,\n",
       "  0,\n",
       "  0,\n",
       "  0,\n",
       "  0,\n",
       "  0,\n",
       "  0,\n",
       "  0,\n",
       "  0,\n",
       "  0,\n",
       "  0,\n",
       "  0,\n",
       "  0,\n",
       "  0,\n",
       "  0,\n",
       "  0,\n",
       "  0,\n",
       "  0]}"
      ]
     },
     "execution_count": 23,
     "metadata": {},
     "output_type": "execute_result"
    }
   ],
   "source": [
    "datasets[\"train\"][0]"
   ]
  },
  {
   "cell_type": "markdown",
   "metadata": {},
   "source": [
    "The labels are already coded as integer ids to be easily usable by our model, but the correspondence with the actual categories is stored in the `features` of the dataset:"
   ]
  },
  {
   "cell_type": "code",
   "execution_count": 24,
   "metadata": {},
   "outputs": [
    {
     "data": {
      "text/plain": [
       "Sequence(feature=ClassLabel(num_classes=13, names=['O', 'B-ORGANIZACAO', 'I-ORGANIZACAO', 'B-PESSOA', 'I-PESSOA', 'B-TEMPO', 'I-TEMPO', 'B-LOCAL', 'I-LOCAL', 'B-LEGISLACAO', 'I-LEGISLACAO', 'B-JURISPRUDENCIA', 'I-JURISPRUDENCIA'], names_file=None, id=None), length=-1, id=None)"
      ]
     },
     "execution_count": 24,
     "metadata": {},
     "output_type": "execute_result"
    }
   ],
   "source": [
    "datasets[\"train\"].features[f\"ner_tags\"]"
   ]
  },
  {
   "cell_type": "markdown",
   "metadata": {},
   "source": [
    "So for the NER tags, 0 corresponds to 'O', 1 to 'B-ORGANIZACAO' etc... On top of the 'O' (which means no special entity), there are four labels for NER here, each prefixed with 'B-' (for beginning) or 'I-' (for intermediate), that indicate if the token is the first one for the current group with the label or not:\n",
    "- 'ORGANIZACAO' for organization\n",
    "- 'PESSOA' for person\n",
    "- 'TEMPO' for data\n",
    "- 'LOCAL' for location\n",
    "- 'LEGISLACAO' for legislation\n",
    "- 'JURISPRUDENCIA' for jurisprudence"
   ]
  },
  {
   "cell_type": "markdown",
   "metadata": {},
   "source": [
    "Since the labels are lists of `ClassLabel`, the actual names of the labels are nested in the `feature` attribute of the object above:"
   ]
  },
  {
   "cell_type": "code",
   "execution_count": 25,
   "metadata": {},
   "outputs": [
    {
     "data": {
      "text/plain": [
       "['O',\n",
       " 'B-ORGANIZACAO',\n",
       " 'I-ORGANIZACAO',\n",
       " 'B-PESSOA',\n",
       " 'I-PESSOA',\n",
       " 'B-TEMPO',\n",
       " 'I-TEMPO',\n",
       " 'B-LOCAL',\n",
       " 'I-LOCAL',\n",
       " 'B-LEGISLACAO',\n",
       " 'I-LEGISLACAO',\n",
       " 'B-JURISPRUDENCIA',\n",
       " 'I-JURISPRUDENCIA']"
      ]
     },
     "execution_count": 25,
     "metadata": {},
     "output_type": "execute_result"
    }
   ],
   "source": [
    "label_list = datasets[\"train\"].features[f\"{task}_tags\"].feature.names\n",
    "label_list"
   ]
  },
  {
   "cell_type": "markdown",
   "metadata": {
    "id": "WHUmphG3IrI3"
   },
   "source": [
    "To get a sense of what the data looks like, the following function will show some examples picked randomly in the dataset (automatically decoding the labels in passing)."
   ]
  },
  {
   "cell_type": "code",
   "execution_count": 26,
   "metadata": {
    "id": "i3j8APAoIrI3"
   },
   "outputs": [],
   "source": [
    "from datasets import ClassLabel, Sequence\n",
    "import random\n",
    "import pandas as pd\n",
    "from IPython.display import display, HTML\n",
    "\n",
    "def show_random_elements(dataset, num_examples=10):\n",
    "    assert num_examples <= len(dataset), \"Can't pick more elements than there are in the dataset.\"\n",
    "    picks = []\n",
    "    for _ in range(num_examples):\n",
    "        pick = random.randint(0, len(dataset)-1)\n",
    "        while pick in picks:\n",
    "            pick = random.randint(0, len(dataset)-1)\n",
    "        picks.append(pick)\n",
    "    \n",
    "    df = pd.DataFrame(dataset[picks])\n",
    "    for column, typ in dataset.features.items():\n",
    "        if isinstance(typ, ClassLabel):\n",
    "            df[column] = df[column].transform(lambda i: typ.names[i])\n",
    "        elif isinstance(typ, Sequence) and isinstance(typ.feature, ClassLabel):\n",
    "            df[column] = df[column].transform(lambda x: [typ.feature.names[i] for i in x])\n",
    "    display(HTML(df.to_html()))"
   ]
  },
  {
   "cell_type": "code",
   "execution_count": null,
   "metadata": {
    "id": "SZy5tRB_IrI7",
    "outputId": "ba8f2124-e485-488f-8c0c-254f34f24f13",
    "scrolled": true
   },
   "outputs": [],
   "source": [
    "show_random_elements(datasets[\"train\"])"
   ]
  },
  {
   "cell_type": "markdown",
   "metadata": {},
   "source": [
    "### Dataset analysis"
   ]
  },
  {
   "cell_type": "code",
   "execution_count": 27,
   "metadata": {},
   "outputs": [],
   "source": [
    "import matplotlib.pyplot as plt"
   ]
  },
  {
   "cell_type": "code",
   "execution_count": 28,
   "metadata": {},
   "outputs": [
    {
     "data": {
      "text/plain": [
       "['O',\n",
       " 'B-ORGANIZACAO',\n",
       " 'I-ORGANIZACAO',\n",
       " 'B-PESSOA',\n",
       " 'I-PESSOA',\n",
       " 'B-TEMPO',\n",
       " 'I-TEMPO',\n",
       " 'B-LOCAL',\n",
       " 'I-LOCAL',\n",
       " 'B-LEGISLACAO',\n",
       " 'I-LEGISLACAO',\n",
       " 'B-JURISPRUDENCIA',\n",
       " 'I-JURISPRUDENCIA']"
      ]
     },
     "execution_count": 28,
     "metadata": {},
     "output_type": "execute_result"
    }
   ],
   "source": [
    "labels = datasets[\"train\"].features[f\"ner_tags\"].feature.names\n",
    "labels"
   ]
  },
  {
   "cell_type": "code",
   "execution_count": 29,
   "metadata": {
    "scrolled": false
   },
   "outputs": [
    {
     "name": "stderr",
     "output_type": "stream",
     "text": [
      "<ipython-input-29-86be45362280>:24: UserWarning: FixedFormatter should only be used together with FixedLocator\n",
      "  col.set_xticklabels(labels=list(sorted_ner_tags_dist.keys()),rotation=45)\n",
      "<ipython-input-29-86be45362280>:30: UserWarning: FixedFormatter should only be used together with FixedLocator\n",
      "  col.set_xticklabels(labels=list(sorted_ner_tags_dist_without_O.keys()),rotation=45)\n"
     ]
    },
    {
     "data": {
      "image/png": "[encoded data removed]",
      "text/plain": [
       "<Figure size 1080x360 with 2 Axes>"
      ]
     },
     "metadata": {
      "needs_background": "light"
     },
     "output_type": "display_data"
    },
    {
     "data": {
      "image/png": "[encoded data removed]",
      "text/plain": [
       "<Figure size 1080x360 with 2 Axes>"
      ]
     },
     "metadata": {
      "needs_background": "light"
     },
     "output_type": "display_data"
    },
    {
     "data": {
      "image/png": "[encoded data removed]",
      "text/plain": [
       "<Figure size 1080x360 with 2 Axes>"
      ]
     },
     "metadata": {
      "needs_background": "light"
     },
     "output_type": "display_data"
    }
   ],
   "source": [
    "dsets = [\"train\",\"validation\",\"test\"]\n",
    "for dset in dsets:\n",
    "    # all tags\n",
    "    ner_tags_list = list()\n",
    "    for i,row in enumerate(datasets[dset]):\n",
    "        ner_tags_list += row['ner_tags']\n",
    "\n",
    "    # unique ner tags\n",
    "    ner_tags_unique = list(set(ner_tags_list))\n",
    "    ner_tags_unique = [labels[i] for i in ner_tags_unique]\n",
    "\n",
    "    # Analyse the Tag distribution\n",
    "    from collections import Counter\n",
    "    ner_tags_dist = Counter(ner_tags_list)\n",
    "    ner_tags_dist = {labels[k]:v for k,v in ner_tags_dist.items()}\n",
    "    sorted_ner_tags_dist = {k:ner_tags_dist[k] for k in labels}\n",
    "    \n",
    "    fig = plt.figure(figsize=(15,5))\n",
    "    axes = fig.subplots(nrows=1, ncols=2)\n",
    "\n",
    "    for i,col in enumerate(axes):\n",
    "            if i == 0: \n",
    "                col.bar(sorted_ner_tags_dist.keys(), sorted_ner_tags_dist.values(), width=1, color='g')\n",
    "                col.set_xticklabels(labels=list(sorted_ner_tags_dist.keys()),rotation=45)\n",
    "                col.set_title(f'{dset} dataset histogram')\n",
    "            if i == 1:\n",
    "                sorted_ner_tags_dist_without_O = sorted_ner_tags_dist.copy()\n",
    "                del_value = sorted_ner_tags_dist_without_O.pop('O')\n",
    "                col.bar(sorted_ner_tags_dist_without_O.keys(), sorted_ner_tags_dist_without_O.values(), width=1, color='g')\n",
    "                col.set_xticklabels(labels=list(sorted_ner_tags_dist_without_O.keys()),rotation=45)\n",
    "                col.set_title(f'{dset} dataset histogram (without the entity O)')\n",
    "\n",
    "    plt.show()"
   ]
  },
  {
   "cell_type": "markdown",
   "metadata": {},
   "source": [
    "There are 2 facts: the labels categories are very imbalanced and the train, validation and test datasets distributions are similar (which is a positive point).\n",
    "\n",
    "As a solution to the first point, we could test a weighted loss function in the `trainer`. "
   ]
  },
  {
   "cell_type": "markdown",
   "metadata": {
    "id": "n9qywopnIrJH"
   },
   "source": [
    "## 7. Preprocessing the data"
   ]
  },
  {
   "cell_type": "markdown",
   "metadata": {
    "id": "YVx71GdAIrJH"
   },
   "source": [
    "Before we can feed those texts to our model, we need to preprocess them. This is done by a 🤗 Transformers `Tokenizer` which will (as the name indicates) tokenize the inputs (including converting the tokens to their corresponding IDs in the pretrained vocabulary) and put it in a format the model expects, as well as generate the other inputs that model requires.\n",
    "\n",
    "To do all of this, we instantiate our tokenizer with the `AutoTokenizer.from_pretrained` method, which will ensure:\n",
    "\n",
    "- we get a tokenizer that corresponds to the model architecture we want to use,\n",
    "- we download the vocabulary used when pretraining this specific checkpoint.\n",
    "\n",
    "That vocabulary will be cached, so it's not downloaded again the next time we run the cell."
   ]
  },
  {
   "cell_type": "code",
   "execution_count": 30,
   "metadata": {
    "id": "eXNLu_-nIrJI"
   },
   "outputs": [],
   "source": [
    "from transformers import AutoTokenizer\n",
    "    \n",
    "tokenizer = AutoTokenizer.from_pretrained(model_checkpoint)"
   ]
  },
  {
   "cell_type": "markdown",
   "metadata": {
    "id": "Vl6IidfdIrJK"
   },
   "source": [
    "The following assertion ensures that our tokenizer is a fast tokenizers (backed by Rust) from the 🤗 Tokenizers library. Those fast tokenizers are available for almost all models, and we will need some of the special features they have for our preprocessing."
   ]
  },
  {
   "cell_type": "code",
   "execution_count": 31,
   "metadata": {},
   "outputs": [],
   "source": [
    "import transformers\n",
    "assert isinstance(tokenizer, transformers.PreTrainedTokenizerFast)"
   ]
  },
  {
   "cell_type": "markdown",
   "metadata": {},
   "source": [
    "You can check which type of models have a fast tokenizer available and which don't on the [big table of models](https://huggingface.co/transformers/index.html#bigtable)."
   ]
  },
  {
   "cell_type": "markdown",
   "metadata": {
    "id": "rowT4iCLIrJK"
   },
   "source": [
    "You can directly call this tokenizer on one sentence:"
   ]
  },
  {
   "cell_type": "code",
   "execution_count": 32,
   "metadata": {
    "id": "a5hBlsrHIrJL",
    "outputId": "acdaa98a-a8cd-4a20-89b8-cc26437bbe90"
   },
   "outputs": [
    {
     "data": {
      "text/plain": [
       "{'input_ids': [101, 231, 2476, 125, 11798, 11588, 333, 16315, 243, 423, 418, 2245, 488, 119, 102], 'token_type_ids': [0, 0, 0, 0, 0, 0, 0, 0, 0, 0, 0, 0, 0, 0, 0], 'attention_mask': [1, 1, 1, 1, 1, 1, 1, 1, 1, 1, 1, 1, 1, 1, 1]}"
      ]
     },
     "execution_count": 32,
     "metadata": {},
     "output_type": "execute_result"
    }
   ],
   "source": [
    "tokenizer(\"O termo de compromisso deverá ser firmado pelo estagiário.\")"
   ]
  },
  {
   "cell_type": "markdown",
   "metadata": {},
   "source": [
    "Depending on the model you selected, you will see different keys in the dictionary returned by the cell above. They don't matter much for what we're doing here (just know they are required by the model we will instantiate later), you can learn more about them in [this tutorial](https://huggingface.co/transformers/preprocessing.html) if you're interested.\n",
    "\n",
    "If, as is the case here, your inputs have already been split into words, you should pass the list of words to your tokenzier with the argument `is_split_into_words=True`:"
   ]
  },
  {
   "cell_type": "code",
   "execution_count": null,
   "metadata": {},
   "outputs": [],
   "source": [
    "tokenizer([\"O\", \"termo\", \"de\", \"compromisso\", \"deverá\", \"ser\", \"firmado\", \"pelo\", \"estagiário\", \".\"], is_split_into_words=True)"
   ]
  },
  {
   "cell_type": "markdown",
   "metadata": {},
   "source": [
    "Note that transformers are often pretrained with subword tokenizers, meaning that even if your inputs have been split into words already, each of those words could be split again by the tokenizer. Let's look at an example of that:"
   ]
  },
  {
   "cell_type": "code",
   "execution_count": 35,
   "metadata": {},
   "outputs": [
    {
     "name": "stdout",
     "output_type": "stream",
     "text": [
      "['-', 'Preliminar', 'acolhida', 'para', 'reconhecer', 'a', 'nulidade', 'da', 'sentença', '.']\n"
     ]
    }
   ],
   "source": [
    "example = datasets[\"train\"][4]\n",
    "print(example[\"tokens\"])"
   ]
  },
  {
   "cell_type": "code",
   "execution_count": 36,
   "metadata": {},
   "outputs": [
    {
     "name": "stdout",
     "output_type": "stream",
     "text": [
      "['[CLS]', '-', 'Pre', '##lim', '##inar', 'acolh', '##ida', 'para', 'reconhecer', 'a', 'nu', '##li', '##dade', 'da', 'sentença', '.', '[SEP]']\n"
     ]
    }
   ],
   "source": [
    "tokenized_input = tokenizer(example[\"tokens\"], is_split_into_words=True)\n",
    "tokens = tokenizer.convert_ids_to_tokens(tokenized_input[\"input_ids\"])\n",
    "print(tokens)"
   ]
  },
  {
   "cell_type": "markdown",
   "metadata": {},
   "source": [
    "Here the words \"Zwingmann\" and \"sheepmeat\" have been split in three subtokens.\n",
    "\n",
    "This means that we need to do some processing on our labels as the input ids returned by the tokenizer are longer than the lists of labels our dataset contain, first because some special tokens might be added (we can a `[CLS]` and a `[SEP]` above) and then because of those possible splits of words in multiple tokens:"
   ]
  },
  {
   "cell_type": "code",
   "execution_count": 37,
   "metadata": {},
   "outputs": [
    {
     "data": {
      "text/plain": [
       "(10, 17)"
      ]
     },
     "execution_count": 37,
     "metadata": {},
     "output_type": "execute_result"
    }
   ],
   "source": [
    "len(example[f\"{task}_tags\"]), len(tokenized_input[\"input_ids\"])"
   ]
  },
  {
   "cell_type": "markdown",
   "metadata": {},
   "source": [
    "Thankfully, the tokenizer returns outputs that have a `word_ids` method which can help us."
   ]
  },
  {
   "cell_type": "code",
   "execution_count": 38,
   "metadata": {},
   "outputs": [
    {
     "name": "stdout",
     "output_type": "stream",
     "text": [
      "[None, 0, 1, 1, 1, 2, 2, 3, 4, 5, 6, 6, 6, 7, 8, 9, None]\n"
     ]
    }
   ],
   "source": [
    "print(tokenized_input.word_ids())"
   ]
  },
  {
   "cell_type": "markdown",
   "metadata": {},
   "source": [
    "As we can see, it returns a list with the same number of elements as our processed input ids, mapping special tokens to `None` and all other tokens to their respective word. This way, we can align the labels with the processed input ids."
   ]
  },
  {
   "cell_type": "code",
   "execution_count": 39,
   "metadata": {},
   "outputs": [
    {
     "name": "stdout",
     "output_type": "stream",
     "text": [
      "17 17\n"
     ]
    }
   ],
   "source": [
    "word_ids = tokenized_input.word_ids()\n",
    "aligned_labels = [-100 if i is None else example[f\"{task}_tags\"][i] for i in word_ids]\n",
    "print(len(aligned_labels), len(tokenized_input[\"input_ids\"]))"
   ]
  },
  {
   "cell_type": "markdown",
   "metadata": {},
   "source": [
    "Here we set the labels of all special tokens to -100 (the index that is ignored by PyTorch) and the labels of all other tokens to the label of the word they come from. Another strategy is to set the label only on the first token obtained from a given word, and give a label of -100 to the other subtokens from the same word. We propose the two strategies here, just change the value of the following flag:"
   ]
  },
  {
   "cell_type": "code",
   "execution_count": 40,
   "metadata": {},
   "outputs": [],
   "source": [
    "label_all_tokens = True"
   ]
  },
  {
   "cell_type": "markdown",
   "metadata": {
    "id": "2C0hcmp9IrJQ"
   },
   "source": [
    "We're now ready to write the function that will preprocess our samples. We feed them to the `tokenizer` with the argument `truncation=True` (to truncate texts that are bigger than the maximum size allowed by the model) and `is_split_into_words=True` (as seen above). Then we align the labels with the token ids using the strategy we picked:"
   ]
  },
  {
   "cell_type": "code",
   "execution_count": 41,
   "metadata": {},
   "outputs": [],
   "source": [
    "# original function: 1 sentence for the validation and test dataset\n",
    "def tokenize_and_align_labels(examples):\n",
    "#     tokenized_inputs = tokenizer(examples[\"tokens\"], truncation=True, is_split_into_words=True)\n",
    "\n",
    "    tokenized_inputs = tokenizer(examples[\"tokens\"], truncation=True, is_split_into_words=True, max_length=512)\n",
    "\n",
    "    labels = []\n",
    "    for i, label in enumerate(examples[f\"{task}_tags\"]):\n",
    "        word_ids = tokenized_inputs.word_ids(batch_index=i)\n",
    "        previous_word_idx = None\n",
    "        label_ids = []\n",
    "        for word_idx in word_ids:\n",
    "            # Special tokens have a word id that is None. We set the label to -100 so they are automatically\n",
    "            # ignored in the loss function.\n",
    "            if word_idx is None:\n",
    "                label_ids.append(-100)\n",
    "            # We set the label for the first token of each word.\n",
    "            elif word_idx != previous_word_idx:\n",
    "                label_ids.append(label[word_idx])\n",
    "            # For the other tokens in a word, we set the label to either the current label or -100, depending on\n",
    "            # the label_all_tokens flag.\n",
    "            else:\n",
    "                label_ids.append(label[word_idx] if label_all_tokens else -100)\n",
    "            previous_word_idx = word_idx\n",
    "\n",
    "        labels.append(label_ids)\n",
    "\n",
    "    tokenized_inputs[\"labels\"] = labels\n",
    "    return tokenized_inputs"
   ]
  },
  {
   "cell_type": "code",
   "execution_count": 42,
   "metadata": {
    "id": "vc0BSBLIIrJQ"
   },
   "outputs": [],
   "source": [
    "# new with 2 sentences for the training dataset\n",
    "def tokenize_and_align_labels_next(examples):\n",
    "#     tokenized_inputs = tokenizer(examples[\"tokens\"], truncation=True, is_split_into_words=True)\n",
    "\n",
    "    tokens_sentence = examples[\"tokens_sentence\"]\n",
    "    tokens_second_sentence = examples[\"tokens_second_sentence\"]\n",
    "    tokenized_inputs = tokenizer(tokens_sentence, tokens_second_sentence, truncation=True, is_split_into_words=True, max_length=512)\n",
    "\n",
    "    labels = []\n",
    "    \n",
    "    ner_tags_sentence = examples[\"ner_tags_sentence\"]\n",
    "    ner_tags_second_sentence = examples[\"ner_tags_second_sentence\"]\n",
    "    ner_tags_list = [tags1+tags2 for tags1, tags2 in zip(ner_tags_sentence, ner_tags_second_sentence)]\n",
    "    \n",
    "    for i, label in enumerate(ner_tags_list):\n",
    "        word_ids = tokenized_inputs.word_ids(batch_index=i)\n",
    "        previous_word_idx = None\n",
    "        label_ids = []\n",
    "        for word_idx in word_ids:\n",
    "            # Special tokens have a word id that is None. We set the label to -100 so they are automatically\n",
    "            # ignored in the loss function.\n",
    "            if word_idx is None:\n",
    "                label_ids.append(-100)\n",
    "            # We set the label for the first token of each word.\n",
    "            elif word_idx != previous_word_idx:\n",
    "                label_ids.append(label[word_idx])\n",
    "            # For the other tokens in a word, we set the label to either the current label or -100, depending on\n",
    "            # the label_all_tokens flag.\n",
    "            else:\n",
    "                label_ids.append(label[word_idx] if label_all_tokens else -100)\n",
    "            previous_word_idx = word_idx\n",
    "\n",
    "        labels.append(label_ids)\n",
    "\n",
    "    tokenized_inputs[\"labels\"] = labels\n",
    "    return tokenized_inputs"
   ]
  },
  {
   "cell_type": "markdown",
   "metadata": {
    "id": "0lm8ozrJIrJR"
   },
   "source": [
    "This function works with one or several examples. In the case of several examples, the tokenizer will return a list of lists for each key.\n",
    "\n",
    "As you need to pass 2 consecutives sentences, let's create the `datasets` object `new_datasets` that contains the 3 datasets train, validation, test with a shifted of one sentence for train. Validation and test stay with just one sentence."
   ]
  },
  {
   "cell_type": "code",
   "execution_count": 43,
   "metadata": {},
   "outputs": [
    {
     "name": "stdout",
     "output_type": "stream",
     "text": [
      "CPU times: user 702 ms, sys: 11.8 ms, total: 714 ms\n",
      "Wall time: 711 ms\n"
     ]
    }
   ],
   "source": [
    "%%time\n",
    "if next_sentence:\n",
    "    \n",
    "    # train dataset\n",
    "    folders = ['train']\n",
    "    new_datasets = DatasetDict()\n",
    "\n",
    "    for folder in folders:    \n",
    "\n",
    "        # content creation\n",
    "        new_ids = list()\n",
    "        tokens_sentence = list()\n",
    "        tokens_second_sentence = list()\n",
    "        ner_tags_sentence = list()\n",
    "        ner_tags_second_sentence = list()\n",
    "\n",
    "        df = datasets[folder].to_pandas()\n",
    "\n",
    "        for index, row in df.iterrows():\n",
    "            new_ids.append(index)\n",
    "            if index < len(df) - 1:\n",
    "                tokens_sentence.append(row['tokens'].tolist())\n",
    "                tokens_second_sentence.append(df['tokens'][index+1].tolist())\n",
    "                ner_tags_sentence.append(row['ner_tags'].tolist())\n",
    "                ner_tags_second_sentence.append(df['ner_tags'][index+1].tolist())\n",
    "            else:\n",
    "                tokens_sentence.append(row['tokens'].tolist())\n",
    "                tokens_second_sentence.append(df['tokens'][0].tolist())\n",
    "                ner_tags_sentence.append(row['ner_tags'].tolist())\n",
    "                ner_tags_second_sentence.append(df['ner_tags'][0].tolist())\n",
    "\n",
    "        # new DataFrame\n",
    "        columns = ['id','tokens_sentence','tokens_second_sentence','ner_tags_sentence','ner_tags_second_sentence']\n",
    "        df_new = pd.DataFrame(columns=columns)\n",
    "        df_new['id'] = pd.Series(new_ids)\n",
    "        df_new['tokens_sentence'] = pd.Series(tokens_sentence)\n",
    "        df_new['tokens_second_sentence'] = pd.Series(tokens_second_sentence)\n",
    "        df_new['ner_tags_sentence'] = pd.Series(ner_tags_sentence)\n",
    "        df_new['ner_tags_second_sentence'] = pd.Series(ner_tags_second_sentence)\n",
    "\n",
    "        # new Dataset   \n",
    "        new_datasets[folder] = Dataset.from_pandas(df_new)\n",
    "\n",
    "        # setup features\n",
    "        from datasets import Value \n",
    "        new_datasets[folder].features['tokens_sentence'] = datasets[folder].features['tokens']\n",
    "        new_datasets[folder].features['tokens_second_sentence'] = datasets[folder].features['tokens']\n",
    "        new_datasets[folder].features['ner_tags_sentence'] = datasets[folder].features['ner_tags']\n",
    "        new_datasets[folder].features['ner_tags_second_sentence'] = datasets[folder].features['ner_tags']\n",
    "        \n",
    "    # validation and test datasets\n",
    "    folders = ['validation', 'test']\n",
    "\n",
    "    for folder in folders:\n",
    "        if len(datasets[folder][0]['tokens']) > 0:\n",
    "            new_datasets[folder] = datasets[folder]\n",
    "        else:\n",
    "            # we do not keep the first row as it has no content\n",
    "            new_datasets[folder] = datasets[folder].select(list(range(1,datasets[folder].num_rows)))"
   ]
  },
  {
   "cell_type": "code",
   "execution_count": 44,
   "metadata": {},
   "outputs": [
    {
     "name": "stdout",
     "output_type": "stream",
     "text": [
      "DatasetDict({\n",
      "    train: Dataset({\n",
      "        features: ['id', 'tokens_sentence', 'tokens_second_sentence', 'ner_tags_sentence', 'ner_tags_second_sentence'],\n",
      "        num_rows: 7828\n",
      "    })\n",
      "    validation: Dataset({\n",
      "        features: ['id', 'tokens', 'ner_tags'],\n",
      "        num_rows: 1177\n",
      "    })\n",
      "    test: Dataset({\n",
      "        features: ['id', 'tokens', 'ner_tags'],\n",
      "        num_rows: 1390\n",
      "    })\n",
      "})\n"
     ]
    }
   ],
   "source": [
    "if next_sentence:\n",
    "    print(new_datasets)"
   ]
  },
  {
   "cell_type": "code",
   "execution_count": 45,
   "metadata": {},
   "outputs": [
    {
     "name": "stdout",
     "output_type": "stream",
     "text": [
      "{'input_ids': [[101, 192, 7463, 8427, 22301, 131, 12127, 9008, 22301, 22402, 16484, 187, 22360, 22339, 9008, 118, 177, 22402, 16484, 10836, 13760, 7545, 22320, 22323, 22351, 22301, 22402, 16484, 212, 8718, 250, 7665, 6072, 213, 8718, 22301, 6538, 118, 11635, 9008, 13270, 7073, 6765, 118, 11741, 22328, 22341, 6392, 22301, 212, 9008, 22317, 213, 7073, 6538, 22321, 22352, 21748, 22317, 212, 22371, 22318, 22327, 6162, 22317, 192, 22311, 278, 5650, 22341, 257, 5476, 15289, 5903, 22327, 118, 248, 18199, 6392, 11836, 22309, 118, 177, 10409, 22420, 22320, 14298, 22301, 10836, 13760, 16017, 22322, 22339, 12547, 22402, 16484, 15040, 18868, 22322, 22349, 22341, 9208, 248, 22301, 13760, 11846, 22379, 22320, 14298, 22301, 177, 5226, 22341, 22317, 118, 11635, 3341, 12547, 22402, 22301, 10836, 13760, 4529, 5869, 22351, 118, 11635, 22309, 22333, 22341, 22360, 22351, 22317, 192, 22348, 6538, 16017, 8427, 22309, 118, 11635, 9008, 13270, 7073, 6765, 11247, 7918, 22340, 6392, 22301, 118, 248, 18199, 6392, 11836, 22309, 257, 5476, 12234, 22340, 5476, 6392, 22301, 119, 102, 118, 231, 1328, 119, 7048, 117, 1349, 117, 171, 8250, 22304, 543, 1128, 301, 179, 7740, 22279, 320, 3890, 7638, 558, 3718, 529, 8309, 173, 179, 1307, 6399, 125, 22250, 117, 2586, 243, 146, 1328, 119, 2680, 22315, 171, 653, 8178, 179, 146, 1673, 2810, 1444, 326, 625, 146, 3890, 7638, 346, 344, 14353, 201, 221, 12079, 146, 2160, 173, 179, 1981, 558, 3718, 119, 102], [101, 118, 231, 1328, 119, 7048, 117, 1349, 117, 171, 8250, 22304, 543, 1128, 301, 179, 7740, 22279, 320, 3890, 7638, 558, 3718, 529, 8309, 173, 179, 1307, 6399, 125, 22250, 117, 2586, 243, 146, 1328, 119, 2680, 22315, 171, 653, 8178, 179, 146, 1673, 2810, 1444, 326, 625, 146, 3890, 7638, 346, 344, 14353, 201, 221, 12079, 146, 2160, 173, 179, 1981, 558, 3718, 119, 102, 118, 9633, 214, 118, 176, 125, 2973, 18233, 2446, 4977, 1442, 2530, 240, 2760, 12787, 117, 253, 18604, 123, 7418, 171, 3890, 7638, 229, 5061, 125, 13816, 180, 2601, 10629, 119, 102]], 'token_type_ids': [[0, 0, 0, 0, 0, 0, 0, 0, 0, 0, 0, 0, 0, 0, 0, 0, 0, 0, 0, 0, 0, 0, 0, 0, 0, 0, 0, 0, 0, 0, 0, 0, 0, 0, 0, 0, 0, 0, 0, 0, 0, 0, 0, 0, 0, 0, 0, 0, 0, 0, 0, 0, 0, 0, 0, 0, 0, 0, 0, 0, 0, 0, 0, 0, 0, 0, 0, 0, 0, 0, 0, 0, 0, 0, 0, 0, 0, 0, 0, 0, 0, 0, 0, 0, 0, 0, 0, 0, 0, 0, 0, 0, 0, 0, 0, 0, 0, 0, 0, 0, 0, 0, 0, 0, 0, 0, 0, 0, 0, 0, 0, 0, 0, 0, 0, 0, 0, 0, 0, 0, 0, 0, 0, 0, 0, 0, 0, 0, 0, 0, 0, 0, 0, 0, 0, 0, 0, 0, 0, 0, 0, 0, 0, 0, 0, 0, 0, 0, 0, 0, 0, 0, 0, 0, 0, 0, 0, 0, 0, 0, 0, 0, 0, 0, 0, 1, 1, 1, 1, 1, 1, 1, 1, 1, 1, 1, 1, 1, 1, 1, 1, 1, 1, 1, 1, 1, 1, 1, 1, 1, 1, 1, 1, 1, 1, 1, 1, 1, 1, 1, 1, 1, 1, 1, 1, 1, 1, 1, 1, 1, 1, 1, 1, 1, 1, 1, 1, 1, 1, 1, 1, 1, 1, 1, 1, 1, 1, 1, 1, 1, 1], [0, 0, 0, 0, 0, 0, 0, 0, 0, 0, 0, 0, 0, 0, 0, 0, 0, 0, 0, 0, 0, 0, 0, 0, 0, 0, 0, 0, 0, 0, 0, 0, 0, 0, 0, 0, 0, 0, 0, 0, 0, 0, 0, 0, 0, 0, 0, 0, 0, 0, 0, 0, 0, 0, 0, 0, 0, 0, 0, 0, 0, 0, 0, 0, 0, 0, 0, 1, 1, 1, 1, 1, 1, 1, 1, 1, 1, 1, 1, 1, 1, 1, 1, 1, 1, 1, 1, 1, 1, 1, 1, 1, 1, 1, 1, 1, 1, 1, 1]], 'attention_mask': [[1, 1, 1, 1, 1, 1, 1, 1, 1, 1, 1, 1, 1, 1, 1, 1, 1, 1, 1, 1, 1, 1, 1, 1, 1, 1, 1, 1, 1, 1, 1, 1, 1, 1, 1, 1, 1, 1, 1, 1, 1, 1, 1, 1, 1, 1, 1, 1, 1, 1, 1, 1, 1, 1, 1, 1, 1, 1, 1, 1, 1, 1, 1, 1, 1, 1, 1, 1, 1, 1, 1, 1, 1, 1, 1, 1, 1, 1, 1, 1, 1, 1, 1, 1, 1, 1, 1, 1, 1, 1, 1, 1, 1, 1, 1, 1, 1, 1, 1, 1, 1, 1, 1, 1, 1, 1, 1, 1, 1, 1, 1, 1, 1, 1, 1, 1, 1, 1, 1, 1, 1, 1, 1, 1, 1, 1, 1, 1, 1, 1, 1, 1, 1, 1, 1, 1, 1, 1, 1, 1, 1, 1, 1, 1, 1, 1, 1, 1, 1, 1, 1, 1, 1, 1, 1, 1, 1, 1, 1, 1, 1, 1, 1, 1, 1, 1, 1, 1, 1, 1, 1, 1, 1, 1, 1, 1, 1, 1, 1, 1, 1, 1, 1, 1, 1, 1, 1, 1, 1, 1, 1, 1, 1, 1, 1, 1, 1, 1, 1, 1, 1, 1, 1, 1, 1, 1, 1, 1, 1, 1, 1, 1, 1, 1, 1, 1, 1, 1, 1, 1, 1, 1, 1, 1, 1, 1, 1, 1, 1, 1, 1], [1, 1, 1, 1, 1, 1, 1, 1, 1, 1, 1, 1, 1, 1, 1, 1, 1, 1, 1, 1, 1, 1, 1, 1, 1, 1, 1, 1, 1, 1, 1, 1, 1, 1, 1, 1, 1, 1, 1, 1, 1, 1, 1, 1, 1, 1, 1, 1, 1, 1, 1, 1, 1, 1, 1, 1, 1, 1, 1, 1, 1, 1, 1, 1, 1, 1, 1, 1, 1, 1, 1, 1, 1, 1, 1, 1, 1, 1, 1, 1, 1, 1, 1, 1, 1, 1, 1, 1, 1, 1, 1, 1, 1, 1, 1, 1, 1, 1, 1]], 'labels': [[-100, 0, 0, 0, 0, 0, 0, 0, 0, 0, 0, 0, 0, 0, 0, 0, 0, 0, 0, 0, 0, 0, 0, 0, 0, 0, 0, 0, 0, 0, 0, 0, 0, 0, 0, 0, 0, 0, 0, 0, 0, 0, 0, 0, 0, 0, 0, 0, 0, 0, 0, 0, 1, 1, 1, 1, 1, 1, 1, 2, 2, 2, 2, 2, 2, 0, 0, 0, 0, 0, 0, 0, 0, 0, 0, 0, 0, 0, 0, 0, 0, 0, 0, 0, 0, 0, 0, 0, 0, 0, 0, 0, 0, 0, 0, 0, 0, 0, 0, 0, 0, 0, 0, 0, 0, 0, 0, 0, 0, 0, 0, 0, 0, 0, 0, 0, 0, 0, 0, 0, 0, 0, 0, 0, 0, 0, 0, 0, 0, 0, 0, 0, 0, 0, 0, 0, 0, 0, 0, 0, 0, 0, 0, 0, 0, 0, 0, 0, 0, 0, 0, 0, 0, 0, 0, 0, 0, 0, 0, 0, 0, 0, 0, 0, -100, 0, 0, 0, 0, 0, 0, 0, 0, 0, 0, 0, 0, 0, 0, 0, 0, 0, 0, 0, 0, 1, 1, 2, 0, 0, 0, 0, 0, 0, 0, 0, 0, 0, 0, 0, 0, 0, 0, 0, 0, 0, 0, 0, 0, 0, 0, 0, 0, 0, 0, 0, 0, 0, 0, 0, 0, 0, 0, 9, 10, 10, 10, 10, 10, 10, -100], [-100, 0, 0, 9, 10, 10, 10, 10, 10, 10, 10, 10, 0, 0, 0, 0, 0, 0, 0, 1, 2, 0, 0, 0, 0, 0, 0, 0, 0, 0, 0, 0, 0, 0, 0, 0, 0, 0, 0, 0, 0, 0, 0, 0, 0, 0, 0, 0, 0, 0, 1, 2, 0, 0, 0, 0, 0, 0, 0, 0, 0, 0, 0, 0, 0, 0, -100, 0, 0, 0, 0, 0, 9, 10, 10, 10, 10, 10, 10, 10, 10, 10, 10, 0, 0, 0, 0, 1, 2, 0, 0, 0, 0, 0, 0, 0, 0, 0, -100]]}\n"
     ]
    }
   ],
   "source": [
    "if next_sentence:\n",
    "    print(tokenize_and_align_labels_next(new_datasets['train'][:2]))\n",
    "else:\n",
    "    print(tokenize_and_align_labels(datasets['train'][:2]))"
   ]
  },
  {
   "cell_type": "code",
   "execution_count": 46,
   "metadata": {},
   "outputs": [
    {
     "data": {
      "application/vnd.jupyter.widget-view+json": {
       "model_id": "429a0bf1706946dfa0036041ae11a5d6",
       "version_major": 2,
       "version_minor": 0
      },
      "text/plain": [
       "  0%|          | 0/8 [00:00<?, ?ba/s]"
      ]
     },
     "metadata": {},
     "output_type": "display_data"
    },
    {
     "name": "stderr",
     "output_type": "stream",
     "text": [
      "Loading cached processed dataset at /home/info/.cache/huggingface/datasets/lener_br/lener_br/1.0.0/4a8c97e6813b5c2d85a50faf0a3e6c24ea82f4a9044e6e9e8b24997d27399382/cache-223006c7f0de7c89.arrow\n",
      "Loading cached processed dataset at /home/info/.cache/huggingface/datasets/lener_br/lener_br/1.0.0/4a8c97e6813b5c2d85a50faf0a3e6c24ea82f4a9044e6e9e8b24997d27399382/cache-0b2748e7126746b4.arrow\n"
     ]
    }
   ],
   "source": [
    "if next_sentence:\n",
    "    tokenized_datasets = DatasetDict()\n",
    "    folders = ['train', 'validation', 'test']\n",
    "\n",
    "    for folder in folders:\n",
    "        if folder == 'train':\n",
    "            tokenized_datasets[folder] = new_datasets[folder].map(tokenize_and_align_labels_next, batched=True,\n",
    "                                                                   remove_columns=new_datasets[folder].column_names)\n",
    "        else:\n",
    "            tokenized_datasets[folder] = new_datasets[folder].map(tokenize_and_align_labels, batched=True,\n",
    "                                                                  remove_columns=new_datasets[folder].column_names) \n",
    "else:\n",
    "    tokenized_datasets = datasets.map(tokenize_and_align_labels, batched=True)"
   ]
  },
  {
   "cell_type": "code",
   "execution_count": 47,
   "metadata": {},
   "outputs": [
    {
     "data": {
      "text/plain": [
       "DatasetDict({\n",
       "    train: Dataset({\n",
       "        features: ['attention_mask', 'input_ids', 'labels', 'token_type_ids'],\n",
       "        num_rows: 7828\n",
       "    })\n",
       "    validation: Dataset({\n",
       "        features: ['attention_mask', 'input_ids', 'labels', 'token_type_ids'],\n",
       "        num_rows: 1177\n",
       "    })\n",
       "    test: Dataset({\n",
       "        features: ['attention_mask', 'input_ids', 'labels', 'token_type_ids'],\n",
       "        num_rows: 1390\n",
       "    })\n",
       "})"
      ]
     },
     "execution_count": 47,
     "metadata": {},
     "output_type": "execute_result"
    }
   ],
   "source": [
    "tokenized_datasets"
   ]
  },
  {
   "cell_type": "markdown",
   "metadata": {},
   "source": [
    "Let's verify that the training dataset has 2 tokonized sentences (`token_type_ids` = 0 and 1) and validation/test only one (`token_type_ids` = 0)."
   ]
  },
  {
   "cell_type": "code",
   "execution_count": 48,
   "metadata": {},
   "outputs": [
    {
     "name": "stdout",
     "output_type": "stream",
     "text": [
      "train [0, 0, 0, 0, 0, 0, 0, 0, 0, 0, 0, 0, 0, 0, 0, 0, 0, 0, 0, 0, 0, 0, 0, 0, 0, 0, 0, 0, 0, 0, 0, 0, 0, 0, 0, 0, 0, 0, 0, 0]\n",
      "validation [0, 0, 0, 0, 0, 0, 0, 0, 0, 0, 0, 0, 0, 0, 0, 0, 0, 0, 0, 0, 0, 0, 0, 0, 0, 0, 0, 0, 0, 0, 0, 0, 0, 0, 0, 0, 0, 0, 0, 0]\n",
      "test [0, 0, 0, 0, 0, 0, 0, 0, 0, 0, 0, 0, 0, 0, 0, 0, 0, 0, 0, 0, 0, 0, 0, 0, 0, 0, 0, 0, 0, 0, 0, 0, 0, 0, 0, 0, 0, 0, 0, 0]\n"
     ]
    }
   ],
   "source": [
    "folders = ['train', 'validation', 'test']\n",
    "\n",
    "for folder in folders:\n",
    "    print(folder, tokenized_datasets[folder][0]['token_type_ids'][:40])"
   ]
  },
  {
   "cell_type": "markdown",
   "metadata": {},
   "source": [
    "Let's check the min and max of tokens in our tokenized sentences."
   ]
  },
  {
   "cell_type": "code",
   "execution_count": 49,
   "metadata": {},
   "outputs": [
    {
     "name": "stdout",
     "output_type": "stream",
     "text": [
      "train min tokens: 7 - max tokens: 512\n",
      "validation min tokens: 2 - max tokens: 505\n",
      "test min tokens: 2 - max tokens: 512\n"
     ]
    }
   ],
   "source": [
    "folders = [\"train\", \"validation\", \"test\"]\n",
    "tokens_length = dict()\n",
    "\n",
    "for folder in folders:\n",
    "    tokens_length[folder] = list()\n",
    "    for i in range(tokenized_datasets[folder].num_rows):\n",
    "        tokens_length[folder].append(len(tokenized_datasets[folder][i]['token_type_ids']))\n",
    "    print(f'{folder} min tokens: {min(tokens_length[folder])} - max tokens: {max(tokens_length[folder])}')"
   ]
  },
  {
   "cell_type": "markdown",
   "metadata": {},
   "source": [
    "Let's display the histograms of our tokenized train, validation and test set."
   ]
  },
  {
   "cell_type": "code",
   "execution_count": 50,
   "metadata": {},
   "outputs": [
    {
     "data": {
      "image/png": "[encoded data removed]",
      "text/plain": [
       "<Figure size 1080x360 with 3 Axes>"
      ]
     },
     "metadata": {
      "needs_background": "light"
     },
     "output_type": "display_data"
    }
   ],
   "source": [
    "fig = plt.figure(figsize=(15,5))\n",
    "axes = fig.subplots(nrows=1, ncols=3)\n",
    "\n",
    "for i,col in enumerate(axes):\n",
    "    folder = folders[i]\n",
    "    col.hist(tokens_length[folder], color='g')\n",
    "    col.set_title(f'{folder} dataset histogram')\n",
    "\n",
    "plt.show()"
   ]
  },
  {
   "cell_type": "markdown",
   "metadata": {
    "id": "voWiw8C7IrJV"
   },
   "source": [
    "Even better, the results are automatically cached by the 🤗 Datasets library to avoid spending time on this step the next time you run your notebook. The 🤗 Datasets library is normally smart enough to detect when the function you pass to map has changed (and thus requires to not use the cache data). For instance, it will properly detect if you change the task in the first cell and rerun the notebook. 🤗 Datasets warns you when it uses cached files, you can pass `load_from_cache_file=False` in the call to `map` to not use the cached files and force the preprocessing to be applied again.\n",
    "\n",
    "Note that we passed `batched=True` to encode the texts by batches together. This is to leverage the full benefit of the fast tokenizer we loaded earlier, which will use multi-threading to treat the texts in a batch concurrently."
   ]
  },
  {
   "cell_type": "markdown",
   "metadata": {
    "id": "545PP3o8IrJV"
   },
   "source": [
    "## 8. Fine-tuning the model"
   ]
  },
  {
   "cell_type": "markdown",
   "metadata": {
    "id": "FBiW8UpKIrJW"
   },
   "source": [
    "Now that our data is ready, we can download the pretrained model and fine-tune it. Since all our tasks are about token classification, we use the `AutoModelForTokenClassification` class. Like with the tokenizer, the `from_pretrained` method will download and cache the model for us. The only thing we have to specify is the number of labels for our problem (which we can get from the features, as seen before):"
   ]
  },
  {
   "cell_type": "code",
   "execution_count": 51,
   "metadata": {
    "id": "TlqNaB8jIrJW",
    "outputId": "84916cf3-6e6c-47f3-d081-032ec30a4132"
   },
   "outputs": [
    {
     "name": "stderr",
     "output_type": "stream",
     "text": [
      "Some weights of the model checkpoint at neuralmind/bert-base-portuguese-cased were not used when initializing BertForTokenClassification: ['cls.predictions.transform.dense.bias', 'cls.predictions.transform.LayerNorm.bias', 'cls.predictions.transform.dense.weight', 'cls.predictions.transform.LayerNorm.weight', 'cls.predictions.bias', 'cls.seq_relationship.bias', 'cls.predictions.decoder.weight', 'cls.seq_relationship.weight']\n",
      "- This IS expected if you are initializing BertForTokenClassification from the checkpoint of a model trained on another task or with another architecture (e.g. initializing a BertForSequenceClassification model from a BertForPreTraining model).\n",
      "- This IS NOT expected if you are initializing BertForTokenClassification from the checkpoint of a model that you expect to be exactly identical (initializing a BertForSequenceClassification model from a BertForSequenceClassification model).\n",
      "Some weights of BertForTokenClassification were not initialized from the model checkpoint at neuralmind/bert-base-portuguese-cased and are newly initialized: ['classifier.bias', 'classifier.weight']\n",
      "You should probably TRAIN this model on a down-stream task to be able to use it for predictions and inference.\n"
     ]
    }
   ],
   "source": [
    "from transformers import AutoModelForTokenClassification, TrainingArguments, Trainer\n",
    "\n",
    "model = AutoModelForTokenClassification.from_pretrained(model_checkpoint, num_labels=len(label_list))"
   ]
  },
  {
   "cell_type": "markdown",
   "metadata": {
    "id": "CczA5lJlIrJX"
   },
   "source": [
    "The warning is telling us we are throwing away some weights (the `vocab_transform` and `vocab_layer_norm` layers) and randomly initializing some other (the `pre_classifier` and `classifier` layers). This is absolutely normal in this case, because we are removing the head used to pretrain the model on a masked language modeling objective and replacing it with a new head for which we don't have pretrained weights, so the library warns us we should fine-tune this model before using it for inference, which is exactly what we are going to do."
   ]
  },
  {
   "cell_type": "code",
   "execution_count": 52,
   "metadata": {},
   "outputs": [
    {
     "data": {
      "text/plain": [
       "108342541"
      ]
     },
     "execution_count": 52,
     "metadata": {},
     "output_type": "execute_result"
    }
   ],
   "source": [
    "# number of model parameters\n",
    "model_num_param=0\n",
    "for p in model.parameters():\n",
    "    model_num_param+=p.numel()\n",
    "model_num_param"
   ]
  },
  {
   "cell_type": "markdown",
   "metadata": {},
   "source": [
    "## 9. Adapters"
   ]
  },
  {
   "cell_type": "code",
   "execution_count": null,
   "metadata": {},
   "outputs": [],
   "source": [
    "#!pip install -U adapter-transformers"
   ]
  },
  {
   "cell_type": "code",
   "execution_count": null,
   "metadata": {},
   "outputs": [],
   "source": []
  },
  {
   "cell_type": "code",
   "execution_count": 53,
   "metadata": {},
   "outputs": [],
   "source": [
    "# Setup adapters\n",
    "from transformers.adapters.composition import Stack\n",
    "from transformers import AdapterConfig\n",
    "\n",
    "if train_adapter:\n",
    "        \n",
    "    # new\n",
    "    if madx2:\n",
    "        # do not add adapter in the last transformer layers \n",
    "        leave_out = [len(model.bert.encoder.layer)-1]\n",
    "    else:\n",
    "        leave_out = []\n",
    "        \n",
    "    # new\n",
    "    # task_name = data_args.dataset_name or \"mlm\"\n",
    "    task_name = \"ner\"\n",
    "    \n",
    "    # optionally load another pre-trained language adapter\n",
    "    if with_adapters_mlm:\n",
    "        # resolve the language adapter config\n",
    "        lang_adapter_config = AdapterConfig.load(\n",
    "                lang_adapter_config,\n",
    "                non_linearity=lang_adapter_non_linearity,\n",
    "                reduction_factor=lang_adapter_reduction_factor,\n",
    "                leave_out=leave_out,\n",
    "            )\n",
    "        # load the language adapter from Hub\n",
    "        task_mlm_load_as = 'mlm'\n",
    "        lang_adapter_name = model.load_adapter(\n",
    "                load_lang_adapter,\n",
    "                config=lang_adapter_config,\n",
    "                load_as=task_mlm_load_as,\n",
    "                with_head = False\n",
    "            )\n",
    "    else:\n",
    "        lang_adapter_name = None\n",
    "        \n",
    "    # check if adapter already exists, otherwise add it\n",
    "    if task_name not in model.config.adapters:\n",
    "            \n",
    "#             # resolve the adapter config\n",
    "#             adapter_config = AdapterConfig.load(\n",
    "#                 adapter_args.adapter_config,\n",
    "#                 non_linearity=adapter_args.adapter_non_linearity,\n",
    "#                 reduction_factor=adapter_args.adapter_reduction_factor,\n",
    "#             )\n",
    "\n",
    "        # new\n",
    "        # resolve adapter config with (eventually) the MAD-X 2.0 option\n",
    "        if adapter_config_name == \"pfeiffer\":\n",
    "            from transformers.adapters.configuration import PfeifferConfig\n",
    "            adapter_config = PfeifferConfig(non_linearity=adapter_non_linearity,\n",
    "                                            reduction_factor=adapter_reduction_factor,\n",
    "                                            leave_out=leave_out)           \n",
    "        elif adapter_config_name == \"pfeiffer+inv\":\n",
    "            from transformers.adapters.configuration import PfeifferInvConfig\n",
    "            adapter_config = PfeifferInvConfig(non_linearity=adapter_non_linearity,\n",
    "                                               reduction_factor=adapter_reduction_factor,\n",
    "                                               leave_out=leave_out)          \n",
    "        elif adapter_config_name == \"houlsby\":\n",
    "            from transformers.adapters.configuration import HoulsbyConfig\n",
    "            adapter_config = HoulsbyConfig(non_linearity=adapter_non_linearity,\n",
    "                                           reduction_factor=adapter_reduction_factor,\n",
    "                                           leave_out=leave_out)\n",
    "        elif adapter_config_name == \"houlsby+inv\":\n",
    "            from transformers.adapters.configuration import HoulsbyInvConfig\n",
    "            adapter_config = HoulsbyInvConfig(non_linearity=adapter_non_linearity,\n",
    "                                              reduction_factor=adapter_reduction_factor,\n",
    "                                              leave_out=leave_out)              \n",
    "                \n",
    "        # load a pre-trained from Hub if specified\n",
    "        if load_adapter:\n",
    "            model.load_adapter(\n",
    "                    load_adapter,\n",
    "                    config=adapter_config,\n",
    "                    load_as=task_name,\n",
    "                    with_head = False\n",
    "                )\n",
    "        # otherwise, add a fresh adapter\n",
    "        else:\n",
    "            model.add_adapter(task_name, config=adapter_config)\n",
    "            \n",
    "    # Set the adapters to be used in every forward pass\n",
    "    if lang_adapter_name:\n",
    "        model.active_adapters = Stack(task_mlm_load_as, task_name)\n",
    "    else:\n",
    "        model.set_active_adapters(task_name)\n",
    "\n",
    "    # Freeze all model weights except of those of this adapter\n",
    "    model.train_adapter([task_name])\n",
    "    \n",
    "else:\n",
    "    if load_adapter or load_lang_adapter:\n",
    "        raise ValueError(\n",
    "                \"Adapters can only be loaded in adapters training mode.\"\n",
    "                \"Use --train_adapter to enable adapter training\"\n",
    "            )"
   ]
  },
  {
   "cell_type": "code",
   "execution_count": null,
   "metadata": {},
   "outputs": [],
   "source": []
  },
  {
   "cell_type": "code",
   "execution_count": null,
   "metadata": {},
   "outputs": [],
   "source": []
  },
  {
   "cell_type": "code",
   "execution_count": null,
   "metadata": {},
   "outputs": [],
   "source": []
  },
  {
   "cell_type": "code",
   "execution_count": null,
   "metadata": {},
   "outputs": [],
   "source": []
  },
  {
   "cell_type": "code",
   "execution_count": null,
   "metadata": {},
   "outputs": [],
   "source": [
    "task_name = \"ner\"\n",
    "\n",
    "# Aqui esta a raiz da exceção!\n",
    "# lang_adapter_config?\n",
    "def load_pretrained_adapter():\n",
    "    # Inclui as duas linha abaixo:\n",
    "    # lang_adapter_config = \"/home/info/MyNotebooks/BertAdapterNER/outputs/neuralmind-bert-large-portuguese-cased_lenerbr/mlm/lr0.0001_bs16_GAS1_eps1e-06_epochs100.0_patience10_madx2True_houlsby_MHA_lastlayerFalse_dsFalse_fp16True_bestTrue_metricloss_adapterconfigpfeiffer+inv/adapters-mlm/adapter_config.json\"\n",
    "    lang_adapter_config = \"/home/info/MyNotebooks/BertAdapterNER/outputs/neuralmind-bert-base-portuguese-cased_lenerbr/mlm/lr0.0001_bs16_GAS1_eps1e-06_epochs100.0_patience10_madx2True_houlsby_MHA_lastlayerFalse_dsFalse_fp16True_bestTrue_metricloss_adapterconfigpfeiffer+inv/adapters-mlm/adapter_config.json\"\n",
    "    #leave_out = \n",
    "    \n",
    "    # optionally load another pre-trained language adapter\n",
    "    if with_adapters_mlm:\n",
    "        # resolve the language adapter config\n",
    "        print(\"Antes de lang_adpter_config\")\n",
    "        lang_adapter_config = AdapterConfig.load(\n",
    "                lang_adapter_config,\n",
    "                non_linearity=lang_adapter_non_linearity,\n",
    "                reduction_factor=lang_adapter_reduction_factor,\n",
    "                leave_out=not_last_layer(),\n",
    "            )\n",
    "        print(\"Passou por lang_adpter_config\")\n",
    "        # load the language adapter from Hub\n",
    "        task_mlm_load_as = 'mlm'\n",
    "        lang_adapter_name = model.load_adapter(\n",
    "                load_lang_adapter,\n",
    "                config=lang_adapter_config,\n",
    "                load_as=task_mlm_load_as,\n",
    "                with_head = False\n",
    "            )\n",
    "    else:\n",
    "        lang_adapter_name = None\n"
   ]
  },
  {
   "cell_type": "code",
   "execution_count": null,
   "metadata": {},
   "outputs": [],
   "source": [
    "def check_task_adapter():\n",
    "    # check if adapter already exists, otherwise add it\n",
    "    if task_name not in model.config.adapters:\n",
    "                    \n",
    "        # new\n",
    "        # resolve adapter config with (eventually) the MAD-X 2.0 option\n",
    "        if adapter_config_name == \"pfeiffer\":\n",
    "            from transformers.adapters.configuration import PfeifferConfig\n",
    "            adapter_config = PfeifferConfig(non_linearity=adapter_non_linearity,\n",
    "                                            reduction_factor=adapter_reduction_factor,\n",
    "                                            leave_out=not_last_layer())           \n",
    "        elif adapter_config_name == \"pfeiffer+inv\":\n",
    "            from transformers.adapters.configuration import PfeifferInvConfig\n",
    "            adapter_config = PfeifferInvConfig(non_linearity=adapter_non_linearity,\n",
    "                                               reduction_factor=adapter_reduction_factor,\n",
    "                                               leave_out=not_last_layer())          \n",
    "        elif adapter_config_name == \"houlsby\":\n",
    "            from transformers.adapters.configuration import HoulsbyConfig\n",
    "            adapter_config = HoulsbyConfig(non_linearity=adapter_non_linearity,\n",
    "                                           reduction_factor=adapter_reduction_factor,\n",
    "                                           leave_out=leave_out)\n",
    "        elif adapter_config_name == \"houlsby+inv\":\n",
    "            from transformers.adapters.configuration import HoulsbyInvConfig\n",
    "            adapter_config = HoulsbyInvConfig(non_linearity=adapter_non_linearity,\n",
    "                                              reduction_factor=adapter_reduction_factor,\n",
    "                                              leave_out=leave_out)              \n",
    "                \n",
    "        # load a pre-trained from Hub if specified\n",
    "        if load_adapter:\n",
    "            model.load_adapter(\n",
    "                    load_adapter,\n",
    "                    config=adapter_config,\n",
    "                    load_as=task_name,\n",
    "                    with_head = False\n",
    "                )\n",
    "        # otherwise, add a fresh adapter\n",
    "        else:\n",
    "            model.add_adapter(task_name, config=adapter_config)\n",
    "    print(adapter_config_name)"
   ]
  },
  {
   "cell_type": "code",
   "execution_count": null,
   "metadata": {},
   "outputs": [],
   "source": [
    "def set_adapter():\n",
    "    # Set the adapters to be used in every forward pass\n",
    "    if lang_adapter_name:\n",
    "        model.active_adapters = Stack(task_mlm_load_as, task_name)\n",
    "    else:\n",
    "        model.set_active_adapters(task_name)\n"
   ]
  },
  {
   "cell_type": "code",
   "execution_count": null,
   "metadata": {},
   "outputs": [],
   "source": [
    "def not_last_layer():\n",
    "    if madx2:\n",
    "        # do not add adapter in the last transformer layers \n",
    "        leave_out = [len(model.bert.encoder.layer)-1]\n",
    "    else:\n",
    "        leave_out = []\n",
    "    return(leave_out)"
   ]
  },
  {
   "cell_type": "code",
   "execution_count": null,
   "metadata": {},
   "outputs": [],
   "source": [
    "# Dividindo esta celula em várias para depurar o erro\n",
    "\n",
    "def train_adapter_func():\n",
    "    \n",
    "    not_last_layer()\n",
    "          \n",
    "    load_pretrained_adapter()\n",
    "        \n",
    "    check_task_adapter()\n",
    "            \n",
    "    set_adapter()\n",
    "    \n",
    "    # Freeze all model weights except of those of this adapter\n",
    "    model.train_adapter([task_name])\n",
    "    "
   ]
  },
  {
   "cell_type": "code",
   "execution_count": null,
   "metadata": {},
   "outputs": [],
   "source": [
    "# Setup adapters\n",
    "# Dividindo esta celula em várias para depurar o erro\n",
    "#\n",
    "\n",
    "from transformers.adapters.composition import Stack\n",
    "from transformers.adapters import AdapterConfig\n",
    "\n",
    "if train_adapter:\n",
    "    train_adapter_func()\n",
    "    \n",
    "else:\n",
    "    if load_adapter or load_lang_adapter:\n",
    "        raise ValueError(\n",
    "                \"Adapters can only be loaded in adapters training mode.\"\n",
    "                \"Use --train_adapter to enable adapter training\"\n",
    "            )"
   ]
  },
  {
   "cell_type": "code",
   "execution_count": null,
   "metadata": {},
   "outputs": [],
   "source": [
    "model.config"
   ]
  },
  {
   "cell_type": "code",
   "execution_count": null,
   "metadata": {},
   "outputs": [],
   "source": [
    "if task_name not in model.config.adapters:\n",
    "    print(task_name)"
   ]
  },
  {
   "cell_type": "code",
   "execution_count": null,
   "metadata": {},
   "outputs": [],
   "source": [
    "Erro: Vem do lang_adapter_config!\n",
    "/home/info/MyNotebooks/neuralmind-bert-base-portuguese-cased-finetuned-squad-v1.1-pt/outputs/neuralmind-bert-large-portuguese-cased_lenerbr/mlm/lr0.0001_bs16_GAS1_eps1e-06_epochs100.0_patience10_madx2True_houlsby_MHA_lastlayerFalse_dsFalse_fp16True_bestTrue_metricloss_adapterconfigpfeiffer+inv/adapters-mlm/adapter_config.json'\n",
    "/home/info/MyNotebooks/neuralmind-bert-base-portuguese-cased-finetuned-squad-v1.1-pt/outputs/neuralmind-bert-large-portuguese-cased_lenerbr/mlm/lr0.0001_bs16_GAS1_eps1e-06_epochs100.0_patience10_madx2True_houlsby_MHA_lastlayerFalse_dsFalse_fp16True_bestTrue_metricloss_adapterconfigpfeiffer+inv/adapters-mlm/adapter_config.json'\n",
    "\n",
    "\n",
    "/home/info/MyNotebooks/neuralmind-bert-base-portuguese-cased-finetuned-squad-v1.1-pt/outputs/neuralmind-bert-large-portuguese-cased_lenerbr/mlm_ner_AdCompostack/lr0.0001_bs8_GAS1_eps1e-06_epochs20.0_patience5_wamlmTrue_madx2True_houlsby_MHA_lastlayerFalse_dsFalse_fp16True_bestTrue_metricf1_weightedlossFalse_c0.0_nsTrue_adapterconfigpfeiffer\n",
    "/home/info/MyNotebooks/neuralmind-bert-base-portuguese-cased-finetuned-squad-v1.1-pt/outputs/neuralmind-bert-large-portuguese-cased_lenerbr/mlm/                 lr0.0001_bs16_GAS1_eps1e-06_epochs100.0_patience10_madx2True_houlsby_MHA_lastlayerFalse_dsFalse_fp16True_bestTrue_metricloss_adapterconfigpfeiffer+inv/adapters-mlm/adapter_config.json'\n",
    "\n",
    "\n",
    "    # path to lang adapter\n",
    "    outputs_mlm = model_checkpoint.replace('/','-') + '_' + dataset_name + '/' + 'mlm' + '/' \\\n",
    "    + 'lr' + str(learning_rate_mlm) \\\n",
    "    + '_bs' + str(batch_size_mlm) \\\n",
    "    + '_GAS' + str(gradient_accumulation_steps_mlm) \\\n",
    "    + '_eps' + str(adam_epsilon_mlm) \\\n",
    "    + '_epochs' + str(num_train_epoch_mlm) \\\n",
    "    + '_patience' + str(early_stopping_patience_mlm) \\\n",
    "    + '_madx2' + str(madx2_mlm) \\\n",
    "    + '_houlsby_MHA_lastlayer' + str(houlsby_MHA_lastlayer_mlm) \\\n",
    "    + '_ds' + str(ds_mlm) \\\n",
    "    + '_fp16' + str(fp16_mlm) \\\n",
    "    + '_best' + str(load_best_model_at_end_mlm) \\\n",
    "    + '_metric' + str(metric_for_best_model_mlm) \\\n",
    "    + '_adapterconfig' + str(adapter_config_mlm)\n",
    "\n",
    "    path_to_outputs_mlm = root/'outputs'/outputs_mlm\n",
    "    \n",
    "    # Config of the lang adapter\n",
    "    lang_adapter_path = path_to_outputs_mlm/'adapters-mlm/'\n",
    "    \n",
    "    load_lang_adapter = str(lang_adapter_path)\n",
    "    lang_adapter_config = str(lang_adapter_path) + \"/adapter_config.json\"\n",
    "\n",
    "    Resulta em:\n",
    "/home/info/MyNotebooks/neuralmind-bert-base-portuguese-cased-finetuned-squad-v1.1-pt/outputs/neuralmind-bert-large-portuguese-cased_lenerbr/mlm_ner_AdCompostack/lr0.0001_bs8_GAS1_eps1e-06_epochs20.0_patience5_wamlmTrue_madx2True_houlsby_MHA_lastlayerFalse_dsFalse_fp16True_bestTrue_metricf1_weightedlossFalse_c0.0_nsTrue_adapterconfigpfeiffer\n",
    "   "
   ]
  },
  {
   "cell_type": "code",
   "execution_count": null,
   "metadata": {},
   "outputs": [],
   "source": []
  },
  {
   "cell_type": "code",
   "execution_count": null,
   "metadata": {},
   "outputs": [],
   "source": []
  },
  {
   "cell_type": "code",
   "execution_count": null,
   "metadata": {},
   "outputs": [],
   "source": []
  },
  {
   "cell_type": "code",
   "execution_count": null,
   "metadata": {},
   "outputs": [],
   "source": []
  },
  {
   "cell_type": "code",
   "execution_count": null,
   "metadata": {},
   "outputs": [],
   "source": [
    " "
   ]
  },
  {
   "cell_type": "code",
   "execution_count": null,
   "metadata": {},
   "outputs": [],
   "source": []
  },
  {
   "cell_type": "code",
   "execution_count": null,
   "metadata": {},
   "outputs": [],
   "source": []
  },
  {
   "cell_type": "code",
   "execution_count": null,
   "metadata": {},
   "outputs": [],
   "source": []
  },
  {
   "cell_type": "code",
   "execution_count": 54,
   "metadata": {},
   "outputs": [],
   "source": [
    "# Put only the adapter after the MHA but not after the FeedForward in the last layer\n",
    "if houlsby_MHA_lastlayer \\\n",
    "and train_adapter \\\n",
    "and not madx2 \\\n",
    "and task_name in model.config.adapters \\\n",
    "and (adapter_config_name == \"houlsby\" or adapter_config_name == \"houlsby+inv\"):\n",
    "    import torch\n",
    "    from torch.nn import ModuleDict\n",
    "    model.bert.encoder.layer[len(model.bert.encoder.layer)-1].output.adapters = ModuleDict()"
   ]
  },
  {
   "cell_type": "code",
   "execution_count": 55,
   "metadata": {},
   "outputs": [
    {
     "data": {
      "text/plain": [
       "109162525"
      ]
     },
     "execution_count": 55,
     "metadata": {},
     "output_type": "execute_result"
    }
   ],
   "source": [
    "model_adapter_num_param=0\n",
    "for p in model.parameters():\n",
    "    model_adapter_num_param+=p.numel()\n",
    "model_adapter_num_param"
   ]
  },
  {
   "cell_type": "code",
   "execution_count": 56,
   "metadata": {},
   "outputs": [
    {
     "name": "stdout",
     "output_type": "stream",
     "text": [
      "Number of parameters of the model with adapter: 109162525\n",
      "Number of parameters of the model without adapter: 108342541\n",
      "Number of parameters of the adapter: 819984\n",
      "Pourcentage of additional parameters through adapter: 0.76 %\n"
     ]
    }
   ],
   "source": [
    "print(f\"Number of parameters of the model with adapter: {model_adapter_num_param:.0f}\")\n",
    "print(f\"Number of parameters of the model without adapter: {model_num_param:.0f}\")\n",
    "print(f\"Number of parameters of the adapter: {model_adapter_num_param - model_num_param:.0f}\")\n",
    "print(f\"Pourcentage of additional parameters through adapter:\",round(((model_adapter_num_param - model_num_param)/model_num_param)*100,2),'%')"
   ]
  },
  {
   "cell_type": "markdown",
   "metadata": {
    "id": "jElf8LJ33l_K"
   },
   "source": [
    "## 10. Training"
   ]
  },
  {
   "cell_type": "markdown",
   "metadata": {
    "id": "_N8urzhyIrJY"
   },
   "source": [
    "To instantiate a `Trainer`, we will need to define three more things. The most important is the [`TrainingArguments`](https://huggingface.co/transformers/main_classes/trainer.html#transformers.TrainingArguments), which is a class that contains all the attributes to customize the training. It requires one folder name, which will be used to save the checkpoints of the model, and all other arguments are optional:"
   ]
  },
  {
   "cell_type": "code",
   "execution_count": 57,
   "metadata": {
    "id": "Bliy8zgjIrJY"
   },
   "outputs": [],
   "source": [
    "from transformers import TrainingArguments\n",
    "\n",
    "if ds:\n",
    "    training_args = TrainingArguments(\n",
    "        output_dir=output_dir,\n",
    "        overwrite_output_dir=overwrite_output_dir,\n",
    "        do_train=do_train,\n",
    "        do_eval=do_eval,\n",
    "        evaluation_strategy=evaluation_strategy,\n",
    "        per_device_train_batch_size=batch_size,\n",
    "        per_device_eval_batch_size=batch_size,\n",
    "        gradient_accumulation_steps=gradient_accumulation_steps,\n",
    "        learning_rate=learning_rate,\n",
    "        weight_decay=weight_decay,\n",
    "        adam_beta1=adam_beta1,\n",
    "        adam_beta2=adam_beta2,\n",
    "        adam_epsilon=adam_epsilon,\n",
    "        num_train_epochs=num_train_epochs,\n",
    "        lr_scheduler_type=lr_scheduler_type,\n",
    "        warmup_ratio=warmup_ratio,\n",
    "        warmup_steps=warmup_steps,\n",
    "        logging_dir=logging_dir,         # directory for storing logs\n",
    "        logging_strategy=evaluation_strategy,\n",
    "        logging_steps=logging_steps,     # if strategy = \"steps\"\n",
    "        save_strategy=evaluation_strategy,          # model checkpoint saving strategy\n",
    "        save_steps=logging_steps,        # if strategy = \"steps\"\n",
    "        save_total_limit=save_total_limit,\n",
    "        fp16=fp16,\n",
    "        eval_steps=logging_steps,        # if strategy = \"steps\"\n",
    "        load_best_model_at_end=load_best_model_at_end,\n",
    "        metric_for_best_model=metric_for_best_model,\n",
    "        greater_is_better=greater_is_better,\n",
    "        local_rank=gpu,\n",
    "        deepspeed = ds_config\n",
    "        )\n",
    "else:\n",
    "    training_args = TrainingArguments(\n",
    "        output_dir=output_dir,\n",
    "        overwrite_output_dir=overwrite_output_dir,\n",
    "        do_train=do_train,\n",
    "        do_eval=do_eval,\n",
    "        evaluation_strategy=evaluation_strategy,\n",
    "        per_device_train_batch_size=batch_size,\n",
    "        per_device_eval_batch_size=batch_size,\n",
    "        gradient_accumulation_steps=gradient_accumulation_steps,\n",
    "        learning_rate=learning_rate,\n",
    "        weight_decay=weight_decay,\n",
    "        adam_beta1=adam_beta1,\n",
    "        adam_beta2=adam_beta2,\n",
    "        adam_epsilon=adam_epsilon,\n",
    "        num_train_epochs=num_train_epochs,\n",
    "        lr_scheduler_type=lr_scheduler_type,\n",
    "        warmup_ratio=warmup_ratio,\n",
    "        warmup_steps=warmup_steps,\n",
    "        logging_dir=logging_dir,         # directory for storing logs\n",
    "        logging_strategy=evaluation_strategy,\n",
    "        logging_steps=logging_steps,     # if strategy = \"steps\"\n",
    "        save_strategy=evaluation_strategy,          # model checkpoint saving strategy\n",
    "        save_steps=logging_steps,        # if strategy = \"steps\"\n",
    "        save_total_limit=save_total_limit,\n",
    "        #fp16=fp16,\n",
    "        eval_steps=logging_steps,        # if strategy = \"steps\"\n",
    "        load_best_model_at_end=load_best_model_at_end,\n",
    "        metric_for_best_model=metric_for_best_model,\n",
    "        greater_is_better=greater_is_better,\n",
    "        #local_rank=gpu,\n",
    "        )"
   ]
  },
  {
   "cell_type": "markdown",
   "metadata": {
    "id": "km3pGVdTIrJc"
   },
   "source": [
    "Here we set the evaluation to be done at the end of each epoch, tweak the learning rate, use the `batch_size` defined at the top of the notebook and customize the number of epochs for training, as well as the weight decay."
   ]
  },
  {
   "cell_type": "markdown",
   "metadata": {},
   "source": [
    "Then we will need a data collator that will batch our processed examples together while applying padding to make them all the same size (each pad will be padded to the length of its longest example). There is a data collator for this task in the Transformers library, that not only pads the inputs, but also the labels:"
   ]
  },
  {
   "cell_type": "code",
   "execution_count": 58,
   "metadata": {},
   "outputs": [],
   "source": [
    "from transformers import DataCollatorForTokenClassification\n",
    "\n",
    "data_collator = DataCollatorForTokenClassification(tokenizer)"
   ]
  },
  {
   "cell_type": "markdown",
   "metadata": {},
   "source": [
    "The last thing to define for our `Trainer` is how to compute the metrics from the predictions. Here we will load the [`seqeval`](https://github.com/chakki-works/seqeval) metric (which is commonly used to evaluate results on the CONLL dataset) via the Datasets library."
   ]
  },
  {
   "cell_type": "code",
   "execution_count": 59,
   "metadata": {},
   "outputs": [],
   "source": [
    "metric = load_metric(\"seqeval\")"
   ]
  },
  {
   "cell_type": "markdown",
   "metadata": {},
   "source": [
    "This metric takes list of labels for the predictions and references:"
   ]
  },
  {
   "cell_type": "code",
   "execution_count": 60,
   "metadata": {},
   "outputs": [
    {
     "data": {
      "text/plain": [
       "{'JURISPRUDENCIA': {'precision': 1.0, 'recall': 1.0, 'f1': 1.0, 'number': 3},\n",
       " 'ORGANIZACAO': {'precision': 1.0, 'recall': 1.0, 'f1': 1.0, 'number': 2},\n",
       " 'PESSOA': {'precision': 1.0, 'recall': 1.0, 'f1': 1.0, 'number': 2},\n",
       " 'overall_precision': 1.0,\n",
       " 'overall_recall': 1.0,\n",
       " 'overall_f1': 1.0,\n",
       " 'overall_accuracy': 1.0}"
      ]
     },
     "execution_count": 60,
     "metadata": {},
     "output_type": "execute_result"
    }
   ],
   "source": [
    "if next_sentence:\n",
    "    example = new_datasets[\"validation\"][0]\n",
    "else:\n",
    "    example = datasets[\"validation\"][0]\n",
    "\n",
    "labels = [label_list[i] for i in example[f\"{task}_tags\"]]\n",
    "metric.compute(predictions=[labels], references=[labels])"
   ]
  },
  {
   "cell_type": "markdown",
   "metadata": {
    "id": "7sZOdRlRIrJd"
   },
   "source": [
    "So we will need to do a bit of post-processing on our predictions:\n",
    "- select the predicted index (with the maximum logit) for each token\n",
    "- convert it to its string label\n",
    "- ignore everywhere we set a label of -100\n",
    "\n",
    "The following function does all this post-processing on the result of `Trainer.evaluate` (which is a namedtuple containing predictions and labels) before applying the metric:"
   ]
  },
  {
   "cell_type": "code",
   "execution_count": 61,
   "metadata": {
    "id": "UmvbnJ9JIrJd"
   },
   "outputs": [],
   "source": [
    "import numpy as np\n",
    "\n",
    "def compute_metrics(p):\n",
    "    predictions, labels = p\n",
    "    predictions = np.argmax(predictions, axis=2)\n",
    "\n",
    "    # Remove ignored index (special tokens)\n",
    "    true_predictions = [\n",
    "        [label_list[p] for (p, l) in zip(prediction, label) if l != -100]\n",
    "        for prediction, label in zip(predictions, labels)\n",
    "    ]\n",
    "    true_labels = [\n",
    "        [label_list[l] for (p, l) in zip(prediction, label) if l != -100]\n",
    "        for prediction, label in zip(predictions, labels)\n",
    "    ]\n",
    "\n",
    "    results = metric.compute(predictions=true_predictions, references=true_labels)\n",
    "    return {\n",
    "        \"precision\": results[\"overall_precision\"],\n",
    "        \"recall\": results[\"overall_recall\"],\n",
    "        \"f1\": results[\"overall_f1\"],\n",
    "        \"accuracy\": results[\"overall_accuracy\"],\n",
    "    }"
   ]
  },
  {
   "cell_type": "markdown",
   "metadata": {
    "id": "rXuFTAzDIrJe"
   },
   "source": [
    "Note that we drop the precision/recall/f1 computed for each category and only focus on the overall precision/recall/f1/accuracy.\n",
    "\n",
    "Then we just need to pass all of this along with our datasets to the `Trainer`:"
   ]
  },
  {
   "cell_type": "markdown",
   "metadata": {},
   "source": [
    "### Weighted_loss"
   ]
  },
  {
   "cell_type": "code",
   "execution_count": 62,
   "metadata": {},
   "outputs": [
    {
     "data": {
      "text/plain": [
       "{'O': 41807,\n",
       " 'B-ORGANIZACAO': 501,\n",
       " 'I-ORGANIZACAO': 866,\n",
       " 'B-PESSOA': 233,\n",
       " 'I-PESSOA': 502,\n",
       " 'B-TEMPO': 192,\n",
       " 'I-TEMPO': 68,\n",
       " 'B-LOCAL': 47,\n",
       " 'I-LOCAL': 85,\n",
       " 'B-LEGISLACAO': 378,\n",
       " 'I-LEGISLACAO': 2291,\n",
       " 'B-JURISPRUDENCIA': 185,\n",
       " 'I-JURISPRUDENCIA': 475}"
      ]
     },
     "execution_count": 62,
     "metadata": {},
     "output_type": "execute_result"
    }
   ],
   "source": [
    "sorted_ner_tags_dist"
   ]
  },
  {
   "cell_type": "code",
   "execution_count": null,
   "metadata": {},
   "outputs": [],
   "source": [
    "# # source: https://medium.com/swlh/approaching-a-named-entity-recognition-ner-end-to-end-steps-685735b4a2f9#5194\n",
    "# class_LabelCounts = [v for v in sorted_ner_tags_dist.values()]\n",
    "\n",
    "# inverse_weights = [1 / lc for lc in class_LabelCounts]\n",
    "# sum_inverse = np.sum(inverse_weights)\n",
    "# normalized_inverse_weights = inverse_weights / sum_inverse\n",
    "\n",
    "# constant = 0.3\n",
    "# class_weights = constant + normalized_inverse_weights\n",
    "# normalized_weights = (class_weights / np.sum(class_weights)).tolist()"
   ]
  },
  {
   "cell_type": "code",
   "execution_count": 63,
   "metadata": {},
   "outputs": [],
   "source": [
    "from transformers import Trainer\n",
    "\n",
    "if weighted_loss:\n",
    "\n",
    "    # https://discuss.pytorch.org/t/what-is-the-weight-values-mean-in-torch-nn-crossentropyloss/11455/2\n",
    "    # https://discuss.pytorch.org/t/what-is-the-weight-values-mean-in-torch-nn-crossentropyloss/11455/4\n",
    "    # source: https://medium.com/swlh/approaching-a-named-entity-recognition-ner-end-to-end-steps-685735b4a2f9#5194\n",
    "    class_LabelCounts = [v for v in sorted_ner_tags_dist.values()]\n",
    "\n",
    "    inverse_weights = [1 / lc for lc in class_LabelCounts]\n",
    "    sum_inverse = np.sum(inverse_weights)\n",
    "    normalized_inverse_weights = inverse_weights / sum_inverse\n",
    "\n",
    "    constant = c\n",
    "    class_weights = constant + normalized_inverse_weights\n",
    "    normalized_weights = class_weights / np.sum(class_weights)\n",
    "    \n",
    "    # customized trainer class with weighted loss\n",
    "    from transformers import Trainer\n",
    "    # import math\n",
    "    from torch.nn import CrossEntropyLoss\n",
    "    import numpy as np\n",
    "\n",
    "    device = torch.device(f\"cuda:{gpu}\")\n",
    "#     torch.cuda.set_device(gpu)\n",
    "    normalized_class_weights = torch.from_numpy(normalized_weights).float().to(device)\n",
    "    if ds:\n",
    "        normalized_class_weights = normalized_class_weights.half()\n",
    "\n",
    "    class MyTrainer(Trainer):\n",
    "        def __init__(self, *args, **kwargs):\n",
    "            super().__init__(*args, **kwargs)    \n",
    "\n",
    "        # https://huggingface.co/transformers/_modules/transformers/trainer.html#Trainer.compute_loss\n",
    "        # https://github.com/huggingface/transformers/blob/master/src/transformers/models/bert/modeling_bert.py#L1711\n",
    "        def compute_loss(self, model, inputs, return_outputs=False):\n",
    "            \"\"\"\n",
    "            How the loss is computed by Trainer. By default, all models return the loss in the first element.\n",
    "\n",
    "            Subclass and override for custom behavior.\n",
    "            \"\"\"\n",
    "\n",
    "            labels = inputs.pop(\"labels\")\n",
    "            attention_mask = inputs['attention_mask']\n",
    "            \n",
    "            outputs = model(**inputs)\n",
    "            logits = outputs.logits\n",
    "            num_labels = logits.shape[2]\n",
    "        \n",
    "            loss = None\n",
    "            \n",
    "            if labels is not None:\n",
    "#                 loss_fct = torch.nn.CrossEntropyLoss()\n",
    "                loss_fct = torch.nn.CrossEntropyLoss(weight=normalized_class_weights, reduction='mean') # mean in order to normalize the loss\n",
    "                \n",
    "                # Only keep active parts of the loss\n",
    "                if attention_mask is not None:\n",
    "                    active_loss = attention_mask.view(-1) == 1\n",
    "                    active_logits = logits.view(-1, num_labels)\n",
    "                    active_labels = torch.where(\n",
    "                        active_loss, labels.view(-1), torch.tensor(loss_fct.ignore_index).type_as(labels)\n",
    "                    )\n",
    "                    loss = loss_fct(active_logits, active_labels)\n",
    "                else:\n",
    "                    loss = loss_fct(logits.view(-1, num_labels), labels.view(-1))\n",
    "                \n",
    "            return (loss, outputs) if return_outputs else loss"
   ]
  },
  {
   "cell_type": "code",
   "execution_count": 64,
   "metadata": {},
   "outputs": [],
   "source": [
    "from transformers.trainer_callback import EarlyStoppingCallback\n",
    "\n",
    "if weighted_loss:\n",
    "    trainer = MyTrainer(\n",
    "        model,\n",
    "        training_args,\n",
    "        train_dataset=tokenized_datasets[\"train\"], #.shard(index=1, num_shards=50), #to be used to reduce train to 1/50\n",
    "        eval_dataset=tokenized_datasets[\"validation\"], #.shard(index=1, num_shards=50), #to be used to reduce validation to 1/50\n",
    "        data_collator=data_collator,\n",
    "        tokenizer=tokenizer,\n",
    "        compute_metrics=compute_metrics,\n",
    "        callbacks=[EarlyStoppingCallback(early_stopping_patience=early_stopping_patience)],\n",
    "    )        \n",
    "else:\n",
    "    trainer = Trainer(\n",
    "        model,\n",
    "        training_args,\n",
    "        train_dataset=tokenized_datasets[\"train\"], #.shard(index=1, num_shards=50), #to be used to reduce train to 1/50\n",
    "        eval_dataset=tokenized_datasets[\"validation\"], #.shard(index=1, num_shards=50), #to be used to reduce validation to 1/50\n",
    "        data_collator=data_collator,\n",
    "        tokenizer=tokenizer,\n",
    "        compute_metrics=compute_metrics,\n",
    "        callbacks=[EarlyStoppingCallback(early_stopping_patience=early_stopping_patience)],\n",
    "    )"
   ]
  },
  {
   "cell_type": "markdown",
   "metadata": {},
   "source": [
    "### Trainer"
   ]
  },
  {
   "cell_type": "markdown",
   "metadata": {
    "id": "CdzABDVcIrJg"
   },
   "source": [
    "We can now finetune our model by just calling the `train` method:"
   ]
  },
  {
   "cell_type": "code",
   "execution_count": 65,
   "metadata": {},
   "outputs": [
    {
     "data": {
      "text/plain": [
       "'neuralmind-bert-base-portuguese-cased_lenerbr/ner/lr0.0001_bs8_epochs5_patience5_wamlmFalse_madx2True_houlsby_MHA_lastlayerFalse_dsFalse_fp16True_bestTrue_metricf1_weightedlossFalse_c0.0_nsTrue_adapterconfigpfeiffer'"
      ]
     },
     "execution_count": 65,
     "metadata": {},
     "output_type": "execute_result"
    }
   ],
   "source": [
    "outputs"
   ]
  },
  {
   "cell_type": "code",
   "execution_count": 66,
   "metadata": {},
   "outputs": [
    {
     "name": "stderr",
     "output_type": "stream",
     "text": [
      "/home/info/.local/lib/python3.8/site-packages/transformers/optimization.py:306: FutureWarning: This implementation of AdamW is deprecated and will be removed in a future version. Use the PyTorch implementation torch.optim.AdamW instead, or set `no_deprecation_warning=True` to disable this warning\n",
      "  warnings.warn(\n",
      "***** Running training *****\n",
      "  Num examples = 7828\n",
      "  Num Epochs = 5\n",
      "  Instantaneous batch size per device = 8\n",
      "  Total train batch size (w. parallel, distributed & accumulation) = 8\n",
      "  Gradient Accumulation steps = 1\n",
      "  Total optimization steps = 4895\n"
     ]
    },
    {
     "data": {
      "text/html": [
       "\n",
       "    <div>\n",
       "      \n",
       "      <progress value='4895' max='4895' style='width:300px; height:20px; vertical-align: middle;'></progress>\n",
       "      [4895/4895 2:20:00, Epoch 5/5]\n",
       "    </div>\n",
       "    <table border=\"1\" class=\"dataframe\">\n",
       "  <thead>\n",
       " <tr style=\"text-align: left;\">\n",
       "      <th>Epoch</th>\n",
       "      <th>Training Loss</th>\n",
       "      <th>Validation Loss</th>\n",
       "      <th>Precision</th>\n",
       "      <th>Recall</th>\n",
       "      <th>F1</th>\n",
       "      <th>Accuracy</th>\n",
       "    </tr>\n",
       "  </thead>\n",
       "  <tbody>\n",
       "    <tr>\n",
       "      <td>1</td>\n",
       "      <td>0.530600</td>\n",
       "      <td>0.167068</td>\n",
       "      <td>0.667598</td>\n",
       "      <td>0.667742</td>\n",
       "      <td>0.667670</td>\n",
       "      <td>0.946729</td>\n",
       "    </tr>\n",
       "    <tr>\n",
       "      <td>2</td>\n",
       "      <td>0.332100</td>\n",
       "      <td>0.136845</td>\n",
       "      <td>0.749058</td>\n",
       "      <td>0.726667</td>\n",
       "      <td>0.737692</td>\n",
       "      <td>0.959956</td>\n",
       "    </tr>\n",
       "    <tr>\n",
       "      <td>3</td>\n",
       "      <td>0.294200</td>\n",
       "      <td>0.127433</td>\n",
       "      <td>0.745653</td>\n",
       "      <td>0.765376</td>\n",
       "      <td>0.755386</td>\n",
       "      <td>0.961205</td>\n",
       "    </tr>\n",
       "    <tr>\n",
       "      <td>4</td>\n",
       "      <td>0.269400</td>\n",
       "      <td>0.124497</td>\n",
       "      <td>0.780260</td>\n",
       "      <td>0.773548</td>\n",
       "      <td>0.776890</td>\n",
       "      <td>0.965060</td>\n",
       "    </tr>\n",
       "    <tr>\n",
       "      <td>5</td>\n",
       "      <td>0.255800</td>\n",
       "      <td>0.122340</td>\n",
       "      <td>0.763543</td>\n",
       "      <td>0.797204</td>\n",
       "      <td>0.780011</td>\n",
       "      <td>0.965350</td>\n",
       "    </tr>\n",
       "  </tbody>\n",
       "</table><p>"
      ],
      "text/plain": [
       "<IPython.core.display.HTML object>"
      ]
     },
     "metadata": {},
     "output_type": "display_data"
    },
    {
     "name": "stderr",
     "output_type": "stream",
     "text": [
      "***** Running Evaluation *****\n",
      "  Num examples = 1177\n",
      "  Batch size = 8\n",
      "Saving model checkpoint to /home/info/MyNotebooks/BertAdapterNER/outputs/neuralmind-bert-base-portuguese-cased_lenerbr/ner/lr0.0001_bs8_epochs5_patience5_wamlmFalse_madx2True_houlsby_MHA_lastlayerFalse_dsFalse_fp16True_bestTrue_metricf1_weightedlossFalse_c0.0_nsTrue_adapterconfigpfeiffer/output_dir/checkpoint-979\n",
      "Configuration saved in /home/info/MyNotebooks/BertAdapterNER/outputs/neuralmind-bert-base-portuguese-cased_lenerbr/ner/lr0.0001_bs8_epochs5_patience5_wamlmFalse_madx2True_houlsby_MHA_lastlayerFalse_dsFalse_fp16True_bestTrue_metricf1_weightedlossFalse_c0.0_nsTrue_adapterconfigpfeiffer/output_dir/checkpoint-979/config.json\n",
      "Model weights saved in /home/info/MyNotebooks/BertAdapterNER/outputs/neuralmind-bert-base-portuguese-cased_lenerbr/ner/lr0.0001_bs8_epochs5_patience5_wamlmFalse_madx2True_houlsby_MHA_lastlayerFalse_dsFalse_fp16True_bestTrue_metricf1_weightedlossFalse_c0.0_nsTrue_adapterconfigpfeiffer/output_dir/checkpoint-979/pytorch_model.bin\n",
      "tokenizer config file saved in /home/info/MyNotebooks/BertAdapterNER/outputs/neuralmind-bert-base-portuguese-cased_lenerbr/ner/lr0.0001_bs8_epochs5_patience5_wamlmFalse_madx2True_houlsby_MHA_lastlayerFalse_dsFalse_fp16True_bestTrue_metricf1_weightedlossFalse_c0.0_nsTrue_adapterconfigpfeiffer/output_dir/checkpoint-979/tokenizer_config.json\n",
      "Special tokens file saved in /home/info/MyNotebooks/BertAdapterNER/outputs/neuralmind-bert-base-portuguese-cased_lenerbr/ner/lr0.0001_bs8_epochs5_patience5_wamlmFalse_madx2True_houlsby_MHA_lastlayerFalse_dsFalse_fp16True_bestTrue_metricf1_weightedlossFalse_c0.0_nsTrue_adapterconfigpfeiffer/output_dir/checkpoint-979/special_tokens_map.json\n",
      "***** Running Evaluation *****\n",
      "  Num examples = 1177\n",
      "  Batch size = 8\n",
      "Saving model checkpoint to /home/info/MyNotebooks/BertAdapterNER/outputs/neuralmind-bert-base-portuguese-cased_lenerbr/ner/lr0.0001_bs8_epochs5_patience5_wamlmFalse_madx2True_houlsby_MHA_lastlayerFalse_dsFalse_fp16True_bestTrue_metricf1_weightedlossFalse_c0.0_nsTrue_adapterconfigpfeiffer/output_dir/checkpoint-1958\n",
      "Configuration saved in /home/info/MyNotebooks/BertAdapterNER/outputs/neuralmind-bert-base-portuguese-cased_lenerbr/ner/lr0.0001_bs8_epochs5_patience5_wamlmFalse_madx2True_houlsby_MHA_lastlayerFalse_dsFalse_fp16True_bestTrue_metricf1_weightedlossFalse_c0.0_nsTrue_adapterconfigpfeiffer/output_dir/checkpoint-1958/config.json\n",
      "Model weights saved in /home/info/MyNotebooks/BertAdapterNER/outputs/neuralmind-bert-base-portuguese-cased_lenerbr/ner/lr0.0001_bs8_epochs5_patience5_wamlmFalse_madx2True_houlsby_MHA_lastlayerFalse_dsFalse_fp16True_bestTrue_metricf1_weightedlossFalse_c0.0_nsTrue_adapterconfigpfeiffer/output_dir/checkpoint-1958/pytorch_model.bin\n",
      "tokenizer config file saved in /home/info/MyNotebooks/BertAdapterNER/outputs/neuralmind-bert-base-portuguese-cased_lenerbr/ner/lr0.0001_bs8_epochs5_patience5_wamlmFalse_madx2True_houlsby_MHA_lastlayerFalse_dsFalse_fp16True_bestTrue_metricf1_weightedlossFalse_c0.0_nsTrue_adapterconfigpfeiffer/output_dir/checkpoint-1958/tokenizer_config.json\n",
      "Special tokens file saved in /home/info/MyNotebooks/BertAdapterNER/outputs/neuralmind-bert-base-portuguese-cased_lenerbr/ner/lr0.0001_bs8_epochs5_patience5_wamlmFalse_madx2True_houlsby_MHA_lastlayerFalse_dsFalse_fp16True_bestTrue_metricf1_weightedlossFalse_c0.0_nsTrue_adapterconfigpfeiffer/output_dir/checkpoint-1958/special_tokens_map.json\n",
      "Deleting older checkpoint [/home/info/MyNotebooks/BertAdapterNER/outputs/neuralmind-bert-base-portuguese-cased_lenerbr/ner/lr0.0001_bs8_epochs5_patience5_wamlmFalse_madx2True_houlsby_MHA_lastlayerFalse_dsFalse_fp16True_bestTrue_metricf1_weightedlossFalse_c0.0_nsTrue_adapterconfigpfeiffer/output_dir/checkpoint-979] due to args.save_total_limit\n",
      "***** Running Evaluation *****\n",
      "  Num examples = 1177\n",
      "  Batch size = 8\n",
      "Saving model checkpoint to /home/info/MyNotebooks/BertAdapterNER/outputs/neuralmind-bert-base-portuguese-cased_lenerbr/ner/lr0.0001_bs8_epochs5_patience5_wamlmFalse_madx2True_houlsby_MHA_lastlayerFalse_dsFalse_fp16True_bestTrue_metricf1_weightedlossFalse_c0.0_nsTrue_adapterconfigpfeiffer/output_dir/checkpoint-2937\n",
      "Configuration saved in /home/info/MyNotebooks/BertAdapterNER/outputs/neuralmind-bert-base-portuguese-cased_lenerbr/ner/lr0.0001_bs8_epochs5_patience5_wamlmFalse_madx2True_houlsby_MHA_lastlayerFalse_dsFalse_fp16True_bestTrue_metricf1_weightedlossFalse_c0.0_nsTrue_adapterconfigpfeiffer/output_dir/checkpoint-2937/config.json\n",
      "Model weights saved in /home/info/MyNotebooks/BertAdapterNER/outputs/neuralmind-bert-base-portuguese-cased_lenerbr/ner/lr0.0001_bs8_epochs5_patience5_wamlmFalse_madx2True_houlsby_MHA_lastlayerFalse_dsFalse_fp16True_bestTrue_metricf1_weightedlossFalse_c0.0_nsTrue_adapterconfigpfeiffer/output_dir/checkpoint-2937/pytorch_model.bin\n",
      "tokenizer config file saved in /home/info/MyNotebooks/BertAdapterNER/outputs/neuralmind-bert-base-portuguese-cased_lenerbr/ner/lr0.0001_bs8_epochs5_patience5_wamlmFalse_madx2True_houlsby_MHA_lastlayerFalse_dsFalse_fp16True_bestTrue_metricf1_weightedlossFalse_c0.0_nsTrue_adapterconfigpfeiffer/output_dir/checkpoint-2937/tokenizer_config.json\n",
      "Special tokens file saved in /home/info/MyNotebooks/BertAdapterNER/outputs/neuralmind-bert-base-portuguese-cased_lenerbr/ner/lr0.0001_bs8_epochs5_patience5_wamlmFalse_madx2True_houlsby_MHA_lastlayerFalse_dsFalse_fp16True_bestTrue_metricf1_weightedlossFalse_c0.0_nsTrue_adapterconfigpfeiffer/output_dir/checkpoint-2937/special_tokens_map.json\n",
      "Deleting older checkpoint [/home/info/MyNotebooks/BertAdapterNER/outputs/neuralmind-bert-base-portuguese-cased_lenerbr/ner/lr0.0001_bs8_epochs5_patience5_wamlmFalse_madx2True_houlsby_MHA_lastlayerFalse_dsFalse_fp16True_bestTrue_metricf1_weightedlossFalse_c0.0_nsTrue_adapterconfigpfeiffer/output_dir/checkpoint-1958] due to args.save_total_limit\n",
      "***** Running Evaluation *****\n",
      "  Num examples = 1177\n",
      "  Batch size = 8\n",
      "Saving model checkpoint to /home/info/MyNotebooks/BertAdapterNER/outputs/neuralmind-bert-base-portuguese-cased_lenerbr/ner/lr0.0001_bs8_epochs5_patience5_wamlmFalse_madx2True_houlsby_MHA_lastlayerFalse_dsFalse_fp16True_bestTrue_metricf1_weightedlossFalse_c0.0_nsTrue_adapterconfigpfeiffer/output_dir/checkpoint-3916\n",
      "Configuration saved in /home/info/MyNotebooks/BertAdapterNER/outputs/neuralmind-bert-base-portuguese-cased_lenerbr/ner/lr0.0001_bs8_epochs5_patience5_wamlmFalse_madx2True_houlsby_MHA_lastlayerFalse_dsFalse_fp16True_bestTrue_metricf1_weightedlossFalse_c0.0_nsTrue_adapterconfigpfeiffer/output_dir/checkpoint-3916/config.json\n",
      "Model weights saved in /home/info/MyNotebooks/BertAdapterNER/outputs/neuralmind-bert-base-portuguese-cased_lenerbr/ner/lr0.0001_bs8_epochs5_patience5_wamlmFalse_madx2True_houlsby_MHA_lastlayerFalse_dsFalse_fp16True_bestTrue_metricf1_weightedlossFalse_c0.0_nsTrue_adapterconfigpfeiffer/output_dir/checkpoint-3916/pytorch_model.bin\n",
      "tokenizer config file saved in /home/info/MyNotebooks/BertAdapterNER/outputs/neuralmind-bert-base-portuguese-cased_lenerbr/ner/lr0.0001_bs8_epochs5_patience5_wamlmFalse_madx2True_houlsby_MHA_lastlayerFalse_dsFalse_fp16True_bestTrue_metricf1_weightedlossFalse_c0.0_nsTrue_adapterconfigpfeiffer/output_dir/checkpoint-3916/tokenizer_config.json\n",
      "Special tokens file saved in /home/info/MyNotebooks/BertAdapterNER/outputs/neuralmind-bert-base-portuguese-cased_lenerbr/ner/lr0.0001_bs8_epochs5_patience5_wamlmFalse_madx2True_houlsby_MHA_lastlayerFalse_dsFalse_fp16True_bestTrue_metricf1_weightedlossFalse_c0.0_nsTrue_adapterconfigpfeiffer/output_dir/checkpoint-3916/special_tokens_map.json\n",
      "Deleting older checkpoint [/home/info/MyNotebooks/BertAdapterNER/outputs/neuralmind-bert-base-portuguese-cased_lenerbr/ner/lr0.0001_bs8_epochs5_patience5_wamlmFalse_madx2True_houlsby_MHA_lastlayerFalse_dsFalse_fp16True_bestTrue_metricf1_weightedlossFalse_c0.0_nsTrue_adapterconfigpfeiffer/output_dir/checkpoint-2937] due to args.save_total_limit\n",
      "***** Running Evaluation *****\n",
      "  Num examples = 1177\n",
      "  Batch size = 8\n",
      "Saving model checkpoint to /home/info/MyNotebooks/BertAdapterNER/outputs/neuralmind-bert-base-portuguese-cased_lenerbr/ner/lr0.0001_bs8_epochs5_patience5_wamlmFalse_madx2True_houlsby_MHA_lastlayerFalse_dsFalse_fp16True_bestTrue_metricf1_weightedlossFalse_c0.0_nsTrue_adapterconfigpfeiffer/output_dir/checkpoint-4895\n"
     ]
    },
    {
     "name": "stderr",
     "output_type": "stream",
     "text": [
      "Configuration saved in /home/info/MyNotebooks/BertAdapterNER/outputs/neuralmind-bert-base-portuguese-cased_lenerbr/ner/lr0.0001_bs8_epochs5_patience5_wamlmFalse_madx2True_houlsby_MHA_lastlayerFalse_dsFalse_fp16True_bestTrue_metricf1_weightedlossFalse_c0.0_nsTrue_adapterconfigpfeiffer/output_dir/checkpoint-4895/config.json\n",
      "Model weights saved in /home/info/MyNotebooks/BertAdapterNER/outputs/neuralmind-bert-base-portuguese-cased_lenerbr/ner/lr0.0001_bs8_epochs5_patience5_wamlmFalse_madx2True_houlsby_MHA_lastlayerFalse_dsFalse_fp16True_bestTrue_metricf1_weightedlossFalse_c0.0_nsTrue_adapterconfigpfeiffer/output_dir/checkpoint-4895/pytorch_model.bin\n",
      "tokenizer config file saved in /home/info/MyNotebooks/BertAdapterNER/outputs/neuralmind-bert-base-portuguese-cased_lenerbr/ner/lr0.0001_bs8_epochs5_patience5_wamlmFalse_madx2True_houlsby_MHA_lastlayerFalse_dsFalse_fp16True_bestTrue_metricf1_weightedlossFalse_c0.0_nsTrue_adapterconfigpfeiffer/output_dir/checkpoint-4895/tokenizer_config.json\n",
      "Special tokens file saved in /home/info/MyNotebooks/BertAdapterNER/outputs/neuralmind-bert-base-portuguese-cased_lenerbr/ner/lr0.0001_bs8_epochs5_patience5_wamlmFalse_madx2True_houlsby_MHA_lastlayerFalse_dsFalse_fp16True_bestTrue_metricf1_weightedlossFalse_c0.0_nsTrue_adapterconfigpfeiffer/output_dir/checkpoint-4895/special_tokens_map.json\n",
      "Deleting older checkpoint [/home/info/MyNotebooks/BertAdapterNER/outputs/neuralmind-bert-base-portuguese-cased_lenerbr/ner/lr0.0001_bs8_epochs5_patience5_wamlmFalse_madx2True_houlsby_MHA_lastlayerFalse_dsFalse_fp16True_bestTrue_metricf1_weightedlossFalse_c0.0_nsTrue_adapterconfigpfeiffer/output_dir/checkpoint-3916] due to args.save_total_limit\n",
      "\n",
      "\n",
      "Training completed. Do not forget to share your model on huggingface.co/models =)\n",
      "\n",
      "\n",
      "Loading best model from /home/info/MyNotebooks/BertAdapterNER/outputs/neuralmind-bert-base-portuguese-cased_lenerbr/ner/lr0.0001_bs8_epochs5_patience5_wamlmFalse_madx2True_houlsby_MHA_lastlayerFalse_dsFalse_fp16True_bestTrue_metricf1_weightedlossFalse_c0.0_nsTrue_adapterconfigpfeiffer/output_dir/checkpoint-4895 (score: 0.7800105207785377).\n"
     ]
    },
    {
     "data": {
      "text/plain": [
       "TrainOutput(global_step=4895, training_loss=0.33642250505238924, metrics={'train_runtime': 8401.2605, 'train_samples_per_second': 4.659, 'train_steps_per_second': 0.583, 'total_flos': 4238870986213992.0, 'train_loss': 0.33642250505238924, 'epoch': 5.0})"
      ]
     },
     "execution_count": 66,
     "metadata": {},
     "output_type": "execute_result"
    }
   ],
   "source": [
    "# trainer.args._n_gpu = n_gpu # train on one GPU\n",
    "trainer.train()"
   ]
  },
  {
   "cell_type": "code",
   "execution_count": 67,
   "metadata": {},
   "outputs": [
    {
     "name": "stderr",
     "output_type": "stream",
     "text": [
      "Configuration saved in /home/info/MyNotebooks/BertAdapterNER/outputs/neuralmind-bert-base-portuguese-cased_lenerbr/ner/lr0.0001_bs8_epochs5_patience5_wamlmFalse_madx2True_houlsby_MHA_lastlayerFalse_dsFalse_fp16True_bestTrue_metricf1_weightedlossFalse_c0.0_nsTrue_adapterconfigpfeiffer/adapters-ner/adapter_config.json\n",
      "Module weights saved in /home/info/MyNotebooks/BertAdapterNER/outputs/neuralmind-bert-base-portuguese-cased_lenerbr/ner/lr0.0001_bs8_epochs5_patience5_wamlmFalse_madx2True_houlsby_MHA_lastlayerFalse_dsFalse_fp16True_bestTrue_metricf1_weightedlossFalse_c0.0_nsTrue_adapterconfigpfeiffer/adapters-ner/pytorch_adapter.bin\n",
      "Configuration saved in /home/info/MyNotebooks/BertAdapterNER/outputs/neuralmind-bert-base-portuguese-cased_lenerbr/ner/lr0.0001_bs8_epochs5_patience5_wamlmFalse_madx2True_houlsby_MHA_lastlayerFalse_dsFalse_fp16True_bestTrue_metricf1_weightedlossFalse_c0.0_nsTrue_adapterconfigpfeiffer/adapters-ner/head_config.json\n",
      "Module weights saved in /home/info/MyNotebooks/BertAdapterNER/outputs/neuralmind-bert-base-portuguese-cased_lenerbr/ner/lr0.0001_bs8_epochs5_patience5_wamlmFalse_madx2True_houlsby_MHA_lastlayerFalse_dsFalse_fp16True_bestTrue_metricf1_weightedlossFalse_c0.0_nsTrue_adapterconfigpfeiffer/adapters-ner/pytorch_model_head.bin\n"
     ]
    },
    {
     "name": "stdout",
     "output_type": "stream",
     "text": [
      "total 3,2M\r\n",
      "-rw-rw-r-- 1 info info 1,1K Apr 30 17:12 adapter_config.json\r\n",
      "-rw-rw-r-- 1 info info  488 Apr 30 17:12 head_config.json\r\n",
      "-rw-rw-r-- 1 info info 3,2M Apr 30 17:12 pytorch_adapter.bin\r\n",
      "-rw-rw-r-- 1 info info  40K Apr 30 17:12 pytorch_model_head.bin\r\n"
     ]
    }
   ],
   "source": [
    "# save adapter + head\n",
    "adapters_folder = 'adapters-' + task_name\n",
    "path_to_save_adapter = path_to_outputs/adapters_folder\n",
    "trainer.model.save_adapter(str(path_to_save_adapter), adapter_name=task_name, with_head=True)\n",
    "\n",
    "!ls -lh {path_to_save_adapter}"
   ]
  },
  {
   "cell_type": "code",
   "execution_count": 68,
   "metadata": {},
   "outputs": [
    {
     "data": {
      "text/plain": [
       "PosixPath('/home/info/MyNotebooks/BertAdapterNER/outputs/neuralmind-bert-base-portuguese-cased_lenerbr/ner/lr0.0001_bs8_epochs5_patience5_wamlmFalse_madx2True_houlsby_MHA_lastlayerFalse_dsFalse_fp16True_bestTrue_metricf1_weightedlossFalse_c0.0_nsTrue_adapterconfigpfeiffer/adapters-ner')"
      ]
     },
     "execution_count": 68,
     "metadata": {},
     "output_type": "execute_result"
    }
   ],
   "source": [
    "path_to_save_adapter"
   ]
  },
  {
   "cell_type": "markdown",
   "metadata": {
    "id": "KDBi0reX3l_g"
   },
   "source": [
    "Now, you can push the saved adapter + head to the [AdapterHub](https://adapterhub.ml/) (follow instructions at [Contributing to Adapter Hub](https://docs.adapterhub.ml/contributing.html))."
   ]
  },
  {
   "cell_type": "markdown",
   "metadata": {},
   "source": [
    "## 11. Evaluation"
   ]
  },
  {
   "cell_type": "markdown",
   "metadata": {
    "id": "CKASz-2vIrJi"
   },
   "source": [
    "The `evaluate` method allows you to evaluate again on the evaluation dataset or on another dataset:"
   ]
  },
  {
   "cell_type": "code",
   "execution_count": 69,
   "metadata": {},
   "outputs": [
    {
     "name": "stderr",
     "output_type": "stream",
     "text": [
      "***** Running Evaluation *****\n",
      "  Num examples = 1177\n",
      "  Batch size = 8\n"
     ]
    },
    {
     "data": {
      "text/html": [
       "\n",
       "    <div>\n",
       "      \n",
       "      <progress value='644' max='148' style='width:300px; height:20px; vertical-align: middle;'></progress>\n",
       "      [148/148 05:54]\n",
       "    </div>\n",
       "    "
      ],
      "text/plain": [
       "<IPython.core.display.HTML object>"
      ]
     },
     "metadata": {},
     "output_type": "display_data"
    },
    {
     "data": {
      "text/plain": [
       "{'eval_loss': 0.1223403811454773,\n",
       " 'eval_precision': 0.7635427394438723,\n",
       " 'eval_recall': 0.7972043010752689,\n",
       " 'eval_f1': 0.7800105207785377,\n",
       " 'eval_accuracy': 0.9653496274399257,\n",
       " 'eval_runtime': 73.4082,\n",
       " 'eval_samples_per_second': 16.034,\n",
       " 'eval_steps_per_second': 2.016,\n",
       " 'epoch': 5.0}"
      ]
     },
     "execution_count": 69,
     "metadata": {},
     "output_type": "execute_result"
    }
   ],
   "source": [
    "trainer.evaluate()"
   ]
  },
  {
   "cell_type": "markdown",
   "metadata": {},
   "source": [
    "To get the precision/recall/f1 computed for each category now that we have finished training, we can apply the same function as before on the result of the `predict` method:"
   ]
  },
  {
   "cell_type": "code",
   "execution_count": 70,
   "metadata": {},
   "outputs": [
    {
     "name": "stderr",
     "output_type": "stream",
     "text": [
      "***** Running Prediction *****\n",
      "  Num examples = 1177\n",
      "  Batch size = 8\n"
     ]
    },
    {
     "data": {
      "text/plain": [
       "{'JURISPRUDENCIA': {'precision': 0.41379310344827586,\n",
       "  'recall': 0.4200913242009132,\n",
       "  'f1': 0.4169184290030212,\n",
       "  'number': 657},\n",
       " 'LEGISLACAO': {'precision': 0.7383015597920277,\n",
       "  'recall': 0.7460595446584939,\n",
       "  'f1': 0.7421602787456446,\n",
       "  'number': 571},\n",
       " 'LOCAL': {'precision': 0.5158371040723982,\n",
       "  'recall': 0.5876288659793815,\n",
       "  'f1': 0.5493975903614458,\n",
       "  'number': 194},\n",
       " 'ORGANIZACAO': {'precision': 0.7229080932784636,\n",
       "  'recall': 0.7865671641791044,\n",
       "  'f1': 0.7533952823445317,\n",
       "  'number': 1340},\n",
       " 'PESSOA': {'precision': 0.9840674789128397,\n",
       "  'recall': 0.9794776119402985,\n",
       "  'f1': 0.9817671809256663,\n",
       "  'number': 1072},\n",
       " 'TEMPO': {'precision': 0.9098265895953758,\n",
       "  'recall': 0.9644607843137255,\n",
       "  'f1': 0.9363474122546104,\n",
       "  'number': 816},\n",
       " 'overall_precision': 0.7635427394438723,\n",
       " 'overall_recall': 0.7972043010752689,\n",
       " 'overall_f1': 0.7800105207785377,\n",
       " 'overall_accuracy': 0.9653496274399257}"
      ]
     },
     "execution_count": 70,
     "metadata": {},
     "output_type": "execute_result"
    }
   ],
   "source": [
    "predictions, labels, _ = trainer.predict(tokenized_datasets[\"validation\"])\n",
    "predictions = np.argmax(predictions, axis=2)\n",
    "\n",
    "# Remove ignored index (special tokens)\n",
    "true_predictions = [\n",
    "    [label_list[p] for (p, l) in zip(prediction, label) if l != -100]\n",
    "    for prediction, label in zip(predictions, labels)\n",
    "]\n",
    "true_labels = [\n",
    "    [label_list[l] for (p, l) in zip(prediction, label) if l != -100]\n",
    "    for prediction, label in zip(predictions, labels)\n",
    "]\n",
    "\n",
    "results = metric.compute(predictions=true_predictions, references=true_labels)\n",
    "results"
   ]
  },
  {
   "cell_type": "code",
   "execution_count": 71,
   "metadata": {},
   "outputs": [
    {
     "data": {
      "text/html": [
       "<div>\n",
       "<style scoped>\n",
       "    .dataframe tbody tr th:only-of-type {\n",
       "        vertical-align: middle;\n",
       "    }\n",
       "\n",
       "    .dataframe tbody tr th {\n",
       "        vertical-align: top;\n",
       "    }\n",
       "\n",
       "    .dataframe thead th {\n",
       "        text-align: right;\n",
       "    }\n",
       "</style>\n",
       "<table border=\"1\" class=\"dataframe\">\n",
       "  <thead>\n",
       "    <tr style=\"text-align: right;\">\n",
       "      <th></th>\n",
       "      <th>JURISPRUDENCIA</th>\n",
       "      <th>LEGISLACAO</th>\n",
       "      <th>LOCAL</th>\n",
       "      <th>ORGANIZACAO</th>\n",
       "      <th>PESSOA</th>\n",
       "      <th>TEMPO</th>\n",
       "      <th>overall_precision</th>\n",
       "      <th>overall_recall</th>\n",
       "      <th>overall_f1</th>\n",
       "      <th>overall_accuracy</th>\n",
       "    </tr>\n",
       "  </thead>\n",
       "  <tbody>\n",
       "    <tr>\n",
       "      <th>precision</th>\n",
       "      <td>0.413793</td>\n",
       "      <td>0.738302</td>\n",
       "      <td>0.515837</td>\n",
       "      <td>0.722908</td>\n",
       "      <td>0.984067</td>\n",
       "      <td>0.909827</td>\n",
       "      <td>0.763543</td>\n",
       "      <td>0.797204</td>\n",
       "      <td>0.780011</td>\n",
       "      <td>0.96535</td>\n",
       "    </tr>\n",
       "    <tr>\n",
       "      <th>recall</th>\n",
       "      <td>0.420091</td>\n",
       "      <td>0.746060</td>\n",
       "      <td>0.587629</td>\n",
       "      <td>0.786567</td>\n",
       "      <td>0.979478</td>\n",
       "      <td>0.964461</td>\n",
       "      <td>0.763543</td>\n",
       "      <td>0.797204</td>\n",
       "      <td>0.780011</td>\n",
       "      <td>0.96535</td>\n",
       "    </tr>\n",
       "    <tr>\n",
       "      <th>f1</th>\n",
       "      <td>0.416918</td>\n",
       "      <td>0.742160</td>\n",
       "      <td>0.549398</td>\n",
       "      <td>0.753395</td>\n",
       "      <td>0.981767</td>\n",
       "      <td>0.936347</td>\n",
       "      <td>0.763543</td>\n",
       "      <td>0.797204</td>\n",
       "      <td>0.780011</td>\n",
       "      <td>0.96535</td>\n",
       "    </tr>\n",
       "    <tr>\n",
       "      <th>number</th>\n",
       "      <td>657.000000</td>\n",
       "      <td>571.000000</td>\n",
       "      <td>194.000000</td>\n",
       "      <td>1340.000000</td>\n",
       "      <td>1072.000000</td>\n",
       "      <td>816.000000</td>\n",
       "      <td>0.763543</td>\n",
       "      <td>0.797204</td>\n",
       "      <td>0.780011</td>\n",
       "      <td>0.96535</td>\n",
       "    </tr>\n",
       "  </tbody>\n",
       "</table>\n",
       "</div>"
      ],
      "text/plain": [
       "           JURISPRUDENCIA  LEGISLACAO       LOCAL  ORGANIZACAO       PESSOA  \\\n",
       "precision        0.413793    0.738302    0.515837     0.722908     0.984067   \n",
       "recall           0.420091    0.746060    0.587629     0.786567     0.979478   \n",
       "f1               0.416918    0.742160    0.549398     0.753395     0.981767   \n",
       "number         657.000000  571.000000  194.000000  1340.000000  1072.000000   \n",
       "\n",
       "                TEMPO  overall_precision  overall_recall  overall_f1  \\\n",
       "precision    0.909827           0.763543        0.797204    0.780011   \n",
       "recall       0.964461           0.763543        0.797204    0.780011   \n",
       "f1           0.936347           0.763543        0.797204    0.780011   \n",
       "number     816.000000           0.763543        0.797204    0.780011   \n",
       "\n",
       "           overall_accuracy  \n",
       "precision           0.96535  \n",
       "recall              0.96535  \n",
       "f1                  0.96535  \n",
       "number              0.96535  "
      ]
     },
     "execution_count": 71,
     "metadata": {},
     "output_type": "execute_result"
    }
   ],
   "source": [
    "pd.DataFrame(results)"
   ]
  },
  {
   "cell_type": "markdown",
   "metadata": {},
   "source": [
    "### Test"
   ]
  },
  {
   "cell_type": "code",
   "execution_count": 72,
   "metadata": {},
   "outputs": [
    {
     "name": "stderr",
     "output_type": "stream",
     "text": [
      "***** Running Evaluation *****\n",
      "  Num examples = 1390\n",
      "  Batch size = 8\n"
     ]
    },
    {
     "data": {
      "text/plain": [
       "{'eval_loss': 0.08144284039735794,\n",
       " 'eval_precision': 0.7795742387496631,\n",
       " 'eval_recall': 0.7448506694129763,\n",
       " 'eval_f1': 0.7618169848584594,\n",
       " 'eval_accuracy': 0.9726351699089799,\n",
       " 'eval_runtime': 76.1418,\n",
       " 'eval_samples_per_second': 18.255,\n",
       " 'eval_steps_per_second': 2.285,\n",
       " 'epoch': 5.0}"
      ]
     },
     "execution_count": 72,
     "metadata": {},
     "output_type": "execute_result"
    }
   ],
   "source": [
    "trainer.evaluate(tokenized_datasets[\"test\"])"
   ]
  },
  {
   "cell_type": "code",
   "execution_count": 20,
   "metadata": {},
   "outputs": [
    {
     "ename": "NameError",
     "evalue": "name 'trainer' is not defined",
     "output_type": "error",
     "traceback": [
      "\u001b[0;31m---------------------------------------------------------------------------\u001b[0m",
      "\u001b[0;31mNameError\u001b[0m                                 Traceback (most recent call last)",
      "\u001b[0;32m<ipython-input-20-fca64b724a5b>\u001b[0m in \u001b[0;36m<module>\u001b[0;34m\u001b[0m\n\u001b[0;32m----> 1\u001b[0;31m \u001b[0mpredictions\u001b[0m\u001b[0;34m,\u001b[0m \u001b[0mlabels\u001b[0m\u001b[0;34m,\u001b[0m \u001b[0m_\u001b[0m \u001b[0;34m=\u001b[0m \u001b[0mtrainer\u001b[0m\u001b[0;34m.\u001b[0m\u001b[0mpredict\u001b[0m\u001b[0;34m(\u001b[0m\u001b[0mtokenized_datasets\u001b[0m\u001b[0;34m[\u001b[0m\u001b[0;34m\"test\"\u001b[0m\u001b[0;34m]\u001b[0m\u001b[0;34m)\u001b[0m\u001b[0;34m\u001b[0m\u001b[0;34m\u001b[0m\u001b[0m\n\u001b[0m\u001b[1;32m      2\u001b[0m \u001b[0mpredictions\u001b[0m \u001b[0;34m=\u001b[0m \u001b[0mnp\u001b[0m\u001b[0;34m.\u001b[0m\u001b[0margmax\u001b[0m\u001b[0;34m(\u001b[0m\u001b[0mpredictions\u001b[0m\u001b[0;34m,\u001b[0m \u001b[0maxis\u001b[0m\u001b[0;34m=\u001b[0m\u001b[0;36m2\u001b[0m\u001b[0;34m)\u001b[0m\u001b[0;34m\u001b[0m\u001b[0;34m\u001b[0m\u001b[0m\n\u001b[1;32m      3\u001b[0m \u001b[0;34m\u001b[0m\u001b[0m\n\u001b[1;32m      4\u001b[0m \u001b[0;31m# Remove ignored index (special tokens)\u001b[0m\u001b[0;34m\u001b[0m\u001b[0;34m\u001b[0m\u001b[0;34m\u001b[0m\u001b[0m\n\u001b[1;32m      5\u001b[0m true_predictions = [\n",
      "\u001b[0;31mNameError\u001b[0m: name 'trainer' is not defined"
     ]
    }
   ],
   "source": [
    "predictions, labels, _ = trainer.predict(tokenized_datasets[\"test\"])\n",
    "predictions = np.argmax(predictions, axis=2)\n",
    "\n",
    "# Remove ignored index (special tokens)\n",
    "true_predictions = [\n",
    "    [label_list[p] for (p, l) in zip(prediction, label) if l != -100]\n",
    "    for prediction, label in zip(predictions, labels)\n",
    "]\n",
    "true_labels = [\n",
    "    [label_list[l] for (p, l) in zip(prediction, label) if l != -100]\n",
    "    for prediction, label in zip(predictions, labels)\n",
    "]\n",
    "\n",
    "results = metric.compute(predictions=true_predictions, references=true_labels)\n",
    "results"
   ]
  },
  {
   "cell_type": "code",
   "execution_count": 74,
   "metadata": {},
   "outputs": [
    {
     "data": {
      "text/html": [
       "<div>\n",
       "<style scoped>\n",
       "    .dataframe tbody tr th:only-of-type {\n",
       "        vertical-align: middle;\n",
       "    }\n",
       "\n",
       "    .dataframe tbody tr th {\n",
       "        vertical-align: top;\n",
       "    }\n",
       "\n",
       "    .dataframe thead th {\n",
       "        text-align: right;\n",
       "    }\n",
       "</style>\n",
       "<table border=\"1\" class=\"dataframe\">\n",
       "  <thead>\n",
       "    <tr style=\"text-align: right;\">\n",
       "      <th></th>\n",
       "      <th>JURISPRUDENCIA</th>\n",
       "      <th>LEGISLACAO</th>\n",
       "      <th>LOCAL</th>\n",
       "      <th>ORGANIZACAO</th>\n",
       "      <th>PESSOA</th>\n",
       "      <th>TEMPO</th>\n",
       "      <th>overall_precision</th>\n",
       "      <th>overall_recall</th>\n",
       "      <th>overall_f1</th>\n",
       "      <th>overall_accuracy</th>\n",
       "    </tr>\n",
       "  </thead>\n",
       "  <tbody>\n",
       "    <tr>\n",
       "      <th>precision</th>\n",
       "      <td>0.723951</td>\n",
       "      <td>0.818868</td>\n",
       "      <td>0.444444</td>\n",
       "      <td>0.669039</td>\n",
       "      <td>0.904110</td>\n",
       "      <td>0.931087</td>\n",
       "      <td>0.779574</td>\n",
       "      <td>0.744851</td>\n",
       "      <td>0.761817</td>\n",
       "      <td>0.972635</td>\n",
       "    </tr>\n",
       "    <tr>\n",
       "      <th>recall</th>\n",
       "      <td>0.497212</td>\n",
       "      <td>0.777778</td>\n",
       "      <td>0.529412</td>\n",
       "      <td>0.787435</td>\n",
       "      <td>0.970588</td>\n",
       "      <td>0.890190</td>\n",
       "      <td>0.779574</td>\n",
       "      <td>0.744851</td>\n",
       "      <td>0.761817</td>\n",
       "      <td>0.972635</td>\n",
       "    </tr>\n",
       "    <tr>\n",
       "      <th>f1</th>\n",
       "      <td>0.589532</td>\n",
       "      <td>0.797794</td>\n",
       "      <td>0.483221</td>\n",
       "      <td>0.723425</td>\n",
       "      <td>0.936170</td>\n",
       "      <td>0.910180</td>\n",
       "      <td>0.779574</td>\n",
       "      <td>0.744851</td>\n",
       "      <td>0.761817</td>\n",
       "      <td>0.972635</td>\n",
       "    </tr>\n",
       "    <tr>\n",
       "      <th>number</th>\n",
       "      <td>1076.000000</td>\n",
       "      <td>558.000000</td>\n",
       "      <td>68.000000</td>\n",
       "      <td>955.000000</td>\n",
       "      <td>544.000000</td>\n",
       "      <td>683.000000</td>\n",
       "      <td>0.779574</td>\n",
       "      <td>0.744851</td>\n",
       "      <td>0.761817</td>\n",
       "      <td>0.972635</td>\n",
       "    </tr>\n",
       "  </tbody>\n",
       "</table>\n",
       "</div>"
      ],
      "text/plain": [
       "           JURISPRUDENCIA  LEGISLACAO      LOCAL  ORGANIZACAO      PESSOA  \\\n",
       "precision        0.723951    0.818868   0.444444     0.669039    0.904110   \n",
       "recall           0.497212    0.777778   0.529412     0.787435    0.970588   \n",
       "f1               0.589532    0.797794   0.483221     0.723425    0.936170   \n",
       "number        1076.000000  558.000000  68.000000   955.000000  544.000000   \n",
       "\n",
       "                TEMPO  overall_precision  overall_recall  overall_f1  \\\n",
       "precision    0.931087           0.779574        0.744851    0.761817   \n",
       "recall       0.890190           0.779574        0.744851    0.761817   \n",
       "f1           0.910180           0.779574        0.744851    0.761817   \n",
       "number     683.000000           0.779574        0.744851    0.761817   \n",
       "\n",
       "           overall_accuracy  \n",
       "precision          0.972635  \n",
       "recall             0.972635  \n",
       "f1                 0.972635  \n",
       "number             0.972635  "
      ]
     },
     "execution_count": 74,
     "metadata": {},
     "output_type": "execute_result"
    }
   ],
   "source": [
    "pd.DataFrame(results)"
   ]
  },
  {
   "cell_type": "markdown",
   "metadata": {},
   "source": [
    "## 12. TensorBoard"
   ]
  },
  {
   "cell_type": "code",
   "execution_count": 76,
   "metadata": {},
   "outputs": [],
   "source": [
    "#!pip install tensorboard"
   ]
  },
  {
   "cell_type": "code",
   "execution_count": 77,
   "metadata": {},
   "outputs": [
    {
     "name": "stdout",
     "output_type": "stream",
     "text": [
      "env: PATH=/mnt/home/xxxx/anaconda3/envs/yyyy/bin:/home/info/anaconda3/bin:/home/info/anaconda3/condabin:/home/info/.local/bin:/usr/local/sbin:/usr/local/bin:/usr/sbin:/usr/bin:/sbin:/bin:/usr/games:/usr/local/games:/snap/bin\n"
     ]
    }
   ],
   "source": [
    "import os\n",
    "PATH = os.getenv('PATH')\n",
    "# replace xxxx by your username on your server (ex: paulo)\n",
    "# replace yyyy by the name of the virtual environment of this notebook (ex: adapter-transformers)\n",
    "%env PATH=/mnt/home/xxxx/anaconda3/envs/yyyy/bin:$PATH"
   ]
  },
  {
   "cell_type": "code",
   "execution_count": 78,
   "metadata": {},
   "outputs": [
    {
     "data": {
      "text/html": [
       "\n",
       "      <iframe id=\"tensorboard-frame-1c80317fa3b1799d\" width=\"100%\" height=\"800\" frameborder=\"0\">\n",
       "      </iframe>\n",
       "      <script>\n",
       "        (function() {\n",
       "          const frame = document.getElementById(\"tensorboard-frame-1c80317fa3b1799d\");\n",
       "          const url = new URL(\"/\", window.location);\n",
       "          const port = 6006;\n",
       "          if (port) {\n",
       "            url.port = port;\n",
       "          }\n",
       "          frame.src = url;\n",
       "        })();\n",
       "      </script>\n",
       "    "
      ],
      "text/plain": [
       "<IPython.core.display.HTML object>"
      ]
     },
     "metadata": {},
     "output_type": "display_data"
    }
   ],
   "source": [
    "%load_ext tensorboard\n",
    "# %reload_ext tensorboard\n",
    "%tensorboard --logdir {logging_dir} --bind_all"
   ]
  },
  {
   "cell_type": "markdown",
   "metadata": {},
   "source": [
    "## 13. Application NER"
   ]
  },
  {
   "cell_type": "code",
   "execution_count": 30,
   "metadata": {
    "hidden": true,
    "id": "Ckl2Fzn3is0F"
   },
   "outputs": [],
   "source": [
    "### import transformers\n",
    "import pathlib\n",
    "from pathlib import Path\n",
    "\n",
    "import numpy as np\n",
    "\n",
    "# !pip install colorama\n",
    "# # or\n",
    "# !conda install -c anaconda colorama"
   ]
  },
  {
   "cell_type": "code",
   "execution_count": 31,
   "metadata": {},
   "outputs": [],
   "source": [
    "# model_checkpoint = \"neuralmind/bert-large-portuguese-cased\"\n",
    "model_checkpoint = \"neuralmind/bert-base-portuguese-cased\""
   ]
  },
  {
   "cell_type": "code",
   "execution_count": 32,
   "metadata": {},
   "outputs": [],
   "source": [
    "if dataset_name == \"lenerbr\":\n",
    "    label_list = ['O',\n",
    " 'B-ORGANIZACAO',\n",
    " 'I-ORGANIZACAO',\n",
    " 'B-PESSOA',\n",
    " 'I-PESSOA',\n",
    " 'B-TEMPO',\n",
    " 'I-TEMPO',\n",
    " 'B-LOCAL',\n",
    " 'I-LOCAL',\n",
    " 'B-LEGISLACAO',\n",
    " 'I-LEGISLACAO',\n",
    " 'B-JURISPRUDENCIA',\n",
    " 'I-JURISPRUDENCIA'\n",
    "                 ]"
   ]
  },
  {
   "cell_type": "code",
   "execution_count": 33,
   "metadata": {},
   "outputs": [],
   "source": [
    "if dataset_name == \"lenerbr\":\n",
    "    \n",
    "    # sentence from the dataset\n",
    "    texts_dataset = [\n",
    "        'Acrescento que o Juiz Pedro DA SILVA do tribunal STF em Brasília (Brasil) reconheceu a limitação do pedido único e, com base no artigo 487, inciso II, do Código de Processo Civil, encerrou o processo no dia 3 de janeiro de 2014, com resolução do mérito, condenando o autor às custas judiciais e advocatícias, que são fixadas em 10% (dez por cento) do valor da causa.',\n",
    "        'Insurge-se no apelo extremo contra acórdão proferido pelo Superior Tribunal Militar no Agravo Regimental n° 222-73.2010.7.05.0005/PR, assim do: DESERÇÃO.'\n",
    "    ]\n",
    "    \n",
    "    texts_labels = [\n",
    "        \"\",\n",
    "        \"'O', 'O', 'O', 'O', 'O', 'O', 'O', 'O', 'B-ORGANIZACAO', 'I-ORGANIZACAO', 'I-ORGANIZACAO', 'O', 'B-JURISPRUDENCIA', 'I-JURISPRUDENCIA', 'I-JURISPRUDENCIA', 'I-JURISPRUDENCIA', 'I-JURISPRUDENCIA', 'O', 'O', 'O', 'O', 'O', 'O'\"\n",
    "    ]"
   ]
  },
  {
   "cell_type": "code",
   "execution_count": 34,
   "metadata": {},
   "outputs": [
    {
     "data": {
      "text/plain": [
       "'Acrescento que o Juiz Pedro DA SILVA do tribunal STF em Brasília (Brasil) reconheceu a limitação do pedido único e, com base no artigo 487, inciso II, do Código de Processo Civil, encerrou o processo no dia 3 de janeiro de 2014, com resolução do mérito, condenando o autor às custas judiciais e advocatícias, que são fixadas em 10% (dez por cento) do valor da causa.'"
      ]
     },
     "execution_count": 34,
     "metadata": {},
     "output_type": "execute_result"
    }
   ],
   "source": [
    "dataset_name\n",
    "texts_dataset[0]"
   ]
  },
  {
   "cell_type": "markdown",
   "metadata": {},
   "source": [
    "### Model original (without adapter)"
   ]
  },
  {
   "cell_type": "markdown",
   "metadata": {},
   "source": [
    "We use the model `neuralmind/bert-large-portuguese-cased` fully finetuned on the NER task."
   ]
  },
  {
   "cell_type": "code",
   "execution_count": 35,
   "metadata": {},
   "outputs": [
    {
     "name": "stderr",
     "output_type": "stream",
     "text": [
      "Some weights of the model checkpoint at neuralmind/bert-base-portuguese-cased were not used when initializing BertForTokenClassification: ['cls.predictions.bias', 'cls.predictions.transform.LayerNorm.bias', 'cls.seq_relationship.bias', 'cls.predictions.transform.dense.bias', 'cls.predictions.transform.LayerNorm.weight', 'cls.predictions.transform.dense.weight', 'cls.seq_relationship.weight', 'cls.predictions.decoder.weight']\n",
      "- This IS expected if you are initializing BertForTokenClassification from the checkpoint of a model trained on another task or with another architecture (e.g. initializing a BertForSequenceClassification model from a BertForPreTraining model).\n",
      "- This IS NOT expected if you are initializing BertForTokenClassification from the checkpoint of a model that you expect to be exactly identical (initializing a BertForSequenceClassification model from a BertForSequenceClassification model).\n",
      "Some weights of BertForTokenClassification were not initialized from the model checkpoint at neuralmind/bert-base-portuguese-cased and are newly initialized: ['classifier.weight', 'classifier.bias']\n",
      "You should probably TRAIN this model on a down-stream task to be able to use it for predictions and inference.\n"
     ]
    }
   ],
   "source": [
    "from transformers import AutoModelForTokenClassification, AutoTokenizer\n",
    "\n",
    "model_ner = AutoModelForTokenClassification.from_pretrained(model_checkpoint, num_labels=len(label_list))\n"
   ]
  },
  {
   "cell_type": "code",
   "execution_count": 36,
   "metadata": {},
   "outputs": [],
   "source": [
    "tokenizer_ner = AutoTokenizer.from_pretrained(model_checkpoint, use_fast=True)"
   ]
  },
  {
   "cell_type": "code",
   "execution_count": 37,
   "metadata": {},
   "outputs": [
    {
     "name": "stderr",
     "output_type": "stream",
     "text": [
      "Asking to truncate to max_length but no maximum length is provided and the model has no predefined maximum length. Default to no truncation.\n"
     ]
    },
    {
     "data": {
      "text/plain": [
       "[[{'entity': 'LABEL_4',\n",
       "   'score': 0.122082785,\n",
       "   'index': 1,\n",
       "   'word': 'Acre',\n",
       "   'start': 0,\n",
       "   'end': 4},\n",
       "  {'entity': 'LABEL_0',\n",
       "   'score': 0.1037879,\n",
       "   'index': 2,\n",
       "   'word': '##s',\n",
       "   'start': 4,\n",
       "   'end': 5},\n",
       "  {'entity': 'LABEL_4',\n",
       "   'score': 0.13126403,\n",
       "   'index': 3,\n",
       "   'word': '##cent',\n",
       "   'start': 5,\n",
       "   'end': 9},\n",
       "  {'entity': 'LABEL_9',\n",
       "   'score': 0.12944783,\n",
       "   'index': 4,\n",
       "   'word': '##o',\n",
       "   'start': 9,\n",
       "   'end': 10},\n",
       "  {'entity': 'LABEL_11',\n",
       "   'score': 0.106900826,\n",
       "   'index': 5,\n",
       "   'word': 'que',\n",
       "   'start': 11,\n",
       "   'end': 14},\n",
       "  {'entity': 'LABEL_0',\n",
       "   'score': 0.11818218,\n",
       "   'index': 6,\n",
       "   'word': 'o',\n",
       "   'start': 15,\n",
       "   'end': 16},\n",
       "  {'entity': 'LABEL_0',\n",
       "   'score': 0.12137999,\n",
       "   'index': 7,\n",
       "   'word': 'Juiz',\n",
       "   'start': 17,\n",
       "   'end': 21},\n",
       "  {'entity': 'LABEL_11',\n",
       "   'score': 0.11192173,\n",
       "   'index': 8,\n",
       "   'word': 'Pedro',\n",
       "   'start': 22,\n",
       "   'end': 27},\n",
       "  {'entity': 'LABEL_4',\n",
       "   'score': 0.11991425,\n",
       "   'index': 9,\n",
       "   'word': 'D',\n",
       "   'start': 28,\n",
       "   'end': 29},\n",
       "  {'entity': 'LABEL_4',\n",
       "   'score': 0.13364351,\n",
       "   'index': 10,\n",
       "   'word': '##A',\n",
       "   'start': 29,\n",
       "   'end': 30},\n",
       "  {'entity': 'LABEL_3',\n",
       "   'score': 0.1159999,\n",
       "   'index': 11,\n",
       "   'word': 'S',\n",
       "   'start': 31,\n",
       "   'end': 32},\n",
       "  {'entity': 'LABEL_0',\n",
       "   'score': 0.11424331,\n",
       "   'index': 12,\n",
       "   'word': '##IL',\n",
       "   'start': 32,\n",
       "   'end': 34},\n",
       "  {'entity': 'LABEL_12',\n",
       "   'score': 0.10958762,\n",
       "   'index': 13,\n",
       "   'word': '##VA',\n",
       "   'start': 34,\n",
       "   'end': 36},\n",
       "  {'entity': 'LABEL_0',\n",
       "   'score': 0.12512283,\n",
       "   'index': 14,\n",
       "   'word': 'do',\n",
       "   'start': 37,\n",
       "   'end': 39},\n",
       "  {'entity': 'LABEL_0',\n",
       "   'score': 0.10901735,\n",
       "   'index': 15,\n",
       "   'word': 'tribunal',\n",
       "   'start': 40,\n",
       "   'end': 48},\n",
       "  {'entity': 'LABEL_0',\n",
       "   'score': 0.1304361,\n",
       "   'index': 16,\n",
       "   'word': 'ST',\n",
       "   'start': 49,\n",
       "   'end': 51},\n",
       "  {'entity': 'LABEL_8',\n",
       "   'score': 0.10506277,\n",
       "   'index': 17,\n",
       "   'word': '##F',\n",
       "   'start': 51,\n",
       "   'end': 52},\n",
       "  {'entity': 'LABEL_8',\n",
       "   'score': 0.1269506,\n",
       "   'index': 18,\n",
       "   'word': 'em',\n",
       "   'start': 53,\n",
       "   'end': 55},\n",
       "  {'entity': 'LABEL_6',\n",
       "   'score': 0.115263924,\n",
       "   'index': 19,\n",
       "   'word': 'Brasília',\n",
       "   'start': 56,\n",
       "   'end': 64},\n",
       "  {'entity': 'LABEL_8',\n",
       "   'score': 0.11627375,\n",
       "   'index': 20,\n",
       "   'word': '(',\n",
       "   'start': 65,\n",
       "   'end': 66},\n",
       "  {'entity': 'LABEL_11',\n",
       "   'score': 0.12548505,\n",
       "   'index': 21,\n",
       "   'word': 'Brasil',\n",
       "   'start': 66,\n",
       "   'end': 72},\n",
       "  {'entity': 'LABEL_5',\n",
       "   'score': 0.111994624,\n",
       "   'index': 22,\n",
       "   'word': ')',\n",
       "   'start': 72,\n",
       "   'end': 73},\n",
       "  {'entity': 'LABEL_2',\n",
       "   'score': 0.10502749,\n",
       "   'index': 23,\n",
       "   'word': 'reconheceu',\n",
       "   'start': 74,\n",
       "   'end': 84},\n",
       "  {'entity': 'LABEL_11',\n",
       "   'score': 0.107337065,\n",
       "   'index': 24,\n",
       "   'word': 'a',\n",
       "   'start': 85,\n",
       "   'end': 86},\n",
       "  {'entity': 'LABEL_4',\n",
       "   'score': 0.10914165,\n",
       "   'index': 25,\n",
       "   'word': 'limitação',\n",
       "   'start': 87,\n",
       "   'end': 96},\n",
       "  {'entity': 'LABEL_11',\n",
       "   'score': 0.124370836,\n",
       "   'index': 26,\n",
       "   'word': 'do',\n",
       "   'start': 97,\n",
       "   'end': 99},\n",
       "  {'entity': 'LABEL_11',\n",
       "   'score': 0.1300919,\n",
       "   'index': 27,\n",
       "   'word': 'pedido',\n",
       "   'start': 100,\n",
       "   'end': 106},\n",
       "  {'entity': 'LABEL_11',\n",
       "   'score': 0.10797881,\n",
       "   'index': 28,\n",
       "   'word': 'único',\n",
       "   'start': 107,\n",
       "   'end': 112},\n",
       "  {'entity': 'LABEL_1',\n",
       "   'score': 0.10633935,\n",
       "   'index': 29,\n",
       "   'word': 'e',\n",
       "   'start': 113,\n",
       "   'end': 114},\n",
       "  {'entity': 'LABEL_8',\n",
       "   'score': 0.13273808,\n",
       "   'index': 30,\n",
       "   'word': ',',\n",
       "   'start': 114,\n",
       "   'end': 115},\n",
       "  {'entity': 'LABEL_8',\n",
       "   'score': 0.1302492,\n",
       "   'index': 31,\n",
       "   'word': 'com',\n",
       "   'start': 116,\n",
       "   'end': 119},\n",
       "  {'entity': 'LABEL_2',\n",
       "   'score': 0.14440393,\n",
       "   'index': 32,\n",
       "   'word': 'base',\n",
       "   'start': 120,\n",
       "   'end': 124},\n",
       "  {'entity': 'LABEL_10',\n",
       "   'score': 0.11398419,\n",
       "   'index': 33,\n",
       "   'word': 'no',\n",
       "   'start': 125,\n",
       "   'end': 127},\n",
       "  {'entity': 'LABEL_11',\n",
       "   'score': 0.12263777,\n",
       "   'index': 34,\n",
       "   'word': 'artigo',\n",
       "   'start': 128,\n",
       "   'end': 134},\n",
       "  {'entity': 'LABEL_11',\n",
       "   'score': 0.16361493,\n",
       "   'index': 35,\n",
       "   'word': '48',\n",
       "   'start': 135,\n",
       "   'end': 137},\n",
       "  {'entity': 'LABEL_8',\n",
       "   'score': 0.1623615,\n",
       "   'index': 36,\n",
       "   'word': '##7',\n",
       "   'start': 137,\n",
       "   'end': 138},\n",
       "  {'entity': 'LABEL_11',\n",
       "   'score': 0.12481847,\n",
       "   'index': 37,\n",
       "   'word': ',',\n",
       "   'start': 138,\n",
       "   'end': 139},\n",
       "  {'entity': 'LABEL_10',\n",
       "   'score': 0.11871894,\n",
       "   'index': 38,\n",
       "   'word': 'inc',\n",
       "   'start': 140,\n",
       "   'end': 143},\n",
       "  {'entity': 'LABEL_8',\n",
       "   'score': 0.10394731,\n",
       "   'index': 39,\n",
       "   'word': '##iso',\n",
       "   'start': 143,\n",
       "   'end': 146},\n",
       "  {'entity': 'LABEL_11',\n",
       "   'score': 0.16069072,\n",
       "   'index': 40,\n",
       "   'word': 'II',\n",
       "   'start': 147,\n",
       "   'end': 149},\n",
       "  {'entity': 'LABEL_11',\n",
       "   'score': 0.10382926,\n",
       "   'index': 41,\n",
       "   'word': ',',\n",
       "   'start': 149,\n",
       "   'end': 150},\n",
       "  {'entity': 'LABEL_0',\n",
       "   'score': 0.108039625,\n",
       "   'index': 42,\n",
       "   'word': 'do',\n",
       "   'start': 151,\n",
       "   'end': 153},\n",
       "  {'entity': 'LABEL_10',\n",
       "   'score': 0.12133238,\n",
       "   'index': 43,\n",
       "   'word': 'Código',\n",
       "   'start': 154,\n",
       "   'end': 160},\n",
       "  {'entity': 'LABEL_5',\n",
       "   'score': 0.15929885,\n",
       "   'index': 44,\n",
       "   'word': 'de',\n",
       "   'start': 161,\n",
       "   'end': 163},\n",
       "  {'entity': 'LABEL_5',\n",
       "   'score': 0.108657934,\n",
       "   'index': 45,\n",
       "   'word': 'Processo',\n",
       "   'start': 164,\n",
       "   'end': 172},\n",
       "  {'entity': 'LABEL_5',\n",
       "   'score': 0.14527936,\n",
       "   'index': 46,\n",
       "   'word': 'Civil',\n",
       "   'start': 173,\n",
       "   'end': 178},\n",
       "  {'entity': 'LABEL_8',\n",
       "   'score': 0.1344458,\n",
       "   'index': 47,\n",
       "   'word': ',',\n",
       "   'start': 178,\n",
       "   'end': 179},\n",
       "  {'entity': 'LABEL_11',\n",
       "   'score': 0.117823526,\n",
       "   'index': 48,\n",
       "   'word': 'encerrou',\n",
       "   'start': 180,\n",
       "   'end': 188},\n",
       "  {'entity': 'LABEL_11',\n",
       "   'score': 0.14018069,\n",
       "   'index': 49,\n",
       "   'word': 'o',\n",
       "   'start': 189,\n",
       "   'end': 190},\n",
       "  {'entity': 'LABEL_11',\n",
       "   'score': 0.09684728,\n",
       "   'index': 50,\n",
       "   'word': 'processo',\n",
       "   'start': 191,\n",
       "   'end': 199},\n",
       "  {'entity': 'LABEL_5',\n",
       "   'score': 0.104084834,\n",
       "   'index': 51,\n",
       "   'word': 'no',\n",
       "   'start': 200,\n",
       "   'end': 202},\n",
       "  {'entity': 'LABEL_11',\n",
       "   'score': 0.11363747,\n",
       "   'index': 52,\n",
       "   'word': 'dia',\n",
       "   'start': 203,\n",
       "   'end': 206},\n",
       "  {'entity': 'LABEL_8',\n",
       "   'score': 0.099323675,\n",
       "   'index': 53,\n",
       "   'word': '3',\n",
       "   'start': 207,\n",
       "   'end': 208},\n",
       "  {'entity': 'LABEL_5',\n",
       "   'score': 0.13304399,\n",
       "   'index': 54,\n",
       "   'word': 'de',\n",
       "   'start': 209,\n",
       "   'end': 211},\n",
       "  {'entity': 'LABEL_12',\n",
       "   'score': 0.117610715,\n",
       "   'index': 55,\n",
       "   'word': 'janeiro',\n",
       "   'start': 212,\n",
       "   'end': 219},\n",
       "  {'entity': 'LABEL_0',\n",
       "   'score': 0.117035404,\n",
       "   'index': 56,\n",
       "   'word': 'de',\n",
       "   'start': 220,\n",
       "   'end': 222},\n",
       "  {'entity': 'LABEL_11',\n",
       "   'score': 0.10436796,\n",
       "   'index': 57,\n",
       "   'word': '2014',\n",
       "   'start': 223,\n",
       "   'end': 227},\n",
       "  {'entity': 'LABEL_5',\n",
       "   'score': 0.102329455,\n",
       "   'index': 58,\n",
       "   'word': ',',\n",
       "   'start': 227,\n",
       "   'end': 228},\n",
       "  {'entity': 'LABEL_1',\n",
       "   'score': 0.13500492,\n",
       "   'index': 59,\n",
       "   'word': 'com',\n",
       "   'start': 229,\n",
       "   'end': 232},\n",
       "  {'entity': 'LABEL_11',\n",
       "   'score': 0.10471845,\n",
       "   'index': 60,\n",
       "   'word': 'resolução',\n",
       "   'start': 233,\n",
       "   'end': 242},\n",
       "  {'entity': 'LABEL_11',\n",
       "   'score': 0.13734147,\n",
       "   'index': 61,\n",
       "   'word': 'do',\n",
       "   'start': 243,\n",
       "   'end': 245},\n",
       "  {'entity': 'LABEL_11',\n",
       "   'score': 0.1372333,\n",
       "   'index': 62,\n",
       "   'word': 'mérito',\n",
       "   'start': 246,\n",
       "   'end': 252},\n",
       "  {'entity': 'LABEL_8',\n",
       "   'score': 0.10827093,\n",
       "   'index': 63,\n",
       "   'word': ',',\n",
       "   'start': 252,\n",
       "   'end': 253},\n",
       "  {'entity': 'LABEL_7',\n",
       "   'score': 0.10758543,\n",
       "   'index': 64,\n",
       "   'word': 'conden',\n",
       "   'start': 254,\n",
       "   'end': 260},\n",
       "  {'entity': 'LABEL_8',\n",
       "   'score': 0.09874592,\n",
       "   'index': 65,\n",
       "   'word': '##ando',\n",
       "   'start': 260,\n",
       "   'end': 264},\n",
       "  {'entity': 'LABEL_5',\n",
       "   'score': 0.11187489,\n",
       "   'index': 66,\n",
       "   'word': 'o',\n",
       "   'start': 265,\n",
       "   'end': 266},\n",
       "  {'entity': 'LABEL_5',\n",
       "   'score': 0.10383819,\n",
       "   'index': 67,\n",
       "   'word': 'autor',\n",
       "   'start': 267,\n",
       "   'end': 272},\n",
       "  {'entity': 'LABEL_4',\n",
       "   'score': 0.115427226,\n",
       "   'index': 68,\n",
       "   'word': 'às',\n",
       "   'start': 273,\n",
       "   'end': 275},\n",
       "  {'entity': 'LABEL_4',\n",
       "   'score': 0.11817968,\n",
       "   'index': 69,\n",
       "   'word': 'cus',\n",
       "   'start': 276,\n",
       "   'end': 279},\n",
       "  {'entity': 'LABEL_4',\n",
       "   'score': 0.11002198,\n",
       "   'index': 70,\n",
       "   'word': '##tas',\n",
       "   'start': 279,\n",
       "   'end': 282},\n",
       "  {'entity': 'LABEL_11',\n",
       "   'score': 0.11475146,\n",
       "   'index': 71,\n",
       "   'word': 'judiciais',\n",
       "   'start': 283,\n",
       "   'end': 292},\n",
       "  {'entity': 'LABEL_11',\n",
       "   'score': 0.11647186,\n",
       "   'index': 72,\n",
       "   'word': 'e',\n",
       "   'start': 293,\n",
       "   'end': 294},\n",
       "  {'entity': 'LABEL_4',\n",
       "   'score': 0.1425664,\n",
       "   'index': 73,\n",
       "   'word': 'advo',\n",
       "   'start': 295,\n",
       "   'end': 299},\n",
       "  {'entity': 'LABEL_7',\n",
       "   'score': 0.106552675,\n",
       "   'index': 74,\n",
       "   'word': '##cat',\n",
       "   'start': 299,\n",
       "   'end': 302},\n",
       "  {'entity': 'LABEL_0',\n",
       "   'score': 0.16291705,\n",
       "   'index': 75,\n",
       "   'word': '##ícias',\n",
       "   'start': 302,\n",
       "   'end': 307},\n",
       "  {'entity': 'LABEL_8',\n",
       "   'score': 0.11368864,\n",
       "   'index': 76,\n",
       "   'word': ',',\n",
       "   'start': 307,\n",
       "   'end': 308},\n",
       "  {'entity': 'LABEL_11',\n",
       "   'score': 0.11049847,\n",
       "   'index': 77,\n",
       "   'word': 'que',\n",
       "   'start': 309,\n",
       "   'end': 312},\n",
       "  {'entity': 'LABEL_8',\n",
       "   'score': 0.1401729,\n",
       "   'index': 78,\n",
       "   'word': 'são',\n",
       "   'start': 313,\n",
       "   'end': 316},\n",
       "  {'entity': 'LABEL_4',\n",
       "   'score': 0.12769766,\n",
       "   'index': 79,\n",
       "   'word': 'fixa',\n",
       "   'start': 317,\n",
       "   'end': 321},\n",
       "  {'entity': 'LABEL_7',\n",
       "   'score': 0.10068011,\n",
       "   'index': 80,\n",
       "   'word': '##das',\n",
       "   'start': 321,\n",
       "   'end': 324},\n",
       "  {'entity': 'LABEL_11',\n",
       "   'score': 0.1357254,\n",
       "   'index': 81,\n",
       "   'word': 'em',\n",
       "   'start': 325,\n",
       "   'end': 327},\n",
       "  {'entity': 'LABEL_2',\n",
       "   'score': 0.11814861,\n",
       "   'index': 82,\n",
       "   'word': '10',\n",
       "   'start': 328,\n",
       "   'end': 330},\n",
       "  {'entity': 'LABEL_11',\n",
       "   'score': 0.13351564,\n",
       "   'index': 83,\n",
       "   'word': '%',\n",
       "   'start': 330,\n",
       "   'end': 331},\n",
       "  {'entity': 'LABEL_0',\n",
       "   'score': 0.109553814,\n",
       "   'index': 84,\n",
       "   'word': '(',\n",
       "   'start': 332,\n",
       "   'end': 333},\n",
       "  {'entity': 'LABEL_2',\n",
       "   'score': 0.12230644,\n",
       "   'index': 85,\n",
       "   'word': 'dez',\n",
       "   'start': 333,\n",
       "   'end': 336},\n",
       "  {'entity': 'LABEL_2',\n",
       "   'score': 0.12273685,\n",
       "   'index': 86,\n",
       "   'word': 'por',\n",
       "   'start': 337,\n",
       "   'end': 340},\n",
       "  {'entity': 'LABEL_11',\n",
       "   'score': 0.13631295,\n",
       "   'index': 87,\n",
       "   'word': 'cento',\n",
       "   'start': 341,\n",
       "   'end': 346},\n",
       "  {'entity': 'LABEL_0',\n",
       "   'score': 0.11457797,\n",
       "   'index': 88,\n",
       "   'word': ')',\n",
       "   'start': 346,\n",
       "   'end': 347},\n",
       "  {'entity': 'LABEL_11',\n",
       "   'score': 0.11065951,\n",
       "   'index': 89,\n",
       "   'word': 'do',\n",
       "   'start': 348,\n",
       "   'end': 350},\n",
       "  {'entity': 'LABEL_11',\n",
       "   'score': 0.13121167,\n",
       "   'index': 90,\n",
       "   'word': 'valor',\n",
       "   'start': 351,\n",
       "   'end': 356},\n",
       "  {'entity': 'LABEL_11',\n",
       "   'score': 0.13478987,\n",
       "   'index': 91,\n",
       "   'word': 'da',\n",
       "   'start': 357,\n",
       "   'end': 359},\n",
       "  {'entity': 'LABEL_4',\n",
       "   'score': 0.1302119,\n",
       "   'index': 92,\n",
       "   'word': 'causa',\n",
       "   'start': 360,\n",
       "   'end': 365},\n",
       "  {'entity': 'LABEL_11',\n",
       "   'score': 0.0954823,\n",
       "   'index': 93,\n",
       "   'word': '.',\n",
       "   'start': 365,\n",
       "   'end': 366}],\n",
       " [{'entity': 'LABEL_4',\n",
       "   'score': 0.13547903,\n",
       "   'index': 1,\n",
       "   'word': 'Ins',\n",
       "   'start': 0,\n",
       "   'end': 3},\n",
       "  {'entity': 'LABEL_4',\n",
       "   'score': 0.15765788,\n",
       "   'index': 2,\n",
       "   'word': '##urg',\n",
       "   'start': 3,\n",
       "   'end': 6},\n",
       "  {'entity': 'LABEL_5',\n",
       "   'score': 0.120515004,\n",
       "   'index': 3,\n",
       "   'word': '##e',\n",
       "   'start': 6,\n",
       "   'end': 7},\n",
       "  {'entity': 'LABEL_11',\n",
       "   'score': 0.13286392,\n",
       "   'index': 4,\n",
       "   'word': '-',\n",
       "   'start': 7,\n",
       "   'end': 8},\n",
       "  {'entity': 'LABEL_11',\n",
       "   'score': 0.13085535,\n",
       "   'index': 5,\n",
       "   'word': 'se',\n",
       "   'start': 8,\n",
       "   'end': 10},\n",
       "  {'entity': 'LABEL_11',\n",
       "   'score': 0.13482307,\n",
       "   'index': 6,\n",
       "   'word': 'no',\n",
       "   'start': 11,\n",
       "   'end': 13},\n",
       "  {'entity': 'LABEL_4',\n",
       "   'score': 0.117481954,\n",
       "   'index': 7,\n",
       "   'word': 'apelo',\n",
       "   'start': 14,\n",
       "   'end': 19},\n",
       "  {'entity': 'LABEL_8',\n",
       "   'score': 0.12024994,\n",
       "   'index': 8,\n",
       "   'word': 'extremo',\n",
       "   'start': 20,\n",
       "   'end': 27},\n",
       "  {'entity': 'LABEL_8',\n",
       "   'score': 0.11740905,\n",
       "   'index': 9,\n",
       "   'word': 'contra',\n",
       "   'start': 28,\n",
       "   'end': 34},\n",
       "  {'entity': 'LABEL_11',\n",
       "   'score': 0.10730645,\n",
       "   'index': 10,\n",
       "   'word': 'ac',\n",
       "   'start': 35,\n",
       "   'end': 37},\n",
       "  {'entity': 'LABEL_5',\n",
       "   'score': 0.12949234,\n",
       "   'index': 11,\n",
       "   'word': '##ór',\n",
       "   'start': 37,\n",
       "   'end': 39},\n",
       "  {'entity': 'LABEL_5',\n",
       "   'score': 0.10202151,\n",
       "   'index': 12,\n",
       "   'word': '##dão',\n",
       "   'start': 39,\n",
       "   'end': 42},\n",
       "  {'entity': 'LABEL_7',\n",
       "   'score': 0.12838297,\n",
       "   'index': 13,\n",
       "   'word': 'profer',\n",
       "   'start': 43,\n",
       "   'end': 49},\n",
       "  {'entity': 'LABEL_0',\n",
       "   'score': 0.1153784,\n",
       "   'index': 14,\n",
       "   'word': '##ido',\n",
       "   'start': 49,\n",
       "   'end': 52},\n",
       "  {'entity': 'LABEL_8',\n",
       "   'score': 0.12049742,\n",
       "   'index': 15,\n",
       "   'word': 'pelo',\n",
       "   'start': 53,\n",
       "   'end': 57},\n",
       "  {'entity': 'LABEL_5',\n",
       "   'score': 0.0994329,\n",
       "   'index': 16,\n",
       "   'word': 'Superior',\n",
       "   'start': 58,\n",
       "   'end': 66},\n",
       "  {'entity': 'LABEL_0',\n",
       "   'score': 0.13466206,\n",
       "   'index': 17,\n",
       "   'word': 'Tribunal',\n",
       "   'start': 67,\n",
       "   'end': 75},\n",
       "  {'entity': 'LABEL_8',\n",
       "   'score': 0.110876344,\n",
       "   'index': 18,\n",
       "   'word': 'Militar',\n",
       "   'start': 76,\n",
       "   'end': 83},\n",
       "  {'entity': 'LABEL_11',\n",
       "   'score': 0.11406982,\n",
       "   'index': 19,\n",
       "   'word': 'no',\n",
       "   'start': 84,\n",
       "   'end': 86},\n",
       "  {'entity': 'LABEL_8',\n",
       "   'score': 0.10547203,\n",
       "   'index': 20,\n",
       "   'word': 'Ag',\n",
       "   'start': 87,\n",
       "   'end': 89},\n",
       "  {'entity': 'LABEL_9',\n",
       "   'score': 0.12232259,\n",
       "   'index': 21,\n",
       "   'word': '##ravo',\n",
       "   'start': 89,\n",
       "   'end': 93},\n",
       "  {'entity': 'LABEL_9',\n",
       "   'score': 0.12836426,\n",
       "   'index': 22,\n",
       "   'word': 'Reg',\n",
       "   'start': 94,\n",
       "   'end': 97},\n",
       "  {'entity': 'LABEL_5',\n",
       "   'score': 0.14936206,\n",
       "   'index': 23,\n",
       "   'word': '##ime',\n",
       "   'start': 97,\n",
       "   'end': 100},\n",
       "  {'entity': 'LABEL_9',\n",
       "   'score': 0.10841218,\n",
       "   'index': 24,\n",
       "   'word': '##ntal',\n",
       "   'start': 100,\n",
       "   'end': 104},\n",
       "  {'entity': 'LABEL_8',\n",
       "   'score': 0.13122992,\n",
       "   'index': 25,\n",
       "   'word': 'n',\n",
       "   'start': 105,\n",
       "   'end': 106},\n",
       "  {'entity': 'LABEL_11',\n",
       "   'score': 0.13234955,\n",
       "   'index': 26,\n",
       "   'word': '##°',\n",
       "   'start': 106,\n",
       "   'end': 107},\n",
       "  {'entity': 'LABEL_11',\n",
       "   'score': 0.14175229,\n",
       "   'index': 27,\n",
       "   'word': '22',\n",
       "   'start': 108,\n",
       "   'end': 110},\n",
       "  {'entity': 'LABEL_8',\n",
       "   'score': 0.14809763,\n",
       "   'index': 28,\n",
       "   'word': '##2',\n",
       "   'start': 110,\n",
       "   'end': 111},\n",
       "  {'entity': 'LABEL_10',\n",
       "   'score': 0.12617098,\n",
       "   'index': 29,\n",
       "   'word': '-',\n",
       "   'start': 111,\n",
       "   'end': 112},\n",
       "  {'entity': 'LABEL_0',\n",
       "   'score': 0.09944397,\n",
       "   'index': 30,\n",
       "   'word': '73',\n",
       "   'start': 112,\n",
       "   'end': 114},\n",
       "  {'entity': 'LABEL_8',\n",
       "   'score': 0.13238764,\n",
       "   'index': 31,\n",
       "   'word': '.',\n",
       "   'start': 114,\n",
       "   'end': 115},\n",
       "  {'entity': 'LABEL_0',\n",
       "   'score': 0.12384928,\n",
       "   'index': 32,\n",
       "   'word': '2010',\n",
       "   'start': 115,\n",
       "   'end': 119},\n",
       "  {'entity': 'LABEL_8',\n",
       "   'score': 0.13124652,\n",
       "   'index': 33,\n",
       "   'word': '.',\n",
       "   'start': 119,\n",
       "   'end': 120},\n",
       "  {'entity': 'LABEL_1',\n",
       "   'score': 0.122284114,\n",
       "   'index': 34,\n",
       "   'word': '7',\n",
       "   'start': 120,\n",
       "   'end': 121},\n",
       "  {'entity': 'LABEL_11',\n",
       "   'score': 0.12543952,\n",
       "   'index': 35,\n",
       "   'word': '.',\n",
       "   'start': 121,\n",
       "   'end': 122},\n",
       "  {'entity': 'LABEL_7',\n",
       "   'score': 0.12975585,\n",
       "   'index': 36,\n",
       "   'word': '05',\n",
       "   'start': 122,\n",
       "   'end': 124},\n",
       "  {'entity': 'LABEL_8',\n",
       "   'score': 0.11437613,\n",
       "   'index': 37,\n",
       "   'word': '.',\n",
       "   'start': 124,\n",
       "   'end': 125},\n",
       "  {'entity': 'LABEL_0',\n",
       "   'score': 0.123590164,\n",
       "   'index': 38,\n",
       "   'word': '000',\n",
       "   'start': 125,\n",
       "   'end': 128},\n",
       "  {'entity': 'LABEL_8',\n",
       "   'score': 0.15247586,\n",
       "   'index': 39,\n",
       "   'word': '##5',\n",
       "   'start': 128,\n",
       "   'end': 129},\n",
       "  {'entity': 'LABEL_8',\n",
       "   'score': 0.11897241,\n",
       "   'index': 40,\n",
       "   'word': '/',\n",
       "   'start': 129,\n",
       "   'end': 130},\n",
       "  {'entity': 'LABEL_1',\n",
       "   'score': 0.09673107,\n",
       "   'index': 41,\n",
       "   'word': 'PR',\n",
       "   'start': 130,\n",
       "   'end': 132},\n",
       "  {'entity': 'LABEL_12',\n",
       "   'score': 0.1028507,\n",
       "   'index': 42,\n",
       "   'word': ',',\n",
       "   'start': 132,\n",
       "   'end': 133},\n",
       "  {'entity': 'LABEL_12',\n",
       "   'score': 0.13624232,\n",
       "   'index': 43,\n",
       "   'word': 'assim',\n",
       "   'start': 134,\n",
       "   'end': 139},\n",
       "  {'entity': 'LABEL_12',\n",
       "   'score': 0.11870138,\n",
       "   'index': 44,\n",
       "   'word': 'do',\n",
       "   'start': 140,\n",
       "   'end': 142},\n",
       "  {'entity': 'LABEL_11',\n",
       "   'score': 0.110978276,\n",
       "   'index': 45,\n",
       "   'word': ':',\n",
       "   'start': 142,\n",
       "   'end': 143},\n",
       "  {'entity': 'LABEL_4',\n",
       "   'score': 0.10403772,\n",
       "   'index': 46,\n",
       "   'word': 'DE',\n",
       "   'start': 144,\n",
       "   'end': 146},\n",
       "  {'entity': 'LABEL_4',\n",
       "   'score': 0.11601126,\n",
       "   'index': 47,\n",
       "   'word': '##SE',\n",
       "   'start': 146,\n",
       "   'end': 148},\n",
       "  {'entity': 'LABEL_4',\n",
       "   'score': 0.12478459,\n",
       "   'index': 48,\n",
       "   'word': '##R',\n",
       "   'start': 148,\n",
       "   'end': 149},\n",
       "  {'entity': 'LABEL_11',\n",
       "   'score': 0.12121617,\n",
       "   'index': 49,\n",
       "   'word': '##Ç',\n",
       "   'start': 149,\n",
       "   'end': 150},\n",
       "  {'entity': 'LABEL_11',\n",
       "   'score': 0.11925464,\n",
       "   'index': 50,\n",
       "   'word': '##ÃO',\n",
       "   'start': 150,\n",
       "   'end': 152},\n",
       "  {'entity': 'LABEL_11',\n",
       "   'score': 0.12806468,\n",
       "   'index': 51,\n",
       "   'word': '.',\n",
       "   'start': 152,\n",
       "   'end': 153}]]"
      ]
     },
     "execution_count": 37,
     "metadata": {},
     "output_type": "execute_result"
    }
   ],
   "source": [
    "from transformers import pipeline\n",
    "nlp = pipeline(\"ner\", model=model_ner, tokenizer=tokenizer_ner)\n",
    "nlp(texts_dataset)"
   ]
  },
  {
   "cell_type": "code",
   "execution_count": 15,
   "metadata": {},
   "outputs": [
    {
     "data": {
      "text/plain": [
       "['ner']"
      ]
     },
     "execution_count": 15,
     "metadata": {},
     "output_type": "execute_result"
    }
   ],
   "source": [
    "adapter_names=['ner']\n",
    "adapter_names"
   ]
  },
  {
   "cell_type": "code",
   "execution_count": 38,
   "metadata": {},
   "outputs": [],
   "source": [
    "def predict(sentence):\n",
    "    tokens = tokenizer_ner.encode(\n",
    "        sentence,\n",
    "        return_tensors=\"pt\",\n",
    "    )\n",
    "    model_ner.eval()\n",
    "    #preds = model_ner(tokens, adapter_names=['ner'])[0]\n",
    "    preds = model_ner(tokens)[0]\n",
    "    preds = preds.detach().numpy()\n",
    "    preds = np.argmax(preds, axis=2)\n",
    "    return tokenizer_ner.tokenize(sentence), preds.squeeze()[1:-1]\n",
    "\n",
    "#preds = model_ner(tokens, adapter_names=['ner'])[0]"
   ]
  },
  {
   "cell_type": "code",
   "execution_count": 39,
   "metadata": {},
   "outputs": [
    {
     "data": {
      "text/plain": [
       "(['Cle', '##y', '##ton', 'Nunes', 'de', 'Oliveira'],\n",
       " array([ 6,  0,  8, 11, 11,  8]))"
      ]
     },
     "execution_count": 39,
     "metadata": {},
     "output_type": "execute_result"
    }
   ],
   "source": [
    "predict(\"Cleyton Nunes de Oliveira\")"
   ]
  },
  {
   "cell_type": "code",
   "execution_count": 26,
   "metadata": {},
   "outputs": [
    {
     "data": {
      "text/plain": [
       "['ner']"
      ]
     },
     "execution_count": 26,
     "metadata": {},
     "output_type": "execute_result"
    }
   ],
   "source": [
    "adapter_names\n",
    "#model_ner"
   ]
  },
  {
   "cell_type": "code",
   "execution_count": 41,
   "metadata": {},
   "outputs": [
    {
     "name": "stdout",
     "output_type": "stream",
     "text": [
      "Acre(LABEL_4) ##s(LABEL_0) ##cent(LABEL_4) ##o(LABEL_9) que(LABEL_11) o(LABEL_0) Juiz(LABEL_0) Pedro(LABEL_11) D(LABEL_4) ##A(LABEL_4) S(LABEL_3) ##IL(LABEL_0) ##VA(LABEL_12) do(LABEL_0) tribunal(LABEL_0) ST(LABEL_0) ##F(LABEL_5) em(LABEL_8) Brasília(LABEL_6) ((LABEL_8) Brasil(LABEL_11) )(LABEL_5) reconheceu(LABEL_2) a(LABEL_11) limitação(LABEL_4) do(LABEL_11) pedido(LABEL_11) único(LABEL_11) e(LABEL_1) ,(LABEL_8) com(LABEL_8) base(LABEL_2) no(LABEL_10) artigo(LABEL_0) 48(LABEL_11) ##7(LABEL_8) ,(LABEL_11) inc(LABEL_10) ##iso(LABEL_8) II(LABEL_11) ,(LABEL_11) do(LABEL_0) Código(LABEL_10) de(LABEL_5) Processo(LABEL_5) Civil(LABEL_5) ,(LABEL_8) encerrou(LABEL_11) o(LABEL_11) processo(LABEL_8) no(LABEL_5) dia(LABEL_11) 3(LABEL_8) de(LABEL_5) janeiro(LABEL_12) de(LABEL_0) 2014(LABEL_12) ,(LABEL_11) com(LABEL_1) resolução(LABEL_11) do(LABEL_11) mérito(LABEL_11) ,(LABEL_11) conden(LABEL_5) ##ando(LABEL_8) o(LABEL_5) autor(LABEL_5) às(LABEL_4) cus(LABEL_4) ##tas(LABEL_0) judiciais(LABEL_11) e(LABEL_11) advo(LABEL_4) ##cat(LABEL_7) ##ícias(LABEL_0) ,(LABEL_11) que(LABEL_11) são(LABEL_8) fixa(LABEL_4) ##das(LABEL_1) em(LABEL_11) 10(LABEL_8) %(LABEL_11) ((LABEL_0) dez(LABEL_2) por(LABEL_2) cento(LABEL_11) )(LABEL_0) do(LABEL_11) valor(LABEL_11) da(LABEL_11) causa(LABEL_4) .(LABEL_11) Ins(LABEL_11) ##urg(LABEL_4) ##e(LABEL_4) -(LABEL_5) se(LABEL_11) no(LABEL_11) apelo(LABEL_11) extremo(LABEL_4) contra(LABEL_8) ac(LABEL_4) ##ór(LABEL_11) ##dão(LABEL_5) profer(LABEL_5) ##ido(LABEL_5) pelo(LABEL_0) Superior(LABEL_8) Tribunal(LABEL_5) Militar(LABEL_0) no(LABEL_8) Ag(LABEL_11) ##ravo(LABEL_4) Reg(LABEL_9) ##ime(LABEL_9) ##ntal(LABEL_5) n(LABEL_9) ##°(LABEL_8) 22(LABEL_11) ##2(LABEL_11) -(LABEL_8) 73(LABEL_10) .(LABEL_12) 2010(LABEL_8) .(LABEL_0) 7(LABEL_8) .(LABEL_12) 05(LABEL_11) .(LABEL_7) 000(LABEL_6) ##5(LABEL_0) /(LABEL_8) PR(LABEL_8) ,(LABEL_6) assim(LABEL_8) do(LABEL_12) :(LABEL_12) DE(LABEL_11) ##SE(LABEL_9) ##R(LABEL_4) ##Ç(LABEL_4) ##ÃO(LABEL_11) .(LABEL_11) "
     ]
    }
   ],
   "source": [
    "# get the mapping of ids to labels\n",
    "label_map = model_ner.get_labels_dict()\n",
    "#label_map = {i:label for i,label in enumerate(labels)}\n",
    "tokens, preds = predict(texts_dataset)\n",
    "for token, pred in zip(tokens, preds):\n",
    "    print(f\"{token}({label_map[pred]}) \", end=\"\")"
   ]
  },
  {
   "cell_type": "markdown",
   "metadata": {},
   "source": [
    "Note: in the following paragraph, we use a police style in order to display the dteceted entidades."
   ]
  },
  {
   "cell_type": "markdown",
   "metadata": {},
   "source": [
    "### Model with adapters"
   ]
  },
  {
   "cell_type": "code",
   "execution_count": 42,
   "metadata": {},
   "outputs": [
    {
     "name": "stderr",
     "output_type": "stream",
     "text": [
      "Some weights of the model checkpoint at neuralmind/bert-base-portuguese-cased were not used when initializing BertForTokenClassification: ['cls.predictions.bias', 'cls.predictions.transform.LayerNorm.bias', 'cls.seq_relationship.bias', 'cls.predictions.transform.dense.bias', 'cls.predictions.transform.LayerNorm.weight', 'cls.predictions.transform.dense.weight', 'cls.seq_relationship.weight', 'cls.predictions.decoder.weight']\n",
      "- This IS expected if you are initializing BertForTokenClassification from the checkpoint of a model trained on another task or with another architecture (e.g. initializing a BertForSequenceClassification model from a BertForPreTraining model).\n",
      "- This IS NOT expected if you are initializing BertForTokenClassification from the checkpoint of a model that you expect to be exactly identical (initializing a BertForSequenceClassification model from a BertForSequenceClassification model).\n",
      "Some weights of BertForTokenClassification were not initialized from the model checkpoint at neuralmind/bert-base-portuguese-cased and are newly initialized: ['classifier.weight', 'classifier.bias']\n",
      "You should probably TRAIN this model on a down-stream task to be able to use it for predictions and inference.\n"
     ]
    }
   ],
   "source": [
    "from transformers import AutoModelForTokenClassification, AutoTokenizer\n",
    "\n",
    "model_ner = AutoModelForTokenClassification.from_pretrained(model_checkpoint, num_labels=len(label_list))\n"
   ]
  },
  {
   "cell_type": "code",
   "execution_count": 160,
   "metadata": {},
   "outputs": [
    {
     "name": "stderr",
     "output_type": "stream",
     "text": [
      "loading configuration file https://huggingface.co/neuralmind/bert-base-portuguese-cased/resolve/main/config.json from cache at /home/info/.cache/huggingface/transformers/e716e2151985ba669e7197b64cdde2552acee146494d40ffaf0688a3f152e6ed.18a0b8b86f3ebd4c8a1d8d6199178feae9971ff5420f1d12f0ed8326ffdff716\n",
      "Model config BertConfig {\n",
      "  \"_name_or_path\": \"neuralmind/bert-base-portuguese-cased\",\n",
      "  \"architectures\": [\n",
      "    \"BertForMaskedLM\"\n",
      "  ],\n",
      "  \"attention_probs_dropout_prob\": 0.1,\n",
      "  \"classifier_dropout\": null,\n",
      "  \"directionality\": \"bidi\",\n",
      "  \"hidden_act\": \"gelu\",\n",
      "  \"hidden_dropout_prob\": 0.1,\n",
      "  \"hidden_size\": 768,\n",
      "  \"initializer_range\": 0.02,\n",
      "  \"intermediate_size\": 3072,\n",
      "  \"layer_norm_eps\": 1e-12,\n",
      "  \"max_position_embeddings\": 512,\n",
      "  \"model_type\": \"bert\",\n",
      "  \"num_attention_heads\": 12,\n",
      "  \"num_hidden_layers\": 12,\n",
      "  \"output_past\": true,\n",
      "  \"pad_token_id\": 0,\n",
      "  \"pooler_fc_size\": 768,\n",
      "  \"pooler_num_attention_heads\": 12,\n",
      "  \"pooler_num_fc_layers\": 3,\n",
      "  \"pooler_size_per_head\": 128,\n",
      "  \"pooler_type\": \"first_token_transform\",\n",
      "  \"position_embedding_type\": \"absolute\",\n",
      "  \"transformers_version\": \"4.17.0\",\n",
      "  \"type_vocab_size\": 2,\n",
      "  \"use_cache\": true,\n",
      "  \"vocab_size\": 29794\n",
      "}\n",
      "\n",
      "loading file https://huggingface.co/neuralmind/bert-base-portuguese-cased/resolve/main/vocab.txt from cache at /home/info/.cache/huggingface/transformers/aa6d50227b77416b26162efcf0cc9e9a702d13920840322060a2b41a44a8aff4.af25fb1e29ad0175300146695fd80069be69b211c52fa5486fa8aae2754cc814\n",
      "loading file https://huggingface.co/neuralmind/bert-base-portuguese-cased/resolve/main/tokenizer.json from cache at None\n",
      "loading file https://huggingface.co/neuralmind/bert-base-portuguese-cased/resolve/main/added_tokens.json from cache at /home/info/.cache/huggingface/transformers/9188d297517828a862f4e0b0700968574ca7ad38fbc0832c409bf7a9e5576b74.5cc6e825eb228a7a5cfd27cb4d7151e97a79fb962b31aaf1813aa102e746584b\n",
      "loading file https://huggingface.co/neuralmind/bert-base-portuguese-cased/resolve/main/special_tokens_map.json from cache at /home/info/.cache/huggingface/transformers/eecc45187d085a1169eed91017d358cc0e9cbdd5dc236bcd710059dbf0a2f816.dd8bd9bfd3664b530ea4e645105f557769387b3da9f79bdb55ed556bdd80611d\n",
      "loading file https://huggingface.co/neuralmind/bert-base-portuguese-cased/resolve/main/tokenizer_config.json from cache at /home/info/.cache/huggingface/transformers/f1a9ba41d40e8c6f5ba4988aa2f7702c3b43768183e4b82483e04f2848841ecf.a6c00251b9344c189e2419373d6033016d0cd3d87ea59f6c86069046ac81956d\n",
      "loading configuration file https://huggingface.co/neuralmind/bert-base-portuguese-cased/resolve/main/config.json from cache at /home/info/.cache/huggingface/transformers/e716e2151985ba669e7197b64cdde2552acee146494d40ffaf0688a3f152e6ed.18a0b8b86f3ebd4c8a1d8d6199178feae9971ff5420f1d12f0ed8326ffdff716\n",
      "Model config BertConfig {\n",
      "  \"_name_or_path\": \"neuralmind/bert-base-portuguese-cased\",\n",
      "  \"architectures\": [\n",
      "    \"BertForMaskedLM\"\n",
      "  ],\n",
      "  \"attention_probs_dropout_prob\": 0.1,\n",
      "  \"classifier_dropout\": null,\n",
      "  \"directionality\": \"bidi\",\n",
      "  \"hidden_act\": \"gelu\",\n",
      "  \"hidden_dropout_prob\": 0.1,\n",
      "  \"hidden_size\": 768,\n",
      "  \"initializer_range\": 0.02,\n",
      "  \"intermediate_size\": 3072,\n",
      "  \"layer_norm_eps\": 1e-12,\n",
      "  \"max_position_embeddings\": 512,\n",
      "  \"model_type\": \"bert\",\n",
      "  \"num_attention_heads\": 12,\n",
      "  \"num_hidden_layers\": 12,\n",
      "  \"output_past\": true,\n",
      "  \"pad_token_id\": 0,\n",
      "  \"pooler_fc_size\": 768,\n",
      "  \"pooler_num_attention_heads\": 12,\n",
      "  \"pooler_num_fc_layers\": 3,\n",
      "  \"pooler_size_per_head\": 128,\n",
      "  \"pooler_type\": \"first_token_transform\",\n",
      "  \"position_embedding_type\": \"absolute\",\n",
      "  \"transformers_version\": \"4.17.0\",\n",
      "  \"type_vocab_size\": 2,\n",
      "  \"use_cache\": true,\n",
      "  \"vocab_size\": 29794\n",
      "}\n",
      "\n",
      "loading configuration file https://huggingface.co/neuralmind/bert-base-portuguese-cased/resolve/main/config.json from cache at /home/info/.cache/huggingface/transformers/e716e2151985ba669e7197b64cdde2552acee146494d40ffaf0688a3f152e6ed.18a0b8b86f3ebd4c8a1d8d6199178feae9971ff5420f1d12f0ed8326ffdff716\n",
      "Model config BertConfig {\n",
      "  \"_name_or_path\": \"neuralmind/bert-base-portuguese-cased\",\n",
      "  \"architectures\": [\n",
      "    \"BertForMaskedLM\"\n",
      "  ],\n",
      "  \"attention_probs_dropout_prob\": 0.1,\n",
      "  \"classifier_dropout\": null,\n",
      "  \"directionality\": \"bidi\",\n",
      "  \"hidden_act\": \"gelu\",\n",
      "  \"hidden_dropout_prob\": 0.1,\n",
      "  \"hidden_size\": 768,\n",
      "  \"initializer_range\": 0.02,\n",
      "  \"intermediate_size\": 3072,\n",
      "  \"layer_norm_eps\": 1e-12,\n",
      "  \"max_position_embeddings\": 512,\n",
      "  \"model_type\": \"bert\",\n",
      "  \"num_attention_heads\": 12,\n",
      "  \"num_hidden_layers\": 12,\n",
      "  \"output_past\": true,\n",
      "  \"pad_token_id\": 0,\n",
      "  \"pooler_fc_size\": 768,\n",
      "  \"pooler_num_attention_heads\": 12,\n",
      "  \"pooler_num_fc_layers\": 3,\n",
      "  \"pooler_size_per_head\": 128,\n",
      "  \"pooler_type\": \"first_token_transform\",\n",
      "  \"position_embedding_type\": \"absolute\",\n",
      "  \"transformers_version\": \"4.17.0\",\n",
      "  \"type_vocab_size\": 2,\n",
      "  \"use_cache\": true,\n",
      "  \"vocab_size\": 29794\n",
      "}\n",
      "\n"
     ]
    }
   ],
   "source": [
    "tokenizer_ner = AutoTokenizer.from_pretrained(model_checkpoint, use_fast=True)"
   ]
  },
  {
   "cell_type": "markdown",
   "metadata": {},
   "source": [
    "#### Lang adapter"
   ]
  },
  {
   "cell_type": "code",
   "execution_count": 45,
   "metadata": {},
   "outputs": [
    {
     "ename": "NameError",
     "evalue": "name 'with_adapters_mlm' is not defined",
     "output_type": "error",
     "traceback": [
      "\u001b[0;31m---------------------------------------------------------------------------\u001b[0m",
      "\u001b[0;31mNameError\u001b[0m                                 Traceback (most recent call last)",
      "\u001b[0;32m<ipython-input-45-3e4db83e37c1>\u001b[0m in \u001b[0;36m<module>\u001b[0;34m\u001b[0m\n\u001b[0;32m----> 1\u001b[0;31m \u001b[0;32mif\u001b[0m \u001b[0mwith_adapters_mlm\u001b[0m\u001b[0;34m:\u001b[0m\u001b[0;34m\u001b[0m\u001b[0;34m\u001b[0m\u001b[0m\n\u001b[0m\u001b[1;32m      2\u001b[0m \u001b[0;34m\u001b[0m\u001b[0m\n\u001b[1;32m      3\u001b[0m     \u001b[0;31m# hyperparameters used for fine-tuning the MLM with lang adapter\u001b[0m\u001b[0;34m\u001b[0m\u001b[0;34m\u001b[0m\u001b[0;34m\u001b[0m\u001b[0m\n\u001b[1;32m      4\u001b[0m     \u001b[0mlearning_rate_mlm\u001b[0m \u001b[0;34m=\u001b[0m \u001b[0;36m1e-4\u001b[0m\u001b[0;34m\u001b[0m\u001b[0;34m\u001b[0m\u001b[0m\n\u001b[1;32m      5\u001b[0m     \u001b[0mbatch_size_mlm\u001b[0m \u001b[0;34m=\u001b[0m \u001b[0;36m16\u001b[0m\u001b[0;34m\u001b[0m\u001b[0;34m\u001b[0m\u001b[0m\n",
      "\u001b[0;31mNameError\u001b[0m: name 'with_adapters_mlm' is not defined"
     ]
    }
   ],
   "source": [
    "if with_adapters_mlm:\n",
    "    \n",
    "    # hyperparameters used for fine-tuning the MLM with lang adapter\n",
    "    learning_rate_mlm = 1e-4\n",
    "    batch_size_mlm = 16\n",
    "    gradient_accumulation_steps_mlm = 1\n",
    "    adam_epsilon_mlm = 1e-6\n",
    "    num_train_epoch_mlm = 100.\n",
    "    early_stopping_patience_mlm = 10\n",
    "    madx2_mlm = True\n",
    "    houlsby_MHA_lastlayer_mlm = False\n",
    "    ds_mlm = False\n",
    "    fp16_mlm = True\n",
    "    load_best_model_at_end_mlm = True\n",
    "    metric_for_best_model_mlm = \"loss\"\n",
    "    adapter_config_mlm = 'pfeiffer+inv'\n",
    "\n",
    "    # path to lang adapter\n",
    "    outputs_mlm = model_checkpoint.replace('/','-') + '_' + dataset_name + '/' + 'mlm' + '/' \\\n",
    "    + 'lr' + str(learning_rate_mlm) \\\n",
    "    + '_bs' + str(batch_size_mlm) \\\n",
    "    + '_GAS' + str(gradient_accumulation_steps_mlm) \\\n",
    "    + '_eps' + str(adam_epsilon_mlm) \\\n",
    "    + '_epochs' + str(num_train_epoch_mlm) \\\n",
    "    + '_patience' + str(early_stopping_patience_mlm) \\\n",
    "    + '_madx2' + str(madx2_mlm) \\\n",
    "    + '_houlsby_MHA_lastlayer' + str(houlsby_MHA_lastlayer_mlm) \\\n",
    "    + '_ds' + str(ds_mlm) \\\n",
    "    + '_fp16' + str(fp16_mlm) \\\n",
    "    + '_best' + str(load_best_model_at_end_mlm) \\\n",
    "    + '_metric' + str(metric_for_best_model_mlm) \\\n",
    "    + '_adapterconfig' + str(adapter_config_mlm)\n",
    "\n",
    "    path_to_outputs_mlm = root/'outputs'/outputs_mlm\n",
    "\n",
    "    # Config of the lang adapter\n",
    "    lang_adapter_path = path_to_outputs_mlm/'adapters-mlm/'\n",
    "\n",
    "    load_lang_adapter = str(lang_adapter_path)\n",
    "    lang_adapter_config = str(lang_adapter_path) + \"/adapter_config.json\"\n",
    "    \n",
    "with_adapters_mlm\n",
    "lang_adapter_config"
   ]
  },
  {
   "cell_type": "code",
   "execution_count": 44,
   "metadata": {},
   "outputs": [
    {
     "ename": "NameError",
     "evalue": "name 'with_adapters_mlm' is not defined",
     "output_type": "error",
     "traceback": [
      "\u001b[0;31m---------------------------------------------------------------------------\u001b[0m",
      "\u001b[0;31mNameError\u001b[0m                                 Traceback (most recent call last)",
      "\u001b[0;32m<ipython-input-44-73c94159dde0>\u001b[0m in \u001b[0;36m<module>\u001b[0;34m\u001b[0m\n\u001b[0;32m----> 1\u001b[0;31m \u001b[0;32mif\u001b[0m \u001b[0mwith_adapters_mlm\u001b[0m\u001b[0;34m:\u001b[0m\u001b[0;34m\u001b[0m\u001b[0;34m\u001b[0m\u001b[0m\n\u001b[0m\u001b[1;32m      2\u001b[0m     \u001b[0;31m# load the language adapter without head\u001b[0m\u001b[0;34m\u001b[0m\u001b[0;34m\u001b[0m\u001b[0;34m\u001b[0m\u001b[0m\n\u001b[1;32m      3\u001b[0m     \u001b[0mtask_mlm_load_as\u001b[0m \u001b[0;34m=\u001b[0m \u001b[0;34m'mlm'\u001b[0m\u001b[0;34m\u001b[0m\u001b[0;34m\u001b[0m\u001b[0m\n\u001b[1;32m      4\u001b[0m     lang_adapter_name = model_ner.load_adapter(\n\u001b[1;32m      5\u001b[0m         \u001b[0mload_lang_adapter\u001b[0m\u001b[0;34m,\u001b[0m\u001b[0;34m\u001b[0m\u001b[0;34m\u001b[0m\u001b[0m\n",
      "\u001b[0;31mNameError\u001b[0m: name 'with_adapters_mlm' is not defined"
     ]
    }
   ],
   "source": [
    "if with_adapters_mlm:\n",
    "    # load the language adapter without head\n",
    "    task_mlm_load_as = 'mlm'\n",
    "    lang_adapter_name = model_ner.load_adapter(\n",
    "        load_lang_adapter,\n",
    "        config=lang_adapter_config,\n",
    "        load_as=task_mlm_load_as,\n",
    "        with_head=False\n",
    "        )"
   ]
  },
  {
   "cell_type": "markdown",
   "metadata": {},
   "source": [
    "#### NER adapter"
   ]
  },
  {
   "cell_type": "code",
   "execution_count": 163,
   "metadata": {},
   "outputs": [
    {
     "data": {
      "text/plain": [
       "'lenerbr'"
      ]
     },
     "execution_count": 163,
     "metadata": {},
     "output_type": "execute_result"
    }
   ],
   "source": [
    "# folder for training outputs\n",
    "\n",
    "#if model_checkpoint == \"neuralmind/bert-large-portuguese-cased\":\n",
    "if model_checkpoint == \"neuralmind/bert-base-portuguese-cased\":\n",
    "    outputs = model_checkpoint.replace('/','-') + '_' + dataset_name\n",
    "    #outputs = model_checkpoint.replace('/','-') + '_' + dataset_name_hf\n",
    "else:\n",
    "    outputs = model_output\n",
    "    \n",
    "if with_adapters_mlm:\n",
    "    outputs = outputs + '/' + 'mlm_' + str(task) + '_AdCompo' + str(adapter_composition) + '/'\n",
    "else:\n",
    "    outputs = outputs + '/' + str(task) + '/'\n",
    "\n",
    "outputs = outputs \\\n",
    "+ 'lr' + str(learning_rate) \\\n",
    "+ '_bs' + str(batch_size) \\\n",
    "+ '_epochs' + str(num_train_epochs) \\\n",
    "+ '_patience' + str(early_stopping_patience) \\\n",
    "+ '_wamlm' + str(with_adapters_mlm) \\\n",
    "+ '_madx2' + str(madx2) \\\n",
    "+ '_houlsby_MHA_lastlayer' + str(houlsby_MHA_lastlayer) \\\n",
    "+ '_ds' + str(ds) \\\n",
    "+ '_fp16' + str(fp16) \\\n",
    "+ '_best' + str(load_best_model_at_end) \\\n",
    "+ '_metric' + str(metric_for_best_model) \\\n",
    "+ '_weightedloss' + str(weighted_loss) \\\n",
    "+ '_c' + str(c) \\\n",
    "+ '_ns' + str(next_sentence) \\\n",
    "+ '_adapterconfig' + str(adapter_config_name)\n",
    "#+ '_GAS' + str(gradient_accumulation_steps) \\\n",
    "#+ '_eps' + str(adam_epsilon) \\\n",
    "\n",
    "\n",
    "\n",
    "# path to outputs\n",
    "path_to_outputs = root/'outputs'/outputs\n",
    "\n",
    "# path to adapter\n",
    "adapters_folder = 'adapters-' + task\n",
    "path_to_save_adapter = path_to_outputs/adapters_folder\n",
    "\n",
    "# Config of the task adapter\n",
    "load_adapter = str(path_to_save_adapter)\n",
    "adapter_config = str(path_to_save_adapter) + \"/adapter_config.json\"\n",
    "\n",
    "path_to_outputs\n",
    "adapter_config\n",
    "#load_adapter\n",
    "#task\n",
    "dataset_name"
   ]
  },
  {
   "cell_type": "code",
   "execution_count": 164,
   "metadata": {},
   "outputs": [
    {
     "name": "stderr",
     "output_type": "stream",
     "text": [
      "Loading module configuration from /home/info/MyNotebooks/BertAdapterNER/outputs/neuralmind-bert-base-portuguese-cased_lenerbr/ner/lr0.0001_bs8_epochs5_patience5_wamlmFalse_madx2True_houlsby_MHA_lastlayerFalse_dsFalse_fp16True_bestTrue_metricf1_weightedlossFalse_c0.0_nsTrue_adapterconfigpfeiffer/adapters-ner/adapter_config.json\n",
      "Adding adapter 'ner'.\n",
      "Loading module weights from /home/info/MyNotebooks/BertAdapterNER/outputs/neuralmind-bert-base-portuguese-cased_lenerbr/ner/lr0.0001_bs8_epochs5_patience5_wamlmFalse_madx2True_houlsby_MHA_lastlayerFalse_dsFalse_fp16True_bestTrue_metricf1_weightedlossFalse_c0.0_nsTrue_adapterconfigpfeiffer/adapters-ner/pytorch_adapter.bin\n",
      "Loading module configuration from /home/info/MyNotebooks/BertAdapterNER/outputs/neuralmind-bert-base-portuguese-cased_lenerbr/ner/lr0.0001_bs8_epochs5_patience5_wamlmFalse_madx2True_houlsby_MHA_lastlayerFalse_dsFalse_fp16True_bestTrue_metricf1_weightedlossFalse_c0.0_nsTrue_adapterconfigpfeiffer/adapters-ner/head_config.json\n",
      "Loading module weights from /home/info/MyNotebooks/BertAdapterNER/outputs/neuralmind-bert-base-portuguese-cased_lenerbr/ner/lr0.0001_bs8_epochs5_patience5_wamlmFalse_madx2True_houlsby_MHA_lastlayerFalse_dsFalse_fp16True_bestTrue_metricf1_weightedlossFalse_c0.0_nsTrue_adapterconfigpfeiffer/adapters-ner/pytorch_model_head.bin\n"
     ]
    },
    {
     "data": {
      "text/plain": [
       "'ner'"
      ]
     },
     "execution_count": 164,
     "metadata": {},
     "output_type": "execute_result"
    }
   ],
   "source": [
    "# load the task adapter with head\n",
    "task_name = task\n",
    "model_ner.load_adapter(\n",
    "    load_adapter,\n",
    "    config=adapter_config,\n",
    "    load_as=task_name,\n",
    "    with_head = True\n",
    ")"
   ]
  },
  {
   "cell_type": "code",
   "execution_count": null,
   "metadata": {},
   "outputs": [],
   "source": [
    "#Pasta:\n",
    "#/home/info/MyNotebooks/BertAdapterNER/outputs/neuralmind-bert-base-portuguese-cased_lenerbr/ner/lr0.0001_bs8_              epochs5_patience5_wamlmFalse_madx2True_houlsby_MHA_lastlayerFalse_dsFalse_fp16True_bestTrue_metricf1_weightedlossFalse_c0.0_nsTrue_adapterconfigpfeiffer/adapters-ner\n",
    "#/home/info/MyNotebooks/BertAdapterNER/outputs/neuralmind-bert-base-portuguese-cased_lenerbr/ner/lr0.0001_bs8_GAS1_eps1e-06_epochs5_patience5_wamlmFalse_madx2True_houlsby_MHA_lastlayerFalse_dsFalse_fp16True_bestTrue_metricf1_weightedlossFalse_c0.0_nsTrue_adapterconfigpfeiffer/adapters-ner/adapter_config.json\n"
   ]
  },
  {
   "cell_type": "markdown",
   "metadata": {},
   "source": [
    "#### Active adapters"
   ]
  },
  {
   "cell_type": "code",
   "execution_count": 165,
   "metadata": {},
   "outputs": [],
   "source": [
    "# Set the adapters to be used in every forward pass\n",
    "from transformers.adapters.composition import Stack\n",
    "if lang_adapter_name:\n",
    "    model_ner.active_adapters = Stack(task_mlm_load_as, task_name)\n",
    "else:\n",
    "    model_ner.set_active_adapters(task_name)"
   ]
  },
  {
   "cell_type": "code",
   "execution_count": 166,
   "metadata": {},
   "outputs": [
    {
     "data": {
      "text/plain": [
       "BertForTokenClassification(\n",
       "  (shared_parameters): ModuleDict()\n",
       "  (bert): BertModel(\n",
       "    (shared_parameters): ModuleDict()\n",
       "    (invertible_adapters): ModuleDict()\n",
       "    (embeddings): BertEmbeddings(\n",
       "      (word_embeddings): Embedding(29794, 768, padding_idx=0)\n",
       "      (position_embeddings): Embedding(512, 768)\n",
       "      (token_type_embeddings): Embedding(2, 768)\n",
       "      (LayerNorm): LayerNorm((768,), eps=1e-12, elementwise_affine=True)\n",
       "      (dropout): Dropout(p=0.1, inplace=False)\n",
       "    )\n",
       "    (encoder): BertEncoder(\n",
       "      (layer): ModuleList(\n",
       "        (0): BertLayer(\n",
       "          (attention): BertAttention(\n",
       "            (self): BertSelfAttention(\n",
       "              (query): Linear(in_features=768, out_features=768, bias=True)\n",
       "              (key): Linear(in_features=768, out_features=768, bias=True)\n",
       "              (value): Linear(in_features=768, out_features=768, bias=True)\n",
       "              (dropout): Dropout(p=0.1, inplace=False)\n",
       "              (prefix_tuning): PrefixTuningShim(\n",
       "                (pool): PrefixTuningPool(\n",
       "                  (prefix_tunings): ModuleDict()\n",
       "                )\n",
       "              )\n",
       "            )\n",
       "            (output): BertSelfOutput(\n",
       "              (dense): Linear(in_features=768, out_features=768, bias=True)\n",
       "              (LayerNorm): LayerNorm((768,), eps=1e-12, elementwise_affine=True)\n",
       "              (dropout): Dropout(p=0.1, inplace=False)\n",
       "              (adapters): ModuleDict()\n",
       "              (adapter_fusion_layer): ModuleDict()\n",
       "            )\n",
       "          )\n",
       "          (intermediate): BertIntermediate(\n",
       "            (dense): Linear(in_features=768, out_features=3072, bias=True)\n",
       "            (intermediate_act_fn): GELUActivation()\n",
       "          )\n",
       "          (output): BertOutput(\n",
       "            (dense): Linear(in_features=3072, out_features=768, bias=True)\n",
       "            (LayerNorm): LayerNorm((768,), eps=1e-12, elementwise_affine=True)\n",
       "            (dropout): Dropout(p=0.1, inplace=False)\n",
       "            (adapters): ModuleDict(\n",
       "              (ner): Adapter(\n",
       "                (non_linearity): Activation_Function_Class(\n",
       "                  (f): GELUActivation()\n",
       "                )\n",
       "                (adapter_down): Sequential(\n",
       "                  (0): Linear(in_features=768, out_features=48, bias=True)\n",
       "                  (1): Activation_Function_Class(\n",
       "                    (f): GELUActivation()\n",
       "                  )\n",
       "                )\n",
       "                (adapter_up): Linear(in_features=48, out_features=768, bias=True)\n",
       "              )\n",
       "            )\n",
       "            (adapter_fusion_layer): ModuleDict()\n",
       "          )\n",
       "        )\n",
       "        (1): BertLayer(\n",
       "          (attention): BertAttention(\n",
       "            (self): BertSelfAttention(\n",
       "              (query): Linear(in_features=768, out_features=768, bias=True)\n",
       "              (key): Linear(in_features=768, out_features=768, bias=True)\n",
       "              (value): Linear(in_features=768, out_features=768, bias=True)\n",
       "              (dropout): Dropout(p=0.1, inplace=False)\n",
       "              (prefix_tuning): PrefixTuningShim(\n",
       "                (pool): PrefixTuningPool(\n",
       "                  (prefix_tunings): ModuleDict()\n",
       "                )\n",
       "              )\n",
       "            )\n",
       "            (output): BertSelfOutput(\n",
       "              (dense): Linear(in_features=768, out_features=768, bias=True)\n",
       "              (LayerNorm): LayerNorm((768,), eps=1e-12, elementwise_affine=True)\n",
       "              (dropout): Dropout(p=0.1, inplace=False)\n",
       "              (adapters): ModuleDict()\n",
       "              (adapter_fusion_layer): ModuleDict()\n",
       "            )\n",
       "          )\n",
       "          (intermediate): BertIntermediate(\n",
       "            (dense): Linear(in_features=768, out_features=3072, bias=True)\n",
       "            (intermediate_act_fn): GELUActivation()\n",
       "          )\n",
       "          (output): BertOutput(\n",
       "            (dense): Linear(in_features=3072, out_features=768, bias=True)\n",
       "            (LayerNorm): LayerNorm((768,), eps=1e-12, elementwise_affine=True)\n",
       "            (dropout): Dropout(p=0.1, inplace=False)\n",
       "            (adapters): ModuleDict(\n",
       "              (ner): Adapter(\n",
       "                (non_linearity): Activation_Function_Class(\n",
       "                  (f): GELUActivation()\n",
       "                )\n",
       "                (adapter_down): Sequential(\n",
       "                  (0): Linear(in_features=768, out_features=48, bias=True)\n",
       "                  (1): Activation_Function_Class(\n",
       "                    (f): GELUActivation()\n",
       "                  )\n",
       "                )\n",
       "                (adapter_up): Linear(in_features=48, out_features=768, bias=True)\n",
       "              )\n",
       "            )\n",
       "            (adapter_fusion_layer): ModuleDict()\n",
       "          )\n",
       "        )\n",
       "        (2): BertLayer(\n",
       "          (attention): BertAttention(\n",
       "            (self): BertSelfAttention(\n",
       "              (query): Linear(in_features=768, out_features=768, bias=True)\n",
       "              (key): Linear(in_features=768, out_features=768, bias=True)\n",
       "              (value): Linear(in_features=768, out_features=768, bias=True)\n",
       "              (dropout): Dropout(p=0.1, inplace=False)\n",
       "              (prefix_tuning): PrefixTuningShim(\n",
       "                (pool): PrefixTuningPool(\n",
       "                  (prefix_tunings): ModuleDict()\n",
       "                )\n",
       "              )\n",
       "            )\n",
       "            (output): BertSelfOutput(\n",
       "              (dense): Linear(in_features=768, out_features=768, bias=True)\n",
       "              (LayerNorm): LayerNorm((768,), eps=1e-12, elementwise_affine=True)\n",
       "              (dropout): Dropout(p=0.1, inplace=False)\n",
       "              (adapters): ModuleDict()\n",
       "              (adapter_fusion_layer): ModuleDict()\n",
       "            )\n",
       "          )\n",
       "          (intermediate): BertIntermediate(\n",
       "            (dense): Linear(in_features=768, out_features=3072, bias=True)\n",
       "            (intermediate_act_fn): GELUActivation()\n",
       "          )\n",
       "          (output): BertOutput(\n",
       "            (dense): Linear(in_features=3072, out_features=768, bias=True)\n",
       "            (LayerNorm): LayerNorm((768,), eps=1e-12, elementwise_affine=True)\n",
       "            (dropout): Dropout(p=0.1, inplace=False)\n",
       "            (adapters): ModuleDict(\n",
       "              (ner): Adapter(\n",
       "                (non_linearity): Activation_Function_Class(\n",
       "                  (f): GELUActivation()\n",
       "                )\n",
       "                (adapter_down): Sequential(\n",
       "                  (0): Linear(in_features=768, out_features=48, bias=True)\n",
       "                  (1): Activation_Function_Class(\n",
       "                    (f): GELUActivation()\n",
       "                  )\n",
       "                )\n",
       "                (adapter_up): Linear(in_features=48, out_features=768, bias=True)\n",
       "              )\n",
       "            )\n",
       "            (adapter_fusion_layer): ModuleDict()\n",
       "          )\n",
       "        )\n",
       "        (3): BertLayer(\n",
       "          (attention): BertAttention(\n",
       "            (self): BertSelfAttention(\n",
       "              (query): Linear(in_features=768, out_features=768, bias=True)\n",
       "              (key): Linear(in_features=768, out_features=768, bias=True)\n",
       "              (value): Linear(in_features=768, out_features=768, bias=True)\n",
       "              (dropout): Dropout(p=0.1, inplace=False)\n",
       "              (prefix_tuning): PrefixTuningShim(\n",
       "                (pool): PrefixTuningPool(\n",
       "                  (prefix_tunings): ModuleDict()\n",
       "                )\n",
       "              )\n",
       "            )\n",
       "            (output): BertSelfOutput(\n",
       "              (dense): Linear(in_features=768, out_features=768, bias=True)\n",
       "              (LayerNorm): LayerNorm((768,), eps=1e-12, elementwise_affine=True)\n",
       "              (dropout): Dropout(p=0.1, inplace=False)\n",
       "              (adapters): ModuleDict()\n",
       "              (adapter_fusion_layer): ModuleDict()\n",
       "            )\n",
       "          )\n",
       "          (intermediate): BertIntermediate(\n",
       "            (dense): Linear(in_features=768, out_features=3072, bias=True)\n",
       "            (intermediate_act_fn): GELUActivation()\n",
       "          )\n",
       "          (output): BertOutput(\n",
       "            (dense): Linear(in_features=3072, out_features=768, bias=True)\n",
       "            (LayerNorm): LayerNorm((768,), eps=1e-12, elementwise_affine=True)\n",
       "            (dropout): Dropout(p=0.1, inplace=False)\n",
       "            (adapters): ModuleDict(\n",
       "              (ner): Adapter(\n",
       "                (non_linearity): Activation_Function_Class(\n",
       "                  (f): GELUActivation()\n",
       "                )\n",
       "                (adapter_down): Sequential(\n",
       "                  (0): Linear(in_features=768, out_features=48, bias=True)\n",
       "                  (1): Activation_Function_Class(\n",
       "                    (f): GELUActivation()\n",
       "                  )\n",
       "                )\n",
       "                (adapter_up): Linear(in_features=48, out_features=768, bias=True)\n",
       "              )\n",
       "            )\n",
       "            (adapter_fusion_layer): ModuleDict()\n",
       "          )\n",
       "        )\n",
       "        (4): BertLayer(\n",
       "          (attention): BertAttention(\n",
       "            (self): BertSelfAttention(\n",
       "              (query): Linear(in_features=768, out_features=768, bias=True)\n",
       "              (key): Linear(in_features=768, out_features=768, bias=True)\n",
       "              (value): Linear(in_features=768, out_features=768, bias=True)\n",
       "              (dropout): Dropout(p=0.1, inplace=False)\n",
       "              (prefix_tuning): PrefixTuningShim(\n",
       "                (pool): PrefixTuningPool(\n",
       "                  (prefix_tunings): ModuleDict()\n",
       "                )\n",
       "              )\n",
       "            )\n",
       "            (output): BertSelfOutput(\n",
       "              (dense): Linear(in_features=768, out_features=768, bias=True)\n",
       "              (LayerNorm): LayerNorm((768,), eps=1e-12, elementwise_affine=True)\n",
       "              (dropout): Dropout(p=0.1, inplace=False)\n",
       "              (adapters): ModuleDict()\n",
       "              (adapter_fusion_layer): ModuleDict()\n",
       "            )\n",
       "          )\n",
       "          (intermediate): BertIntermediate(\n",
       "            (dense): Linear(in_features=768, out_features=3072, bias=True)\n",
       "            (intermediate_act_fn): GELUActivation()\n",
       "          )\n",
       "          (output): BertOutput(\n",
       "            (dense): Linear(in_features=3072, out_features=768, bias=True)\n",
       "            (LayerNorm): LayerNorm((768,), eps=1e-12, elementwise_affine=True)\n",
       "            (dropout): Dropout(p=0.1, inplace=False)\n",
       "            (adapters): ModuleDict(\n",
       "              (ner): Adapter(\n",
       "                (non_linearity): Activation_Function_Class(\n",
       "                  (f): GELUActivation()\n",
       "                )\n",
       "                (adapter_down): Sequential(\n",
       "                  (0): Linear(in_features=768, out_features=48, bias=True)\n",
       "                  (1): Activation_Function_Class(\n",
       "                    (f): GELUActivation()\n",
       "                  )\n",
       "                )\n",
       "                (adapter_up): Linear(in_features=48, out_features=768, bias=True)\n",
       "              )\n",
       "            )\n",
       "            (adapter_fusion_layer): ModuleDict()\n",
       "          )\n",
       "        )\n",
       "        (5): BertLayer(\n",
       "          (attention): BertAttention(\n",
       "            (self): BertSelfAttention(\n",
       "              (query): Linear(in_features=768, out_features=768, bias=True)\n",
       "              (key): Linear(in_features=768, out_features=768, bias=True)\n",
       "              (value): Linear(in_features=768, out_features=768, bias=True)\n",
       "              (dropout): Dropout(p=0.1, inplace=False)\n",
       "              (prefix_tuning): PrefixTuningShim(\n",
       "                (pool): PrefixTuningPool(\n",
       "                  (prefix_tunings): ModuleDict()\n",
       "                )\n",
       "              )\n",
       "            )\n",
       "            (output): BertSelfOutput(\n",
       "              (dense): Linear(in_features=768, out_features=768, bias=True)\n",
       "              (LayerNorm): LayerNorm((768,), eps=1e-12, elementwise_affine=True)\n",
       "              (dropout): Dropout(p=0.1, inplace=False)\n",
       "              (adapters): ModuleDict()\n",
       "              (adapter_fusion_layer): ModuleDict()\n",
       "            )\n",
       "          )\n",
       "          (intermediate): BertIntermediate(\n",
       "            (dense): Linear(in_features=768, out_features=3072, bias=True)\n",
       "            (intermediate_act_fn): GELUActivation()\n",
       "          )\n",
       "          (output): BertOutput(\n",
       "            (dense): Linear(in_features=3072, out_features=768, bias=True)\n",
       "            (LayerNorm): LayerNorm((768,), eps=1e-12, elementwise_affine=True)\n",
       "            (dropout): Dropout(p=0.1, inplace=False)\n",
       "            (adapters): ModuleDict(\n",
       "              (ner): Adapter(\n",
       "                (non_linearity): Activation_Function_Class(\n",
       "                  (f): GELUActivation()\n",
       "                )\n",
       "                (adapter_down): Sequential(\n",
       "                  (0): Linear(in_features=768, out_features=48, bias=True)\n",
       "                  (1): Activation_Function_Class(\n",
       "                    (f): GELUActivation()\n",
       "                  )\n",
       "                )\n",
       "                (adapter_up): Linear(in_features=48, out_features=768, bias=True)\n",
       "              )\n",
       "            )\n",
       "            (adapter_fusion_layer): ModuleDict()\n",
       "          )\n",
       "        )\n",
       "        (6): BertLayer(\n",
       "          (attention): BertAttention(\n",
       "            (self): BertSelfAttention(\n",
       "              (query): Linear(in_features=768, out_features=768, bias=True)\n",
       "              (key): Linear(in_features=768, out_features=768, bias=True)\n",
       "              (value): Linear(in_features=768, out_features=768, bias=True)\n",
       "              (dropout): Dropout(p=0.1, inplace=False)\n",
       "              (prefix_tuning): PrefixTuningShim(\n",
       "                (pool): PrefixTuningPool(\n",
       "                  (prefix_tunings): ModuleDict()\n",
       "                )\n",
       "              )\n",
       "            )\n",
       "            (output): BertSelfOutput(\n",
       "              (dense): Linear(in_features=768, out_features=768, bias=True)\n",
       "              (LayerNorm): LayerNorm((768,), eps=1e-12, elementwise_affine=True)\n",
       "              (dropout): Dropout(p=0.1, inplace=False)\n",
       "              (adapters): ModuleDict()\n",
       "              (adapter_fusion_layer): ModuleDict()\n",
       "            )\n",
       "          )\n",
       "          (intermediate): BertIntermediate(\n",
       "            (dense): Linear(in_features=768, out_features=3072, bias=True)\n",
       "            (intermediate_act_fn): GELUActivation()\n",
       "          )\n",
       "          (output): BertOutput(\n",
       "            (dense): Linear(in_features=3072, out_features=768, bias=True)\n",
       "            (LayerNorm): LayerNorm((768,), eps=1e-12, elementwise_affine=True)\n",
       "            (dropout): Dropout(p=0.1, inplace=False)\n",
       "            (adapters): ModuleDict(\n",
       "              (ner): Adapter(\n",
       "                (non_linearity): Activation_Function_Class(\n",
       "                  (f): GELUActivation()\n",
       "                )\n",
       "                (adapter_down): Sequential(\n",
       "                  (0): Linear(in_features=768, out_features=48, bias=True)\n",
       "                  (1): Activation_Function_Class(\n",
       "                    (f): GELUActivation()\n",
       "                  )\n",
       "                )\n",
       "                (adapter_up): Linear(in_features=48, out_features=768, bias=True)\n",
       "              )\n",
       "            )\n",
       "            (adapter_fusion_layer): ModuleDict()\n",
       "          )\n",
       "        )\n",
       "        (7): BertLayer(\n",
       "          (attention): BertAttention(\n",
       "            (self): BertSelfAttention(\n",
       "              (query): Linear(in_features=768, out_features=768, bias=True)\n",
       "              (key): Linear(in_features=768, out_features=768, bias=True)\n",
       "              (value): Linear(in_features=768, out_features=768, bias=True)\n",
       "              (dropout): Dropout(p=0.1, inplace=False)\n",
       "              (prefix_tuning): PrefixTuningShim(\n",
       "                (pool): PrefixTuningPool(\n",
       "                  (prefix_tunings): ModuleDict()\n",
       "                )\n",
       "              )\n",
       "            )\n",
       "            (output): BertSelfOutput(\n",
       "              (dense): Linear(in_features=768, out_features=768, bias=True)\n",
       "              (LayerNorm): LayerNorm((768,), eps=1e-12, elementwise_affine=True)\n",
       "              (dropout): Dropout(p=0.1, inplace=False)\n",
       "              (adapters): ModuleDict()\n",
       "              (adapter_fusion_layer): ModuleDict()\n",
       "            )\n",
       "          )\n",
       "          (intermediate): BertIntermediate(\n",
       "            (dense): Linear(in_features=768, out_features=3072, bias=True)\n",
       "            (intermediate_act_fn): GELUActivation()\n",
       "          )\n",
       "          (output): BertOutput(\n",
       "            (dense): Linear(in_features=3072, out_features=768, bias=True)\n",
       "            (LayerNorm): LayerNorm((768,), eps=1e-12, elementwise_affine=True)\n",
       "            (dropout): Dropout(p=0.1, inplace=False)\n",
       "            (adapters): ModuleDict(\n",
       "              (ner): Adapter(\n",
       "                (non_linearity): Activation_Function_Class(\n",
       "                  (f): GELUActivation()\n",
       "                )\n",
       "                (adapter_down): Sequential(\n",
       "                  (0): Linear(in_features=768, out_features=48, bias=True)\n",
       "                  (1): Activation_Function_Class(\n",
       "                    (f): GELUActivation()\n",
       "                  )\n",
       "                )\n",
       "                (adapter_up): Linear(in_features=48, out_features=768, bias=True)\n",
       "              )\n",
       "            )\n",
       "            (adapter_fusion_layer): ModuleDict()\n",
       "          )\n",
       "        )\n",
       "        (8): BertLayer(\n",
       "          (attention): BertAttention(\n",
       "            (self): BertSelfAttention(\n",
       "              (query): Linear(in_features=768, out_features=768, bias=True)\n",
       "              (key): Linear(in_features=768, out_features=768, bias=True)\n",
       "              (value): Linear(in_features=768, out_features=768, bias=True)\n",
       "              (dropout): Dropout(p=0.1, inplace=False)\n",
       "              (prefix_tuning): PrefixTuningShim(\n",
       "                (pool): PrefixTuningPool(\n",
       "                  (prefix_tunings): ModuleDict()\n",
       "                )\n",
       "              )\n",
       "            )\n",
       "            (output): BertSelfOutput(\n",
       "              (dense): Linear(in_features=768, out_features=768, bias=True)\n",
       "              (LayerNorm): LayerNorm((768,), eps=1e-12, elementwise_affine=True)\n",
       "              (dropout): Dropout(p=0.1, inplace=False)\n",
       "              (adapters): ModuleDict()\n",
       "              (adapter_fusion_layer): ModuleDict()\n",
       "            )\n",
       "          )\n",
       "          (intermediate): BertIntermediate(\n",
       "            (dense): Linear(in_features=768, out_features=3072, bias=True)\n",
       "            (intermediate_act_fn): GELUActivation()\n",
       "          )\n",
       "          (output): BertOutput(\n",
       "            (dense): Linear(in_features=3072, out_features=768, bias=True)\n",
       "            (LayerNorm): LayerNorm((768,), eps=1e-12, elementwise_affine=True)\n",
       "            (dropout): Dropout(p=0.1, inplace=False)\n",
       "            (adapters): ModuleDict(\n",
       "              (ner): Adapter(\n",
       "                (non_linearity): Activation_Function_Class(\n",
       "                  (f): GELUActivation()\n",
       "                )\n",
       "                (adapter_down): Sequential(\n",
       "                  (0): Linear(in_features=768, out_features=48, bias=True)\n",
       "                  (1): Activation_Function_Class(\n",
       "                    (f): GELUActivation()\n",
       "                  )\n",
       "                )\n",
       "                (adapter_up): Linear(in_features=48, out_features=768, bias=True)\n",
       "              )\n",
       "            )\n",
       "            (adapter_fusion_layer): ModuleDict()\n",
       "          )\n",
       "        )\n",
       "        (9): BertLayer(\n",
       "          (attention): BertAttention(\n",
       "            (self): BertSelfAttention(\n",
       "              (query): Linear(in_features=768, out_features=768, bias=True)\n",
       "              (key): Linear(in_features=768, out_features=768, bias=True)\n",
       "              (value): Linear(in_features=768, out_features=768, bias=True)\n",
       "              (dropout): Dropout(p=0.1, inplace=False)\n",
       "              (prefix_tuning): PrefixTuningShim(\n",
       "                (pool): PrefixTuningPool(\n",
       "                  (prefix_tunings): ModuleDict()\n",
       "                )\n",
       "              )\n",
       "            )\n",
       "            (output): BertSelfOutput(\n",
       "              (dense): Linear(in_features=768, out_features=768, bias=True)\n",
       "              (LayerNorm): LayerNorm((768,), eps=1e-12, elementwise_affine=True)\n",
       "              (dropout): Dropout(p=0.1, inplace=False)\n",
       "              (adapters): ModuleDict()\n",
       "              (adapter_fusion_layer): ModuleDict()\n",
       "            )\n",
       "          )\n",
       "          (intermediate): BertIntermediate(\n",
       "            (dense): Linear(in_features=768, out_features=3072, bias=True)\n",
       "            (intermediate_act_fn): GELUActivation()\n",
       "          )\n",
       "          (output): BertOutput(\n",
       "            (dense): Linear(in_features=3072, out_features=768, bias=True)\n",
       "            (LayerNorm): LayerNorm((768,), eps=1e-12, elementwise_affine=True)\n",
       "            (dropout): Dropout(p=0.1, inplace=False)\n",
       "            (adapters): ModuleDict(\n",
       "              (ner): Adapter(\n",
       "                (non_linearity): Activation_Function_Class(\n",
       "                  (f): GELUActivation()\n",
       "                )\n",
       "                (adapter_down): Sequential(\n",
       "                  (0): Linear(in_features=768, out_features=48, bias=True)\n",
       "                  (1): Activation_Function_Class(\n",
       "                    (f): GELUActivation()\n",
       "                  )\n",
       "                )\n",
       "                (adapter_up): Linear(in_features=48, out_features=768, bias=True)\n",
       "              )\n",
       "            )\n",
       "            (adapter_fusion_layer): ModuleDict()\n",
       "          )\n",
       "        )\n",
       "        (10): BertLayer(\n",
       "          (attention): BertAttention(\n",
       "            (self): BertSelfAttention(\n",
       "              (query): Linear(in_features=768, out_features=768, bias=True)\n",
       "              (key): Linear(in_features=768, out_features=768, bias=True)\n",
       "              (value): Linear(in_features=768, out_features=768, bias=True)\n",
       "              (dropout): Dropout(p=0.1, inplace=False)\n",
       "              (prefix_tuning): PrefixTuningShim(\n",
       "                (pool): PrefixTuningPool(\n",
       "                  (prefix_tunings): ModuleDict()\n",
       "                )\n",
       "              )\n",
       "            )\n",
       "            (output): BertSelfOutput(\n",
       "              (dense): Linear(in_features=768, out_features=768, bias=True)\n",
       "              (LayerNorm): LayerNorm((768,), eps=1e-12, elementwise_affine=True)\n",
       "              (dropout): Dropout(p=0.1, inplace=False)\n",
       "              (adapters): ModuleDict()\n",
       "              (adapter_fusion_layer): ModuleDict()\n",
       "            )\n",
       "          )\n",
       "          (intermediate): BertIntermediate(\n",
       "            (dense): Linear(in_features=768, out_features=3072, bias=True)\n",
       "            (intermediate_act_fn): GELUActivation()\n",
       "          )\n",
       "          (output): BertOutput(\n",
       "            (dense): Linear(in_features=3072, out_features=768, bias=True)\n",
       "            (LayerNorm): LayerNorm((768,), eps=1e-12, elementwise_affine=True)\n",
       "            (dropout): Dropout(p=0.1, inplace=False)\n",
       "            (adapters): ModuleDict(\n",
       "              (ner): Adapter(\n",
       "                (non_linearity): Activation_Function_Class(\n",
       "                  (f): GELUActivation()\n",
       "                )\n",
       "                (adapter_down): Sequential(\n",
       "                  (0): Linear(in_features=768, out_features=48, bias=True)\n",
       "                  (1): Activation_Function_Class(\n",
       "                    (f): GELUActivation()\n",
       "                  )\n",
       "                )\n",
       "                (adapter_up): Linear(in_features=48, out_features=768, bias=True)\n",
       "              )\n",
       "            )\n",
       "            (adapter_fusion_layer): ModuleDict()\n",
       "          )\n",
       "        )\n",
       "        (11): BertLayer(\n",
       "          (attention): BertAttention(\n",
       "            (self): BertSelfAttention(\n",
       "              (query): Linear(in_features=768, out_features=768, bias=True)\n",
       "              (key): Linear(in_features=768, out_features=768, bias=True)\n",
       "              (value): Linear(in_features=768, out_features=768, bias=True)\n",
       "              (dropout): Dropout(p=0.1, inplace=False)\n",
       "              (prefix_tuning): PrefixTuningShim(\n",
       "                (pool): PrefixTuningPool(\n",
       "                  (prefix_tunings): ModuleDict()\n",
       "                )\n",
       "              )\n",
       "            )\n",
       "            (output): BertSelfOutput(\n",
       "              (dense): Linear(in_features=768, out_features=768, bias=True)\n",
       "              (LayerNorm): LayerNorm((768,), eps=1e-12, elementwise_affine=True)\n",
       "              (dropout): Dropout(p=0.1, inplace=False)\n",
       "              (adapters): ModuleDict()\n",
       "              (adapter_fusion_layer): ModuleDict()\n",
       "            )\n",
       "          )\n",
       "          (intermediate): BertIntermediate(\n",
       "            (dense): Linear(in_features=768, out_features=3072, bias=True)\n",
       "            (intermediate_act_fn): GELUActivation()\n",
       "          )\n",
       "          (output): BertOutput(\n",
       "            (dense): Linear(in_features=3072, out_features=768, bias=True)\n",
       "            (LayerNorm): LayerNorm((768,), eps=1e-12, elementwise_affine=True)\n",
       "            (dropout): Dropout(p=0.1, inplace=False)\n",
       "            (adapters): ModuleDict()\n",
       "            (adapter_fusion_layer): ModuleDict()\n",
       "          )\n",
       "        )\n",
       "      )\n",
       "    )\n",
       "    (prefix_tuning): PrefixTuningPool(\n",
       "      (prefix_tunings): ModuleDict()\n",
       "    )\n",
       "  )\n",
       "  (dropout): Dropout(p=0.1, inplace=False)\n",
       "  (classifier): Linear(in_features=768, out_features=13, bias=True)\n",
       ")"
      ]
     },
     "execution_count": 166,
     "metadata": {},
     "output_type": "execute_result"
    }
   ],
   "source": [
    "model_ner"
   ]
  },
  {
   "cell_type": "markdown",
   "metadata": {},
   "source": [
    "#### Prediction"
   ]
  },
  {
   "cell_type": "code",
   "execution_count": 21,
   "metadata": {},
   "outputs": [],
   "source": [
    "from colorama import Fore, Back, Style"
   ]
  },
  {
   "cell_type": "code",
   "execution_count": 22,
   "metadata": {},
   "outputs": [],
   "source": [
    "# Fore: BLACK, RED, GREEN, YELLOW, BLUE, MAGENTA, CYAN, WHITE, RESET.\n",
    "# Back: BLACK, RED, GREEN, YELLOW, BLUE, MAGENTA, CYAN, WHITE, RESET.\n",
    "# Style: DIM, NORMAL, BRIGHT, RESET_ALL\n",
    "if dataset_name == \"lenerbr\":\n",
    "    color_map = {\n",
    "    0: 'WHITE',\n",
    "    1: 'CYAN',\n",
    "    2: 'CYAN',\n",
    "    3: 'BLUE',\n",
    "    4: 'BLUE',\n",
    "    5: 'YELLOW',\n",
    "    6: 'YELLOW',\n",
    "    7: 'MAGENTA',\n",
    "    8: 'MAGENTA',\n",
    "    9: 'RED',\n",
    "    10: 'RED',\n",
    "    11: 'GREEN',\n",
    "    12: 'GREEN'\n",
    "    }"
   ]
  },
  {
   "cell_type": "markdown",
   "metadata": {},
   "source": [
    "Get list of subwords by word in the text."
   ]
  },
  {
   "cell_type": "code",
   "execution_count": 23,
   "metadata": {},
   "outputs": [],
   "source": [
    "subwords_list = list()\n",
    "\n",
    "for text_dataset in texts_dataset:\n",
    "    tokens = tokenizer_ner.tokenize(text_dataset,return_tensors=\"pt\",add_special_tokens=False)\n",
    "\n",
    "    indices = list()\n",
    "    for i,token in enumerate(tokens):\n",
    "        if not token.startswith('##'):\n",
    "            indices.append(i)\n",
    "\n",
    "    subwords = list()\n",
    "    for i in range(len(indices)):\n",
    "        start = indices[i]\n",
    "\n",
    "        if i < len(indices) - 1:\n",
    "            end = indices[i+1]\n",
    "            subwords.append(list(range(start,end)))\n",
    "        else:\n",
    "            subwords.append([start])\n",
    "            \n",
    "    subwords_list.append(subwords)"
   ]
  },
  {
   "cell_type": "markdown",
   "metadata": {},
   "source": [
    "Get NER label for each subword."
   ]
  },
  {
   "cell_type": "code",
   "execution_count": 24,
   "metadata": {},
   "outputs": [
    {
     "ename": "TypeError",
     "evalue": "forward() got an unexpected keyword argument 'adapter_names'",
     "output_type": "error",
     "traceback": [
      "\u001b[0;31m---------------------------------------------------------------------------\u001b[0m",
      "\u001b[0;31mTypeError\u001b[0m                                 Traceback (most recent call last)",
      "\u001b[0;32m<ipython-input-24-9d128d7c8253>\u001b[0m in \u001b[0;36m<module>\u001b[0;34m\u001b[0m\n\u001b[1;32m      6\u001b[0m     \u001b[0mmodel_ner\u001b[0m\u001b[0;34m.\u001b[0m\u001b[0meval\u001b[0m\u001b[0;34m(\u001b[0m\u001b[0;34m)\u001b[0m\u001b[0;34m\u001b[0m\u001b[0;34m\u001b[0m\u001b[0m\n\u001b[1;32m      7\u001b[0m \u001b[0;34m\u001b[0m\u001b[0m\n\u001b[0;32m----> 8\u001b[0;31m     \u001b[0mpreds\u001b[0m \u001b[0;34m=\u001b[0m \u001b[0mmodel_ner\u001b[0m\u001b[0;34m(\u001b[0m\u001b[0mtokens\u001b[0m\u001b[0;34m,\u001b[0m \u001b[0madapter_names\u001b[0m\u001b[0;34m=\u001b[0m\u001b[0;34m[\u001b[0m\u001b[0;34m'ner'\u001b[0m\u001b[0;34m]\u001b[0m\u001b[0;34m)\u001b[0m\u001b[0;34m[\u001b[0m\u001b[0;36m0\u001b[0m\u001b[0;34m]\u001b[0m\u001b[0;34m\u001b[0m\u001b[0;34m\u001b[0m\u001b[0m\n\u001b[0m\u001b[1;32m      9\u001b[0m     \u001b[0mpreds\u001b[0m \u001b[0;34m=\u001b[0m \u001b[0mpreds\u001b[0m\u001b[0;34m.\u001b[0m\u001b[0mdetach\u001b[0m\u001b[0;34m(\u001b[0m\u001b[0;34m)\u001b[0m\u001b[0;34m.\u001b[0m\u001b[0mnumpy\u001b[0m\u001b[0;34m(\u001b[0m\u001b[0;34m)\u001b[0m\u001b[0;34m\u001b[0m\u001b[0;34m\u001b[0m\u001b[0m\n\u001b[1;32m     10\u001b[0m     \u001b[0mpreds\u001b[0m \u001b[0;34m=\u001b[0m \u001b[0mnp\u001b[0m\u001b[0;34m.\u001b[0m\u001b[0margmax\u001b[0m\u001b[0;34m(\u001b[0m\u001b[0mpreds\u001b[0m\u001b[0;34m,\u001b[0m \u001b[0maxis\u001b[0m\u001b[0;34m=\u001b[0m\u001b[0;36m2\u001b[0m\u001b[0;34m)\u001b[0m\u001b[0;34m\u001b[0m\u001b[0;34m\u001b[0m\u001b[0m\n",
      "\u001b[0;32m~/.local/lib/python3.8/site-packages/torch/nn/modules/module.py\u001b[0m in \u001b[0;36m_call_impl\u001b[0;34m(self, *input, **kwargs)\u001b[0m\n\u001b[1;32m   1100\u001b[0m         if not (self._backward_hooks or self._forward_hooks or self._forward_pre_hooks or _global_backward_hooks\n\u001b[1;32m   1101\u001b[0m                 or _global_forward_hooks or _global_forward_pre_hooks):\n\u001b[0;32m-> 1102\u001b[0;31m             \u001b[0;32mreturn\u001b[0m \u001b[0mforward_call\u001b[0m\u001b[0;34m(\u001b[0m\u001b[0;34m*\u001b[0m\u001b[0minput\u001b[0m\u001b[0;34m,\u001b[0m \u001b[0;34m**\u001b[0m\u001b[0mkwargs\u001b[0m\u001b[0;34m)\u001b[0m\u001b[0;34m\u001b[0m\u001b[0;34m\u001b[0m\u001b[0m\n\u001b[0m\u001b[1;32m   1103\u001b[0m         \u001b[0;31m# Do not call functions when jit is used\u001b[0m\u001b[0;34m\u001b[0m\u001b[0;34m\u001b[0m\u001b[0;34m\u001b[0m\u001b[0m\n\u001b[1;32m   1104\u001b[0m         \u001b[0mfull_backward_hooks\u001b[0m\u001b[0;34m,\u001b[0m \u001b[0mnon_full_backward_hooks\u001b[0m \u001b[0;34m=\u001b[0m \u001b[0;34m[\u001b[0m\u001b[0;34m]\u001b[0m\u001b[0;34m,\u001b[0m \u001b[0;34m[\u001b[0m\u001b[0;34m]\u001b[0m\u001b[0;34m\u001b[0m\u001b[0;34m\u001b[0m\u001b[0m\n",
      "\u001b[0;31mTypeError\u001b[0m: forward() got an unexpected keyword argument 'adapter_names'"
     ]
    }
   ],
   "source": [
    "tokens_list = list()\n",
    "preds_list = list()\n",
    "\n",
    "for text_dataset in texts_dataset:\n",
    "    tokens = tokenizer_ner.encode(text_dataset,return_tensors=\"pt\",add_special_tokens=False)\n",
    "    model_ner.eval()\n",
    "\n",
    "    preds = model_ner(tokens, adapter_names=['ner'])[0]\n",
    "    preds = preds.detach().numpy()\n",
    "    preds = np.argmax(preds, axis=2)\n",
    "\n",
    "    tokens, preds = tokenizer_ner.tokenize(text_dataset), preds[0].tolist()\n",
    "    tokens_list.append(tokens)\n",
    "    preds_list.append(preds)"
   ]
  },
  {
   "cell_type": "markdown",
   "metadata": {},
   "source": [
    "Get NER label for each word."
   ]
  },
  {
   "cell_type": "code",
   "execution_count": null,
   "metadata": {},
   "outputs": [],
   "source": [
    "words_label_list = list()\n",
    "for i,subwords in enumerate(subwords_list):\n",
    "    words_label = list()\n",
    "    for subword in subwords:\n",
    "        words_label.append((tokenizer_ner.convert_tokens_to_string([tokens_list[i][idx] for idx in subword]), preds_list[i][subword[0]]))\n",
    "    words_label_list.append(words_label)"
   ]
  },
  {
   "cell_type": "code",
   "execution_count": null,
   "metadata": {},
   "outputs": [],
   "source": [
    "groups_pred_list = list()\n",
    "\n",
    "for words_label in words_label_list:\n",
    "    groups_pred = dict()\n",
    "    group = ''\n",
    "    group_label = ''\n",
    "    pred_prec = ''\n",
    "\n",
    "    i = 0\n",
    "    for word, pred in words_label:\n",
    "        if pred == 0: \n",
    "            if len(group) > 0:\n",
    "                groups_pred[group] = group_label\n",
    "                group = ''\n",
    "                group_label = ''\n",
    "\n",
    "            groups_pred[word] = pred  \n",
    "\n",
    "        elif pred in [1,3,5,7,9,11,13,15]:\n",
    "            if pred_prec in [0,1,3,5,7,9,11,13,15] and len(group) > 0:\n",
    "                groups_pred[group] = group_label\n",
    "                group = ''\n",
    "                group_label = ''  \n",
    "            group = word\n",
    "            group_label = pred\n",
    "            pred_prec = pred\n",
    "\n",
    "        elif pred in [2,4,6,8,10,12,14,16]:\n",
    "\n",
    "            if len(group) > 0:\n",
    "                group += ' ' + word\n",
    "            else:\n",
    "                group = word\n",
    "                group_label = pred\n",
    "\n",
    "        if i == len(words_label) - 1 and len(group) > 0:\n",
    "            groups_pred[group] = group_label\n",
    "            group = ''\n",
    "            group_label = ''\n",
    "\n",
    "        i += 1\n",
    "    groups_pred_list.append(groups_pred)"
   ]
  },
  {
   "cell_type": "markdown",
   "metadata": {},
   "source": [
    "Get NER label for each group of words."
   ]
  },
  {
   "cell_type": "code",
   "execution_count": null,
   "metadata": {},
   "outputs": [],
   "source": [
    "for i,groups_pred in enumerate(groups_pred_list):\n",
    "    print(f'\\n********** EXEMPLO {i+1} **********\\n')\n",
    "    sentence_color = ''\n",
    "\n",
    "    count = 0\n",
    "    for word, pred in groups_pred.items():\n",
    "        COLORNAME = color_map[pred]\n",
    "        color_back = getattr(Back, COLORNAME)  \n",
    "\n",
    "        if pred == 0:\n",
    "            sentence_color += word + ' '\n",
    "        else:\n",
    "            sentence_color += Fore.BLACK + color_back +  word \\\n",
    "            + Fore.WHITE + Back.BLACK + ' (' + label_map[pred].replace('B-','').replace('I-','') + ')' \\\n",
    "            + Style.RESET_ALL + ' '\n",
    "    print(sentence_color)\n",
    "    print()\n",
    "    print('Text without Named Entities:\\n',texts_dataset[i])\n",
    "    if len(texts_labels[i]) > 0:\n",
    "        print('\\nNamed Entities of the text:\\n',texts_labels[i])"
   ]
  },
  {
   "cell_type": "markdown",
   "metadata": {},
   "source": [
    "We display an image of the precedent results in order to be visible in github."
   ]
  },
  {
   "cell_type": "markdown",
   "metadata": {},
   "source": [
    "![entities detected by our model NER](images/result_NER.png)"
   ]
  },
  {
   "cell_type": "markdown",
   "metadata": {},
   "source": [
    "# END"
   ]
  }
 ],
 "metadata": {
  "colab": {
   "collapsed_sections": [
    "n9qywopnIrJH",
    "545PP3o8IrJV",
    "7k8ge1L1IrJk"
   ],
   "name": "Token classification",
   "provenance": []
  },
  "kernelspec": {
   "display_name": "Python 3",
   "language": "python",
   "name": "python3"
  },
  "language_info": {
   "codemirror_mode": {
    "name": "ipython",
    "version": 3
   },
   "file_extension": ".py",
   "mimetype": "text/x-python",
   "name": "python",
   "nbconvert_exporter": "python",
   "pygments_lexer": "ipython3",
   "version": "3.8.8"
  },
  "widgets": {
   "application/vnd.jupyter.widget-state+json": {
    "051aa783ff9e47e28d1f9584043815f5": {
     "model_module": "@jupyter-widgets/base",
     "model_name": "LayoutModel",
     "state": {
      "_model_module": "@jupyter-widgets/base",
      "_model_module_version": "1.2.0",
      "_model_name": "LayoutModel",
      "_view_count": null,
      "_view_module": "@jupyter-widgets/base",
      "_view_module_version": "1.2.0",
      "_view_name": "LayoutView",
      "align_content": null,
      "align_items": null,
      "align_self": null,
      "border": null,
      "bottom": null,
      "display": null,
      "flex": null,
      "flex_flow": null,
      "grid_area": null,
      "grid_auto_columns": null,
      "grid_auto_flow": null,
      "grid_auto_rows": null,
      "grid_column": null,
      "grid_gap": null,
      "grid_row": null,
      "grid_template_areas": null,
      "grid_template_columns": null,
      "grid_template_rows": null,
      "height": null,
      "justify_content": null,
      "justify_items": null,
      "left": null,
      "margin": null,
      "max_height": null,
      "max_width": null,
      "min_height": null,
      "min_width": null,
      "object_fit": null,
      "object_position": null,
      "order": null,
      "overflow": null,
      "overflow_x": null,
      "overflow_y": null,
      "padding": null,
      "right": null,
      "top": null,
      "visibility": null,
      "width": null
     }
    },
    "0984b2a14115454bbb009df71c1cf36f": {
     "model_module": "@jupyter-widgets/controls",
     "model_name": "FloatProgressModel",
     "state": {
      "_dom_classes": [],
      "_model_module": "@jupyter-widgets/controls",
      "_model_module_version": "1.5.0",
      "_model_name": "FloatProgressModel",
      "_view_count": null,
      "_view_module": "@jupyter-widgets/controls",
      "_view_module_version": "1.5.0",
      "_view_name": "ProgressView",
      "bar_style": "info",
      "description": "",
      "description_tooltip": null,
      "layout": "IPY_MODEL_cbea68b25d6d4ba09b2ce0f27b1726d5",
      "max": 1,
      "min": 0,
      "orientation": "horizontal",
      "style": "IPY_MODEL_c9de740e007141958545e269372780a4",
      "value": 1
     }
    },
    "0b7c8f1939074794b3d9221244b1344d": {
     "model_module": "@jupyter-widgets/base",
     "model_name": "LayoutModel",
     "state": {
      "_model_module": "@jupyter-widgets/base",
      "_model_module_version": "1.2.0",
      "_model_name": "LayoutModel",
      "_view_count": null,
      "_view_module": "@jupyter-widgets/base",
      "_view_module_version": "1.2.0",
      "_view_name": "LayoutView",
      "align_content": null,
      "align_items": null,
      "align_self": null,
      "border": null,
      "bottom": null,
      "display": null,
      "flex": null,
      "flex_flow": null,
      "grid_area": null,
      "grid_auto_columns": null,
      "grid_auto_flow": null,
      "grid_auto_rows": null,
      "grid_column": null,
      "grid_gap": null,
      "grid_row": null,
      "grid_template_areas": null,
      "grid_template_columns": null,
      "grid_template_rows": null,
      "height": null,
      "justify_content": null,
      "justify_items": null,
      "left": null,
      "margin": null,
      "max_height": null,
      "max_width": null,
      "min_height": null,
      "min_width": null,
      "object_fit": null,
      "object_position": null,
      "order": null,
      "overflow": null,
      "overflow_x": null,
      "overflow_y": null,
      "padding": null,
      "right": null,
      "top": null,
      "visibility": null,
      "width": null
     }
    },
    "160bf88485f44f5cb6eaeecba5e0901f": {
     "model_module": "@jupyter-widgets/base",
     "model_name": "LayoutModel",
     "state": {
      "_model_module": "@jupyter-widgets/base",
      "_model_module_version": "1.2.0",
      "_model_name": "LayoutModel",
      "_view_count": null,
      "_view_module": "@jupyter-widgets/base",
      "_view_module_version": "1.2.0",
      "_view_name": "LayoutView",
      "align_content": null,
      "align_items": null,
      "align_self": null,
      "border": null,
      "bottom": null,
      "display": null,
      "flex": null,
      "flex_flow": null,
      "grid_area": null,
      "grid_auto_columns": null,
      "grid_auto_flow": null,
      "grid_auto_rows": null,
      "grid_column": null,
      "grid_gap": null,
      "grid_row": null,
      "grid_template_areas": null,
      "grid_template_columns": null,
      "grid_template_rows": null,
      "height": null,
      "justify_content": null,
      "justify_items": null,
      "left": null,
      "margin": null,
      "max_height": null,
      "max_width": null,
      "min_height": null,
      "min_width": null,
      "object_fit": null,
      "object_position": null,
      "order": null,
      "overflow": null,
      "overflow_x": null,
      "overflow_y": null,
      "padding": null,
      "right": null,
      "top": null,
      "visibility": null,
      "width": null
     }
    },
    "1a65887eb37747ddb75dc4a40f7285f2": {
     "model_module": "@jupyter-widgets/controls",
     "model_name": "FloatProgressModel",
     "state": {
      "_dom_classes": [],
      "_model_module": "@jupyter-widgets/controls",
      "_model_module_version": "1.5.0",
      "_model_name": "FloatProgressModel",
      "_view_count": null,
      "_view_module": "@jupyter-widgets/controls",
      "_view_module_version": "1.5.0",
      "_view_name": "ProgressView",
      "bar_style": "info",
      "description": "",
      "description_tooltip": null,
      "layout": "IPY_MODEL_aa781f0cfe454e9da5b53b93e9baabd8",
      "max": 1,
      "min": 0,
      "orientation": "horizontal",
      "style": "IPY_MODEL_50d325cdb9844f62a9ecc98e768cb5af",
      "value": 1
     }
    },
    "1aca01c1d8c940dfadd3e7144bb35718": {
     "model_module": "@jupyter-widgets/controls",
     "model_name": "FloatProgressModel",
     "state": {
      "_dom_classes": [],
      "_model_module": "@jupyter-widgets/controls",
      "_model_module_version": "1.5.0",
      "_model_name": "FloatProgressModel",
      "_view_count": null,
      "_view_module": "@jupyter-widgets/controls",
      "_view_module_version": "1.5.0",
      "_view_name": "ProgressView",
      "bar_style": "info",
      "description": "",
      "description_tooltip": null,
      "layout": "IPY_MODEL_940d00556cb849b3a689d56e274041c2",
      "max": 1,
      "min": 0,
      "orientation": "horizontal",
      "style": "IPY_MODEL_fea27ca6c9504fc896181bc1ff5730e5",
      "value": 1
     }
    },
    "2361ab124daf47cc885ff61f2899b2af": {
     "model_module": "@jupyter-widgets/base",
     "model_name": "LayoutModel",
     "state": {
      "_model_module": "@jupyter-widgets/base",
      "_model_module_version": "1.2.0",
      "_model_name": "LayoutModel",
      "_view_count": null,
      "_view_module": "@jupyter-widgets/base",
      "_view_module_version": "1.2.0",
      "_view_name": "LayoutView",
      "align_content": null,
      "align_items": null,
      "align_self": null,
      "border": null,
      "bottom": null,
      "display": null,
      "flex": null,
      "flex_flow": null,
      "grid_area": null,
      "grid_auto_columns": null,
      "grid_auto_flow": null,
      "grid_auto_rows": null,
      "grid_column": null,
      "grid_gap": null,
      "grid_row": null,
      "grid_template_areas": null,
      "grid_template_columns": null,
      "grid_template_rows": null,
      "height": null,
      "justify_content": null,
      "justify_items": null,
      "left": null,
      "margin": null,
      "max_height": null,
      "max_width": null,
      "min_height": null,
      "min_width": null,
      "object_fit": null,
      "object_position": null,
      "order": null,
      "overflow": null,
      "overflow_x": null,
      "overflow_y": null,
      "padding": null,
      "right": null,
      "top": null,
      "visibility": null,
      "width": null
     }
    },
    "299f4b4c07654e53a25f8192bd1d7bbd": {
     "model_module": "@jupyter-widgets/controls",
     "model_name": "ProgressStyleModel",
     "state": {
      "_model_module": "@jupyter-widgets/controls",
      "_model_module_version": "1.5.0",
      "_model_name": "ProgressStyleModel",
      "_view_count": null,
      "_view_module": "@jupyter-widgets/base",
      "_view_module_version": "1.2.0",
      "_view_name": "StyleView",
      "bar_color": null,
      "description_width": "initial"
     }
    },
    "2ace4dc78e2f4f1492a181bcd63304e7": {
     "model_module": "@jupyter-widgets/base",
     "model_name": "LayoutModel",
     "state": {
      "_model_module": "@jupyter-widgets/base",
      "_model_module_version": "1.2.0",
      "_model_name": "LayoutModel",
      "_view_count": null,
      "_view_module": "@jupyter-widgets/base",
      "_view_module_version": "1.2.0",
      "_view_name": "LayoutView",
      "align_content": null,
      "align_items": null,
      "align_self": null,
      "border": null,
      "bottom": null,
      "display": null,
      "flex": null,
      "flex_flow": null,
      "grid_area": null,
      "grid_auto_columns": null,
      "grid_auto_flow": null,
      "grid_auto_rows": null,
      "grid_column": null,
      "grid_gap": null,
      "grid_row": null,
      "grid_template_areas": null,
      "grid_template_columns": null,
      "grid_template_rows": null,
      "height": null,
      "justify_content": null,
      "justify_items": null,
      "left": null,
      "margin": null,
      "max_height": null,
      "max_width": null,
      "min_height": null,
      "min_width": null,
      "object_fit": null,
      "object_position": null,
      "order": null,
      "overflow": null,
      "overflow_x": null,
      "overflow_y": null,
      "padding": null,
      "right": null,
      "top": null,
      "visibility": null,
      "width": null
     }
    },
    "2b34de08115d49d285def9269a53f484": {
     "model_module": "@jupyter-widgets/base",
     "model_name": "LayoutModel",
     "state": {
      "_model_module": "@jupyter-widgets/base",
      "_model_module_version": "1.2.0",
      "_model_name": "LayoutModel",
      "_view_count": null,
      "_view_module": "@jupyter-widgets/base",
      "_view_module_version": "1.2.0",
      "_view_name": "LayoutView",
      "align_content": null,
      "align_items": null,
      "align_self": null,
      "border": null,
      "bottom": null,
      "display": null,
      "flex": null,
      "flex_flow": null,
      "grid_area": null,
      "grid_auto_columns": null,
      "grid_auto_flow": null,
      "grid_auto_rows": null,
      "grid_column": null,
      "grid_gap": null,
      "grid_row": null,
      "grid_template_areas": null,
      "grid_template_columns": null,
      "grid_template_rows": null,
      "height": null,
      "justify_content": null,
      "justify_items": null,
      "left": null,
      "margin": null,
      "max_height": null,
      "max_width": null,
      "min_height": null,
      "min_width": null,
      "object_fit": null,
      "object_position": null,
      "order": null,
      "overflow": null,
      "overflow_x": null,
      "overflow_y": null,
      "padding": null,
      "right": null,
      "top": null,
      "visibility": null,
      "width": null
     }
    },
    "2f5223f26c8541fc87e91d2205c39995": {
     "model_module": "@jupyter-widgets/base",
     "model_name": "LayoutModel",
     "state": {
      "_model_module": "@jupyter-widgets/base",
      "_model_module_version": "1.2.0",
      "_model_name": "LayoutModel",
      "_view_count": null,
      "_view_module": "@jupyter-widgets/base",
      "_view_module_version": "1.2.0",
      "_view_name": "LayoutView",
      "align_content": null,
      "align_items": null,
      "align_self": null,
      "border": null,
      "bottom": null,
      "display": null,
      "flex": null,
      "flex_flow": null,
      "grid_area": null,
      "grid_auto_columns": null,
      "grid_auto_flow": null,
      "grid_auto_rows": null,
      "grid_column": null,
      "grid_gap": null,
      "grid_row": null,
      "grid_template_areas": null,
      "grid_template_columns": null,
      "grid_template_rows": null,
      "height": null,
      "justify_content": null,
      "justify_items": null,
      "left": null,
      "margin": null,
      "max_height": null,
      "max_width": null,
      "min_height": null,
      "min_width": null,
      "object_fit": null,
      "object_position": null,
      "order": null,
      "overflow": null,
      "overflow_x": null,
      "overflow_y": null,
      "padding": null,
      "right": null,
      "top": null,
      "visibility": null,
      "width": null
     }
    },
    "31b1c8a2e3334b72b45b083688c1a20c": {
     "model_module": "@jupyter-widgets/controls",
     "model_name": "HTMLModel",
     "state": {
      "_dom_classes": [],
      "_model_module": "@jupyter-widgets/controls",
      "_model_module_version": "1.5.0",
      "_model_name": "HTMLModel",
      "_view_count": null,
      "_view_module": "@jupyter-widgets/controls",
      "_view_module_version": "1.5.0",
      "_view_name": "HTMLView",
      "description": "",
      "description_tooltip": null,
      "layout": "IPY_MODEL_2f5223f26c8541fc87e91d2205c39995",
      "placeholder": "​",
      "style": "IPY_MODEL_a71908883b064e1fbdddb547a8c41743",
      "value": " 4.39k/? [00:00&lt;00:00, 149kB/s]"
     }
    },
    "3c946e2260704e6c98593136bd32d921": {
     "model_module": "@jupyter-widgets/controls",
     "model_name": "HTMLModel",
     "state": {
      "_dom_classes": [],
      "_model_module": "@jupyter-widgets/controls",
      "_model_module_version": "1.5.0",
      "_model_name": "HTMLModel",
      "_view_count": null,
      "_view_module": "@jupyter-widgets/controls",
      "_view_module_version": "1.5.0",
      "_view_name": "HTMLView",
      "description": "",
      "description_tooltip": null,
      "layout": "IPY_MODEL_7e29a8b952cf4f4ea42833c8bf55342f",
      "placeholder": "​",
      "style": "IPY_MODEL_6bb68d3887ef43809eb23feb467f9723",
      "value": " 1063/0 [00:00&lt;00:00, 12337.52 examples/s]"
     }
    },
    "3f74532faa86412293d90d3952f38c4a": {
     "model_module": "@jupyter-widgets/base",
     "model_name": "LayoutModel",
     "state": {
      "_model_module": "@jupyter-widgets/base",
      "_model_module_version": "1.2.0",
      "_model_name": "LayoutModel",
      "_view_count": null,
      "_view_module": "@jupyter-widgets/base",
      "_view_module_version": "1.2.0",
      "_view_name": "LayoutView",
      "align_content": null,
      "align_items": null,
      "align_self": null,
      "border": null,
      "bottom": null,
      "display": null,
      "flex": null,
      "flex_flow": null,
      "grid_area": null,
      "grid_auto_columns": null,
      "grid_auto_flow": null,
      "grid_auto_rows": null,
      "grid_column": null,
      "grid_gap": null,
      "grid_row": null,
      "grid_template_areas": null,
      "grid_template_columns": null,
      "grid_template_rows": null,
      "height": null,
      "justify_content": null,
      "justify_items": null,
      "left": null,
      "margin": null,
      "max_height": null,
      "max_width": null,
      "min_height": null,
      "min_width": null,
      "object_fit": null,
      "object_position": null,
      "order": null,
      "overflow": null,
      "overflow_x": null,
      "overflow_y": null,
      "padding": null,
      "right": null,
      "top": null,
      "visibility": null,
      "width": null
     }
    },
    "46c2b043c0f84806978784a45a4e203b": {
     "model_module": "@jupyter-widgets/base",
     "model_name": "LayoutModel",
     "state": {
      "_model_module": "@jupyter-widgets/base",
      "_model_module_version": "1.2.0",
      "_model_name": "LayoutModel",
      "_view_count": null,
      "_view_module": "@jupyter-widgets/base",
      "_view_module_version": "1.2.0",
      "_view_name": "LayoutView",
      "align_content": null,
      "align_items": null,
      "align_self": null,
      "border": null,
      "bottom": null,
      "display": null,
      "flex": null,
      "flex_flow": null,
      "grid_area": null,
      "grid_auto_columns": null,
      "grid_auto_flow": null,
      "grid_auto_rows": null,
      "grid_column": null,
      "grid_gap": null,
      "grid_row": null,
      "grid_template_areas": null,
      "grid_template_columns": null,
      "grid_template_rows": null,
      "height": null,
      "justify_content": null,
      "justify_items": null,
      "left": null,
      "margin": null,
      "max_height": null,
      "max_width": null,
      "min_height": null,
      "min_width": null,
      "object_fit": null,
      "object_position": null,
      "order": null,
      "overflow": null,
      "overflow_x": null,
      "overflow_y": null,
      "padding": null,
      "right": null,
      "top": null,
      "visibility": null,
      "width": null
     }
    },
    "50615aa59c7247c4804ca5cbc7945bd7": {
     "model_module": "@jupyter-widgets/controls",
     "model_name": "FloatProgressModel",
     "state": {
      "_dom_classes": [],
      "_model_module": "@jupyter-widgets/controls",
      "_model_module_version": "1.5.0",
      "_model_name": "FloatProgressModel",
      "_view_count": null,
      "_view_module": "@jupyter-widgets/controls",
      "_view_module_version": "1.5.0",
      "_view_name": "ProgressView",
      "bar_style": "success",
      "description": "Downloading: ",
      "description_tooltip": null,
      "layout": "IPY_MODEL_ad04ed1038154081bbb0c1444784dcc2",
      "max": 7826,
      "min": 0,
      "orientation": "horizontal",
      "style": "IPY_MODEL_299f4b4c07654e53a25f8192bd1d7bbd",
      "value": 7826
     }
    },
    "50d325cdb9844f62a9ecc98e768cb5af": {
     "model_module": "@jupyter-widgets/controls",
     "model_name": "ProgressStyleModel",
     "state": {
      "_model_module": "@jupyter-widgets/controls",
      "_model_module_version": "1.5.0",
      "_model_name": "ProgressStyleModel",
      "_view_count": null,
      "_view_module": "@jupyter-widgets/base",
      "_view_module_version": "1.2.0",
      "_view_name": "StyleView",
      "bar_color": null,
      "description_width": "initial"
     }
    },
    "5781fc45cf8d486cb06ed68853b2c644": {
     "model_module": "@jupyter-widgets/controls",
     "model_name": "DescriptionStyleModel",
     "state": {
      "_model_module": "@jupyter-widgets/controls",
      "_model_module_version": "1.5.0",
      "_model_name": "DescriptionStyleModel",
      "_view_count": null,
      "_view_module": "@jupyter-widgets/base",
      "_view_module_version": "1.2.0",
      "_view_name": "StyleView",
      "description_width": ""
     }
    },
    "5cdf9ed939fb42d4bf77301c80b8afca": {
     "model_module": "@jupyter-widgets/controls",
     "model_name": "DescriptionStyleModel",
     "state": {
      "_model_module": "@jupyter-widgets/controls",
      "_model_module_version": "1.5.0",
      "_model_name": "DescriptionStyleModel",
      "_view_count": null,
      "_view_module": "@jupyter-widgets/base",
      "_view_module_version": "1.2.0",
      "_view_name": "StyleView",
      "description_width": ""
     }
    },
    "5fa26fc336274073abbd1d550542ee33": {
     "model_module": "@jupyter-widgets/controls",
     "model_name": "DescriptionStyleModel",
     "state": {
      "_model_module": "@jupyter-widgets/controls",
      "_model_module_version": "1.5.0",
      "_model_name": "DescriptionStyleModel",
      "_view_count": null,
      "_view_module": "@jupyter-widgets/base",
      "_view_module_version": "1.2.0",
      "_view_name": "StyleView",
      "description_width": ""
     }
    },
    "69caab03d6264fef9fc5649bffff5e20": {
     "model_module": "@jupyter-widgets/controls",
     "model_name": "HBoxModel",
     "state": {
      "_dom_classes": [],
      "_model_module": "@jupyter-widgets/controls",
      "_model_module_version": "1.5.0",
      "_model_name": "HBoxModel",
      "_view_count": null,
      "_view_module": "@jupyter-widgets/controls",
      "_view_module_version": "1.5.0",
      "_view_name": "HBoxView",
      "box_style": "",
      "children": [
       "IPY_MODEL_50615aa59c7247c4804ca5cbc7945bd7",
       "IPY_MODEL_fe962391292a413ca55dc932c4279fa7"
      ],
      "layout": "IPY_MODEL_3f74532faa86412293d90d3952f38c4a"
     }
    },
    "6bb68d3887ef43809eb23feb467f9723": {
     "model_module": "@jupyter-widgets/controls",
     "model_name": "DescriptionStyleModel",
     "state": {
      "_model_module": "@jupyter-widgets/controls",
      "_model_module_version": "1.5.0",
      "_model_name": "DescriptionStyleModel",
      "_view_count": null,
      "_view_module": "@jupyter-widgets/base",
      "_view_module_version": "1.2.0",
      "_view_name": "StyleView",
      "description_width": ""
     }
    },
    "6c1db72efff5476e842c1386fadbbdba": {
     "model_module": "@jupyter-widgets/controls",
     "model_name": "HTMLModel",
     "state": {
      "_dom_classes": [],
      "_model_module": "@jupyter-widgets/controls",
      "_model_module_version": "1.5.0",
      "_model_name": "HTMLModel",
      "_view_count": null,
      "_view_module": "@jupyter-widgets/controls",
      "_view_module_version": "1.5.0",
      "_view_name": "HTMLView",
      "description": "",
      "description_tooltip": null,
      "layout": "IPY_MODEL_2b34de08115d49d285def9269a53f484",
      "placeholder": "​",
      "style": "IPY_MODEL_5fa26fc336274073abbd1d550542ee33",
      "value": " 28.7k/? [00:00&lt;00:00, 571kB/s]"
     }
    },
    "745c0d47d672477b9bb0dae77b926364": {
     "model_module": "@jupyter-widgets/controls",
     "model_name": "FloatProgressModel",
     "state": {
      "_dom_classes": [],
      "_model_module": "@jupyter-widgets/controls",
      "_model_module_version": "1.5.0",
      "_model_name": "FloatProgressModel",
      "_view_count": null,
      "_view_module": "@jupyter-widgets/controls",
      "_view_module_version": "1.5.0",
      "_view_name": "ProgressView",
      "bar_style": "success",
      "description": "Downloading: 100%",
      "description_tooltip": null,
      "layout": "IPY_MODEL_a7204ade36314c86907c562e0a2158b8",
      "max": 376971,
      "min": 0,
      "orientation": "horizontal",
      "style": "IPY_MODEL_d298eb19eeff453cba51c2804629d3f4",
      "value": 376971
     }
    },
    "75103f83538d44abada79b51a1cec09e": {
     "model_module": "@jupyter-widgets/base",
     "model_name": "LayoutModel",
     "state": {
      "_model_module": "@jupyter-widgets/base",
      "_model_module_version": "1.2.0",
      "_model_name": "LayoutModel",
      "_view_count": null,
      "_view_module": "@jupyter-widgets/base",
      "_view_module_version": "1.2.0",
      "_view_name": "LayoutView",
      "align_content": null,
      "align_items": null,
      "align_self": null,
      "border": null,
      "bottom": null,
      "display": null,
      "flex": null,
      "flex_flow": null,
      "grid_area": null,
      "grid_auto_columns": null,
      "grid_auto_flow": null,
      "grid_auto_rows": null,
      "grid_column": null,
      "grid_gap": null,
      "grid_row": null,
      "grid_template_areas": null,
      "grid_template_columns": null,
      "grid_template_rows": null,
      "height": null,
      "justify_content": null,
      "justify_items": null,
      "left": null,
      "margin": null,
      "max_height": null,
      "max_width": null,
      "min_height": null,
      "min_width": null,
      "object_fit": null,
      "object_position": null,
      "order": null,
      "overflow": null,
      "overflow_x": null,
      "overflow_y": null,
      "padding": null,
      "right": null,
      "top": null,
      "visibility": null,
      "width": null
     }
    },
    "7c667ad22b5740d5a6319f1b1e3a8097": {
     "model_module": "@jupyter-widgets/controls",
     "model_name": "DescriptionStyleModel",
     "state": {
      "_model_module": "@jupyter-widgets/controls",
      "_model_module_version": "1.5.0",
      "_model_name": "DescriptionStyleModel",
      "_view_count": null,
      "_view_module": "@jupyter-widgets/base",
      "_view_module_version": "1.2.0",
      "_view_name": "StyleView",
      "description_width": ""
     }
    },
    "7e29a8b952cf4f4ea42833c8bf55342f": {
     "model_module": "@jupyter-widgets/base",
     "model_name": "LayoutModel",
     "state": {
      "_model_module": "@jupyter-widgets/base",
      "_model_module_version": "1.2.0",
      "_model_name": "LayoutModel",
      "_view_count": null,
      "_view_module": "@jupyter-widgets/base",
      "_view_module_version": "1.2.0",
      "_view_name": "LayoutView",
      "align_content": null,
      "align_items": null,
      "align_self": null,
      "border": null,
      "bottom": null,
      "display": null,
      "flex": null,
      "flex_flow": null,
      "grid_area": null,
      "grid_auto_columns": null,
      "grid_auto_flow": null,
      "grid_auto_rows": null,
      "grid_column": null,
      "grid_gap": null,
      "grid_row": null,
      "grid_template_areas": null,
      "grid_template_columns": null,
      "grid_template_rows": null,
      "height": null,
      "justify_content": null,
      "justify_items": null,
      "left": null,
      "margin": null,
      "max_height": null,
      "max_width": null,
      "min_height": null,
      "min_width": null,
      "object_fit": null,
      "object_position": null,
      "order": null,
      "overflow": null,
      "overflow_x": null,
      "overflow_y": null,
      "padding": null,
      "right": null,
      "top": null,
      "visibility": null,
      "width": null
     }
    },
    "7fb7c36adc624f7dbbcb4a831c1e4f63": {
     "model_module": "@jupyter-widgets/controls",
     "model_name": "ProgressStyleModel",
     "state": {
      "_model_module": "@jupyter-widgets/controls",
      "_model_module_version": "1.5.0",
      "_model_name": "ProgressStyleModel",
      "_view_count": null,
      "_view_module": "@jupyter-widgets/base",
      "_view_module_version": "1.2.0",
      "_view_name": "StyleView",
      "bar_color": null,
      "description_width": "initial"
     }
    },
    "80e2943be35f46eeb24c8ab13faa6578": {
     "model_module": "@jupyter-widgets/controls",
     "model_name": "HBoxModel",
     "state": {
      "_dom_classes": [],
      "_model_module": "@jupyter-widgets/controls",
      "_model_module_version": "1.5.0",
      "_model_name": "HBoxModel",
      "_view_count": null,
      "_view_module": "@jupyter-widgets/controls",
      "_view_module_version": "1.5.0",
      "_view_name": "HBoxView",
      "box_style": "",
      "children": [
       "IPY_MODEL_931db1f7a42f4b46b7ff8c2e1262b994",
       "IPY_MODEL_6c1db72efff5476e842c1386fadbbdba"
      ],
      "layout": "IPY_MODEL_de5956b5008d4fdba807bae57509c393"
     }
    },
    "8ab9dfce29854049912178941ef1b289": {
     "model_module": "@jupyter-widgets/controls",
     "model_name": "HTMLModel",
     "state": {
      "_dom_classes": [],
      "_model_module": "@jupyter-widgets/controls",
      "_model_module_version": "1.5.0",
      "_model_name": "HTMLModel",
      "_view_count": null,
      "_view_module": "@jupyter-widgets/controls",
      "_view_module_version": "1.5.0",
      "_view_name": "HTMLView",
      "description": "",
      "description_tooltip": null,
      "layout": "IPY_MODEL_d2a92143a08a4951b55bab9bc0a6d0d3",
      "placeholder": "​",
      "style": "IPY_MODEL_5781fc45cf8d486cb06ed68853b2c644",
      "value": " 8551/0 [00:00&lt;00:00, 25108.88 examples/s]"
     }
    },
    "931db1f7a42f4b46b7ff8c2e1262b994": {
     "model_module": "@jupyter-widgets/controls",
     "model_name": "FloatProgressModel",
     "state": {
      "_dom_classes": [],
      "_model_module": "@jupyter-widgets/controls",
      "_model_module_version": "1.5.0",
      "_model_name": "FloatProgressModel",
      "_view_count": null,
      "_view_module": "@jupyter-widgets/controls",
      "_view_module_version": "1.5.0",
      "_view_name": "ProgressView",
      "bar_style": "success",
      "description": "Downloading: ",
      "description_tooltip": null,
      "layout": "IPY_MODEL_d30a66df5c0145e79693e09789d96b81",
      "max": 4473,
      "min": 0,
      "orientation": "horizontal",
      "style": "IPY_MODEL_ccd2f37647c547abb4c719b75a26f2de",
      "value": 4473
     }
    },
    "940d00556cb849b3a689d56e274041c2": {
     "model_module": "@jupyter-widgets/base",
     "model_name": "LayoutModel",
     "state": {
      "_model_module": "@jupyter-widgets/base",
      "_model_module_version": "1.2.0",
      "_model_name": "LayoutModel",
      "_view_count": null,
      "_view_module": "@jupyter-widgets/base",
      "_view_module_version": "1.2.0",
      "_view_name": "LayoutView",
      "align_content": null,
      "align_items": null,
      "align_self": null,
      "border": null,
      "bottom": null,
      "display": null,
      "flex": null,
      "flex_flow": null,
      "grid_area": null,
      "grid_auto_columns": null,
      "grid_auto_flow": null,
      "grid_auto_rows": null,
      "grid_column": null,
      "grid_gap": null,
      "grid_row": null,
      "grid_template_areas": null,
      "grid_template_columns": null,
      "grid_template_rows": null,
      "height": null,
      "justify_content": null,
      "justify_items": null,
      "left": null,
      "margin": null,
      "max_height": null,
      "max_width": null,
      "min_height": null,
      "min_width": null,
      "object_fit": null,
      "object_position": null,
      "order": null,
      "overflow": null,
      "overflow_x": null,
      "overflow_y": null,
      "padding": null,
      "right": null,
      "top": null,
      "visibility": null,
      "width": null
     }
    },
    "94b39ccfef0b4b08bf2fb61bb0a657c1": {
     "model_module": "@jupyter-widgets/base",
     "model_name": "LayoutModel",
     "state": {
      "_model_module": "@jupyter-widgets/base",
      "_model_module_version": "1.2.0",
      "_model_name": "LayoutModel",
      "_view_count": null,
      "_view_module": "@jupyter-widgets/base",
      "_view_module_version": "1.2.0",
      "_view_name": "LayoutView",
      "align_content": null,
      "align_items": null,
      "align_self": null,
      "border": null,
      "bottom": null,
      "display": null,
      "flex": null,
      "flex_flow": null,
      "grid_area": null,
      "grid_auto_columns": null,
      "grid_auto_flow": null,
      "grid_auto_rows": null,
      "grid_column": null,
      "grid_gap": null,
      "grid_row": null,
      "grid_template_areas": null,
      "grid_template_columns": null,
      "grid_template_rows": null,
      "height": null,
      "justify_content": null,
      "justify_items": null,
      "left": null,
      "margin": null,
      "max_height": null,
      "max_width": null,
      "min_height": null,
      "min_width": null,
      "object_fit": null,
      "object_position": null,
      "order": null,
      "overflow": null,
      "overflow_x": null,
      "overflow_y": null,
      "padding": null,
      "right": null,
      "top": null,
      "visibility": null,
      "width": null
     }
    },
    "9a55087c85b74ea08b3e952ac1d73cbe": {
     "model_module": "@jupyter-widgets/controls",
     "model_name": "HBoxModel",
     "state": {
      "_dom_classes": [],
      "_model_module": "@jupyter-widgets/controls",
      "_model_module_version": "1.5.0",
      "_model_name": "HBoxModel",
      "_view_count": null,
      "_view_module": "@jupyter-widgets/controls",
      "_view_module_version": "1.5.0",
      "_view_name": "HBoxView",
      "box_style": "",
      "children": [
       "IPY_MODEL_1a65887eb37747ddb75dc4a40f7285f2",
       "IPY_MODEL_3c946e2260704e6c98593136bd32d921"
      ],
      "layout": "IPY_MODEL_2361ab124daf47cc885ff61f2899b2af"
     }
    },
    "9fbbaae50e6743f2aa19342152398186": {
     "model_module": "@jupyter-widgets/controls",
     "model_name": "HTMLModel",
     "state": {
      "_dom_classes": [],
      "_model_module": "@jupyter-widgets/controls",
      "_model_module_version": "1.5.0",
      "_model_name": "HTMLModel",
      "_view_count": null,
      "_view_module": "@jupyter-widgets/controls",
      "_view_module_version": "1.5.0",
      "_view_name": "HTMLView",
      "description": "",
      "description_tooltip": null,
      "layout": "IPY_MODEL_94b39ccfef0b4b08bf2fb61bb0a657c1",
      "placeholder": "​",
      "style": "IPY_MODEL_5cdf9ed939fb42d4bf77301c80b8afca",
      "value": " 1043/0 [00:00&lt;00:00, 13590.50 examples/s]"
     }
    },
    "a14c3e40e5254d61ba146f6ec88eae25": {
     "model_module": "@jupyter-widgets/controls",
     "model_name": "HBoxModel",
     "state": {
      "_dom_classes": [],
      "_model_module": "@jupyter-widgets/controls",
      "_model_module_version": "1.5.0",
      "_model_name": "HBoxModel",
      "_view_count": null,
      "_view_module": "@jupyter-widgets/controls",
      "_view_module_version": "1.5.0",
      "_view_name": "HBoxView",
      "box_style": "",
      "children": [
       "IPY_MODEL_1aca01c1d8c940dfadd3e7144bb35718",
       "IPY_MODEL_9fbbaae50e6743f2aa19342152398186"
      ],
      "layout": "IPY_MODEL_c4ffe6f624ce4e978a0d9b864544941a"
     }
    },
    "a71908883b064e1fbdddb547a8c41743": {
     "model_module": "@jupyter-widgets/controls",
     "model_name": "DescriptionStyleModel",
     "state": {
      "_model_module": "@jupyter-widgets/controls",
      "_model_module_version": "1.5.0",
      "_model_name": "DescriptionStyleModel",
      "_view_count": null,
      "_view_module": "@jupyter-widgets/base",
      "_view_module_version": "1.2.0",
      "_view_name": "StyleView",
      "description_width": ""
     }
    },
    "a7204ade36314c86907c562e0a2158b8": {
     "model_module": "@jupyter-widgets/base",
     "model_name": "LayoutModel",
     "state": {
      "_model_module": "@jupyter-widgets/base",
      "_model_module_version": "1.2.0",
      "_model_name": "LayoutModel",
      "_view_count": null,
      "_view_module": "@jupyter-widgets/base",
      "_view_module_version": "1.2.0",
      "_view_name": "LayoutView",
      "align_content": null,
      "align_items": null,
      "align_self": null,
      "border": null,
      "bottom": null,
      "display": null,
      "flex": null,
      "flex_flow": null,
      "grid_area": null,
      "grid_auto_columns": null,
      "grid_auto_flow": null,
      "grid_auto_rows": null,
      "grid_column": null,
      "grid_gap": null,
      "grid_row": null,
      "grid_template_areas": null,
      "grid_template_columns": null,
      "grid_template_rows": null,
      "height": null,
      "justify_content": null,
      "justify_items": null,
      "left": null,
      "margin": null,
      "max_height": null,
      "max_width": null,
      "min_height": null,
      "min_width": null,
      "object_fit": null,
      "object_position": null,
      "order": null,
      "overflow": null,
      "overflow_x": null,
      "overflow_y": null,
      "padding": null,
      "right": null,
      "top": null,
      "visibility": null,
      "width": null
     }
    },
    "aa781f0cfe454e9da5b53b93e9baabd8": {
     "model_module": "@jupyter-widgets/base",
     "model_name": "LayoutModel",
     "state": {
      "_model_module": "@jupyter-widgets/base",
      "_model_module_version": "1.2.0",
      "_model_name": "LayoutModel",
      "_view_count": null,
      "_view_module": "@jupyter-widgets/base",
      "_view_module_version": "1.2.0",
      "_view_name": "LayoutView",
      "align_content": null,
      "align_items": null,
      "align_self": null,
      "border": null,
      "bottom": null,
      "display": null,
      "flex": null,
      "flex_flow": null,
      "grid_area": null,
      "grid_auto_columns": null,
      "grid_auto_flow": null,
      "grid_auto_rows": null,
      "grid_column": null,
      "grid_gap": null,
      "grid_row": null,
      "grid_template_areas": null,
      "grid_template_columns": null,
      "grid_template_rows": null,
      "height": null,
      "justify_content": null,
      "justify_items": null,
      "left": null,
      "margin": null,
      "max_height": null,
      "max_width": null,
      "min_height": null,
      "min_width": null,
      "object_fit": null,
      "object_position": null,
      "order": null,
      "overflow": null,
      "overflow_x": null,
      "overflow_y": null,
      "padding": null,
      "right": null,
      "top": null,
      "visibility": null,
      "width": null
     }
    },
    "ad04ed1038154081bbb0c1444784dcc2": {
     "model_module": "@jupyter-widgets/base",
     "model_name": "LayoutModel",
     "state": {
      "_model_module": "@jupyter-widgets/base",
      "_model_module_version": "1.2.0",
      "_model_name": "LayoutModel",
      "_view_count": null,
      "_view_module": "@jupyter-widgets/base",
      "_view_module_version": "1.2.0",
      "_view_name": "LayoutView",
      "align_content": null,
      "align_items": null,
      "align_self": null,
      "border": null,
      "bottom": null,
      "display": null,
      "flex": null,
      "flex_flow": null,
      "grid_area": null,
      "grid_auto_columns": null,
      "grid_auto_flow": null,
      "grid_auto_rows": null,
      "grid_column": null,
      "grid_gap": null,
      "grid_row": null,
      "grid_template_areas": null,
      "grid_template_columns": null,
      "grid_template_rows": null,
      "height": null,
      "justify_content": null,
      "justify_items": null,
      "left": null,
      "margin": null,
      "max_height": null,
      "max_width": null,
      "min_height": null,
      "min_width": null,
      "object_fit": null,
      "object_position": null,
      "order": null,
      "overflow": null,
      "overflow_x": null,
      "overflow_y": null,
      "padding": null,
      "right": null,
      "top": null,
      "visibility": null,
      "width": null
     }
    },
    "bbee008c2791443d8610371d1f16b62b": {
     "model_module": "@jupyter-widgets/controls",
     "model_name": "FloatProgressModel",
     "state": {
      "_dom_classes": [],
      "_model_module": "@jupyter-widgets/controls",
      "_model_module_version": "1.5.0",
      "_model_name": "FloatProgressModel",
      "_view_count": null,
      "_view_module": "@jupyter-widgets/controls",
      "_view_module_version": "1.5.0",
      "_view_name": "ProgressView",
      "bar_style": "success",
      "description": "Downloading: ",
      "description_tooltip": null,
      "layout": "IPY_MODEL_0b7c8f1939074794b3d9221244b1344d",
      "max": 1586,
      "min": 0,
      "orientation": "horizontal",
      "style": "IPY_MODEL_7fb7c36adc624f7dbbcb4a831c1e4f63",
      "value": 1586
     }
    },
    "c4ffe6f624ce4e978a0d9b864544941a": {
     "model_module": "@jupyter-widgets/base",
     "model_name": "LayoutModel",
     "state": {
      "_model_module": "@jupyter-widgets/base",
      "_model_module_version": "1.2.0",
      "_model_name": "LayoutModel",
      "_view_count": null,
      "_view_module": "@jupyter-widgets/base",
      "_view_module_version": "1.2.0",
      "_view_name": "LayoutView",
      "align_content": null,
      "align_items": null,
      "align_self": null,
      "border": null,
      "bottom": null,
      "display": null,
      "flex": null,
      "flex_flow": null,
      "grid_area": null,
      "grid_auto_columns": null,
      "grid_auto_flow": null,
      "grid_auto_rows": null,
      "grid_column": null,
      "grid_gap": null,
      "grid_row": null,
      "grid_template_areas": null,
      "grid_template_columns": null,
      "grid_template_rows": null,
      "height": null,
      "justify_content": null,
      "justify_items": null,
      "left": null,
      "margin": null,
      "max_height": null,
      "max_width": null,
      "min_height": null,
      "min_width": null,
      "object_fit": null,
      "object_position": null,
      "order": null,
      "overflow": null,
      "overflow_x": null,
      "overflow_y": null,
      "padding": null,
      "right": null,
      "top": null,
      "visibility": null,
      "width": null
     }
    },
    "c9de740e007141958545e269372780a4": {
     "model_module": "@jupyter-widgets/controls",
     "model_name": "ProgressStyleModel",
     "state": {
      "_model_module": "@jupyter-widgets/controls",
      "_model_module_version": "1.5.0",
      "_model_name": "ProgressStyleModel",
      "_view_count": null,
      "_view_module": "@jupyter-widgets/base",
      "_view_module_version": "1.2.0",
      "_view_name": "StyleView",
      "bar_color": null,
      "description_width": "initial"
     }
    },
    "cbea68b25d6d4ba09b2ce0f27b1726d5": {
     "model_module": "@jupyter-widgets/base",
     "model_name": "LayoutModel",
     "state": {
      "_model_module": "@jupyter-widgets/base",
      "_model_module_version": "1.2.0",
      "_model_name": "LayoutModel",
      "_view_count": null,
      "_view_module": "@jupyter-widgets/base",
      "_view_module_version": "1.2.0",
      "_view_name": "LayoutView",
      "align_content": null,
      "align_items": null,
      "align_self": null,
      "border": null,
      "bottom": null,
      "display": null,
      "flex": null,
      "flex_flow": null,
      "grid_area": null,
      "grid_auto_columns": null,
      "grid_auto_flow": null,
      "grid_auto_rows": null,
      "grid_column": null,
      "grid_gap": null,
      "grid_row": null,
      "grid_template_areas": null,
      "grid_template_columns": null,
      "grid_template_rows": null,
      "height": null,
      "justify_content": null,
      "justify_items": null,
      "left": null,
      "margin": null,
      "max_height": null,
      "max_width": null,
      "min_height": null,
      "min_width": null,
      "object_fit": null,
      "object_position": null,
      "order": null,
      "overflow": null,
      "overflow_x": null,
      "overflow_y": null,
      "padding": null,
      "right": null,
      "top": null,
      "visibility": null,
      "width": null
     }
    },
    "ccd2f37647c547abb4c719b75a26f2de": {
     "model_module": "@jupyter-widgets/controls",
     "model_name": "ProgressStyleModel",
     "state": {
      "_model_module": "@jupyter-widgets/controls",
      "_model_module_version": "1.5.0",
      "_model_name": "ProgressStyleModel",
      "_view_count": null,
      "_view_module": "@jupyter-widgets/base",
      "_view_module_version": "1.2.0",
      "_view_name": "StyleView",
      "bar_color": null,
      "description_width": "initial"
     }
    },
    "d22ab78269cd4ccfbcf70c707057c31b": {
     "model_module": "@jupyter-widgets/controls",
     "model_name": "HTMLModel",
     "state": {
      "_dom_classes": [],
      "_model_module": "@jupyter-widgets/controls",
      "_model_module_version": "1.5.0",
      "_model_name": "HTMLModel",
      "_view_count": null,
      "_view_module": "@jupyter-widgets/controls",
      "_view_module_version": "1.5.0",
      "_view_name": "HTMLView",
      "description": "",
      "description_tooltip": null,
      "layout": "IPY_MODEL_75103f83538d44abada79b51a1cec09e",
      "placeholder": "​",
      "style": "IPY_MODEL_e35d42b2d352498ca3fc8530393786b2",
      "value": " 377k/377k [00:00&lt;00:00, 703kB/s]"
     }
    },
    "d298eb19eeff453cba51c2804629d3f4": {
     "model_module": "@jupyter-widgets/controls",
     "model_name": "ProgressStyleModel",
     "state": {
      "_model_module": "@jupyter-widgets/controls",
      "_model_module_version": "1.5.0",
      "_model_name": "ProgressStyleModel",
      "_view_count": null,
      "_view_module": "@jupyter-widgets/base",
      "_view_module_version": "1.2.0",
      "_view_name": "StyleView",
      "bar_color": null,
      "description_width": "initial"
     }
    },
    "d2a92143a08a4951b55bab9bc0a6d0d3": {
     "model_module": "@jupyter-widgets/base",
     "model_name": "LayoutModel",
     "state": {
      "_model_module": "@jupyter-widgets/base",
      "_model_module_version": "1.2.0",
      "_model_name": "LayoutModel",
      "_view_count": null,
      "_view_module": "@jupyter-widgets/base",
      "_view_module_version": "1.2.0",
      "_view_name": "LayoutView",
      "align_content": null,
      "align_items": null,
      "align_self": null,
      "border": null,
      "bottom": null,
      "display": null,
      "flex": null,
      "flex_flow": null,
      "grid_area": null,
      "grid_auto_columns": null,
      "grid_auto_flow": null,
      "grid_auto_rows": null,
      "grid_column": null,
      "grid_gap": null,
      "grid_row": null,
      "grid_template_areas": null,
      "grid_template_columns": null,
      "grid_template_rows": null,
      "height": null,
      "justify_content": null,
      "justify_items": null,
      "left": null,
      "margin": null,
      "max_height": null,
      "max_width": null,
      "min_height": null,
      "min_width": null,
      "object_fit": null,
      "object_position": null,
      "order": null,
      "overflow": null,
      "overflow_x": null,
      "overflow_y": null,
      "padding": null,
      "right": null,
      "top": null,
      "visibility": null,
      "width": null
     }
    },
    "d30a66df5c0145e79693e09789d96b81": {
     "model_module": "@jupyter-widgets/base",
     "model_name": "LayoutModel",
     "state": {
      "_model_module": "@jupyter-widgets/base",
      "_model_module_version": "1.2.0",
      "_model_name": "LayoutModel",
      "_view_count": null,
      "_view_module": "@jupyter-widgets/base",
      "_view_module_version": "1.2.0",
      "_view_name": "LayoutView",
      "align_content": null,
      "align_items": null,
      "align_self": null,
      "border": null,
      "bottom": null,
      "display": null,
      "flex": null,
      "flex_flow": null,
      "grid_area": null,
      "grid_auto_columns": null,
      "grid_auto_flow": null,
      "grid_auto_rows": null,
      "grid_column": null,
      "grid_gap": null,
      "grid_row": null,
      "grid_template_areas": null,
      "grid_template_columns": null,
      "grid_template_rows": null,
      "height": null,
      "justify_content": null,
      "justify_items": null,
      "left": null,
      "margin": null,
      "max_height": null,
      "max_width": null,
      "min_height": null,
      "min_width": null,
      "object_fit": null,
      "object_position": null,
      "order": null,
      "overflow": null,
      "overflow_x": null,
      "overflow_y": null,
      "padding": null,
      "right": null,
      "top": null,
      "visibility": null,
      "width": null
     }
    },
    "d426be871b424affb455aeb7db5e822e": {
     "model_module": "@jupyter-widgets/controls",
     "model_name": "HBoxModel",
     "state": {
      "_dom_classes": [],
      "_model_module": "@jupyter-widgets/controls",
      "_model_module_version": "1.5.0",
      "_model_name": "HBoxModel",
      "_view_count": null,
      "_view_module": "@jupyter-widgets/controls",
      "_view_module_version": "1.5.0",
      "_view_name": "HBoxView",
      "box_style": "",
      "children": [
       "IPY_MODEL_745c0d47d672477b9bb0dae77b926364",
       "IPY_MODEL_d22ab78269cd4ccfbcf70c707057c31b"
      ],
      "layout": "IPY_MODEL_160bf88485f44f5cb6eaeecba5e0901f"
     }
    },
    "dd5997d01d8947e4b1c211433969b89b": {
     "model_module": "@jupyter-widgets/controls",
     "model_name": "HBoxModel",
     "state": {
      "_dom_classes": [],
      "_model_module": "@jupyter-widgets/controls",
      "_model_module_version": "1.5.0",
      "_model_name": "HBoxModel",
      "_view_count": null,
      "_view_module": "@jupyter-widgets/controls",
      "_view_module_version": "1.5.0",
      "_view_name": "HBoxView",
      "box_style": "",
      "children": [
       "IPY_MODEL_bbee008c2791443d8610371d1f16b62b",
       "IPY_MODEL_31b1c8a2e3334b72b45b083688c1a20c"
      ],
      "layout": "IPY_MODEL_2ace4dc78e2f4f1492a181bcd63304e7"
     }
    },
    "de5956b5008d4fdba807bae57509c393": {
     "model_module": "@jupyter-widgets/base",
     "model_name": "LayoutModel",
     "state": {
      "_model_module": "@jupyter-widgets/base",
      "_model_module_version": "1.2.0",
      "_model_name": "LayoutModel",
      "_view_count": null,
      "_view_module": "@jupyter-widgets/base",
      "_view_module_version": "1.2.0",
      "_view_name": "LayoutView",
      "align_content": null,
      "align_items": null,
      "align_self": null,
      "border": null,
      "bottom": null,
      "display": null,
      "flex": null,
      "flex_flow": null,
      "grid_area": null,
      "grid_auto_columns": null,
      "grid_auto_flow": null,
      "grid_auto_rows": null,
      "grid_column": null,
      "grid_gap": null,
      "grid_row": null,
      "grid_template_areas": null,
      "grid_template_columns": null,
      "grid_template_rows": null,
      "height": null,
      "justify_content": null,
      "justify_items": null,
      "left": null,
      "margin": null,
      "max_height": null,
      "max_width": null,
      "min_height": null,
      "min_width": null,
      "object_fit": null,
      "object_position": null,
      "order": null,
      "overflow": null,
      "overflow_x": null,
      "overflow_y": null,
      "padding": null,
      "right": null,
      "top": null,
      "visibility": null,
      "width": null
     }
    },
    "e35d42b2d352498ca3fc8530393786b2": {
     "model_module": "@jupyter-widgets/controls",
     "model_name": "DescriptionStyleModel",
     "state": {
      "_model_module": "@jupyter-widgets/controls",
      "_model_module_version": "1.5.0",
      "_model_name": "DescriptionStyleModel",
      "_view_count": null,
      "_view_module": "@jupyter-widgets/base",
      "_view_module_version": "1.2.0",
      "_view_name": "StyleView",
      "description_width": ""
     }
    },
    "f6253931d90543e9b5fd0bb2d615f73a": {
     "model_module": "@jupyter-widgets/controls",
     "model_name": "HBoxModel",
     "state": {
      "_dom_classes": [],
      "_model_module": "@jupyter-widgets/controls",
      "_model_module_version": "1.5.0",
      "_model_name": "HBoxModel",
      "_view_count": null,
      "_view_module": "@jupyter-widgets/controls",
      "_view_module_version": "1.5.0",
      "_view_name": "HBoxView",
      "box_style": "",
      "children": [
       "IPY_MODEL_0984b2a14115454bbb009df71c1cf36f",
       "IPY_MODEL_8ab9dfce29854049912178941ef1b289"
      ],
      "layout": "IPY_MODEL_051aa783ff9e47e28d1f9584043815f5"
     }
    },
    "fe962391292a413ca55dc932c4279fa7": {
     "model_module": "@jupyter-widgets/controls",
     "model_name": "HTMLModel",
     "state": {
      "_dom_classes": [],
      "_model_module": "@jupyter-widgets/controls",
      "_model_module_version": "1.5.0",
      "_model_name": "HTMLModel",
      "_view_count": null,
      "_view_module": "@jupyter-widgets/controls",
      "_view_module_version": "1.5.0",
      "_view_name": "HTMLView",
      "description": "",
      "description_tooltip": null,
      "layout": "IPY_MODEL_46c2b043c0f84806978784a45a4e203b",
      "placeholder": "​",
      "style": "IPY_MODEL_7c667ad22b5740d5a6319f1b1e3a8097",
      "value": " 28.7k/? [00:00&lt;00:00, 652kB/s]"
     }
    },
    "fea27ca6c9504fc896181bc1ff5730e5": {
     "model_module": "@jupyter-widgets/controls",
     "model_name": "ProgressStyleModel",
     "state": {
      "_model_module": "@jupyter-widgets/controls",
      "_model_module_version": "1.5.0",
      "_model_name": "ProgressStyleModel",
      "_view_count": null,
      "_view_module": "@jupyter-widgets/base",
      "_view_module_version": "1.2.0",
      "_view_name": "StyleView",
      "bar_color": null,
      "description_width": "initial"
     }
    }
   }
  }
 },
 "nbformat": 4,
 "nbformat_minor": 1
}
