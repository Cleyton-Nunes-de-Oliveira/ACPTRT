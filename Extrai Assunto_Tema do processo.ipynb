{
 "cells": [
  {
   "cell_type": "code",
   "execution_count": null,
   "id": "d3423163",
   "metadata": {},
   "outputs": [],
   "source": []
  },
  {
   "cell_type": "code",
   "execution_count": null,
   "id": "d68eb536",
   "metadata": {},
   "outputs": [],
   "source": []
  },
  {
   "cell_type": "code",
   "execution_count": null,
   "id": "6945eb2b",
   "metadata": {},
   "outputs": [],
   "source": [
    "# Usar Perguntas (Wh Questions) e Respostas na Secção Relatorio para capturar o Assunto/Tema"
   ]
  },
  {
   "cell_type": "code",
   "execution_count": 24,
   "id": "e04e1677",
   "metadata": {},
   "outputs": [],
   "source": [
    "import pandas as pd\n",
    "df = pd.read_csv(\"/home/info/MyNotebooks/Datasets/SentencasTRT1/PDFs/Processed/Dataframe/raw_data.csv\")"
   ]
  },
  {
   "cell_type": "code",
   "execution_count": 39,
   "id": "3204e7de",
   "metadata": {},
   "outputs": [
    {
     "data": {
      "text/plain": [
       "'  Trata-se de Reclamação Trabalhista ajuizada por DANIEL DA SILVA SOUZA DE ALMEIDA em face de ESPACO CIDADANIA E OPORTUNIDADES SOCIAIS e UNIVERSIDADE FEDERAL FLUMINENSE, na qual informa que manteve vínculo empregatício com a 1º reclamada, prestando serviços para a 2º reclamada, no período, função e remuneração descritas na exordial, postulando títulos e cifras ali informada. Dá a causa o valor de R$ 30.994,56. Junta documentos.  Devidamente notificada, a 1º reclamada não compareceu  audiência em que deveria apresentar defesa e prestar depoimento. A 2º reclamada comparece e apresenta defesa e documentos, pugnando pela improcedência dos pleitos.  Depoimento da parte autora. Sem mais provas, foi encerrada a instrução processual, com razões finais remissivas pelo reclamante e 2º reclamada e prejudicadas a da 1º reclamada. Infrutíferas as tentativas conciliatórias.  Êo relatório'"
      ]
     },
     "execution_count": 39,
     "metadata": {},
     "output_type": "execute_result"
    }
   ],
   "source": [
    "i = 0\n",
    "textoRel = df['relatorio'][i]\n",
    "textoRel"
   ]
  },
  {
   "cell_type": "code",
   "execution_count": 40,
   "id": "110839ae",
   "metadata": {},
   "outputs": [
    {
     "data": {
      "text/plain": [
       "'Isto posto, declaro a responsabilidade subsidiaria da 2º rés, quanto aos inadimplementos das obrigacoes trabalhistas da 1a re.  DA JUSTIÇA GRATUITA  Com a edição da Lei 13.467/2017, houve modificação quanto ao deferimento da Justiça Gratuita na Justiça do Trabalho. Se antes, pela Lei 5584/70, era beneficiário todo aquele que perceber salário igual ou inferior ao dobro do mínimo legal, e possibilitando ainda âqueles com salário maior o benefício, desde que provada a sua situação financeira (art. 14). Hoje, com a reforma, esse benefício somente será aproveitado para aqueles que perceberem salário igual ou inferior a 40% (quarenta por cento) do limite máximo dos benefícios do Regime Geral de Previdência Social (43º do art. 790) combinando-se com o $ 400 benefício da justiça gratuita será concedido  parte que comprovar insuficiência de recursos para o pagamento das custas do processo.  No caso dos autos, o reclamante recebe remuneração em valor inferior a 40% do RGPS, razão pela qual defiro os benefícios da Justiça Gratuita.  DOS HONORÁRIOS ADVOCATÍCIOS  Na forma do caput e do 82º e 3º do art. 791-A da CLT, inserido pela Lei 13. 467/2017, julgo procedentes os honorários advocatícios no importe de 10% sobre o valor da condenação em prol do patrono da parte reclamante, obtido após a liquidação.  Devidos os honorários advocatícios no importe de 10% sobre os valores dos pedidos julgados improcedentes em desfavor do reclamante e em favor dos patronos da reclamada, proporcionalmente. Neste caso, considerando que o reclamante é beneficiário da Justiça Gratuita e a decisão do E. TRT1 nos autos do processo 0102282-40.2018.5.01.0000 (ArglIncCiv), ficando o crédito suspenso, na forma do art. 791-A, 8 4º, da CLT.  DOS PARÂMETROS DE LIQUIDAÇÃO DOS JUROS E CORREÇÃO MONETÁRIA Em relação aos juros e correção monetária, deverá ser observado o decidido no julgamento das ADCs 58 E 59 e ADls 5.867 e 6.021, finalizado pelo STF em 18/12/2020, in verbis:  Ante o exposto, julgo parcialmente procedentes as ações diretas de inconstitucionalidade e as ações declaratórias de constitucionalidade, para conferir interpretação  conforme  Constituição ao art. 879, $7º, e ao art. 899, 44º, da CLT, na redação dada pela Lei 13.467, de 2017. Nesse sentido, há de se considerar que  atualização dos créditos decorrentes de condenação judicial e  correção dos depósitos recursais em contas judiciais na Justiça do Trabalho deverão ser aplicados, até que sobrevenha solução legislativa, os mesmos índices de correção monetária e de juros vigentes para as hipóteses de condenações cíveis em geral, quais sejam a incidência do IPCA-E na fase prejudicial e, a partir da citação, a incidência da taxa SELIC (art. 406 do Código Civil).  O ministro relator fixou ainda os seguintes marcos jurídicos (modulação):   Todos aqueles pagamentos realizados utilizando a TR, IPCA-E ou qualquer outro índice, no tempo e modo oportuno de forma judicial ou extrajudicial, inclusive os depósitos judiciais e juros de mora de 1% ao mês, são reputados válidos e não ensejarão qualquer rediscussão;- Aos processos em curso que estejam sobrestados ou em fase de conhecimento, independentemente de estarem com ou sem sentença, devem ter aplicação de forma retroativa da taxa Selic.  DOS RECOLHIMENTOS FISCAIS E PREVIDENCIÁRIOS  Recolhimentos fiscais, observado o regime de competência mês a mês, na forma das Leis 8.541/92, 12.350/10 e INRFB 1127/11 e recolhimentos previdenciários observados o art. 876, parágrafo único, da CLT, art. 28 da lei 8212/91 e art. 276, 84, Dec. 3048/99, bem como a Súmula 368 do TST e OJ 363 da SDI-1 do TST.    Diante do exposto, decide este Juízo, JULGAR PARCIALMENTE PROCEDENTES os pedidos formulados por DANIEL DA SILVA SOUZA DE ALMEIDA para condenar ESPACO CIDADANIA E OPORTUNIDADES SOCIAIS e, subsidiariamente, UNIVERSIDADE FEDERAL FLUMINENSE, a pagar, no prazo legal, os seguintes títulos, limitados ao postulado (art. 141 e 492 do CPC/15):  - 13º salário proporcional de 2018 e integral de 2019.  - depósito do FGTS do mês de agosto de 2019;  - multa do art. 477 da CLT  - salários de julho a novembro de 2019. Deduza-se, por outro lado, os depósitos feitos na conta do reclamante de ID. cbd0390 e ID. eb91294, observando-se o mês do pagamento, evitando-se o recebimento em dobro.  - indenização por danos morais a quantia de R$ 2.000,00.  - honorários advocatícios no importe de 10% sobre o valor da condenação em prol do patrono da parte reclamante, obtido após a liquidação.  Devidos os honorários advocatícios no importe de 10% sobre os valores dos pedidos julgados improcedentes em desfavor do reclamante e em favor dos patronos da reclamada, proporcionalmente. Neste caso, considerando que o reclamante é beneficiário da  Justiça Gratuita e a decisão do E. TRT1 nos autos do processo 0102282-40.2018.5.01.0000 (ArglIncCiv), ficando o crédito suspenso, na forma do art. 791-A, 8 4º, da CLT.  Defiro os benefícios da Justiça Gratuita  parte autora.  Custas processuais no importe de R$ 100,00, a cargo da 1º reclamada, incidente sobre R$ 5.000,00, valor da condenação.  INTIMEM-SE AS PARTES. NADA MAIS.  VOLTA REDONDA/RJ, 05 de janeiro de 2022.  THIAGO RABELO DA COSTA Juiz do Trabalho Substituto '"
      ]
     },
     "execution_count": 40,
     "metadata": {},
     "output_type": "execute_result"
    }
   ],
   "source": [
    "textoDisp = df['dispositivo'][i]\n",
    "textoDisp"
   ]
  },
  {
   "cell_type": "code",
   "execution_count": 61,
   "id": "f705d45d",
   "metadata": {},
   "outputs": [
    {
     "data": {
      "text/plain": [
       "'PODER JUDICIÁRIO  JUSTIÇA DO TRABALHO  TRIBUNAL REGIONAL DO TRABALHO DA 12 REGIÃO  12 Vara do Trabalho de Volta Redonda  ATOrd 0101099-10.2020.5.01.0341  RECLAMANTE: DANIEL DA SILVA SOUZA DE ALMEIDA RECLAMADO: ESPACO CIDADANIA E OPORTUNIDADES SOCIAIS, UNIVERSIDADE FEDERAL FLUMINENSE  RELATÓRIO  Trata-se de Reclamação Trabalhista ajuizada por DANIEL DA SILVA SOUZA DE ALMEIDA em face de ESPACO CIDADANIA E OPORTUNIDADES SOCIAIS e UNIVERSIDADE FEDERAL FLUMINENSE, na qual informa que manteve vínculo empregatício com a 1º reclamada, prestando serviços para a 2º reclamada, no período, função e remuneração descritas na exordial, postulando títulos e cifras ali informada. Dá a causa o valor de R$ 30.994,56. Junta documentos.  Devidamente notificada, a 1º reclamada não compareceu  audiência em que deveria apresentar defesa e prestar depoimento. A 2º reclamada comparece e apresenta defesa e documentos, pugnando pela improcedência dos pleitos.  Depoimento da parte autora. Sem mais provas, foi encerrada a instrução processual, com razões finais remissivas pelo reclamante e 2º reclamada e prejudicadas a da 1º reclamada. Infrutíferas as tentativas conciliatórias.  Êo relatório.  DA INCOMPETÊNCIA MATERIAL NA JUSTIÇA DO TRABALHO  Possuindo a relacao juridica em questão nítida natureza trabalhista, de contrato de trabalho nao com ente publico, mas sim, com a 1º reclamada (pessoa juridica de direito privado), competente e a Justica do Trabalho para apreciar a pretensao (art. 114 da CRFB/88). Rejeito.  DA INÉPCIA DA INICIAL  Considerando que o Direito Processual do Trabalho é regido pelos princípios da informalidade e da simplicidade, na forma do artigo 840, 8 1º, da CLT, não verifico qualquer hipótese de inépcia, na forma do art. 330, 8 1º, do CPC/2015, uma vez que presentes os pedidos, compatíveis entre si, causa de pedir e nexo lógico entre os fatos e os pleitos formulados. Rejeito.  DA ILEGITIMIDADE PASSIVA  A legitimidade ad causam deve ser entendida como a pertinência  subjetiva da demanda, analisada de forma abstrata,  luz da teoria da asserção. No caso em comento, a parte reclamante alega que laborou para segunda reclamada, como tomadora de seus serviços, motivo pelo qual é suficiente para figurar no polo passivo da lide. Ademais, a verificação de existência de responsabilidade ou não é questão de mérito, que será analisada em momento oportuno. Rejeito.  DO MÉRITO DA NULIDADE DO CONTRATO POR PRAZO DETERMINADO  Em sua inicial, o reclamante afirma que foi contratado para o exercício de trabalho por prazo determinado, sendo que inicialmente seu contrato teria início de vigência em 03/09/2018 e término em 02/10/2018. Diz que o contrato teve como fundamento a Lei 9.601/98, mas que não houve norma coletiva que fundamentasse o mencionado enlace. Informa que o pacto laboral findou em 18/12/2019. Postula a nulidade e pagamento das verbas rescisórias com base no fim do pacto sem justa causa.  Segundo a defesa, o reclamante foi contratado para desempenhar as funções de Agente 01, em 03.09.2018, através do contrato de trabalho por prazo determinado regido pela Lei nº 9601/1998, devidamente formalizado e anotado na CTPS do obreiro, por ocasião da contratação e que a extinção do enlace se deu em 18.12.2019.  Pois bem.  Segundo a Lei 9.601/98, As convenções e os acordos coletivos de trabalho poderão instituir contrato de trabalho por prazo determinado, de que trata o art. 443 da Consolidação das Leis do Trabalho - CLT, independentemente das condições estabelecidas em seu $ 2º, em qualquer atividade desenvolvida pela empresa ou estabelecimento, para admissões que representem acréscimo no número de empregados.  Assim, necessário avaliar se há norma coletiva que contenha a previsão deste contrato por prazo determinado.  Noto que a reclamada junta aos autos ACT (ID. 74a8Bfe9 e ID. 3efecfe) que autorizam a contratação por prazo determinado, nos moldes da Lei.  Acresça-se que o art. 1º, parágrafo segundo da Lei 9.601/98, constitucional, conforme ADI 1765 do STF, estabelece que os requisitos do art. 451 da CLT são prescindíveis nesta modalidade especial empregatícia. Neste sentido, houve previsao de prorrogacao automatica, na clausula 6? do contrato a prazo determinado, desde que cumprido o periodo maximo de dois anos (art. 445 da CLT).  Válido o contrato por prazo determinado. Improcedente o aviso prévio e indenização de 40% do FGTS% e o seguro desemprego.  DAS DEMAIS VERBAS RESCISÓRIAS  Em relação ao 13º salário, o reclamante afirma que não os recebeu (2018 e 2019). Não há juntada de qualquer recibo salarial do 13º salário, razão pela qual julgo  procedente o pleito, condenando a reclamada ao pagamento do 13º salário proporcional de 2018 e integral de 2019.  Em relação ao FGTS dos meses de agosto e novembro de 2019, noto pelo extrato analítico que houve o depósito (em atraso do mês de novembro), restando apenas o depósito do FGTS do mês de agosto de 2019 (ID. c0f9655), que ora julgo procedente.  Em relação  multa do art. 477 da CLT, observa-se que ante o não pagamento do 13º salário de 2019, houve inadimplemento das verbas rescisórias, razão pela qual entendo pela procedência da multa do art. 477 da CLT.  Em relação  multa do art. 467 da CLT, considerando a lide controvertida, entendo pela improcedência.  DOS SALÁRIOS  Diz o reclamante que não recebeu salários desde julho de 2019, pleiteando o seu pagamento.  Em defesa, a reclamada afirma que o reclamante recebeu o salário correspondente  julho de 2019 em 03.09.2019, o salário correspondente  setembro de 2019 em 21.08.2020, também no mesmo dia 27.08.2020 foi quitado o salário de outubro de 2019 e o salário de novembro de 2019 foi depositado em 21.08.2020.  Pela defesa, nota-se que há verdadeira confusão nos pagamentos. Não há recibo de salários, estranho ainda a informação de que o reclamante recebeu o salário de novembro em agosto de 2018.  Segundo o art. 464 da CLT, o pagamento dos salários se comprova mediante recibo, ônus do qual não se desincumbiu a reclamada.  Diante disso, condeno a ré ao pagamento dos salários de julho a novembro de 2019 (considerando que o mês de dezembro foi quitado no TRCT). Deduza- se, por outro lado, os depósitos feitos na conta do reclamante de ID. cbd0390 e ID. eb91294, observando-se o mês do pagamento, evitando-se o recebimento em dobro.  DOS DANOS MORAIS. CTPS RETIDA E NÃO PAGAMENTO DAS VERBAS RESCISÓRIAS E SALÁRIOS NÃO PAGOS  Em relação  CTPS retida, entendo que o reclamante não fez qualquer prova nesse sentido, ônus que lhe incumbia. No que tange ao não pagamento das verbas rescisórias, como se viu acima, houve apenas o não pagamento do 13º salário, sendo certo que ha decisão neste E. TRT1 no sentido que o não pagamento das verbas rescisórias não gera indenização por danos morais.  Por outro lado, noto que não houve o pagamento de salários ou estes foram pagos com atraso, conforme se definiu acima.  Sobre o assunto, segue decisão do C. TST, publicado no Informativo 91  de 2014:  Dano moral. Atraso reiterado no pagamento de salários. Indenização devida. Dano in re ipsa. O atraso reiterado no pagamento dos salários configura dano moral in re ipsa, ou seja, presume-se a lesão ao direito de personalidade do trabalhador, pois gera estado permanente de apreensão no empregado, que se vê impossibilitado de honrar seus compromissos financeiros e de prover suas necessidades básicas. No caso concreto, o reclamante teve seus salários atrasados por cinco ou seis meses, período em que também não recebeu vale-alimentação nem vale-transporte. Ademais, por ocasião de sua dispensa, não recebeu as verbas rescisórias devidas. Assim, por unanimidade, a SBDlI-I, conheceu dos embargos interpostos pelo reclamante, por divergência jurisprudencial, e, no mérito, por maioria, deu-lhes provimento para restabelecer o acórdão do Regional, o qual manteve a sentença que condenou os reclamados ao pagamento de indenizaçã o por dando morais. Ressalvou a fundamentação o Ministro Aloysio Corrêa da Veiga. Vencidos os Ministros Renato de Lacerda Paiva, Ives Gandra Martins Filho e Guilherme Augusto Caputo Bastos. TST-E-RR-577900- 83.2009.5.09.0010, SBDI-I, rel. Min. Márcio Eurico Vitral Amaro, 9.10.2014  Ademais, qualquer conduta que venha a suprimir ou reduzir tal direito do trabalhador é passível de reparação jurídica, até porque a Carta Magna assegura o direito  imagem e a horra (art. 5º, Ve X, CF/88).  Écediço que a reparação dos danos morais encontra arrimo na Ordem Constitucional Vigente, especificamente no artigo 5º, Ve X, da CF/88, isto decorre porque a Carta Magna põe a dignidade da pessoa humana como fundamentos do Estado Democrático de Direito (art. 1º, III).  Urge aduzir que o dano moral não necessita de prova quanto  sua configuração, haja vista que emerge do simples fato da violação (damnum in re ipsa), não necessitando da prova material do sofrimento, diminuição de estima ou coisa parecida.  Nessa senda, levando-se em consideração o caráter didático- pedagógico-punitivo da condenação, bem como os novos parâmetros traçados pela reforma trabalhista no art. 223-G: a natureza do bem jurídico tutelado; a intensidade do sofrimento ou da humilhação; a possibilidade de superação física ou psicológica; os reflexos pessoais e sociais da ação ou da omissão; a extensão e a duração dos efeitos da ofensa; as condições em que ocorreu a ofensa ou o prejuízo moral; o grau de dolo ou culpa; a ocorrência de retratação espontânea; o esforço efetivo para minimizar a ofensa; o perdão, tácito ou expresso; a situação  social e econômica das partes envolvidas; bem como o princípio da proporcionalidade e da razoabilidade, entendo que a lesão é de natureza leve e fixo a indenização por danos morais  a quantia de R$ 2.000,00.  DA RESPONSABILIDADE SUBSIDIÁRIA  Afirma o autor na petição inicial que a 2º reclamada e a União firmaram convênio para implementação do Programa Esporte e Lazer da Cidade (PELC), com vistas a atender s necessidades de esporte recreativo e lazer da população, criado pela Secretaria Nacional de Desenvolvimento de Esporte e de Lazer (SNDEL), vinculada ao Ministério do Esporte. Requer a condenação subsidiária da segunda ré.  A UFF afirma que existe diferença entre a Terceirização Administrativa e Terceirização Trabalhista. A Terceirização Administrativa consistiria na atribuição a um Terceiro, não componente da Administração Pública, de atividade de caráter Administrativo pelo instituto da delegação de serviços que são tomados pela sociedade , que inclui a Concessão e a Permissão de Serviço Público a particulares e também as entidades de colaboração com a Administração Pública, como é o caso das Organizações Sociais-OSs e Organizações Civis de Interesse Público-OCIPs. Já a Terceirização Trabalhista na Administração Pública, alega a UFF, consistiria em buscar no mercado atividades que aumentem a eficiência na Prestação de Serviços Públicos, sendo o ente público tomador de serviços particulares que visam a suprir atividades instrumentais para a Administração Pública. AFirma que a jurisprudencia do TST costuma excluir a responsabilidade do ente público nestes casos.  Requer, sucessivamente, que a responsabilidade abarque somente o tempo estrito no qual a parte autora prestou serviços no âmbito do órgão público e que sejam excluídas da responsabilidade verbas rescisórias, FGTS e seguro desemprego e multas dos arts. 467 e 477 da CLT, já que o pagamento seria restrito pelas regras do art. 100 da CRFB.  Ão exame.  E certo que a Sumula 331, V, do TST preve que Os entes integrantes da Administracao Publica direta e indireta respondem subsidiariamente, nas mesmas condicoes do item IV, caso evidenciada a sua conduta culposa no cumprimento das obrigacoes da Lei n.o 8.666, de 21.06.1993, especialmente na fiscalizacao do cumprimento das obrigacoes contratuais e legais da prestadora de servico como empregadora. A aludida responsabilidade nao decorre de mero inadimplemento das obrigacoes trabalhistas assumidas pela empresa regularmente contratada.  Sobre a temática, dispõem as Súmulas 41 e 43 do TRT1 que recai sobre o ente da Administracao Publica que se beneficiou da mao de obra terceirizada a prova da efetiva fiscalizacao do contrato de prestacao de servicos e que a constitucionalidade do paragrafo primeiro do artigo 71 da Lei 8.666/93, declarada pelo STF no julgamento da ADC no 16, por si so, nao afasta a responsabilidade subsidiaria da Administracao Publica, quando esta decorre da falta de fiscalizacao.  Contudo, por conta do principio da aptidao da prova, entendo que caberia ao proprio ente demonstrar que agiu de forma nao culposa, isto e, que fiscalizou a primeira reclamada, o que decorre propriamente da legislacao patria (Lei n. 8.666/93), sendo um poder- dever de fiscalizacao, o que nao se observou, ja que nao juntou qualquer documento com a sua defesa comprovando um minimo de fiscalizacao.  A segunda ré e pessoa juridica de direito publico, regida pela Lei no 8666/93, que preve, em seus aris. 58, Ill, e 67, caput e 810, o poder-dever de fiscalização do contrato pela Administracao Publica, além das clausulas obrigatorias previstas nos arts. 55 e 58.  Agindo com culpa, deve ser condenado a responder pelos debitos do empregador. Esclareca-se, tambem, que a responsabilidade, no caso, e apenas subsidiaria, criacao jurisprudencial na qual se autoriza a possibilidade de o devedor solidario arguir o chamado beneficio de ordem. Registre-se que se trata de culpa contratual, nao se aplicando o disposto no art. 37, 86º, da Carta da Republica.  Por outro lado, tratando-se de responsabilidade contratual, nao se pode mencionar a aplicacao do disposto no art. 37, Il, da Carta Magna, nao sendo reconhecida - ate porque nao pedida - a relacao de emprego entre a Autora e o 20 Reu. Pelos mesmos  motivos, nao se pode aplicar a orientacao da Sumula no 363, do C. TST.  Ressalve-se a faculdade de o 2º reu exercer o direito de regresso, em face dos socios da 1º re, atraves de acao propria e que responsabilidade abrange todas as verbas decorrentes da condenacao referentes ao periodo da prestacao laboral, inclusive multas, conforme Súmula 331 do TST, inciso VI c/c Sumulas 12 e 13 do TRT1.  Isto posto, declaro a responsabilidade subsidiaria da 2º rés, quanto aos inadimplementos das obrigacoes trabalhistas da 1a re.  DA JUSTIÇA GRATUITA  Com a edição da Lei 13.467/2017, houve modificação quanto ao deferimento da Justiça Gratuita na Justiça do Trabalho. Se antes, pela Lei 5584/70, era beneficiário todo aquele que perceber salário igual ou inferior ao dobro do mínimo legal, e possibilitando ainda âqueles com salário maior o benefício, desde que provada a sua situação financeira (art. 14). Hoje, com a reforma, esse benefício somente será aproveitado para aqueles que perceberem salário igual ou inferior a 40% (quarenta por cento) do limite máximo dos benefícios do Regime Geral de Previdência Social (43º do art. 790) combinando-se com o $ 400 benefício da justiça gratuita será concedido  parte que comprovar insuficiência de recursos para o pagamento das custas do processo.  No caso dos autos, o reclamante recebe remuneração em valor inferior a 40% do RGPS, razão pela qual defiro os benefícios da Justiça Gratuita.  DOS HONORÁRIOS ADVOCATÍCIOS  Na forma do caput e do 82º e 3º do art. 791-A da CLT, inserido pela Lei 13. 467/2017, julgo procedentes os honorários advocatícios no importe de 10% sobre o valor da condenação em prol do patrono da parte reclamante, obtido após a liquidação.  Devidos os honorários advocatícios no importe de 10% sobre os valores dos pedidos julgados improcedentes em desfavor do reclamante e em favor dos patronos da reclamada, proporcionalmente. Neste caso, considerando que o reclamante é beneficiário da Justiça Gratuita e a decisão do E. TRT1 nos autos do processo 0102282-40.2018.5.01.0000 (ArglIncCiv), ficando o crédito suspenso, na forma do art. 791-A, 8 4º, da CLT.  DOS PARÂMETROS DE LIQUIDAÇÃO DOS JUROS E CORREÇÃO MONETÁRIA Em relação aos juros e correção monetária, deverá ser observado o decidido no julgamento das ADCs 58 E 59 e ADls 5.867 e 6.021, finalizado pelo STF em 18/12/2020, in verbis:  Ante o exposto, julgo parcialmente procedentes as ações diretas de inconstitucionalidade e as ações declaratórias de constitucionalidade, para conferir interpretação  conforme  Constituição ao art. 879, $7º, e ao art. 899, 44º, da CLT, na redação dada pela Lei 13.467, de 2017. Nesse sentido, há de se considerar que  atualização dos créditos decorrentes de condenação judicial e  correção dos depósitos recursais em contas judiciais na Justiça do Trabalho deverão ser aplicados, até que sobrevenha solução legislativa, os mesmos índices de correção monetária e de juros vigentes para as hipóteses de condenações cíveis em geral, quais sejam a incidência do IPCA-E na fase prejudicial e, a partir da citação, a incidência da taxa SELIC (art. 406 do Código Civil).  O ministro relator fixou ainda os seguintes marcos jurídicos (modulação):   Todos aqueles pagamentos realizados utilizando a TR, IPCA-E ou qualquer outro índice, no tempo e modo oportuno de forma judicial ou extrajudicial, inclusive os depósitos judiciais e juros de mora de 1% ao mês, são reputados válidos e não ensejarão qualquer rediscussão;- Aos processos em curso que estejam sobrestados ou em fase de conhecimento, independentemente de estarem com ou sem sentença, devem ter aplicação de forma retroativa da taxa Selic.  DOS RECOLHIMENTOS FISCAIS E PREVIDENCIÁRIOS  Recolhimentos fiscais, observado o regime de competência mês a mês, na forma das Leis 8.541/92, 12.350/10 e INRFB 1127/11 e recolhimentos previdenciários observados o art. 876, parágrafo único, da CLT, art. 28 da lei 8212/91 e art. 276, 84, Dec. 3048/99, bem como a Súmula 368 do TST e OJ 363 da SDI-1 do TST.  DISPOSITIVO  Diante do exposto, decide este Juízo, JULGAR PARCIALMENTE PROCEDENTES os pedidos formulados por DANIEL DA SILVA SOUZA DE ALMEIDA para condenar ESPACO CIDADANIA E OPORTUNIDADES SOCIAIS e, subsidiariamente, UNIVERSIDADE FEDERAL FLUMINENSE, a pagar, no prazo legal, os seguintes títulos, limitados ao postulado (art. 141 e 492 do CPC/15):  - 13º salário proporcional de 2018 e integral de 2019.  - depósito do FGTS do mês de agosto de 2019;  - multa do art. 477 da CLT  - salários de julho a novembro de 2019. Deduza-se, por outro lado, os depósitos feitos na conta do reclamante de ID. cbd0390 e ID. eb91294, observando-se o mês do pagamento, evitando-se o recebimento em dobro.  - indenização por danos morais a quantia de R$ 2.000,00.  - honorários advocatícios no importe de 10% sobre o valor da condenação em prol do patrono da parte reclamante, obtido após a liquidação.  Devidos os honorários advocatícios no importe de 10% sobre os valores dos pedidos julgados improcedentes em desfavor do reclamante e em favor dos patronos da reclamada, proporcionalmente. Neste caso, considerando que o reclamante é beneficiário da  Justiça Gratuita e a decisão do E. TRT1 nos autos do processo 0102282-40.2018.5.01.0000 (ArglIncCiv), ficando o crédito suspenso, na forma do art. 791-A, 8 4º, da CLT.  Defiro os benefícios da Justiça Gratuita  parte autora.  Custas processuais no importe de R$ 100,00, a cargo da 1º reclamada, incidente sobre R$ 5.000,00, valor da condenação.  INTIMEM-SE AS PARTES. NADA MAIS.  VOLTA REDONDA/RJ, 05 de janeiro de 2022.  THIAGO RABELO DA COSTA Juiz do Trabalho Substituto '"
      ]
     },
     "execution_count": 61,
     "metadata": {},
     "output_type": "execute_result"
    }
   ],
   "source": [
    "textoSent = df['sentenca'][i]\n",
    "textoSent"
   ]
  },
  {
   "cell_type": "code",
   "execution_count": null,
   "id": "d1aa56e0",
   "metadata": {},
   "outputs": [],
   "source": []
  },
  {
   "cell_type": "code",
   "execution_count": 7,
   "id": "686ec90f",
   "metadata": {},
   "outputs": [],
   "source": [
    "import transformers\n",
    "from transformers import AutoModelForTokenClassification, AutoModelForQuestionAnswering, AutoTokenizer\n",
    "from transformers import pipeline\n",
    "\n",
    "model_name_qa  = \"pierreguillou/bert-large-cased-squad-v1.1-portuguese\"\n",
    "\n",
    "model_qa   = AutoModelForQuestionAnswering.from_pretrained(model_name_qa)\n",
    "tokenz_qa  = AutoTokenizer.from_pretrained(model_name_qa)\n",
    "qa  = pipeline(\"question-answering\", model=model_qa, tokenizer=tokenz_qa)"
   ]
  },
  {
   "cell_type": "code",
   "execution_count": 60,
   "id": "df4e0337",
   "metadata": {},
   "outputs": [
    {
     "data": {
      "text/plain": [
       "{'score': 0.01098316628485918,\n",
       " 'start': 190,\n",
       " 'end': 237,\n",
       " 'answer': 'manteve vínculo empregatício com a 1º reclamada'}"
      ]
     },
     "execution_count": 60,
     "metadata": {},
     "output_type": "execute_result"
    }
   ],
   "source": [
    "qa(\"Quais sao as obrigacoes trabalhistas do não?\", textoRel)"
   ]
  },
  {
   "cell_type": "code",
   "execution_count": 57,
   "id": "6d40cfd0",
   "metadata": {},
   "outputs": [
    {
     "data": {
      "text/plain": [
       "{'score': 0.23539967834949493, 'start': 2052, 'end': 2053, 'answer': 'e'}"
      ]
     },
     "execution_count": 57,
     "metadata": {},
     "output_type": "execute_result"
    }
   ],
   "source": [
    "qa(\"condenar?\", textoDisp)"
   ]
  },
  {
   "cell_type": "code",
   "execution_count": 65,
   "id": "686ac977",
   "metadata": {},
   "outputs": [
    {
     "data": {
      "text/plain": [
       "{'score': 0.23363929986953735, 'start': 6761, 'end': 6762, 'answer': '.'}"
      ]
     },
     "execution_count": 65,
     "metadata": {},
     "output_type": "execute_result"
    }
   ],
   "source": [
    "qa(\"alega que\", textoSent)"
   ]
  },
  {
   "cell_type": "code",
   "execution_count": null,
   "id": "d3a8d8a7",
   "metadata": {},
   "outputs": [],
   "source": []
  },
  {
   "cell_type": "code",
   "execution_count": 45,
   "id": "318b02ce",
   "metadata": {},
   "outputs": [
    {
     "data": {
      "text/html": [
       "<div>\n",
       "<style scoped>\n",
       "    .dataframe tbody tr th:only-of-type {\n",
       "        vertical-align: middle;\n",
       "    }\n",
       "\n",
       "    .dataframe tbody tr th {\n",
       "        vertical-align: top;\n",
       "    }\n",
       "\n",
       "    .dataframe thead th {\n",
       "        text-align: right;\n",
       "    }\n",
       "</style>\n",
       "<table border=\"1\" class=\"dataframe\">\n",
       "  <thead>\n",
       "    <tr style=\"text-align: right;\">\n",
       "      <th></th>\n",
       "      <th>sentenca</th>\n",
       "      <th>reclamante</th>\n",
       "      <th>reclamado</th>\n",
       "      <th>processo</th>\n",
       "      <th>vara</th>\n",
       "      <th>juiz</th>\n",
       "      <th>relatorio</th>\n",
       "      <th>fundamentacao</th>\n",
       "      <th>dispositivo</th>\n",
       "      <th>classificacao</th>\n",
       "      <th>entsFundamentacao</th>\n",
       "    </tr>\n",
       "  </thead>\n",
       "  <tbody>\n",
       "    <tr>\n",
       "      <th>count</th>\n",
       "      <td>2587</td>\n",
       "      <td>2587</td>\n",
       "      <td>2587</td>\n",
       "      <td>2587</td>\n",
       "      <td>2587</td>\n",
       "      <td>2587</td>\n",
       "      <td>2587</td>\n",
       "      <td>2587</td>\n",
       "      <td>2587</td>\n",
       "      <td>2587</td>\n",
       "      <td>2587</td>\n",
       "    </tr>\n",
       "    <tr>\n",
       "      <th>unique</th>\n",
       "      <td>2489</td>\n",
       "      <td>2355</td>\n",
       "      <td>1676</td>\n",
       "      <td>2491</td>\n",
       "      <td>1207</td>\n",
       "      <td>1718</td>\n",
       "      <td>2350</td>\n",
       "      <td>2460</td>\n",
       "      <td>2484</td>\n",
       "      <td>4</td>\n",
       "      <td>2446</td>\n",
       "    </tr>\n",
       "    <tr>\n",
       "      <th>top</th>\n",
       "      <td>PODER JUDICIÁRIO FEDERAL JUSTIÇA DO TRABALHO T...</td>\n",
       "      <td></td>\n",
       "      <td>HOSPITAL E MATERNIDADE THEREZINHA DE JESUS e ...</td>\n",
       "      <td>0100086-24.2016.5.01.0241 |</td>\n",
       "      <td>12</td>\n",
       "      <td></td>\n",
       "      <td></td>\n",
       "      <td></td>\n",
       "      <td>Pelo exposto, decide a 63º. Vara do Trabalho...</td>\n",
       "      <td>Parcialmente procedente</td>\n",
       "      <td>[]</td>\n",
       "    </tr>\n",
       "    <tr>\n",
       "      <th>freq</th>\n",
       "      <td>3</td>\n",
       "      <td>95</td>\n",
       "      <td>85</td>\n",
       "      <td>3</td>\n",
       "      <td>215</td>\n",
       "      <td>59</td>\n",
       "      <td>104</td>\n",
       "      <td>26</td>\n",
       "      <td>3</td>\n",
       "      <td>1898</td>\n",
       "      <td>29</td>\n",
       "    </tr>\n",
       "  </tbody>\n",
       "</table>\n",
       "</div>"
      ],
      "text/plain": [
       "                                                 sentenca reclamante  \\\n",
       "count                                                2587       2587   \n",
       "unique                                               2489       2355   \n",
       "top     PODER JUDICIÁRIO FEDERAL JUSTIÇA DO TRABALHO T...              \n",
       "freq                                                    3         95   \n",
       "\n",
       "                                                reclamado  \\\n",
       "count                                                2587   \n",
       "unique                                               1676   \n",
       "top      HOSPITAL E MATERNIDADE THEREZINHA DE JESUS e ...   \n",
       "freq                                                   85   \n",
       "\n",
       "                             processo  vara  juiz relatorio fundamentacao  \\\n",
       "count                            2587  2587  2587      2587          2587   \n",
       "unique                           2491  1207  1718      2350          2460   \n",
       "top      0100086-24.2016.5.01.0241 |    12                                  \n",
       "freq                                3   215    59       104            26   \n",
       "\n",
       "                                              dispositivo  \\\n",
       "count                                                2587   \n",
       "unique                                               2484   \n",
       "top       Pelo exposto, decide a 63º. Vara do Trabalho...   \n",
       "freq                                                    3   \n",
       "\n",
       "                  classificacao entsFundamentacao  \n",
       "count                      2587              2587  \n",
       "unique                        4              2446  \n",
       "top     Parcialmente procedente                []  \n",
       "freq                       1898                29  "
      ]
     },
     "execution_count": 45,
     "metadata": {},
     "output_type": "execute_result"
    }
   ],
   "source": [
    "df.describe() "
   ]
  },
  {
   "cell_type": "code",
   "execution_count": 66,
   "id": "e8e7aac3",
   "metadata": {},
   "outputs": [
    {
     "ename": "KeyError",
     "evalue": "False",
     "output_type": "error",
     "traceback": [
      "\u001b[0;31m---------------------------------------------------------------------------\u001b[0m",
      "\u001b[0;31mKeyError\u001b[0m                                  Traceback (most recent call last)",
      "\u001b[0;32m~/anaconda3/lib/python3.8/site-packages/pandas/core/indexes/base.py\u001b[0m in \u001b[0;36mget_loc\u001b[0;34m(self, key, method, tolerance)\u001b[0m\n\u001b[1;32m   3079\u001b[0m             \u001b[0;32mtry\u001b[0m\u001b[0;34m:\u001b[0m\u001b[0;34m\u001b[0m\u001b[0;34m\u001b[0m\u001b[0m\n\u001b[0;32m-> 3080\u001b[0;31m                 \u001b[0;32mreturn\u001b[0m \u001b[0mself\u001b[0m\u001b[0;34m.\u001b[0m\u001b[0m_engine\u001b[0m\u001b[0;34m.\u001b[0m\u001b[0mget_loc\u001b[0m\u001b[0;34m(\u001b[0m\u001b[0mcasted_key\u001b[0m\u001b[0;34m)\u001b[0m\u001b[0;34m\u001b[0m\u001b[0;34m\u001b[0m\u001b[0m\n\u001b[0m\u001b[1;32m   3081\u001b[0m             \u001b[0;32mexcept\u001b[0m \u001b[0mKeyError\u001b[0m \u001b[0;32mas\u001b[0m \u001b[0merr\u001b[0m\u001b[0;34m:\u001b[0m\u001b[0;34m\u001b[0m\u001b[0;34m\u001b[0m\u001b[0m\n",
      "\u001b[0;32mpandas/_libs/index.pyx\u001b[0m in \u001b[0;36mpandas._libs.index.IndexEngine.get_loc\u001b[0;34m()\u001b[0m\n",
      "\u001b[0;32mpandas/_libs/index.pyx\u001b[0m in \u001b[0;36mpandas._libs.index.IndexEngine.get_loc\u001b[0;34m()\u001b[0m\n",
      "\u001b[0;32mpandas/_libs/hashtable_class_helper.pxi\u001b[0m in \u001b[0;36mpandas._libs.hashtable.PyObjectHashTable.get_item\u001b[0;34m()\u001b[0m\n",
      "\u001b[0;32mpandas/_libs/hashtable_class_helper.pxi\u001b[0m in \u001b[0;36mpandas._libs.hashtable.PyObjectHashTable.get_item\u001b[0;34m()\u001b[0m\n",
      "\u001b[0;31mKeyError\u001b[0m: False",
      "\nThe above exception was the direct cause of the following exception:\n",
      "\u001b[0;31mKeyError\u001b[0m                                  Traceback (most recent call last)",
      "\u001b[0;32m<ipython-input-66-12eb0947ff11>\u001b[0m in \u001b[0;36m<module>\u001b[0;34m\u001b[0m\n\u001b[0;32m----> 1\u001b[0;31m \u001b[0mdf\u001b[0m\u001b[0;34m[\u001b[0m\u001b[0;34m'processo'\u001b[0m \u001b[0;34m==\u001b[0m \u001b[0;34m'0100086-24.2016.5.01.0241'\u001b[0m\u001b[0;34m]\u001b[0m\u001b[0;34m\u001b[0m\u001b[0;34m\u001b[0m\u001b[0m\n\u001b[0m",
      "\u001b[0;32m~/anaconda3/lib/python3.8/site-packages/pandas/core/frame.py\u001b[0m in \u001b[0;36m__getitem__\u001b[0;34m(self, key)\u001b[0m\n\u001b[1;32m   3022\u001b[0m             \u001b[0;32mif\u001b[0m \u001b[0mself\u001b[0m\u001b[0;34m.\u001b[0m\u001b[0mcolumns\u001b[0m\u001b[0;34m.\u001b[0m\u001b[0mnlevels\u001b[0m \u001b[0;34m>\u001b[0m \u001b[0;36m1\u001b[0m\u001b[0;34m:\u001b[0m\u001b[0;34m\u001b[0m\u001b[0;34m\u001b[0m\u001b[0m\n\u001b[1;32m   3023\u001b[0m                 \u001b[0;32mreturn\u001b[0m \u001b[0mself\u001b[0m\u001b[0;34m.\u001b[0m\u001b[0m_getitem_multilevel\u001b[0m\u001b[0;34m(\u001b[0m\u001b[0mkey\u001b[0m\u001b[0;34m)\u001b[0m\u001b[0;34m\u001b[0m\u001b[0;34m\u001b[0m\u001b[0m\n\u001b[0;32m-> 3024\u001b[0;31m             \u001b[0mindexer\u001b[0m \u001b[0;34m=\u001b[0m \u001b[0mself\u001b[0m\u001b[0;34m.\u001b[0m\u001b[0mcolumns\u001b[0m\u001b[0;34m.\u001b[0m\u001b[0mget_loc\u001b[0m\u001b[0;34m(\u001b[0m\u001b[0mkey\u001b[0m\u001b[0;34m)\u001b[0m\u001b[0;34m\u001b[0m\u001b[0;34m\u001b[0m\u001b[0m\n\u001b[0m\u001b[1;32m   3025\u001b[0m             \u001b[0;32mif\u001b[0m \u001b[0mis_integer\u001b[0m\u001b[0;34m(\u001b[0m\u001b[0mindexer\u001b[0m\u001b[0;34m)\u001b[0m\u001b[0;34m:\u001b[0m\u001b[0;34m\u001b[0m\u001b[0;34m\u001b[0m\u001b[0m\n\u001b[1;32m   3026\u001b[0m                 \u001b[0mindexer\u001b[0m \u001b[0;34m=\u001b[0m \u001b[0;34m[\u001b[0m\u001b[0mindexer\u001b[0m\u001b[0;34m]\u001b[0m\u001b[0;34m\u001b[0m\u001b[0;34m\u001b[0m\u001b[0m\n",
      "\u001b[0;32m~/anaconda3/lib/python3.8/site-packages/pandas/core/indexes/base.py\u001b[0m in \u001b[0;36mget_loc\u001b[0;34m(self, key, method, tolerance)\u001b[0m\n\u001b[1;32m   3080\u001b[0m                 \u001b[0;32mreturn\u001b[0m \u001b[0mself\u001b[0m\u001b[0;34m.\u001b[0m\u001b[0m_engine\u001b[0m\u001b[0;34m.\u001b[0m\u001b[0mget_loc\u001b[0m\u001b[0;34m(\u001b[0m\u001b[0mcasted_key\u001b[0m\u001b[0;34m)\u001b[0m\u001b[0;34m\u001b[0m\u001b[0;34m\u001b[0m\u001b[0m\n\u001b[1;32m   3081\u001b[0m             \u001b[0;32mexcept\u001b[0m \u001b[0mKeyError\u001b[0m \u001b[0;32mas\u001b[0m \u001b[0merr\u001b[0m\u001b[0;34m:\u001b[0m\u001b[0;34m\u001b[0m\u001b[0;34m\u001b[0m\u001b[0m\n\u001b[0;32m-> 3082\u001b[0;31m                 \u001b[0;32mraise\u001b[0m \u001b[0mKeyError\u001b[0m\u001b[0;34m(\u001b[0m\u001b[0mkey\u001b[0m\u001b[0;34m)\u001b[0m \u001b[0;32mfrom\u001b[0m \u001b[0merr\u001b[0m\u001b[0;34m\u001b[0m\u001b[0;34m\u001b[0m\u001b[0m\n\u001b[0m\u001b[1;32m   3083\u001b[0m \u001b[0;34m\u001b[0m\u001b[0m\n\u001b[1;32m   3084\u001b[0m         \u001b[0;32mif\u001b[0m \u001b[0mtolerance\u001b[0m \u001b[0;32mis\u001b[0m \u001b[0;32mnot\u001b[0m \u001b[0;32mNone\u001b[0m\u001b[0;34m:\u001b[0m\u001b[0;34m\u001b[0m\u001b[0;34m\u001b[0m\u001b[0m\n",
      "\u001b[0;31mKeyError\u001b[0m: False"
     ]
    }
   ],
   "source": [
    "df['processo' == '0100086-24.2016.5.01.0241']"
   ]
  },
  {
   "cell_type": "code",
   "execution_count": null,
   "id": "bcc980af",
   "metadata": {},
   "outputs": [],
   "source": []
  },
  {
   "cell_type": "code",
   "execution_count": null,
   "id": "5657ffe3",
   "metadata": {},
   "outputs": [],
   "source": []
  },
  {
   "cell_type": "code",
   "execution_count": null,
   "id": "51e5df17",
   "metadata": {},
   "outputs": [],
   "source": []
  },
  {
   "cell_type": "code",
   "execution_count": null,
   "id": "6e0c8fac",
   "metadata": {},
   "outputs": [],
   "source": []
  }
 ],
 "metadata": {
  "kernelspec": {
   "display_name": "Python 3",
   "language": "python",
   "name": "python3"
  },
  "language_info": {
   "codemirror_mode": {
    "name": "ipython",
    "version": 3
   },
   "file_extension": ".py",
   "mimetype": "text/x-python",
   "name": "python",
   "nbconvert_exporter": "python",
   "pygments_lexer": "ipython3",
   "version": "3.8.8"
  }
 },
 "nbformat": 4,
 "nbformat_minor": 5
}
