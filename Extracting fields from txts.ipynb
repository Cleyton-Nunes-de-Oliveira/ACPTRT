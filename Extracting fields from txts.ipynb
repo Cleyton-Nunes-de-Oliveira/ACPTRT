{
 "cells": [
  {
   "cell_type": "code",
   "execution_count": null,
   "id": "78f3c13a",
   "metadata": {},
   "outputs": [],
   "source": [
    "# REFERENCES:\n",
    "# https://medium.com/botsbrasil/como-reconhecer-entidades-na-l%C3%ADngua-portuguesa-usando-spacy-8a5ca6f42c4f\n",
    "# https://medium.com/@van3ssabandeira/o-famoso-spacy-90afb683b6fe\n",
    "# https://towardsdatascience.com/clinical-named-entity-recognition-using-spacy-5ae9c002e86f\n",
    "# https://www.machinelearningplus.com/spacy-tutorial-nlp/\n",
    "# https://tede2.pucrs.br/tede2/bitstream/tede/9970/2/DANIEL%20ALESSANDRO%20GUIMAR%C3%83ES%20DE%20LOS%20REYES_DIS.pdf\n",
    "# https://towardsdatascience.com/clinical-named-entity-recognition-using-spacy-5ae9c002e86f\n",
    "# https://www.neuratec.com/blog/?p=285\n",
    "# https://stackoverflow.com/questions/72772448/spacy-adding-multiple-patterns-to-a-single-ner-using-entity-ruler\n",
    "# https://github.com/explosion/spaCy/issues/4042\n",
    "#\n",
    "# https://web.stanford.edu/%7Elaurik/publications/archive/questions.pdf\n",
    "#\n",
    "# https://stackoverflow.com/questions/67991549/how-to-extract-questions-from-text-using-spacy\n",
    "# https://stackoverflow.com/questions/72819016/extract-information-from-a-text-using-spacy\n",
    "# https://stackoverflow.com/questions/66671292/can-i-identify-question-wordswho-how-when-in-a-string-using-spacy\n",
    "# https://www.analyticsvidhya.com/blog/2021/11/end-to-end-question-answering-system-using-nlp-and-squad-dataset/\n",
    "# https://towardsdatascience.com/building-a-question-answering-system-part-1-9388aadff507\n",
    "# https://medium.com/casl-project/building-a-question-answering-system-part-3-answer-extraction-5b9a4bd31e18\n",
    "# https://medium.com/saarthi-ai/building-intelligent-question-answering-systems-with-elmo-1c703af385cc\n",
    "#\n",
    "# https://newscatcherapi.com/blog/how-to-annotate-entities-with-spacy-phrase-macher\n",
    "# "
   ]
  },
  {
   "cell_type": "code",
   "execution_count": null,
   "id": "82c67f3f",
   "metadata": {},
   "outputs": [],
   "source": [
    "#!pip uninstall spacy "
   ]
  },
  {
   "cell_type": "code",
   "execution_count": null,
   "id": "4e6daa61",
   "metadata": {},
   "outputs": [],
   "source": [
    "# INSTALATIONS\n",
    "#!pip install -U transformers==4.13.0\n",
    "#!pip install -U spacy  # Successfully installed spacy-3.4.1\n",
    "#!python -m spacy download pt\n",
    "#!pip install scispacy\n",
    "#!pip install git+https://github.com/explosion/spacy-transformers\n",
    "#!pip install spacy[transformers]\n",
    "#!pip install spacy-transformers"
   ]
  },
  {
   "cell_type": "code",
   "execution_count": 1,
   "id": "521c2f2a",
   "metadata": {},
   "outputs": [],
   "source": [
    "#import spacy"
   ]
  },
  {
   "cell_type": "code",
   "execution_count": null,
   "id": "cd543f92",
   "metadata": {},
   "outputs": [],
   "source": [
    "#nlp = spacy.load(\"pt_core_news_sm\")\n",
    "#nlp = spacy.load(\"pt\")\n",
    "#import pt_core_news_sm\n",
    "#nlp = pt_core_news_sm.load()"
   ]
  },
  {
   "cell_type": "code",
   "execution_count": 2,
   "id": "1e53d7d9",
   "metadata": {},
   "outputs": [],
   "source": [
    "#nlp = spacy.load('pt_core_news_sm')"
   ]
  },
  {
   "cell_type": "code",
   "execution_count": 43,
   "id": "bb35c6e7",
   "metadata": {},
   "outputs": [],
   "source": [
    "path = \"/home/info/MyNotebooks/Datasets/SentencasTRT1/PDFsProcessing/txts/\"\n",
    "\n",
    "file = path+\"01001949620195010225-DEJT-27-02-2020.pdf.txt\"\n",
    "\n",
    "arq = open(file, encoding = 'utf8')\n"
   ]
  },
  {
   "cell_type": "code",
   "execution_count": 191,
   "id": "b33dabff",
   "metadata": {},
   "outputs": [],
   "source": [
    "import re\n",
    "\n",
    "def get_campos(lines):\n",
    "    \n",
    "    \n",
    "    pattern_reclamante = r\"(RECLAMANTE:).*(RECLAMADO:)\"\n",
    "    pattern_reclamado = r\"(RECLAMADO:).*(SENTENÇA)|(RECLAMADO:).*(RELATÓRIO)\"\n",
    "    pattern_relatorio = r\"(RELATÓRIO).*(FUNDAMENTAÇÃO)|(RELATÓRIO).*(relatório)\"\n",
    "    pattern_fundamentacao = r\"(FUNDAMENTAÇÃO).*(DISPOSITIVO)\"\n",
    "    pattern_dispositivo = r\"(DISPOSITIVO).*\"\n",
    "    pattern_vara = r\"(REGIÃO).*(Vara do Trabalho)\"\n",
    "    pattern_processo = r\"(PROCESSO:).*(CLASSE:)|(ATOrd).*(RECLAMANTE:)\"\n",
    "    \n",
    "    try:\n",
    "        reclamante = re.search(pattern_reclamante, lines).group(0).replace(\"RECLAMANTE:\",\"\").replace(\"RECLAMADO:\",\"\")\n",
    "    except:\n",
    "        reclamante = \"\"\n",
    "        \n",
    "    try:\n",
    "        reclamado = re.search(pattern_reclamado, lines).group(0).replace(\"RECLAMADO:\",\"\").replace(\"SENTENÇA\",\"\").replace(\"RELATÓRIO\",\"\")\n",
    "    except:\n",
    "        reclamado = \"\"\n",
    "\n",
    "    try:\n",
    "        vara = re.search(pattern_vara, lines).group(0).replace(\"REGIÃO\",\"\").replace(\"Vara do Trabalho\",\"\")\n",
    "    except:\n",
    "        vara = \"\"\n",
    "\n",
    "    try:\n",
    "        processo = re.search(pattern_processo, lines).group(0).replace(\"PROCESSO:\",\"\").replace(\"CLASSE:\",\"\").replace(\"ATOrd\",\"\").replace(\"RECLAMANTE:\",\"\")\n",
    "    except:\n",
    "        processo = \"\"\n",
    "\n",
    "    try:\n",
    "        relatorio = re.search(pattern_relatorio, lines).group(0).replace(\"RELATÓRIO\",\"\").replace(\"FUNDAMENTAÇÃO\",\"\")\n",
    "    except:\n",
    "        relatorio = \"\"\n",
    "\n",
    "    try:\n",
    "        fundamentacao = re.search(pattern_fundamentacao, lines).group(0).replace(\"DISPOSITIVO\",\"\").replace(\"FUNDAMENTAÇÃO\",\"\")\n",
    "    except:\n",
    "        # Fundamentacao = Relatorio:Dispositivo - Relatorio - Dispositivo\n",
    "        try:\n",
    "            pattern_fundamentacao = r\"(RELATÓRIO).*(DISPOSITIVO)\"\n",
    "            fundamentacao = re.search(pattern_fundamentacao, lines).group(0).replace(relatorio,\"\").replace(\"RELATÓRIO\",\"\").replace(\"DISPOSITIVO\",\"\")\n",
    "        except:\n",
    "            fundamentacao = \"\"\n",
    "        \n",
    "        # Relatorio:Dispositivo.replace(Relatorio,\"\")\n",
    "        # Relatorio:Dispositivo.replace(\"DISPOSITIVO\",\"\")\n",
    "\n",
    "    try:\n",
    "        dispositivo = re.search(pattern_dispositivo, lines).group(0).replace(\"DISPOSITIVO\",\"\")\n",
    "        juiz  = dispositivo[dispositivo.rfind(\".\"):len(dispositivo)].replace(\".\",\"\")\n",
    "\n",
    "    except:\n",
    "        dispositivo = \"\"\n",
    "        juiz = \"\"\n",
    "\n",
    "        \n",
    "    return (reclamante, reclamado, processo, vara, juiz, relatorio, fundamentacao, dispositivo)"
   ]
  },
  {
   "cell_type": "code",
   "execution_count": null,
   "id": "27b4a28b",
   "metadata": {},
   "outputs": [],
   "source": []
  },
  {
   "cell_type": "code",
   "execution_count": 192,
   "id": "12345a70",
   "metadata": {},
   "outputs": [
    {
     "name": "stdout",
     "output_type": "stream",
     "text": [
      "i:  0 file:  01010991020205010341-DEJT-05-01-2022.pdf.txt\n",
      "Fundamentacao:  .  DA INCOMPETÊNCIA MATERIAL NA JUSTIÇA DO TRABALHO  Possuindo a relacao juridica em questão nítida natureza trabalhista, de contrato de trabalho nao com ente publico, mas sim, com a 1º reclamada (pessoa juridica de direito privado), competente e a Justica do Trabalho para apreciar a pretensao (art. 114 da CRFB/88). Rejeito.  DA INÉPCIA DA INICIAL  Considerando que o Direito Processual do Trabalho é regido pelos princípios da informalidade e da simplicidade, na forma do artigo 840, 8 1º, da CLT, não verifico qualquer hipótese de inépcia, na forma do art. 330, 8 1º, do CPC/2015, uma vez que presentes os pedidos, compatíveis entre si, causa de pedir e nexo lógico entre os fatos e os pleitos formulados. Rejeito.  DA ILEGITIMIDADE PASSIVA  A legitimidade ad causam deve ser entendida como a pertinência  subjetiva da demanda, analisada de forma abstrata,  luz da teoria da asserção. No caso em comento, a parte reclamante alega que laborou para segunda reclamada, como tomadora de seus serviços, motivo pelo qual é suficiente para figurar no polo passivo da lide. Ademais, a verificação de existência de responsabilidade ou não é questão de mérito, que será analisada em momento oportuno. Rejeito.  DO MÉRITO DA NULIDADE DO CONTRATO POR PRAZO DETERMINADO  Em sua inicial, o reclamante afirma que foi contratado para o exercício de trabalho por prazo determinado, sendo que inicialmente seu contrato teria início de vigência em 03/09/2018 e término em 02/10/2018. Diz que o contrato teve como fundamento a Lei 9.601/98, mas que não houve norma coletiva que fundamentasse o mencionado enlace. Informa que o pacto laboral findou em 18/12/2019. Postula a nulidade e pagamento das verbas rescisórias com base no fim do pacto sem justa causa.  Segundo a defesa, o reclamante foi contratado para desempenhar as funções de Agente 01, em 03.09.2018, através do contrato de trabalho por prazo determinado regido pela Lei nº 9601/1998, devidamente formalizado e anotado na CTPS do obreiro, por ocasião da contratação e que a extinção do enlace se deu em 18.12.2019.  Pois bem.  Segundo a Lei 9.601/98, As convenções e os acordos coletivos de trabalho poderão instituir contrato de trabalho por prazo determinado, de que trata o art. 443 da Consolidação das Leis do Trabalho - CLT, independentemente das condições estabelecidas em seu $ 2º, em qualquer atividade desenvolvida pela empresa ou estabelecimento, para admissões que representem acréscimo no número de empregados.  Assim, necessário avaliar se há norma coletiva que contenha a previsão deste contrato por prazo determinado.  Noto que a reclamada junta aos autos ACT (ID. 74a8Bfe9 e ID. 3efecfe) que autorizam a contratação por prazo determinado, nos moldes da Lei.  Acresça-se que o art. 1º, parágrafo segundo da Lei 9.601/98, constitucional, conforme ADI 1765 do STF, estabelece que os requisitos do art. 451 da CLT são prescindíveis nesta modalidade especial empregatícia. Neste sentido, houve previsao de prorrogacao automatica, na clausula 6? do contrato a prazo determinado, desde que cumprido o periodo maximo de dois anos (art. 445 da CLT).  Válido o contrato por prazo determinado. Improcedente o aviso prévio e indenização de 40% do FGTS% e o seguro desemprego.  DAS DEMAIS VERBAS RESCISÓRIAS  Em relação ao 13º salário, o reclamante afirma que não os recebeu (2018 e 2019). Não há juntada de qualquer recibo salarial do 13º salário, razão pela qual julgo  procedente o pleito, condenando a reclamada ao pagamento do 13º salário proporcional de 2018 e integral de 2019.  Em relação ao FGTS dos meses de agosto e novembro de 2019, noto pelo extrato analítico que houve o depósito (em atraso do mês de novembro), restando apenas o depósito do FGTS do mês de agosto de 2019 (ID. c0f9655), que ora julgo procedente.  Em relação  multa do art. 477 da CLT, observa-se que ante o não pagamento do 13º salário de 2019, houve inadimplemento das verbas rescisórias, razão pela qual entendo pela procedência da multa do art. 477 da CLT.  Em relação  multa do art. 467 da CLT, considerando a lide controvertida, entendo pela improcedência.  DOS SALÁRIOS  Diz o reclamante que não recebeu salários desde julho de 2019, pleiteando o seu pagamento.  Em defesa, a reclamada afirma que o reclamante recebeu o salário correspondente  julho de 2019 em 03.09.2019, o salário correspondente  setembro de 2019 em 21.08.2020, também no mesmo dia 27.08.2020 foi quitado o salário de outubro de 2019 e o salário de novembro de 2019 foi depositado em 21.08.2020.  Pela defesa, nota-se que há verdadeira confusão nos pagamentos. Não há recibo de salários, estranho ainda a informação de que o reclamante recebeu o salário de novembro em agosto de 2018.  Segundo o art. 464 da CLT, o pagamento dos salários se comprova mediante recibo, ônus do qual não se desincumbiu a reclamada.  Diante disso, condeno a ré ao pagamento dos salários de julho a novembro de 2019 (considerando que o mês de dezembro foi quitado no TRCT). Deduza- se, por outro lado, os depósitos feitos na conta do reclamante de ID. cbd0390 e ID. eb91294, observando-se o mês do pagamento, evitando-se o recebimento em dobro.  DOS DANOS MORAIS. CTPS RETIDA E NÃO PAGAMENTO DAS VERBAS RESCISÓRIAS E SALÁRIOS NÃO PAGOS  Em relação  CTPS retida, entendo que o reclamante não fez qualquer prova nesse sentido, ônus que lhe incumbia. No que tange ao não pagamento das verbas rescisórias, como se viu acima, houve apenas o não pagamento do 13º salário, sendo certo que ha decisão neste E. TRT1 no sentido que o não pagamento das verbas rescisórias não gera indenização por danos morais.  Por outro lado, noto que não houve o pagamento de salários ou estes foram pagos com atraso, conforme se definiu acima.  Sobre o assunto, segue decisão do C. TST, publicado no Informativo 91  de 2014:  Dano moral. Atraso reiterado no pagamento de salários. Indenização devida. Dano in re ipsa. O atraso reiterado no pagamento dos salários configura dano moral in re ipsa, ou seja, presume-se a lesão ao direito de personalidade do trabalhador, pois gera estado permanente de apreensão no empregado, que se vê impossibilitado de honrar seus compromissos financeiros e de prover suas necessidades básicas. No caso concreto, o reclamante teve seus salários atrasados por cinco ou seis meses, período em que também não recebeu vale-alimentação nem vale-transporte. Ademais, por ocasião de sua dispensa, não recebeu as verbas rescisórias devidas. Assim, por unanimidade, a SBDlI-I, conheceu dos embargos interpostos pelo reclamante, por divergência jurisprudencial, e, no mérito, por maioria, deu-lhes provimento para restabelecer o acórdão do Regional, o qual manteve a sentença que condenou os reclamados ao pagamento de indenizaçã o por dando morais. Ressalvou a fundamentação o Ministro Aloysio Corrêa da Veiga. Vencidos os Ministros Renato de Lacerda Paiva, Ives Gandra Martins Filho e Guilherme Augusto Caputo Bastos. TST-E-RR-577900- 83.2009.5.09.0010, SBDI-I, rel. Min. Márcio Eurico Vitral Amaro, 9.10.2014  Ademais, qualquer conduta que venha a suprimir ou reduzir tal direito do trabalhador é passível de reparação jurídica, até porque a Carta Magna assegura o direito  imagem e a horra (art. 5º, Ve X, CF/88).  Écediço que a reparação dos danos morais encontra arrimo na Ordem Constitucional Vigente, especificamente no artigo 5º, Ve X, da CF/88, isto decorre porque a Carta Magna põe a dignidade da pessoa humana como fundamentos do Estado Democrático de Direito (art. 1º, III).  Urge aduzir que o dano moral não necessita de prova quanto  sua configuração, haja vista que emerge do simples fato da violação (damnum in re ipsa), não necessitando da prova material do sofrimento, diminuição de estima ou coisa parecida.  Nessa senda, levando-se em consideração o caráter didático- pedagógico-punitivo da condenação, bem como os novos parâmetros traçados pela reforma trabalhista no art. 223-G: a natureza do bem jurídico tutelado; a intensidade do sofrimento ou da humilhação; a possibilidade de superação física ou psicológica; os reflexos pessoais e sociais da ação ou da omissão; a extensão e a duração dos efeitos da ofensa; as condições em que ocorreu a ofensa ou o prejuízo moral; o grau de dolo ou culpa; a ocorrência de retratação espontânea; o esforço efetivo para minimizar a ofensa; o perdão, tácito ou expresso; a situação  social e econômica das partes envolvidas; bem como o princípio da proporcionalidade e da razoabilidade, entendo que a lesão é de natureza leve e fixo a indenização por danos morais  a quantia de R$ 2.000,00.  DA RESPONSABILIDADE SUBSIDIÁRIA  Afirma o autor na petição inicial que a 2º reclamada e a União firmaram convênio para implementação do Programa Esporte e Lazer da Cidade (PELC), com vistas a atender s necessidades de esporte recreativo e lazer da população, criado pela Secretaria Nacional de Desenvolvimento de Esporte e de Lazer (SNDEL), vinculada ao Ministério do Esporte. Requer a condenação subsidiária da segunda ré.  A UFF afirma que existe diferença entre a Terceirização Administrativa e Terceirização Trabalhista. A Terceirização Administrativa consistiria na atribuição a um Terceiro, não componente da Administração Pública, de atividade de caráter Administrativo pelo instituto da delegação de serviços que são tomados pela sociedade , que inclui a Concessão e a Permissão de Serviço Público a particulares e também as entidades de colaboração com a Administração Pública, como é o caso das Organizações Sociais-OSs e Organizações Civis de Interesse Público-OCIPs. Já a Terceirização Trabalhista na Administração Pública, alega a UFF, consistiria em buscar no mercado atividades que aumentem a eficiência na Prestação de Serviços Públicos, sendo o ente público tomador de serviços particulares que visam a suprir atividades instrumentais para a Administração Pública. AFirma que a jurisprudencia do TST costuma excluir a responsabilidade do ente público nestes casos.  Requer, sucessivamente, que a responsabilidade abarque somente o tempo estrito no qual a parte autora prestou serviços no âmbito do órgão público e que sejam excluídas da responsabilidade verbas rescisórias, FGTS e seguro desemprego e multas dos arts. 467 e 477 da CLT, já que o pagamento seria restrito pelas regras do art. 100 da CRFB.  Ão exame.  E certo que a Sumula 331, V, do TST preve que Os entes integrantes da Administracao Publica direta e indireta respondem subsidiariamente, nas mesmas condicoes do item IV, caso evidenciada a sua conduta culposa no cumprimento das obrigacoes da Lei n.o 8.666, de 21.06.1993, especialmente na fiscalizacao do cumprimento das obrigacoes contratuais e legais da prestadora de servico como empregadora. A aludida responsabilidade nao decorre de mero inadimplemento das obrigacoes trabalhistas assumidas pela empresa regularmente contratada.  Sobre a temática, dispõem as Súmulas 41 e 43 do TRT1 que recai sobre o ente da Administracao Publica que se beneficiou da mao de obra terceirizada a prova da efetiva fiscalizacao do contrato de prestacao de servicos e que a constitucionalidade do paragrafo primeiro do artigo 71 da Lei 8.666/93, declarada pelo STF no julgamento da ADC no 16, por si so, nao afasta a responsabilidade subsidiaria da Administracao Publica, quando esta decorre da falta de fiscalizacao.  Contudo, por conta do principio da aptidao da prova, entendo que caberia ao proprio ente demonstrar que agiu de forma nao culposa, isto e, que fiscalizou a primeira reclamada, o que decorre propriamente da legislacao patria (Lei n. 8.666/93), sendo um poder- dever de fiscalizacao, o que nao se observou, ja que nao juntou qualquer documento com a sua defesa comprovando um minimo de fiscalizacao.  A segunda ré e pessoa juridica de direito publico, regida pela Lei no 8666/93, que preve, em seus aris. 58, Ill, e 67, caput e 810, o poder-dever de fiscalização do contrato pela Administracao Publica, além das clausulas obrigatorias previstas nos arts. 55 e 58.  Agindo com culpa, deve ser condenado a responder pelos debitos do empregador. Esclareca-se, tambem, que a responsabilidade, no caso, e apenas subsidiaria, criacao jurisprudencial na qual se autoriza a possibilidade de o devedor solidario arguir o chamado beneficio de ordem. Registre-se que se trata de culpa contratual, nao se aplicando o disposto no art. 37, 86º, da Carta da Republica.  Por outro lado, tratando-se de responsabilidade contratual, nao se pode mencionar a aplicacao do disposto no art. 37, Il, da Carta Magna, nao sendo reconhecida - ate porque nao pedida - a relacao de emprego entre a Autora e o 20 Reu. Pelos mesmos  motivos, nao se pode aplicar a orientacao da Sumula no 363, do C. TST.  Ressalve-se a faculdade de o 2º reu exercer o direito de regresso, em face dos socios da 1º re, atraves de acao propria e que responsabilidade abrange todas as verbas decorrentes da condenacao referentes ao periodo da prestacao laboral, inclusive multas, conforme Súmula 331 do TST, inciso VI c/c Sumulas 12 e 13 do TRT1.  Isto posto, declaro a responsabilidade subsidiaria da 2º rés, quanto aos inadimplementos das obrigacoes trabalhistas da 1a re.  DA JUSTIÇA GRATUITA  Com a edição da Lei 13.467/2017, houve modificação quanto ao deferimento da Justiça Gratuita na Justiça do Trabalho. Se antes, pela Lei 5584/70, era beneficiário todo aquele que perceber salário igual ou inferior ao dobro do mínimo legal, e possibilitando ainda âqueles com salário maior o benefício, desde que provada a sua situação financeira (art. 14). Hoje, com a reforma, esse benefício somente será aproveitado para aqueles que perceberem salário igual ou inferior a 40% (quarenta por cento) do limite máximo dos benefícios do Regime Geral de Previdência Social (43º do art. 790) combinando-se com o $ 400 benefício da justiça gratuita será concedido  parte que comprovar insuficiência de recursos para o pagamento das custas do processo.  No caso dos autos, o reclamante recebe remuneração em valor inferior a 40% do RGPS, razão pela qual defiro os benefícios da Justiça Gratuita.  DOS HONORÁRIOS ADVOCATÍCIOS  Na forma do caput e do 82º e 3º do art. 791-A da CLT, inserido pela Lei 13. 467/2017, julgo procedentes os honorários advocatícios no importe de 10% sobre o valor da condenação em prol do patrono da parte reclamante, obtido após a liquidação.  Devidos os honorários advocatícios no importe de 10% sobre os valores dos pedidos julgados improcedentes em desfavor do reclamante e em favor dos patronos da reclamada, proporcionalmente. Neste caso, considerando que o reclamante é beneficiário da Justiça Gratuita e a decisão do E. TRT1 nos autos do processo 0102282-40.2018.5.01.0000 (ArglIncCiv), ficando o crédito suspenso, na forma do art. 791-A, 8 4º, da CLT.  DOS PARÂMETROS DE LIQUIDAÇÃO DOS JUROS E CORREÇÃO MONETÁRIA Em relação aos juros e correção monetária, deverá ser observado o decidido no julgamento das ADCs 58 E 59 e ADls 5.867 e 6.021, finalizado pelo STF em 18/12/2020, in verbis:  Ante o exposto, julgo parcialmente procedentes as ações diretas de inconstitucionalidade e as ações declaratórias de constitucionalidade, para conferir interpretação  conforme  Constituição ao art. 879, $7º, e ao art. 899, 44º, da CLT, na redação dada pela Lei 13.467, de 2017. Nesse sentido, há de se considerar que  atualização dos créditos decorrentes de condenação judicial e  correção dos depósitos recursais em contas judiciais na Justiça do Trabalho deverão ser aplicados, até que sobrevenha solução legislativa, os mesmos índices de correção monetária e de juros vigentes para as hipóteses de condenações cíveis em geral, quais sejam a incidência do IPCA-E na fase prejudicial e, a partir da citação, a incidência da taxa SELIC (art. 406 do Código Civil).  O ministro relator fixou ainda os seguintes marcos jurídicos (modulação):   Todos aqueles pagamentos realizados utilizando a TR, IPCA-E ou qualquer outro índice, no tempo e modo oportuno de forma judicial ou extrajudicial, inclusive os depósitos judiciais e juros de mora de 1% ao mês, são reputados válidos e não ensejarão qualquer rediscussão;- Aos processos em curso que estejam sobrestados ou em fase de conhecimento, independentemente de estarem com ou sem sentença, devem ter aplicação de forma retroativa da taxa Selic.  DOS RECOLHIMENTOS FISCAIS E PREVIDENCIÁRIOS  Recolhimentos fiscais, observado o regime de competência mês a mês, na forma das Leis 8.541/92, 12.350/10 e INRFB 1127/11 e recolhimentos previdenciários observados o art. 876, parágrafo único, da CLT, art. 28 da lei 8212/91 e art. 276, 84, Dec. 3048/99, bem como a Súmula 368 do TST e OJ 363 da SDI-1 do TST.  \n",
      "=======\n",
      "PODER JUDICIÁRIO  JUSTIÇA DO TRABALHO  TRIBUNAL REGIONAL DO TRABALHO DA 12 REGIÃO  12 Vara do Trabalho de Volta Redonda  ATOrd 0101099-10.2020.5.01.0341  RECLAMANTE: DANIEL DA SILVA SOUZA DE ALMEIDA RECLAMADO: ESPACO CIDADANIA E OPORTUNIDADES SOCIAIS, UNIVERSIDADE FEDERAL FLUMINENSE  RELATÓRIO  Trata-se de Reclamação Trabalhista ajuizada por DANIEL DA SILVA SOUZA DE ALMEIDA em face de ESPACO CIDADANIA E OPORTUNIDADES SOCIAIS e UNIVERSIDADE FEDERAL FLUMINENSE, na qual informa que manteve vínculo empregatício com a 1º reclamada, prestando serviços para a 2º reclamada, no período, função e remuneração descritas na exordial, postulando títulos e cifras ali informada. Dá a causa o valor de R$ 30.994,56. Junta documentos.  Devidamente notificada, a 1º reclamada não compareceu  audiência em que deveria apresentar defesa e prestar depoimento. A 2º reclamada comparece e apresenta defesa e documentos, pugnando pela improcedência dos pleitos.  Depoimento da parte autora. Sem mais provas, foi encerrada a instrução processual, com razões finais remissivas pelo reclamante e 2º reclamada e prejudicadas a da 1º reclamada. Infrutíferas as tentativas conciliatórias.  Êo relatório.  DA INCOMPETÊNCIA MATERIAL NA JUSTIÇA DO TRABALHO  Possuindo a relacao juridica em questão nítida natureza trabalhista, de contrato de trabalho nao com ente publico, mas sim, com a 1º reclamada (pessoa juridica de direito privado), competente e a Justica do Trabalho para apreciar a pretensao (art. 114 da CRFB/88). Rejeito.  DA INÉPCIA DA INICIAL  Considerando que o Direito Processual do Trabalho é regido pelos princípios da informalidade e da simplicidade, na forma do artigo 840, 8 1º, da CLT, não verifico qualquer hipótese de inépcia, na forma do art. 330, 8 1º, do CPC/2015, uma vez que presentes os pedidos, compatíveis entre si, causa de pedir e nexo lógico entre os fatos e os pleitos formulados. Rejeito.  DA ILEGITIMIDADE PASSIVA  A legitimidade ad causam deve ser entendida como a pertinência  subjetiva da demanda, analisada de forma abstrata,  luz da teoria da asserção. No caso em comento, a parte reclamante alega que laborou para segunda reclamada, como tomadora de seus serviços, motivo pelo qual é suficiente para figurar no polo passivo da lide. Ademais, a verificação de existência de responsabilidade ou não é questão de mérito, que será analisada em momento oportuno. Rejeito.  DO MÉRITO DA NULIDADE DO CONTRATO POR PRAZO DETERMINADO  Em sua inicial, o reclamante afirma que foi contratado para o exercício de trabalho por prazo determinado, sendo que inicialmente seu contrato teria início de vigência em 03/09/2018 e término em 02/10/2018. Diz que o contrato teve como fundamento a Lei 9.601/98, mas que não houve norma coletiva que fundamentasse o mencionado enlace. Informa que o pacto laboral findou em 18/12/2019. Postula a nulidade e pagamento das verbas rescisórias com base no fim do pacto sem justa causa.  Segundo a defesa, o reclamante foi contratado para desempenhar as funções de Agente 01, em 03.09.2018, através do contrato de trabalho por prazo determinado regido pela Lei nº 9601/1998, devidamente formalizado e anotado na CTPS do obreiro, por ocasião da contratação e que a extinção do enlace se deu em 18.12.2019.  Pois bem.  Segundo a Lei 9.601/98, As convenções e os acordos coletivos de trabalho poderão instituir contrato de trabalho por prazo determinado, de que trata o art. 443 da Consolidação das Leis do Trabalho - CLT, independentemente das condições estabelecidas em seu $ 2º, em qualquer atividade desenvolvida pela empresa ou estabelecimento, para admissões que representem acréscimo no número de empregados.  Assim, necessário avaliar se há norma coletiva que contenha a previsão deste contrato por prazo determinado.  Noto que a reclamada junta aos autos ACT (ID. 74a8Bfe9 e ID. 3efecfe) que autorizam a contratação por prazo determinado, nos moldes da Lei.  Acresça-se que o art. 1º, parágrafo segundo da Lei 9.601/98, constitucional, conforme ADI 1765 do STF, estabelece que os requisitos do art. 451 da CLT são prescindíveis nesta modalidade especial empregatícia. Neste sentido, houve previsao de prorrogacao automatica, na clausula 6? do contrato a prazo determinado, desde que cumprido o periodo maximo de dois anos (art. 445 da CLT).  Válido o contrato por prazo determinado. Improcedente o aviso prévio e indenização de 40% do FGTS% e o seguro desemprego.  DAS DEMAIS VERBAS RESCISÓRIAS  Em relação ao 13º salário, o reclamante afirma que não os recebeu (2018 e 2019). Não há juntada de qualquer recibo salarial do 13º salário, razão pela qual julgo  procedente o pleito, condenando a reclamada ao pagamento do 13º salário proporcional de 2018 e integral de 2019.  Em relação ao FGTS dos meses de agosto e novembro de 2019, noto pelo extrato analítico que houve o depósito (em atraso do mês de novembro), restando apenas o depósito do FGTS do mês de agosto de 2019 (ID. c0f9655), que ora julgo procedente.  Em relação  multa do art. 477 da CLT, observa-se que ante o não pagamento do 13º salário de 2019, houve inadimplemento das verbas rescisórias, razão pela qual entendo pela procedência da multa do art. 477 da CLT.  Em relação  multa do art. 467 da CLT, considerando a lide controvertida, entendo pela improcedência.  DOS SALÁRIOS  Diz o reclamante que não recebeu salários desde julho de 2019, pleiteando o seu pagamento.  Em defesa, a reclamada afirma que o reclamante recebeu o salário correspondente  julho de 2019 em 03.09.2019, o salário correspondente  setembro de 2019 em 21.08.2020, também no mesmo dia 27.08.2020 foi quitado o salário de outubro de 2019 e o salário de novembro de 2019 foi depositado em 21.08.2020.  Pela defesa, nota-se que há verdadeira confusão nos pagamentos. Não há recibo de salários, estranho ainda a informação de que o reclamante recebeu o salário de novembro em agosto de 2018.  Segundo o art. 464 da CLT, o pagamento dos salários se comprova mediante recibo, ônus do qual não se desincumbiu a reclamada.  Diante disso, condeno a ré ao pagamento dos salários de julho a novembro de 2019 (considerando que o mês de dezembro foi quitado no TRCT). Deduza- se, por outro lado, os depósitos feitos na conta do reclamante de ID. cbd0390 e ID. eb91294, observando-se o mês do pagamento, evitando-se o recebimento em dobro.  DOS DANOS MORAIS. CTPS RETIDA E NÃO PAGAMENTO DAS VERBAS RESCISÓRIAS E SALÁRIOS NÃO PAGOS  Em relação  CTPS retida, entendo que o reclamante não fez qualquer prova nesse sentido, ônus que lhe incumbia. No que tange ao não pagamento das verbas rescisórias, como se viu acima, houve apenas o não pagamento do 13º salário, sendo certo que ha decisão neste E. TRT1 no sentido que o não pagamento das verbas rescisórias não gera indenização por danos morais.  Por outro lado, noto que não houve o pagamento de salários ou estes foram pagos com atraso, conforme se definiu acima.  Sobre o assunto, segue decisão do C. TST, publicado no Informativo 91  de 2014:  Dano moral. Atraso reiterado no pagamento de salários. Indenização devida. Dano in re ipsa. O atraso reiterado no pagamento dos salários configura dano moral in re ipsa, ou seja, presume-se a lesão ao direito de personalidade do trabalhador, pois gera estado permanente de apreensão no empregado, que se vê impossibilitado de honrar seus compromissos financeiros e de prover suas necessidades básicas. No caso concreto, o reclamante teve seus salários atrasados por cinco ou seis meses, período em que também não recebeu vale-alimentação nem vale-transporte. Ademais, por ocasião de sua dispensa, não recebeu as verbas rescisórias devidas. Assim, por unanimidade, a SBDlI-I, conheceu dos embargos interpostos pelo reclamante, por divergência jurisprudencial, e, no mérito, por maioria, deu-lhes provimento para restabelecer o acórdão do Regional, o qual manteve a sentença que condenou os reclamados ao pagamento de indenizaçã o por dando morais. Ressalvou a fundamentação o Ministro Aloysio Corrêa da Veiga. Vencidos os Ministros Renato de Lacerda Paiva, Ives Gandra Martins Filho e Guilherme Augusto Caputo Bastos. TST-E-RR-577900- 83.2009.5.09.0010, SBDI-I, rel. Min. Márcio Eurico Vitral Amaro, 9.10.2014  Ademais, qualquer conduta que venha a suprimir ou reduzir tal direito do trabalhador é passível de reparação jurídica, até porque a Carta Magna assegura o direito  imagem e a horra (art. 5º, Ve X, CF/88).  Écediço que a reparação dos danos morais encontra arrimo na Ordem Constitucional Vigente, especificamente no artigo 5º, Ve X, da CF/88, isto decorre porque a Carta Magna põe a dignidade da pessoa humana como fundamentos do Estado Democrático de Direito (art. 1º, III).  Urge aduzir que o dano moral não necessita de prova quanto  sua configuração, haja vista que emerge do simples fato da violação (damnum in re ipsa), não necessitando da prova material do sofrimento, diminuição de estima ou coisa parecida.  Nessa senda, levando-se em consideração o caráter didático- pedagógico-punitivo da condenação, bem como os novos parâmetros traçados pela reforma trabalhista no art. 223-G: a natureza do bem jurídico tutelado; a intensidade do sofrimento ou da humilhação; a possibilidade de superação física ou psicológica; os reflexos pessoais e sociais da ação ou da omissão; a extensão e a duração dos efeitos da ofensa; as condições em que ocorreu a ofensa ou o prejuízo moral; o grau de dolo ou culpa; a ocorrência de retratação espontânea; o esforço efetivo para minimizar a ofensa; o perdão, tácito ou expresso; a situação  social e econômica das partes envolvidas; bem como o princípio da proporcionalidade e da razoabilidade, entendo que a lesão é de natureza leve e fixo a indenização por danos morais  a quantia de R$ 2.000,00.  DA RESPONSABILIDADE SUBSIDIÁRIA  Afirma o autor na petição inicial que a 2º reclamada e a União firmaram convênio para implementação do Programa Esporte e Lazer da Cidade (PELC), com vistas a atender s necessidades de esporte recreativo e lazer da população, criado pela Secretaria Nacional de Desenvolvimento de Esporte e de Lazer (SNDEL), vinculada ao Ministério do Esporte. Requer a condenação subsidiária da segunda ré.  A UFF afirma que existe diferença entre a Terceirização Administrativa e Terceirização Trabalhista. A Terceirização Administrativa consistiria na atribuição a um Terceiro, não componente da Administração Pública, de atividade de caráter Administrativo pelo instituto da delegação de serviços que são tomados pela sociedade , que inclui a Concessão e a Permissão de Serviço Público a particulares e também as entidades de colaboração com a Administração Pública, como é o caso das Organizações Sociais-OSs e Organizações Civis de Interesse Público-OCIPs. Já a Terceirização Trabalhista na Administração Pública, alega a UFF, consistiria em buscar no mercado atividades que aumentem a eficiência na Prestação de Serviços Públicos, sendo o ente público tomador de serviços particulares que visam a suprir atividades instrumentais para a Administração Pública. AFirma que a jurisprudencia do TST costuma excluir a responsabilidade do ente público nestes casos.  Requer, sucessivamente, que a responsabilidade abarque somente o tempo estrito no qual a parte autora prestou serviços no âmbito do órgão público e que sejam excluídas da responsabilidade verbas rescisórias, FGTS e seguro desemprego e multas dos arts. 467 e 477 da CLT, já que o pagamento seria restrito pelas regras do art. 100 da CRFB.  Ão exame.  E certo que a Sumula 331, V, do TST preve que Os entes integrantes da Administracao Publica direta e indireta respondem subsidiariamente, nas mesmas condicoes do item IV, caso evidenciada a sua conduta culposa no cumprimento das obrigacoes da Lei n.o 8.666, de 21.06.1993, especialmente na fiscalizacao do cumprimento das obrigacoes contratuais e legais da prestadora de servico como empregadora. A aludida responsabilidade nao decorre de mero inadimplemento das obrigacoes trabalhistas assumidas pela empresa regularmente contratada.  Sobre a temática, dispõem as Súmulas 41 e 43 do TRT1 que recai sobre o ente da Administracao Publica que se beneficiou da mao de obra terceirizada a prova da efetiva fiscalizacao do contrato de prestacao de servicos e que a constitucionalidade do paragrafo primeiro do artigo 71 da Lei 8.666/93, declarada pelo STF no julgamento da ADC no 16, por si so, nao afasta a responsabilidade subsidiaria da Administracao Publica, quando esta decorre da falta de fiscalizacao.  Contudo, por conta do principio da aptidao da prova, entendo que caberia ao proprio ente demonstrar que agiu de forma nao culposa, isto e, que fiscalizou a primeira reclamada, o que decorre propriamente da legislacao patria (Lei n. 8.666/93), sendo um poder- dever de fiscalizacao, o que nao se observou, ja que nao juntou qualquer documento com a sua defesa comprovando um minimo de fiscalizacao.  A segunda ré e pessoa juridica de direito publico, regida pela Lei no 8666/93, que preve, em seus aris. 58, Ill, e 67, caput e 810, o poder-dever de fiscalização do contrato pela Administracao Publica, além das clausulas obrigatorias previstas nos arts. 55 e 58.  Agindo com culpa, deve ser condenado a responder pelos debitos do empregador. Esclareca-se, tambem, que a responsabilidade, no caso, e apenas subsidiaria, criacao jurisprudencial na qual se autoriza a possibilidade de o devedor solidario arguir o chamado beneficio de ordem. Registre-se que se trata de culpa contratual, nao se aplicando o disposto no art. 37, 86º, da Carta da Republica.  Por outro lado, tratando-se de responsabilidade contratual, nao se pode mencionar a aplicacao do disposto no art. 37, Il, da Carta Magna, nao sendo reconhecida - ate porque nao pedida - a relacao de emprego entre a Autora e o 20 Reu. Pelos mesmos  motivos, nao se pode aplicar a orientacao da Sumula no 363, do C. TST.  Ressalve-se a faculdade de o 2º reu exercer o direito de regresso, em face dos socios da 1º re, atraves de acao propria e que responsabilidade abrange todas as verbas decorrentes da condenacao referentes ao periodo da prestacao laboral, inclusive multas, conforme Súmula 331 do TST, inciso VI c/c Sumulas 12 e 13 do TRT1.  Isto posto, declaro a responsabilidade subsidiaria da 2º rés, quanto aos inadimplementos das obrigacoes trabalhistas da 1a re.  DA JUSTIÇA GRATUITA  Com a edição da Lei 13.467/2017, houve modificação quanto ao deferimento da Justiça Gratuita na Justiça do Trabalho. Se antes, pela Lei 5584/70, era beneficiário todo aquele que perceber salário igual ou inferior ao dobro do mínimo legal, e possibilitando ainda âqueles com salário maior o benefício, desde que provada a sua situação financeira (art. 14). Hoje, com a reforma, esse benefício somente será aproveitado para aqueles que perceberem salário igual ou inferior a 40% (quarenta por cento) do limite máximo dos benefícios do Regime Geral de Previdência Social (43º do art. 790) combinando-se com o $ 400 benefício da justiça gratuita será concedido  parte que comprovar insuficiência de recursos para o pagamento das custas do processo.  No caso dos autos, o reclamante recebe remuneração em valor inferior a 40% do RGPS, razão pela qual defiro os benefícios da Justiça Gratuita.  DOS HONORÁRIOS ADVOCATÍCIOS  Na forma do caput e do 82º e 3º do art. 791-A da CLT, inserido pela Lei 13. 467/2017, julgo procedentes os honorários advocatícios no importe de 10% sobre o valor da condenação em prol do patrono da parte reclamante, obtido após a liquidação.  Devidos os honorários advocatícios no importe de 10% sobre os valores dos pedidos julgados improcedentes em desfavor do reclamante e em favor dos patronos da reclamada, proporcionalmente. Neste caso, considerando que o reclamante é beneficiário da Justiça Gratuita e a decisão do E. TRT1 nos autos do processo 0102282-40.2018.5.01.0000 (ArglIncCiv), ficando o crédito suspenso, na forma do art. 791-A, 8 4º, da CLT.  DOS PARÂMETROS DE LIQUIDAÇÃO DOS JUROS E CORREÇÃO MONETÁRIA Em relação aos juros e correção monetária, deverá ser observado o decidido no julgamento das ADCs 58 E 59 e ADls 5.867 e 6.021, finalizado pelo STF em 18/12/2020, in verbis:  Ante o exposto, julgo parcialmente procedentes as ações diretas de inconstitucionalidade e as ações declaratórias de constitucionalidade, para conferir interpretação  conforme  Constituição ao art. 879, $7º, e ao art. 899, 44º, da CLT, na redação dada pela Lei 13.467, de 2017. Nesse sentido, há de se considerar que  atualização dos créditos decorrentes de condenação judicial e  correção dos depósitos recursais em contas judiciais na Justiça do Trabalho deverão ser aplicados, até que sobrevenha solução legislativa, os mesmos índices de correção monetária e de juros vigentes para as hipóteses de condenações cíveis em geral, quais sejam a incidência do IPCA-E na fase prejudicial e, a partir da citação, a incidência da taxa SELIC (art. 406 do Código Civil).  O ministro relator fixou ainda os seguintes marcos jurídicos (modulação):   Todos aqueles pagamentos realizados utilizando a TR, IPCA-E ou qualquer outro índice, no tempo e modo oportuno de forma judicial ou extrajudicial, inclusive os depósitos judiciais e juros de mora de 1% ao mês, são reputados válidos e não ensejarão qualquer rediscussão;- Aos processos em curso que estejam sobrestados ou em fase de conhecimento, independentemente de estarem com ou sem sentença, devem ter aplicação de forma retroativa da taxa Selic.  DOS RECOLHIMENTOS FISCAIS E PREVIDENCIÁRIOS  Recolhimentos fiscais, observado o regime de competência mês a mês, na forma das Leis 8.541/92, 12.350/10 e INRFB 1127/11 e recolhimentos previdenciários observados o art. 876, parágrafo único, da CLT, art. 28 da lei 8212/91 e art. 276, 84, Dec. 3048/99, bem como a Súmula 368 do TST e OJ 363 da SDI-1 do TST.  DISPOSITIVO  Diante do exposto, decide este Juízo, JULGAR PARCIALMENTE PROCEDENTES os pedidos formulados por DANIEL DA SILVA SOUZA DE ALMEIDA para condenar ESPACO CIDADANIA E OPORTUNIDADES SOCIAIS e, subsidiariamente, UNIVERSIDADE FEDERAL FLUMINENSE, a pagar, no prazo legal, os seguintes títulos, limitados ao postulado (art. 141 e 492 do CPC/15):  - 13º salário proporcional de 2018 e integral de 2019.  - depósito do FGTS do mês de agosto de 2019;  - multa do art. 477 da CLT  - salários de julho a novembro de 2019. Deduza-se, por outro lado, os depósitos feitos na conta do reclamante de ID. cbd0390 e ID. eb91294, observando-se o mês do pagamento, evitando-se o recebimento em dobro.  - indenização por danos morais a quantia de R$ 2.000,00.  - honorários advocatícios no importe de 10% sobre o valor da condenação em prol do patrono da parte reclamante, obtido após a liquidação.  Devidos os honorários advocatícios no importe de 10% sobre os valores dos pedidos julgados improcedentes em desfavor do reclamante e em favor dos patronos da reclamada, proporcionalmente. Neste caso, considerando que o reclamante é beneficiário da  Justiça Gratuita e a decisão do E. TRT1 nos autos do processo 0102282-40.2018.5.01.0000 (ArglIncCiv), ficando o crédito suspenso, na forma do art. 791-A, 8 4º, da CLT.  Defiro os benefícios da Justiça Gratuita  parte autora.  Custas processuais no importe de R$ 100,00, a cargo da 1º reclamada, incidente sobre R$ 5.000,00, valor da condenação.  INTIMEM-SE AS PARTES. NADA MAIS.  VOLTA REDONDA/RJ, 05 de janeiro de 2022.  THIAGO RABELO DA COSTA Juiz do Trabalho Substituto \n"
     ]
    }
   ],
   "source": [
    "import os\n",
    "#directoryList = os.listdir(path)\n",
    "directoryList = []\n",
    "directoryList.append(\"01010991020205010341-DEJT-05-01-2022.pdf.txt\")\n",
    "#directoryList.append(\"01006796620205010062-DEJT-27-10-2020.pdf.txt\")\n",
    "\n",
    "sentenca   = []\n",
    "reclamante = []\n",
    "reclamado  = []\n",
    "vara       = []\n",
    "processo   = []\n",
    "juiz       = []\n",
    "relatorio  = []\n",
    "fundamentacao = []\n",
    "dispositivo   = []\n",
    "classificacao = []\n",
    "\n",
    "for i in range(0,len(directoryList)):\n",
    "    print('i: ',i,\"file: \",directoryList[i])\n",
    "    with open(path+directoryList[i], encoding = 'utf8') as f:\n",
    "        text = f.readlines()\n",
    "        text = \"\".join(text)\n",
    "        text = text.replace(\"\\n\", \" \")\n",
    "        sentenca.append(text)\n",
    "        recl_te, recl_do, process_, vara_, juiz_, relat_, fundam_, dispos_ = get_campos(text)\n",
    "    f.close()\n",
    "    \n",
    "\n",
    "    reclamante.append(recl_te)\n",
    "    reclamado.append(recl_do)\n",
    "    vara.append(vara_)\n",
    "    processo.append(process_)\n",
    "    juiz.append(juiz_)\n",
    "    relatorio.append(relat_)\n",
    "    fundamentacao.append(fundam_)\n",
    "    dispositivo.append(dispos_)\n",
    "    classificacao.append(\"\")\n",
    "    \n",
    "\n",
    "\n",
    "#print(sentenca[0])\n",
    "print(\"Reclamante: \",reclamante[0])\n",
    "print(\"Reclamado: \",reclamado[0])\n",
    "print(\"Vara: \",vara[0])\n",
    "print(\"Processo: \", processo[0])\n",
    "print(\"Juiz: \",juiz[0])\n",
    "print(\"Relatorio: \",relatorio[0])\n",
    "print(\"Fundamentacao: \",fundamentacao[0])\n",
    "print(\"Dispositivo: \",dispositivo[0])\n",
    "#print(\"Classificacao: \", classificacao[0])\n",
    "\n"
   ]
  },
  {
   "cell_type": "code",
   "execution_count": null,
   "id": "de4f3ab3",
   "metadata": {},
   "outputs": [],
   "source": []
  },
  {
   "cell_type": "code",
   "execution_count": null,
   "id": "46bcd547",
   "metadata": {},
   "outputs": [],
   "source": []
  },
  {
   "cell_type": "code",
   "execution_count": 115,
   "id": "496fdc4b",
   "metadata": {},
   "outputs": [],
   "source": [
    "# Para um arquivo especifico, já podemos instanciar os modelos de NER, Pergunta e Resposta e Resumo (em portugues)\n",
    "#   para extrair novas colunas para o Analytics.\n",
    "# Verificar os registros (processos/arquivos) que possuem algum campo vazio para aperfeiçoar a captura/BERT"
   ]
  },
  {
   "cell_type": "code",
   "execution_count": 99,
   "id": "0f3a6b5b",
   "metadata": {},
   "outputs": [],
   "source": [
    "# Já podemos criar um Dataset com as colunas capturadas neste arquivo (antes de rodar para todos os txts da pasta)\n",
    "# Verificar os registros (processos/arquivos) que possuem algum campo vazio para aperfeiçoar a captura/regex"
   ]
  },
  {
   "cell_type": "code",
   "execution_count": 100,
   "id": "56d49704",
   "metadata": {},
   "outputs": [],
   "source": []
  },
  {
   "cell_type": "code",
   "execution_count": null,
   "id": "716e811f",
   "metadata": {},
   "outputs": [],
   "source": []
  },
  {
   "cell_type": "code",
   "execution_count": null,
   "id": "8730f74e",
   "metadata": {},
   "outputs": [],
   "source": []
  },
  {
   "cell_type": "code",
   "execution_count": null,
   "id": "c588b742",
   "metadata": {},
   "outputs": [],
   "source": []
  },
  {
   "cell_type": "code",
   "execution_count": null,
   "id": "608a0544",
   "metadata": {},
   "outputs": [],
   "source": []
  },
  {
   "cell_type": "code",
   "execution_count": null,
   "id": "5d998ecb",
   "metadata": {},
   "outputs": [],
   "source": []
  },
  {
   "cell_type": "code",
   "execution_count": null,
   "id": "5ab6bce7",
   "metadata": {},
   "outputs": [],
   "source": []
  },
  {
   "cell_type": "code",
   "execution_count": null,
   "id": "1b1fd577",
   "metadata": {},
   "outputs": [],
   "source": []
  },
  {
   "cell_type": "code",
   "execution_count": null,
   "id": "651ae18d",
   "metadata": {},
   "outputs": [],
   "source": []
  },
  {
   "cell_type": "code",
   "execution_count": null,
   "id": "c00b0a48",
   "metadata": {},
   "outputs": [],
   "source": []
  },
  {
   "cell_type": "code",
   "execution_count": null,
   "id": "5b54da09",
   "metadata": {},
   "outputs": [],
   "source": []
  },
  {
   "cell_type": "code",
   "execution_count": null,
   "id": "9c661c71",
   "metadata": {},
   "outputs": [],
   "source": []
  },
  {
   "cell_type": "code",
   "execution_count": null,
   "id": "ac441aef",
   "metadata": {},
   "outputs": [],
   "source": []
  }
 ],
 "metadata": {
  "kernelspec": {
   "display_name": "Python 3",
   "language": "python",
   "name": "python3"
  },
  "language_info": {
   "codemirror_mode": {
    "name": "ipython",
    "version": 3
   },
   "file_extension": ".py",
   "mimetype": "text/x-python",
   "name": "python",
   "nbconvert_exporter": "python",
   "pygments_lexer": "ipython3",
   "version": "3.8.8"
  }
 },
 "nbformat": 4,
 "nbformat_minor": 5
}
