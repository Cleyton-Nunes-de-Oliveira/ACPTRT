{
 "cells": [
  {
   "cell_type": "code",
   "execution_count": null,
   "id": "d76b2984",
   "metadata": {},
   "outputs": [],
   "source": [
    "# Treinar o modelo LM pre-treinado nas Sentenças nas Tarefas de NLP especifica (NER) usando Adapters.\n",
    "# https://github.com/piegu/language-models/blob/master/adapters/language-modeling/language_modeling_adapter.ipynb\n",
    "# https://github.com/piegu/language-models/blob/master/adapters/token-classification/token_classification_adapter.ipynb\n",
    "# https://huggingface.co/course/chapter7/2?fw=pt\n",
    "# https://huggingface.co/course/chapter7/3?fw=pt"
   ]
  },
  {
   "cell_type": "code",
   "execution_count": null,
   "id": "33bf8b04",
   "metadata": {},
   "outputs": [],
   "source": []
  },
  {
   "cell_type": "code",
   "execution_count": null,
   "id": "518fc68b",
   "metadata": {},
   "outputs": [],
   "source": []
  },
  {
   "cell_type": "code",
   "execution_count": null,
   "id": "8f74fc70",
   "metadata": {},
   "outputs": [],
   "source": []
  },
  {
   "cell_type": "code",
   "execution_count": 1,
   "id": "92052277",
   "metadata": {},
   "outputs": [
    {
     "name": "stdout",
     "output_type": "stream",
     "text": [
      "python: 3.8.13 (default, Mar 28 2022, 11:38:47) \n",
      "[GCC 7.5.0]\n",
      "Pytorch: 1.12.0+cpu\n"
     ]
    },
    {
     "name": "stderr",
     "output_type": "stream",
     "text": [
      "2022-08-05 01:41:22.921969: W tensorflow/stream_executor/platform/default/dso_loader.cc:64] Could not load dynamic library 'libcudart.so.11.0'; dlerror: libcudart.so.11.0: cannot open shared object file: No such file or directory\n",
      "2022-08-05 01:41:22.921982: I tensorflow/stream_executor/cuda/cudart_stub.cc:29] Ignore above cudart dlerror if you do not have a GPU set up on your machine.\n",
      "/home/info/.conda/envs/acptrt1/lib/python3.8/site-packages/scipy/__init__.py:146: UserWarning: A NumPy version >=1.16.5 and <1.23.0 is required for this version of SciPy (detected version 1.23.1\n",
      "  warnings.warn(f\"A NumPy version >={np_minversion} and <{np_maxversion}\"\n"
     ]
    },
    {
     "name": "stdout",
     "output_type": "stream",
     "text": [
      "adapter-transformers: 4.17.0\n",
      "tokenizers: 0.12.1\n",
      "datasets: 1.11.0\n"
     ]
    }
   ],
   "source": [
    "import pathlib\n",
    "from pathlib import Path\n",
    "import pickle\n",
    "import pandas as pd\n",
    "import os\n",
    "import numpy as np\n",
    "import matplotlib.pyplot as plt\n",
    "from collections import Counter\n",
    "from colorama import Fore, Back, Style\n",
    "import random\n",
    "from IPython.display import display, HTML\n",
    "\n",
    "\n",
    "import sys; print('python:',sys.version)\n",
    "import torch; print('Pytorch:',torch.__version__)\n",
    "import transformers; print('adapter-transformers:',transformers.__version__)\n",
    "#import transformers; print('HF transformers:',transformers.__hf_version__)     # <======\n",
    "import tokenizers; print('tokenizers:',tokenizers.__version__)\n",
    "\n",
    "import datasets; print('datasets:',datasets.__version__)\n",
    "from datasets import DatasetDict, Dataset, ClassLabel, Sequence\n",
    "from datasets import load_dataset, load_metric\n",
    "from datasets import Value \n",
    "\n",
    "from transformers.adapters.composition import Stack\n",
    "from transformers.trainer_callback import EarlyStoppingCallback\n",
    "from transformers import AdapterConfig\n",
    "from transformers import DataCollatorForTokenClassification\n",
    "from transformers import AutoModelForTokenClassification, AutoTokenizer, TrainingArguments, Trainer\n",
    "from transformers import AutoTokenizer \n",
    "\n",
    "import torch\n",
    "from torch.nn import CrossEntropyLoss\n",
    "from torch.nn import ModuleDict\n",
    "\n",
    "#!pip install torch torchvision torchaudio --extra-index-url https://download.pytorch.org/whl/cpu"
   ]
  },
  {
   "cell_type": "code",
   "execution_count": null,
   "id": "9f05e5d4",
   "metadata": {},
   "outputs": [],
   "source": []
  },
  {
   "cell_type": "code",
   "execution_count": null,
   "id": "3f818e0f",
   "metadata": {},
   "outputs": [],
   "source": []
  },
  {
   "cell_type": "code",
   "execution_count": null,
   "id": "9e1d6199",
   "metadata": {},
   "outputs": [],
   "source": []
  },
  {
   "cell_type": "code",
   "execution_count": 2,
   "id": "f5c688b8",
   "metadata": {},
   "outputs": [
    {
     "data": {
      "text/plain": [
       "PosixPath('/home/info/MyNotebooks/Datasets/SentencasTRT1/ACP-Bert-LM/NER-ACP/outputs/NER-ACP_/ner/lr0.0001_bs8_epochs3_patience5_wamlmFalse_madx2True_houlsby_MHA_lastlayerFalse_dsFalse_fp16True_bestTrue_metricf1_weightedlossTrue_c0.3_nsTrue_adapterconfigpfeiffer')"
      ]
     },
     "execution_count": 2,
     "metadata": {},
     "output_type": "execute_result"
    }
   ],
   "source": [
    "#root path ==================================================\n",
    "# root = Path.cwd()\n",
    "model_checkpoint = \"/home/info/MyNotebooks/bert-base-portuguese-cased-finetuned-ACP/checkpoint-1500/\"\n",
    "\n",
    "root = Path(\"/home/info/MyNotebooks/Datasets/SentencasTRT1/ACP-Bert-LM/NER-ACP\")\n",
    "root = Path(root)\n",
    "root\n",
    "\n",
    "\n",
    "# DATASET ==================================================\n",
    "#\n",
    "# LeNER-br in Portuguese\n",
    "dataset_name = \"LeNER-Br\"\n",
    "dataset_file = \"/home/info/MyNotebooks/Datasets/LeNER-Br/LeNER-Br/\"\n",
    "\n",
    "\n",
    "# train BERT with 2 sentences consecutive ==================================================\n",
    "next_sentence = True\n",
    "\n",
    "task = \"ner\"\n",
    "\n",
    "\n",
    "# Main hyperparameters\n",
    "# training arguments ==================================================\n",
    "batch_size = 8\n",
    "gradient_accumulation_steps = 1\n",
    "\n",
    "learning_rate = 1e-4\n",
    "num_train_epochs = 3 # 20.\n",
    "early_stopping_patience = 5\n",
    "\n",
    "adam_epsilon = 1e-6\n",
    "\n",
    "fp16 = True\n",
    "ds = False # If True, we use DeepSpeed\n",
    "\n",
    "# best model\n",
    "load_best_model_at_end = True \n",
    "metric_for_best_model = \"f1\"\n",
    "greater_is_better = True\n",
    "\n",
    "# weighted loss\n",
    "weighted_loss = True #False\n",
    "if weighted_loss:\n",
    "    c = 0.3\n",
    "else:\n",
    "    c = 0.0\n",
    "\n",
    "\n",
    "    \n",
    "# train adapter ==================================================\n",
    "train_adapter = True # we want to train an adapter\n",
    "load_adapter = None # we do not upload an existing adapter \n",
    "\n",
    "# lang adapter ==================================================\n",
    "with_adapters_mlm = False #True # if False, we do not upload an existing lang adapter\n",
    "\n",
    "if with_adapters_mlm:\n",
    "    # define values to upload a specific lang adapter\n",
    "    adapter_composition = \"stack\" # we will stack the lang and task adapters\n",
    "else:\n",
    "    adapter_composition = None\n",
    "\n",
    "# if True, do not put adapter in the last transformer layer (Pfeiffer configuration)\n",
    "madx2 = True\n",
    "\n",
    "# if True, do not put adapter in the last transformer layer after the FeedFordarw block (Houlsby configuration)\n",
    "houlsby_MHA_lastlayer = False\n",
    "\n",
    "\n",
    "# Configuration ==================================================\n",
    "os.environ[\"WANDB_DISABLED\"] = \"true\"\n",
    "os.environ[\"TOKENIZERS_PARALLELISM\"] = \"false\"\n",
    "os.environ['KMP_DUPLICATE_LIB_OK']='True'\n",
    "\n",
    "torch.cuda.is_available = lambda : False\n",
    "device = torch.device('cuda' if torch.cuda.is_available() else 'cpu')\n",
    "device\n",
    "\n",
    "\n",
    "\n",
    "## Adapters config\n",
    "# Task adapter config ==================================================\n",
    "\n",
    "adapter_config_name = \"pfeiffer\" # houlsby is possible, too\n",
    "if adapter_config_name == \"pfeiffer\":\n",
    "    adapter_non_linearity = 'gelu' # relu is possible, too\n",
    "elif adapter_config_name == \"houlsby\":\n",
    "    adapter_non_linearity = 'swish'\n",
    "adapter_reduction_factor = 16\n",
    "language = 'pt' # pt = Portuguese\n",
    "\n",
    "adapter_config_name, adapter_non_linearity, adapter_reduction_factor, language\n",
    "\n",
    "\n",
    "# Lang adapter config  ==================================================\n",
    "if with_adapters_mlm:\n",
    "    # AQUI PODE ESTAR O PROBLEMA! Mas todos hiperparametros referem-se ao _mlm!\n",
    "    #\n",
    "    # hyperparameters used for fine-tuning the MLM with lang adapter\n",
    "    learning_rate_mlm = 1e-4\n",
    "    batch_size_mlm = 16\n",
    "    gradient_accumulation_steps_mlm = 1\n",
    "    adam_epsilon_mlm = 1e-6\n",
    "    num_train_epoch_mlm = 100.\n",
    "    early_stopping_patience_mlm = 10\n",
    "    madx2_mlm = madx2\n",
    "    houlsby_MHA_lastlayer_mlm = houlsby_MHA_lastlayer\n",
    "    ds_mlm = False\n",
    "    fp16_mlm = True\n",
    "    load_best_model_at_end_mlm = True\n",
    "    metric_for_best_model_mlm = \"loss\"\n",
    "    adapter_config_mlm = adapter_config_name+\"+inv\"\n",
    "    \n",
    "    # path to lang adapter\n",
    "    #outputs_mlm = model_checkpoint.replace('/','-') + '_' + dataset_name + '/' + 'mlm' + '/' \\\n",
    "    outputs_mlm = 'NER-ACP-Bert' + '_' + dataset_name + '/' + 'mlm' + '/' \\\n",
    "    + 'lr' + str(learning_rate_mlm) \\\n",
    "    + '_bs' + str(batch_size_mlm) \\\n",
    "    + '_GAS' + str(gradient_accumulation_steps_mlm) \\\n",
    "    + '_eps' + str(adam_epsilon_mlm) \\\n",
    "    + '_epochs' + str(num_train_epoch_mlm) \\\n",
    "    + '_patience' + str(early_stopping_patience_mlm) \\\n",
    "    + '_madx2' + str(madx2_mlm) \\\n",
    "    + '_houlsby_MHA_lastlayer' + str(houlsby_MHA_lastlayer_mlm) \\\n",
    "    + '_ds' + str(ds_mlm) \\\n",
    "    + '_fp16' + str(fp16_mlm) \\\n",
    "    + '_best' + str(load_best_model_at_end_mlm) \\\n",
    "    + '_metric' + str(metric_for_best_model_mlm) \\\n",
    "    + '_adapterconfig' + str(adapter_config_mlm)\n",
    "    \n",
    "    path_to_outputs_mlm = root/'outputs'/outputs_mlm\n",
    "    \n",
    "    # Config of the lang adapter\n",
    "    lang_adapter_path = path_to_outputs_mlm/'adapters-mlm/'\n",
    "    \n",
    "    load_lang_adapter = str(lang_adapter_path)\n",
    "    lang_adapter_config = str(lang_adapter_path) + \"/adapter_config.json\"\n",
    "    if adapter_config_mlm == \"pfeiffer+inv\":\n",
    "        lang_adapter_non_linearity = 'gelu' # relu is possible, too\n",
    "    elif adapter_config_mlm == \"houlsby+inv\":\n",
    "        lang_adapter_non_linearity = 'swish'\n",
    "    lang_adapter_reduction_factor = 2\n",
    "    language_mlm = language\n",
    "\n",
    "\n",
    "    \n",
    "#setup the training argument ==================================================\n",
    "do_train = True \n",
    "do_eval = True \n",
    "\n",
    "# if you want to test the trainer, set up the following variables\n",
    "max_train_samples = 200 # None\n",
    "max_val_samples = 50 # None\n",
    "\n",
    "# epochs, bs, GA\n",
    "evaluation_strategy = \"epoch\" \n",
    "\n",
    "# fp16\n",
    "fp16_opt_level = 'O1'\n",
    "fp16_backend = \"auto\"\n",
    "fp16_full_eval = False\n",
    "\n",
    "# optimizer (AdamW)\n",
    "weight_decay = 0.01 # 0.0\n",
    "adam_beta1 = 0.9\n",
    "adam_beta2 = 0.999\n",
    "\n",
    "# scheduler\n",
    "lr_scheduler_type = 'linear'\n",
    "warmup_ratio = 0.0\n",
    "warmup_steps = 0\n",
    "\n",
    "# logs\n",
    "logging_strategy = \"steps\"\n",
    "logging_first_step = True # False\n",
    "logging_steps = 500     # if strategy = \"steps\"\n",
    "eval_steps = logging_steps # logging_steps\n",
    "\n",
    "# checkpoints\n",
    "save_strategy = \"epoch\" # steps\n",
    "save_steps = 500 # if save_strategy = \"steps\"\n",
    "save_total_limit = 1 # None\n",
    "\n",
    "# no cuda, seed\n",
    "no_cuda = True # False\n",
    "seed = 42\n",
    "\n",
    "# bar\n",
    "disable_tqdm = False # True\n",
    "remove_unused_columns = True\n",
    "\n",
    "\n",
    "\n",
    "# folder for training outputs ==================================================\n",
    "\n",
    "#if model_checkpoint == \"neuralmind/bert-large-portuguese-cased\":\n",
    "if model_checkpoint == \"neuralmind/bert-base-portuguese-cased\":\n",
    "    outputs = model_checkpoint.replace('/','-') + '_' + dataset_name\n",
    "else:\n",
    "    #outputs = model_output\n",
    "    outputs = \"NER-ACP_\"\n",
    "    \n",
    "if with_adapters_mlm:\n",
    "    outputs = outputs + '/' + 'mlm_' + str(task) + '_AdCompo' + str(adapter_composition) + '/'\n",
    "else:\n",
    "    outputs = outputs + '/' + str(task) + '/'\n",
    "\n",
    "outputs = outputs \\\n",
    "+ 'lr' + str(learning_rate) \\\n",
    "+ '_bs' + str(batch_size) \\\n",
    "+ '_epochs' + str(num_train_epochs) \\\n",
    "+ '_patience' + str(early_stopping_patience) \\\n",
    "+ '_wamlm' + str(with_adapters_mlm) \\\n",
    "+ '_madx2' + str(madx2) \\\n",
    "+ '_houlsby_MHA_lastlayer' + str(houlsby_MHA_lastlayer) \\\n",
    "+ '_ds' + str(ds) \\\n",
    "+ '_fp16' + str(fp16) \\\n",
    "+ '_best' + str(load_best_model_at_end) \\\n",
    "+ '_metric' + str(metric_for_best_model) \\\n",
    "+ '_weightedloss' + str(weighted_loss) \\\n",
    "+ '_c' + str(c) \\\n",
    "+ '_ns' + str(next_sentence) \\\n",
    "+ '_adapterconfig' + str(adapter_config_name)  \n",
    "\n",
    "# path to outputs\n",
    "#path_to_outputs = Path(path_to_outputs)\n",
    "path_to_outputs = root/'outputs'/outputs\n",
    "\n",
    "# subfolder for model outputs\n",
    "output_dir = path_to_outputs/'output_dir' \n",
    "overwrite_output_dir = True # False\n",
    "\n",
    "# logs\n",
    "logging_dir = path_to_outputs/'logging_dir'\n",
    "\n",
    "path_to_outputs\n",
    "#output_dir\n",
    "#logging_dir\n",
    "#root"
   ]
  },
  {
   "cell_type": "code",
   "execution_count": null,
   "id": "d93718f1",
   "metadata": {},
   "outputs": [],
   "source": []
  },
  {
   "cell_type": "code",
   "execution_count": null,
   "id": "d3098fba",
   "metadata": {},
   "outputs": [],
   "source": []
  },
  {
   "cell_type": "code",
   "execution_count": null,
   "id": "ec2c221a",
   "metadata": {},
   "outputs": [],
   "source": []
  },
  {
   "cell_type": "markdown",
   "id": "a319cf73",
   "metadata": {},
   "source": [
    "Adapters config"
   ]
  },
  {
   "cell_type": "code",
   "execution_count": null,
   "id": "d99e3f8f",
   "metadata": {},
   "outputs": [],
   "source": []
  },
  {
   "cell_type": "code",
   "execution_count": null,
   "id": "7322c8e4",
   "metadata": {},
   "outputs": [],
   "source": []
  },
  {
   "cell_type": "code",
   "execution_count": null,
   "id": "99ed76ec",
   "metadata": {},
   "outputs": [],
   "source": []
  },
  {
   "cell_type": "markdown",
   "id": "8352f8ac",
   "metadata": {},
   "source": [
    "Loading the dataset\n",
    "https://huggingface.co/datasets/lener_br"
   ]
  },
  {
   "cell_type": "code",
   "execution_count": 3,
   "id": "de157103",
   "metadata": {},
   "outputs": [
    {
     "name": "stderr",
     "output_type": "stream",
     "text": [
      "Reusing dataset lener_br (/home/info/.cache/huggingface/datasets/lener_br/lener_br/1.0.0/4a8c97e6813b5c2d85a50faf0a3e6c24ea82f4a9044e6e9e8b24997d27399382)\n"
     ]
    },
    {
     "data": {
      "text/plain": [
       "DatasetDict({\n",
       "    train: Dataset({\n",
       "        features: ['id', 'tokens', 'ner_tags'],\n",
       "        num_rows: 7828\n",
       "    })\n",
       "    validation: Dataset({\n",
       "        features: ['id', 'tokens', 'ner_tags'],\n",
       "        num_rows: 1177\n",
       "    })\n",
       "    test: Dataset({\n",
       "        features: ['id', 'tokens', 'ner_tags'],\n",
       "        num_rows: 1390\n",
       "    })\n",
       "})"
      ]
     },
     "execution_count": 3,
     "metadata": {},
     "output_type": "execute_result"
    }
   ],
   "source": [
    "# Download dataset from Huggingface Hub\n",
    "dataset_name_hf = \"lener_br\"\n",
    "datasets = load_dataset(dataset_name_hf)\n",
    "datasets"
   ]
  },
  {
   "cell_type": "code",
   "execution_count": 4,
   "id": "99ec98ec",
   "metadata": {},
   "outputs": [
    {
     "data": {
      "text/plain": [
       "{'id': '0',\n",
       " 'tokens': ['EMENTA',\n",
       "  ':',\n",
       "  'APELAÇÃO',\n",
       "  'CÍVEL',\n",
       "  '-',\n",
       "  'AÇÃO',\n",
       "  'DE',\n",
       "  'INDENIZAÇÃO',\n",
       "  'POR',\n",
       "  'DANOS',\n",
       "  'MORAIS',\n",
       "  '-',\n",
       "  'PRELIMINAR',\n",
       "  '-',\n",
       "  'ARGUIDA',\n",
       "  'PELO',\n",
       "  'MINISTÉRIO',\n",
       "  'PÚBLICO',\n",
       "  'EM',\n",
       "  'GRAU',\n",
       "  'RECURSAL',\n",
       "  '-',\n",
       "  'NULIDADE',\n",
       "  '-',\n",
       "  'AUSÊNCIA',\n",
       "  'DE',\n",
       "  'INTERVENÇÃO',\n",
       "  'DO',\n",
       "  'PARQUET',\n",
       "  'NA',\n",
       "  'INSTÂNCIA',\n",
       "  'A',\n",
       "  'QUO',\n",
       "  '-',\n",
       "  'PRESENÇA',\n",
       "  'DE',\n",
       "  'INCAPAZ',\n",
       "  '-',\n",
       "  'PREJUÍZO',\n",
       "  'EXISTENTE',\n",
       "  '-',\n",
       "  'PRELIMINAR',\n",
       "  'ACOLHIDA',\n",
       "  '-',\n",
       "  'NULIDADE',\n",
       "  'RECONHECIDA',\n",
       "  '.'],\n",
       " 'ner_tags': [0,\n",
       "  0,\n",
       "  0,\n",
       "  0,\n",
       "  0,\n",
       "  0,\n",
       "  0,\n",
       "  0,\n",
       "  0,\n",
       "  0,\n",
       "  0,\n",
       "  0,\n",
       "  0,\n",
       "  0,\n",
       "  0,\n",
       "  0,\n",
       "  1,\n",
       "  2,\n",
       "  0,\n",
       "  0,\n",
       "  0,\n",
       "  0,\n",
       "  0,\n",
       "  0,\n",
       "  0,\n",
       "  0,\n",
       "  0,\n",
       "  0,\n",
       "  0,\n",
       "  0,\n",
       "  0,\n",
       "  0,\n",
       "  0,\n",
       "  0,\n",
       "  0,\n",
       "  0,\n",
       "  0,\n",
       "  0,\n",
       "  0,\n",
       "  0,\n",
       "  0,\n",
       "  0,\n",
       "  0,\n",
       "  0,\n",
       "  0,\n",
       "  0,\n",
       "  0]}"
      ]
     },
     "execution_count": 4,
     "metadata": {},
     "output_type": "execute_result"
    }
   ],
   "source": [
    "datasets[\"train\"][0]"
   ]
  },
  {
   "cell_type": "code",
   "execution_count": 5,
   "id": "9a730c87",
   "metadata": {},
   "outputs": [],
   "source": [
    "# Save dataset to disk\n",
    "datasets.save_to_disk(\"/home/info/MyNotebooks/Datasets/LeNER-Br/From_HuggingFace\")"
   ]
  },
  {
   "cell_type": "code",
   "execution_count": null,
   "id": "f0e850a4",
   "metadata": {},
   "outputs": [],
   "source": []
  },
  {
   "cell_type": "code",
   "execution_count": 6,
   "id": "bbcf701f",
   "metadata": {},
   "outputs": [
    {
     "data": {
      "text/plain": [
       "Sequence(feature=ClassLabel(num_classes=13, names=['O', 'B-ORGANIZACAO', 'I-ORGANIZACAO', 'B-PESSOA', 'I-PESSOA', 'B-TEMPO', 'I-TEMPO', 'B-LOCAL', 'I-LOCAL', 'B-LEGISLACAO', 'I-LEGISLACAO', 'B-JURISPRUDENCIA', 'I-JURISPRUDENCIA'], names_file=None, id=None), length=-1, id=None)"
      ]
     },
     "execution_count": 6,
     "metadata": {},
     "output_type": "execute_result"
    }
   ],
   "source": [
    "datasets[\"train\"].features[f\"ner_tags\"]"
   ]
  },
  {
   "cell_type": "markdown",
   "id": "7750f88d",
   "metadata": {},
   "source": [
    "\n",
    "\n",
    "So for the NER tags, 0 corresponds to 'O', 1 to 'B-ORGANIZACAO' etc... On top of the 'O' (which means no special entity), there are four labels for NER here, each prefixed with 'B-' (for beginning) or 'I-' (for intermediate), that indicate if the token is the first one for the current group with the label or not:\n",
    "\n",
    "    'ORGANIZACAO' for organization\n",
    "    'PESSOA' for person\n",
    "    'TEMPO' for data\n",
    "    'LOCAL' for location\n",
    "    'LEGISLACAO' for legislation\n",
    "    'JURISPRUDENCIA' for jurisprudence\n",
    "\n"
   ]
  },
  {
   "cell_type": "markdown",
   "id": "d8e5e7bb",
   "metadata": {},
   "source": [
    "Since the labels are lists of ClassLabel, the actual names of the labels are nested in the feature attribute of the object above:"
   ]
  },
  {
   "cell_type": "code",
   "execution_count": 7,
   "id": "c2489908",
   "metadata": {},
   "outputs": [
    {
     "data": {
      "text/plain": [
       "['O',\n",
       " 'B-ORGANIZACAO',\n",
       " 'I-ORGANIZACAO',\n",
       " 'B-PESSOA',\n",
       " 'I-PESSOA',\n",
       " 'B-TEMPO',\n",
       " 'I-TEMPO',\n",
       " 'B-LOCAL',\n",
       " 'I-LOCAL',\n",
       " 'B-LEGISLACAO',\n",
       " 'I-LEGISLACAO',\n",
       " 'B-JURISPRUDENCIA',\n",
       " 'I-JURISPRUDENCIA']"
      ]
     },
     "execution_count": 7,
     "metadata": {},
     "output_type": "execute_result"
    }
   ],
   "source": [
    "# label_list = datasets[\"train\"].features[f\"{task}_tags\"].feature.names\n",
    "label_list = ['O',\n",
    " 'B-ORGANIZACAO',\n",
    " 'I-ORGANIZACAO',\n",
    " 'B-PESSOA',\n",
    " 'I-PESSOA',\n",
    " 'B-TEMPO',\n",
    " 'I-TEMPO',\n",
    " 'B-LOCAL',\n",
    " 'I-LOCAL',\n",
    " 'B-LEGISLACAO',\n",
    " 'I-LEGISLACAO',\n",
    " 'B-JURISPRUDENCIA',\n",
    " 'I-JURISPRUDENCIA']\n",
    "label_list\n",
    "\n",
    "# labels = datasets[\"train\"].features[f\"ner_tags\"].feature.names\n",
    "labels  = ['O',\n",
    " 'B-ORGANIZACAO',\n",
    " 'I-ORGANIZACAO',\n",
    " 'B-PESSOA',\n",
    " 'I-PESSOA',\n",
    " 'B-TEMPO',\n",
    " 'I-TEMPO',\n",
    " 'B-LOCAL',\n",
    " 'I-LOCAL',\n",
    " 'B-LEGISLACAO',\n",
    " 'I-LEGISLACAO',\n",
    " 'B-JURISPRUDENCIA',\n",
    " 'I-JURISPRUDENCIA']\n",
    "labels\n",
    "\n"
   ]
  },
  {
   "cell_type": "markdown",
   "id": "7d6951be",
   "metadata": {},
   "source": [
    "To get a sense of what the data looks like, the following function will show some examples picked randomly in the dataset (automatically decoding the labels in passing)."
   ]
  },
  {
   "cell_type": "code",
   "execution_count": 8,
   "id": "f69e7543",
   "metadata": {},
   "outputs": [],
   "source": [
    "def show_random_elements(dataset, num_examples=10):\n",
    "    assert num_examples <= len(dataset), \"Can't pick more elements than there are in the dataset.\"\n",
    "    picks = []\n",
    "    for _ in range(num_examples):\n",
    "        pick = random.randint(0, len(dataset)-1)\n",
    "        while pick in picks:\n",
    "            pick = random.randint(0, len(dataset)-1)\n",
    "        picks.append(pick)\n",
    "    \n",
    "    df = pd.DataFrame(dataset[picks])\n",
    "    for column, typ in dataset.features.items():\n",
    "        if isinstance(typ, ClassLabel):\n",
    "            df[column] = df[column].transform(lambda i: typ.names[i])\n",
    "        elif isinstance(typ, Sequence) and isinstance(typ.feature, ClassLabel):\n",
    "            df[column] = df[column].transform(lambda x: [typ.feature.names[i] for i in x])\n",
    "    display(HTML(df.to_html()))"
   ]
  },
  {
   "cell_type": "code",
   "execution_count": 9,
   "id": "d1d5d26b",
   "metadata": {},
   "outputs": [
    {
     "data": {
      "text/html": [
       "<table border=\"1\" class=\"dataframe\">\n",
       "  <thead>\n",
       "    <tr style=\"text-align: right;\">\n",
       "      <th></th>\n",
       "      <th>id</th>\n",
       "      <th>tokens</th>\n",
       "      <th>ner_tags</th>\n",
       "    </tr>\n",
       "  </thead>\n",
       "  <tbody>\n",
       "    <tr>\n",
       "      <th>0</th>\n",
       "      <td>7441</td>\n",
       "      <td>[Incidência, da, Súmula, nº, 422, do, TST, .]</td>\n",
       "      <td>[O, O, B-JURISPRUDENCIA, I-JURISPRUDENCIA, I-JURISPRUDENCIA, I-JURISPRUDENCIA, I-JURISPRUDENCIA, O]</td>\n",
       "    </tr>\n",
       "    <tr>\n",
       "      <th>1</th>\n",
       "      <td>4666</td>\n",
       "      <td>[Reconheceu, ,, ainda, ,, a, Suprema, Corte, ,, no, julgamento, da, Rcl, 12.571-ED, ,, de, relatoria, do, excelentíssimo, Ministro, Dias, Toffoli, ,, que, ``, os, antigos, ferroviários, que, atuavam, perante, a, extinta, FEPASA, estavam, submetidos, ao, regime, jurídico, estatutário, e, não, à, Consolidação, das, Leis, do, Trabalho-CLT, '', .]</td>\n",
       "      <td>[O, O, O, O, O, B-ORGANIZACAO, I-ORGANIZACAO, O, O, O, O, B-JURISPRUDENCIA, I-JURISPRUDENCIA, O, O, O, O, O, O, B-PESSOA, I-PESSOA, O, O, O, O, O, O, O, O, O, O, O, B-ORGANIZACAO, O, O, O, O, O, O, O, O, O, B-LEGISLACAO, I-LEGISLACAO, I-LEGISLACAO, I-LEGISLACAO, I-LEGISLACAO, O, O]</td>\n",
       "    </tr>\n",
       "    <tr>\n",
       "      <th>2</th>\n",
       "      <td>843</td>\n",
       "      <td>[Tome-se, ,, por, exemplo, ,, a, inadimplência, de, particulares, em, operações, de, crédito, regularmente, realizadas, -, ou, seja, ,, de, acordo, com, os, normativos, pertinentes, -, por, bancos, oficiais, .]</td>\n",
       "      <td>[O, O, O, O, O, O, O, O, O, O, O, O, O, O, O, O, O, O, O, O, O, O, O, O, O, O, O, O, O, O]</td>\n",
       "    </tr>\n",
       "    <tr>\n",
       "      <th>3</th>\n",
       "      <td>279</td>\n",
       "      <td>[A, conclusão, foi, que, o, atendimento, do, interesse, público, no, âmbito, do, pregão, restou, irremediavelmente, comprometido, .]</td>\n",
       "      <td>[O, O, O, O, O, O, O, O, O, O, O, O, O, O, O, O, O]</td>\n",
       "    </tr>\n",
       "    <tr>\n",
       "      <th>4</th>\n",
       "      <td>94</td>\n",
       "      <td>[Sobre, o, tema, ,, a, orientação, do, STJ, :, '', RECURSO, ESPECIAL, .]</td>\n",
       "      <td>[O, O, O, O, O, O, O, B-ORGANIZACAO, O, O, O, O, O]</td>\n",
       "    </tr>\n",
       "    <tr>\n",
       "      <th>5</th>\n",
       "      <td>6357</td>\n",
       "      <td>[O, que, ,, na, verdade, ,, objetiva, o, recorrente, e, a, rediscussão, de, questões, ,, matéria, que, não, cabe, na, presente, sede, .]</td>\n",
       "      <td>[O, O, O, O, O, O, O, O, O, O, O, O, O, O, O, O, O, O, O, O, O, O, O]</td>\n",
       "    </tr>\n",
       "    <tr>\n",
       "      <th>6</th>\n",
       "      <td>2175</td>\n",
       "      <td>[USURPAÇÃO, DE, COMPETÊNCIA, .]</td>\n",
       "      <td>[O, O, O, O]</td>\n",
       "    </tr>\n",
       "    <tr>\n",
       "      <th>7</th>\n",
       "      <td>7143</td>\n",
       "      <td>[LEI, ROUANET, .]</td>\n",
       "      <td>[B-LEGISLACAO, I-LEGISLACAO, O]</td>\n",
       "    </tr>\n",
       "    <tr>\n",
       "      <th>8</th>\n",
       "      <td>3226</td>\n",
       "      <td>[8, .]</td>\n",
       "      <td>[O, O]</td>\n",
       "    </tr>\n",
       "    <tr>\n",
       "      <th>9</th>\n",
       "      <td>2635</td>\n",
       "      <td>[15, .]</td>\n",
       "      <td>[O, O]</td>\n",
       "    </tr>\n",
       "  </tbody>\n",
       "</table>"
      ],
      "text/plain": [
       "<IPython.core.display.HTML object>"
      ]
     },
     "metadata": {},
     "output_type": "display_data"
    }
   ],
   "source": [
    "show_random_elements(datasets[\"train\"])"
   ]
  },
  {
   "cell_type": "code",
   "execution_count": null,
   "id": "5bcd6d0a",
   "metadata": {},
   "outputs": [],
   "source": []
  },
  {
   "cell_type": "code",
   "execution_count": 10,
   "id": "a8c6c8a5",
   "metadata": {},
   "outputs": [
    {
     "data": {
      "text/plain": [
       "(Dataset({\n",
       "     features: ['id', 'tokens', 'ner_tags'],\n",
       "     num_rows: 7828\n",
       " }),\n",
       " Dataset({\n",
       "     features: ['id', 'tokens', 'ner_tags'],\n",
       "     num_rows: 1390\n",
       " }),\n",
       " Dataset({\n",
       "     features: ['id', 'tokens', 'ner_tags'],\n",
       "     num_rows: 1177\n",
       " }))"
      ]
     },
     "execution_count": 10,
     "metadata": {},
     "output_type": "execute_result"
    }
   ],
   "source": [
    "datasets[\"train\"], datasets[\"test\"], datasets[\"validation\"]"
   ]
  },
  {
   "cell_type": "code",
   "execution_count": null,
   "id": "055c680e",
   "metadata": {},
   "outputs": [],
   "source": []
  },
  {
   "cell_type": "code",
   "execution_count": null,
   "id": "69505904",
   "metadata": {},
   "outputs": [],
   "source": []
  },
  {
   "cell_type": "code",
   "execution_count": null,
   "id": "3cf20890",
   "metadata": {},
   "outputs": [],
   "source": []
  },
  {
   "cell_type": "code",
   "execution_count": null,
   "id": "ef57804b",
   "metadata": {},
   "outputs": [],
   "source": []
  },
  {
   "cell_type": "markdown",
   "id": "b1d0cb24",
   "metadata": {},
   "source": [
    "Dataset analysis"
   ]
  },
  {
   "cell_type": "code",
   "execution_count": 11,
   "id": "f2e094ba",
   "metadata": {},
   "outputs": [
    {
     "name": "stderr",
     "output_type": "stream",
     "text": [
      "/tmp/ipykernel_8105/2590705613.py:23: UserWarning: FixedFormatter should only be used together with FixedLocator\n",
      "  col.set_xticklabels(labels=list(sorted_ner_tags_dist.keys()),rotation=45)\n",
      "/tmp/ipykernel_8105/2590705613.py:29: UserWarning: FixedFormatter should only be used together with FixedLocator\n",
      "  col.set_xticklabels(labels=list(sorted_ner_tags_dist_without_O.keys()),rotation=45)\n"
     ]
    },
    {
     "data": {
      "image/png": "[encoded data removed]",
      "text/plain": [
       "<Figure size 1080x360 with 2 Axes>"
      ]
     },
     "metadata": {
      "needs_background": "light"
     },
     "output_type": "display_data"
    },
    {
     "name": "stderr",
     "output_type": "stream",
     "text": [
      "/tmp/ipykernel_8105/2590705613.py:23: UserWarning: FixedFormatter should only be used together with FixedLocator\n",
      "  col.set_xticklabels(labels=list(sorted_ner_tags_dist.keys()),rotation=45)\n",
      "/tmp/ipykernel_8105/2590705613.py:29: UserWarning: FixedFormatter should only be used together with FixedLocator\n",
      "  col.set_xticklabels(labels=list(sorted_ner_tags_dist_without_O.keys()),rotation=45)\n"
     ]
    },
    {
     "data": {
      "image/png": "[encoded data removed]",
      "text/plain": [
       "<Figure size 1080x360 with 2 Axes>"
      ]
     },
     "metadata": {
      "needs_background": "light"
     },
     "output_type": "display_data"
    },
    {
     "name": "stderr",
     "output_type": "stream",
     "text": [
      "/tmp/ipykernel_8105/2590705613.py:23: UserWarning: FixedFormatter should only be used together with FixedLocator\n",
      "  col.set_xticklabels(labels=list(sorted_ner_tags_dist.keys()),rotation=45)\n",
      "/tmp/ipykernel_8105/2590705613.py:29: UserWarning: FixedFormatter should only be used together with FixedLocator\n",
      "  col.set_xticklabels(labels=list(sorted_ner_tags_dist_without_O.keys()),rotation=45)\n"
     ]
    },
    {
     "data": {
      "image/png": "[encoded data removed]",
      "text/plain": [
       "<Figure size 1080x360 with 2 Axes>"
      ]
     },
     "metadata": {
      "needs_background": "light"
     },
     "output_type": "display_data"
    }
   ],
   "source": [
    "dsets = [\"train\",\"validation\",\"test\"]\n",
    "for dset in dsets:\n",
    "    # all tags\n",
    "    ner_tags_list = list()\n",
    "    for i,row in enumerate(datasets[dset]):\n",
    "        ner_tags_list += row['ner_tags']\n",
    "\n",
    "    # unique ner tags\n",
    "    ner_tags_unique = list(set(ner_tags_list))\n",
    "    ner_tags_unique = [labels[i] for i in ner_tags_unique]\n",
    "\n",
    "    # Analyse the Tag distribution\n",
    "    ner_tags_dist = Counter(ner_tags_list)\n",
    "    ner_tags_dist = {labels[k]:v for k,v in ner_tags_dist.items()}\n",
    "    sorted_ner_tags_dist = {k:ner_tags_dist[k] for k in labels}\n",
    "    \n",
    "    fig = plt.figure(figsize=(15,5))\n",
    "    axes = fig.subplots(nrows=1, ncols=2)\n",
    "\n",
    "    for i,col in enumerate(axes):\n",
    "            if i == 0: \n",
    "                col.bar(sorted_ner_tags_dist.keys(), sorted_ner_tags_dist.values(), width=1, color='g')\n",
    "                col.set_xticklabels(labels=list(sorted_ner_tags_dist.keys()),rotation=45)\n",
    "                col.set_title(f'{dset} dataset histogram')\n",
    "            if i == 1:\n",
    "                sorted_ner_tags_dist_without_O = sorted_ner_tags_dist.copy()\n",
    "                del_value = sorted_ner_tags_dist_without_O.pop('O')\n",
    "                col.bar(sorted_ner_tags_dist_without_O.keys(), sorted_ner_tags_dist_without_O.values(), width=1, color='g')\n",
    "                col.set_xticklabels(labels=list(sorted_ner_tags_dist_without_O.keys()),rotation=45)\n",
    "                col.set_title(f'{dset} dataset histogram (without the entity O)')\n",
    "\n",
    "    plt.show()"
   ]
  },
  {
   "cell_type": "markdown",
   "id": "2ec25a5b",
   "metadata": {},
   "source": [
    "\n",
    "\n",
    "There are 2 facts: the labels categories are very imbalanced and the train, validation and test datasets distributions are similar (which is a positive point).\n",
    "\n",
    "As a solution to the first point, we could test a weighted loss function in the trainer.\n"
   ]
  },
  {
   "cell_type": "code",
   "execution_count": 12,
   "id": "cb60a653",
   "metadata": {},
   "outputs": [
    {
     "data": {
      "text/plain": [
       "(Dataset({\n",
       "     features: ['id', 'tokens', 'ner_tags'],\n",
       "     num_rows: 7828\n",
       " }),\n",
       " Dataset({\n",
       "     features: ['id', 'tokens', 'ner_tags'],\n",
       "     num_rows: 1390\n",
       " }),\n",
       " Dataset({\n",
       "     features: ['id', 'tokens', 'ner_tags'],\n",
       "     num_rows: 1177\n",
       " }))"
      ]
     },
     "execution_count": 12,
     "metadata": {},
     "output_type": "execute_result"
    }
   ],
   "source": [
    "datasets[\"train\"], datasets[\"test\"], datasets[\"validation\"]"
   ]
  },
  {
   "cell_type": "markdown",
   "id": "d887b6e9",
   "metadata": {},
   "source": [
    "Preprocessing the data"
   ]
  },
  {
   "cell_type": "markdown",
   "id": "a17d8f29",
   "metadata": {},
   "source": [
    "\n",
    "\n",
    "Before we can feed those texts to our model, we need to preprocess them. This is done by a 🤗 Transformers Tokenizer which will (as the name indicates) tokenize the inputs (including converting the tokens to their corresponding IDs in the pretrained vocabulary) and put it in a format the model expects, as well as generate the other inputs that model requires.\n",
    "\n",
    "To do all of this, we instantiate our tokenizer with the AutoTokenizer.from_pretrained method, which will ensure:\n",
    "\n",
    "    we get a tokenizer that corresponds to the model architecture we want to use,\n",
    "    we download the vocabulary used when pretraining this specific checkpoint.\n",
    "\n",
    "That vocabulary will be cached, so it's not downloaded again the next time we run the cell.\n"
   ]
  },
  {
   "cell_type": "code",
   "execution_count": null,
   "id": "76fe7f7e",
   "metadata": {},
   "outputs": [],
   "source": []
  },
  {
   "cell_type": "code",
   "execution_count": 13,
   "id": "04518b05",
   "metadata": {},
   "outputs": [],
   "source": [
    "# TOKENIZER\n",
    "#\n",
    "tkzer_checkpoint = \"neuralmind/bert-base-portuguese-cased\"\n",
    "tokenizer = AutoTokenizer.from_pretrained(tkzer_checkpoint)"
   ]
  },
  {
   "cell_type": "markdown",
   "id": "fa7ae598",
   "metadata": {},
   "source": [
    "The following assertion ensures that our tokenizer is a fast tokenizers (backed by Rust) from the 🤗 Tokenizers library. Those fast tokenizers are available for almost all models, and we will need some of the special features they have for our preprocessing."
   ]
  },
  {
   "cell_type": "code",
   "execution_count": 14,
   "id": "924a4111",
   "metadata": {},
   "outputs": [],
   "source": [
    "assert isinstance(tokenizer, transformers.PreTrainedTokenizerFast)"
   ]
  },
  {
   "cell_type": "code",
   "execution_count": 15,
   "id": "50c020e6",
   "metadata": {},
   "outputs": [
    {
     "data": {
      "text/plain": [
       "{'input_ids': [101, 231, 2476, 125, 11798, 11588, 333, 16315, 243, 423, 418, 2245, 488, 119, 102], 'token_type_ids': [0, 0, 0, 0, 0, 0, 0, 0, 0, 0, 0, 0, 0, 0, 0], 'attention_mask': [1, 1, 1, 1, 1, 1, 1, 1, 1, 1, 1, 1, 1, 1, 1]}"
      ]
     },
     "execution_count": 15,
     "metadata": {},
     "output_type": "execute_result"
    }
   ],
   "source": [
    "tokenizer(\"O termo de compromisso deverá ser firmado pelo estagiário.\")"
   ]
  },
  {
   "cell_type": "markdown",
   "id": "8461af2c",
   "metadata": {},
   "source": [
    "\n",
    "\n",
    "Depending on the model you selected, you will see different keys in the dictionary returned by the cell above. They don't matter much for what we're doing here (just know they are required by the model we will instantiate later), you can learn more about them in this tutorial if you're interested.\n",
    "\n",
    "If, as is the case here, your inputs have already been split into words, you should pass the list of words to your tokenzier with the argument is_split_into_words=True:\n"
   ]
  },
  {
   "cell_type": "code",
   "execution_count": 16,
   "id": "9696587f",
   "metadata": {},
   "outputs": [
    {
     "data": {
      "text/plain": [
       "{'input_ids': [101, 231, 2476, 125, 11798, 11588, 333, 16315, 243, 423, 418, 2245, 488, 119, 102], 'token_type_ids': [0, 0, 0, 0, 0, 0, 0, 0, 0, 0, 0, 0, 0, 0, 0], 'attention_mask': [1, 1, 1, 1, 1, 1, 1, 1, 1, 1, 1, 1, 1, 1, 1]}"
      ]
     },
     "execution_count": 16,
     "metadata": {},
     "output_type": "execute_result"
    }
   ],
   "source": [
    "tokenizer([\"O\", \"termo\", \"de\", \"compromisso\", \"deverá\", \"ser\", \"firmado\", \"pelo\", \"estagiário\", \".\"], is_split_into_words=True)"
   ]
  },
  {
   "cell_type": "code",
   "execution_count": null,
   "id": "5312bf66",
   "metadata": {},
   "outputs": [],
   "source": []
  },
  {
   "cell_type": "markdown",
   "id": "fe3a596d",
   "metadata": {},
   "source": [
    "Note that transformers are often pretrained with subword tokenizers, meaning that even if your inputs have been split into words already, each of those words could be split again by the tokenizer.\n",
    "\n",
    "For excample, the words \"Zwingmann\" and \"sheepmeat\" have been split in three subtokens.\n",
    "\n",
    "This means that we need to do some processing on our labels as the input ids returned by the tokenizer are longer than the lists of labels our dataset contain, first because some special tokens might be added (we can a [CLS] and a [SEP] above) and then because of those possible splits of words in multiple tokens.\n",
    "\n",
    "Thankfully, the tokenizer returns outputs that have a word_ids method which can help us."
   ]
  },
  {
   "cell_type": "code",
   "execution_count": 17,
   "id": "63812a61",
   "metadata": {},
   "outputs": [
    {
     "name": "stdout",
     "output_type": "stream",
     "text": [
      "['-', 'Preliminar', 'acolhida', 'para', 'reconhecer', 'a', 'nulidade', 'da', 'sentença', '.']\n"
     ]
    }
   ],
   "source": [
    "example = datasets[\"train\"][4]\n",
    "print(example[\"tokens\"])"
   ]
  },
  {
   "cell_type": "code",
   "execution_count": 18,
   "id": "253f2927",
   "metadata": {},
   "outputs": [
    {
     "name": "stdout",
     "output_type": "stream",
     "text": [
      "['[CLS]', '-', 'Pre', '##lim', '##inar', 'acolh', '##ida', 'para', 'reconhecer', 'a', 'nu', '##li', '##dade', 'da', 'sentença', '.', '[SEP]']\n"
     ]
    }
   ],
   "source": [
    "tokenized_input = tokenizer(example[\"tokens\"], is_split_into_words=True)\n",
    "tokens = tokenizer.convert_ids_to_tokens(tokenized_input[\"input_ids\"])\n",
    "print(tokens)"
   ]
  },
  {
   "cell_type": "code",
   "execution_count": 19,
   "id": "aa5e3df7",
   "metadata": {},
   "outputs": [
    {
     "data": {
      "text/plain": [
       "(10, 17)"
      ]
     },
     "execution_count": 19,
     "metadata": {},
     "output_type": "execute_result"
    }
   ],
   "source": [
    "len(example[f\"{task}_tags\"]), len(tokenized_input[\"input_ids\"])"
   ]
  },
  {
   "cell_type": "code",
   "execution_count": null,
   "id": "555551ab",
   "metadata": {},
   "outputs": [],
   "source": []
  },
  {
   "cell_type": "markdown",
   "id": "71c9d2b8",
   "metadata": {},
   "source": [
    "As we can see, it returns a list with the same number of elements as our processed input ids, mapping special tokens to None and all other tokens to their respective word. This way, we can align the labels with the processed input ids."
   ]
  },
  {
   "cell_type": "code",
   "execution_count": 20,
   "id": "b6b79ba9",
   "metadata": {},
   "outputs": [
    {
     "name": "stdout",
     "output_type": "stream",
     "text": [
      "[None, 0, 1, 1, 1, 2, 2, 3, 4, 5, 6, 6, 6, 7, 8, 9, None]\n"
     ]
    }
   ],
   "source": [
    "print(tokenized_input.word_ids())"
   ]
  },
  {
   "cell_type": "code",
   "execution_count": 21,
   "id": "d6c18141",
   "metadata": {},
   "outputs": [
    {
     "name": "stdout",
     "output_type": "stream",
     "text": [
      "17 17\n"
     ]
    }
   ],
   "source": [
    "word_ids = tokenized_input.word_ids()\n",
    "aligned_labels = [-100 if i is None else example[f\"{task}_tags\"][i] for i in word_ids]\n",
    "print(len(aligned_labels), len(tokenized_input[\"input_ids\"]))"
   ]
  },
  {
   "cell_type": "markdown",
   "id": "ea049ae7",
   "metadata": {},
   "source": [
    "Here we set the labels of all special tokens to -100 (the index that is ignored by PyTorch) and the labels of all other tokens to the label of the word they come from. Another strategy is to set the label only on the first token obtained from a given word, and give a label of -100 to the other subtokens from the same word. We propose the two strategies here, just change the value of the following flag:"
   ]
  },
  {
   "cell_type": "code",
   "execution_count": 22,
   "id": "433abb12",
   "metadata": {},
   "outputs": [],
   "source": [
    "label_all_tokens = True"
   ]
  },
  {
   "cell_type": "markdown",
   "id": "f7b00e36",
   "metadata": {},
   "source": [
    "\n",
    "\n",
    "We're now ready to write the function that will preprocess our samples. We feed them to the tokenizer with the argument truncation=True (to truncate texts that are bigger than the maximum size allowed by the model) and is_split_into_words=True (as seen above). Then we align the labels with the token ids using the strategy we picked:\n"
   ]
  },
  {
   "cell_type": "code",
   "execution_count": 23,
   "id": "649cb372",
   "metadata": {},
   "outputs": [],
   "source": [
    "# original function: 1 sentence for the validation and test dataset\n",
    "def tokenize_and_align_labels(examples):\n",
    "#     tokenized_inputs = tokenizer(examples[\"tokens\"], truncation=True, is_split_into_words=True)\n",
    "\n",
    "    tokenized_inputs = tokenizer(examples[\"tokens\"], truncation=True, is_split_into_words=True, max_length=512)\n",
    "\n",
    "    labels = []\n",
    "    for i, label in enumerate(examples[f\"{task}_tags\"]):\n",
    "        word_ids = tokenized_inputs.word_ids(batch_index=i)\n",
    "        previous_word_idx = None\n",
    "        label_ids = []\n",
    "        for word_idx in word_ids:\n",
    "            # Special tokens have a word id that is None. We set the label to -100 so they are automatically\n",
    "            # ignored in the loss function.\n",
    "            if word_idx is None:\n",
    "                label_ids.append(-100)\n",
    "            # We set the label for the first token of each word.\n",
    "            elif word_idx != previous_word_idx:\n",
    "                label_ids.append(label[word_idx])\n",
    "            # For the other tokens in a word, we set the label to either the current label or -100, depending on\n",
    "            # the label_all_tokens flag.\n",
    "            else:\n",
    "                label_ids.append(label[word_idx] if label_all_tokens else -100)\n",
    "            previous_word_idx = word_idx\n",
    "\n",
    "        labels.append(label_ids)\n",
    "\n",
    "    tokenized_inputs[\"labels\"] = labels\n",
    "    return tokenized_inputs"
   ]
  },
  {
   "cell_type": "code",
   "execution_count": 27,
   "id": "9dec7d45",
   "metadata": {},
   "outputs": [],
   "source": [
    "# new with 2 sentences for the training dataset\n",
    "def tokenize_and_align_labels_next(examples):\n",
    "#     tokenized_inputs = tokenizer(examples[\"tokens\"], truncation=True, is_split_into_words=True)\n",
    "\n",
    "    tokens_sentence = examples[\"tokens_sentence\"]\n",
    "    tokens_second_sentence = examples[\"tokens_second_sentence\"]\n",
    "    tokenized_inputs = tokenizer(tokens_sentence, tokens_second_sentence, truncation=True, is_split_into_words=True, max_length=512)\n",
    "\n",
    "    labels = []\n",
    "    \n",
    "    ner_tags_sentence = examples[\"ner_tags_sentence\"]\n",
    "    ner_tags_second_sentence = examples[\"ner_tags_second_sentence\"]\n",
    "    ner_tags_list = [tags1+tags2 for tags1, tags2 in zip(ner_tags_sentence, ner_tags_second_sentence)]\n",
    "    \n",
    "    for i, label in enumerate(ner_tags_list):\n",
    "        word_ids = tokenized_inputs.word_ids(batch_index=i)\n",
    "        previous_word_idx = None\n",
    "        label_ids = []\n",
    "        for word_idx in word_ids:\n",
    "            # Special tokens have a word id that is None. We set the label to -100 so they are automatically\n",
    "            # ignored in the loss function.\n",
    "            if word_idx is None:\n",
    "                label_ids.append(-100)\n",
    "            # We set the label for the first token of each word.\n",
    "            elif word_idx != previous_word_idx:\n",
    "                label_ids.append(label[word_idx])\n",
    "            # For the other tokens in a word, we set the label to either the current label or -100, depending on\n",
    "            # the label_all_tokens flag.\n",
    "            else:\n",
    "                label_ids.append(label[word_idx] if label_all_tokens else -100)\n",
    "            previous_word_idx = word_idx\n",
    "\n",
    "        labels.append(label_ids)\n",
    "\n",
    "    tokenized_inputs[\"labels\"] = labels\n",
    "    return tokenized_inputs"
   ]
  },
  {
   "cell_type": "markdown",
   "id": "fc199fe8",
   "metadata": {},
   "source": [
    "\n",
    "\n",
    "This function works with one or several examples. In the case of several examples, the tokenizer will return a list of lists for each key.\n",
    "\n",
    "As you need to pass 2 consecutives sentences, let's create the datasets object new_datasets that contains the 3 datasets train, validation, test with a shifted of one sentence for train. Validation and test stay with just one sentence.\n"
   ]
  },
  {
   "cell_type": "code",
   "execution_count": 24,
   "id": "d79bd17b",
   "metadata": {},
   "outputs": [
    {
     "name": "stdout",
     "output_type": "stream",
     "text": [
      "CPU times: user 457 ms, sys: 14.2 ms, total: 472 ms\n",
      "Wall time: 514 ms\n"
     ]
    }
   ],
   "source": [
    "%%time\n",
    "\n",
    "if next_sentence:\n",
    "        \n",
    "    # train dataset\n",
    "    folders = ['train']\n",
    "    new_datasets = DatasetDict()\n",
    "\n",
    "    for folder in folders:    \n",
    "\n",
    "        # content creation\n",
    "        new_ids = list()\n",
    "        tokens_sentence = list()\n",
    "        tokens_second_sentence = list()\n",
    "        ner_tags_sentence = list()\n",
    "        ner_tags_second_sentence = list()\n",
    "\n",
    "        df = datasets[folder].to_pandas()\n",
    "\n",
    "        for index, row in df.iterrows():\n",
    "            new_ids.append(index)\n",
    "            if index < len(df) - 1:\n",
    "                tokens_sentence.append(row['tokens'].tolist())\n",
    "                tokens_second_sentence.append(df['tokens'][index+1].tolist())\n",
    "                ner_tags_sentence.append(row['ner_tags'].tolist())\n",
    "                ner_tags_second_sentence.append(df['ner_tags'][index+1].tolist())\n",
    "            else:\n",
    "                tokens_sentence.append(row['tokens'].tolist())\n",
    "                tokens_second_sentence.append(df['tokens'][0].tolist())\n",
    "                ner_tags_sentence.append(row['ner_tags'].tolist())\n",
    "                ner_tags_second_sentence.append(df['ner_tags'][0].tolist())\n",
    "\n",
    "        # new DataFrame\n",
    "        columns = ['id','tokens_sentence','tokens_second_sentence','ner_tags_sentence','ner_tags_second_sentence']\n",
    "        df_new = pd.DataFrame(columns=columns)\n",
    "        df_new['id'] = pd.Series(new_ids)\n",
    "        df_new['tokens_sentence'] = pd.Series(tokens_sentence)\n",
    "        df_new['tokens_second_sentence'] = pd.Series(tokens_second_sentence)\n",
    "        df_new['ner_tags_sentence'] = pd.Series(ner_tags_sentence)\n",
    "        df_new['ner_tags_second_sentence'] = pd.Series(ner_tags_second_sentence)\n",
    "\n",
    "        # new Dataset   \n",
    "        new_datasets[folder] = Dataset.from_pandas(df_new)\n",
    "\n",
    "        # setup features\n",
    "        new_datasets[folder].features['tokens_sentence'] = datasets[folder].features['tokens']\n",
    "        new_datasets[folder].features['tokens_second_sentence'] = datasets[folder].features['tokens']\n",
    "        new_datasets[folder].features['ner_tags_sentence'] = datasets[folder].features['ner_tags']\n",
    "        new_datasets[folder].features['ner_tags_second_sentence'] = datasets[folder].features['ner_tags']\n",
    "        \n",
    "    # validation and test datasets\n",
    "    folders = ['validation', 'test']\n",
    "\n",
    "    for folder in folders:\n",
    "        if len(datasets[folder][0]['tokens']) > 0:\n",
    "            new_datasets[folder] = datasets[folder]\n",
    "        else:\n",
    "            # we do not keep the first row as it has no content\n",
    "            new_datasets[folder] = datasets[folder].select(list(range(1,datasets[folder].num_rows)))"
   ]
  },
  {
   "cell_type": "code",
   "execution_count": 25,
   "id": "5b48cad4",
   "metadata": {},
   "outputs": [
    {
     "name": "stdout",
     "output_type": "stream",
     "text": [
      "DatasetDict({\n",
      "    train: Dataset({\n",
      "        features: ['id', 'tokens_sentence', 'tokens_second_sentence', 'ner_tags_sentence', 'ner_tags_second_sentence'],\n",
      "        num_rows: 7828\n",
      "    })\n",
      "    validation: Dataset({\n",
      "        features: ['id', 'tokens', 'ner_tags'],\n",
      "        num_rows: 1177\n",
      "    })\n",
      "    test: Dataset({\n",
      "        features: ['id', 'tokens', 'ner_tags'],\n",
      "        num_rows: 1390\n",
      "    })\n",
      "})\n"
     ]
    }
   ],
   "source": [
    "if next_sentence:\n",
    "    print(new_datasets)"
   ]
  },
  {
   "cell_type": "code",
   "execution_count": 28,
   "id": "4f9045c1",
   "metadata": {},
   "outputs": [
    {
     "name": "stdout",
     "output_type": "stream",
     "text": [
      "{'input_ids': [[101, 192, 7463, 8427, 22301, 131, 12127, 9008, 22301, 22402, 16484, 187, 22360, 22339, 9008, 118, 177, 22402, 16484, 10836, 13760, 7545, 22320, 22323, 22351, 22301, 22402, 16484, 212, 8718, 250, 7665, 6072, 213, 8718, 22301, 6538, 118, 11635, 9008, 13270, 7073, 6765, 118, 11741, 22328, 22341, 6392, 22301, 212, 9008, 22317, 213, 7073, 6538, 22321, 22352, 21748, 22317, 212, 22371, 22318, 22327, 6162, 22317, 192, 22311, 278, 5650, 22341, 257, 5476, 15289, 5903, 22327, 118, 248, 18199, 6392, 11836, 22309, 118, 177, 10409, 22420, 22320, 14298, 22301, 10836, 13760, 16017, 22322, 22339, 12547, 22402, 16484, 15040, 18868, 22322, 22349, 22341, 9208, 248, 22301, 13760, 11846, 22379, 22320, 14298, 22301, 177, 5226, 22341, 22317, 118, 11635, 3341, 12547, 22402, 22301, 10836, 13760, 4529, 5869, 22351, 118, 11635, 22309, 22333, 22341, 22360, 22351, 22317, 192, 22348, 6538, 16017, 8427, 22309, 118, 11635, 9008, 13270, 7073, 6765, 11247, 7918, 22340, 6392, 22301, 118, 248, 18199, 6392, 11836, 22309, 257, 5476, 12234, 22340, 5476, 6392, 22301, 119, 102, 118, 231, 1328, 119, 7048, 117, 1349, 117, 171, 8250, 22304, 543, 1128, 301, 179, 7740, 22279, 320, 3890, 7638, 558, 3718, 529, 8309, 173, 179, 1307, 6399, 125, 22250, 117, 2586, 243, 146, 1328, 119, 2680, 22315, 171, 653, 8178, 179, 146, 1673, 2810, 1444, 326, 625, 146, 3890, 7638, 346, 344, 14353, 201, 221, 12079, 146, 2160, 173, 179, 1981, 558, 3718, 119, 102], [101, 118, 231, 1328, 119, 7048, 117, 1349, 117, 171, 8250, 22304, 543, 1128, 301, 179, 7740, 22279, 320, 3890, 7638, 558, 3718, 529, 8309, 173, 179, 1307, 6399, 125, 22250, 117, 2586, 243, 146, 1328, 119, 2680, 22315, 171, 653, 8178, 179, 146, 1673, 2810, 1444, 326, 625, 146, 3890, 7638, 346, 344, 14353, 201, 221, 12079, 146, 2160, 173, 179, 1981, 558, 3718, 119, 102, 118, 9633, 214, 118, 176, 125, 2973, 18233, 2446, 4977, 1442, 2530, 240, 2760, 12787, 117, 253, 18604, 123, 7418, 171, 3890, 7638, 229, 5061, 125, 13816, 180, 2601, 10629, 119, 102]], 'token_type_ids': [[0, 0, 0, 0, 0, 0, 0, 0, 0, 0, 0, 0, 0, 0, 0, 0, 0, 0, 0, 0, 0, 0, 0, 0, 0, 0, 0, 0, 0, 0, 0, 0, 0, 0, 0, 0, 0, 0, 0, 0, 0, 0, 0, 0, 0, 0, 0, 0, 0, 0, 0, 0, 0, 0, 0, 0, 0, 0, 0, 0, 0, 0, 0, 0, 0, 0, 0, 0, 0, 0, 0, 0, 0, 0, 0, 0, 0, 0, 0, 0, 0, 0, 0, 0, 0, 0, 0, 0, 0, 0, 0, 0, 0, 0, 0, 0, 0, 0, 0, 0, 0, 0, 0, 0, 0, 0, 0, 0, 0, 0, 0, 0, 0, 0, 0, 0, 0, 0, 0, 0, 0, 0, 0, 0, 0, 0, 0, 0, 0, 0, 0, 0, 0, 0, 0, 0, 0, 0, 0, 0, 0, 0, 0, 0, 0, 0, 0, 0, 0, 0, 0, 0, 0, 0, 0, 0, 0, 0, 0, 0, 0, 0, 0, 0, 0, 1, 1, 1, 1, 1, 1, 1, 1, 1, 1, 1, 1, 1, 1, 1, 1, 1, 1, 1, 1, 1, 1, 1, 1, 1, 1, 1, 1, 1, 1, 1, 1, 1, 1, 1, 1, 1, 1, 1, 1, 1, 1, 1, 1, 1, 1, 1, 1, 1, 1, 1, 1, 1, 1, 1, 1, 1, 1, 1, 1, 1, 1, 1, 1, 1, 1], [0, 0, 0, 0, 0, 0, 0, 0, 0, 0, 0, 0, 0, 0, 0, 0, 0, 0, 0, 0, 0, 0, 0, 0, 0, 0, 0, 0, 0, 0, 0, 0, 0, 0, 0, 0, 0, 0, 0, 0, 0, 0, 0, 0, 0, 0, 0, 0, 0, 0, 0, 0, 0, 0, 0, 0, 0, 0, 0, 0, 0, 0, 0, 0, 0, 0, 0, 1, 1, 1, 1, 1, 1, 1, 1, 1, 1, 1, 1, 1, 1, 1, 1, 1, 1, 1, 1, 1, 1, 1, 1, 1, 1, 1, 1, 1, 1, 1, 1]], 'attention_mask': [[1, 1, 1, 1, 1, 1, 1, 1, 1, 1, 1, 1, 1, 1, 1, 1, 1, 1, 1, 1, 1, 1, 1, 1, 1, 1, 1, 1, 1, 1, 1, 1, 1, 1, 1, 1, 1, 1, 1, 1, 1, 1, 1, 1, 1, 1, 1, 1, 1, 1, 1, 1, 1, 1, 1, 1, 1, 1, 1, 1, 1, 1, 1, 1, 1, 1, 1, 1, 1, 1, 1, 1, 1, 1, 1, 1, 1, 1, 1, 1, 1, 1, 1, 1, 1, 1, 1, 1, 1, 1, 1, 1, 1, 1, 1, 1, 1, 1, 1, 1, 1, 1, 1, 1, 1, 1, 1, 1, 1, 1, 1, 1, 1, 1, 1, 1, 1, 1, 1, 1, 1, 1, 1, 1, 1, 1, 1, 1, 1, 1, 1, 1, 1, 1, 1, 1, 1, 1, 1, 1, 1, 1, 1, 1, 1, 1, 1, 1, 1, 1, 1, 1, 1, 1, 1, 1, 1, 1, 1, 1, 1, 1, 1, 1, 1, 1, 1, 1, 1, 1, 1, 1, 1, 1, 1, 1, 1, 1, 1, 1, 1, 1, 1, 1, 1, 1, 1, 1, 1, 1, 1, 1, 1, 1, 1, 1, 1, 1, 1, 1, 1, 1, 1, 1, 1, 1, 1, 1, 1, 1, 1, 1, 1, 1, 1, 1, 1, 1, 1, 1, 1, 1, 1, 1, 1, 1, 1, 1, 1, 1, 1], [1, 1, 1, 1, 1, 1, 1, 1, 1, 1, 1, 1, 1, 1, 1, 1, 1, 1, 1, 1, 1, 1, 1, 1, 1, 1, 1, 1, 1, 1, 1, 1, 1, 1, 1, 1, 1, 1, 1, 1, 1, 1, 1, 1, 1, 1, 1, 1, 1, 1, 1, 1, 1, 1, 1, 1, 1, 1, 1, 1, 1, 1, 1, 1, 1, 1, 1, 1, 1, 1, 1, 1, 1, 1, 1, 1, 1, 1, 1, 1, 1, 1, 1, 1, 1, 1, 1, 1, 1, 1, 1, 1, 1, 1, 1, 1, 1, 1, 1]], 'labels': [[-100, 0, 0, 0, 0, 0, 0, 0, 0, 0, 0, 0, 0, 0, 0, 0, 0, 0, 0, 0, 0, 0, 0, 0, 0, 0, 0, 0, 0, 0, 0, 0, 0, 0, 0, 0, 0, 0, 0, 0, 0, 0, 0, 0, 0, 0, 0, 0, 0, 0, 0, 0, 1, 1, 1, 1, 1, 1, 1, 2, 2, 2, 2, 2, 2, 0, 0, 0, 0, 0, 0, 0, 0, 0, 0, 0, 0, 0, 0, 0, 0, 0, 0, 0, 0, 0, 0, 0, 0, 0, 0, 0, 0, 0, 0, 0, 0, 0, 0, 0, 0, 0, 0, 0, 0, 0, 0, 0, 0, 0, 0, 0, 0, 0, 0, 0, 0, 0, 0, 0, 0, 0, 0, 0, 0, 0, 0, 0, 0, 0, 0, 0, 0, 0, 0, 0, 0, 0, 0, 0, 0, 0, 0, 0, 0, 0, 0, 0, 0, 0, 0, 0, 0, 0, 0, 0, 0, 0, 0, 0, 0, 0, 0, 0, -100, 0, 0, 0, 0, 0, 0, 0, 0, 0, 0, 0, 0, 0, 0, 0, 0, 0, 0, 0, 0, 1, 1, 2, 0, 0, 0, 0, 0, 0, 0, 0, 0, 0, 0, 0, 0, 0, 0, 0, 0, 0, 0, 0, 0, 0, 0, 0, 0, 0, 0, 0, 0, 0, 0, 0, 0, 0, 0, 9, 10, 10, 10, 10, 10, 10, -100], [-100, 0, 0, 9, 10, 10, 10, 10, 10, 10, 10, 10, 0, 0, 0, 0, 0, 0, 0, 1, 2, 0, 0, 0, 0, 0, 0, 0, 0, 0, 0, 0, 0, 0, 0, 0, 0, 0, 0, 0, 0, 0, 0, 0, 0, 0, 0, 0, 0, 0, 1, 2, 0, 0, 0, 0, 0, 0, 0, 0, 0, 0, 0, 0, 0, 0, -100, 0, 0, 0, 0, 0, 9, 10, 10, 10, 10, 10, 10, 10, 10, 10, 10, 0, 0, 0, 0, 1, 2, 0, 0, 0, 0, 0, 0, 0, 0, 0, -100]]}\n"
     ]
    }
   ],
   "source": [
    "if next_sentence:\n",
    "    print(tokenize_and_align_labels_next(new_datasets['train'][:2]))\n",
    "else:\n",
    "    print(tokenize_and_align_labels(datasets['train'][:2]))"
   ]
  },
  {
   "cell_type": "code",
   "execution_count": 29,
   "id": "55475be8",
   "metadata": {},
   "outputs": [
    {
     "data": {
      "application/vnd.jupyter.widget-view+json": {
       "model_id": "6b1b7d6c4ce2442c8c8984076245af81",
       "version_major": 2,
       "version_minor": 0
      },
      "text/plain": [
       "  0%|          | 0/8 [00:00<?, ?ba/s]"
      ]
     },
     "metadata": {},
     "output_type": "display_data"
    },
    {
     "data": {
      "application/vnd.jupyter.widget-view+json": {
       "model_id": "0467a63756eb4ebb9c00451673b49d74",
       "version_major": 2,
       "version_minor": 0
      },
      "text/plain": [
       "  0%|          | 0/2 [00:00<?, ?ba/s]"
      ]
     },
     "metadata": {},
     "output_type": "display_data"
    },
    {
     "data": {
      "application/vnd.jupyter.widget-view+json": {
       "model_id": "5e03720880c042fda2af5177222dc0f6",
       "version_major": 2,
       "version_minor": 0
      },
      "text/plain": [
       "  0%|          | 0/2 [00:00<?, ?ba/s]"
      ]
     },
     "metadata": {},
     "output_type": "display_data"
    }
   ],
   "source": [
    "if next_sentence:\n",
    "    tokenized_datasets = DatasetDict()\n",
    "    folders = ['train', 'validation', 'test']\n",
    "\n",
    "    for folder in folders:\n",
    "        if folder == 'train':\n",
    "            tokenized_datasets[folder] = new_datasets[folder].map(tokenize_and_align_labels_next, batched=True,\n",
    "                                                                   remove_columns=new_datasets[folder].column_names)\n",
    "        else:\n",
    "            tokenized_datasets[folder] = new_datasets[folder].map(tokenize_and_align_labels, batched=True,\n",
    "                                                                  remove_columns=new_datasets[folder].column_names) \n",
    "else:\n",
    "    tokenized_datasets = datasets.map(tokenize_and_align_labels, batched=True)"
   ]
  },
  {
   "cell_type": "code",
   "execution_count": 30,
   "id": "5c8615dc",
   "metadata": {},
   "outputs": [
    {
     "data": {
      "text/plain": [
       "DatasetDict({\n",
       "    train: Dataset({\n",
       "        features: ['attention_mask', 'input_ids', 'labels', 'token_type_ids'],\n",
       "        num_rows: 7828\n",
       "    })\n",
       "    validation: Dataset({\n",
       "        features: ['attention_mask', 'input_ids', 'labels', 'token_type_ids'],\n",
       "        num_rows: 1177\n",
       "    })\n",
       "    test: Dataset({\n",
       "        features: ['attention_mask', 'input_ids', 'labels', 'token_type_ids'],\n",
       "        num_rows: 1390\n",
       "    })\n",
       "})"
      ]
     },
     "execution_count": 30,
     "metadata": {},
     "output_type": "execute_result"
    }
   ],
   "source": [
    "tokenized_datasets\n"
   ]
  },
  {
   "cell_type": "code",
   "execution_count": 31,
   "id": "31596a13",
   "metadata": {},
   "outputs": [],
   "source": [
    "# SALVA O DATASET TOKENIZADO.\n",
    "tokenized_datasets.save_to_disk(\"/home/info/MyNotebooks/Datasets/LeNER-Br/Tokenized\")"
   ]
  },
  {
   "cell_type": "code",
   "execution_count": null,
   "id": "8ad0beff",
   "metadata": {},
   "outputs": [],
   "source": []
  },
  {
   "cell_type": "code",
   "execution_count": 26,
   "id": "8d5d7a1d",
   "metadata": {},
   "outputs": [],
   "source": [
    "# CARREGA O DATASET TOKENIZADO.\n",
    "tokenized_datasets = datasets.load_from_disk(\"/home/info/MyNotebooks/Datasets/LeNER-Br/Tokenized\")"
   ]
  },
  {
   "cell_type": "code",
   "execution_count": 32,
   "id": "7f99009b",
   "metadata": {},
   "outputs": [
    {
     "data": {
      "text/plain": [
       "(Dataset({\n",
       "     features: ['attention_mask', 'input_ids', 'labels', 'token_type_ids'],\n",
       "     num_rows: 7828\n",
       " }),\n",
       " Dataset({\n",
       "     features: ['attention_mask', 'input_ids', 'labels', 'token_type_ids'],\n",
       "     num_rows: 1390\n",
       " }),\n",
       " Dataset({\n",
       "     features: ['attention_mask', 'input_ids', 'labels', 'token_type_ids'],\n",
       "     num_rows: 1177\n",
       " }))"
      ]
     },
     "execution_count": 32,
     "metadata": {},
     "output_type": "execute_result"
    }
   ],
   "source": [
    "tokenized_datasets[\"train\"], tokenized_datasets[\"test\"], tokenized_datasets[\"validation\"]"
   ]
  },
  {
   "cell_type": "markdown",
   "id": "ca3e0288",
   "metadata": {},
   "source": [
    "Let's verify that the training dataset has 2 tokonized sentences (token_type_ids = 0 and 1) and validation/test only one (token_type_ids = 0)."
   ]
  },
  {
   "cell_type": "code",
   "execution_count": 33,
   "id": "2a697fed",
   "metadata": {},
   "outputs": [
    {
     "name": "stdout",
     "output_type": "stream",
     "text": [
      "train [0, 0, 0, 0, 0, 0, 0, 0, 0, 0, 0, 0, 0, 0, 0, 0, 0, 0, 0, 0, 0, 0, 0, 0, 0, 0, 0, 0, 0, 0, 0, 0, 0, 0, 0, 0, 0, 0, 0, 0, 0, 0, 0, 0, 0, 0, 0, 0, 0, 0, 0, 0, 0, 0, 0, 0, 0, 0, 0, 0, 0, 0, 0, 0, 0, 0, 0, 0, 0, 0, 0, 0, 0, 0, 0, 0, 0, 0, 0, 0, 0, 0, 0, 0, 0, 0, 0, 0, 0, 0, 0, 0, 0, 0, 0, 0, 0, 0, 0, 0]\n",
      "validation [0, 0, 0, 0, 0, 0, 0, 0, 0, 0, 0, 0, 0, 0, 0, 0, 0, 0, 0, 0, 0, 0, 0, 0, 0, 0, 0, 0, 0, 0, 0, 0, 0, 0, 0, 0, 0, 0, 0, 0, 0, 0, 0, 0, 0, 0, 0, 0, 0, 0, 0, 0, 0, 0, 0, 0, 0, 0, 0, 0, 0, 0, 0, 0, 0, 0, 0, 0, 0, 0, 0, 0, 0, 0, 0, 0, 0, 0, 0, 0, 0, 0, 0, 0, 0, 0, 0, 0, 0, 0, 0, 0, 0, 0, 0, 0, 0, 0, 0, 0]\n",
      "test [0, 0, 0, 0, 0, 0, 0, 0, 0, 0, 0, 0, 0, 0, 0, 0, 0, 0, 0, 0, 0, 0, 0, 0, 0, 0, 0, 0, 0, 0, 0, 0, 0, 0, 0, 0, 0, 0, 0, 0, 0, 0, 0, 0, 0, 0, 0, 0, 0, 0, 0, 0, 0, 0, 0, 0, 0, 0, 0, 0, 0, 0, 0, 0, 0, 0, 0, 0, 0, 0, 0, 0, 0, 0, 0, 0, 0, 0, 0, 0, 0, 0, 0, 0, 0, 0, 0, 0, 0, 0, 0, 0, 0, 0, 0, 0, 0, 0, 0]\n"
     ]
    }
   ],
   "source": [
    "folders = ['train', 'validation', 'test']\n",
    "\n",
    "for folder in folders:\n",
    "    print(folder, tokenized_datasets[folder][0]['token_type_ids'][:100])"
   ]
  },
  {
   "cell_type": "code",
   "execution_count": 34,
   "id": "2a2fa31f",
   "metadata": {},
   "outputs": [
    {
     "name": "stdout",
     "output_type": "stream",
     "text": [
      "train [-100, 0, 0, 0, 0, 0, 0, 0, 0, 0, 0, 0, 0, 0, 0, 0, 0, 0, 0, 0, 0, 0, 0, 0, 0, 0, 0, 0, 0, 0, 0, 0, 0, 0, 0, 0, 0, 0, 0, 0, 0, 0, 0, 0, 0, 0, 0, 0, 0, 0, 0, 0, 1, 1, 1, 1, 1, 1, 1, 2, 2, 2, 2, 2, 2, 0, 0, 0, 0, 0, 0, 0, 0, 0, 0, 0, 0, 0, 0, 0, 0, 0, 0, 0, 0, 0, 0, 0, 0, 0, 0, 0, 0, 0, 0, 0, 0, 0, 0, 0]\n",
      "validation [-100, 0, 0, 0, 0, 0, 0, 0, 0, 0, 0, 1, 2, 2, 2, 2, 2, 2, 2, 0, 0, 0, 0, 0, 0, 0, 0, 0, 0, 0, 0, 0, 0, 0, 11, 11, 11, 11, 11, 11, 11, 11, 0, 11, 11, 11, 11, 11, 11, 11, 11, 11, 11, 11, 11, 11, 11, 11, 0, 0, 0, 0, 0, 0, 0, 0, 1, 1, 1, 1, 2, 2, 2, 2, 2, 2, 2, 2, 2, 2, 2, 2, 2, 2, 2, 2, 2, 2, 2, 2, 2, 2, 2, 2, 2, 2, 2, 2, 2, 2]\n",
      "test [-100, 0, 0, 0, 0, 0, 0, 11, 11, 11, 11, 11, 12, 12, 12, 12, 0, 1, 1, 1, 1, 1, 1, 0, 0, 3, 3, 3, 3, 3, 4, 4, 4, 4, 11, 12, 12, 12, 12, 12, 12, 12, 12, 12, 0, 0, 0, 0, 0, 0, 0, 0, 0, 0, 0, 0, 0, 0, 0, 0, 0, 0, 0, 0, 0, 0, 0, 0, 0, 0, 0, 0, 5, 5, 5, 5, 5, 0, 0, 0, 0, 0, 0, 0, 0, 0, 0, 0, 0, 0, 0, 0, 0, 0, 3, 4, 4, 0, -100]\n"
     ]
    }
   ],
   "source": [
    "for folder in folders:\n",
    "    print(folder, tokenized_datasets[folder][0]['labels'][:100])"
   ]
  },
  {
   "cell_type": "markdown",
   "id": "78fccf9f",
   "metadata": {},
   "source": [
    "Let's check the min and max of tokens in our tokenized sentences."
   ]
  },
  {
   "cell_type": "code",
   "execution_count": 35,
   "id": "0d6ef81d",
   "metadata": {},
   "outputs": [
    {
     "name": "stdout",
     "output_type": "stream",
     "text": [
      "train min tokens: 7 - max tokens: 512\n",
      "validation min tokens: 2 - max tokens: 505\n",
      "test min tokens: 2 - max tokens: 512\n"
     ]
    }
   ],
   "source": [
    "folders = [\"train\", \"validation\", \"test\"]\n",
    "tokens_length = dict()\n",
    "\n",
    "for folder in folders:\n",
    "    tokens_length[folder] = list()\n",
    "    for i in range(tokenized_datasets[folder].num_rows):\n",
    "        tokens_length[folder].append(len(tokenized_datasets[folder][i]['token_type_ids']))\n",
    "    print(f'{folder} min tokens: {min(tokens_length[folder])} - max tokens: {max(tokens_length[folder])}')"
   ]
  },
  {
   "cell_type": "markdown",
   "id": "149cdb75",
   "metadata": {},
   "source": [
    "Let's display the histograms of our tokenized train, validation and test set."
   ]
  },
  {
   "cell_type": "code",
   "execution_count": 36,
   "id": "0e5e8880",
   "metadata": {},
   "outputs": [
    {
     "data": {
      "image/png": "[encoded data removed]",
      "text/plain": [
       "<Figure size 1080x360 with 3 Axes>"
      ]
     },
     "metadata": {
      "needs_background": "light"
     },
     "output_type": "display_data"
    }
   ],
   "source": [
    "fig = plt.figure(figsize=(15,5))\n",
    "axes = fig.subplots(nrows=1, ncols=3)\n",
    "\n",
    "for i,col in enumerate(axes):\n",
    "    folder = folders[i]\n",
    "    col.hist(tokens_length[folder], color='g')\n",
    "    col.set_title(f'{folder} dataset histogram')\n",
    "\n",
    "plt.show()"
   ]
  },
  {
   "cell_type": "markdown",
   "id": "7c78eb68",
   "metadata": {},
   "source": [
    "\n",
    "\n",
    "Even better, the results are automatically cached by the 🤗 Datasets library to avoid spending time on this step the next time you run your notebook. The 🤗 Datasets library is normally smart enough to detect when the function you pass to map has changed (and thus requires to not use the cache data). For instance, it will properly detect if you change the task in the first cell and rerun the notebook. 🤗 Datasets warns you when it uses cached files, you can pass load_from_cache_file=False in the call to map to not use the cached files and force the preprocessing to be applied again.\n",
    "\n",
    "Note that we passed batched=True to encode the texts by batches together. This is to leverage the full benefit of the fast tokenizer we loaded earlier, which will use multi-threading to treat the texts in a batch concurrently.\n"
   ]
  },
  {
   "cell_type": "code",
   "execution_count": 37,
   "id": "f7b78080",
   "metadata": {},
   "outputs": [
    {
     "data": {
      "text/plain": [
       "Dataset({\n",
       "    features: ['attention_mask', 'input_ids', 'labels', 'token_type_ids'],\n",
       "    num_rows: 1177\n",
       "})"
      ]
     },
     "execution_count": 37,
     "metadata": {},
     "output_type": "execute_result"
    }
   ],
   "source": [
    "# NAN on Validation computing\n",
    "# https://datatofish.com/check-nan-pandas-dataframe/\n",
    "# https://sparkbyexamples.com/pandas/pandas-drop-rows-with-nan-values-in-dataframe/\n",
    "tokenized_datasets['validation']"
   ]
  },
  {
   "cell_type": "code",
   "execution_count": 119,
   "id": "151e5a06",
   "metadata": {},
   "outputs": [
    {
     "data": {
      "text/plain": [
       "False"
      ]
     },
     "execution_count": 119,
     "metadata": {},
     "output_type": "execute_result"
    }
   ],
   "source": [
    "val_set = pd.DataFrame(tokenized_datasets['validation'])\n",
    "val_set.isnull().values.any()"
   ]
  },
  {
   "cell_type": "code",
   "execution_count": 120,
   "id": "7bf16951",
   "metadata": {},
   "outputs": [],
   "source": [
    "df_val = val_set.dropna(how='all').reset_index(drop=True)  # inplace=True"
   ]
  },
  {
   "cell_type": "code",
   "execution_count": 140,
   "id": "1ee30b28",
   "metadata": {},
   "outputs": [
    {
     "data": {
      "text/html": [
       "<div>\n",
       "<style scoped>\n",
       "    .dataframe tbody tr th:only-of-type {\n",
       "        vertical-align: middle;\n",
       "    }\n",
       "\n",
       "    .dataframe tbody tr th {\n",
       "        vertical-align: top;\n",
       "    }\n",
       "\n",
       "    .dataframe thead th {\n",
       "        text-align: right;\n",
       "    }\n",
       "</style>\n",
       "<table border=\"1\" class=\"dataframe\">\n",
       "  <thead>\n",
       "    <tr style=\"text-align: right;\">\n",
       "      <th></th>\n",
       "      <th>attention_mask</th>\n",
       "      <th>token_type_ids</th>\n",
       "    </tr>\n",
       "  </thead>\n",
       "  <tbody>\n",
       "    <tr>\n",
       "      <th>80</th>\n",
       "      <td>[1, 1, 1, 1, 1, 1, 1, 1, 1, 1, 1, 1, 1, 1, 1, ...</td>\n",
       "      <td>[0, 0, 0, 0, 0, 0, 0, 0, 0, 0, 0, 0, 0, 0, 0, ...</td>\n",
       "    </tr>\n",
       "    <tr>\n",
       "      <th>81</th>\n",
       "      <td>[1, 1, 1, 1, 1, 1, 1, 1, 1, 1, 1, 1, 1]</td>\n",
       "      <td>[0, 0, 0, 0, 0, 0, 0, 0, 0, 0, 0, 0, 0]</td>\n",
       "    </tr>\n",
       "    <tr>\n",
       "      <th>82</th>\n",
       "      <td>[1, 1, 1, 1, 1, 1, 1, 1, 1, 1, 1, 1, 1, 1, 1, ...</td>\n",
       "      <td>[0, 0, 0, 0, 0, 0, 0, 0, 0, 0, 0, 0, 0, 0, 0, ...</td>\n",
       "    </tr>\n",
       "    <tr>\n",
       "      <th>83</th>\n",
       "      <td>[1, 1, 1, 1, 1, 1, 1, 1, 1, 1, 1, 1, 1, 1, 1, ...</td>\n",
       "      <td>[0, 0, 0, 0, 0, 0, 0, 0, 0, 0, 0, 0, 0, 0, 0, ...</td>\n",
       "    </tr>\n",
       "    <tr>\n",
       "      <th>84</th>\n",
       "      <td>[1, 1, 1, 1, 1, 1, 1, 1, 1, 1, 1, 1, 1, 1, 1, ...</td>\n",
       "      <td>[0, 0, 0, 0, 0, 0, 0, 0, 0, 0, 0, 0, 0, 0, 0, ...</td>\n",
       "    </tr>\n",
       "    <tr>\n",
       "      <th>85</th>\n",
       "      <td>[1, 1, 1, 1, 1, 1, 1, 1, 1, 1, 1, 1, 1, 1, 1, ...</td>\n",
       "      <td>[0, 0, 0, 0, 0, 0, 0, 0, 0, 0, 0, 0, 0, 0, 0, ...</td>\n",
       "    </tr>\n",
       "    <tr>\n",
       "      <th>86</th>\n",
       "      <td>[1, 1, 1, 1, 1, 1, 1, 1, 1, 1, 1, 1, 1, 1, 1, ...</td>\n",
       "      <td>[0, 0, 0, 0, 0, 0, 0, 0, 0, 0, 0, 0, 0, 0, 0, ...</td>\n",
       "    </tr>\n",
       "    <tr>\n",
       "      <th>87</th>\n",
       "      <td>[1, 1, 1, 1, 1, 1, 1, 1, 1, 1, 1, 1, 1, 1, 1, ...</td>\n",
       "      <td>[0, 0, 0, 0, 0, 0, 0, 0, 0, 0, 0, 0, 0, 0, 0, ...</td>\n",
       "    </tr>\n",
       "    <tr>\n",
       "      <th>88</th>\n",
       "      <td>[1, 1, 1, 1, 1, 1, 1, 1, 1, 1, 1, 1, 1, 1, 1, ...</td>\n",
       "      <td>[0, 0, 0, 0, 0, 0, 0, 0, 0, 0, 0, 0, 0, 0, 0, ...</td>\n",
       "    </tr>\n",
       "    <tr>\n",
       "      <th>89</th>\n",
       "      <td>[1, 1, 1, 1, 1, 1, 1, 1, 1, 1, 1]</td>\n",
       "      <td>[0, 0, 0, 0, 0, 0, 0, 0, 0, 0, 0]</td>\n",
       "    </tr>\n",
       "    <tr>\n",
       "      <th>90</th>\n",
       "      <td>[1, 1, 1, 1, 1, 1, 1, 1, 1, 1, 1, 1, 1, 1, 1]</td>\n",
       "      <td>[0, 0, 0, 0, 0, 0, 0, 0, 0, 0, 0, 0, 0, 0, 0]</td>\n",
       "    </tr>\n",
       "    <tr>\n",
       "      <th>91</th>\n",
       "      <td>[1, 1, 1, 1, 1, 1]</td>\n",
       "      <td>[0, 0, 0, 0, 0, 0]</td>\n",
       "    </tr>\n",
       "    <tr>\n",
       "      <th>92</th>\n",
       "      <td>[1, 1, 1, 1, 1, 1, 1, 1, 1, 1, 1, 1, 1, 1, 1, ...</td>\n",
       "      <td>[0, 0, 0, 0, 0, 0, 0, 0, 0, 0, 0, 0, 0, 0, 0, ...</td>\n",
       "    </tr>\n",
       "    <tr>\n",
       "      <th>93</th>\n",
       "      <td>[1, 1, 1, 1, 1, 1, 1, 1, 1, 1, 1, 1, 1, 1, 1, ...</td>\n",
       "      <td>[0, 0, 0, 0, 0, 0, 0, 0, 0, 0, 0, 0, 0, 0, 0, ...</td>\n",
       "    </tr>\n",
       "    <tr>\n",
       "      <th>94</th>\n",
       "      <td>[1, 1, 1, 1, 1, 1, 1, 1]</td>\n",
       "      <td>[0, 0, 0, 0, 0, 0, 0, 0]</td>\n",
       "    </tr>\n",
       "    <tr>\n",
       "      <th>95</th>\n",
       "      <td>[1, 1, 1, 1, 1, 1, 1, 1, 1, 1, 1, 1, 1, 1, 1, ...</td>\n",
       "      <td>[0, 0, 0, 0, 0, 0, 0, 0, 0, 0, 0, 0, 0, 0, 0, ...</td>\n",
       "    </tr>\n",
       "    <tr>\n",
       "      <th>96</th>\n",
       "      <td>[1, 1, 1, 1, 1, 1, 1, 1, 1, 1, 1, 1, 1, 1, 1, ...</td>\n",
       "      <td>[0, 0, 0, 0, 0, 0, 0, 0, 0, 0, 0, 0, 0, 0, 0, ...</td>\n",
       "    </tr>\n",
       "    <tr>\n",
       "      <th>97</th>\n",
       "      <td>[1, 1, 1, 1, 1, 1, 1, 1, 1, 1, 1, 1, 1, 1, 1, ...</td>\n",
       "      <td>[0, 0, 0, 0, 0, 0, 0, 0, 0, 0, 0, 0, 0, 0, 0, ...</td>\n",
       "    </tr>\n",
       "    <tr>\n",
       "      <th>98</th>\n",
       "      <td>[1, 1, 1, 1, 1, 1, 1, 1, 1, 1, 1, 1, 1, 1, 1, ...</td>\n",
       "      <td>[0, 0, 0, 0, 0, 0, 0, 0, 0, 0, 0, 0, 0, 0, 0, ...</td>\n",
       "    </tr>\n",
       "    <tr>\n",
       "      <th>99</th>\n",
       "      <td>[1, 1, 1, 1, 1, 1, 1, 1, 1, 1, 1, 1, 1, 1, 1, ...</td>\n",
       "      <td>[0, 0, 0, 0, 0, 0, 0, 0, 0, 0, 0, 0, 0, 0, 0, ...</td>\n",
       "    </tr>\n",
       "    <tr>\n",
       "      <th>100</th>\n",
       "      <td>[1, 1, 1, 1, 1, 1, 1, 1, 1, 1, 1, 1, 1, 1, 1, 1]</td>\n",
       "      <td>[0, 0, 0, 0, 0, 0, 0, 0, 0, 0, 0, 0, 0, 0, 0, 0]</td>\n",
       "    </tr>\n",
       "  </tbody>\n",
       "</table>\n",
       "</div>"
      ],
      "text/plain": [
       "                                        attention_mask  \\\n",
       "80   [1, 1, 1, 1, 1, 1, 1, 1, 1, 1, 1, 1, 1, 1, 1, ...   \n",
       "81             [1, 1, 1, 1, 1, 1, 1, 1, 1, 1, 1, 1, 1]   \n",
       "82   [1, 1, 1, 1, 1, 1, 1, 1, 1, 1, 1, 1, 1, 1, 1, ...   \n",
       "83   [1, 1, 1, 1, 1, 1, 1, 1, 1, 1, 1, 1, 1, 1, 1, ...   \n",
       "84   [1, 1, 1, 1, 1, 1, 1, 1, 1, 1, 1, 1, 1, 1, 1, ...   \n",
       "85   [1, 1, 1, 1, 1, 1, 1, 1, 1, 1, 1, 1, 1, 1, 1, ...   \n",
       "86   [1, 1, 1, 1, 1, 1, 1, 1, 1, 1, 1, 1, 1, 1, 1, ...   \n",
       "87   [1, 1, 1, 1, 1, 1, 1, 1, 1, 1, 1, 1, 1, 1, 1, ...   \n",
       "88   [1, 1, 1, 1, 1, 1, 1, 1, 1, 1, 1, 1, 1, 1, 1, ...   \n",
       "89                   [1, 1, 1, 1, 1, 1, 1, 1, 1, 1, 1]   \n",
       "90       [1, 1, 1, 1, 1, 1, 1, 1, 1, 1, 1, 1, 1, 1, 1]   \n",
       "91                                  [1, 1, 1, 1, 1, 1]   \n",
       "92   [1, 1, 1, 1, 1, 1, 1, 1, 1, 1, 1, 1, 1, 1, 1, ...   \n",
       "93   [1, 1, 1, 1, 1, 1, 1, 1, 1, 1, 1, 1, 1, 1, 1, ...   \n",
       "94                            [1, 1, 1, 1, 1, 1, 1, 1]   \n",
       "95   [1, 1, 1, 1, 1, 1, 1, 1, 1, 1, 1, 1, 1, 1, 1, ...   \n",
       "96   [1, 1, 1, 1, 1, 1, 1, 1, 1, 1, 1, 1, 1, 1, 1, ...   \n",
       "97   [1, 1, 1, 1, 1, 1, 1, 1, 1, 1, 1, 1, 1, 1, 1, ...   \n",
       "98   [1, 1, 1, 1, 1, 1, 1, 1, 1, 1, 1, 1, 1, 1, 1, ...   \n",
       "99   [1, 1, 1, 1, 1, 1, 1, 1, 1, 1, 1, 1, 1, 1, 1, ...   \n",
       "100   [1, 1, 1, 1, 1, 1, 1, 1, 1, 1, 1, 1, 1, 1, 1, 1]   \n",
       "\n",
       "                                        token_type_ids  \n",
       "80   [0, 0, 0, 0, 0, 0, 0, 0, 0, 0, 0, 0, 0, 0, 0, ...  \n",
       "81             [0, 0, 0, 0, 0, 0, 0, 0, 0, 0, 0, 0, 0]  \n",
       "82   [0, 0, 0, 0, 0, 0, 0, 0, 0, 0, 0, 0, 0, 0, 0, ...  \n",
       "83   [0, 0, 0, 0, 0, 0, 0, 0, 0, 0, 0, 0, 0, 0, 0, ...  \n",
       "84   [0, 0, 0, 0, 0, 0, 0, 0, 0, 0, 0, 0, 0, 0, 0, ...  \n",
       "85   [0, 0, 0, 0, 0, 0, 0, 0, 0, 0, 0, 0, 0, 0, 0, ...  \n",
       "86   [0, 0, 0, 0, 0, 0, 0, 0, 0, 0, 0, 0, 0, 0, 0, ...  \n",
       "87   [0, 0, 0, 0, 0, 0, 0, 0, 0, 0, 0, 0, 0, 0, 0, ...  \n",
       "88   [0, 0, 0, 0, 0, 0, 0, 0, 0, 0, 0, 0, 0, 0, 0, ...  \n",
       "89                   [0, 0, 0, 0, 0, 0, 0, 0, 0, 0, 0]  \n",
       "90       [0, 0, 0, 0, 0, 0, 0, 0, 0, 0, 0, 0, 0, 0, 0]  \n",
       "91                                  [0, 0, 0, 0, 0, 0]  \n",
       "92   [0, 0, 0, 0, 0, 0, 0, 0, 0, 0, 0, 0, 0, 0, 0, ...  \n",
       "93   [0, 0, 0, 0, 0, 0, 0, 0, 0, 0, 0, 0, 0, 0, 0, ...  \n",
       "94                            [0, 0, 0, 0, 0, 0, 0, 0]  \n",
       "95   [0, 0, 0, 0, 0, 0, 0, 0, 0, 0, 0, 0, 0, 0, 0, ...  \n",
       "96   [0, 0, 0, 0, 0, 0, 0, 0, 0, 0, 0, 0, 0, 0, 0, ...  \n",
       "97   [0, 0, 0, 0, 0, 0, 0, 0, 0, 0, 0, 0, 0, 0, 0, ...  \n",
       "98   [0, 0, 0, 0, 0, 0, 0, 0, 0, 0, 0, 0, 0, 0, 0, ...  \n",
       "99   [0, 0, 0, 0, 0, 0, 0, 0, 0, 0, 0, 0, 0, 0, 0, ...  \n",
       "100   [0, 0, 0, 0, 0, 0, 0, 0, 0, 0, 0, 0, 0, 0, 0, 0]  "
      ]
     },
     "execution_count": 140,
     "metadata": {},
     "output_type": "execute_result"
    }
   ],
   "source": [
    "x=80\n",
    "df_val[['attention_mask','token_type_ids']][x:x+21]"
   ]
  },
  {
   "cell_type": "code",
   "execution_count": null,
   "id": "be7da951",
   "metadata": {},
   "outputs": [],
   "source": []
  },
  {
   "cell_type": "markdown",
   "id": "aaf9e50d",
   "metadata": {},
   "source": [
    "Fine-tuning the model"
   ]
  },
  {
   "cell_type": "markdown",
   "id": "1d172349",
   "metadata": {},
   "source": [
    "Now that our data is ready, we can download the pretrained model and fine-tune it. Since all our tasks are about token classification, we use the AutoModelForTokenClassification class. Like with the tokenizer, the from_pretrained method will download and cache the model for us. The only thing we have to specify is the number of labels for our problem (which we can get from the features, as seen before):"
   ]
  },
  {
   "cell_type": "code",
   "execution_count": 38,
   "id": "4f017f2f",
   "metadata": {},
   "outputs": [
    {
     "data": {
      "text/plain": [
       "(13,\n",
       " ['O',\n",
       "  'B-ORGANIZACAO',\n",
       "  'I-ORGANIZACAO',\n",
       "  'B-PESSOA',\n",
       "  'I-PESSOA',\n",
       "  'B-TEMPO',\n",
       "  'I-TEMPO',\n",
       "  'B-LOCAL',\n",
       "  'I-LOCAL',\n",
       "  'B-LEGISLACAO',\n",
       "  'I-LEGISLACAO',\n",
       "  'B-JURISPRUDENCIA',\n",
       "  'I-JURISPRUDENCIA'])"
      ]
     },
     "execution_count": 38,
     "metadata": {},
     "output_type": "execute_result"
    }
   ],
   "source": [
    "len(label_list), label_list"
   ]
  },
  {
   "cell_type": "code",
   "execution_count": 39,
   "id": "17505f7c",
   "metadata": {},
   "outputs": [
    {
     "data": {
      "text/plain": [
       "(13,\n",
       " ['O',\n",
       "  'B-ORGANIZACAO',\n",
       "  'I-ORGANIZACAO',\n",
       "  'B-PESSOA',\n",
       "  'I-PESSOA',\n",
       "  'B-TEMPO',\n",
       "  'I-TEMPO',\n",
       "  'B-LOCAL',\n",
       "  'I-LOCAL',\n",
       "  'B-LEGISLACAO',\n",
       "  'I-LEGISLACAO',\n",
       "  'B-JURISPRUDENCIA',\n",
       "  'I-JURISPRUDENCIA'])"
      ]
     },
     "execution_count": 39,
     "metadata": {},
     "output_type": "execute_result"
    }
   ],
   "source": [
    "len(labels), labels"
   ]
  },
  {
   "cell_type": "code",
   "execution_count": 40,
   "id": "2e2cac62",
   "metadata": {},
   "outputs": [
    {
     "data": {
      "text/plain": [
       "({0: 'O',\n",
       "  1: 'B-ORGANIZACAO',\n",
       "  2: 'I-ORGANIZACAO',\n",
       "  3: 'B-PESSOA',\n",
       "  4: 'I-PESSOA',\n",
       "  5: 'B-TEMPO',\n",
       "  6: 'I-TEMPO',\n",
       "  7: 'B-LOCAL',\n",
       "  8: 'I-LOCAL',\n",
       "  9: 'B-LEGISLACAO',\n",
       "  10: 'I-LEGISLACAO',\n",
       "  11: 'B-JURISPRUDENCIA',\n",
       "  12: 'I-JURISPRUDENCIA'},\n",
       " {'O': 0,\n",
       "  'B-ORGANIZACAO': 1,\n",
       "  'I-ORGANIZACAO': 2,\n",
       "  'B-PESSOA': 3,\n",
       "  'I-PESSOA': 4,\n",
       "  'B-TEMPO': 5,\n",
       "  'I-TEMPO': 6,\n",
       "  'B-LOCAL': 7,\n",
       "  'I-LOCAL': 8,\n",
       "  'B-LEGISLACAO': 9,\n",
       "  'I-LEGISLACAO': 10,\n",
       "  'B-JURISPRUDENCIA': 11,\n",
       "  'I-JURISPRUDENCIA': 12})"
      ]
     },
     "execution_count": 40,
     "metadata": {},
     "output_type": "execute_result"
    }
   ],
   "source": [
    "id2label = {id_: label for id_, label in enumerate(labels)}\n",
    "label2id = {label: id_ for id_, label in enumerate(labels)}\n",
    "id2label, label2id"
   ]
  },
  {
   "cell_type": "code",
   "execution_count": 41,
   "id": "a8ffd36d",
   "metadata": {},
   "outputs": [
    {
     "name": "stderr",
     "output_type": "stream",
     "text": [
      "Some weights of the model checkpoint at /home/info/MyNotebooks/bert-base-portuguese-cased-finetuned-ACP/checkpoint-1500/ were not used when initializing BertForTokenClassification: ['cls.predictions.transform.LayerNorm.weight', 'cls.predictions.decoder.bias', 'cls.predictions.transform.dense.weight', 'cls.predictions.transform.dense.bias', 'cls.predictions.bias', 'cls.predictions.decoder.weight', 'cls.predictions.transform.LayerNorm.bias']\n",
      "- This IS expected if you are initializing BertForTokenClassification from the checkpoint of a model trained on another task or with another architecture (e.g. initializing a BertForSequenceClassification model from a BertForPreTraining model).\n",
      "- This IS NOT expected if you are initializing BertForTokenClassification from the checkpoint of a model that you expect to be exactly identical (initializing a BertForSequenceClassification model from a BertForSequenceClassification model).\n",
      "Some weights of BertForTokenClassification were not initialized from the model checkpoint at /home/info/MyNotebooks/bert-base-portuguese-cased-finetuned-ACP/checkpoint-1500/ and are newly initialized: ['classifier.bias', 'classifier.weight']\n",
      "You should probably TRAIN this model on a down-stream task to be able to use it for predictions and inference.\n"
     ]
    }
   ],
   "source": [
    "# MODEL\n",
    "\n",
    "#from transformers import AutoModel\n",
    "\n",
    "#checkpoint = \"/home/info/MyNotebooks/bert-base-portuguese-cased-finetuned-ACP/checkpoint-1500/\"\n",
    "model = AutoModelForTokenClassification.from_pretrained(model_checkpoint, num_labels=len(label_list), id2label=id2label, label2id=label2id)\n",
    "#model2 = AutoModel.from_pretrained(checkpoint)"
   ]
  },
  {
   "cell_type": "markdown",
   "id": "6e2ac09d",
   "metadata": {},
   "source": [
    "The warning is telling us we are throwing away some weights (the vocab_transform and vocab_layer_norm layers) and randomly initializing some other (the pre_classifier and classifier layers). This is absolutely normal in this case, because we are removing the head used to pretrain the model on a masked language modeling objective and replacing it with a new head for which we don't have pretrained weights, so the library warns us we should fine-tune this model before using it for inference, which is exactly what we are going to do."
   ]
  },
  {
   "cell_type": "code",
   "execution_count": 42,
   "id": "270392c0",
   "metadata": {},
   "outputs": [
    {
     "data": {
      "text/plain": [
       "108342541"
      ]
     },
     "execution_count": 42,
     "metadata": {},
     "output_type": "execute_result"
    }
   ],
   "source": [
    "# number of model parameters\n",
    "model_num_param=0\n",
    "for p in model.parameters():\n",
    "    model_num_param+=p.numel()\n",
    "model_num_param"
   ]
  },
  {
   "cell_type": "code",
   "execution_count": 43,
   "id": "892eb40b",
   "metadata": {},
   "outputs": [
    {
     "name": "stdout",
     "output_type": "stream",
     "text": [
      " Model Checkpoint tem  225017600 parametros a mais.\n"
     ]
    }
   ],
   "source": [
    "print(\" Model Checkpoint tem \",333360141 - model_num_param,\"parametros a mais.\")"
   ]
  },
  {
   "cell_type": "code",
   "execution_count": null,
   "id": "cbd8b64d",
   "metadata": {},
   "outputs": [],
   "source": []
  },
  {
   "cell_type": "code",
   "execution_count": 44,
   "id": "c67da1a6",
   "metadata": {},
   "outputs": [
    {
     "data": {
      "text/plain": [
       "BertConfig {\n",
       "  \"_name_or_path\": \"/home/info/MyNotebooks/bert-base-portuguese-cased-finetuned-ACP/checkpoint-1500/\",\n",
       "  \"adapters\": {\n",
       "    \"adapters\": {},\n",
       "    \"config_map\": {},\n",
       "    \"fusion_config_map\": {},\n",
       "    \"fusions\": {}\n",
       "  },\n",
       "  \"architectures\": [\n",
       "    \"BertForMaskedLM\"\n",
       "  ],\n",
       "  \"attention_probs_dropout_prob\": 0.1,\n",
       "  \"classifier_dropout\": null,\n",
       "  \"directionality\": \"bidi\",\n",
       "  \"hidden_act\": \"gelu\",\n",
       "  \"hidden_dropout_prob\": 0.1,\n",
       "  \"hidden_size\": 768,\n",
       "  \"id2label\": {\n",
       "    \"0\": \"O\",\n",
       "    \"1\": \"B-ORGANIZACAO\",\n",
       "    \"2\": \"I-ORGANIZACAO\",\n",
       "    \"3\": \"B-PESSOA\",\n",
       "    \"4\": \"I-PESSOA\",\n",
       "    \"5\": \"B-TEMPO\",\n",
       "    \"6\": \"I-TEMPO\",\n",
       "    \"7\": \"B-LOCAL\",\n",
       "    \"8\": \"I-LOCAL\",\n",
       "    \"9\": \"B-LEGISLACAO\",\n",
       "    \"10\": \"I-LEGISLACAO\",\n",
       "    \"11\": \"B-JURISPRUDENCIA\",\n",
       "    \"12\": \"I-JURISPRUDENCIA\"\n",
       "  },\n",
       "  \"initializer_range\": 0.02,\n",
       "  \"intermediate_size\": 3072,\n",
       "  \"label2id\": {\n",
       "    \"B-JURISPRUDENCIA\": 11,\n",
       "    \"B-LEGISLACAO\": 9,\n",
       "    \"B-LOCAL\": 7,\n",
       "    \"B-ORGANIZACAO\": 1,\n",
       "    \"B-PESSOA\": 3,\n",
       "    \"B-TEMPO\": 5,\n",
       "    \"I-JURISPRUDENCIA\": 12,\n",
       "    \"I-LEGISLACAO\": 10,\n",
       "    \"I-LOCAL\": 8,\n",
       "    \"I-ORGANIZACAO\": 2,\n",
       "    \"I-PESSOA\": 4,\n",
       "    \"I-TEMPO\": 6,\n",
       "    \"O\": 0\n",
       "  },\n",
       "  \"layer_norm_eps\": 1e-12,\n",
       "  \"max_position_embeddings\": 512,\n",
       "  \"model_type\": \"bert\",\n",
       "  \"num_attention_heads\": 12,\n",
       "  \"num_hidden_layers\": 12,\n",
       "  \"output_past\": true,\n",
       "  \"pad_token_id\": 0,\n",
       "  \"pooler_fc_size\": 768,\n",
       "  \"pooler_num_attention_heads\": 12,\n",
       "  \"pooler_num_fc_layers\": 3,\n",
       "  \"pooler_size_per_head\": 128,\n",
       "  \"pooler_type\": \"first_token_transform\",\n",
       "  \"position_embedding_type\": \"absolute\",\n",
       "  \"torch_dtype\": \"float32\",\n",
       "  \"transformers_version\": \"4.17.0\",\n",
       "  \"type_vocab_size\": 2,\n",
       "  \"use_cache\": true,\n",
       "  \"vocab_size\": 29794\n",
       "}"
      ]
     },
     "execution_count": 44,
     "metadata": {},
     "output_type": "execute_result"
    }
   ],
   "source": [
    "model.config\n",
    "# Nao teriamos que configurar previamente o id2label e label2id?"
   ]
  },
  {
   "cell_type": "code",
   "execution_count": null,
   "id": "dc8ca081",
   "metadata": {},
   "outputs": [],
   "source": [
    "# model.config.adapters"
   ]
  },
  {
   "cell_type": "markdown",
   "id": "c23fc140",
   "metadata": {},
   "source": [
    "9. Adapters"
   ]
  },
  {
   "cell_type": "code",
   "execution_count": 45,
   "id": "6ae5060d",
   "metadata": {},
   "outputs": [],
   "source": [
    "# Setup adapters\n",
    "\n",
    "if train_adapter:\n",
    "        \n",
    "    # new\n",
    "    if madx2:\n",
    "        # do not add adapter in the last transformer layers \n",
    "        leave_out = [len(model.bert.encoder.layer)-1]\n",
    "    else:\n",
    "        leave_out = []\n",
    "        \n",
    "    # new\n",
    "    # task_name = data_args.dataset_name or \"mlm\"\n",
    "    task_name = \"ner\"\n",
    "    \n",
    "    # optionally load another pre-trained language adapter\n",
    "    if with_adapters_mlm:\n",
    "        # resolve the language adapter config\n",
    "        lang_adapter_config = AdapterConfig.load(\n",
    "                lang_adapter_config,\n",
    "                non_linearity=lang_adapter_non_linearity,\n",
    "                reduction_factor=lang_adapter_reduction_factor,\n",
    "                leave_out=leave_out,\n",
    "            )\n",
    "        # load the language adapter from Hub\n",
    "        task_mlm_load_as = 'mlm'\n",
    "        lang_adapter_name = model.load_adapter(\n",
    "                load_lang_adapter,\n",
    "                config=lang_adapter_config,\n",
    "                load_as=task_mlm_load_as,\n",
    "                with_head = False\n",
    "            )\n",
    "    else:\n",
    "        lang_adapter_name = None\n",
    "        \n",
    "    # check if adapter already exists, otherwise add it\n",
    "    if task_name not in model.config.adapters:\n",
    "            \n",
    "#             # resolve the adapter config\n",
    "#             adapter_config = AdapterConfig.load(\n",
    "#                 adapter_args.adapter_config,\n",
    "#                 non_linearity=adapter_args.adapter_non_linearity,\n",
    "#                 reduction_factor=adapter_args.adapter_reduction_factor,\n",
    "#             )\n",
    "\n",
    "        # new\n",
    "        # resolve adapter config with (eventually) the MAD-X 2.0 option\n",
    "        if adapter_config_name == \"pfeiffer\":\n",
    "            from transformers.adapters.configuration import PfeifferConfig\n",
    "            adapter_config = PfeifferConfig(non_linearity=adapter_non_linearity,\n",
    "                                            reduction_factor=adapter_reduction_factor,\n",
    "                                            leave_out=leave_out)           \n",
    "        elif adapter_config_name == \"pfeiffer+inv\":\n",
    "            from transformers.adapters.configuration import PfeifferInvConfig\n",
    "            adapter_config = PfeifferInvConfig(non_linearity=adapter_non_linearity,\n",
    "                                               reduction_factor=adapter_reduction_factor,\n",
    "                                               leave_out=leave_out)          \n",
    "        elif adapter_config_name == \"houlsby\":\n",
    "            from transformers.adapters.configuration import HoulsbyConfig\n",
    "            adapter_config = HoulsbyConfig(non_linearity=adapter_non_linearity,\n",
    "                                           reduction_factor=adapter_reduction_factor,\n",
    "                                           leave_out=leave_out)\n",
    "        elif adapter_config_name == \"houlsby+inv\":\n",
    "            from transformers.adapters.configuration import HoulsbyInvConfig\n",
    "            adapter_config = HoulsbyInvConfig(non_linearity=adapter_non_linearity,\n",
    "                                              reduction_factor=adapter_reduction_factor,\n",
    "                                              leave_out=leave_out)              \n",
    "                \n",
    "        # load a pre-trained from Hub if specified\n",
    "        if load_adapter:\n",
    "            model.load_adapter(\n",
    "                    load_adapter,\n",
    "                    config=adapter_config,\n",
    "                    load_as=task_name,\n",
    "                    with_head = False\n",
    "                )\n",
    "        # otherwise, add a fresh adapter\n",
    "        else:\n",
    "            model.add_adapter(task_name, config=adapter_config)\n",
    "            \n",
    "    # Set the adapters to be used in every forward pass\n",
    "    if lang_adapter_name:\n",
    "        model.active_adapters = Stack(task_mlm_load_as, task_name)\n",
    "    else:\n",
    "        model.set_active_adapters(task_name)\n",
    "\n",
    "    # Freeze all model weights except of those of this adapter\n",
    "    model.train_adapter([task_name])\n",
    "    \n",
    "else:\n",
    "    if load_adapter or load_lang_adapter:\n",
    "        raise ValueError(\n",
    "                \"Adapters can only be loaded in adapters training mode.\"\n",
    "                \"Use --train_adapter to enable adapter training\"\n",
    "            )\n"
   ]
  },
  {
   "cell_type": "code",
   "execution_count": null,
   "id": "9de5b86c",
   "metadata": {},
   "outputs": [],
   "source": []
  },
  {
   "cell_type": "code",
   "execution_count": 46,
   "id": "ee5bae62",
   "metadata": {},
   "outputs": [],
   "source": [
    "# Put only the adapter after the MHA but not after the FeedForward in the last layer\n",
    "if houlsby_MHA_lastlayer \\\n",
    "and train_adapter \\\n",
    "and not madx2 \\\n",
    "and task_name in model.config.adapters \\\n",
    "and (adapter_config_name == \"houlsby\" or adapter_config_name == \"houlsby+inv\"):\n",
    "    model.bert.encoder.layer[len(model.bert.encoder.layer)-1].output.adapters = ModuleDict()"
   ]
  },
  {
   "cell_type": "code",
   "execution_count": 47,
   "id": "165d1192",
   "metadata": {},
   "outputs": [
    {
     "data": {
      "text/plain": [
       "109162525"
      ]
     },
     "execution_count": 47,
     "metadata": {},
     "output_type": "execute_result"
    }
   ],
   "source": [
    "model_adapter_num_param=0\n",
    "for p in model.parameters():\n",
    "    model_adapter_num_param+=p.numel()\n",
    "model_adapter_num_param"
   ]
  },
  {
   "cell_type": "code",
   "execution_count": 48,
   "id": "7e48a9a6",
   "metadata": {},
   "outputs": [
    {
     "name": "stdout",
     "output_type": "stream",
     "text": [
      "Number of parameters of the model with adapter: 109162525\n",
      "Number of parameters of the model without adapter: 108342541\n",
      "Number of parameters of the adapter: 819984\n",
      "Pourcentage of additional parameters through adapter: 0.76 %\n"
     ]
    }
   ],
   "source": [
    "print(f\"Number of parameters of the model with adapter: {model_adapter_num_param:.0f}\")\n",
    "print(f\"Number of parameters of the model without adapter: {model_num_param:.0f}\")\n",
    "print(f\"Number of parameters of the adapter: {model_adapter_num_param - model_num_param:.0f}\")\n",
    "print(f\"Pourcentage of additional parameters through adapter:\",round(((model_adapter_num_param - model_num_param)/model_num_param)*100,2),'%')\n"
   ]
  },
  {
   "cell_type": "code",
   "execution_count": null,
   "id": "a3c922f2",
   "metadata": {},
   "outputs": [],
   "source": []
  },
  {
   "cell_type": "code",
   "execution_count": null,
   "id": "f5c8b514",
   "metadata": {},
   "outputs": [],
   "source": []
  },
  {
   "cell_type": "markdown",
   "id": "af4339c3",
   "metadata": {},
   "source": [
    "10. Training"
   ]
  },
  {
   "cell_type": "code",
   "execution_count": 49,
   "id": "85dc9cb3",
   "metadata": {},
   "outputs": [
    {
     "name": "stderr",
     "output_type": "stream",
     "text": [
      "Using the `WAND_DISABLED` environment variable is deprecated and will be removed in v5. Use the --report_to flag to control the integrations used for logging result (for instance --report_to none).\n"
     ]
    }
   ],
   "source": [
    "\n",
    "if ds:\n",
    "    training_args = TrainingArguments(\n",
    "        output_dir=output_dir,\n",
    "        overwrite_output_dir=overwrite_output_dir,\n",
    "        do_train=do_train,\n",
    "        do_eval=do_eval,\n",
    "        evaluation_strategy=evaluation_strategy,\n",
    "        per_device_train_batch_size=batch_size,\n",
    "        per_device_eval_batch_size=batch_size,\n",
    "        gradient_accumulation_steps=gradient_accumulation_steps,\n",
    "        learning_rate=learning_rate,\n",
    "        weight_decay=weight_decay,\n",
    "        adam_beta1=adam_beta1,\n",
    "        adam_beta2=adam_beta2,\n",
    "        adam_epsilon=adam_epsilon,\n",
    "        num_train_epochs=num_train_epochs,\n",
    "        lr_scheduler_type=lr_scheduler_type,\n",
    "        warmup_ratio=warmup_ratio,\n",
    "        warmup_steps=warmup_steps,\n",
    "        logging_dir=logging_dir,         # directory for storing logs\n",
    "        logging_strategy=evaluation_strategy,\n",
    "        logging_steps=logging_steps,     # if strategy = \"steps\"\n",
    "        save_strategy=evaluation_strategy,          # model checkpoint saving strategy\n",
    "        save_steps=logging_steps,        # if strategy = \"steps\"\n",
    "        save_total_limit=save_total_limit,\n",
    "        #fp16=fp16,\n",
    "        eval_steps=logging_steps,        # if strategy = \"steps\"\n",
    "        load_best_model_at_end=load_best_model_at_end,\n",
    "        metric_for_best_model=metric_for_best_model,\n",
    "        greater_is_better=greater_is_better,\n",
    "        #local_rank=gpu,\n",
    "        #deepspeed = ds_config\n",
    "        )\n",
    "else:\n",
    "    training_args = TrainingArguments(\n",
    "        output_dir=output_dir,\n",
    "        overwrite_output_dir=overwrite_output_dir,\n",
    "        do_train=do_train,\n",
    "        do_eval=do_eval,\n",
    "        evaluation_strategy=evaluation_strategy,\n",
    "        per_device_train_batch_size=batch_size,\n",
    "        per_device_eval_batch_size=batch_size,\n",
    "        gradient_accumulation_steps=gradient_accumulation_steps,\n",
    "        learning_rate=learning_rate,\n",
    "        weight_decay=weight_decay,\n",
    "        adam_beta1=adam_beta1,\n",
    "        adam_beta2=adam_beta2,\n",
    "        adam_epsilon=adam_epsilon,\n",
    "        num_train_epochs=num_train_epochs,\n",
    "        lr_scheduler_type=lr_scheduler_type,\n",
    "        warmup_ratio=warmup_ratio,\n",
    "        warmup_steps=warmup_steps,\n",
    "        logging_dir=logging_dir,         # directory for storing logs\n",
    "        logging_strategy=evaluation_strategy,\n",
    "        logging_steps=logging_steps,     # if strategy = \"steps\"\n",
    "        save_strategy=evaluation_strategy,          # model checkpoint saving strategy\n",
    "        save_steps=logging_steps,        # if strategy = \"steps\"\n",
    "        save_total_limit=save_total_limit,\n",
    "        #fp16=fp16,\n",
    "        eval_steps=logging_steps,        # if strategy = \"steps\"\n",
    "        load_best_model_at_end=load_best_model_at_end,\n",
    "        metric_for_best_model=metric_for_best_model,\n",
    "        greater_is_better=greater_is_better,\n",
    "        #local_rank=gpu,\n",
    "        )\n"
   ]
  },
  {
   "cell_type": "code",
   "execution_count": null,
   "id": "a6535004",
   "metadata": {},
   "outputs": [],
   "source": []
  },
  {
   "cell_type": "code",
   "execution_count": 50,
   "id": "01e52193",
   "metadata": {},
   "outputs": [],
   "source": [
    "data_collator = DataCollatorForTokenClassification(tokenizer)"
   ]
  },
  {
   "cell_type": "markdown",
   "id": "b6fdff32",
   "metadata": {},
   "source": [
    "The last thing to define for our Trainer is how to compute the metrics from the predictions. Here we will load the seqeval metric (which is commonly used to evaluate results on the CONLL dataset) via the Datasets library."
   ]
  },
  {
   "cell_type": "code",
   "execution_count": 51,
   "id": "30a68048",
   "metadata": {},
   "outputs": [],
   "source": [
    "metric = load_metric(\"seqeval\")"
   ]
  },
  {
   "cell_type": "code",
   "execution_count": null,
   "id": "c130a6f7",
   "metadata": {},
   "outputs": [],
   "source": [
    "#example = tokenized_datasets[\"validation\"][0]"
   ]
  },
  {
   "cell_type": "markdown",
   "id": "676802d1",
   "metadata": {},
   "source": [
    "This metric takes list of labels for the predictions and references:"
   ]
  },
  {
   "cell_type": "code",
   "execution_count": 52,
   "id": "08eb2fd1",
   "metadata": {},
   "outputs": [
    {
     "data": {
      "text/plain": [
       "{'JURISPRUDENCIA': {'precision': 1.0, 'recall': 1.0, 'f1': 1.0, 'number': 3},\n",
       " 'ORGANIZACAO': {'precision': 1.0, 'recall': 1.0, 'f1': 1.0, 'number': 2},\n",
       " 'PESSOA': {'precision': 1.0, 'recall': 1.0, 'f1': 1.0, 'number': 2},\n",
       " 'overall_precision': 1.0,\n",
       " 'overall_recall': 1.0,\n",
       " 'overall_f1': 1.0,\n",
       " 'overall_accuracy': 1.0}"
      ]
     },
     "execution_count": 52,
     "metadata": {},
     "output_type": "execute_result"
    }
   ],
   "source": [
    "if next_sentence:\n",
    "    example = new_datasets[\"validation\"][0]\n",
    "    #example = tokenized_datasets[\"validation\"][0]\n",
    "else:\n",
    "    example = datasets[\"validation\"][0]\n",
    "    #example = tokenized_datasets[\"validation\"][0]\n",
    "\n",
    "labels = [label_list[i] for i in example[f\"{task}_tags\"]]\n",
    "metric.compute(predictions=[labels], references=[labels])"
   ]
  },
  {
   "cell_type": "markdown",
   "id": "653e58f9",
   "metadata": {},
   "source": [
    "\n",
    "\n",
    "So we will need to do a bit of post-processing on our predictions:\n",
    "\n",
    "    select the predicted index (with the maximum logit) for each token\n",
    "    convert it to its string label\n",
    "    ignore everywhere we set a label of -100\n",
    "\n",
    "The following function does all this post-processing on the result of Trainer.evaluate (which is a namedtuple containing predictions and labels) before applying the metric:\n"
   ]
  },
  {
   "cell_type": "code",
   "execution_count": 53,
   "id": "37d81549",
   "metadata": {},
   "outputs": [],
   "source": [
    "\n",
    "def compute_metrics(p):\n",
    "    predictions, labels = p\n",
    "    predictions = np.argmax(predictions, axis=2)\n",
    "\n",
    "    # Remove ignored index (special tokens)\n",
    "    true_predictions = [\n",
    "        [label_list[p] for (p, l) in zip(prediction, label) if l != -100]\n",
    "        for prediction, label in zip(predictions, labels)\n",
    "    ]\n",
    "    true_labels = [\n",
    "        [label_list[l] for (p, l) in zip(prediction, label) if l != -100]\n",
    "        for prediction, label in zip(predictions, labels)\n",
    "    ]\n",
    "\n",
    "    results = metric.compute(predictions=true_predictions, references=true_labels)\n",
    "    return {\n",
    "        \"precision\": results[\"overall_precision\"],\n",
    "        \"recall\": results[\"overall_recall\"],\n",
    "        \"f1\": results[\"overall_f1\"],\n",
    "        \"accuracy\": results[\"overall_accuracy\"],\n",
    "    }\n"
   ]
  },
  {
   "cell_type": "code",
   "execution_count": null,
   "id": "6848975e",
   "metadata": {},
   "outputs": [],
   "source": []
  },
  {
   "cell_type": "code",
   "execution_count": 54,
   "id": "c9a4c82a",
   "metadata": {},
   "outputs": [
    {
     "data": {
      "text/plain": [
       "{'O': 41807,\n",
       " 'B-ORGANIZACAO': 501,\n",
       " 'I-ORGANIZACAO': 866,\n",
       " 'B-PESSOA': 233,\n",
       " 'I-PESSOA': 502,\n",
       " 'B-TEMPO': 192,\n",
       " 'I-TEMPO': 68,\n",
       " 'B-LOCAL': 47,\n",
       " 'I-LOCAL': 85,\n",
       " 'B-LEGISLACAO': 378,\n",
       " 'I-LEGISLACAO': 2291,\n",
       " 'B-JURISPRUDENCIA': 185,\n",
       " 'I-JURISPRUDENCIA': 475}"
      ]
     },
     "execution_count": 54,
     "metadata": {},
     "output_type": "execute_result"
    }
   ],
   "source": [
    "sorted_ner_tags_dist"
   ]
  },
  {
   "cell_type": "code",
   "execution_count": 55,
   "id": "3df460f0",
   "metadata": {},
   "outputs": [],
   "source": [
    "\n",
    "if weighted_loss:\n",
    "\n",
    "    # https://discuss.pytorch.org/t/what-is-the-weight-values-mean-in-torch-nn-crossentropyloss/11455/2\n",
    "    # https://discuss.pytorch.org/t/what-is-the-weight-values-mean-in-torch-nn-crossentropyloss/11455/4\n",
    "    # source: https://medium.com/swlh/approaching-a-named-entity-recognition-ner-end-to-end-steps-685735b4a2f9#5194\n",
    "    class_LabelCounts = [v for v in sorted_ner_tags_dist.values()]\n",
    "\n",
    "    inverse_weights = [1 / lc for lc in class_LabelCounts]\n",
    "    sum_inverse = np.sum(inverse_weights)\n",
    "    normalized_inverse_weights = inverse_weights / sum_inverse\n",
    "\n",
    "    constant = c\n",
    "    class_weights = constant + normalized_inverse_weights\n",
    "    normalized_weights = class_weights / np.sum(class_weights)\n",
    "    \n",
    "    # customized trainer class with weighted loss\n",
    "    # from transformers import Trainer\n",
    "    # import math\n",
    "    # from torch.nn import CrossEntropyLoss\n",
    "\n",
    "    # device = torch.device(f\"cuda:{gpu}\")\n",
    "#     torch.cuda.set_device(gpu)\n",
    "    normalized_class_weights = torch.from_numpy(normalized_weights).float().to(device)\n",
    "    if ds:\n",
    "        normalized_class_weights = normalized_class_weights.half()\n",
    "\n",
    "    class MyTrainer(Trainer):\n",
    "        def __init__(self, *args, **kwargs):\n",
    "            super().__init__(*args, **kwargs)    \n",
    "\n",
    "        # https://huggingface.co/transformers/_modules/transformers/trainer.html#Trainer.compute_loss\n",
    "        # https://github.com/huggingface/transformers/blob/master/src/transformers/models/bert/modeling_bert.py#L1711\n",
    "        def compute_loss(self, model, inputs, return_outputs=False):\n",
    "            \"\"\"\n",
    "            How the loss is computed by Trainer. By default, all models return the loss in the first element.\n",
    "\n",
    "            Subclass and override for custom behavior.\n",
    "            \"\"\"\n",
    "\n",
    "            labels = inputs.pop(\"labels\")\n",
    "            attention_mask = inputs['attention_mask']\n",
    "            \n",
    "            outputs = model(**inputs)\n",
    "            logits = outputs.logits\n",
    "            num_labels = logits.shape[2]\n",
    "        \n",
    "            loss = None\n",
    "            \n",
    "            if labels is not None:\n",
    "#                 loss_fct = torch.nn.CrossEntropyLoss()\n",
    "                loss_fct = torch.nn.CrossEntropyLoss(weight=normalized_class_weights, reduction='mean') # mean in order to normalize the loss\n",
    "                \n",
    "                # Only keep active parts of the loss\n",
    "                if attention_mask is not None:\n",
    "                    active_loss = attention_mask.view(-1) == 1\n",
    "                    active_logits = logits.view(-1, num_labels)\n",
    "                    active_labels = torch.where(\n",
    "                        active_loss, labels.view(-1), torch.tensor(loss_fct.ignore_index).type_as(labels)\n",
    "                    )\n",
    "                    loss = loss_fct(active_logits, active_labels)\n",
    "                else:\n",
    "                    loss = loss_fct(logits.view(-1, num_labels), labels.view(-1))\n",
    "                \n",
    "            return (loss, outputs) if return_outputs else loss"
   ]
  },
  {
   "cell_type": "code",
   "execution_count": 56,
   "id": "4eb128d9",
   "metadata": {},
   "outputs": [],
   "source": [
    "if weighted_loss:\n",
    "    trainer = MyTrainer(\n",
    "        model,\n",
    "        training_args,\n",
    "        train_dataset=tokenized_datasets[\"train\"], #.shard(index=1, num_shards=50), #to be used to reduce train to 1/50\n",
    "        eval_dataset=tokenized_datasets[\"validation\"], #.shard(index=1, num_shards=50), #to be used to reduce validation to 1/50\n",
    "        data_collator=data_collator,\n",
    "        tokenizer=tokenizer,\n",
    "        compute_metrics=compute_metrics,\n",
    "        callbacks=[EarlyStoppingCallback(early_stopping_patience=early_stopping_patience)],\n",
    "    )        \n",
    "else:\n",
    "    trainer = Trainer(\n",
    "        model,\n",
    "        training_args,\n",
    "        train_dataset=tokenized_datasets[\"train\"], #.shard(index=1, num_shards=50), #to be used to reduce train to 1/50\n",
    "        eval_dataset=tokenized_datasets[\"validation\"], #.shard(index=1, num_shards=50), #to be used to reduce validation to 1/50\n",
    "        data_collator=data_collator,\n",
    "        tokenizer=tokenizer,\n",
    "        compute_metrics=compute_metrics,\n",
    "        callbacks=[EarlyStoppingCallback(early_stopping_patience=early_stopping_patience)],\n",
    "    )"
   ]
  },
  {
   "cell_type": "code",
   "execution_count": 57,
   "id": "7d907c8c",
   "metadata": {},
   "outputs": [
    {
     "data": {
      "text/plain": [
       "'NER-ACP_/ner/lr0.0001_bs8_epochs3_patience5_wamlmFalse_madx2True_houlsby_MHA_lastlayerFalse_dsFalse_fp16True_bestTrue_metricf1_weightedlossTrue_c0.3_nsTrue_adapterconfigpfeiffer'"
      ]
     },
     "execution_count": 57,
     "metadata": {},
     "output_type": "execute_result"
    }
   ],
   "source": [
    "outputs"
   ]
  },
  {
   "cell_type": "code",
   "execution_count": null,
   "id": "83481b6d",
   "metadata": {},
   "outputs": [],
   "source": [
    "# import pixiedust"
   ]
  },
  {
   "cell_type": "code",
   "execution_count": null,
   "id": "7b18f09a",
   "metadata": {
    "pixiedust": {
     "displayParams": {}
    }
   },
   "outputs": [],
   "source": [
    "#%%pixie_debugger\n",
    "# %debug\n",
    "#train_result = trainer.train()"
   ]
  },
  {
   "cell_type": "code",
   "execution_count": 58,
   "id": "78e21412",
   "metadata": {},
   "outputs": [
    {
     "name": "stderr",
     "output_type": "stream",
     "text": [
      "/home/info/.local/lib/python3.8/site-packages/transformers/optimization.py:306: FutureWarning: This implementation of AdamW is deprecated and will be removed in a future version. Use the PyTorch implementation torch.optim.AdamW instead, or set `no_deprecation_warning=True` to disable this warning\n",
      "  warnings.warn(\n",
      "***** Running training *****\n",
      "  Num examples = 7828\n",
      "  Num Epochs = 3\n",
      "  Instantaneous batch size per device = 8\n",
      "  Total train batch size (w. parallel, distributed & accumulation) = 8\n",
      "  Gradient Accumulation steps = 1\n",
      "  Total optimization steps = 2937\n"
     ]
    },
    {
     "data": {
      "text/html": [
       "\n",
       "    <div>\n",
       "      \n",
       "      <progress value='2937' max='2937' style='width:300px; height:20px; vertical-align: middle;'></progress>\n",
       "      [2937/2937 1:23:14, Epoch 3/3]\n",
       "    </div>\n",
       "    <table border=\"1\" class=\"dataframe\">\n",
       "  <thead>\n",
       " <tr style=\"text-align: left;\">\n",
       "      <th>Epoch</th>\n",
       "      <th>Training Loss</th>\n",
       "      <th>Validation Loss</th>\n",
       "      <th>Precision</th>\n",
       "      <th>Recall</th>\n",
       "      <th>F1</th>\n",
       "      <th>Accuracy</th>\n",
       "    </tr>\n",
       "  </thead>\n",
       "  <tbody>\n",
       "    <tr>\n",
       "      <td>1</td>\n",
       "      <td>0.569500</td>\n",
       "      <td>nan</td>\n",
       "      <td>0.552386</td>\n",
       "      <td>0.612258</td>\n",
       "      <td>0.580783</td>\n",
       "      <td>0.942006</td>\n",
       "    </tr>\n",
       "    <tr>\n",
       "      <td>2</td>\n",
       "      <td>0.369900</td>\n",
       "      <td>nan</td>\n",
       "      <td>0.680851</td>\n",
       "      <td>0.674409</td>\n",
       "      <td>0.677615</td>\n",
       "      <td>0.955278</td>\n",
       "    </tr>\n",
       "    <tr>\n",
       "      <td>3</td>\n",
       "      <td>0.338300</td>\n",
       "      <td>nan</td>\n",
       "      <td>0.683316</td>\n",
       "      <td>0.700215</td>\n",
       "      <td>0.691662</td>\n",
       "      <td>0.957578</td>\n",
       "    </tr>\n",
       "  </tbody>\n",
       "</table><p>"
      ],
      "text/plain": [
       "<IPython.core.display.HTML object>"
      ]
     },
     "metadata": {},
     "output_type": "display_data"
    },
    {
     "name": "stderr",
     "output_type": "stream",
     "text": [
      "***** Running Evaluation *****\n",
      "  Num examples = 1177\n",
      "  Batch size = 8\n",
      "Saving model checkpoint to /home/info/MyNotebooks/Datasets/SentencasTRT1/ACP-Bert-LM/NER-ACP/outputs/NER-ACP_/ner/lr0.0001_bs8_epochs3_patience5_wamlmFalse_madx2True_houlsby_MHA_lastlayerFalse_dsFalse_fp16True_bestTrue_metricf1_weightedlossTrue_c0.3_nsTrue_adapterconfigpfeiffer/output_dir/checkpoint-979\n",
      "Configuration saved in /home/info/MyNotebooks/Datasets/SentencasTRT1/ACP-Bert-LM/NER-ACP/outputs/NER-ACP_/ner/lr0.0001_bs8_epochs3_patience5_wamlmFalse_madx2True_houlsby_MHA_lastlayerFalse_dsFalse_fp16True_bestTrue_metricf1_weightedlossTrue_c0.3_nsTrue_adapterconfigpfeiffer/output_dir/checkpoint-979/config.json\n",
      "Model weights saved in /home/info/MyNotebooks/Datasets/SentencasTRT1/ACP-Bert-LM/NER-ACP/outputs/NER-ACP_/ner/lr0.0001_bs8_epochs3_patience5_wamlmFalse_madx2True_houlsby_MHA_lastlayerFalse_dsFalse_fp16True_bestTrue_metricf1_weightedlossTrue_c0.3_nsTrue_adapterconfigpfeiffer/output_dir/checkpoint-979/pytorch_model.bin\n",
      "tokenizer config file saved in /home/info/MyNotebooks/Datasets/SentencasTRT1/ACP-Bert-LM/NER-ACP/outputs/NER-ACP_/ner/lr0.0001_bs8_epochs3_patience5_wamlmFalse_madx2True_houlsby_MHA_lastlayerFalse_dsFalse_fp16True_bestTrue_metricf1_weightedlossTrue_c0.3_nsTrue_adapterconfigpfeiffer/output_dir/checkpoint-979/tokenizer_config.json\n",
      "Special tokens file saved in /home/info/MyNotebooks/Datasets/SentencasTRT1/ACP-Bert-LM/NER-ACP/outputs/NER-ACP_/ner/lr0.0001_bs8_epochs3_patience5_wamlmFalse_madx2True_houlsby_MHA_lastlayerFalse_dsFalse_fp16True_bestTrue_metricf1_weightedlossTrue_c0.3_nsTrue_adapterconfigpfeiffer/output_dir/checkpoint-979/special_tokens_map.json\n",
      "Deleting older checkpoint [/home/info/MyNotebooks/Datasets/SentencasTRT1/ACP-Bert-LM/NER-ACP/outputs/NER-ACP_/ner/lr0.0001_bs8_epochs3_patience5_wamlmFalse_madx2True_houlsby_MHA_lastlayerFalse_dsFalse_fp16True_bestTrue_metricf1_weightedlossTrue_c0.3_nsTrue_adapterconfigpfeiffer/output_dir/checkpoint-2937] due to args.save_total_limit\n",
      "***** Running Evaluation *****\n",
      "  Num examples = 1177\n",
      "  Batch size = 8\n",
      "Saving model checkpoint to /home/info/MyNotebooks/Datasets/SentencasTRT1/ACP-Bert-LM/NER-ACP/outputs/NER-ACP_/ner/lr0.0001_bs8_epochs3_patience5_wamlmFalse_madx2True_houlsby_MHA_lastlayerFalse_dsFalse_fp16True_bestTrue_metricf1_weightedlossTrue_c0.3_nsTrue_adapterconfigpfeiffer/output_dir/checkpoint-1958\n",
      "Configuration saved in /home/info/MyNotebooks/Datasets/SentencasTRT1/ACP-Bert-LM/NER-ACP/outputs/NER-ACP_/ner/lr0.0001_bs8_epochs3_patience5_wamlmFalse_madx2True_houlsby_MHA_lastlayerFalse_dsFalse_fp16True_bestTrue_metricf1_weightedlossTrue_c0.3_nsTrue_adapterconfigpfeiffer/output_dir/checkpoint-1958/config.json\n",
      "Model weights saved in /home/info/MyNotebooks/Datasets/SentencasTRT1/ACP-Bert-LM/NER-ACP/outputs/NER-ACP_/ner/lr0.0001_bs8_epochs3_patience5_wamlmFalse_madx2True_houlsby_MHA_lastlayerFalse_dsFalse_fp16True_bestTrue_metricf1_weightedlossTrue_c0.3_nsTrue_adapterconfigpfeiffer/output_dir/checkpoint-1958/pytorch_model.bin\n",
      "tokenizer config file saved in /home/info/MyNotebooks/Datasets/SentencasTRT1/ACP-Bert-LM/NER-ACP/outputs/NER-ACP_/ner/lr0.0001_bs8_epochs3_patience5_wamlmFalse_madx2True_houlsby_MHA_lastlayerFalse_dsFalse_fp16True_bestTrue_metricf1_weightedlossTrue_c0.3_nsTrue_adapterconfigpfeiffer/output_dir/checkpoint-1958/tokenizer_config.json\n",
      "Special tokens file saved in /home/info/MyNotebooks/Datasets/SentencasTRT1/ACP-Bert-LM/NER-ACP/outputs/NER-ACP_/ner/lr0.0001_bs8_epochs3_patience5_wamlmFalse_madx2True_houlsby_MHA_lastlayerFalse_dsFalse_fp16True_bestTrue_metricf1_weightedlossTrue_c0.3_nsTrue_adapterconfigpfeiffer/output_dir/checkpoint-1958/special_tokens_map.json\n",
      "Deleting older checkpoint [/home/info/MyNotebooks/Datasets/SentencasTRT1/ACP-Bert-LM/NER-ACP/outputs/NER-ACP_/ner/lr0.0001_bs8_epochs3_patience5_wamlmFalse_madx2True_houlsby_MHA_lastlayerFalse_dsFalse_fp16True_bestTrue_metricf1_weightedlossTrue_c0.3_nsTrue_adapterconfigpfeiffer/output_dir/checkpoint-979] due to args.save_total_limit\n",
      "***** Running Evaluation *****\n",
      "  Num examples = 1177\n",
      "  Batch size = 8\n",
      "Saving model checkpoint to /home/info/MyNotebooks/Datasets/SentencasTRT1/ACP-Bert-LM/NER-ACP/outputs/NER-ACP_/ner/lr0.0001_bs8_epochs3_patience5_wamlmFalse_madx2True_houlsby_MHA_lastlayerFalse_dsFalse_fp16True_bestTrue_metricf1_weightedlossTrue_c0.3_nsTrue_adapterconfigpfeiffer/output_dir/checkpoint-2937\n",
      "Configuration saved in /home/info/MyNotebooks/Datasets/SentencasTRT1/ACP-Bert-LM/NER-ACP/outputs/NER-ACP_/ner/lr0.0001_bs8_epochs3_patience5_wamlmFalse_madx2True_houlsby_MHA_lastlayerFalse_dsFalse_fp16True_bestTrue_metricf1_weightedlossTrue_c0.3_nsTrue_adapterconfigpfeiffer/output_dir/checkpoint-2937/config.json\n",
      "Model weights saved in /home/info/MyNotebooks/Datasets/SentencasTRT1/ACP-Bert-LM/NER-ACP/outputs/NER-ACP_/ner/lr0.0001_bs8_epochs3_patience5_wamlmFalse_madx2True_houlsby_MHA_lastlayerFalse_dsFalse_fp16True_bestTrue_metricf1_weightedlossTrue_c0.3_nsTrue_adapterconfigpfeiffer/output_dir/checkpoint-2937/pytorch_model.bin\n",
      "tokenizer config file saved in /home/info/MyNotebooks/Datasets/SentencasTRT1/ACP-Bert-LM/NER-ACP/outputs/NER-ACP_/ner/lr0.0001_bs8_epochs3_patience5_wamlmFalse_madx2True_houlsby_MHA_lastlayerFalse_dsFalse_fp16True_bestTrue_metricf1_weightedlossTrue_c0.3_nsTrue_adapterconfigpfeiffer/output_dir/checkpoint-2937/tokenizer_config.json\n",
      "Special tokens file saved in /home/info/MyNotebooks/Datasets/SentencasTRT1/ACP-Bert-LM/NER-ACP/outputs/NER-ACP_/ner/lr0.0001_bs8_epochs3_patience5_wamlmFalse_madx2True_houlsby_MHA_lastlayerFalse_dsFalse_fp16True_bestTrue_metricf1_weightedlossTrue_c0.3_nsTrue_adapterconfigpfeiffer/output_dir/checkpoint-2937/special_tokens_map.json\n",
      "Deleting older checkpoint [/home/info/MyNotebooks/Datasets/SentencasTRT1/ACP-Bert-LM/NER-ACP/outputs/NER-ACP_/ner/lr0.0001_bs8_epochs3_patience5_wamlmFalse_madx2True_houlsby_MHA_lastlayerFalse_dsFalse_fp16True_bestTrue_metricf1_weightedlossTrue_c0.3_nsTrue_adapterconfigpfeiffer/output_dir/checkpoint-1958] due to args.save_total_limit\n",
      "\n",
      "\n",
      "Training completed. Do not forget to share your model on huggingface.co/models =)\n",
      "\n",
      "\n",
      "Loading best model from /home/info/MyNotebooks/Datasets/SentencasTRT1/ACP-Bert-LM/NER-ACP/outputs/NER-ACP_/ner/lr0.0001_bs8_epochs3_patience5_wamlmFalse_madx2True_houlsby_MHA_lastlayerFalse_dsFalse_fp16True_bestTrue_metricf1_weightedlossTrue_c0.3_nsTrue_adapterconfigpfeiffer/output_dir/checkpoint-2937 (score: 0.6916622411046204).\n"
     ]
    },
    {
     "data": {
      "text/plain": [
       "TrainOutput(global_step=2937, training_loss=0.42590740386994064, metrics={'train_runtime': 4995.0387, 'train_samples_per_second': 4.701, 'train_steps_per_second': 0.588, 'total_flos': 2547187873126104.0, 'train_loss': 0.42590740386994064, 'epoch': 3.0})"
      ]
     },
     "execution_count": 58,
     "metadata": {},
     "output_type": "execute_result"
    }
   ],
   "source": [
    "trainer.train()\n",
    "# Usar ferramentas de debug."
   ]
  },
  {
   "cell_type": "code",
   "execution_count": null,
   "id": "a05c2c05",
   "metadata": {},
   "outputs": [],
   "source": [
    "'''\n",
    "/home/info/.local/lib/python3.8/site-packages/transformers/optimization.py:306: FutureWarning: This implementation of AdamW is deprecated and will be removed in a future version. Use the PyTorch implementation torch.optim.AdamW instead, or set `no_deprecation_warning=True` to disable this warning\n",
    "  warnings.warn(\n",
    "***** Running training *****\n",
    "  Num examples = 7828\n",
    "  Num Epochs = 3\n",
    "  Instantaneous batch size per device = 8\n",
    "  Total train batch size (w. parallel, distributed & accumulation) = 8\n",
    "  Gradient Accumulation steps = 1\n",
    "  Total optimization steps = 2937\n",
    "  \n",
    "\n",
    "Epoch \tTraining Loss \tValidation Loss \tPrecision \tRecall \tF1 \tAccuracy\n",
    "1 \t0.586800 \tnan \t0.630430 \t0.646022 \t0.638131 \t0.946699\n",
    "2 \t0.379100 \tnan \t0.723347 \t0.698925 \t0.710926 \t0.956847\n",
    "3 \t0.342000 \tnan \t0.724956 \t0.715914 \t0.720407 \t0.959392\n",
    "\n",
    "\n",
    "***** Running Evaluation *****\n",
    "  Num examples = 1177\n",
    "  Batch size = 8\n",
    "\n",
    "Saving model checkpoint to /home/info/MyNotebooks/Datasets/SentencasTRT1/ACP-Bert-LM/NER-ACP/outputs/NER-ACP_/ner/lr0.0001_bs8_epochs3_patience5_wamlmFalse_madx2True_houlsby_MHA_lastlayerFalse_dsFalse_fp16True_bestTrue_metricf1_weightedlossTrue_c0.3_nsTrue_adapterconfigpfeiffer/output_dir/checkpoint-2937\n",
    "Configuration saved in /home/info/MyNotebooks/Datasets/SentencasTRT1/ACP-Bert-LM/NER-ACP/outputs/NER-ACP_/ner/lr0.0001_bs8_epochs3_patience5_wamlmFalse_madx2True_houlsby_MHA_lastlayerFalse_dsFalse_fp16True_bestTrue_metricf1_weightedlossTrue_c0.3_nsTrue_adapterconfigpfeiffer/output_dir/checkpoint-2937/config.json\n",
    "Model weights saved in /home/info/MyNotebooks/Datasets/SentencasTRT1/ACP-Bert-LM/NER-ACP/outputs/NER-ACP_/ner/lr0.0001_bs8_epochs3_patience5_wamlmFalse_madx2True_houlsby_MHA_lastlayerFalse_dsFalse_fp16True_bestTrue_metricf1_weightedlossTrue_c0.3_nsTrue_adapterconfigpfeiffer/output_dir/checkpoint-2937/pytorch_model.bin\n",
    "tokenizer config file saved in /home/info/MyNotebooks/Datasets/SentencasTRT1/ACP-Bert-LM/NER-ACP/outputs/NER-ACP_/ner/lr0.0001_bs8_epochs3_patience5_wamlmFalse_madx2True_houlsby_MHA_lastlayerFalse_dsFalse_fp16True_bestTrue_metricf1_weightedlossTrue_c0.3_nsTrue_adapterconfigpfeiffer/output_dir/checkpoint-2937/tokenizer_config.json\n",
    "Special tokens file saved in /home/info/MyNotebooks/Datasets/SentencasTRT1/ACP-Bert-LM/NER-ACP/outputs/NER-ACP_/ner/lr0.0001_bs8_epochs3_patience5_wamlmFalse_madx2True_houlsby_MHA_lastlayerFalse_dsFalse_fp16True_bestTrue_metricf1_weightedlossTrue_c0.3_nsTrue_adapterconfigpfeiffer/output_dir/checkpoint-2937/special_tokens_map.json\n",
    "Deleting older checkpoint [/home/info/MyNotebooks/Datasets/SentencasTRT1/ACP-Bert-LM/NER-ACP/outputs/NER-ACP_/ner/lr0.0001_bs8_epochs3_patience5_wamlmFalse_madx2True_houlsby_MHA_lastlayerFalse_dsFalse_fp16True_bestTrue_metricf1_weightedlossTrue_c0.3_nsTrue_adapterconfigpfeiffer/output_dir/checkpoint-1958] due to args.save_total_limit\n",
    "\n",
    "Training completed. Do not forget to share your model on huggingface.co/models =)\n",
    "\n",
    "\n",
    "Loading best model from /home/info/MyNotebooks/Datasets/SentencasTRT1/ACP-Bert-LM/NER-ACP/outputs/NER-ACP_/ner/lr0.0001_bs8_epochs3_patience5_wamlmFalse_madx2True_houlsby_MHA_lastlayerFalse_dsFalse_fp16True_bestTrue_metricf1_weightedlossTrue_c0.3_nsTrue_adapterconfigpfeiffer/output_dir/checkpoint-2937 (score: 0.7204068383466782).\n",
    "'''"
   ]
  },
  {
   "cell_type": "code",
   "execution_count": 59,
   "id": "26b99111",
   "metadata": {},
   "outputs": [
    {
     "name": "stderr",
     "output_type": "stream",
     "text": [
      "Configuration saved in /home/info/MyNotebooks/Datasets/SentencasTRT1/ACP-Bert-LM/NER-ACP/outputs/NER-ACP_/ner/lr0.0001_bs8_epochs3_patience5_wamlmFalse_madx2True_houlsby_MHA_lastlayerFalse_dsFalse_fp16True_bestTrue_metricf1_weightedlossTrue_c0.3_nsTrue_adapterconfigpfeiffer/adapters-ner/adapter_config.json\n",
      "Module weights saved in /home/info/MyNotebooks/Datasets/SentencasTRT1/ACP-Bert-LM/NER-ACP/outputs/NER-ACP_/ner/lr0.0001_bs8_epochs3_patience5_wamlmFalse_madx2True_houlsby_MHA_lastlayerFalse_dsFalse_fp16True_bestTrue_metricf1_weightedlossTrue_c0.3_nsTrue_adapterconfigpfeiffer/adapters-ner/pytorch_adapter.bin\n",
      "Configuration saved in /home/info/MyNotebooks/Datasets/SentencasTRT1/ACP-Bert-LM/NER-ACP/outputs/NER-ACP_/ner/lr0.0001_bs8_epochs3_patience5_wamlmFalse_madx2True_houlsby_MHA_lastlayerFalse_dsFalse_fp16True_bestTrue_metricf1_weightedlossTrue_c0.3_nsTrue_adapterconfigpfeiffer/adapters-ner/head_config.json\n",
      "Module weights saved in /home/info/MyNotebooks/Datasets/SentencasTRT1/ACP-Bert-LM/NER-ACP/outputs/NER-ACP_/ner/lr0.0001_bs8_epochs3_patience5_wamlmFalse_madx2True_houlsby_MHA_lastlayerFalse_dsFalse_fp16True_bestTrue_metricf1_weightedlossTrue_c0.3_nsTrue_adapterconfigpfeiffer/adapters-ner/pytorch_model_head.bin\n"
     ]
    },
    {
     "name": "stdout",
     "output_type": "stream",
     "text": [
      "total 3,2M\r\n",
      "-rw-rw-r-- 1 info info 1006 Aug  5 03:35 adapter_config.json\r\n",
      "-rw-rw-r-- 1 info info  486 Aug  5 03:35 head_config.json\r\n",
      "-rw-rw-r-- 1 info info 3,2M Aug  5 03:35 pytorch_adapter.bin\r\n",
      "-rw-rw-r-- 1 info info  40K Aug  5 03:35 pytorch_model_head.bin\r\n"
     ]
    }
   ],
   "source": [
    "# save adapter + head\n",
    "adapters_folder = 'adapters-' + task_name\n",
    "path_to_save_adapter = path_to_outputs/adapters_folder\n",
    "trainer.model.save_adapter(str(path_to_save_adapter), adapter_name=task_name, with_head=True)\n",
    "\n",
    "!ls -lh {path_to_save_adapter}"
   ]
  },
  {
   "cell_type": "code",
   "execution_count": null,
   "id": "a8a2be1e",
   "metadata": {},
   "outputs": [],
   "source": [
    "'''\n",
    "Configuration saved in /home/info/MyNotebooks/Datasets/SentencasTRT1/ACP-Bert-LM/NER-ACP/outputs/NER-ACP_/ner/lr0.0001_bs8_epochs3_patience5_wamlmFalse_madx2True_houlsby_MHA_lastlayerFalse_dsFalse_fp16True_bestTrue_metricf1_weightedlossTrue_c0.3_nsTrue_adapterconfigpfeiffer/adapters-ner/adapter_config.json\n",
    "Module weights saved in /home/info/MyNotebooks/Datasets/SentencasTRT1/ACP-Bert-LM/NER-ACP/outputs/NER-ACP_/ner/lr0.0001_bs8_epochs3_patience5_wamlmFalse_madx2True_houlsby_MHA_lastlayerFalse_dsFalse_fp16True_bestTrue_metricf1_weightedlossTrue_c0.3_nsTrue_adapterconfigpfeiffer/adapters-ner/pytorch_adapter.bin\n",
    "Configuration saved in /home/info/MyNotebooks/Datasets/SentencasTRT1/ACP-Bert-LM/NER-ACP/outputs/NER-ACP_/ner/lr0.0001_bs8_epochs3_patience5_wamlmFalse_madx2True_houlsby_MHA_lastlayerFalse_dsFalse_fp16True_bestTrue_metricf1_weightedlossTrue_c0.3_nsTrue_adapterconfigpfeiffer/adapters-ner/head_config.json\n",
    "Module weights saved in /home/info/MyNotebooks/Datasets/SentencasTRT1/ACP-Bert-LM/NER-ACP/outputs/NER-ACP_/ner/lr0.0001_bs8_epochs3_patience5_wamlmFalse_madx2True_houlsby_MHA_lastlayerFalse_dsFalse_fp16True_bestTrue_metricf1_weightedlossTrue_c0.3_nsTrue_adapterconfigpfeiffer/adapters-ner/pytorch_model_head.bin\n",
    "'''"
   ]
  },
  {
   "cell_type": "code",
   "execution_count": 60,
   "id": "fd538923",
   "metadata": {},
   "outputs": [
    {
     "data": {
      "text/plain": [
       "PosixPath('/home/info/MyNotebooks/Datasets/SentencasTRT1/ACP-Bert-LM/NER-ACP/outputs/NER-ACP_/ner/lr0.0001_bs8_epochs3_patience5_wamlmFalse_madx2True_houlsby_MHA_lastlayerFalse_dsFalse_fp16True_bestTrue_metricf1_weightedlossTrue_c0.3_nsTrue_adapterconfigpfeiffer/adapters-ner')"
      ]
     },
     "execution_count": 60,
     "metadata": {},
     "output_type": "execute_result"
    }
   ],
   "source": [
    "path_to_save_adapter"
   ]
  },
  {
   "cell_type": "code",
   "execution_count": null,
   "id": "050ada07",
   "metadata": {},
   "outputs": [],
   "source": [
    "'''\n",
    "PosixPath('/home/info/MyNotebooks/Datasets/SentencasTRT1/ACP-Bert-LM/NER-ACP/outputs/NER-ACP_/ner/lr0.0001_bs8_epochs3_patience5_wamlmFalse_madx2True_houlsby_MHA_lastlayerFalse_dsFalse_fp16True_bestTrue_metricf1_weightedlossTrue_c0.3_nsTrue_adapterconfigpfeiffer/adapters-ner')\n",
    "'''"
   ]
  },
  {
   "cell_type": "code",
   "execution_count": null,
   "id": "5009f821",
   "metadata": {},
   "outputs": [],
   "source": [
    "'''\n",
    "Creio que a configuração para usar o Adapter seja:\n",
    "\n",
    "model_checkpoint = \"/home/info/MyNotebooks/bert-base-portuguese-cased-finetuned-ACP/checkpoint-1500/\"\n",
    "\n",
    "root = Path(\"/home/info/MyNotebooks/Datasets/SentencasTRT1/ACP-Bert-LM/NER-ACP\")\n",
    "root = Path(root)     \n",
    "\n",
    "\n",
    "Adapter Configuration in: /home/info/MyNotebooks/Datasets/SentencasTRT1/ACP-Bert-LM/NER-ACP/outputs/NER-ACP_/ner/lr0.0001_bs8_epochs3_patience5_wamlmFalse_madx2True_houlsby_MHA_lastlayerFalse_dsFalse_fp16True_bestTrue_metricf1_weightedlossTrue_c0.3_nsTrue_adapterconfigpfeiffer/adapters-ner/\n",
    "\n",
    "\n",
    "\n",
    "OU:\n",
    "\n",
    "BASE ('Saving model checkpoint to' or 'Loading best model from'):\n",
    " /home/info/MyNotebooks/Datasets/SentencasTRT1/ACP-Bert-LM/NER-ACP/outputs/NER-ACP_/ner/lr0.0001_bs8_epochs3_patience5_wamlmFalse_madx2True_houlsby_MHA_lastlayerFalse_dsFalse_fp16True_bestTrue_metricf1_weightedlossTrue_c0.3_nsTrue_adapterconfigpfeiffer/output_dir/checkpoint-2937\n",
    "\n",
    "ADAPTER (path_to_save_adapter):\n",
    "/home/info/MyNotebooks/Datasets/SentencasTRT1/ACP-Bert-LM/NER-ACP/outputs/NER-ACP_/ner/lr0.0001_bs8_epochs3_patience5_wamlmFalse_madx2True_houlsby_MHA_lastlayerFalse_dsFalse_fp16True_bestTrue_metricf1_weightedlossTrue_c0.3_nsTrue_adapterconfigpfeiffer/adapters-ner\n",
    "\n",
    "'''"
   ]
  },
  {
   "cell_type": "code",
   "execution_count": null,
   "id": "99509299",
   "metadata": {},
   "outputs": [],
   "source": []
  },
  {
   "cell_type": "markdown",
   "id": "ab48ed51",
   "metadata": {},
   "source": [
    "11. Evaluation"
   ]
  },
  {
   "cell_type": "code",
   "execution_count": 61,
   "id": "276947de",
   "metadata": {},
   "outputs": [
    {
     "name": "stderr",
     "output_type": "stream",
     "text": [
      "***** Running Evaluation *****\n",
      "  Num examples = 1177\n",
      "  Batch size = 8\n"
     ]
    },
    {
     "data": {
      "text/html": [
       "\n",
       "    <div>\n",
       "      \n",
       "      <progress value='644' max='148' style='width:300px; height:20px; vertical-align: middle;'></progress>\n",
       "      [148/148 07:31]\n",
       "    </div>\n",
       "    "
      ],
      "text/plain": [
       "<IPython.core.display.HTML object>"
      ]
     },
     "metadata": {},
     "output_type": "display_data"
    },
    {
     "data": {
      "text/plain": [
       "{'eval_loss': nan,\n",
       " 'eval_precision': 0.6833158447009444,\n",
       " 'eval_recall': 0.7002150537634408,\n",
       " 'eval_f1': 0.6916622411046204,\n",
       " 'eval_accuracy': 0.9575784357048166,\n",
       " 'eval_runtime': 79.6729,\n",
       " 'eval_samples_per_second': 14.773,\n",
       " 'eval_steps_per_second': 1.858,\n",
       " 'epoch': 3.0}"
      ]
     },
     "execution_count": 61,
     "metadata": {},
     "output_type": "execute_result"
    }
   ],
   "source": [
    "trainer.evaluate()"
   ]
  },
  {
   "cell_type": "code",
   "execution_count": null,
   "id": "497fed6f",
   "metadata": {},
   "outputs": [],
   "source": [
    "'''\n",
    "{'eval_loss': nan,\n",
    " 'eval_precision': 0.7249564459930313,\n",
    " 'eval_recall': 0.7159139784946237,\n",
    " 'eval_f1': 0.7204068383466782,\n",
    " 'eval_accuracy': 0.959391713776342,\n",
    " 'eval_runtime': 71.6175,\n",
    " 'eval_samples_per_second': 16.435,\n",
    " 'eval_steps_per_second': 2.067,\n",
    " 'epoch': 3.0}\n",
    "'''"
   ]
  },
  {
   "cell_type": "code",
   "execution_count": 62,
   "id": "7141945f",
   "metadata": {},
   "outputs": [
    {
     "name": "stderr",
     "output_type": "stream",
     "text": [
      "***** Running Prediction *****\n",
      "  Num examples = 1177\n",
      "  Batch size = 8\n"
     ]
    },
    {
     "data": {
      "text/plain": [
       "{'JURISPRUDENCIA': {'precision': 0.3779264214046823,\n",
       "  'recall': 0.3439878234398782,\n",
       "  'f1': 0.3601593625498008,\n",
       "  'number': 657},\n",
       " 'LEGISLACAO': {'precision': 0.6900175131348512,\n",
       "  'recall': 0.6900175131348512,\n",
       "  'f1': 0.6900175131348512,\n",
       "  'number': 571},\n",
       " 'LOCAL': {'precision': 0.2830188679245283,\n",
       "  'recall': 0.3865979381443299,\n",
       "  'f1': 0.32679738562091504,\n",
       "  'number': 194},\n",
       " 'ORGANIZACAO': {'precision': 0.6068702290076335,\n",
       "  'recall': 0.5932835820895522,\n",
       "  'f1': 0.6000000000000001,\n",
       "  'number': 1340},\n",
       " 'PESSOA': {'precision': 0.9539040451552211,\n",
       "  'recall': 0.9458955223880597,\n",
       "  'f1': 0.9498829039812647,\n",
       "  'number': 1072},\n",
       " 'TEMPO': {'precision': 0.7849686847599165,\n",
       "  'recall': 0.9215686274509803,\n",
       "  'f1': 0.8478015783540023,\n",
       "  'number': 816},\n",
       " 'overall_precision': 0.6833158447009444,\n",
       " 'overall_recall': 0.7002150537634408,\n",
       " 'overall_f1': 0.6916622411046204,\n",
       " 'overall_accuracy': 0.9575784357048166}"
      ]
     },
     "execution_count": 62,
     "metadata": {},
     "output_type": "execute_result"
    }
   ],
   "source": [
    "predictions, labels, _ = trainer.predict(tokenized_datasets[\"validation\"])\n",
    "predictions = np.argmax(predictions, axis=2)\n",
    "\n",
    "# Remove ignored index (special tokens)\n",
    "true_predictions = [\n",
    "    [label_list[p] for (p, l) in zip(prediction, label) if l != -100]\n",
    "    for prediction, label in zip(predictions, labels)\n",
    "]\n",
    "true_labels = [\n",
    "    [label_list[l] for (p, l) in zip(prediction, label) if l != -100]\n",
    "    for prediction, label in zip(predictions, labels)\n",
    "]\n",
    "\n",
    "results = metric.compute(predictions=true_predictions, references=true_labels)\n",
    "results"
   ]
  },
  {
   "cell_type": "code",
   "execution_count": 63,
   "id": "7987d520",
   "metadata": {},
   "outputs": [
    {
     "data": {
      "text/html": [
       "<div>\n",
       "<style scoped>\n",
       "    .dataframe tbody tr th:only-of-type {\n",
       "        vertical-align: middle;\n",
       "    }\n",
       "\n",
       "    .dataframe tbody tr th {\n",
       "        vertical-align: top;\n",
       "    }\n",
       "\n",
       "    .dataframe thead th {\n",
       "        text-align: right;\n",
       "    }\n",
       "</style>\n",
       "<table border=\"1\" class=\"dataframe\">\n",
       "  <thead>\n",
       "    <tr style=\"text-align: right;\">\n",
       "      <th></th>\n",
       "      <th>JURISPRUDENCIA</th>\n",
       "      <th>LEGISLACAO</th>\n",
       "      <th>LOCAL</th>\n",
       "      <th>ORGANIZACAO</th>\n",
       "      <th>PESSOA</th>\n",
       "      <th>TEMPO</th>\n",
       "      <th>overall_precision</th>\n",
       "      <th>overall_recall</th>\n",
       "      <th>overall_f1</th>\n",
       "      <th>overall_accuracy</th>\n",
       "    </tr>\n",
       "  </thead>\n",
       "  <tbody>\n",
       "    <tr>\n",
       "      <th>precision</th>\n",
       "      <td>0.377926</td>\n",
       "      <td>0.690018</td>\n",
       "      <td>0.283019</td>\n",
       "      <td>0.606870</td>\n",
       "      <td>0.953904</td>\n",
       "      <td>0.784969</td>\n",
       "      <td>0.683316</td>\n",
       "      <td>0.700215</td>\n",
       "      <td>0.691662</td>\n",
       "      <td>0.957578</td>\n",
       "    </tr>\n",
       "    <tr>\n",
       "      <th>recall</th>\n",
       "      <td>0.343988</td>\n",
       "      <td>0.690018</td>\n",
       "      <td>0.386598</td>\n",
       "      <td>0.593284</td>\n",
       "      <td>0.945896</td>\n",
       "      <td>0.921569</td>\n",
       "      <td>0.683316</td>\n",
       "      <td>0.700215</td>\n",
       "      <td>0.691662</td>\n",
       "      <td>0.957578</td>\n",
       "    </tr>\n",
       "    <tr>\n",
       "      <th>f1</th>\n",
       "      <td>0.360159</td>\n",
       "      <td>0.690018</td>\n",
       "      <td>0.326797</td>\n",
       "      <td>0.600000</td>\n",
       "      <td>0.949883</td>\n",
       "      <td>0.847802</td>\n",
       "      <td>0.683316</td>\n",
       "      <td>0.700215</td>\n",
       "      <td>0.691662</td>\n",
       "      <td>0.957578</td>\n",
       "    </tr>\n",
       "    <tr>\n",
       "      <th>number</th>\n",
       "      <td>657.000000</td>\n",
       "      <td>571.000000</td>\n",
       "      <td>194.000000</td>\n",
       "      <td>1340.000000</td>\n",
       "      <td>1072.000000</td>\n",
       "      <td>816.000000</td>\n",
       "      <td>0.683316</td>\n",
       "      <td>0.700215</td>\n",
       "      <td>0.691662</td>\n",
       "      <td>0.957578</td>\n",
       "    </tr>\n",
       "  </tbody>\n",
       "</table>\n",
       "</div>"
      ],
      "text/plain": [
       "           JURISPRUDENCIA  LEGISLACAO       LOCAL  ORGANIZACAO       PESSOA  \\\n",
       "precision        0.377926    0.690018    0.283019     0.606870     0.953904   \n",
       "recall           0.343988    0.690018    0.386598     0.593284     0.945896   \n",
       "f1               0.360159    0.690018    0.326797     0.600000     0.949883   \n",
       "number         657.000000  571.000000  194.000000  1340.000000  1072.000000   \n",
       "\n",
       "                TEMPO  overall_precision  overall_recall  overall_f1  \\\n",
       "precision    0.784969           0.683316        0.700215    0.691662   \n",
       "recall       0.921569           0.683316        0.700215    0.691662   \n",
       "f1           0.847802           0.683316        0.700215    0.691662   \n",
       "number     816.000000           0.683316        0.700215    0.691662   \n",
       "\n",
       "           overall_accuracy  \n",
       "precision          0.957578  \n",
       "recall             0.957578  \n",
       "f1                 0.957578  \n",
       "number             0.957578  "
      ]
     },
     "execution_count": 63,
     "metadata": {},
     "output_type": "execute_result"
    }
   ],
   "source": [
    "pd.DataFrame(results)"
   ]
  },
  {
   "cell_type": "code",
   "execution_count": null,
   "id": "8877ff50",
   "metadata": {},
   "outputs": [],
   "source": [
    "'''\n",
    "\n",
    "***** Running Prediction *****\n",
    "  Num examples = 1177\n",
    "  Batch size = 8\n",
    "\n",
    "{'JURISPRUDENCIA': {'precision': 0.3576388888888889,\n",
    "  'recall': 0.3135464231354642,\n",
    "  'f1': 0.3341443633414436,\n",
    "  'number': 657},\n",
    " 'LEGISLACAO': {'precision': 0.7201492537313433,\n",
    "  'recall': 0.6760070052539404,\n",
    "  'f1': 0.6973803071364046,\n",
    "  'number': 571},\n",
    " 'LOCAL': {'precision': 0.34701492537313433,\n",
    "  'recall': 0.4793814432989691,\n",
    "  'f1': 0.4025974025974026,\n",
    "  'number': 194},\n",
    " 'ORGANIZACAO': {'precision': 0.6523101018010963,\n",
    "  'recall': 0.6216417910447761,\n",
    "  'f1': 0.6366068016813144,\n",
    "  'number': 1340},\n",
    " 'PESSOA': {'precision': 0.9705882352941176,\n",
    "  'recall': 0.9542910447761194,\n",
    "  'f1': 0.962370649106303,\n",
    "  'number': 1072},\n",
    " 'TEMPO': {'precision': 0.8944381384790011,\n",
    "  'recall': 0.9656862745098039,\n",
    "  'f1': 0.928697701826753,\n",
    "  'number': 816},\n",
    " 'overall_precision': 0.7249564459930313,\n",
    " 'overall_recall': 0.7159139784946237,\n",
    " 'overall_f1': 0.7204068383466782,\n",
    " 'overall_accuracy': 0.959391713776342}\n",
    " \n",
    "\n",
    "JURISPRUDENCIA \tLEGISLACAO \tLOCAL \tORGANIZACAO \tPESSOA \tTEMPO \toverall_precision \toverall_recall \toverall_f1 \toverall_accuracy\n",
    "precision \t0.357639 \t0.720149 \t0.347015 \t0.652310 \t0.970588 \t0.894438 \t0.724956 \t0.715914 \t0.720407 \t0.959392\n",
    "recall \t0.313546 \t0.676007 \t0.479381 \t0.621642 \t0.954291 \t0.965686 \t0.724956 \t0.715914 \t0.720407 \t0.959392\n",
    "f1 \t0.334144 \t0.697380 \t0.402597 \t0.636607 \t0.962371 \t0.928698 \t0.724956 \t0.715914 \t0.720407 \t0.959392\n",
    "number \t657.000000 \t571.000000 \t194.000000 \t1340.000000 \t1072.000000 \t816.000000 \t0.724956 \t0.715914 \t0.720407 \t0.959392\n",
    "'''"
   ]
  },
  {
   "cell_type": "code",
   "execution_count": null,
   "id": "29d6edda",
   "metadata": {},
   "outputs": [],
   "source": []
  },
  {
   "cell_type": "code",
   "execution_count": null,
   "id": "e7aa0cb3",
   "metadata": {},
   "outputs": [],
   "source": []
  },
  {
   "cell_type": "markdown",
   "id": "64f75c9a",
   "metadata": {},
   "source": [
    "Test"
   ]
  },
  {
   "cell_type": "code",
   "execution_count": 64,
   "id": "69363748",
   "metadata": {},
   "outputs": [
    {
     "name": "stderr",
     "output_type": "stream",
     "text": [
      "***** Running Evaluation *****\n",
      "  Num examples = 1390\n",
      "  Batch size = 8\n"
     ]
    },
    {
     "data": {
      "text/plain": [
       "{'eval_loss': 0.10147732496261597,\n",
       " 'eval_precision': 0.6979727995894278,\n",
       " 'eval_recall': 0.7003089598352215,\n",
       " 'eval_f1': 0.6991389281583344,\n",
       " 'eval_accuracy': 0.9674445277692002,\n",
       " 'eval_runtime': 82.7041,\n",
       " 'eval_samples_per_second': 16.807,\n",
       " 'eval_steps_per_second': 2.104,\n",
       " 'epoch': 3.0}"
      ]
     },
     "execution_count": 64,
     "metadata": {},
     "output_type": "execute_result"
    }
   ],
   "source": [
    "trainer.evaluate(tokenized_datasets[\"test\"])"
   ]
  },
  {
   "cell_type": "code",
   "execution_count": null,
   "id": "53d6ead7",
   "metadata": {},
   "outputs": [],
   "source": [
    "'''\n",
    "{'eval_loss': 0.10461320728063583,\n",
    " 'eval_precision': 0.7238785925329035,\n",
    " 'eval_recall': 0.6938722966014418,\n",
    " 'eval_f1': 0.7085579071907453,\n",
    " 'eval_accuracy': 0.9672533709765171,\n",
    " 'eval_runtime': 76.2975,\n",
    " 'eval_samples_per_second': 18.218,\n",
    " 'eval_steps_per_second': 2.281,\n",
    " 'epoch': 3.0}\n",
    "'''"
   ]
  },
  {
   "cell_type": "code",
   "execution_count": 65,
   "id": "f5dedb89",
   "metadata": {},
   "outputs": [
    {
     "name": "stderr",
     "output_type": "stream",
     "text": [
      "***** Running Prediction *****\n",
      "  Num examples = 1390\n",
      "  Batch size = 8\n"
     ]
    },
    {
     "data": {
      "text/plain": [
       "{'JURISPRUDENCIA': {'precision': 0.6589673913043478,\n",
       "  'recall': 0.4507434944237918,\n",
       "  'f1': 0.5353200883002207,\n",
       "  'number': 1076},\n",
       " 'LEGISLACAO': {'precision': 0.7354709418837675,\n",
       "  'recall': 0.6577060931899642,\n",
       "  'f1': 0.6944181646168402,\n",
       "  'number': 558},\n",
       " 'LOCAL': {'precision': 0.3504273504273504,\n",
       "  'recall': 0.6029411764705882,\n",
       "  'f1': 0.4432432432432432,\n",
       "  'number': 68},\n",
       " 'ORGANIZACAO': {'precision': 0.5806188925081434,\n",
       "  'recall': 0.7465968586387435,\n",
       "  'f1': 0.6532295006871279,\n",
       "  'number': 955},\n",
       " 'PESSOA': {'precision': 0.8450244698205547,\n",
       "  'recall': 0.9522058823529411,\n",
       "  'f1': 0.8954191875540191,\n",
       "  'number': 544},\n",
       " 'TEMPO': {'precision': 0.8465909090909091,\n",
       "  'recall': 0.8726207906295754,\n",
       "  'f1': 0.8594087959625091,\n",
       "  'number': 683},\n",
       " 'overall_precision': 0.6979727995894278,\n",
       " 'overall_recall': 0.7003089598352215,\n",
       " 'overall_f1': 0.6991389281583344,\n",
       " 'overall_accuracy': 0.9674445277692002}"
      ]
     },
     "execution_count": 65,
     "metadata": {},
     "output_type": "execute_result"
    }
   ],
   "source": [
    "predictions, labels, _ = trainer.predict(tokenized_datasets[\"test\"])\n",
    "predictions = np.argmax(predictions, axis=2)\n",
    "\n",
    "# Remove ignored index (special tokens)\n",
    "true_predictions = [\n",
    "    [label_list[p] for (p, l) in zip(prediction, label) if l != -100]\n",
    "    for prediction, label in zip(predictions, labels)\n",
    "]\n",
    "true_labels = [\n",
    "    [label_list[l] for (p, l) in zip(prediction, label) if l != -100]\n",
    "    for prediction, label in zip(predictions, labels)\n",
    "]\n",
    "\n",
    "results = metric.compute(predictions=true_predictions, references=true_labels)\n",
    "results\n"
   ]
  },
  {
   "cell_type": "code",
   "execution_count": 66,
   "id": "08d772e6",
   "metadata": {},
   "outputs": [
    {
     "data": {
      "text/html": [
       "<div>\n",
       "<style scoped>\n",
       "    .dataframe tbody tr th:only-of-type {\n",
       "        vertical-align: middle;\n",
       "    }\n",
       "\n",
       "    .dataframe tbody tr th {\n",
       "        vertical-align: top;\n",
       "    }\n",
       "\n",
       "    .dataframe thead th {\n",
       "        text-align: right;\n",
       "    }\n",
       "</style>\n",
       "<table border=\"1\" class=\"dataframe\">\n",
       "  <thead>\n",
       "    <tr style=\"text-align: right;\">\n",
       "      <th></th>\n",
       "      <th>JURISPRUDENCIA</th>\n",
       "      <th>LEGISLACAO</th>\n",
       "      <th>LOCAL</th>\n",
       "      <th>ORGANIZACAO</th>\n",
       "      <th>PESSOA</th>\n",
       "      <th>TEMPO</th>\n",
       "      <th>overall_precision</th>\n",
       "      <th>overall_recall</th>\n",
       "      <th>overall_f1</th>\n",
       "      <th>overall_accuracy</th>\n",
       "    </tr>\n",
       "  </thead>\n",
       "  <tbody>\n",
       "    <tr>\n",
       "      <th>precision</th>\n",
       "      <td>0.658967</td>\n",
       "      <td>0.735471</td>\n",
       "      <td>0.350427</td>\n",
       "      <td>0.580619</td>\n",
       "      <td>0.845024</td>\n",
       "      <td>0.846591</td>\n",
       "      <td>0.697973</td>\n",
       "      <td>0.700309</td>\n",
       "      <td>0.699139</td>\n",
       "      <td>0.967445</td>\n",
       "    </tr>\n",
       "    <tr>\n",
       "      <th>recall</th>\n",
       "      <td>0.450743</td>\n",
       "      <td>0.657706</td>\n",
       "      <td>0.602941</td>\n",
       "      <td>0.746597</td>\n",
       "      <td>0.952206</td>\n",
       "      <td>0.872621</td>\n",
       "      <td>0.697973</td>\n",
       "      <td>0.700309</td>\n",
       "      <td>0.699139</td>\n",
       "      <td>0.967445</td>\n",
       "    </tr>\n",
       "    <tr>\n",
       "      <th>f1</th>\n",
       "      <td>0.535320</td>\n",
       "      <td>0.694418</td>\n",
       "      <td>0.443243</td>\n",
       "      <td>0.653230</td>\n",
       "      <td>0.895419</td>\n",
       "      <td>0.859409</td>\n",
       "      <td>0.697973</td>\n",
       "      <td>0.700309</td>\n",
       "      <td>0.699139</td>\n",
       "      <td>0.967445</td>\n",
       "    </tr>\n",
       "    <tr>\n",
       "      <th>number</th>\n",
       "      <td>1076.000000</td>\n",
       "      <td>558.000000</td>\n",
       "      <td>68.000000</td>\n",
       "      <td>955.000000</td>\n",
       "      <td>544.000000</td>\n",
       "      <td>683.000000</td>\n",
       "      <td>0.697973</td>\n",
       "      <td>0.700309</td>\n",
       "      <td>0.699139</td>\n",
       "      <td>0.967445</td>\n",
       "    </tr>\n",
       "  </tbody>\n",
       "</table>\n",
       "</div>"
      ],
      "text/plain": [
       "           JURISPRUDENCIA  LEGISLACAO      LOCAL  ORGANIZACAO      PESSOA  \\\n",
       "precision        0.658967    0.735471   0.350427     0.580619    0.845024   \n",
       "recall           0.450743    0.657706   0.602941     0.746597    0.952206   \n",
       "f1               0.535320    0.694418   0.443243     0.653230    0.895419   \n",
       "number        1076.000000  558.000000  68.000000   955.000000  544.000000   \n",
       "\n",
       "                TEMPO  overall_precision  overall_recall  overall_f1  \\\n",
       "precision    0.846591           0.697973        0.700309    0.699139   \n",
       "recall       0.872621           0.697973        0.700309    0.699139   \n",
       "f1           0.859409           0.697973        0.700309    0.699139   \n",
       "number     683.000000           0.697973        0.700309    0.699139   \n",
       "\n",
       "           overall_accuracy  \n",
       "precision          0.967445  \n",
       "recall             0.967445  \n",
       "f1                 0.967445  \n",
       "number             0.967445  "
      ]
     },
     "execution_count": 66,
     "metadata": {},
     "output_type": "execute_result"
    }
   ],
   "source": [
    "pd.DataFrame(results)"
   ]
  },
  {
   "cell_type": "code",
   "execution_count": null,
   "id": "d0de32bd",
   "metadata": {},
   "outputs": [],
   "source": [
    "'''\n",
    "***** Running Prediction *****\n",
    "  Num examples = 1390\n",
    "  Batch size = 8\n",
    "\n",
    "{'JURISPRUDENCIA': {'precision': 0.651925820256776,\n",
    "  'recall': 0.4247211895910781,\n",
    "  'f1': 0.5143500281373101,\n",
    "  'number': 1076},\n",
    " 'LEGISLACAO': {'precision': 0.7194388777555111,\n",
    "  'recall': 0.6433691756272402,\n",
    "  'f1': 0.6792809839167454,\n",
    "  'number': 558},\n",
    " 'LOCAL': {'precision': 0.3761467889908257,\n",
    "  'recall': 0.6029411764705882,\n",
    "  'f1': 0.4632768361581921,\n",
    "  'number': 68},\n",
    " 'ORGANIZACAO': {'precision': 0.6302447552447552,\n",
    "  'recall': 0.7549738219895288,\n",
    "  'f1': 0.6869938065745592,\n",
    "  'number': 955},\n",
    " 'PESSOA': {'precision': 0.8519134775374376,\n",
    "  'recall': 0.9411764705882353,\n",
    "  'f1': 0.8943231441048035,\n",
    "  'number': 544},\n",
    " 'TEMPO': {'precision': 0.9043348281016442,\n",
    "  'recall': 0.8857979502196194,\n",
    "  'f1': 0.8949704142011834,\n",
    "  'number': 683},\n",
    " 'overall_precision': 0.7238785925329035,\n",
    " 'overall_recall': 0.6938722966014418,\n",
    " 'overall_f1': 0.7085579071907453,\n",
    " 'overall_accuracy': 0.9672533709765171}\n",
    "\n",
    "\n",
    "JURISPRUDENCIA \tLEGISLACAO \tLOCAL \tORGANIZACAO \tPESSOA \tTEMPO \toverall_precision \toverall_recall \toverall_f1 \toverall_accuracy\n",
    "precision \t0.651926 \t0.719439 \t0.376147 \t0.630245 \t0.851913 \t0.904335 \t0.723879 \t0.693872 \t0.708558 \t0.967253\n",
    "recall \t0.424721 \t0.643369 \t0.602941 \t0.754974 \t0.941176 \t0.885798 \t0.723879 \t0.693872 \t0.708558 \t0.967253\n",
    "f1 \t0.514350 \t0.679281 \t0.463277 \t0.686994 \t0.894323 \t0.894970 \t0.723879 \t0.693872 \t0.708558 \t0.967253\n",
    "number \t1076.000000 \t558.000000 \t68.000000 \t955.000000 \t544.000000 \t683.000000 \t0.723879 \t0.693872 \t0.708558 \t0.967253\n",
    "'''"
   ]
  },
  {
   "cell_type": "code",
   "execution_count": null,
   "id": "8bba6954",
   "metadata": {},
   "outputs": [],
   "source": []
  },
  {
   "cell_type": "code",
   "execution_count": null,
   "id": "c96e36ff",
   "metadata": {},
   "outputs": [],
   "source": []
  },
  {
   "cell_type": "markdown",
   "id": "29db949b",
   "metadata": {},
   "source": [
    "12. TensorBoard"
   ]
  },
  {
   "cell_type": "code",
   "execution_count": 67,
   "id": "2d46f790",
   "metadata": {},
   "outputs": [],
   "source": [
    "#!pip install tensorboard"
   ]
  },
  {
   "cell_type": "code",
   "execution_count": 67,
   "id": "cdcc685e",
   "metadata": {},
   "outputs": [
    {
     "name": "stdout",
     "output_type": "stream",
     "text": [
      "env: PATH=/mnt/home/xxxx/anaconda3/envs/yyyy/bin:/home/info/.conda/envs/acptrt1/bin:/home/info/anaconda3/condabin:/home/info/.local/bin:/usr/local/sbin:/usr/local/bin:/usr/sbin:/usr/bin:/sbin:/bin:/usr/games:/usr/local/games:/snap/bin\n"
     ]
    }
   ],
   "source": [
    "PATH = os.getenv('PATH')\n",
    "# replace xxxx by your username on your server (ex: paulo)\n",
    "# replace yyyy by the name of the virtual environment of this notebook (ex: adapter-transformers)\n",
    "%env PATH=/mnt/home/xxxx/anaconda3/envs/yyyy/bin:$PATH"
   ]
  },
  {
   "cell_type": "code",
   "execution_count": 68,
   "id": "1d7b98a1",
   "metadata": {},
   "outputs": [
    {
     "data": {
      "text/html": [
       "\n",
       "      <iframe id=\"tensorboard-frame-1c80317fa3b1799d\" width=\"100%\" height=\"800\" frameborder=\"0\">\n",
       "      </iframe>\n",
       "      <script>\n",
       "        (function() {\n",
       "          const frame = document.getElementById(\"tensorboard-frame-1c80317fa3b1799d\");\n",
       "          const url = new URL(\"/\", window.location);\n",
       "          const port = 6006;\n",
       "          if (port) {\n",
       "            url.port = port;\n",
       "          }\n",
       "          frame.src = url;\n",
       "        })();\n",
       "      </script>\n",
       "    "
      ],
      "text/plain": [
       "<IPython.core.display.HTML object>"
      ]
     },
     "metadata": {},
     "output_type": "display_data"
    }
   ],
   "source": [
    "# pip install --upgrade tensorflow\n",
    "#%load_ext tensorboard\n",
    "%reload_ext tensorboard\n",
    "# %reload_ext tensorboard\n",
    "%tensorboard --logdir {logging_dir} --bind_all"
   ]
  },
  {
   "cell_type": "code",
   "execution_count": null,
   "id": "15de5f3c",
   "metadata": {},
   "outputs": [],
   "source": []
  },
  {
   "cell_type": "code",
   "execution_count": null,
   "id": "832774f9",
   "metadata": {},
   "outputs": [],
   "source": []
  },
  {
   "cell_type": "code",
   "execution_count": null,
   "id": "6ec08148",
   "metadata": {},
   "outputs": [],
   "source": []
  },
  {
   "cell_type": "markdown",
   "id": "35f65844",
   "metadata": {},
   "source": [
    "13. Application NER"
   ]
  },
  {
   "cell_type": "code",
   "execution_count": 142,
   "id": "1b4a403d",
   "metadata": {},
   "outputs": [],
   "source": [
    "### import transformers\n",
    "# !pip install colorama\n",
    "# # or\n",
    "#!conda install -c anaconda colorama\n"
   ]
  },
  {
   "cell_type": "code",
   "execution_count": 79,
   "id": "04d42704",
   "metadata": {},
   "outputs": [
    {
     "data": {
      "text/plain": [
       "'\\nmodel_checkpoint = \"/home/info/MyNotebooks/Datasets/SentencasTRT1/ACP-Bert-LM/NER-ACP/outputs/NER-ACP_/ner/lr0.0001_bs8_epochs3_patience5_wamlmFalse_madx2True_houlsby_MHA_lastlayerFalse_dsFalse_fp16True_bestTrue_metricf1_weightedlossTrue_c0.3_nsTrue_adapterconfigpfeiffer/adapters-ner\"\\n\\nroot = Path(\"/home/info/MyNotebooks/Datasets/SentencasTRT1/ACP-Bert-LM/NER-ACP/\")\\nroot = Path(root)\\nroot\\n'"
      ]
     },
     "execution_count": 79,
     "metadata": {},
     "output_type": "execute_result"
    }
   ],
   "source": [
    "#model_checkpoint = \"neuralmind/bert-large-portuguese-cased\"\n",
    "\n",
    "#BASE ('Saving model checkpoint to' or 'Loading best model from'):\n",
    "\n",
    "model_checkpoint = \"/home/info/MyNotebooks/Datasets/SentencasTRT1/ACP-Bert-LM/NER-ACP/outputs/NER-ACP_/ner/lr0.0001_bs8_epochs3_patience5_wamlmFalse_madx2True_houlsby_MHA_lastlayerFalse_dsFalse_fp16True_bestTrue_metricf1_weightedlossTrue_c0.3_nsTrue_adapterconfigpfeiffer/output_dir/checkpoint-2937\"\n",
    "\n",
    "#ADAPTER (path_to_save_adapter):\n",
    "model_output = \"/home/info/MyNotebooks/Datasets/SentencasTRT1/ACP-Bert-LM/NER-ACP/outputs/NER-ACP_/ner/lr0.0001_bs8_epochs3_patience5_wamlmFalse_madx2True_houlsby_MHA_lastlayerFalse_dsFalse_fp16True_bestTrue_metricf1_weightedlossTrue_c0.3_nsTrue_adapterconfigpfeiffer/adapters-ner\"\n",
    "\n",
    "\n",
    "'''\n",
    "model_checkpoint = \"/home/info/MyNotebooks/bert-base-portuguese-cased-finetuned-ACP/checkpoint-1500/\"\n",
    "\n",
    "root = Path(\"/home/info/MyNotebooks/Datasets/SentencasTRT1/ACP-Bert-LM/NER-ACP\")\n",
    "root = Path(root)\n",
    "root \n",
    "'''\n",
    "# Ou:\n",
    "'''\n",
    "BASE:\n",
    "/home/info/MyNotebooks/Datasets/SentencasTRT1/ACP-Bert-LM/NER-ACP/outputs/NER-ACP_/ner/lr0.0001_bs8_epochs3_patience5_wamlmFalse_madx2True_houlsby_MHA_lastlayerFalse_dsFalse_fp16True_bestTrue_metricf1_weightedlossTrue_c0.3_nsTrue_adapterconfigpfeiffer/output_dir/checkpoint-979\n",
    "ADAPTER:\n",
    "/home/info/MyNotebooks/Datasets/SentencasTRT1/ACP-Bert-LM/NER-ACP/outputs/NER-ACP_/ner/lr0.0001_bs8_epochs3_patience5_wamlmFalse_madx2True_houlsby_MHA_lastlayerFalse_dsFalse_fp16True_bestTrue_metricf1_weightedlossTrue_c0.3_nsTrue_adapterconfigpfeiffer/adapters-ner\n",
    "'''\n",
    "\n",
    "\n",
    "# Ou:\n",
    "'''\n",
    "model_checkpoint = \"/home/info/MyNotebooks/Datasets/SentencasTRT1/ACP-Bert-LM/NER-ACP/outputs/NER-ACP_/ner/lr0.0001_bs8_epochs3_patience5_wamlmFalse_madx2True_houlsby_MHA_lastlayerFalse_dsFalse_fp16True_bestTrue_metricf1_weightedlossTrue_c0.3_nsTrue_adapterconfigpfeiffer/output_dir/checkpoint-2937\"\n",
    "\n",
    "root = Path(\"/home/info/MyNotebooks/Datasets/SentencasTRT1/ACP-Bert-LM/NER-ACP/\")\n",
    "root = Path(root)\n",
    "root\n",
    "'''\n",
    "\n",
    "# Ou:\n",
    "'''\n",
    "model_checkpoint = \"/home/info/MyNotebooks/Datasets/SentencasTRT1/ACP-Bert-LM/NER-ACP/outputs/NER-ACP_/ner/lr0.0001_bs8_epochs3_patience5_wamlmFalse_madx2True_houlsby_MHA_lastlayerFalse_dsFalse_fp16True_bestTrue_metricf1_weightedlossTrue_c0.3_nsTrue_adapterconfigpfeiffer/adapters-ner\"\n",
    "\n",
    "root = Path(\"/home/info/MyNotebooks/Datasets/SentencasTRT1/ACP-Bert-LM/NER-ACP/\")\n",
    "root = Path(root)\n",
    "root\n",
    "'''"
   ]
  },
  {
   "cell_type": "code",
   "execution_count": 80,
   "id": "1cee0f60",
   "metadata": {},
   "outputs": [],
   "source": [
    "if dataset_name == \"lenerbr\":\n",
    "    label_list = ['O',\n",
    " 'B-ORGANIZACAO',\n",
    " 'I-ORGANIZACAO',\n",
    " 'B-PESSOA',\n",
    " 'I-PESSOA',\n",
    " 'B-TEMPO',\n",
    " 'I-TEMPO',\n",
    " 'B-LOCAL',\n",
    " 'I-LOCAL',\n",
    " 'B-LEGISLACAO',\n",
    " 'I-LEGISLACAO',\n",
    " 'B-JURISPRUDENCIA',\n",
    " 'I-JURISPRUDENCIA'\n",
    "                 ]"
   ]
  },
  {
   "cell_type": "code",
   "execution_count": 97,
   "id": "17fff229",
   "metadata": {},
   "outputs": [],
   "source": [
    "\n",
    "\n",
    "if dataset_name == \"LeNER-Br\":\n",
    "    \n",
    "    # sentence from the dataset\n",
    "    texts_dataset = [\n",
    "        'Acrescento que o Juiz Pedro DA SILVA do tribunal STF em Brasília (Brasil) reconheceu a limitação do pedido único e, com base no artigo 487, inciso II, do Código de Processo Civil, encerrou o processo no dia 3 de janeiro de 2014, com resolução do mérito, condenando o autor às custas judiciais e advocatícias, que são fixadas em 10% (dez por cento) do valor da causa.',\n",
    "        'Insurge-se no apelo extremo contra acórdão proferido pelo Superior Tribunal Militar no Agravo Regimental n° 222-73.2010.7.05.0005/PR, assim do: DESERÇÃO.'\n",
    "    ]\n",
    "    \n",
    "    texts_labels = [\n",
    "        \"\",\n",
    "        \"'O', 'O', 'O', 'O', 'O', 'O', 'O', 'O', 'B-ORGANIZACAO', 'I-ORGANIZACAO', 'I-ORGANIZACAO', 'O', 'B-JURISPRUDENCIA', 'I-JURISPRUDENCIA', 'I-JURISPRUDENCIA', 'I-JURISPRUDENCIA', 'I-JURISPRUDENCIA', 'O', 'O', 'O', 'O', 'O', 'O'\"\n",
    "    ]\n",
    "\n"
   ]
  },
  {
   "cell_type": "code",
   "execution_count": 98,
   "id": "8bbd335c",
   "metadata": {},
   "outputs": [
    {
     "data": {
      "text/plain": [
       "['Acrescento que o Juiz Pedro DA SILVA do tribunal STF em Brasília (Brasil) reconheceu a limitação do pedido único e, com base no artigo 487, inciso II, do Código de Processo Civil, encerrou o processo no dia 3 de janeiro de 2014, com resolução do mérito, condenando o autor às custas judiciais e advocatícias, que são fixadas em 10% (dez por cento) do valor da causa.',\n",
       " 'Insurge-se no apelo extremo contra acórdão proferido pelo Superior Tribunal Militar no Agravo Regimental n° 222-73.2010.7.05.0005/PR, assim do: DESERÇÃO.']"
      ]
     },
     "execution_count": 98,
     "metadata": {},
     "output_type": "execute_result"
    }
   ],
   "source": [
    "texts_dataset"
   ]
  },
  {
   "cell_type": "code",
   "execution_count": null,
   "id": "60a18cc7",
   "metadata": {},
   "outputs": [],
   "source": []
  },
  {
   "cell_type": "markdown",
   "id": "eb785396",
   "metadata": {},
   "source": [
    "Model with adapters"
   ]
  },
  {
   "cell_type": "code",
   "execution_count": 82,
   "id": "3125585c",
   "metadata": {},
   "outputs": [
    {
     "name": "stderr",
     "output_type": "stream",
     "text": [
      "loading configuration file /home/info/MyNotebooks/Datasets/SentencasTRT1/ACP-Bert-LM/NER-ACP/outputs/NER-ACP_/ner/lr0.0001_bs8_epochs3_patience5_wamlmFalse_madx2True_houlsby_MHA_lastlayerFalse_dsFalse_fp16True_bestTrue_metricf1_weightedlossTrue_c0.3_nsTrue_adapterconfigpfeiffer/output_dir/checkpoint-2937/config.json\n",
      "Model config BertConfig {\n",
      "  \"_name_or_path\": \"/home/info/MyNotebooks/Datasets/SentencasTRT1/ACP-Bert-LM/NER-ACP/outputs/NER-ACP_/ner/lr0.0001_bs8_epochs3_patience5_wamlmFalse_madx2True_houlsby_MHA_lastlayerFalse_dsFalse_fp16True_bestTrue_metricf1_weightedlossTrue_c0.3_nsTrue_adapterconfigpfeiffer/output_dir/checkpoint-2937\",\n",
      "  \"adapters\": {\n",
      "    \"adapters\": {\n",
      "      \"ner\": \"55afc146b84997d9\"\n",
      "    },\n",
      "    \"config_map\": {\n",
      "      \"55afc146b84997d9\": {\n",
      "        \"adapter_residual_before_ln\": false,\n",
      "        \"cross_adapter\": false,\n",
      "        \"factorized_phm_W\": true,\n",
      "        \"factorized_phm_rule\": false,\n",
      "        \"hypercomplex_nonlinearity\": \"glorot-uniform\",\n",
      "        \"init_weights\": \"bert\",\n",
      "        \"inv_adapter\": null,\n",
      "        \"inv_adapter_reduction_factor\": null,\n",
      "        \"is_parallel\": false,\n",
      "        \"learn_phm\": true,\n",
      "        \"leave_out\": [\n",
      "          11\n",
      "        ],\n",
      "        \"ln_after\": false,\n",
      "        \"ln_before\": false,\n",
      "        \"mh_adapter\": false,\n",
      "        \"non_linearity\": \"gelu\",\n",
      "        \"original_ln_after\": true,\n",
      "        \"original_ln_before\": true,\n",
      "        \"output_adapter\": true,\n",
      "        \"phm_bias\": true,\n",
      "        \"phm_c_init\": \"normal\",\n",
      "        \"phm_dim\": 4,\n",
      "        \"phm_init_range\": 0.0001,\n",
      "        \"phm_layer\": false,\n",
      "        \"phm_rank\": 1,\n",
      "        \"reduction_factor\": 16,\n",
      "        \"residual_before_ln\": true,\n",
      "        \"scaling\": 1.0,\n",
      "        \"shared_W_phm\": false,\n",
      "        \"shared_phm_rule\": true\n",
      "      }\n",
      "    },\n",
      "    \"fusion_config_map\": {},\n",
      "    \"fusions\": {}\n",
      "  },\n",
      "  \"architectures\": [\n",
      "    \"BertForTokenClassification\"\n",
      "  ],\n",
      "  \"attention_probs_dropout_prob\": 0.1,\n",
      "  \"classifier_dropout\": null,\n",
      "  \"directionality\": \"bidi\",\n",
      "  \"hidden_act\": \"gelu\",\n",
      "  \"hidden_dropout_prob\": 0.1,\n",
      "  \"hidden_size\": 768,\n",
      "  \"id2label\": {\n",
      "    \"0\": \"O\",\n",
      "    \"1\": \"B-ORGANIZACAO\",\n",
      "    \"2\": \"I-ORGANIZACAO\",\n",
      "    \"3\": \"B-PESSOA\",\n",
      "    \"4\": \"I-PESSOA\",\n",
      "    \"5\": \"B-TEMPO\",\n",
      "    \"6\": \"I-TEMPO\",\n",
      "    \"7\": \"B-LOCAL\",\n",
      "    \"8\": \"I-LOCAL\",\n",
      "    \"9\": \"B-LEGISLACAO\",\n",
      "    \"10\": \"I-LEGISLACAO\",\n",
      "    \"11\": \"B-JURISPRUDENCIA\",\n",
      "    \"12\": \"I-JURISPRUDENCIA\"\n",
      "  },\n",
      "  \"initializer_range\": 0.02,\n",
      "  \"intermediate_size\": 3072,\n",
      "  \"label2id\": {\n",
      "    \"B-JURISPRUDENCIA\": 11,\n",
      "    \"B-LEGISLACAO\": 9,\n",
      "    \"B-LOCAL\": 7,\n",
      "    \"B-ORGANIZACAO\": 1,\n",
      "    \"B-PESSOA\": 3,\n",
      "    \"B-TEMPO\": 5,\n",
      "    \"I-JURISPRUDENCIA\": 12,\n",
      "    \"I-LEGISLACAO\": 10,\n",
      "    \"I-LOCAL\": 8,\n",
      "    \"I-ORGANIZACAO\": 2,\n",
      "    \"I-PESSOA\": 4,\n",
      "    \"I-TEMPO\": 6,\n",
      "    \"O\": 0\n",
      "  },\n",
      "  \"layer_norm_eps\": 1e-12,\n",
      "  \"max_position_embeddings\": 512,\n",
      "  \"model_type\": \"bert\",\n",
      "  \"num_attention_heads\": 12,\n",
      "  \"num_hidden_layers\": 12,\n",
      "  \"output_past\": true,\n",
      "  \"pad_token_id\": 0,\n",
      "  \"pooler_fc_size\": 768,\n",
      "  \"pooler_num_attention_heads\": 12,\n",
      "  \"pooler_num_fc_layers\": 3,\n",
      "  \"pooler_size_per_head\": 128,\n",
      "  \"pooler_type\": \"first_token_transform\",\n",
      "  \"position_embedding_type\": \"absolute\",\n",
      "  \"torch_dtype\": \"float32\",\n",
      "  \"transformers_version\": \"4.17.0\",\n",
      "  \"type_vocab_size\": 2,\n",
      "  \"use_cache\": true,\n",
      "  \"vocab_size\": 29794\n",
      "}\n",
      "\n",
      "loading weights file /home/info/MyNotebooks/Datasets/SentencasTRT1/ACP-Bert-LM/NER-ACP/outputs/NER-ACP_/ner/lr0.0001_bs8_epochs3_patience5_wamlmFalse_madx2True_houlsby_MHA_lastlayerFalse_dsFalse_fp16True_bestTrue_metricf1_weightedlossTrue_c0.3_nsTrue_adapterconfigpfeiffer/output_dir/checkpoint-2937/pytorch_model.bin\n",
      "Some weights of the model checkpoint at /home/info/MyNotebooks/Datasets/SentencasTRT1/ACP-Bert-LM/NER-ACP/outputs/NER-ACP_/ner/lr0.0001_bs8_epochs3_patience5_wamlmFalse_madx2True_houlsby_MHA_lastlayerFalse_dsFalse_fp16True_bestTrue_metricf1_weightedlossTrue_c0.3_nsTrue_adapterconfigpfeiffer/output_dir/checkpoint-2937 were not used when initializing BertForTokenClassification: ['bert.encoder.layer.0.output.adapters.ner.adapter_up.bias', 'bert.encoder.layer.1.output.adapters.ner.adapter_up.weight', 'bert.encoder.layer.5.output.adapters.ner.adapter_up.weight', 'bert.encoder.layer.7.output.adapters.ner.adapter_down.0.weight', 'bert.encoder.layer.4.output.adapters.ner.adapter_up.bias', 'bert.encoder.layer.2.output.adapters.ner.adapter_down.0.weight', 'bert.encoder.layer.6.output.adapters.ner.adapter_up.weight', 'bert.encoder.layer.10.output.adapters.ner.adapter_up.weight', 'bert.encoder.layer.5.output.adapters.ner.adapter_down.0.bias', 'bert.encoder.layer.9.output.adapters.ner.adapter_down.0.weight', 'bert.encoder.layer.9.output.adapters.ner.adapter_up.bias', 'bert.encoder.layer.8.output.adapters.ner.adapter_up.weight', 'bert.encoder.layer.10.output.adapters.ner.adapter_down.0.weight', 'bert.encoder.layer.8.output.adapters.ner.adapter_down.0.weight', 'bert.encoder.layer.1.output.adapters.ner.adapter_down.0.weight', 'bert.encoder.layer.9.output.adapters.ner.adapter_up.weight', 'bert.encoder.layer.10.output.adapters.ner.adapter_up.bias', 'bert.encoder.layer.3.output.adapters.ner.adapter_up.weight', 'bert.encoder.layer.5.output.adapters.ner.adapter_up.bias', 'bert.encoder.layer.0.output.adapters.ner.adapter_down.0.bias', 'bert.encoder.layer.4.output.adapters.ner.adapter_up.weight', 'bert.encoder.layer.7.output.adapters.ner.adapter_up.weight', 'bert.encoder.layer.1.output.adapters.ner.adapter_up.bias', 'bert.encoder.layer.0.output.adapters.ner.adapter_up.weight', 'bert.encoder.layer.3.output.adapters.ner.adapter_down.0.weight', 'bert.encoder.layer.8.output.adapters.ner.adapter_up.bias', 'bert.encoder.layer.3.output.adapters.ner.adapter_up.bias', 'bert.encoder.layer.3.output.adapters.ner.adapter_down.0.bias', 'bert.encoder.layer.8.output.adapters.ner.adapter_down.0.bias', 'bert.encoder.layer.10.output.adapters.ner.adapter_down.0.bias', 'bert.encoder.layer.2.output.adapters.ner.adapter_down.0.bias', 'bert.encoder.layer.7.output.adapters.ner.adapter_up.bias', 'bert.encoder.layer.7.output.adapters.ner.adapter_down.0.bias', 'bert.encoder.layer.2.output.adapters.ner.adapter_up.weight', 'bert.encoder.layer.6.output.adapters.ner.adapter_down.0.bias', 'bert.encoder.layer.4.output.adapters.ner.adapter_down.0.bias', 'bert.encoder.layer.1.output.adapters.ner.adapter_down.0.bias', 'bert.encoder.layer.2.output.adapters.ner.adapter_up.bias', 'bert.encoder.layer.9.output.adapters.ner.adapter_down.0.bias', 'bert.encoder.layer.6.output.adapters.ner.adapter_up.bias', 'bert.encoder.layer.5.output.adapters.ner.adapter_down.0.weight', 'bert.encoder.layer.6.output.adapters.ner.adapter_down.0.weight', 'bert.encoder.layer.0.output.adapters.ner.adapter_down.0.weight', 'bert.encoder.layer.4.output.adapters.ner.adapter_down.0.weight']\n",
      "- This IS expected if you are initializing BertForTokenClassification from the checkpoint of a model trained on another task or with another architecture (e.g. initializing a BertForSequenceClassification model from a BertForPreTraining model).\n",
      "- This IS NOT expected if you are initializing BertForTokenClassification from the checkpoint of a model that you expect to be exactly identical (initializing a BertForSequenceClassification model from a BertForSequenceClassification model).\n",
      "All the weights of BertForTokenClassification were initialized from the model checkpoint at /home/info/MyNotebooks/Datasets/SentencasTRT1/ACP-Bert-LM/NER-ACP/outputs/NER-ACP_/ner/lr0.0001_bs8_epochs3_patience5_wamlmFalse_madx2True_houlsby_MHA_lastlayerFalse_dsFalse_fp16True_bestTrue_metricf1_weightedlossTrue_c0.3_nsTrue_adapterconfigpfeiffer/output_dir/checkpoint-2937.\n",
      "If your task is similar to the task the model of the checkpoint was trained on, you can already use BertForTokenClassification for predictions without further training.\n",
      "Didn't find file /home/info/MyNotebooks/Datasets/SentencasTRT1/ACP-Bert-LM/NER-ACP/outputs/NER-ACP_/ner/lr0.0001_bs8_epochs3_patience5_wamlmFalse_madx2True_houlsby_MHA_lastlayerFalse_dsFalse_fp16True_bestTrue_metricf1_weightedlossTrue_c0.3_nsTrue_adapterconfigpfeiffer/output_dir/checkpoint-2937/added_tokens.json. We won't load it.\n",
      "loading file /home/info/MyNotebooks/Datasets/SentencasTRT1/ACP-Bert-LM/NER-ACP/outputs/NER-ACP_/ner/lr0.0001_bs8_epochs3_patience5_wamlmFalse_madx2True_houlsby_MHA_lastlayerFalse_dsFalse_fp16True_bestTrue_metricf1_weightedlossTrue_c0.3_nsTrue_adapterconfigpfeiffer/output_dir/checkpoint-2937/vocab.txt\n"
     ]
    },
    {
     "name": "stderr",
     "output_type": "stream",
     "text": [
      "loading file /home/info/MyNotebooks/Datasets/SentencasTRT1/ACP-Bert-LM/NER-ACP/outputs/NER-ACP_/ner/lr0.0001_bs8_epochs3_patience5_wamlmFalse_madx2True_houlsby_MHA_lastlayerFalse_dsFalse_fp16True_bestTrue_metricf1_weightedlossTrue_c0.3_nsTrue_adapterconfigpfeiffer/output_dir/checkpoint-2937/tokenizer.json\n",
      "loading file None\n",
      "loading file /home/info/MyNotebooks/Datasets/SentencasTRT1/ACP-Bert-LM/NER-ACP/outputs/NER-ACP_/ner/lr0.0001_bs8_epochs3_patience5_wamlmFalse_madx2True_houlsby_MHA_lastlayerFalse_dsFalse_fp16True_bestTrue_metricf1_weightedlossTrue_c0.3_nsTrue_adapterconfigpfeiffer/output_dir/checkpoint-2937/special_tokens_map.json\n",
      "loading file /home/info/MyNotebooks/Datasets/SentencasTRT1/ACP-Bert-LM/NER-ACP/outputs/NER-ACP_/ner/lr0.0001_bs8_epochs3_patience5_wamlmFalse_madx2True_houlsby_MHA_lastlayerFalse_dsFalse_fp16True_bestTrue_metricf1_weightedlossTrue_c0.3_nsTrue_adapterconfigpfeiffer/output_dir/checkpoint-2937/tokenizer_config.json\n"
     ]
    }
   ],
   "source": [
    "model_ner = AutoModelForTokenClassification.from_pretrained(model_checkpoint, num_labels=len(label_list), id2label=id2label, label2id=label2id)\n",
    "tokenizer_ner = AutoTokenizer.from_pretrained(model_checkpoint, use_fast=True)"
   ]
  },
  {
   "cell_type": "markdown",
   "id": "e6c30bfa",
   "metadata": {},
   "source": [
    "Lang adapter"
   ]
  },
  {
   "cell_type": "code",
   "execution_count": 83,
   "id": "72d08fe1",
   "metadata": {},
   "outputs": [],
   "source": [
    "if with_adapters_mlm:\n",
    "    \n",
    "    # hyperparameters used for fine-tuning the MLM with lang adapter\n",
    "    learning_rate_mlm = 1e-4\n",
    "    batch_size_mlm = 16\n",
    "    gradient_accumulation_steps_mlm = 1\n",
    "    adam_epsilon_mlm = 1e-6\n",
    "    num_train_epoch_mlm = 100.\n",
    "    early_stopping_patience_mlm = 10\n",
    "    madx2_mlm = True\n",
    "    houlsby_MHA_lastlayer_mlm = False\n",
    "    ds_mlm = False\n",
    "    fp16_mlm = True\n",
    "    load_best_model_at_end_mlm = True\n",
    "    metric_for_best_model_mlm = \"loss\"\n",
    "    adapter_config_mlm = 'pfeiffer+inv'\n",
    "\n",
    "    # path to lang adapter\n",
    "    outputs_mlm = model_checkpoint.replace('/','-') + '_' + dataset_name + '/' + 'mlm' + '/' \\\n",
    "    + 'lr' + str(learning_rate_mlm) \\\n",
    "    + '_bs' + str(batch_size_mlm) \\\n",
    "    + '_GAS' + str(gradient_accumulation_steps_mlm) \\\n",
    "    + '_eps' + str(adam_epsilon_mlm) \\\n",
    "    + '_epochs' + str(num_train_epoch_mlm) \\\n",
    "    + '_patience' + str(early_stopping_patience_mlm) \\\n",
    "    + '_madx2' + str(madx2_mlm) \\\n",
    "    + '_houlsby_MHA_lastlayer' + str(houlsby_MHA_lastlayer_mlm) \\\n",
    "    + '_ds' + str(ds_mlm) \\\n",
    "    + '_fp16' + str(fp16_mlm) \\\n",
    "    + '_best' + str(load_best_model_at_end_mlm) \\\n",
    "    + '_metric' + str(metric_for_best_model_mlm) \\\n",
    "    + '_adapterconfig' + str(adapter_config_mlm)\n",
    "\n",
    "    path_to_outputs_mlm = root/'outputs'/outputs_mlm\n",
    "\n",
    "    # Config of the lang adapter\n",
    "    lang_adapter_path = path_to_outputs_mlm/'adapters-mlm/'\n",
    "\n",
    "    #load_lang_adapter = str(lang_adapter_path)\n",
    "    load_lang_adapter = \"/home/info/MyNotebooks/Datasets/SentencasTRT1/ACP-Bert-LM/NER-ACP/outputs/NER-ACP_/ner/lr0.0001_bs8_epochs3_patience5_wamlmFalse_madx2True_houlsby_MHA_lastlayerFalse_dsFalse_fp16True_bestTrue_metricf1_weightedlossTrue_c0.3_nsTrue_adapterconfigpfeiffer/adapters-ner\"\n",
    "    #'/home/info/MyNotebooks/Datasets/SentencasTRT1/ACP-Bert-LM/NER-ACP/outputs/NER-ACP-Bert_LeNER-Br/mlm/lr0.0001_bs16_GAS1_eps1e-06_epochs100.0_patience10_madx2True_houlsby_MHA_lastlayerFalse_dsFalse_fp16True_bestTrue_metricloss_adapterconfigpfeiffer+inv/adapters-mlm'\n",
    "    lang_adapter_config = str(lang_adapter_path) + \"/adapter_config.json\"\n",
    "\n",
    "if with_adapters_mlm:\n",
    "    # load the language adapter without head\n",
    "    task_mlm_load_as = 'mlm'\n",
    "    lang_adapter_name = model_ner.load_adapter(\n",
    "        load_lang_adapter,\n",
    "        config=lang_adapter_config,\n",
    "        load_as=task_mlm_load_as,\n",
    "        with_head=False\n",
    "        )\n",
    "\n"
   ]
  },
  {
   "cell_type": "markdown",
   "id": "86d3e3d2",
   "metadata": {},
   "source": [
    "NER adapter"
   ]
  },
  {
   "cell_type": "code",
   "execution_count": 84,
   "id": "c18ea571",
   "metadata": {},
   "outputs": [],
   "source": [
    "# folder for training outputs\n",
    "\n",
    "if model_checkpoint == \"neuralmind/bert-large-portuguese-cased\":\n",
    "    outputs = model_checkpoint.replace('/','-') + '_' + dataset_name_hf\n",
    "else:\n",
    "    outputs = model_output\n",
    "    \n",
    "if with_adapters_mlm:\n",
    "    outputs = outputs + '/' + 'mlm_' + str(task) + '_AdCompo' + str(adapter_composition) + '/'\n",
    "else:\n",
    "    outputs = outputs + '/' + str(task) + '/'\n",
    "\n",
    "outputs = outputs \\\n",
    "+ 'lr' + str(learning_rate) \\\n",
    "+ '_bs' + str(batch_size) \\\n",
    "+ '_GAS' + str(gradient_accumulation_steps) \\\n",
    "+ '_eps' + str(adam_epsilon) \\\n",
    "+ '_epochs' + str(num_train_epochs) \\\n",
    "+ '_patience' + str(early_stopping_patience) \\\n",
    "+ '_wamlm' + str(with_adapters_mlm) \\\n",
    "+ '_madx2' + str(madx2) \\\n",
    "+ '_houlsby_MHA_lastlayer' + str(houlsby_MHA_lastlayer) \\\n",
    "+ '_ds' + str(ds) \\\n",
    "+ '_fp16' + str(fp16) \\\n",
    "+ '_best' + str(load_best_model_at_end) \\\n",
    "+ '_metric' + str(metric_for_best_model) \\\n",
    "+ '_weightedloss' + str(weighted_loss) \\\n",
    "+ '_c' + str(c) \\\n",
    "+ '_ns' + str(next_sentence) \\\n",
    "+ '_adapterconfig' + str(adapter_config_name)\n",
    "\n",
    "\n",
    "# path to outputs\n",
    "path_to_outputs = root/'outputs'/outputs\n",
    "\n",
    "# path to adapter\n",
    "adapters_folder = 'adapters-' + task\n",
    "#path_to_save_adapter = path_to_outputs/adapters_folder\n",
    "path_to_save_adapter = '/home/info/MyNotebooks/Datasets/SentencasTRT1/ACP-Bert-LM/NER-ACP/outputs/NER-ACP_/ner/lr0.0001_bs8_epochs3_patience5_wamlmFalse_madx2True_houlsby_MHA_lastlayerFalse_dsFalse_fp16True_bestTrue_metricf1_weightedlossTrue_c0.3_nsTrue_adapterconfigpfeiffer/adapters-ner'\n",
    "                             \n",
    "# Config of the task adapter\n",
    "load_adapter = str(path_to_save_adapter)\n",
    "adapter_config = str(path_to_save_adapter) + \"/adapter_config.json\""
   ]
  },
  {
   "cell_type": "code",
   "execution_count": 85,
   "id": "78e9b439",
   "metadata": {},
   "outputs": [
    {
     "name": "stdout",
     "output_type": "stream",
     "text": [
      "/home/info/MyNotebooks/Datasets/SentencasTRT1/ACP-Bert-LM/NER-ACP/outputs/NER-ACP_/ner/lr0.0001_bs8_epochs3_patience5_wamlmFalse_madx2True_houlsby_MHA_lastlayerFalse_dsFalse_fp16True_bestTrue_metricf1_weightedlossTrue_c0.3_nsTrue_adapterconfigpfeiffer/adapters-ner/adapter_config.json\n"
     ]
    }
   ],
   "source": [
    "print(adapter_config)"
   ]
  },
  {
   "cell_type": "code",
   "execution_count": 86,
   "id": "646b5d20",
   "metadata": {},
   "outputs": [
    {
     "name": "stderr",
     "output_type": "stream",
     "text": [
      "Loading module configuration from /home/info/MyNotebooks/Datasets/SentencasTRT1/ACP-Bert-LM/NER-ACP/outputs/NER-ACP_/ner/lr0.0001_bs8_epochs3_patience5_wamlmFalse_madx2True_houlsby_MHA_lastlayerFalse_dsFalse_fp16True_bestTrue_metricf1_weightedlossTrue_c0.3_nsTrue_adapterconfigpfeiffer/adapters-ner/adapter_config.json\n",
      "Overwriting existing adapter 'ner'.\n",
      "Loading module weights from /home/info/MyNotebooks/Datasets/SentencasTRT1/ACP-Bert-LM/NER-ACP/outputs/NER-ACP_/ner/lr0.0001_bs8_epochs3_patience5_wamlmFalse_madx2True_houlsby_MHA_lastlayerFalse_dsFalse_fp16True_bestTrue_metricf1_weightedlossTrue_c0.3_nsTrue_adapterconfigpfeiffer/adapters-ner/pytorch_adapter.bin\n",
      "Some weights of the state_dict could not be loaded into model: bert.encoder.layer.0.output.adapters.ner.adapter_down.0.weight, bert.encoder.layer.0.output.adapters.ner.adapter_down.0.bias, bert.encoder.layer.0.output.adapters.ner.adapter_up.weight, bert.encoder.layer.0.output.adapters.ner.adapter_up.bias, bert.encoder.layer.1.output.adapters.ner.adapter_down.0.weight, bert.encoder.layer.1.output.adapters.ner.adapter_down.0.bias, bert.encoder.layer.1.output.adapters.ner.adapter_up.weight, bert.encoder.layer.1.output.adapters.ner.adapter_up.bias, bert.encoder.layer.2.output.adapters.ner.adapter_down.0.weight, bert.encoder.layer.2.output.adapters.ner.adapter_down.0.bias, bert.encoder.layer.2.output.adapters.ner.adapter_up.weight, bert.encoder.layer.2.output.adapters.ner.adapter_up.bias, bert.encoder.layer.3.output.adapters.ner.adapter_down.0.weight, bert.encoder.layer.3.output.adapters.ner.adapter_down.0.bias, bert.encoder.layer.3.output.adapters.ner.adapter_up.weight, bert.encoder.layer.3.output.adapters.ner.adapter_up.bias, bert.encoder.layer.4.output.adapters.ner.adapter_down.0.weight, bert.encoder.layer.4.output.adapters.ner.adapter_down.0.bias, bert.encoder.layer.4.output.adapters.ner.adapter_up.weight, bert.encoder.layer.4.output.adapters.ner.adapter_up.bias, bert.encoder.layer.5.output.adapters.ner.adapter_down.0.weight, bert.encoder.layer.5.output.adapters.ner.adapter_down.0.bias, bert.encoder.layer.5.output.adapters.ner.adapter_up.weight, bert.encoder.layer.5.output.adapters.ner.adapter_up.bias, bert.encoder.layer.6.output.adapters.ner.adapter_down.0.weight, bert.encoder.layer.6.output.adapters.ner.adapter_down.0.bias, bert.encoder.layer.6.output.adapters.ner.adapter_up.weight, bert.encoder.layer.6.output.adapters.ner.adapter_up.bias, bert.encoder.layer.7.output.adapters.ner.adapter_down.0.weight, bert.encoder.layer.7.output.adapters.ner.adapter_down.0.bias, bert.encoder.layer.7.output.adapters.ner.adapter_up.weight, bert.encoder.layer.7.output.adapters.ner.adapter_up.bias, bert.encoder.layer.8.output.adapters.ner.adapter_down.0.weight, bert.encoder.layer.8.output.adapters.ner.adapter_down.0.bias, bert.encoder.layer.8.output.adapters.ner.adapter_up.weight, bert.encoder.layer.8.output.adapters.ner.adapter_up.bias, bert.encoder.layer.9.output.adapters.ner.adapter_down.0.weight, bert.encoder.layer.9.output.adapters.ner.adapter_down.0.bias, bert.encoder.layer.9.output.adapters.ner.adapter_up.weight, bert.encoder.layer.9.output.adapters.ner.adapter_up.bias, bert.encoder.layer.10.output.adapters.ner.adapter_down.0.weight, bert.encoder.layer.10.output.adapters.ner.adapter_down.0.bias, bert.encoder.layer.10.output.adapters.ner.adapter_up.weight, bert.encoder.layer.10.output.adapters.ner.adapter_up.bias\n",
      "Loading module configuration from /home/info/MyNotebooks/Datasets/SentencasTRT1/ACP-Bert-LM/NER-ACP/outputs/NER-ACP_/ner/lr0.0001_bs8_epochs3_patience5_wamlmFalse_madx2True_houlsby_MHA_lastlayerFalse_dsFalse_fp16True_bestTrue_metricf1_weightedlossTrue_c0.3_nsTrue_adapterconfigpfeiffer/adapters-ner/head_config.json\n",
      "Loading module weights from /home/info/MyNotebooks/Datasets/SentencasTRT1/ACP-Bert-LM/NER-ACP/outputs/NER-ACP_/ner/lr0.0001_bs8_epochs3_patience5_wamlmFalse_madx2True_houlsby_MHA_lastlayerFalse_dsFalse_fp16True_bestTrue_metricf1_weightedlossTrue_c0.3_nsTrue_adapterconfigpfeiffer/adapters-ner/pytorch_model_head.bin\n"
     ]
    },
    {
     "data": {
      "text/plain": [
       "'ner'"
      ]
     },
     "execution_count": 86,
     "metadata": {},
     "output_type": "execute_result"
    }
   ],
   "source": [
    "# load the task adapter with head\n",
    "task_name = task\n",
    "model_ner.load_adapter(\n",
    "    load_adapter,\n",
    "    config=adapter_config,\n",
    "    load_as=task_name,\n",
    "    with_head = True\n",
    ")\n"
   ]
  },
  {
   "cell_type": "code",
   "execution_count": null,
   "id": "1d1a703d",
   "metadata": {},
   "outputs": [],
   "source": [
    "# https://github.com/huggingface/transformers/issues/20\n",
    "# https://github.com/huggingface/transformers/issues/7881\n",
    "'''\n",
    "thomwolf commented on Nov 14, 2018\n",
    "\n",
    "Ok, I think I found the issue, your BertConfig is not build from the configuration file for some reason and thus use the default value of type_vocab_size in BertConfig which is 16.\n",
    "\n",
    "This error happen on my system when I use config = BertConfig('bert_config.json') instead of config = BertConfig.from_json_file('bert_config.json').\n",
    "'''"
   ]
  },
  {
   "cell_type": "code",
   "execution_count": 87,
   "id": "6b9b0530",
   "metadata": {},
   "outputs": [
    {
     "data": {
      "text/plain": [
       "<bound method Module.state_dict of BertForTokenClassification(\n",
       "  (shared_parameters): ModuleDict()\n",
       "  (bert): BertModel(\n",
       "    (shared_parameters): ModuleDict()\n",
       "    (invertible_adapters): ModuleDict()\n",
       "    (embeddings): BertEmbeddings(\n",
       "      (word_embeddings): Embedding(29794, 768, padding_idx=0)\n",
       "      (position_embeddings): Embedding(512, 768)\n",
       "      (token_type_embeddings): Embedding(2, 768)\n",
       "      (LayerNorm): LayerNorm((768,), eps=1e-12, elementwise_affine=True)\n",
       "      (dropout): Dropout(p=0.1, inplace=False)\n",
       "    )\n",
       "    (encoder): BertEncoder(\n",
       "      (layer): ModuleList(\n",
       "        (0): BertLayer(\n",
       "          (attention): BertAttention(\n",
       "            (self): BertSelfAttention(\n",
       "              (query): Linear(in_features=768, out_features=768, bias=True)\n",
       "              (key): Linear(in_features=768, out_features=768, bias=True)\n",
       "              (value): Linear(in_features=768, out_features=768, bias=True)\n",
       "              (dropout): Dropout(p=0.1, inplace=False)\n",
       "              (prefix_tuning): PrefixTuningShim(\n",
       "                (pool): PrefixTuningPool(\n",
       "                  (prefix_tunings): ModuleDict()\n",
       "                )\n",
       "              )\n",
       "            )\n",
       "            (output): BertSelfOutput(\n",
       "              (dense): Linear(in_features=768, out_features=768, bias=True)\n",
       "              (LayerNorm): LayerNorm((768,), eps=1e-12, elementwise_affine=True)\n",
       "              (dropout): Dropout(p=0.1, inplace=False)\n",
       "              (adapters): ModuleDict()\n",
       "              (adapter_fusion_layer): ModuleDict()\n",
       "            )\n",
       "          )\n",
       "          (intermediate): BertIntermediate(\n",
       "            (dense): Linear(in_features=768, out_features=3072, bias=True)\n",
       "            (intermediate_act_fn): GELUActivation()\n",
       "          )\n",
       "          (output): BertOutput(\n",
       "            (dense): Linear(in_features=3072, out_features=768, bias=True)\n",
       "            (LayerNorm): LayerNorm((768,), eps=1e-12, elementwise_affine=True)\n",
       "            (dropout): Dropout(p=0.1, inplace=False)\n",
       "            (adapters): ModuleDict()\n",
       "            (adapter_fusion_layer): ModuleDict()\n",
       "          )\n",
       "        )\n",
       "        (1): BertLayer(\n",
       "          (attention): BertAttention(\n",
       "            (self): BertSelfAttention(\n",
       "              (query): Linear(in_features=768, out_features=768, bias=True)\n",
       "              (key): Linear(in_features=768, out_features=768, bias=True)\n",
       "              (value): Linear(in_features=768, out_features=768, bias=True)\n",
       "              (dropout): Dropout(p=0.1, inplace=False)\n",
       "              (prefix_tuning): PrefixTuningShim(\n",
       "                (pool): PrefixTuningPool(\n",
       "                  (prefix_tunings): ModuleDict()\n",
       "                )\n",
       "              )\n",
       "            )\n",
       "            (output): BertSelfOutput(\n",
       "              (dense): Linear(in_features=768, out_features=768, bias=True)\n",
       "              (LayerNorm): LayerNorm((768,), eps=1e-12, elementwise_affine=True)\n",
       "              (dropout): Dropout(p=0.1, inplace=False)\n",
       "              (adapters): ModuleDict()\n",
       "              (adapter_fusion_layer): ModuleDict()\n",
       "            )\n",
       "          )\n",
       "          (intermediate): BertIntermediate(\n",
       "            (dense): Linear(in_features=768, out_features=3072, bias=True)\n",
       "            (intermediate_act_fn): GELUActivation()\n",
       "          )\n",
       "          (output): BertOutput(\n",
       "            (dense): Linear(in_features=3072, out_features=768, bias=True)\n",
       "            (LayerNorm): LayerNorm((768,), eps=1e-12, elementwise_affine=True)\n",
       "            (dropout): Dropout(p=0.1, inplace=False)\n",
       "            (adapters): ModuleDict()\n",
       "            (adapter_fusion_layer): ModuleDict()\n",
       "          )\n",
       "        )\n",
       "        (2): BertLayer(\n",
       "          (attention): BertAttention(\n",
       "            (self): BertSelfAttention(\n",
       "              (query): Linear(in_features=768, out_features=768, bias=True)\n",
       "              (key): Linear(in_features=768, out_features=768, bias=True)\n",
       "              (value): Linear(in_features=768, out_features=768, bias=True)\n",
       "              (dropout): Dropout(p=0.1, inplace=False)\n",
       "              (prefix_tuning): PrefixTuningShim(\n",
       "                (pool): PrefixTuningPool(\n",
       "                  (prefix_tunings): ModuleDict()\n",
       "                )\n",
       "              )\n",
       "            )\n",
       "            (output): BertSelfOutput(\n",
       "              (dense): Linear(in_features=768, out_features=768, bias=True)\n",
       "              (LayerNorm): LayerNorm((768,), eps=1e-12, elementwise_affine=True)\n",
       "              (dropout): Dropout(p=0.1, inplace=False)\n",
       "              (adapters): ModuleDict()\n",
       "              (adapter_fusion_layer): ModuleDict()\n",
       "            )\n",
       "          )\n",
       "          (intermediate): BertIntermediate(\n",
       "            (dense): Linear(in_features=768, out_features=3072, bias=True)\n",
       "            (intermediate_act_fn): GELUActivation()\n",
       "          )\n",
       "          (output): BertOutput(\n",
       "            (dense): Linear(in_features=3072, out_features=768, bias=True)\n",
       "            (LayerNorm): LayerNorm((768,), eps=1e-12, elementwise_affine=True)\n",
       "            (dropout): Dropout(p=0.1, inplace=False)\n",
       "            (adapters): ModuleDict()\n",
       "            (adapter_fusion_layer): ModuleDict()\n",
       "          )\n",
       "        )\n",
       "        (3): BertLayer(\n",
       "          (attention): BertAttention(\n",
       "            (self): BertSelfAttention(\n",
       "              (query): Linear(in_features=768, out_features=768, bias=True)\n",
       "              (key): Linear(in_features=768, out_features=768, bias=True)\n",
       "              (value): Linear(in_features=768, out_features=768, bias=True)\n",
       "              (dropout): Dropout(p=0.1, inplace=False)\n",
       "              (prefix_tuning): PrefixTuningShim(\n",
       "                (pool): PrefixTuningPool(\n",
       "                  (prefix_tunings): ModuleDict()\n",
       "                )\n",
       "              )\n",
       "            )\n",
       "            (output): BertSelfOutput(\n",
       "              (dense): Linear(in_features=768, out_features=768, bias=True)\n",
       "              (LayerNorm): LayerNorm((768,), eps=1e-12, elementwise_affine=True)\n",
       "              (dropout): Dropout(p=0.1, inplace=False)\n",
       "              (adapters): ModuleDict()\n",
       "              (adapter_fusion_layer): ModuleDict()\n",
       "            )\n",
       "          )\n",
       "          (intermediate): BertIntermediate(\n",
       "            (dense): Linear(in_features=768, out_features=3072, bias=True)\n",
       "            (intermediate_act_fn): GELUActivation()\n",
       "          )\n",
       "          (output): BertOutput(\n",
       "            (dense): Linear(in_features=3072, out_features=768, bias=True)\n",
       "            (LayerNorm): LayerNorm((768,), eps=1e-12, elementwise_affine=True)\n",
       "            (dropout): Dropout(p=0.1, inplace=False)\n",
       "            (adapters): ModuleDict()\n",
       "            (adapter_fusion_layer): ModuleDict()\n",
       "          )\n",
       "        )\n",
       "        (4): BertLayer(\n",
       "          (attention): BertAttention(\n",
       "            (self): BertSelfAttention(\n",
       "              (query): Linear(in_features=768, out_features=768, bias=True)\n",
       "              (key): Linear(in_features=768, out_features=768, bias=True)\n",
       "              (value): Linear(in_features=768, out_features=768, bias=True)\n",
       "              (dropout): Dropout(p=0.1, inplace=False)\n",
       "              (prefix_tuning): PrefixTuningShim(\n",
       "                (pool): PrefixTuningPool(\n",
       "                  (prefix_tunings): ModuleDict()\n",
       "                )\n",
       "              )\n",
       "            )\n",
       "            (output): BertSelfOutput(\n",
       "              (dense): Linear(in_features=768, out_features=768, bias=True)\n",
       "              (LayerNorm): LayerNorm((768,), eps=1e-12, elementwise_affine=True)\n",
       "              (dropout): Dropout(p=0.1, inplace=False)\n",
       "              (adapters): ModuleDict()\n",
       "              (adapter_fusion_layer): ModuleDict()\n",
       "            )\n",
       "          )\n",
       "          (intermediate): BertIntermediate(\n",
       "            (dense): Linear(in_features=768, out_features=3072, bias=True)\n",
       "            (intermediate_act_fn): GELUActivation()\n",
       "          )\n",
       "          (output): BertOutput(\n",
       "            (dense): Linear(in_features=3072, out_features=768, bias=True)\n",
       "            (LayerNorm): LayerNorm((768,), eps=1e-12, elementwise_affine=True)\n",
       "            (dropout): Dropout(p=0.1, inplace=False)\n",
       "            (adapters): ModuleDict()\n",
       "            (adapter_fusion_layer): ModuleDict()\n",
       "          )\n",
       "        )\n",
       "        (5): BertLayer(\n",
       "          (attention): BertAttention(\n",
       "            (self): BertSelfAttention(\n",
       "              (query): Linear(in_features=768, out_features=768, bias=True)\n",
       "              (key): Linear(in_features=768, out_features=768, bias=True)\n",
       "              (value): Linear(in_features=768, out_features=768, bias=True)\n",
       "              (dropout): Dropout(p=0.1, inplace=False)\n",
       "              (prefix_tuning): PrefixTuningShim(\n",
       "                (pool): PrefixTuningPool(\n",
       "                  (prefix_tunings): ModuleDict()\n",
       "                )\n",
       "              )\n",
       "            )\n",
       "            (output): BertSelfOutput(\n",
       "              (dense): Linear(in_features=768, out_features=768, bias=True)\n",
       "              (LayerNorm): LayerNorm((768,), eps=1e-12, elementwise_affine=True)\n",
       "              (dropout): Dropout(p=0.1, inplace=False)\n",
       "              (adapters): ModuleDict()\n",
       "              (adapter_fusion_layer): ModuleDict()\n",
       "            )\n",
       "          )\n",
       "          (intermediate): BertIntermediate(\n",
       "            (dense): Linear(in_features=768, out_features=3072, bias=True)\n",
       "            (intermediate_act_fn): GELUActivation()\n",
       "          )\n",
       "          (output): BertOutput(\n",
       "            (dense): Linear(in_features=3072, out_features=768, bias=True)\n",
       "            (LayerNorm): LayerNorm((768,), eps=1e-12, elementwise_affine=True)\n",
       "            (dropout): Dropout(p=0.1, inplace=False)\n",
       "            (adapters): ModuleDict()\n",
       "            (adapter_fusion_layer): ModuleDict()\n",
       "          )\n",
       "        )\n",
       "        (6): BertLayer(\n",
       "          (attention): BertAttention(\n",
       "            (self): BertSelfAttention(\n",
       "              (query): Linear(in_features=768, out_features=768, bias=True)\n",
       "              (key): Linear(in_features=768, out_features=768, bias=True)\n",
       "              (value): Linear(in_features=768, out_features=768, bias=True)\n",
       "              (dropout): Dropout(p=0.1, inplace=False)\n",
       "              (prefix_tuning): PrefixTuningShim(\n",
       "                (pool): PrefixTuningPool(\n",
       "                  (prefix_tunings): ModuleDict()\n",
       "                )\n",
       "              )\n",
       "            )\n",
       "            (output): BertSelfOutput(\n",
       "              (dense): Linear(in_features=768, out_features=768, bias=True)\n",
       "              (LayerNorm): LayerNorm((768,), eps=1e-12, elementwise_affine=True)\n",
       "              (dropout): Dropout(p=0.1, inplace=False)\n",
       "              (adapters): ModuleDict()\n",
       "              (adapter_fusion_layer): ModuleDict()\n",
       "            )\n",
       "          )\n",
       "          (intermediate): BertIntermediate(\n",
       "            (dense): Linear(in_features=768, out_features=3072, bias=True)\n",
       "            (intermediate_act_fn): GELUActivation()\n",
       "          )\n",
       "          (output): BertOutput(\n",
       "            (dense): Linear(in_features=3072, out_features=768, bias=True)\n",
       "            (LayerNorm): LayerNorm((768,), eps=1e-12, elementwise_affine=True)\n",
       "            (dropout): Dropout(p=0.1, inplace=False)\n",
       "            (adapters): ModuleDict()\n",
       "            (adapter_fusion_layer): ModuleDict()\n",
       "          )\n",
       "        )\n",
       "        (7): BertLayer(\n",
       "          (attention): BertAttention(\n",
       "            (self): BertSelfAttention(\n",
       "              (query): Linear(in_features=768, out_features=768, bias=True)\n",
       "              (key): Linear(in_features=768, out_features=768, bias=True)\n",
       "              (value): Linear(in_features=768, out_features=768, bias=True)\n",
       "              (dropout): Dropout(p=0.1, inplace=False)\n",
       "              (prefix_tuning): PrefixTuningShim(\n",
       "                (pool): PrefixTuningPool(\n",
       "                  (prefix_tunings): ModuleDict()\n",
       "                )\n",
       "              )\n",
       "            )\n",
       "            (output): BertSelfOutput(\n",
       "              (dense): Linear(in_features=768, out_features=768, bias=True)\n",
       "              (LayerNorm): LayerNorm((768,), eps=1e-12, elementwise_affine=True)\n",
       "              (dropout): Dropout(p=0.1, inplace=False)\n",
       "              (adapters): ModuleDict()\n",
       "              (adapter_fusion_layer): ModuleDict()\n",
       "            )\n",
       "          )\n",
       "          (intermediate): BertIntermediate(\n",
       "            (dense): Linear(in_features=768, out_features=3072, bias=True)\n",
       "            (intermediate_act_fn): GELUActivation()\n",
       "          )\n",
       "          (output): BertOutput(\n",
       "            (dense): Linear(in_features=3072, out_features=768, bias=True)\n",
       "            (LayerNorm): LayerNorm((768,), eps=1e-12, elementwise_affine=True)\n",
       "            (dropout): Dropout(p=0.1, inplace=False)\n",
       "            (adapters): ModuleDict()\n",
       "            (adapter_fusion_layer): ModuleDict()\n",
       "          )\n",
       "        )\n",
       "        (8): BertLayer(\n",
       "          (attention): BertAttention(\n",
       "            (self): BertSelfAttention(\n",
       "              (query): Linear(in_features=768, out_features=768, bias=True)\n",
       "              (key): Linear(in_features=768, out_features=768, bias=True)\n",
       "              (value): Linear(in_features=768, out_features=768, bias=True)\n",
       "              (dropout): Dropout(p=0.1, inplace=False)\n",
       "              (prefix_tuning): PrefixTuningShim(\n",
       "                (pool): PrefixTuningPool(\n",
       "                  (prefix_tunings): ModuleDict()\n",
       "                )\n",
       "              )\n",
       "            )\n",
       "            (output): BertSelfOutput(\n",
       "              (dense): Linear(in_features=768, out_features=768, bias=True)\n",
       "              (LayerNorm): LayerNorm((768,), eps=1e-12, elementwise_affine=True)\n",
       "              (dropout): Dropout(p=0.1, inplace=False)\n",
       "              (adapters): ModuleDict()\n",
       "              (adapter_fusion_layer): ModuleDict()\n",
       "            )\n",
       "          )\n",
       "          (intermediate): BertIntermediate(\n",
       "            (dense): Linear(in_features=768, out_features=3072, bias=True)\n",
       "            (intermediate_act_fn): GELUActivation()\n",
       "          )\n",
       "          (output): BertOutput(\n",
       "            (dense): Linear(in_features=3072, out_features=768, bias=True)\n",
       "            (LayerNorm): LayerNorm((768,), eps=1e-12, elementwise_affine=True)\n",
       "            (dropout): Dropout(p=0.1, inplace=False)\n",
       "            (adapters): ModuleDict()\n",
       "            (adapter_fusion_layer): ModuleDict()\n",
       "          )\n",
       "        )\n",
       "        (9): BertLayer(\n",
       "          (attention): BertAttention(\n",
       "            (self): BertSelfAttention(\n",
       "              (query): Linear(in_features=768, out_features=768, bias=True)\n",
       "              (key): Linear(in_features=768, out_features=768, bias=True)\n",
       "              (value): Linear(in_features=768, out_features=768, bias=True)\n",
       "              (dropout): Dropout(p=0.1, inplace=False)\n",
       "              (prefix_tuning): PrefixTuningShim(\n",
       "                (pool): PrefixTuningPool(\n",
       "                  (prefix_tunings): ModuleDict()\n",
       "                )\n",
       "              )\n",
       "            )\n",
       "            (output): BertSelfOutput(\n",
       "              (dense): Linear(in_features=768, out_features=768, bias=True)\n",
       "              (LayerNorm): LayerNorm((768,), eps=1e-12, elementwise_affine=True)\n",
       "              (dropout): Dropout(p=0.1, inplace=False)\n",
       "              (adapters): ModuleDict()\n",
       "              (adapter_fusion_layer): ModuleDict()\n",
       "            )\n",
       "          )\n",
       "          (intermediate): BertIntermediate(\n",
       "            (dense): Linear(in_features=768, out_features=3072, bias=True)\n",
       "            (intermediate_act_fn): GELUActivation()\n",
       "          )\n",
       "          (output): BertOutput(\n",
       "            (dense): Linear(in_features=3072, out_features=768, bias=True)\n",
       "            (LayerNorm): LayerNorm((768,), eps=1e-12, elementwise_affine=True)\n",
       "            (dropout): Dropout(p=0.1, inplace=False)\n",
       "            (adapters): ModuleDict()\n",
       "            (adapter_fusion_layer): ModuleDict()\n",
       "          )\n",
       "        )\n",
       "        (10): BertLayer(\n",
       "          (attention): BertAttention(\n",
       "            (self): BertSelfAttention(\n",
       "              (query): Linear(in_features=768, out_features=768, bias=True)\n",
       "              (key): Linear(in_features=768, out_features=768, bias=True)\n",
       "              (value): Linear(in_features=768, out_features=768, bias=True)\n",
       "              (dropout): Dropout(p=0.1, inplace=False)\n",
       "              (prefix_tuning): PrefixTuningShim(\n",
       "                (pool): PrefixTuningPool(\n",
       "                  (prefix_tunings): ModuleDict()\n",
       "                )\n",
       "              )\n",
       "            )\n",
       "            (output): BertSelfOutput(\n",
       "              (dense): Linear(in_features=768, out_features=768, bias=True)\n",
       "              (LayerNorm): LayerNorm((768,), eps=1e-12, elementwise_affine=True)\n",
       "              (dropout): Dropout(p=0.1, inplace=False)\n",
       "              (adapters): ModuleDict()\n",
       "              (adapter_fusion_layer): ModuleDict()\n",
       "            )\n",
       "          )\n",
       "          (intermediate): BertIntermediate(\n",
       "            (dense): Linear(in_features=768, out_features=3072, bias=True)\n",
       "            (intermediate_act_fn): GELUActivation()\n",
       "          )\n",
       "          (output): BertOutput(\n",
       "            (dense): Linear(in_features=3072, out_features=768, bias=True)\n",
       "            (LayerNorm): LayerNorm((768,), eps=1e-12, elementwise_affine=True)\n",
       "            (dropout): Dropout(p=0.1, inplace=False)\n",
       "            (adapters): ModuleDict()\n",
       "            (adapter_fusion_layer): ModuleDict()\n",
       "          )\n",
       "        )\n",
       "        (11): BertLayer(\n",
       "          (attention): BertAttention(\n",
       "            (self): BertSelfAttention(\n",
       "              (query): Linear(in_features=768, out_features=768, bias=True)\n",
       "              (key): Linear(in_features=768, out_features=768, bias=True)\n",
       "              (value): Linear(in_features=768, out_features=768, bias=True)\n",
       "              (dropout): Dropout(p=0.1, inplace=False)\n",
       "              (prefix_tuning): PrefixTuningShim(\n",
       "                (pool): PrefixTuningPool(\n",
       "                  (prefix_tunings): ModuleDict()\n",
       "                )\n",
       "              )\n",
       "            )\n",
       "            (output): BertSelfOutput(\n",
       "              (dense): Linear(in_features=768, out_features=768, bias=True)\n",
       "              (LayerNorm): LayerNorm((768,), eps=1e-12, elementwise_affine=True)\n",
       "              (dropout): Dropout(p=0.1, inplace=False)\n",
       "              (adapters): ModuleDict()\n",
       "              (adapter_fusion_layer): ModuleDict()\n",
       "            )\n",
       "          )\n",
       "          (intermediate): BertIntermediate(\n",
       "            (dense): Linear(in_features=768, out_features=3072, bias=True)\n",
       "            (intermediate_act_fn): GELUActivation()\n",
       "          )\n",
       "          (output): BertOutput(\n",
       "            (dense): Linear(in_features=3072, out_features=768, bias=True)\n",
       "            (LayerNorm): LayerNorm((768,), eps=1e-12, elementwise_affine=True)\n",
       "            (dropout): Dropout(p=0.1, inplace=False)\n",
       "            (adapters): ModuleDict()\n",
       "            (adapter_fusion_layer): ModuleDict()\n",
       "          )\n",
       "        )\n",
       "      )\n",
       "    )\n",
       "    (prefix_tuning): PrefixTuningPool(\n",
       "      (prefix_tunings): ModuleDict()\n",
       "    )\n",
       "  )\n",
       "  (dropout): Dropout(p=0.1, inplace=False)\n",
       "  (classifier): Linear(in_features=768, out_features=13, bias=True)\n",
       ")>"
      ]
     },
     "execution_count": 87,
     "metadata": {},
     "output_type": "execute_result"
    }
   ],
   "source": [
    "model_ner.state_dict"
   ]
  },
  {
   "cell_type": "code",
   "execution_count": null,
   "id": "72cab97d",
   "metadata": {},
   "outputs": [],
   "source": [
    "'''\n",
    "(dropout): Dropout(p=0.1, inplace=False)\n",
    "  (classifier): Linear(in_features=1024, out_features=13, bias=True)\n",
    "'''"
   ]
  },
  {
   "cell_type": "code",
   "execution_count": 189,
   "id": "136ed4fe",
   "metadata": {},
   "outputs": [
    {
     "ename": "RuntimeError",
     "evalue": "Error(s) in loading state_dict for BertModel:\n\tMissing key(s) in state_dict: \"embeddings.position_ids\", \"embeddings.word_embeddings.weight\", \"embeddings.position_embeddings.weight\", \"embeddings.token_type_embeddings.weight\", \"embeddings.LayerNorm.weight\", \"embeddings.LayerNorm.bias\", \"encoder.layer.0.attention.self.query.weight\", \"encoder.layer.0.attention.self.query.bias\", \"encoder.layer.0.attention.self.key.weight\", \"encoder.layer.0.attention.self.key.bias\", \"encoder.layer.0.attention.self.value.weight\", \"encoder.layer.0.attention.self.value.bias\", \"encoder.layer.0.attention.output.dense.weight\", \"encoder.layer.0.attention.output.dense.bias\", \"encoder.layer.0.attention.output.LayerNorm.weight\", \"encoder.layer.0.attention.output.LayerNorm.bias\", \"encoder.layer.0.intermediate.dense.weight\", \"encoder.layer.0.intermediate.dense.bias\", \"encoder.layer.0.output.dense.weight\", \"encoder.layer.0.output.dense.bias\", \"encoder.layer.0.output.LayerNorm.weight\", \"encoder.layer.0.output.LayerNorm.bias\", \"encoder.layer.1.attention.self.query.weight\", \"encoder.layer.1.attention.self.query.bias\", \"encoder.layer.1.attention.self.key.weight\", \"encoder.layer.1.attention.self.key.bias\", \"encoder.layer.1.attention.self.value.weight\", \"encoder.layer.1.attention.self.value.bias\", \"encoder.layer.1.attention.output.dense.weight\", \"encoder.layer.1.attention.output.dense.bias\", \"encoder.layer.1.attention.output.LayerNorm.weight\", \"encoder.layer.1.attention.output.LayerNorm.bias\", \"encoder.layer.1.intermediate.dense.weight\", \"encoder.layer.1.intermediate.dense.bias\", \"encoder.layer.1.output.dense.weight\", \"encoder.layer.1.output.dense.bias\", \"encoder.layer.1.output.LayerNorm.weight\", \"encoder.layer.1.output.LayerNorm.bias\", \"encoder.layer.2.attention.self.query.weight\", \"encoder.layer.2.attention.self.query.bias\", \"encoder.layer.2.attention.self.key.weight\", \"encoder.layer.2.attention.self.key.bias\", \"encoder.layer.2.attention.self.value.weight\", \"encoder.layer.2.attention.self.value.bias\", \"encoder.layer.2.attention.output.dense.weight\", \"encoder.layer.2.attention.output.dense.bias\", \"encoder.layer.2.attention.output.LayerNorm.weight\", \"encoder.layer.2.attention.output.LayerNorm.bias\", \"encoder.layer.2.intermediate.dense.weight\", \"encoder.layer.2.intermediate.dense.bias\", \"encoder.layer.2.output.dense.weight\", \"encoder.layer.2.output.dense.bias\", \"encoder.layer.2.output.LayerNorm.weight\", \"encoder.layer.2.output.LayerNorm.bias\", \"encoder.layer.3.attention.self.query.weight\", \"encoder.layer.3.attention.self.query.bias\", \"encoder.layer.3.attention.self.key.weight\", \"encoder.layer.3.attention.self.key.bias\", \"encoder.layer.3.attention.self.value.weight\", \"encoder.layer.3.attention.self.value.bias\", \"encoder.layer.3.attention.output.dense.weight\", \"encoder.layer.3.attention.output.dense.bias\", \"encoder.layer.3.attention.output.LayerNorm.weight\", \"encoder.layer.3.attention.output.LayerNorm.bias\", \"encoder.layer.3.intermediate.dense.weight\", \"encoder.layer.3.intermediate.dense.bias\", \"encoder.layer.3.output.dense.weight\", \"encoder.layer.3.output.dense.bias\", \"encoder.layer.3.output.LayerNorm.weight\", \"encoder.layer.3.output.LayerNorm.bias\", \"encoder.layer.4.attention.self.query.weight\", \"encoder.layer.4.attention.self.query.bias\", \"encoder.layer.4.attention.self.key.weight\", \"encoder.layer.4.attention.self.key.bias\", \"encoder.layer.4.attention.self.value.weight\", \"encoder.layer.4.attention.self.value.bias\", \"encoder.layer.4.attention.output.dense.weight\", \"encoder.layer.4.attention.output.dense.bias\", \"encoder.layer.4.attention.output.LayerNorm.weight\", \"encoder.layer.4.attention.output.LayerNorm.bias\", \"encoder.layer.4.intermediate.dense.weight\", \"encoder.layer.4.intermediate.dense.bias\", \"encoder.layer.4.output.dense.weight\", \"encoder.layer.4.output.dense.bias\", \"encoder.layer.4.output.LayerNorm.weight\", \"encoder.layer.4.output.LayerNorm.bias\", \"encoder.layer.5.attention.self.query.weight\", \"encoder.layer.5.attention.self.query.bias\", \"encoder.layer.5.attention.self.key.weight\", \"encoder.layer.5.attention.self.key.bias\", \"encoder.layer.5.attention.self.value.weight\", \"encoder.layer.5.attention.self.value.bias\", \"encoder.layer.5.attention.output.dense.weight\", \"encoder.layer.5.attention.output.dense.bias\", \"encoder.layer.5.attention.output.LayerNorm.weight\", \"encoder.layer.5.attention.output.LayerNorm.bias\", \"encoder.layer.5.intermediate.dense.weight\", \"encoder.layer.5.intermediate.dense.bias\", \"encoder.layer.5.output.dense.weight\", \"encoder.layer.5.output.dense.bias\", \"encoder.layer.5.output.LayerNorm.weight\", \"encoder.layer.5.output.LayerNorm.bias\", \"encoder.layer.6.attention.self.query.weight\", \"encoder.layer.6.attention.self.query.bias\", \"encoder.layer.6.attention.self.key.weight\", \"encoder.layer.6.attention.self.key.bias\", \"encoder.layer.6.attention.self.value.weight\", \"encoder.layer.6.attention.self.value.bias\", \"encoder.layer.6.attention.output.dense.weight\", \"encoder.layer.6.attention.output.dense.bias\", \"encoder.layer.6.attention.output.LayerNorm.weight\", \"encoder.layer.6.attention.output.LayerNorm.bias\", \"encoder.layer.6.intermediate.dense.weight\", \"encoder.layer.6.intermediate.dense.bias\", \"encoder.layer.6.output.dense.weight\", \"encoder.layer.6.output.dense.bias\", \"encoder.layer.6.output.LayerNorm.weight\", \"encoder.layer.6.output.LayerNorm.bias\", \"encoder.layer.7.attention.self.query.weight\", \"encoder.layer.7.attention.self.query.bias\", \"encoder.layer.7.attention.self.key.weight\", \"encoder.layer.7.attention.self.key.bias\", \"encoder.layer.7.attention.self.value.weight\", \"encoder.layer.7.attention.self.value.bias\", \"encoder.layer.7.attention.output.dense.weight\", \"encoder.layer.7.attention.output.dense.bias\", \"encoder.layer.7.attention.output.LayerNorm.weight\", \"encoder.layer.7.attention.output.LayerNorm.bias\", \"encoder.layer.7.intermediate.dense.weight\", \"encoder.layer.7.intermediate.dense.bias\", \"encoder.layer.7.output.dense.weight\", \"encoder.layer.7.output.dense.bias\", \"encoder.layer.7.output.LayerNorm.weight\", \"encoder.layer.7.output.LayerNorm.bias\", \"encoder.layer.8.attention.self.query.weight\", \"encoder.layer.8.attention.self.query.bias\", \"encoder.layer.8.attention.self.key.weight\", \"encoder.layer.8.attention.self.key.bias\", \"encoder.layer.8.attention.self.value.weight\", \"encoder.layer.8.attention.self.value.bias\", \"encoder.layer.8.attention.output.dense.weight\", \"encoder.layer.8.attention.output.dense.bias\", \"encoder.layer.8.attention.output.LayerNorm.weight\", \"encoder.layer.8.attention.output.LayerNorm.bias\", \"encoder.layer.8.intermediate.dense.weight\", \"encoder.layer.8.intermediate.dense.bias\", \"encoder.layer.8.output.dense.weight\", \"encoder.layer.8.output.dense.bias\", \"encoder.layer.8.output.LayerNorm.weight\", \"encoder.layer.8.output.LayerNorm.bias\", \"encoder.layer.9.attention.self.query.weight\", \"encoder.layer.9.attention.self.query.bias\", \"encoder.layer.9.attention.self.key.weight\", \"encoder.layer.9.attention.self.key.bias\", \"encoder.layer.9.attention.self.value.weight\", \"encoder.layer.9.attention.self.value.bias\", \"encoder.layer.9.attention.output.dense.weight\", \"encoder.layer.9.attention.output.dense.bias\", \"encoder.layer.9.attention.output.LayerNorm.weight\", \"encoder.layer.9.attention.output.LayerNorm.bias\", \"encoder.layer.9.intermediate.dense.weight\", \"encoder.layer.9.intermediate.dense.bias\", \"encoder.layer.9.output.dense.weight\", \"encoder.layer.9.output.dense.bias\", \"encoder.layer.9.output.LayerNorm.weight\", \"encoder.layer.9.output.LayerNorm.bias\", \"encoder.layer.10.attention.self.query.weight\", \"encoder.layer.10.attention.self.query.bias\", \"encoder.layer.10.attention.self.key.weight\", \"encoder.layer.10.attention.self.key.bias\", \"encoder.layer.10.attention.self.value.weight\", \"encoder.layer.10.attention.self.value.bias\", \"encoder.layer.10.attention.output.dense.weight\", \"encoder.layer.10.attention.output.dense.bias\", \"encoder.layer.10.attention.output.LayerNorm.weight\", \"encoder.layer.10.attention.output.LayerNorm.bias\", \"encoder.layer.10.intermediate.dense.weight\", \"encoder.layer.10.intermediate.dense.bias\", \"encoder.layer.10.output.dense.weight\", \"encoder.layer.10.output.dense.bias\", \"encoder.layer.10.output.LayerNorm.weight\", \"encoder.layer.10.output.LayerNorm.bias\", \"encoder.layer.11.attention.self.query.weight\", \"encoder.layer.11.attention.self.query.bias\", \"encoder.layer.11.attention.self.key.weight\", \"encoder.layer.11.attention.self.key.bias\", \"encoder.layer.11.attention.self.value.weight\", \"encoder.layer.11.attention.self.value.bias\", \"encoder.layer.11.attention.output.dense.weight\", \"encoder.layer.11.attention.output.dense.bias\", \"encoder.layer.11.attention.output.LayerNorm.weight\", \"encoder.layer.11.attention.output.LayerNorm.bias\", \"encoder.layer.11.intermediate.dense.weight\", \"encoder.layer.11.intermediate.dense.bias\", \"encoder.layer.11.output.dense.weight\", \"encoder.layer.11.output.dense.bias\", \"encoder.layer.11.output.LayerNorm.weight\", \"encoder.layer.11.output.LayerNorm.bias\", \"pooler.dense.weight\", \"pooler.dense.bias\". \n\tUnexpected key(s) in state_dict: \"bert.embeddings.position_ids\", \"bert.embeddings.word_embeddings.weight\", \"bert.embeddings.position_embeddings.weight\", \"bert.embeddings.token_type_embeddings.weight\", \"bert.embeddings.LayerNorm.weight\", \"bert.embeddings.LayerNorm.bias\", \"bert.encoder.layer.0.attention.self.query.weight\", \"bert.encoder.layer.0.attention.self.query.bias\", \"bert.encoder.layer.0.attention.self.key.weight\", \"bert.encoder.layer.0.attention.self.key.bias\", \"bert.encoder.layer.0.attention.self.value.weight\", \"bert.encoder.layer.0.attention.self.value.bias\", \"bert.encoder.layer.0.attention.output.dense.weight\", \"bert.encoder.layer.0.attention.output.dense.bias\", \"bert.encoder.layer.0.attention.output.LayerNorm.weight\", \"bert.encoder.layer.0.attention.output.LayerNorm.bias\", \"bert.encoder.layer.0.intermediate.dense.weight\", \"bert.encoder.layer.0.intermediate.dense.bias\", \"bert.encoder.layer.0.output.dense.weight\", \"bert.encoder.layer.0.output.dense.bias\", \"bert.encoder.layer.0.output.LayerNorm.weight\", \"bert.encoder.layer.0.output.LayerNorm.bias\", \"bert.encoder.layer.0.output.adapters.ner.adapter_down.0.weight\", \"bert.encoder.layer.0.output.adapters.ner.adapter_down.0.bias\", \"bert.encoder.layer.0.output.adapters.ner.adapter_up.weight\", \"bert.encoder.layer.0.output.adapters.ner.adapter_up.bias\", \"bert.encoder.layer.1.attention.self.query.weight\", \"bert.encoder.layer.1.attention.self.query.bias\", \"bert.encoder.layer.1.attention.self.key.weight\", \"bert.encoder.layer.1.attention.self.key.bias\", \"bert.encoder.layer.1.attention.self.value.weight\", \"bert.encoder.layer.1.attention.self.value.bias\", \"bert.encoder.layer.1.attention.output.dense.weight\", \"bert.encoder.layer.1.attention.output.dense.bias\", \"bert.encoder.layer.1.attention.output.LayerNorm.weight\", \"bert.encoder.layer.1.attention.output.LayerNorm.bias\", \"bert.encoder.layer.1.intermediate.dense.weight\", \"bert.encoder.layer.1.intermediate.dense.bias\", \"bert.encoder.layer.1.output.dense.weight\", \"bert.encoder.layer.1.output.dense.bias\", \"bert.encoder.layer.1.output.LayerNorm.weight\", \"bert.encoder.layer.1.output.LayerNorm.bias\", \"bert.encoder.layer.1.output.adapters.ner.adapter_down.0.weight\", \"bert.encoder.layer.1.output.adapters.ner.adapter_down.0.bias\", \"bert.encoder.layer.1.output.adapters.ner.adapter_up.weight\", \"bert.encoder.layer.1.output.adapters.ner.adapter_up.bias\", \"bert.encoder.layer.2.attention.self.query.weight\", \"bert.encoder.layer.2.attention.self.query.bias\", \"bert.encoder.layer.2.attention.self.key.weight\", \"bert.encoder.layer.2.attention.self.key.bias\", \"bert.encoder.layer.2.attention.self.value.weight\", \"bert.encoder.layer.2.attention.self.value.bias\", \"bert.encoder.layer.2.attention.output.dense.weight\", \"bert.encoder.layer.2.attention.output.dense.bias\", \"bert.encoder.layer.2.attention.output.LayerNorm.weight\", \"bert.encoder.layer.2.attention.output.LayerNorm.bias\", \"bert.encoder.layer.2.intermediate.dense.weight\", \"bert.encoder.layer.2.intermediate.dense.bias\", \"bert.encoder.layer.2.output.dense.weight\", \"bert.encoder.layer.2.output.dense.bias\", \"bert.encoder.layer.2.output.LayerNorm.weight\", \"bert.encoder.layer.2.output.LayerNorm.bias\", \"bert.encoder.layer.2.output.adapters.ner.adapter_down.0.weight\", \"bert.encoder.layer.2.output.adapters.ner.adapter_down.0.bias\", \"bert.encoder.layer.2.output.adapters.ner.adapter_up.weight\", \"bert.encoder.layer.2.output.adapters.ner.adapter_up.bias\", \"bert.encoder.layer.3.attention.self.query.weight\", \"bert.encoder.layer.3.attention.self.query.bias\", \"bert.encoder.layer.3.attention.self.key.weight\", \"bert.encoder.layer.3.attention.self.key.bias\", \"bert.encoder.layer.3.attention.self.value.weight\", \"bert.encoder.layer.3.attention.self.value.bias\", \"bert.encoder.layer.3.attention.output.dense.weight\", \"bert.encoder.layer.3.attention.output.dense.bias\", \"bert.encoder.layer.3.attention.output.LayerNorm.weight\", \"bert.encoder.layer.3.attention.output.LayerNorm.bias\", \"bert.encoder.layer.3.intermediate.dense.weight\", \"bert.encoder.layer.3.intermediate.dense.bias\", \"bert.encoder.layer.3.output.dense.weight\", \"bert.encoder.layer.3.output.dense.bias\", \"bert.encoder.layer.3.output.LayerNorm.weight\", \"bert.encoder.layer.3.output.LayerNorm.bias\", \"bert.encoder.layer.3.output.adapters.ner.adapter_down.0.weight\", \"bert.encoder.layer.3.output.adapters.ner.adapter_down.0.bias\", \"bert.encoder.layer.3.output.adapters.ner.adapter_up.weight\", \"bert.encoder.layer.3.output.adapters.ner.adapter_up.bias\", \"bert.encoder.layer.4.attention.self.query.weight\", \"bert.encoder.layer.4.attention.self.query.bias\", \"bert.encoder.layer.4.attention.self.key.weight\", \"bert.encoder.layer.4.attention.self.key.bias\", \"bert.encoder.layer.4.attention.self.value.weight\", \"bert.encoder.layer.4.attention.self.value.bias\", \"bert.encoder.layer.4.attention.output.dense.weight\", \"bert.encoder.layer.4.attention.output.dense.bias\", \"bert.encoder.layer.4.attention.output.LayerNorm.weight\", \"bert.encoder.layer.4.attention.output.LayerNorm.bias\", \"bert.encoder.layer.4.intermediate.dense.weight\", \"bert.encoder.layer.4.intermediate.dense.bias\", \"bert.encoder.layer.4.output.dense.weight\", \"bert.encoder.layer.4.output.dense.bias\", \"bert.encoder.layer.4.output.LayerNorm.weight\", \"bert.encoder.layer.4.output.LayerNorm.bias\", \"bert.encoder.layer.4.output.adapters.ner.adapter_down.0.weight\", \"bert.encoder.layer.4.output.adapters.ner.adapter_down.0.bias\", \"bert.encoder.layer.4.output.adapters.ner.adapter_up.weight\", \"bert.encoder.layer.4.output.adapters.ner.adapter_up.bias\", \"bert.encoder.layer.5.attention.self.query.weight\", \"bert.encoder.layer.5.attention.self.query.bias\", \"bert.encoder.layer.5.attention.self.key.weight\", \"bert.encoder.layer.5.attention.self.key.bias\", \"bert.encoder.layer.5.attention.self.value.weight\", \"bert.encoder.layer.5.attention.self.value.bias\", \"bert.encoder.layer.5.attention.output.dense.weight\", \"bert.encoder.layer.5.attention.output.dense.bias\", \"bert.encoder.layer.5.attention.output.LayerNorm.weight\", \"bert.encoder.layer.5.attention.output.LayerNorm.bias\", \"bert.encoder.layer.5.intermediate.dense.weight\", \"bert.encoder.layer.5.intermediate.dense.bias\", \"bert.encoder.layer.5.output.dense.weight\", \"bert.encoder.layer.5.output.dense.bias\", \"bert.encoder.layer.5.output.LayerNorm.weight\", \"bert.encoder.layer.5.output.LayerNorm.bias\", \"bert.encoder.layer.5.output.adapters.ner.adapter_down.0.weight\", \"bert.encoder.layer.5.output.adapters.ner.adapter_down.0.bias\", \"bert.encoder.layer.5.output.adapters.ner.adapter_up.weight\", \"bert.encoder.layer.5.output.adapters.ner.adapter_up.bias\", \"bert.encoder.layer.6.attention.self.query.weight\", \"bert.encoder.layer.6.attention.self.query.bias\", \"bert.encoder.layer.6.attention.self.key.weight\", \"bert.encoder.layer.6.attention.self.key.bias\", \"bert.encoder.layer.6.attention.self.value.weight\", \"bert.encoder.layer.6.attention.self.value.bias\", \"bert.encoder.layer.6.attention.output.dense.weight\", \"bert.encoder.layer.6.attention.output.dense.bias\", \"bert.encoder.layer.6.attention.output.LayerNorm.weight\", \"bert.encoder.layer.6.attention.output.LayerNorm.bias\", \"bert.encoder.layer.6.intermediate.dense.weight\", \"bert.encoder.layer.6.intermediate.dense.bias\", \"bert.encoder.layer.6.output.dense.weight\", \"bert.encoder.layer.6.output.dense.bias\", \"bert.encoder.layer.6.output.LayerNorm.weight\", \"bert.encoder.layer.6.output.LayerNorm.bias\", \"bert.encoder.layer.6.output.adapters.ner.adapter_down.0.weight\", \"bert.encoder.layer.6.output.adapters.ner.adapter_down.0.bias\", \"bert.encoder.layer.6.output.adapters.ner.adapter_up.weight\", \"bert.encoder.layer.6.output.adapters.ner.adapter_up.bias\", \"bert.encoder.layer.7.attention.self.query.weight\", \"bert.encoder.layer.7.attention.self.query.bias\", \"bert.encoder.layer.7.attention.self.key.weight\", \"bert.encoder.layer.7.attention.self.key.bias\", \"bert.encoder.layer.7.attention.self.value.weight\", \"bert.encoder.layer.7.attention.self.value.bias\", \"bert.encoder.layer.7.attention.output.dense.weight\", \"bert.encoder.layer.7.attention.output.dense.bias\", \"bert.encoder.layer.7.attention.output.LayerNorm.weight\", \"bert.encoder.layer.7.attention.output.LayerNorm.bias\", \"bert.encoder.layer.7.intermediate.dense.weight\", \"bert.encoder.layer.7.intermediate.dense.bias\", \"bert.encoder.layer.7.output.dense.weight\", \"bert.encoder.layer.7.output.dense.bias\", \"bert.encoder.layer.7.output.LayerNorm.weight\", \"bert.encoder.layer.7.output.LayerNorm.bias\", \"bert.encoder.layer.7.output.adapters.ner.adapter_down.0.weight\", \"bert.encoder.layer.7.output.adapters.ner.adapter_down.0.bias\", \"bert.encoder.layer.7.output.adapters.ner.adapter_up.weight\", \"bert.encoder.layer.7.output.adapters.ner.adapter_up.bias\", \"bert.encoder.layer.8.attention.self.query.weight\", \"bert.encoder.layer.8.attention.self.query.bias\", \"bert.encoder.layer.8.attention.self.key.weight\", \"bert.encoder.layer.8.attention.self.key.bias\", \"bert.encoder.layer.8.attention.self.value.weight\", \"bert.encoder.layer.8.attention.self.value.bias\", \"bert.encoder.layer.8.attention.output.dense.weight\", \"bert.encoder.layer.8.attention.output.dense.bias\", \"bert.encoder.layer.8.attention.output.LayerNorm.weight\", \"bert.encoder.layer.8.attention.output.LayerNorm.bias\", \"bert.encoder.layer.8.intermediate.dense.weight\", \"bert.encoder.layer.8.intermediate.dense.bias\", \"bert.encoder.layer.8.output.dense.weight\", \"bert.encoder.layer.8.output.dense.bias\", \"bert.encoder.layer.8.output.LayerNorm.weight\", \"bert.encoder.layer.8.output.LayerNorm.bias\", \"bert.encoder.layer.8.output.adapters.ner.adapter_down.0.weight\", \"bert.encoder.layer.8.output.adapters.ner.adapter_down.0.bias\", \"bert.encoder.layer.8.output.adapters.ner.adapter_up.weight\", \"bert.encoder.layer.8.output.adapters.ner.adapter_up.bias\", \"bert.encoder.layer.9.attention.self.query.weight\", \"bert.encoder.layer.9.attention.self.query.bias\", \"bert.encoder.layer.9.attention.self.key.weight\", \"bert.encoder.layer.9.attention.self.key.bias\", \"bert.encoder.layer.9.attention.self.value.weight\", \"bert.encoder.layer.9.attention.self.value.bias\", \"bert.encoder.layer.9.attention.output.dense.weight\", \"bert.encoder.layer.9.attention.output.dense.bias\", \"bert.encoder.layer.9.attention.output.LayerNorm.weight\", \"bert.encoder.layer.9.attention.output.LayerNorm.bias\", \"bert.encoder.layer.9.intermediate.dense.weight\", \"bert.encoder.layer.9.intermediate.dense.bias\", \"bert.encoder.layer.9.output.dense.weight\", \"bert.encoder.layer.9.output.dense.bias\", \"bert.encoder.layer.9.output.LayerNorm.weight\", \"bert.encoder.layer.9.output.LayerNorm.bias\", \"bert.encoder.layer.9.output.adapters.ner.adapter_down.0.weight\", \"bert.encoder.layer.9.output.adapters.ner.adapter_down.0.bias\", \"bert.encoder.layer.9.output.adapters.ner.adapter_up.weight\", \"bert.encoder.layer.9.output.adapters.ner.adapter_up.bias\", \"bert.encoder.layer.10.attention.self.query.weight\", \"bert.encoder.layer.10.attention.self.query.bias\", \"bert.encoder.layer.10.attention.self.key.weight\", \"bert.encoder.layer.10.attention.self.key.bias\", \"bert.encoder.layer.10.attention.self.value.weight\", \"bert.encoder.layer.10.attention.self.value.bias\", \"bert.encoder.layer.10.attention.output.dense.weight\", \"bert.encoder.layer.10.attention.output.dense.bias\", \"bert.encoder.layer.10.attention.output.LayerNorm.weight\", \"bert.encoder.layer.10.attention.output.LayerNorm.bias\", \"bert.encoder.layer.10.intermediate.dense.weight\", \"bert.encoder.layer.10.intermediate.dense.bias\", \"bert.encoder.layer.10.output.dense.weight\", \"bert.encoder.layer.10.output.dense.bias\", \"bert.encoder.layer.10.output.LayerNorm.weight\", \"bert.encoder.layer.10.output.LayerNorm.bias\", \"bert.encoder.layer.10.output.adapters.ner.adapter_down.0.weight\", \"bert.encoder.layer.10.output.adapters.ner.adapter_down.0.bias\", \"bert.encoder.layer.10.output.adapters.ner.adapter_up.weight\", \"bert.encoder.layer.10.output.adapters.ner.adapter_up.bias\", \"bert.encoder.layer.11.attention.self.query.weight\", \"bert.encoder.layer.11.attention.self.query.bias\", \"bert.encoder.layer.11.attention.self.key.weight\", \"bert.encoder.layer.11.attention.self.key.bias\", \"bert.encoder.layer.11.attention.self.value.weight\", \"bert.encoder.layer.11.attention.self.value.bias\", \"bert.encoder.layer.11.attention.output.dense.weight\", \"bert.encoder.layer.11.attention.output.dense.bias\", \"bert.encoder.layer.11.attention.output.LayerNorm.weight\", \"bert.encoder.layer.11.attention.output.LayerNorm.bias\", \"bert.encoder.layer.11.intermediate.dense.weight\", \"bert.encoder.layer.11.intermediate.dense.bias\", \"bert.encoder.layer.11.output.dense.weight\", \"bert.encoder.layer.11.output.dense.bias\", \"bert.encoder.layer.11.output.LayerNorm.weight\", \"bert.encoder.layer.11.output.LayerNorm.bias\", \"classifier.weight\", \"classifier.bias\". ",
     "output_type": "error",
     "traceback": [
      "\u001b[0;31m---------------------------------------------------------------------------\u001b[0m",
      "\u001b[0;31mRuntimeError\u001b[0m                              Traceback (most recent call last)",
      "Input \u001b[0;32mIn [189]\u001b[0m, in \u001b[0;36m<cell line: 8>\u001b[0;34m()\u001b[0m\n\u001b[1;32m      5\u001b[0m bert_config \u001b[38;5;241m=\u001b[39m BertConfig\u001b[38;5;241m.\u001b[39mfrom_json_file(BertFolder\u001b[38;5;241m+\u001b[39m\u001b[38;5;124m'\u001b[39m\u001b[38;5;124mconfig.json\u001b[39m\u001b[38;5;124m'\u001b[39m)\n\u001b[1;32m      6\u001b[0m model\u001b[38;5;241m=\u001b[39mBertModel(bert_config)\n\u001b[0;32m----> 8\u001b[0m \u001b[43mmodel\u001b[49m\u001b[38;5;241;43m.\u001b[39;49m\u001b[43mload_state_dict\u001b[49m\u001b[43m(\u001b[49m\u001b[43mtorch\u001b[49m\u001b[38;5;241;43m.\u001b[39;49m\u001b[43mload\u001b[49m\u001b[43m(\u001b[49m\u001b[43mBertFolder\u001b[49m\u001b[38;5;241;43m+\u001b[39;49m\u001b[38;5;124;43m'\u001b[39;49m\u001b[38;5;124;43mpytorch_model.bin\u001b[39;49m\u001b[38;5;124;43m'\u001b[39;49m\u001b[43m)\u001b[49m\u001b[43m)\u001b[49m\n",
      "File \u001b[0;32m~/.local/lib/python3.8/site-packages/torch/nn/modules/module.py:1604\u001b[0m, in \u001b[0;36mModule.load_state_dict\u001b[0;34m(self, state_dict, strict)\u001b[0m\n\u001b[1;32m   1599\u001b[0m         error_msgs\u001b[38;5;241m.\u001b[39minsert(\n\u001b[1;32m   1600\u001b[0m             \u001b[38;5;241m0\u001b[39m, \u001b[38;5;124m'\u001b[39m\u001b[38;5;124mMissing key(s) in state_dict: \u001b[39m\u001b[38;5;132;01m{}\u001b[39;00m\u001b[38;5;124m. \u001b[39m\u001b[38;5;124m'\u001b[39m\u001b[38;5;241m.\u001b[39mformat(\n\u001b[1;32m   1601\u001b[0m                 \u001b[38;5;124m'\u001b[39m\u001b[38;5;124m, \u001b[39m\u001b[38;5;124m'\u001b[39m\u001b[38;5;241m.\u001b[39mjoin(\u001b[38;5;124m'\u001b[39m\u001b[38;5;124m\"\u001b[39m\u001b[38;5;132;01m{}\u001b[39;00m\u001b[38;5;124m\"\u001b[39m\u001b[38;5;124m'\u001b[39m\u001b[38;5;241m.\u001b[39mformat(k) \u001b[38;5;28;01mfor\u001b[39;00m k \u001b[38;5;129;01min\u001b[39;00m missing_keys)))\n\u001b[1;32m   1603\u001b[0m \u001b[38;5;28;01mif\u001b[39;00m \u001b[38;5;28mlen\u001b[39m(error_msgs) \u001b[38;5;241m>\u001b[39m \u001b[38;5;241m0\u001b[39m:\n\u001b[0;32m-> 1604\u001b[0m     \u001b[38;5;28;01mraise\u001b[39;00m \u001b[38;5;167;01mRuntimeError\u001b[39;00m(\u001b[38;5;124m'\u001b[39m\u001b[38;5;124mError(s) in loading state_dict for \u001b[39m\u001b[38;5;132;01m{}\u001b[39;00m\u001b[38;5;124m:\u001b[39m\u001b[38;5;130;01m\\n\u001b[39;00m\u001b[38;5;130;01m\\t\u001b[39;00m\u001b[38;5;132;01m{}\u001b[39;00m\u001b[38;5;124m'\u001b[39m\u001b[38;5;241m.\u001b[39mformat(\n\u001b[1;32m   1605\u001b[0m                        \u001b[38;5;28mself\u001b[39m\u001b[38;5;241m.\u001b[39m\u001b[38;5;18m__class__\u001b[39m\u001b[38;5;241m.\u001b[39m\u001b[38;5;18m__name__\u001b[39m, \u001b[38;5;124m\"\u001b[39m\u001b[38;5;130;01m\\n\u001b[39;00m\u001b[38;5;130;01m\\t\u001b[39;00m\u001b[38;5;124m\"\u001b[39m\u001b[38;5;241m.\u001b[39mjoin(error_msgs)))\n\u001b[1;32m   1606\u001b[0m \u001b[38;5;28;01mreturn\u001b[39;00m _IncompatibleKeys(missing_keys, unexpected_keys)\n",
      "\u001b[0;31mRuntimeError\u001b[0m: Error(s) in loading state_dict for BertModel:\n\tMissing key(s) in state_dict: \"embeddings.position_ids\", \"embeddings.word_embeddings.weight\", \"embeddings.position_embeddings.weight\", \"embeddings.token_type_embeddings.weight\", \"embeddings.LayerNorm.weight\", \"embeddings.LayerNorm.bias\", \"encoder.layer.0.attention.self.query.weight\", \"encoder.layer.0.attention.self.query.bias\", \"encoder.layer.0.attention.self.key.weight\", \"encoder.layer.0.attention.self.key.bias\", \"encoder.layer.0.attention.self.value.weight\", \"encoder.layer.0.attention.self.value.bias\", \"encoder.layer.0.attention.output.dense.weight\", \"encoder.layer.0.attention.output.dense.bias\", \"encoder.layer.0.attention.output.LayerNorm.weight\", \"encoder.layer.0.attention.output.LayerNorm.bias\", \"encoder.layer.0.intermediate.dense.weight\", \"encoder.layer.0.intermediate.dense.bias\", \"encoder.layer.0.output.dense.weight\", \"encoder.layer.0.output.dense.bias\", \"encoder.layer.0.output.LayerNorm.weight\", \"encoder.layer.0.output.LayerNorm.bias\", \"encoder.layer.1.attention.self.query.weight\", \"encoder.layer.1.attention.self.query.bias\", \"encoder.layer.1.attention.self.key.weight\", \"encoder.layer.1.attention.self.key.bias\", \"encoder.layer.1.attention.self.value.weight\", \"encoder.layer.1.attention.self.value.bias\", \"encoder.layer.1.attention.output.dense.weight\", \"encoder.layer.1.attention.output.dense.bias\", \"encoder.layer.1.attention.output.LayerNorm.weight\", \"encoder.layer.1.attention.output.LayerNorm.bias\", \"encoder.layer.1.intermediate.dense.weight\", \"encoder.layer.1.intermediate.dense.bias\", \"encoder.layer.1.output.dense.weight\", \"encoder.layer.1.output.dense.bias\", \"encoder.layer.1.output.LayerNorm.weight\", \"encoder.layer.1.output.LayerNorm.bias\", \"encoder.layer.2.attention.self.query.weight\", \"encoder.layer.2.attention.self.query.bias\", \"encoder.layer.2.attention.self.key.weight\", \"encoder.layer.2.attention.self.key.bias\", \"encoder.layer.2.attention.self.value.weight\", \"encoder.layer.2.attention.self.value.bias\", \"encoder.layer.2.attention.output.dense.weight\", \"encoder.layer.2.attention.output.dense.bias\", \"encoder.layer.2.attention.output.LayerNorm.weight\", \"encoder.layer.2.attention.output.LayerNorm.bias\", \"encoder.layer.2.intermediate.dense.weight\", \"encoder.layer.2.intermediate.dense.bias\", \"encoder.layer.2.output.dense.weight\", \"encoder.layer.2.output.dense.bias\", \"encoder.layer.2.output.LayerNorm.weight\", \"encoder.layer.2.output.LayerNorm.bias\", \"encoder.layer.3.attention.self.query.weight\", \"encoder.layer.3.attention.self.query.bias\", \"encoder.layer.3.attention.self.key.weight\", \"encoder.layer.3.attention.self.key.bias\", \"encoder.layer.3.attention.self.value.weight\", \"encoder.layer.3.attention.self.value.bias\", \"encoder.layer.3.attention.output.dense.weight\", \"encoder.layer.3.attention.output.dense.bias\", \"encoder.layer.3.attention.output.LayerNorm.weight\", \"encoder.layer.3.attention.output.LayerNorm.bias\", \"encoder.layer.3.intermediate.dense.weight\", \"encoder.layer.3.intermediate.dense.bias\", \"encoder.layer.3.output.dense.weight\", \"encoder.layer.3.output.dense.bias\", \"encoder.layer.3.output.LayerNorm.weight\", \"encoder.layer.3.output.LayerNorm.bias\", \"encoder.layer.4.attention.self.query.weight\", \"encoder.layer.4.attention.self.query.bias\", \"encoder.layer.4.attention.self.key.weight\", \"encoder.layer.4.attention.self.key.bias\", \"encoder.layer.4.attention.self.value.weight\", \"encoder.layer.4.attention.self.value.bias\", \"encoder.layer.4.attention.output.dense.weight\", \"encoder.layer.4.attention.output.dense.bias\", \"encoder.layer.4.attention.output.LayerNorm.weight\", \"encoder.layer.4.attention.output.LayerNorm.bias\", \"encoder.layer.4.intermediate.dense.weight\", \"encoder.layer.4.intermediate.dense.bias\", \"encoder.layer.4.output.dense.weight\", \"encoder.layer.4.output.dense.bias\", \"encoder.layer.4.output.LayerNorm.weight\", \"encoder.layer.4.output.LayerNorm.bias\", \"encoder.layer.5.attention.self.query.weight\", \"encoder.layer.5.attention.self.query.bias\", \"encoder.layer.5.attention.self.key.weight\", \"encoder.layer.5.attention.self.key.bias\", \"encoder.layer.5.attention.self.value.weight\", \"encoder.layer.5.attention.self.value.bias\", \"encoder.layer.5.attention.output.dense.weight\", \"encoder.layer.5.attention.output.dense.bias\", \"encoder.layer.5.attention.output.LayerNorm.weight\", \"encoder.layer.5.attention.output.LayerNorm.bias\", \"encoder.layer.5.intermediate.dense.weight\", \"encoder.layer.5.intermediate.dense.bias\", \"encoder.layer.5.output.dense.weight\", \"encoder.layer.5.output.dense.bias\", \"encoder.layer.5.output.LayerNorm.weight\", \"encoder.layer.5.output.LayerNorm.bias\", \"encoder.layer.6.attention.self.query.weight\", \"encoder.layer.6.attention.self.query.bias\", \"encoder.layer.6.attention.self.key.weight\", \"encoder.layer.6.attention.self.key.bias\", \"encoder.layer.6.attention.self.value.weight\", \"encoder.layer.6.attention.self.value.bias\", \"encoder.layer.6.attention.output.dense.weight\", \"encoder.layer.6.attention.output.dense.bias\", \"encoder.layer.6.attention.output.LayerNorm.weight\", \"encoder.layer.6.attention.output.LayerNorm.bias\", \"encoder.layer.6.intermediate.dense.weight\", \"encoder.layer.6.intermediate.dense.bias\", \"encoder.layer.6.output.dense.weight\", \"encoder.layer.6.output.dense.bias\", \"encoder.layer.6.output.LayerNorm.weight\", \"encoder.layer.6.output.LayerNorm.bias\", \"encoder.layer.7.attention.self.query.weight\", \"encoder.layer.7.attention.self.query.bias\", \"encoder.layer.7.attention.self.key.weight\", \"encoder.layer.7.attention.self.key.bias\", \"encoder.layer.7.attention.self.value.weight\", \"encoder.layer.7.attention.self.value.bias\", \"encoder.layer.7.attention.output.dense.weight\", \"encoder.layer.7.attention.output.dense.bias\", \"encoder.layer.7.attention.output.LayerNorm.weight\", \"encoder.layer.7.attention.output.LayerNorm.bias\", \"encoder.layer.7.intermediate.dense.weight\", \"encoder.layer.7.intermediate.dense.bias\", \"encoder.layer.7.output.dense.weight\", \"encoder.layer.7.output.dense.bias\", \"encoder.layer.7.output.LayerNorm.weight\", \"encoder.layer.7.output.LayerNorm.bias\", \"encoder.layer.8.attention.self.query.weight\", \"encoder.layer.8.attention.self.query.bias\", \"encoder.layer.8.attention.self.key.weight\", \"encoder.layer.8.attention.self.key.bias\", \"encoder.layer.8.attention.self.value.weight\", \"encoder.layer.8.attention.self.value.bias\", \"encoder.layer.8.attention.output.dense.weight\", \"encoder.layer.8.attention.output.dense.bias\", \"encoder.layer.8.attention.output.LayerNorm.weight\", \"encoder.layer.8.attention.output.LayerNorm.bias\", \"encoder.layer.8.intermediate.dense.weight\", \"encoder.layer.8.intermediate.dense.bias\", \"encoder.layer.8.output.dense.weight\", \"encoder.layer.8.output.dense.bias\", \"encoder.layer.8.output.LayerNorm.weight\", \"encoder.layer.8.output.LayerNorm.bias\", \"encoder.layer.9.attention.self.query.weight\", \"encoder.layer.9.attention.self.query.bias\", \"encoder.layer.9.attention.self.key.weight\", \"encoder.layer.9.attention.self.key.bias\", \"encoder.layer.9.attention.self.value.weight\", \"encoder.layer.9.attention.self.value.bias\", \"encoder.layer.9.attention.output.dense.weight\", \"encoder.layer.9.attention.output.dense.bias\", \"encoder.layer.9.attention.output.LayerNorm.weight\", \"encoder.layer.9.attention.output.LayerNorm.bias\", \"encoder.layer.9.intermediate.dense.weight\", \"encoder.layer.9.intermediate.dense.bias\", \"encoder.layer.9.output.dense.weight\", \"encoder.layer.9.output.dense.bias\", \"encoder.layer.9.output.LayerNorm.weight\", \"encoder.layer.9.output.LayerNorm.bias\", \"encoder.layer.10.attention.self.query.weight\", \"encoder.layer.10.attention.self.query.bias\", \"encoder.layer.10.attention.self.key.weight\", \"encoder.layer.10.attention.self.key.bias\", \"encoder.layer.10.attention.self.value.weight\", \"encoder.layer.10.attention.self.value.bias\", \"encoder.layer.10.attention.output.dense.weight\", \"encoder.layer.10.attention.output.dense.bias\", \"encoder.layer.10.attention.output.LayerNorm.weight\", \"encoder.layer.10.attention.output.LayerNorm.bias\", \"encoder.layer.10.intermediate.dense.weight\", \"encoder.layer.10.intermediate.dense.bias\", \"encoder.layer.10.output.dense.weight\", \"encoder.layer.10.output.dense.bias\", \"encoder.layer.10.output.LayerNorm.weight\", \"encoder.layer.10.output.LayerNorm.bias\", \"encoder.layer.11.attention.self.query.weight\", \"encoder.layer.11.attention.self.query.bias\", \"encoder.layer.11.attention.self.key.weight\", \"encoder.layer.11.attention.self.key.bias\", \"encoder.layer.11.attention.self.value.weight\", \"encoder.layer.11.attention.self.value.bias\", \"encoder.layer.11.attention.output.dense.weight\", \"encoder.layer.11.attention.output.dense.bias\", \"encoder.layer.11.attention.output.LayerNorm.weight\", \"encoder.layer.11.attention.output.LayerNorm.bias\", \"encoder.layer.11.intermediate.dense.weight\", \"encoder.layer.11.intermediate.dense.bias\", \"encoder.layer.11.output.dense.weight\", \"encoder.layer.11.output.dense.bias\", \"encoder.layer.11.output.LayerNorm.weight\", \"encoder.layer.11.output.LayerNorm.bias\", \"pooler.dense.weight\", \"pooler.dense.bias\". \n\tUnexpected key(s) in state_dict: \"bert.embeddings.position_ids\", \"bert.embeddings.word_embeddings.weight\", \"bert.embeddings.position_embeddings.weight\", \"bert.embeddings.token_type_embeddings.weight\", \"bert.embeddings.LayerNorm.weight\", \"bert.embeddings.LayerNorm.bias\", \"bert.encoder.layer.0.attention.self.query.weight\", \"bert.encoder.layer.0.attention.self.query.bias\", \"bert.encoder.layer.0.attention.self.key.weight\", \"bert.encoder.layer.0.attention.self.key.bias\", \"bert.encoder.layer.0.attention.self.value.weight\", \"bert.encoder.layer.0.attention.self.value.bias\", \"bert.encoder.layer.0.attention.output.dense.weight\", \"bert.encoder.layer.0.attention.output.dense.bias\", \"bert.encoder.layer.0.attention.output.LayerNorm.weight\", \"bert.encoder.layer.0.attention.output.LayerNorm.bias\", \"bert.encoder.layer.0.intermediate.dense.weight\", \"bert.encoder.layer.0.intermediate.dense.bias\", \"bert.encoder.layer.0.output.dense.weight\", \"bert.encoder.layer.0.output.dense.bias\", \"bert.encoder.layer.0.output.LayerNorm.weight\", \"bert.encoder.layer.0.output.LayerNorm.bias\", \"bert.encoder.layer.0.output.adapters.ner.adapter_down.0.weight\", \"bert.encoder.layer.0.output.adapters.ner.adapter_down.0.bias\", \"bert.encoder.layer.0.output.adapters.ner.adapter_up.weight\", \"bert.encoder.layer.0.output.adapters.ner.adapter_up.bias\", \"bert.encoder.layer.1.attention.self.query.weight\", \"bert.encoder.layer.1.attention.self.query.bias\", \"bert.encoder.layer.1.attention.self.key.weight\", \"bert.encoder.layer.1.attention.self.key.bias\", \"bert.encoder.layer.1.attention.self.value.weight\", \"bert.encoder.layer.1.attention.self.value.bias\", \"bert.encoder.layer.1.attention.output.dense.weight\", \"bert.encoder.layer.1.attention.output.dense.bias\", \"bert.encoder.layer.1.attention.output.LayerNorm.weight\", \"bert.encoder.layer.1.attention.output.LayerNorm.bias\", \"bert.encoder.layer.1.intermediate.dense.weight\", \"bert.encoder.layer.1.intermediate.dense.bias\", \"bert.encoder.layer.1.output.dense.weight\", \"bert.encoder.layer.1.output.dense.bias\", \"bert.encoder.layer.1.output.LayerNorm.weight\", \"bert.encoder.layer.1.output.LayerNorm.bias\", \"bert.encoder.layer.1.output.adapters.ner.adapter_down.0.weight\", \"bert.encoder.layer.1.output.adapters.ner.adapter_down.0.bias\", \"bert.encoder.layer.1.output.adapters.ner.adapter_up.weight\", \"bert.encoder.layer.1.output.adapters.ner.adapter_up.bias\", \"bert.encoder.layer.2.attention.self.query.weight\", \"bert.encoder.layer.2.attention.self.query.bias\", \"bert.encoder.layer.2.attention.self.key.weight\", \"bert.encoder.layer.2.attention.self.key.bias\", \"bert.encoder.layer.2.attention.self.value.weight\", \"bert.encoder.layer.2.attention.self.value.bias\", \"bert.encoder.layer.2.attention.output.dense.weight\", \"bert.encoder.layer.2.attention.output.dense.bias\", \"bert.encoder.layer.2.attention.output.LayerNorm.weight\", \"bert.encoder.layer.2.attention.output.LayerNorm.bias\", \"bert.encoder.layer.2.intermediate.dense.weight\", \"bert.encoder.layer.2.intermediate.dense.bias\", \"bert.encoder.layer.2.output.dense.weight\", \"bert.encoder.layer.2.output.dense.bias\", \"bert.encoder.layer.2.output.LayerNorm.weight\", \"bert.encoder.layer.2.output.LayerNorm.bias\", \"bert.encoder.layer.2.output.adapters.ner.adapter_down.0.weight\", \"bert.encoder.layer.2.output.adapters.ner.adapter_down.0.bias\", \"bert.encoder.layer.2.output.adapters.ner.adapter_up.weight\", \"bert.encoder.layer.2.output.adapters.ner.adapter_up.bias\", \"bert.encoder.layer.3.attention.self.query.weight\", \"bert.encoder.layer.3.attention.self.query.bias\", \"bert.encoder.layer.3.attention.self.key.weight\", \"bert.encoder.layer.3.attention.self.key.bias\", \"bert.encoder.layer.3.attention.self.value.weight\", \"bert.encoder.layer.3.attention.self.value.bias\", \"bert.encoder.layer.3.attention.output.dense.weight\", \"bert.encoder.layer.3.attention.output.dense.bias\", \"bert.encoder.layer.3.attention.output.LayerNorm.weight\", \"bert.encoder.layer.3.attention.output.LayerNorm.bias\", \"bert.encoder.layer.3.intermediate.dense.weight\", \"bert.encoder.layer.3.intermediate.dense.bias\", \"bert.encoder.layer.3.output.dense.weight\", \"bert.encoder.layer.3.output.dense.bias\", \"bert.encoder.layer.3.output.LayerNorm.weight\", \"bert.encoder.layer.3.output.LayerNorm.bias\", \"bert.encoder.layer.3.output.adapters.ner.adapter_down.0.weight\", \"bert.encoder.layer.3.output.adapters.ner.adapter_down.0.bias\", \"bert.encoder.layer.3.output.adapters.ner.adapter_up.weight\", \"bert.encoder.layer.3.output.adapters.ner.adapter_up.bias\", \"bert.encoder.layer.4.attention.self.query.weight\", \"bert.encoder.layer.4.attention.self.query.bias\", \"bert.encoder.layer.4.attention.self.key.weight\", \"bert.encoder.layer.4.attention.self.key.bias\", \"bert.encoder.layer.4.attention.self.value.weight\", \"bert.encoder.layer.4.attention.self.value.bias\", \"bert.encoder.layer.4.attention.output.dense.weight\", \"bert.encoder.layer.4.attention.output.dense.bias\", \"bert.encoder.layer.4.attention.output.LayerNorm.weight\", \"bert.encoder.layer.4.attention.output.LayerNorm.bias\", \"bert.encoder.layer.4.intermediate.dense.weight\", \"bert.encoder.layer.4.intermediate.dense.bias\", \"bert.encoder.layer.4.output.dense.weight\", \"bert.encoder.layer.4.output.dense.bias\", \"bert.encoder.layer.4.output.LayerNorm.weight\", \"bert.encoder.layer.4.output.LayerNorm.bias\", \"bert.encoder.layer.4.output.adapters.ner.adapter_down.0.weight\", \"bert.encoder.layer.4.output.adapters.ner.adapter_down.0.bias\", \"bert.encoder.layer.4.output.adapters.ner.adapter_up.weight\", \"bert.encoder.layer.4.output.adapters.ner.adapter_up.bias\", \"bert.encoder.layer.5.attention.self.query.weight\", \"bert.encoder.layer.5.attention.self.query.bias\", \"bert.encoder.layer.5.attention.self.key.weight\", \"bert.encoder.layer.5.attention.self.key.bias\", \"bert.encoder.layer.5.attention.self.value.weight\", \"bert.encoder.layer.5.attention.self.value.bias\", \"bert.encoder.layer.5.attention.output.dense.weight\", \"bert.encoder.layer.5.attention.output.dense.bias\", \"bert.encoder.layer.5.attention.output.LayerNorm.weight\", \"bert.encoder.layer.5.attention.output.LayerNorm.bias\", \"bert.encoder.layer.5.intermediate.dense.weight\", \"bert.encoder.layer.5.intermediate.dense.bias\", \"bert.encoder.layer.5.output.dense.weight\", \"bert.encoder.layer.5.output.dense.bias\", \"bert.encoder.layer.5.output.LayerNorm.weight\", \"bert.encoder.layer.5.output.LayerNorm.bias\", \"bert.encoder.layer.5.output.adapters.ner.adapter_down.0.weight\", \"bert.encoder.layer.5.output.adapters.ner.adapter_down.0.bias\", \"bert.encoder.layer.5.output.adapters.ner.adapter_up.weight\", \"bert.encoder.layer.5.output.adapters.ner.adapter_up.bias\", \"bert.encoder.layer.6.attention.self.query.weight\", \"bert.encoder.layer.6.attention.self.query.bias\", \"bert.encoder.layer.6.attention.self.key.weight\", \"bert.encoder.layer.6.attention.self.key.bias\", \"bert.encoder.layer.6.attention.self.value.weight\", \"bert.encoder.layer.6.attention.self.value.bias\", \"bert.encoder.layer.6.attention.output.dense.weight\", \"bert.encoder.layer.6.attention.output.dense.bias\", \"bert.encoder.layer.6.attention.output.LayerNorm.weight\", \"bert.encoder.layer.6.attention.output.LayerNorm.bias\", \"bert.encoder.layer.6.intermediate.dense.weight\", \"bert.encoder.layer.6.intermediate.dense.bias\", \"bert.encoder.layer.6.output.dense.weight\", \"bert.encoder.layer.6.output.dense.bias\", \"bert.encoder.layer.6.output.LayerNorm.weight\", \"bert.encoder.layer.6.output.LayerNorm.bias\", \"bert.encoder.layer.6.output.adapters.ner.adapter_down.0.weight\", \"bert.encoder.layer.6.output.adapters.ner.adapter_down.0.bias\", \"bert.encoder.layer.6.output.adapters.ner.adapter_up.weight\", \"bert.encoder.layer.6.output.adapters.ner.adapter_up.bias\", \"bert.encoder.layer.7.attention.self.query.weight\", \"bert.encoder.layer.7.attention.self.query.bias\", \"bert.encoder.layer.7.attention.self.key.weight\", \"bert.encoder.layer.7.attention.self.key.bias\", \"bert.encoder.layer.7.attention.self.value.weight\", \"bert.encoder.layer.7.attention.self.value.bias\", \"bert.encoder.layer.7.attention.output.dense.weight\", \"bert.encoder.layer.7.attention.output.dense.bias\", \"bert.encoder.layer.7.attention.output.LayerNorm.weight\", \"bert.encoder.layer.7.attention.output.LayerNorm.bias\", \"bert.encoder.layer.7.intermediate.dense.weight\", \"bert.encoder.layer.7.intermediate.dense.bias\", \"bert.encoder.layer.7.output.dense.weight\", \"bert.encoder.layer.7.output.dense.bias\", \"bert.encoder.layer.7.output.LayerNorm.weight\", \"bert.encoder.layer.7.output.LayerNorm.bias\", \"bert.encoder.layer.7.output.adapters.ner.adapter_down.0.weight\", \"bert.encoder.layer.7.output.adapters.ner.adapter_down.0.bias\", \"bert.encoder.layer.7.output.adapters.ner.adapter_up.weight\", \"bert.encoder.layer.7.output.adapters.ner.adapter_up.bias\", \"bert.encoder.layer.8.attention.self.query.weight\", \"bert.encoder.layer.8.attention.self.query.bias\", \"bert.encoder.layer.8.attention.self.key.weight\", \"bert.encoder.layer.8.attention.self.key.bias\", \"bert.encoder.layer.8.attention.self.value.weight\", \"bert.encoder.layer.8.attention.self.value.bias\", \"bert.encoder.layer.8.attention.output.dense.weight\", \"bert.encoder.layer.8.attention.output.dense.bias\", \"bert.encoder.layer.8.attention.output.LayerNorm.weight\", \"bert.encoder.layer.8.attention.output.LayerNorm.bias\", \"bert.encoder.layer.8.intermediate.dense.weight\", \"bert.encoder.layer.8.intermediate.dense.bias\", \"bert.encoder.layer.8.output.dense.weight\", \"bert.encoder.layer.8.output.dense.bias\", \"bert.encoder.layer.8.output.LayerNorm.weight\", \"bert.encoder.layer.8.output.LayerNorm.bias\", \"bert.encoder.layer.8.output.adapters.ner.adapter_down.0.weight\", \"bert.encoder.layer.8.output.adapters.ner.adapter_down.0.bias\", \"bert.encoder.layer.8.output.adapters.ner.adapter_up.weight\", \"bert.encoder.layer.8.output.adapters.ner.adapter_up.bias\", \"bert.encoder.layer.9.attention.self.query.weight\", \"bert.encoder.layer.9.attention.self.query.bias\", \"bert.encoder.layer.9.attention.self.key.weight\", \"bert.encoder.layer.9.attention.self.key.bias\", \"bert.encoder.layer.9.attention.self.value.weight\", \"bert.encoder.layer.9.attention.self.value.bias\", \"bert.encoder.layer.9.attention.output.dense.weight\", \"bert.encoder.layer.9.attention.output.dense.bias\", \"bert.encoder.layer.9.attention.output.LayerNorm.weight\", \"bert.encoder.layer.9.attention.output.LayerNorm.bias\", \"bert.encoder.layer.9.intermediate.dense.weight\", \"bert.encoder.layer.9.intermediate.dense.bias\", \"bert.encoder.layer.9.output.dense.weight\", \"bert.encoder.layer.9.output.dense.bias\", \"bert.encoder.layer.9.output.LayerNorm.weight\", \"bert.encoder.layer.9.output.LayerNorm.bias\", \"bert.encoder.layer.9.output.adapters.ner.adapter_down.0.weight\", \"bert.encoder.layer.9.output.adapters.ner.adapter_down.0.bias\", \"bert.encoder.layer.9.output.adapters.ner.adapter_up.weight\", \"bert.encoder.layer.9.output.adapters.ner.adapter_up.bias\", \"bert.encoder.layer.10.attention.self.query.weight\", \"bert.encoder.layer.10.attention.self.query.bias\", \"bert.encoder.layer.10.attention.self.key.weight\", \"bert.encoder.layer.10.attention.self.key.bias\", \"bert.encoder.layer.10.attention.self.value.weight\", \"bert.encoder.layer.10.attention.self.value.bias\", \"bert.encoder.layer.10.attention.output.dense.weight\", \"bert.encoder.layer.10.attention.output.dense.bias\", \"bert.encoder.layer.10.attention.output.LayerNorm.weight\", \"bert.encoder.layer.10.attention.output.LayerNorm.bias\", \"bert.encoder.layer.10.intermediate.dense.weight\", \"bert.encoder.layer.10.intermediate.dense.bias\", \"bert.encoder.layer.10.output.dense.weight\", \"bert.encoder.layer.10.output.dense.bias\", \"bert.encoder.layer.10.output.LayerNorm.weight\", \"bert.encoder.layer.10.output.LayerNorm.bias\", \"bert.encoder.layer.10.output.adapters.ner.adapter_down.0.weight\", \"bert.encoder.layer.10.output.adapters.ner.adapter_down.0.bias\", \"bert.encoder.layer.10.output.adapters.ner.adapter_up.weight\", \"bert.encoder.layer.10.output.adapters.ner.adapter_up.bias\", \"bert.encoder.layer.11.attention.self.query.weight\", \"bert.encoder.layer.11.attention.self.query.bias\", \"bert.encoder.layer.11.attention.self.key.weight\", \"bert.encoder.layer.11.attention.self.key.bias\", \"bert.encoder.layer.11.attention.self.value.weight\", \"bert.encoder.layer.11.attention.self.value.bias\", \"bert.encoder.layer.11.attention.output.dense.weight\", \"bert.encoder.layer.11.attention.output.dense.bias\", \"bert.encoder.layer.11.attention.output.LayerNorm.weight\", \"bert.encoder.layer.11.attention.output.LayerNorm.bias\", \"bert.encoder.layer.11.intermediate.dense.weight\", \"bert.encoder.layer.11.intermediate.dense.bias\", \"bert.encoder.layer.11.output.dense.weight\", \"bert.encoder.layer.11.output.dense.bias\", \"bert.encoder.layer.11.output.LayerNorm.weight\", \"bert.encoder.layer.11.output.LayerNorm.bias\", \"classifier.weight\", \"classifier.bias\". "
     ]
    }
   ],
   "source": [
    "from transformers import BertModel, BertConfig\n",
    "\n",
    "BertFolder = '/home/info/MyNotebooks/Datasets/SentencasTRT1/ACP-Bert-LM/NER-ACP/outputs/NER-ACP_/ner/lr0.0001_bs8_epochs3_patience5_wamlmFalse_madx2True_houlsby_MHA_lastlayerFalse_dsFalse_fp16True_bestTrue_metricf1_weightedlossTrue_c0.3_nsTrue_adapterconfigpfeiffer/output_dir/checkpoint-2937/'\n",
    "\n",
    "bert_config = BertConfig.from_json_file(BertFolder+'config.json')\n",
    "model=BertModel(bert_config)\n",
    "\n",
    "model.load_state_dict(torch.load(BertFolder+'pytorch_model.bin'))"
   ]
  },
  {
   "cell_type": "code",
   "execution_count": null,
   "id": "61da8858",
   "metadata": {},
   "outputs": [],
   "source": [
    "'''\n",
    "RuntimeError                              Traceback (most recent call last)\n",
    "Input In [189], in <cell line: 8>()\n",
    "      5 bert_config = BertConfig.from_json_file(BertFolder+'config.json')\n",
    "      6 model=BertModel(bert_config)\n",
    "----> 8 model.load_state_dict(torch.load(BertFolder+'pytorch_model.bin'))\n",
    "\n",
    "1606 return _IncompatibleKeys(missing_keys, unexpected_keys)\n",
    "\n",
    "RuntimeError: Error(s) in loading state_dict for BertModel:\n",
    "\tMissing key(s) in state_dict: \"embeddings.position_ids\", \"embeddings.word_embeddings.weight\", \"embeddings.position_embeddings.weight\", \"embeddings.token_type_embeddings.weight\", \"embeddings.LayerNorm.weight\", \"embeddings.LayerNorm.bias\", \"encoder.layer.0.attention.self.query.weight\"\n",
    "    \n",
    "    \n",
    "\n",
    "'''"
   ]
  },
  {
   "cell_type": "code",
   "execution_count": null,
   "id": "96da6a8b",
   "metadata": {},
   "outputs": [],
   "source": []
  },
  {
   "cell_type": "markdown",
   "id": "f73ffb43",
   "metadata": {},
   "source": [
    "Active adapters"
   ]
  },
  {
   "cell_type": "code",
   "execution_count": 88,
   "id": "0becd486",
   "metadata": {},
   "outputs": [],
   "source": [
    "# Set the adapters to be used in every forward pass\n",
    "\n",
    "if lang_adapter_name:\n",
    "    model_ner.active_adapters = Stack(task_mlm_load_as, task_name)\n",
    "else:\n",
    "    model_ner.set_active_adapters(task_name)"
   ]
  },
  {
   "cell_type": "code",
   "execution_count": 89,
   "id": "f84e0ca9",
   "metadata": {},
   "outputs": [
    {
     "data": {
      "text/plain": [
       "BertForTokenClassification(\n",
       "  (shared_parameters): ModuleDict()\n",
       "  (bert): BertModel(\n",
       "    (shared_parameters): ModuleDict()\n",
       "    (invertible_adapters): ModuleDict()\n",
       "    (embeddings): BertEmbeddings(\n",
       "      (word_embeddings): Embedding(29794, 768, padding_idx=0)\n",
       "      (position_embeddings): Embedding(512, 768)\n",
       "      (token_type_embeddings): Embedding(2, 768)\n",
       "      (LayerNorm): LayerNorm((768,), eps=1e-12, elementwise_affine=True)\n",
       "      (dropout): Dropout(p=0.1, inplace=False)\n",
       "    )\n",
       "    (encoder): BertEncoder(\n",
       "      (layer): ModuleList(\n",
       "        (0): BertLayer(\n",
       "          (attention): BertAttention(\n",
       "            (self): BertSelfAttention(\n",
       "              (query): Linear(in_features=768, out_features=768, bias=True)\n",
       "              (key): Linear(in_features=768, out_features=768, bias=True)\n",
       "              (value): Linear(in_features=768, out_features=768, bias=True)\n",
       "              (dropout): Dropout(p=0.1, inplace=False)\n",
       "              (prefix_tuning): PrefixTuningShim(\n",
       "                (pool): PrefixTuningPool(\n",
       "                  (prefix_tunings): ModuleDict()\n",
       "                )\n",
       "              )\n",
       "            )\n",
       "            (output): BertSelfOutput(\n",
       "              (dense): Linear(in_features=768, out_features=768, bias=True)\n",
       "              (LayerNorm): LayerNorm((768,), eps=1e-12, elementwise_affine=True)\n",
       "              (dropout): Dropout(p=0.1, inplace=False)\n",
       "              (adapters): ModuleDict()\n",
       "              (adapter_fusion_layer): ModuleDict()\n",
       "            )\n",
       "          )\n",
       "          (intermediate): BertIntermediate(\n",
       "            (dense): Linear(in_features=768, out_features=3072, bias=True)\n",
       "            (intermediate_act_fn): GELUActivation()\n",
       "          )\n",
       "          (output): BertOutput(\n",
       "            (dense): Linear(in_features=3072, out_features=768, bias=True)\n",
       "            (LayerNorm): LayerNorm((768,), eps=1e-12, elementwise_affine=True)\n",
       "            (dropout): Dropout(p=0.1, inplace=False)\n",
       "            (adapters): ModuleDict()\n",
       "            (adapter_fusion_layer): ModuleDict()\n",
       "          )\n",
       "        )\n",
       "        (1): BertLayer(\n",
       "          (attention): BertAttention(\n",
       "            (self): BertSelfAttention(\n",
       "              (query): Linear(in_features=768, out_features=768, bias=True)\n",
       "              (key): Linear(in_features=768, out_features=768, bias=True)\n",
       "              (value): Linear(in_features=768, out_features=768, bias=True)\n",
       "              (dropout): Dropout(p=0.1, inplace=False)\n",
       "              (prefix_tuning): PrefixTuningShim(\n",
       "                (pool): PrefixTuningPool(\n",
       "                  (prefix_tunings): ModuleDict()\n",
       "                )\n",
       "              )\n",
       "            )\n",
       "            (output): BertSelfOutput(\n",
       "              (dense): Linear(in_features=768, out_features=768, bias=True)\n",
       "              (LayerNorm): LayerNorm((768,), eps=1e-12, elementwise_affine=True)\n",
       "              (dropout): Dropout(p=0.1, inplace=False)\n",
       "              (adapters): ModuleDict()\n",
       "              (adapter_fusion_layer): ModuleDict()\n",
       "            )\n",
       "          )\n",
       "          (intermediate): BertIntermediate(\n",
       "            (dense): Linear(in_features=768, out_features=3072, bias=True)\n",
       "            (intermediate_act_fn): GELUActivation()\n",
       "          )\n",
       "          (output): BertOutput(\n",
       "            (dense): Linear(in_features=3072, out_features=768, bias=True)\n",
       "            (LayerNorm): LayerNorm((768,), eps=1e-12, elementwise_affine=True)\n",
       "            (dropout): Dropout(p=0.1, inplace=False)\n",
       "            (adapters): ModuleDict()\n",
       "            (adapter_fusion_layer): ModuleDict()\n",
       "          )\n",
       "        )\n",
       "        (2): BertLayer(\n",
       "          (attention): BertAttention(\n",
       "            (self): BertSelfAttention(\n",
       "              (query): Linear(in_features=768, out_features=768, bias=True)\n",
       "              (key): Linear(in_features=768, out_features=768, bias=True)\n",
       "              (value): Linear(in_features=768, out_features=768, bias=True)\n",
       "              (dropout): Dropout(p=0.1, inplace=False)\n",
       "              (prefix_tuning): PrefixTuningShim(\n",
       "                (pool): PrefixTuningPool(\n",
       "                  (prefix_tunings): ModuleDict()\n",
       "                )\n",
       "              )\n",
       "            )\n",
       "            (output): BertSelfOutput(\n",
       "              (dense): Linear(in_features=768, out_features=768, bias=True)\n",
       "              (LayerNorm): LayerNorm((768,), eps=1e-12, elementwise_affine=True)\n",
       "              (dropout): Dropout(p=0.1, inplace=False)\n",
       "              (adapters): ModuleDict()\n",
       "              (adapter_fusion_layer): ModuleDict()\n",
       "            )\n",
       "          )\n",
       "          (intermediate): BertIntermediate(\n",
       "            (dense): Linear(in_features=768, out_features=3072, bias=True)\n",
       "            (intermediate_act_fn): GELUActivation()\n",
       "          )\n",
       "          (output): BertOutput(\n",
       "            (dense): Linear(in_features=3072, out_features=768, bias=True)\n",
       "            (LayerNorm): LayerNorm((768,), eps=1e-12, elementwise_affine=True)\n",
       "            (dropout): Dropout(p=0.1, inplace=False)\n",
       "            (adapters): ModuleDict()\n",
       "            (adapter_fusion_layer): ModuleDict()\n",
       "          )\n",
       "        )\n",
       "        (3): BertLayer(\n",
       "          (attention): BertAttention(\n",
       "            (self): BertSelfAttention(\n",
       "              (query): Linear(in_features=768, out_features=768, bias=True)\n",
       "              (key): Linear(in_features=768, out_features=768, bias=True)\n",
       "              (value): Linear(in_features=768, out_features=768, bias=True)\n",
       "              (dropout): Dropout(p=0.1, inplace=False)\n",
       "              (prefix_tuning): PrefixTuningShim(\n",
       "                (pool): PrefixTuningPool(\n",
       "                  (prefix_tunings): ModuleDict()\n",
       "                )\n",
       "              )\n",
       "            )\n",
       "            (output): BertSelfOutput(\n",
       "              (dense): Linear(in_features=768, out_features=768, bias=True)\n",
       "              (LayerNorm): LayerNorm((768,), eps=1e-12, elementwise_affine=True)\n",
       "              (dropout): Dropout(p=0.1, inplace=False)\n",
       "              (adapters): ModuleDict()\n",
       "              (adapter_fusion_layer): ModuleDict()\n",
       "            )\n",
       "          )\n",
       "          (intermediate): BertIntermediate(\n",
       "            (dense): Linear(in_features=768, out_features=3072, bias=True)\n",
       "            (intermediate_act_fn): GELUActivation()\n",
       "          )\n",
       "          (output): BertOutput(\n",
       "            (dense): Linear(in_features=3072, out_features=768, bias=True)\n",
       "            (LayerNorm): LayerNorm((768,), eps=1e-12, elementwise_affine=True)\n",
       "            (dropout): Dropout(p=0.1, inplace=False)\n",
       "            (adapters): ModuleDict()\n",
       "            (adapter_fusion_layer): ModuleDict()\n",
       "          )\n",
       "        )\n",
       "        (4): BertLayer(\n",
       "          (attention): BertAttention(\n",
       "            (self): BertSelfAttention(\n",
       "              (query): Linear(in_features=768, out_features=768, bias=True)\n",
       "              (key): Linear(in_features=768, out_features=768, bias=True)\n",
       "              (value): Linear(in_features=768, out_features=768, bias=True)\n",
       "              (dropout): Dropout(p=0.1, inplace=False)\n",
       "              (prefix_tuning): PrefixTuningShim(\n",
       "                (pool): PrefixTuningPool(\n",
       "                  (prefix_tunings): ModuleDict()\n",
       "                )\n",
       "              )\n",
       "            )\n",
       "            (output): BertSelfOutput(\n",
       "              (dense): Linear(in_features=768, out_features=768, bias=True)\n",
       "              (LayerNorm): LayerNorm((768,), eps=1e-12, elementwise_affine=True)\n",
       "              (dropout): Dropout(p=0.1, inplace=False)\n",
       "              (adapters): ModuleDict()\n",
       "              (adapter_fusion_layer): ModuleDict()\n",
       "            )\n",
       "          )\n",
       "          (intermediate): BertIntermediate(\n",
       "            (dense): Linear(in_features=768, out_features=3072, bias=True)\n",
       "            (intermediate_act_fn): GELUActivation()\n",
       "          )\n",
       "          (output): BertOutput(\n",
       "            (dense): Linear(in_features=3072, out_features=768, bias=True)\n",
       "            (LayerNorm): LayerNorm((768,), eps=1e-12, elementwise_affine=True)\n",
       "            (dropout): Dropout(p=0.1, inplace=False)\n",
       "            (adapters): ModuleDict()\n",
       "            (adapter_fusion_layer): ModuleDict()\n",
       "          )\n",
       "        )\n",
       "        (5): BertLayer(\n",
       "          (attention): BertAttention(\n",
       "            (self): BertSelfAttention(\n",
       "              (query): Linear(in_features=768, out_features=768, bias=True)\n",
       "              (key): Linear(in_features=768, out_features=768, bias=True)\n",
       "              (value): Linear(in_features=768, out_features=768, bias=True)\n",
       "              (dropout): Dropout(p=0.1, inplace=False)\n",
       "              (prefix_tuning): PrefixTuningShim(\n",
       "                (pool): PrefixTuningPool(\n",
       "                  (prefix_tunings): ModuleDict()\n",
       "                )\n",
       "              )\n",
       "            )\n",
       "            (output): BertSelfOutput(\n",
       "              (dense): Linear(in_features=768, out_features=768, bias=True)\n",
       "              (LayerNorm): LayerNorm((768,), eps=1e-12, elementwise_affine=True)\n",
       "              (dropout): Dropout(p=0.1, inplace=False)\n",
       "              (adapters): ModuleDict()\n",
       "              (adapter_fusion_layer): ModuleDict()\n",
       "            )\n",
       "          )\n",
       "          (intermediate): BertIntermediate(\n",
       "            (dense): Linear(in_features=768, out_features=3072, bias=True)\n",
       "            (intermediate_act_fn): GELUActivation()\n",
       "          )\n",
       "          (output): BertOutput(\n",
       "            (dense): Linear(in_features=3072, out_features=768, bias=True)\n",
       "            (LayerNorm): LayerNorm((768,), eps=1e-12, elementwise_affine=True)\n",
       "            (dropout): Dropout(p=0.1, inplace=False)\n",
       "            (adapters): ModuleDict()\n",
       "            (adapter_fusion_layer): ModuleDict()\n",
       "          )\n",
       "        )\n",
       "        (6): BertLayer(\n",
       "          (attention): BertAttention(\n",
       "            (self): BertSelfAttention(\n",
       "              (query): Linear(in_features=768, out_features=768, bias=True)\n",
       "              (key): Linear(in_features=768, out_features=768, bias=True)\n",
       "              (value): Linear(in_features=768, out_features=768, bias=True)\n",
       "              (dropout): Dropout(p=0.1, inplace=False)\n",
       "              (prefix_tuning): PrefixTuningShim(\n",
       "                (pool): PrefixTuningPool(\n",
       "                  (prefix_tunings): ModuleDict()\n",
       "                )\n",
       "              )\n",
       "            )\n",
       "            (output): BertSelfOutput(\n",
       "              (dense): Linear(in_features=768, out_features=768, bias=True)\n",
       "              (LayerNorm): LayerNorm((768,), eps=1e-12, elementwise_affine=True)\n",
       "              (dropout): Dropout(p=0.1, inplace=False)\n",
       "              (adapters): ModuleDict()\n",
       "              (adapter_fusion_layer): ModuleDict()\n",
       "            )\n",
       "          )\n",
       "          (intermediate): BertIntermediate(\n",
       "            (dense): Linear(in_features=768, out_features=3072, bias=True)\n",
       "            (intermediate_act_fn): GELUActivation()\n",
       "          )\n",
       "          (output): BertOutput(\n",
       "            (dense): Linear(in_features=3072, out_features=768, bias=True)\n",
       "            (LayerNorm): LayerNorm((768,), eps=1e-12, elementwise_affine=True)\n",
       "            (dropout): Dropout(p=0.1, inplace=False)\n",
       "            (adapters): ModuleDict()\n",
       "            (adapter_fusion_layer): ModuleDict()\n",
       "          )\n",
       "        )\n",
       "        (7): BertLayer(\n",
       "          (attention): BertAttention(\n",
       "            (self): BertSelfAttention(\n",
       "              (query): Linear(in_features=768, out_features=768, bias=True)\n",
       "              (key): Linear(in_features=768, out_features=768, bias=True)\n",
       "              (value): Linear(in_features=768, out_features=768, bias=True)\n",
       "              (dropout): Dropout(p=0.1, inplace=False)\n",
       "              (prefix_tuning): PrefixTuningShim(\n",
       "                (pool): PrefixTuningPool(\n",
       "                  (prefix_tunings): ModuleDict()\n",
       "                )\n",
       "              )\n",
       "            )\n",
       "            (output): BertSelfOutput(\n",
       "              (dense): Linear(in_features=768, out_features=768, bias=True)\n",
       "              (LayerNorm): LayerNorm((768,), eps=1e-12, elementwise_affine=True)\n",
       "              (dropout): Dropout(p=0.1, inplace=False)\n",
       "              (adapters): ModuleDict()\n",
       "              (adapter_fusion_layer): ModuleDict()\n",
       "            )\n",
       "          )\n",
       "          (intermediate): BertIntermediate(\n",
       "            (dense): Linear(in_features=768, out_features=3072, bias=True)\n",
       "            (intermediate_act_fn): GELUActivation()\n",
       "          )\n",
       "          (output): BertOutput(\n",
       "            (dense): Linear(in_features=3072, out_features=768, bias=True)\n",
       "            (LayerNorm): LayerNorm((768,), eps=1e-12, elementwise_affine=True)\n",
       "            (dropout): Dropout(p=0.1, inplace=False)\n",
       "            (adapters): ModuleDict()\n",
       "            (adapter_fusion_layer): ModuleDict()\n",
       "          )\n",
       "        )\n",
       "        (8): BertLayer(\n",
       "          (attention): BertAttention(\n",
       "            (self): BertSelfAttention(\n",
       "              (query): Linear(in_features=768, out_features=768, bias=True)\n",
       "              (key): Linear(in_features=768, out_features=768, bias=True)\n",
       "              (value): Linear(in_features=768, out_features=768, bias=True)\n",
       "              (dropout): Dropout(p=0.1, inplace=False)\n",
       "              (prefix_tuning): PrefixTuningShim(\n",
       "                (pool): PrefixTuningPool(\n",
       "                  (prefix_tunings): ModuleDict()\n",
       "                )\n",
       "              )\n",
       "            )\n",
       "            (output): BertSelfOutput(\n",
       "              (dense): Linear(in_features=768, out_features=768, bias=True)\n",
       "              (LayerNorm): LayerNorm((768,), eps=1e-12, elementwise_affine=True)\n",
       "              (dropout): Dropout(p=0.1, inplace=False)\n",
       "              (adapters): ModuleDict()\n",
       "              (adapter_fusion_layer): ModuleDict()\n",
       "            )\n",
       "          )\n",
       "          (intermediate): BertIntermediate(\n",
       "            (dense): Linear(in_features=768, out_features=3072, bias=True)\n",
       "            (intermediate_act_fn): GELUActivation()\n",
       "          )\n",
       "          (output): BertOutput(\n",
       "            (dense): Linear(in_features=3072, out_features=768, bias=True)\n",
       "            (LayerNorm): LayerNorm((768,), eps=1e-12, elementwise_affine=True)\n",
       "            (dropout): Dropout(p=0.1, inplace=False)\n",
       "            (adapters): ModuleDict()\n",
       "            (adapter_fusion_layer): ModuleDict()\n",
       "          )\n",
       "        )\n",
       "        (9): BertLayer(\n",
       "          (attention): BertAttention(\n",
       "            (self): BertSelfAttention(\n",
       "              (query): Linear(in_features=768, out_features=768, bias=True)\n",
       "              (key): Linear(in_features=768, out_features=768, bias=True)\n",
       "              (value): Linear(in_features=768, out_features=768, bias=True)\n",
       "              (dropout): Dropout(p=0.1, inplace=False)\n",
       "              (prefix_tuning): PrefixTuningShim(\n",
       "                (pool): PrefixTuningPool(\n",
       "                  (prefix_tunings): ModuleDict()\n",
       "                )\n",
       "              )\n",
       "            )\n",
       "            (output): BertSelfOutput(\n",
       "              (dense): Linear(in_features=768, out_features=768, bias=True)\n",
       "              (LayerNorm): LayerNorm((768,), eps=1e-12, elementwise_affine=True)\n",
       "              (dropout): Dropout(p=0.1, inplace=False)\n",
       "              (adapters): ModuleDict()\n",
       "              (adapter_fusion_layer): ModuleDict()\n",
       "            )\n",
       "          )\n",
       "          (intermediate): BertIntermediate(\n",
       "            (dense): Linear(in_features=768, out_features=3072, bias=True)\n",
       "            (intermediate_act_fn): GELUActivation()\n",
       "          )\n",
       "          (output): BertOutput(\n",
       "            (dense): Linear(in_features=3072, out_features=768, bias=True)\n",
       "            (LayerNorm): LayerNorm((768,), eps=1e-12, elementwise_affine=True)\n",
       "            (dropout): Dropout(p=0.1, inplace=False)\n",
       "            (adapters): ModuleDict()\n",
       "            (adapter_fusion_layer): ModuleDict()\n",
       "          )\n",
       "        )\n",
       "        (10): BertLayer(\n",
       "          (attention): BertAttention(\n",
       "            (self): BertSelfAttention(\n",
       "              (query): Linear(in_features=768, out_features=768, bias=True)\n",
       "              (key): Linear(in_features=768, out_features=768, bias=True)\n",
       "              (value): Linear(in_features=768, out_features=768, bias=True)\n",
       "              (dropout): Dropout(p=0.1, inplace=False)\n",
       "              (prefix_tuning): PrefixTuningShim(\n",
       "                (pool): PrefixTuningPool(\n",
       "                  (prefix_tunings): ModuleDict()\n",
       "                )\n",
       "              )\n",
       "            )\n",
       "            (output): BertSelfOutput(\n",
       "              (dense): Linear(in_features=768, out_features=768, bias=True)\n",
       "              (LayerNorm): LayerNorm((768,), eps=1e-12, elementwise_affine=True)\n",
       "              (dropout): Dropout(p=0.1, inplace=False)\n",
       "              (adapters): ModuleDict()\n",
       "              (adapter_fusion_layer): ModuleDict()\n",
       "            )\n",
       "          )\n",
       "          (intermediate): BertIntermediate(\n",
       "            (dense): Linear(in_features=768, out_features=3072, bias=True)\n",
       "            (intermediate_act_fn): GELUActivation()\n",
       "          )\n",
       "          (output): BertOutput(\n",
       "            (dense): Linear(in_features=3072, out_features=768, bias=True)\n",
       "            (LayerNorm): LayerNorm((768,), eps=1e-12, elementwise_affine=True)\n",
       "            (dropout): Dropout(p=0.1, inplace=False)\n",
       "            (adapters): ModuleDict()\n",
       "            (adapter_fusion_layer): ModuleDict()\n",
       "          )\n",
       "        )\n",
       "        (11): BertLayer(\n",
       "          (attention): BertAttention(\n",
       "            (self): BertSelfAttention(\n",
       "              (query): Linear(in_features=768, out_features=768, bias=True)\n",
       "              (key): Linear(in_features=768, out_features=768, bias=True)\n",
       "              (value): Linear(in_features=768, out_features=768, bias=True)\n",
       "              (dropout): Dropout(p=0.1, inplace=False)\n",
       "              (prefix_tuning): PrefixTuningShim(\n",
       "                (pool): PrefixTuningPool(\n",
       "                  (prefix_tunings): ModuleDict()\n",
       "                )\n",
       "              )\n",
       "            )\n",
       "            (output): BertSelfOutput(\n",
       "              (dense): Linear(in_features=768, out_features=768, bias=True)\n",
       "              (LayerNorm): LayerNorm((768,), eps=1e-12, elementwise_affine=True)\n",
       "              (dropout): Dropout(p=0.1, inplace=False)\n",
       "              (adapters): ModuleDict()\n",
       "              (adapter_fusion_layer): ModuleDict()\n",
       "            )\n",
       "          )\n",
       "          (intermediate): BertIntermediate(\n",
       "            (dense): Linear(in_features=768, out_features=3072, bias=True)\n",
       "            (intermediate_act_fn): GELUActivation()\n",
       "          )\n",
       "          (output): BertOutput(\n",
       "            (dense): Linear(in_features=3072, out_features=768, bias=True)\n",
       "            (LayerNorm): LayerNorm((768,), eps=1e-12, elementwise_affine=True)\n",
       "            (dropout): Dropout(p=0.1, inplace=False)\n",
       "            (adapters): ModuleDict()\n",
       "            (adapter_fusion_layer): ModuleDict()\n",
       "          )\n",
       "        )\n",
       "      )\n",
       "    )\n",
       "    (prefix_tuning): PrefixTuningPool(\n",
       "      (prefix_tunings): ModuleDict()\n",
       "    )\n",
       "  )\n",
       "  (dropout): Dropout(p=0.1, inplace=False)\n",
       "  (classifier): Linear(in_features=768, out_features=13, bias=True)\n",
       ")"
      ]
     },
     "execution_count": 89,
     "metadata": {},
     "output_type": "execute_result"
    }
   ],
   "source": [
    "model_ner"
   ]
  },
  {
   "cell_type": "markdown",
   "id": "a510496b",
   "metadata": {},
   "source": [
    "Prediction"
   ]
  },
  {
   "cell_type": "code",
   "execution_count": 110,
   "id": "6ce53a3e",
   "metadata": {},
   "outputs": [
    {
     "name": "stdout",
     "output_type": "stream",
     "text": [
      "None\n"
     ]
    }
   ],
   "source": [
    "print(lang_adapter_name)"
   ]
  },
  {
   "cell_type": "code",
   "execution_count": 107,
   "id": "4c0e3b9f",
   "metadata": {},
   "outputs": [],
   "source": [
    "# Fore: BLACK, RED, GREEN, YELLOW, BLUE, MAGENTA, CYAN, WHITE, RESET.\n",
    "# Back: BLACK, RED, GREEN, YELLOW, BLUE, MAGENTA, CYAN, WHITE, RESET.\n",
    "# Style: DIM, NORMAL, BRIGHT, RESET_ALL\n",
    "if dataset_name == \"LeNER-Br\":\n",
    "    color_map = {\n",
    "    0: 'WHITE',\n",
    "    1: 'CYAN',\n",
    "    2: 'CYAN',\n",
    "    3: 'BLUE',\n",
    "    4: 'BLUE',\n",
    "    5: 'YELLOW',\n",
    "    6: 'YELLOW',\n",
    "    7: 'MAGENTA',\n",
    "    8: 'MAGENTA',\n",
    "    9: 'RED',\n",
    "    10: 'RED',\n",
    "    11: 'GREEN',\n",
    "    12: 'GREEN'\n",
    "    }\n"
   ]
  },
  {
   "cell_type": "markdown",
   "id": "fd373eb3",
   "metadata": {},
   "source": [
    "Get list of subwords by word in the text."
   ]
  },
  {
   "cell_type": "code",
   "execution_count": 99,
   "id": "6bb431cb",
   "metadata": {},
   "outputs": [],
   "source": [
    "subwords_list = list()\n",
    "\n",
    "for text_dataset in texts_dataset:\n",
    "    tokens = tokenizer_ner.tokenize(text_dataset,return_tensors=\"pt\",add_special_tokens=False)\n",
    "\n",
    "    indices = list()\n",
    "    for i,token in enumerate(tokens):\n",
    "        if not token.startswith('##'):\n",
    "            indices.append(i)\n",
    "\n",
    "    subwords = list()\n",
    "    for i in range(len(indices)):\n",
    "        start = indices[i]\n",
    "\n",
    "        if i < len(indices) - 1:\n",
    "            end = indices[i+1]\n",
    "            subwords.append(list(range(start,end)))\n",
    "        else:\n",
    "            subwords.append([start])\n",
    "            \n",
    "    subwords_list.append(subwords)"
   ]
  },
  {
   "cell_type": "markdown",
   "id": "8fbada02",
   "metadata": {},
   "source": [
    "Get NER label for each subword."
   ]
  },
  {
   "cell_type": "code",
   "execution_count": 103,
   "id": "c02d41c3",
   "metadata": {},
   "outputs": [],
   "source": [
    "tokens_list = list()\n",
    "preds_list = list()\n",
    "\n",
    "for text_dataset in texts_dataset:\n",
    "    tokens = tokenizer_ner.encode(text_dataset,return_tensors=\"pt\",add_special_tokens=False)\n",
    "    model_ner.eval()\n",
    "\n",
    "    #preds = model_ner(tokens, adapter_names=['ner'])[0]\n",
    "    preds = model_ner(tokens)[0]\n",
    "    preds = preds.detach().numpy()\n",
    "    preds = np.argmax(preds, axis=2)\n",
    "\n",
    "    tokens, preds = tokenizer_ner.tokenize(text_dataset), preds[0].tolist()\n",
    "    tokens_list.append(tokens)\n",
    "    preds_list.append(preds)"
   ]
  },
  {
   "cell_type": "markdown",
   "id": "b7204611",
   "metadata": {},
   "source": [
    "Get NER label for each word."
   ]
  },
  {
   "cell_type": "code",
   "execution_count": 104,
   "id": "c4a3959c",
   "metadata": {},
   "outputs": [],
   "source": [
    "words_label_list = list()\n",
    "for i,subwords in enumerate(subwords_list):\n",
    "    words_label = list()\n",
    "    for subword in subwords:\n",
    "        words_label.append((tokenizer_ner.convert_tokens_to_string([tokens_list[i][idx] for idx in subword]), preds_list[i][subword[0]]))\n",
    "    words_label_list.append(words_label)"
   ]
  },
  {
   "cell_type": "code",
   "execution_count": 105,
   "id": "dd8e5c0a",
   "metadata": {},
   "outputs": [],
   "source": [
    "groups_pred_list = list()\n",
    "\n",
    "for words_label in words_label_list:\n",
    "    groups_pred = dict()\n",
    "    group = ''\n",
    "    group_label = ''\n",
    "    pred_prec = ''\n",
    "\n",
    "    i = 0\n",
    "    for word, pred in words_label:\n",
    "        if pred == 0: \n",
    "            if len(group) > 0:\n",
    "                groups_pred[group] = group_label\n",
    "                group = ''\n",
    "                group_label = ''\n",
    "\n",
    "            groups_pred[word] = pred  \n",
    "\n",
    "        elif pred in [1,3,5,7,9,11,13,15]:\n",
    "            if pred_prec in [0,1,3,5,7,9,11,13,15] and len(group) > 0:\n",
    "                groups_pred[group] = group_label\n",
    "                group = ''\n",
    "                group_label = ''  \n",
    "            group = word\n",
    "            group_label = pred\n",
    "            pred_prec = pred\n",
    "\n",
    "        elif pred in [2,4,6,8,10,12,14,16]:\n",
    "\n",
    "            if len(group) > 0:\n",
    "                group += ' ' + word\n",
    "            else:\n",
    "                group = word\n",
    "                group_label = pred\n",
    "\n",
    "        if i == len(words_label) - 1 and len(group) > 0:\n",
    "            groups_pred[group] = group_label\n",
    "            group = ''\n",
    "            group_label = ''\n",
    "\n",
    "        i += 1\n",
    "    groups_pred_list.append(groups_pred)"
   ]
  },
  {
   "cell_type": "code",
   "execution_count": null,
   "id": "097b100d",
   "metadata": {},
   "outputs": [],
   "source": []
  },
  {
   "cell_type": "code",
   "execution_count": 112,
   "id": "ba5510b9",
   "metadata": {},
   "outputs": [],
   "source": [
    "'''\n",
    "def predict(sentence):\n",
    "    tokens = tokenizer_ner.encode(\n",
    "        sentence,\n",
    "        return_tensors=\"pt\",\n",
    "    )\n",
    "    model_ner.eval()\n",
    "    preds = model_ner(tokens, adapter_names=['ner'])[0]\n",
    "    preds = preds.detach().numpy()\n",
    "    preds = np.argmax(preds, axis=2)\n",
    "    return tokenizer_ner.tokenize(sentence), preds.squeeze()[1:-1]\n",
    "    \n",
    "'''"
   ]
  },
  {
   "cell_type": "code",
   "execution_count": 118,
   "id": "25216a6e",
   "metadata": {},
   "outputs": [
    {
     "data": {
      "text/plain": [
       "'\\ntokens, preds = predict(text_dataset)\\nfor token, pred in zip(tokens, preds):\\n    print(f\"{token}({label_map[pred]}) \", end=\"\")\\n'"
      ]
     },
     "execution_count": 118,
     "metadata": {},
     "output_type": "execute_result"
    }
   ],
   "source": [
    "# get the mapping of ids to labels\n",
    "label_map = model_ner.get_labels_dict()\n",
    "#label_map = {i:label for i,label in enumerate(labels)}\n",
    "'''\n",
    "tokens, preds = predict(text_dataset)\n",
    "for token, pred in zip(tokens, preds):\n",
    "    print(f\"{token}({label_map[pred]}) \", end=\"\")\n",
    "'''"
   ]
  },
  {
   "cell_type": "markdown",
   "id": "0cad1075",
   "metadata": {},
   "source": [
    "Get NER label for each group of words."
   ]
  },
  {
   "cell_type": "code",
   "execution_count": 119,
   "id": "24bbc5c1",
   "metadata": {},
   "outputs": [
    {
     "data": {
      "text/plain": [
       "array([[-100,    0,    0, ..., -100, -100, -100],\n",
       "       [-100,    0,    0, ..., -100, -100, -100],\n",
       "       [-100,    0,    0, ..., -100, -100, -100],\n",
       "       ...,\n",
       "       [-100,    0,    0, ..., -100, -100, -100],\n",
       "       [-100,    0,   11, ..., -100, -100, -100],\n",
       "       [-100, -100, -100, ..., -100, -100, -100]])"
      ]
     },
     "execution_count": 119,
     "metadata": {},
     "output_type": "execute_result"
    }
   ],
   "source": [
    "labels"
   ]
  },
  {
   "cell_type": "code",
   "execution_count": 120,
   "id": "a92104b3",
   "metadata": {},
   "outputs": [
    {
     "name": "stdout",
     "output_type": "stream",
     "text": [
      "\n",
      "********** EXEMPLO 1 **********\n",
      "\n",
      "\u001b[30m\u001b[42mAcrescento\u001b[37m\u001b[40m (JURISPRUDENCIA)\u001b[0m que o \u001b[30m\u001b[42mJuiz\u001b[37m\u001b[40m (JURISPRUDENCIA)\u001b[0m \u001b[30m\u001b[44mPedro DA SILVA do\u001b[37m\u001b[40m (PESSOA)\u001b[0m \u001b[30m\u001b[46mtribunal\u001b[37m\u001b[40m (ORGANIZACAO)\u001b[0m \u001b[30m\u001b[46mSTF\u001b[37m\u001b[40m (ORGANIZACAO)\u001b[0m em Brasília ( Brasil ) reconheceu a limitação do pedido \u001b[30m\u001b[42múnico\u001b[37m\u001b[40m (JURISPRUDENCIA)\u001b[0m e , com base no \u001b[30m\u001b[41martigo 487\u001b[37m\u001b[40m (LEGISLACAO)\u001b[0m \u001b[30m\u001b[41minciso II\u001b[37m\u001b[40m (LEGISLACAO)\u001b[0m \u001b[30m\u001b[41mCódigo de Processo Civil\u001b[37m\u001b[40m (LEGISLACAO)\u001b[0m encerrou processo dia 3 \u001b[30m\u001b[43mde janeiro de 2014\u001b[37m\u001b[40m (TEMPO)\u001b[0m \u001b[30m\u001b[42mresolução\u001b[37m\u001b[40m (JURISPRUDENCIA)\u001b[0m \u001b[30m\u001b[42mmérito\u001b[37m\u001b[40m (JURISPRUDENCIA)\u001b[0m condenando autor às custas \u001b[30m\u001b[42mjudiciais\u001b[37m\u001b[40m (JURISPRUDENCIA)\u001b[0m advocatícias são \u001b[30m\u001b[42mfixadas\u001b[37m\u001b[40m (JURISPRUDENCIA)\u001b[0m 10 \u001b[30m\u001b[41m%\u001b[37m\u001b[40m (LEGISLACAO)\u001b[0m dez por cento valor da causa . \n",
      "\n",
      "Text without Named Entities:\n",
      " Acrescento que o Juiz Pedro DA SILVA do tribunal STF em Brasília (Brasil) reconheceu a limitação do pedido único e, com base no artigo 487, inciso II, do Código de Processo Civil, encerrou o processo no dia 3 de janeiro de 2014, com resolução do mérito, condenando o autor às custas judiciais e advocatícias, que são fixadas em 10% (dez por cento) do valor da causa.\n",
      "\n",
      "********** EXEMPLO 2 **********\n",
      "\n",
      "\u001b[30m\u001b[42mInsurge\u001b[37m\u001b[40m (JURISPRUDENCIA)\u001b[0m - se no \u001b[30m\u001b[42mapelo\u001b[37m\u001b[40m (JURISPRUDENCIA)\u001b[0m extremo contra acórdão proferido pelo \u001b[30m\u001b[46mSuperior\u001b[37m\u001b[40m (ORGANIZACAO)\u001b[0m \u001b[30m\u001b[46mTribunal Militar\u001b[37m\u001b[40m (ORGANIZACAO)\u001b[0m \u001b[30m\u001b[42mAgravo\u001b[37m\u001b[40m (JURISPRUDENCIA)\u001b[0m \u001b[30m\u001b[42mRegimental n° 222 -\u001b[37m\u001b[40m (JURISPRUDENCIA)\u001b[0m 73 \u001b[30m\u001b[42m. 2010 .\u001b[37m\u001b[40m (JURISPRUDENCIA)\u001b[0m 7 \u001b[30m\u001b[42m. 05 . 0005 / PR , assim do :\u001b[37m\u001b[40m (JURISPRUDENCIA)\u001b[0m \u001b[30m\u001b[42mDESERÇÃO .\u001b[37m\u001b[40m (JURISPRUDENCIA)\u001b[0m \n",
      "\n",
      "Text without Named Entities:\n",
      " Insurge-se no apelo extremo contra acórdão proferido pelo Superior Tribunal Militar no Agravo Regimental n° 222-73.2010.7.05.0005/PR, assim do: DESERÇÃO.\n",
      "\n",
      "Named Entities of the text:\n",
      " 'O', 'O', 'O', 'O', 'O', 'O', 'O', 'O', 'B-ORGANIZACAO', 'I-ORGANIZACAO', 'I-ORGANIZACAO', 'O', 'B-JURISPRUDENCIA', 'I-JURISPRUDENCIA', 'I-JURISPRUDENCIA', 'I-JURISPRUDENCIA', 'I-JURISPRUDENCIA', 'O', 'O', 'O', 'O', 'O', 'O'\n"
     ]
    }
   ],
   "source": [
    "for i,groups_pred in enumerate(groups_pred_list):\n",
    "    print(f'\\n********** EXEMPLO {i+1} **********\\n')\n",
    "    sentence_color = ''\n",
    "\n",
    "    count = 0\n",
    "    for word, pred in groups_pred.items():\n",
    "        COLORNAME = color_map[pred]\n",
    "        color_back = getattr(Back, COLORNAME)  \n",
    "\n",
    "        if pred == 0:\n",
    "            sentence_color += word + ' '\n",
    "        else:\n",
    "            sentence_color += Fore.BLACK + color_back +  word + Fore.WHITE + Back.BLACK + ' (' + label_map[pred].replace('B-','').replace('I-','') + ')' + Style.RESET_ALL + ' '\n",
    "    print(sentence_color)\n",
    "    print()\n",
    "    print('Text without Named Entities:\\n',texts_dataset[i])\n",
    "    if len(texts_labels[i]) > 0:\n",
    "        print('\\nNamed Entities of the text:\\n',texts_labels[i])"
   ]
  },
  {
   "cell_type": "markdown",
   "id": "91d8622f",
   "metadata": {},
   "source": [
    "We display an image of the precedent results in order to be visible in github.\n",
    "\n",
    "END."
   ]
  },
  {
   "cell_type": "code",
   "execution_count": null,
   "id": "7e3a1e4f",
   "metadata": {},
   "outputs": [],
   "source": []
  },
  {
   "cell_type": "code",
   "execution_count": null,
   "id": "029d20c2",
   "metadata": {},
   "outputs": [],
   "source": []
  },
  {
   "cell_type": "code",
   "execution_count": null,
   "id": "2e788521",
   "metadata": {},
   "outputs": [],
   "source": []
  },
  {
   "cell_type": "code",
   "execution_count": null,
   "id": "2a699e23",
   "metadata": {},
   "outputs": [],
   "source": []
  },
  {
   "cell_type": "code",
   "execution_count": null,
   "id": "051b7903",
   "metadata": {},
   "outputs": [],
   "source": [
    "# model.save_adapter(\"sciie_pfieffer_lang/\", \"tapt-pfeiffer\")"
   ]
  }
 ],
 "metadata": {
  "kernelspec": {
   "display_name": "Python 3 (ipykernel)",
   "language": "python",
   "name": "python3"
  },
  "language_info": {
   "codemirror_mode": {
    "name": "ipython",
    "version": 3
   },
   "file_extension": ".py",
   "mimetype": "text/x-python",
   "name": "python",
   "nbconvert_exporter": "python",
   "pygments_lexer": "ipython3",
   "version": "3.8.13"
  }
 },
 "nbformat": 4,
 "nbformat_minor": 5
}
